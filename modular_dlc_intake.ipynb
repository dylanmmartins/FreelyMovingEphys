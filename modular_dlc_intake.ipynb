{
 "cells": [
  {
   "cell_type": "markdown",
   "metadata": {},
   "source": [
    "# FreelyMovingEphys modular DeepLabCut data intake\n",
    "## modular_dlc_intake.ipynb\n",
    "\n",
    "DeepLabCut points and associated timestamps and videos are read in for any or no inputs of the possible camera types: world, eye, and topdown. Presently, modular_dlc_intake.ipynb will read in up to three topdown cameras, up to two world cameras, and up to two eye cameras. If any or all of the inpust are missing, the script should still run.\n",
    "\n",
    "This script, modular_dlc_intake.ipynb, is an alternative means of accessing the underlying functions to the more high-throughput terminal interface in dlc_intake.py.\n",
    "\n",
    "Last modified July 14, 2020"
   ]
  },
  {
   "cell_type": "code",
   "execution_count": null,
   "metadata": {},
   "outputs": [],
   "source": [
    "# module imports\n",
    "from nb_wrapper import topdown_intake, eye_intake\n",
    "from util.save_data import savetrial\n"
   ]
  },
  {
   "cell_type": "markdown",
   "metadata": {},
   "source": [
    "## global user inputs"
   ]
  },
  {
   "cell_type": "code",
   "execution_count": null,
   "metadata": {},
   "outputs": [],
   "source": [
    "# source for .avi videos, DLC .h5 files, and .csv timestamp files\n",
    "global_data_path = '/Users/dylanmartins/data/Niell/PreyCapture/Cohort3/J463c(blue)/110719/preened_set/'\n",
    "# path into which outputs will be saved (directory will be created if it does not already exist)\n",
    "global_save_path = '/Users/dylanmartins/data/Niell/PreyCapture/Cohort3Outputs/J463c(blue)_110719/jupyter_test_01/'\n",
    "# DLC likelihood threshold\n",
    "lik_thresh = 0.99\n",
    "# max number of pixels for radius of pupil\n",
    "pxl_thresh = 50\n",
    "# maximum ratio of ellipse shortaxis to longaxis\n",
    "ell_thresh = 0.90\n",
    "# value with which to correct y-coordinates in topdown view\n",
    "coord_cor = 0\n",
    "# number of labeled topdown DeepLabCut points (including points on cricket, if there is one)\n",
    "topdown_pt_num = 10\n",
    "# if there is a cricket in the tank as the last two DeepLabCut points (True/False)\n",
    "cricket = True\n",
    "# number of labeled eye camera points (including tear duct and back of eye, if those exist)\n",
    "eye_pt_num = 8\n",
    "# if there are eye points labeled for the tear duct and back of the eye (True/False)\n",
    "tear = False\n",
    "# use BonsaiTS timestamps (True) or FlirTS timestamps (False)\n",
    "bonsaitime = True\n"
   ]
  },
  {
   "cell_type": "markdown",
   "metadata": {},
   "source": [
    "## topdown views\n",
    "The topdown_intake function will read in a single topdown camera view's DLC data and videos, threshold the values based on likelihood, and save the data out.\n",
    "The function should be run on each camera seperately, and each output of topdown_intake should be saved with savex individually so that there is one .nc file for every topdown view (i.e. TOP1, TOP2, and TOP3).\n",
    "Do not include the file extension in the name string. The extensions '.avi', '_BonsaiTS.csv', and '.h5' will be added as needed."
   ]
  },
  {
   "cell_type": "code",
   "execution_count": null,
   "metadata": {},
   "outputs": [],
   "source": [
    "# the name of the file of topdown view, which should be shared between time, video, and DLC inputs\n",
    "# e.g. '070920_test1_EphysSaline_TOP1'\n",
    "top1 = '110719_J463c_cricket01clip03_TOP1'\n",
    "\n",
    "xtop1 = topdown_intake(global_data_path, top1, global_save_path, lik_thresh, coord_cor, topdown_pt_num, cricket, bonsaitime)\n"
   ]
  },
  {
   "cell_type": "markdown",
   "metadata": {},
   "source": [
    "Next, the outputs of the topdown_intake function can be saved. The videos will have already been saved within the function to the approriate directory. The returned DLC xarray object that is returned first out of the function is type None if no real DLC data was found. The line to save that object (below) will raise an error if it gets an obeject of type None."
   ]
  },
  {
   "cell_type": "code",
   "execution_count": null,
   "metadata": {},
   "outputs": [],
   "source": [
    "# save out topdown data and time files as .nc files\n",
    "savetrial(xtop1, global_save_path, top1, 'TOP1')\n"
   ]
  },
  {
   "cell_type": "markdown",
   "metadata": {},
   "source": [
    "## eyecam views\n",
    "The eye_intake function will read in a single eye's DLC data and videos, threshold by likeihood, get out ellipse paramaters including phi and theta, and save a video of the eye with the ellipse plotted on it.\n",
    "The function should be run on each eye camera seperately, and each output of eye_intake should be saved with savex individually so that there is one .nc file for both eye views (i.e. LEye and REye).\n",
    "Do not include the file extension in the name string. The extensions '.avi', '_BonsaiTS.csv', and '.h5' will be added as needed."
   ]
  },
  {
   "cell_type": "code",
   "execution_count": null,
   "metadata": {},
   "outputs": [],
   "source": [
    "# the name of the file of eye view, which should be shared between time, video, and DLC inputs\n",
    "LEye = '110719_J463c_cricket01clip03_LEye'\n",
    "REye = '110719_J463c_cricket01clip03_REye'\n",
    "\n",
    "xLEye = eye_intake(global_data_path, LEye, global_save_path, lik_thresh, pxl_thresh, ell_thresh, eye_pt_num, tear, bonsaitime)\n",
    "xREye = eye_intake(global_data_path, REye, global_save_path, lik_thresh, pxl_thresh, ell_thresh, eye_pt_num, tear, bonsaitime)\n"
   ]
  },
  {
   "cell_type": "markdown",
   "metadata": {},
   "source": [
    "Save out the point and time data, just as was done for the top views."
   ]
  },
  {
   "cell_type": "code",
   "execution_count": null,
   "metadata": {},
   "outputs": [],
   "source": [
    "# save out eye data and time files as .nc files\n",
    "savetrial(xLEye, global_save_path, LEye, 'LEye')\n",
    "savetrial(xREye, global_save_path, REye, 'REye')\n"
   ]
  },
  {
   "cell_type": "markdown",
   "metadata": {},
   "source": [
    "## worldcam views"
   ]
  },
  {
   "cell_type": "code",
   "execution_count": null,
   "metadata": {},
   "outputs": [],
   "source": []
  }
 ],
 "metadata": {
  "kernelspec": {
   "display_name": "fmephys",
   "language": "python",
   "name": "fmephys"
  },
  "language_info": {
   "codemirror_mode": {
    "name": "ipython",
    "version": 3
   },
   "file_extension": ".py",
   "mimetype": "text/x-python",
   "name": "python",
   "nbconvert_exporter": "python",
   "pygments_lexer": "ipython3",
   "version": "3.8.3"
  }
 },
 "nbformat": 4,
 "nbformat_minor": 4
}
