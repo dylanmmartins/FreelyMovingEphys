{
 "cells": [
  {
   "cell_type": "markdown",
   "metadata": {},
   "source": [
    "# FreelyMovingEphys modular DeepLabCut data intake\n",
    "## modular_dlc_intake.ipynb\n",
    "\n",
    "DeepLabCut points, associated timestamps, and videos are read in for any or no inputs of the possible camera types: world, eye, and topdown. Should use the 'fmephys' environment.\n",
    "\n",
    "This script, modular_dlc_intake.ipynb, is an alternative means of accessing the underlying functions to the more high-throughput terminal interface in dlc_intake.py.\n",
    "\n",
    "Last modified August 04, 2020"
   ]
  },
  {
   "cell_type": "markdown",
   "metadata": {},
   "source": [
    "## global user inputs"
   ]
  },
  {
   "cell_type": "markdown",
   "metadata": {},
   "source": [
    "### file paths"
   ]
  },
  {
   "cell_type": "code",
   "execution_count": null,
   "metadata": {},
   "outputs": [],
   "source": [
    "# source for .avi videos, DLC .h5 files, and .csv timestamp files\n",
    "global_data_path = '/Users/dylanmartins/Dropbox/sci_niell_lab/data/PreyCapture/WorldCamCohortruncsvDLCselect/'\n",
    "# path into which outputs will be saved (directory will be created if it does not already exist)\n",
    "global_save_path = '/Users/dylanmartins/local_workspace/analysis_outputs/PreyCapture/WorldCamOutputs/jupyterworld_test_06/'\n"
   ]
  },
  {
   "cell_type": "markdown",
   "metadata": {},
   "source": [
    "### trial info"
   ]
  },
  {
   "cell_type": "code",
   "execution_count": null,
   "metadata": {},
   "outputs": [],
   "source": [
    "# number of labeled topdown DeepLabCut points (including points on cricket, if there is one)\n",
    "topdown_pt_num = 10\n",
    "# if there is a cricket in the tank as the last two DeepLabCut points (True/False)\n",
    "cricket = True\n",
    "# number of labeled eye camera points (including tear duct and back of eye, if those exist)\n",
    "eye_pt_num = 8\n",
    "# if there are eye points labeled for the tear duct and back of the eye (True/False)\n",
    "tear = False\n",
    "# use BonsaiTS timestamps (True) or FlirTS timestamps (False)\n",
    "bonsaitime = True\n",
    "# name of trial to run on e.g. '070920_mouse01_test01' -- do not include the file extension in the name string, the extensions '.avi', '_BonsaiTS.csv', and '.h5' will be added as needed\n",
    "trial_name = '112619_J463b_cricket1clip2'\n",
    "# number of topdown cameras to read in; currently handles up to 3\n",
    "toptrial_count = 1\n",
    "# some parameters to find the pupil rotation\n",
    "ranger = 10\n",
    "world_interp_method = 'linear'\n"
   ]
  },
  {
   "cell_type": "markdown",
   "metadata": {},
   "source": [
    "### thresholding and saftey"
   ]
  },
  {
   "cell_type": "code",
   "execution_count": null,
   "metadata": {},
   "outputs": [],
   "source": [
    "# DLC likelihood threshold (default=0.99)\n",
    "lik_thresh = 0.99\n",
    "# max number of pixels for radius of pupil (default=50)\n",
    "pxl_thresh = 50\n",
    "# maximum ratio of ellipse shortaxis to longaxis (default=0.90)\n",
    "ell_thresh = 0.90\n",
    "# value with which to correct y-coordinates in topdown view (default=0)\n",
    "coord_cor = 0\n"
   ]
  },
  {
   "cell_type": "markdown",
   "metadata": {},
   "source": [
    "### module imports"
   ]
  },
  {
   "cell_type": "code",
   "execution_count": null,
   "metadata": {},
   "outputs": [],
   "source": [
    "from nb_wrapper import topdown_intake, eye_intake\n",
    "from util.save_data import savetrial\n",
    "from util.track_world import adjust_world, find_pupil_rotation\n"
   ]
  },
  {
   "cell_type": "markdown",
   "metadata": {},
   "source": [
    "## topdown tracking\n",
    "The topdown_intake function will read in a single topdown camera view's DLC data, timestamps, and videos, threshold the values based on likelihood in an xarray format, and save a video of the eye with the ellipse plotted on it.\n",
    "The function should be run on each camera seperately, and each output of topdown_intake should be saved with savetrial individually so that there is one .nc file for every topdown view (i.e. TOP1, TOP2, and TOP3)."
   ]
  },
  {
   "cell_type": "code",
   "execution_count": null,
   "metadata": {},
   "outputs": [],
   "source": [
    "# run topdown_intake\n",
    "for num in range(0,toptrial_count):\n",
    "    trialext = 'TOP' + str(num)\n",
    "    xtop = topdown_intake(global_data_path, top1, top_name, global_save_path, lik_thresh, coord_cor, topdown_pt_num, cricket, bonsaitime)\n",
    "    savetrial(xtop, global_save_path, trial_name, trialext)\n"
   ]
  },
  {
   "cell_type": "markdown",
   "metadata": {},
   "source": [
    "## eye tracking and worldcam adjustment\n",
    "The eye_intake function will read in a single eye's DLC data, timestamps, and videos, threshold by likeihood, get out ellipse paramaters including phi and theta, and save a video of the eye with the ellipse plotted on it.\n",
    "\n",
    "NOTE: corresponding eye view must be analyzed before running worldcam views."
   ]
  },
  {
   "cell_type": "markdown",
   "metadata": {},
   "source": [
    "### left eye"
   ]
  },
  {
   "cell_type": "code",
   "execution_count": null,
   "metadata": {},
   "outputs": [],
   "source": [
    "LEye = trial_name + '_LEye'\n",
    "\n",
    "# find ellipse parameters\n",
    "xLEye = eye_intake(global_data_path, LEye, 'LEye', global_save_path, lik_thresh, pxl_thresh, ell_thresh, eye_pt_num, tear, bonsaitime)\n",
    "savetrial(xLEye, global_save_path, trial_name, 'LEye')\n"
   ]
  },
  {
   "cell_type": "markdown",
   "metadata": {},
   "source": [
    "### right eye"
   ]
  },
  {
   "cell_type": "code",
   "execution_count": null,
   "metadata": {},
   "outputs": [],
   "source": [
    "REye = trial_name + '_REye'\n",
    "\n",
    "# find ellipse parameters\n",
    "xREye = eye_intake(global_data_path, REye, 'Reye', global_save_path, lik_thresh, pxl_thresh, ell_thresh, eye_pt_num, tear, bonsaitime)\n",
    "savetrial(xREye, global_save_path, trial_name, 'REye')\n"
   ]
  },
  {
   "cell_type": "markdown",
   "metadata": {},
   "source": [
    "### left world\n",
    "Has 'left eye' block been run already?"
   ]
  },
  {
   "cell_type": "code",
   "execution_count": null,
   "metadata": {},
   "outputs": [],
   "source": [
    "LWorld = trial_name + '_LWorld'\n",
    "\n",
    "# find pupil rotation\n",
    "find_pupil_rotation(global_data_path, file_name, 'LEye', 'TOP1', 'LWorld', xLEye, global_save_path)\n"
   ]
  },
  {
   "cell_type": "markdown",
   "metadata": {},
   "source": [
    "### right world\n",
    "Has 'right eye' block been run already?"
   ]
  },
  {
   "cell_type": "code",
   "execution_count": null,
   "metadata": {},
   "outputs": [],
   "source": [
    "# right world\n",
    "RWorld = trial_name + '_RWorld'\n",
    "\n",
    "find_pupil_rotation(global_data_path, trial_name, 'REye', 'TOP1', 'RWorld', xREye, global_save_path, world_interp_method, ranger)\n"
   ]
  },
  {
   "cell_type": "code",
   "execution_count": null,
   "metadata": {},
   "outputs": [],
   "source": [
    "# to test the new function, adjust world...\n",
    "adjust_world(global_data_path, file_name, eyeext, topext, worldext, xREye, global_save_path)"
   ]
  },
  {
   "cell_type": "code",
   "execution_count": null,
   "metadata": {},
   "outputs": [],
   "source": []
  }
 ],
 "metadata": {
  "kernelspec": {
   "display_name": "fmephys",
   "language": "python",
   "name": "fmephys"
  },
  "language_info": {
   "codemirror_mode": {
    "name": "ipython",
    "version": 3
   },
   "file_extension": ".py",
   "mimetype": "text/x-python",
   "name": "python",
   "nbconvert_exporter": "python",
   "pygments_lexer": "ipython3",
   "version": "3.8.3"
  }
 },
 "nbformat": 4,
 "nbformat_minor": 4
}
