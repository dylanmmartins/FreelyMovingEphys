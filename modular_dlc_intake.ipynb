{
 "cells": [
  {
   "cell_type": "markdown",
   "metadata": {},
   "source": [
    "# FreelyMovingEphys modular DeepLabCut data intake\n",
    "## modular_dlc_intake.ipynb\n",
    "\n",
    "DeepLabCut points and associated timestamps and videos are read in for any or no inputs of the possible camera types: world, eye, and topdown.\n",
    "\n",
    "This script, modular_dlc_intake.ipynb, is an alternative means of accessing the underlying functions to the more high-throughput terminal interface in dlc_intake.py\n",
    "\n",
    "Last modified July 10, 2020"
   ]
  },
  {
   "cell_type": "code",
   "execution_count": 1,
   "metadata": {},
   "outputs": [],
   "source": [
    "# module imports\n",
    "from nb_wrapper import topdown_intake, eye_intake\n",
    "from util.save_data import savetrial"
   ]
  },
  {
   "cell_type": "markdown",
   "metadata": {},
   "source": [
    "## global user inputs"
   ]
  },
  {
   "cell_type": "code",
   "execution_count": 2,
   "metadata": {},
   "outputs": [],
   "source": [
    "# source for .avi videos, DLC .h5 files, and .csv timestamp files\n",
    "global_data_path = '/home/dylan/data/Niell/FreelyMovingEphys/tests/070920/test1/'\n",
    "# path into which outputs will be saved\n",
    "global_save_path = '/home/dylan/data/Niell/FreelyMovingEphys/outputs/tests/070920/test1/run1/'\n",
    "# DLC likelihood threshold\n",
    "lik_thresh = 0.99\n",
    "# max number of pixels for radius of pupil\n",
    "pxl_thresh = 50\n",
    "# maximum ratio of ellipse shortaxis to longaxis\n",
    "ell_thresh = 0.90\n",
    "# value with which to correct y-coordinates in topdown view\n",
    "coord_cor = 0\n",
    "# number of labeled topdown DeepLabCut points (including points on cricket, if there is one)\n",
    "topdown_pt_num = 10\n",
    "# if there is a cricket in the tank as the last two DeepLabCut points (True/False)\n",
    "cricket = True\n",
    "# number of labeled eye camera points (including tear duct and back of eye, if those exist)\n",
    "eye_pt_num = 8\n",
    "# if there are eye points labeled for the tear duct and back of the eye (True/False)\n",
    "tear = False\n",
    "# use BonsaiTS timestamps (True) or FlirTS timestamps (False)\n",
    "bonsaitime = True"
   ]
  },
  {
   "cell_type": "markdown",
   "metadata": {},
   "source": [
    "## topdown views\n",
    "The topdown_intake function will read in a single topdown camera view's DLC data and videos, threshold the values based on likelihood, and save the data out.\n",
    "The function should be run on each camera seperately, and each output of topdown_intake should be saved with savex individually so that there is one .nc file for every topdown view (i.e. TOP1, TOP2, and TOP3).\n",
    "Do not include the file extension in the name string. The extensions '.avi', '_BonsaiTS.csv', and '.h5' will be added as needed."
   ]
  },
  {
   "cell_type": "code",
   "execution_count": 3,
   "metadata": {},
   "outputs": [
    {
     "name": "stdout",
     "output_type": "stream",
     "text": [
      "missing DLC file\n"
     ]
    },
    {
     "ename": "AttributeError",
     "evalue": "'NoneType' object has no attribute 'to_netcdf'",
     "output_type": "error",
     "traceback": [
      "\u001b[0;31m---------------------------------------------------------------------------\u001b[0m",
      "\u001b[0;31mAttributeError\u001b[0m                            Traceback (most recent call last)",
      "\u001b[0;32m<ipython-input-3-4060339fd039>\u001b[0m in \u001b[0;36m<module>\u001b[0;34m\u001b[0m\n\u001b[1;32m      6\u001b[0m \u001b[0;34m\u001b[0m\u001b[0m\n\u001b[1;32m      7\u001b[0m \u001b[0;31m# make one Dataset for each viewpoint\u001b[0m\u001b[0;34m\u001b[0m\u001b[0;34m\u001b[0m\u001b[0;34m\u001b[0m\u001b[0m\n\u001b[0;32m----> 8\u001b[0;31m \u001b[0msavex\u001b[0m\u001b[0;34m(\u001b[0m\u001b[0mxtop1\u001b[0m\u001b[0;34m,\u001b[0m \u001b[0mglobal_save_path\u001b[0m\u001b[0;34m,\u001b[0m \u001b[0mtopdown1\u001b[0m\u001b[0;34m,\u001b[0m \u001b[0;34m'TOP1'\u001b[0m\u001b[0;34m)\u001b[0m\u001b[0;34m\u001b[0m\u001b[0;34m\u001b[0m\u001b[0m\n\u001b[0m\u001b[1;32m      9\u001b[0m \u001b[0msavex\u001b[0m\u001b[0;34m(\u001b[0m\u001b[0mxtopTS1\u001b[0m\u001b[0;34m,\u001b[0m \u001b[0mglobal_save_path\u001b[0m\u001b[0;34m,\u001b[0m \u001b[0mtopdown1\u001b[0m\u001b[0;34m,\u001b[0m \u001b[0;34m'TOP1time'\u001b[0m\u001b[0;34m)\u001b[0m\u001b[0;34m\u001b[0m\u001b[0;34m\u001b[0m\u001b[0m\n",
      "\u001b[0;32m~/code/FreelyMovingEphys/util/save_data.py\u001b[0m in \u001b[0;36msavex\u001b[0;34m(data, path, name, camtype)\u001b[0m\n\u001b[1;32m     15\u001b[0m     \u001b[0;32mif\u001b[0m \u001b[0;32mnot\u001b[0m \u001b[0mos\u001b[0m\u001b[0;34m.\u001b[0m\u001b[0mpath\u001b[0m\u001b[0;34m.\u001b[0m\u001b[0mexists\u001b[0m\u001b[0;34m(\u001b[0m\u001b[0mdir\u001b[0m\u001b[0;34m)\u001b[0m\u001b[0;34m:\u001b[0m\u001b[0;34m\u001b[0m\u001b[0;34m\u001b[0m\u001b[0m\n\u001b[1;32m     16\u001b[0m         \u001b[0mos\u001b[0m\u001b[0;34m.\u001b[0m\u001b[0mmakedirs\u001b[0m\u001b[0;34m(\u001b[0m\u001b[0mdir\u001b[0m\u001b[0;34m)\u001b[0m\u001b[0;34m\u001b[0m\u001b[0;34m\u001b[0m\u001b[0m\n\u001b[0;32m---> 17\u001b[0;31m     \u001b[0mdata\u001b[0m\u001b[0;34m.\u001b[0m\u001b[0mto_netcdf\u001b[0m\u001b[0;34m(\u001b[0m\u001b[0mos\u001b[0m\u001b[0;34m.\u001b[0m\u001b[0mpath\u001b[0m\u001b[0;34m.\u001b[0m\u001b[0mjoin\u001b[0m\u001b[0;34m(\u001b[0m\u001b[0mdir\u001b[0m\u001b[0;34m,\u001b[0m \u001b[0mstr\u001b[0m\u001b[0;34m(\u001b[0m\u001b[0mname\u001b[0m \u001b[0;34m+\u001b[0m \u001b[0;34m'_'\u001b[0m \u001b[0;34m+\u001b[0m \u001b[0mcamtype\u001b[0m \u001b[0;34m+\u001b[0m \u001b[0;34m'.nc'\u001b[0m\u001b[0;34m)\u001b[0m\u001b[0;34m)\u001b[0m\u001b[0;34m)\u001b[0m\u001b[0;34m\u001b[0m\u001b[0;34m\u001b[0m\u001b[0m\n\u001b[0m",
      "\u001b[0;31mAttributeError\u001b[0m: 'NoneType' object has no attribute 'to_netcdf'"
     ]
    }
   ],
   "source": [
    "# the name of the file of topdown view, which should be shared between time, video, and DLC inputs\n",
    "# e.g. '070920_test1_EphysSaline_TOP1'\n",
    "topdown1 = '070920_test1_EphysSaline_TOP1'\n",
    "\n",
    "xtop1, xtopTS1 = topdown_intake(global_data_path, topdown1, global_save_path, lik_thresh, coord_cor, topdown_pt_num, cricket, bonsaitime)"
   ]
  },
  {
   "cell_type": "markdown",
   "metadata": {},
   "source": [
    "Next, the outputs of the topdown_intake function can be saved. The videos will have already been saved within the function to the approriate directory. The returned DLC xarray object that is returned first out of the function is type None if no real DLC data was found. The line to save that object (below) will raise an error if it gets an obeject of type None. The same is true of the time object, which cannot be saved when it is None."
   ]
  },
  {
   "cell_type": "code",
   "execution_count": null,
   "metadata": {},
   "outputs": [],
   "source": [
    "# make one Dataset for each viewpoint\n",
    "savetrial(xtop1, global_save_path, topdown1, 'TOP1')\n",
    "savetrial(xtopTS1, global_save_path, topdown1, 'TOP1time')"
   ]
  },
  {
   "cell_type": "markdown",
   "metadata": {},
   "source": [
    "## eyecam views\n",
    "The eye_intake function will read in a single eye's DLC data and videos, threshold by likeihood, get out ellipse paramaters including phi and theta, and save a video of the eye with the ellipse plotted on it."
   ]
  },
  {
   "cell_type": "code",
   "execution_count": null,
   "metadata": {},
   "outputs": [],
   "source": [
    "# the name of the file of eye view, which should be shared between time, video, and DLC inputs\n",
    "eyeL = '010120_mouse1_experiment1_LEye'\n",
    "\n",
    "xeyeL = eye_intake(global_data_path, eyeL, global_save_path, lik_thresh, pxl_thresh, ell_thresh, eye_pt_num, tear, bonsaitime)"
   ]
  },
  {
   "cell_type": "markdown",
   "metadata": {},
   "source": [
    "## worldcam views"
   ]
  },
  {
   "cell_type": "code",
   "execution_count": null,
   "metadata": {},
   "outputs": [],
   "source": []
  }
 ],
 "metadata": {
  "kernelspec": {
   "display_name": "fmephys",
   "language": "python",
   "name": "fmephys"
  },
  "language_info": {
   "codemirror_mode": {
    "name": "ipython",
    "version": 3
   },
   "file_extension": ".py",
   "mimetype": "text/x-python",
   "name": "python",
   "nbconvert_exporter": "python",
   "pygments_lexer": "ipython3",
   "version": "3.8.3"
  }
 },
 "nbformat": 4,
 "nbformat_minor": 4
}
