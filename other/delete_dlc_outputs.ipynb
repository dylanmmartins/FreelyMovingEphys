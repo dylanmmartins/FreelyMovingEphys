{
 "cells": [
  {
   "cell_type": "code",
   "execution_count": 1,
   "metadata": {},
   "outputs": [],
   "source": [
    "# delete old DLC files in directory\n",
    "# DLC will skip any videos that have already been analyzed\n",
    "# this removes any existing .h5 and .pickle files so that new ones can be made"
   ]
  },
  {
   "cell_type": "code",
   "execution_count": 2,
   "metadata": {},
   "outputs": [],
   "source": [
    "experiment_path = r'T:/freely_moving_ephys/ephys_recordings/111920/G6H28P5LT'"
   ]
  },
  {
   "cell_type": "code",
   "execution_count": 3,
   "metadata": {},
   "outputs": [],
   "source": [
    "# package imports\n",
    "import pandas as pd\n",
    "import numpy as np\n",
    "import xarray as xr\n",
    "from glob import glob\n",
    "import os\n",
    "import fnmatch\n",
    "import dateutil\n",
    "import cv2\n",
    "from tqdm import tqdm\n",
    "from datetime import datetime\n",
    "import time\n",
    "import argparse\n",
    "\n",
    "# glob for subdirectories\n",
    "def find(pattern, path):\n",
    "    result = [] # initialize the list as empty\n",
    "    for root, dirs, files in os.walk(path): # walk though the path directory, and files\n",
    "        for name in files:  # walk to the file in the directory\n",
    "            if fnmatch.fnmatch(name,pattern):  # if the file matches the filetype append to list\n",
    "                result.append(os.path.join(root,name))\n",
    "    return result # return full list of file of a given type"
   ]
  },
  {
   "cell_type": "code",
   "execution_count": 4,
   "metadata": {},
   "outputs": [
    {
     "name": "stdout",
     "output_type": "stream",
     "text": [
      "['T:/freely_moving_ephys/ephys_recordings/111920/G6H28P5LT\\\\fm1\\\\111920_G6H28P5LT_fm1_REYEdeinterDLC_resnet50_EyeCamTestingJul7shuffle1_50000.h5', 'T:/freely_moving_ephys/ephys_recordings/111920/G6H28P5LT\\\\fm1\\\\111920_G6H28P5LT_fm1_TOP1DLC_resnet50_FreelyMovingTOP_wGearOct8shuffle1_50000.h5', 'T:/freely_moving_ephys/ephys_recordings/111920/G6H28P5LT\\\\hf1\\\\111920_G6H28P5LT_hf1_REYEdeinterDLC_resnet50_EyeCamTestingJul7shuffle1_50000.h5', 'T:/freely_moving_ephys/ephys_recordings/111920/G6H28P5LT\\\\hf2_IRspot\\\\111920_G6H28P5LT_hf2_IRspot_REYEdeinterDLC_resnet50_EyeCamTestingJul7shuffle1_50000.h5']\n",
      "['T:/freely_moving_ephys/ephys_recordings/111920/G6H28P5LT\\\\fm1\\\\111920_G6H28P5LT_fm1_REYEdeinterDLC_resnet50_EyeCamTestingJul7shuffle1_50000_meta.pickle', 'T:/freely_moving_ephys/ephys_recordings/111920/G6H28P5LT\\\\fm1\\\\111920_G6H28P5LT_fm1_TOP1DLC_resnet50_FreelyMovingTOP_wGearOct8shuffle1_50000_meta.pickle', 'T:/freely_moving_ephys/ephys_recordings/111920/G6H28P5LT\\\\hf1\\\\111920_G6H28P5LT_hf1_REYEdeinterDLC_resnet50_EyeCamTestingJul7shuffle1_50000_meta.pickle', 'T:/freely_moving_ephys/ephys_recordings/111920/G6H28P5LT\\\\hf2_IRspot\\\\111920_G6H28P5LT_hf2_IRspot_REYEdeinterDLC_resnet50_EyeCamTestingJul7shuffle1_50000_meta.pickle']\n"
     ]
    }
   ],
   "source": [
    "h5_list = find('*.h5',experiment_path)\n",
    "pickle_list = find('*.pickle',experiment_path)\n",
    "print(h5_list)\n",
    "print(pickle_list)"
   ]
  },
  {
   "cell_type": "code",
   "execution_count": 5,
   "metadata": {},
   "outputs": [],
   "source": [
    "file_list = h5_list + pickle_list"
   ]
  },
  {
   "cell_type": "code",
   "execution_count": 6,
   "metadata": {},
   "outputs": [
    {
     "data": {
      "text/plain": [
       "8"
      ]
     },
     "execution_count": 6,
     "metadata": {},
     "output_type": "execute_result"
    }
   ],
   "source": [
    "len(file_list)"
   ]
  },
  {
   "cell_type": "code",
   "execution_count": 7,
   "metadata": {},
   "outputs": [
    {
     "name": "stdout",
     "output_type": "stream",
     "text": [
      "removed T:/freely_moving_ephys/ephys_recordings/111920/G6H28P5LT\\fm1\\111920_G6H28P5LT_fm1_REYEdeinterDLC_resnet50_EyeCamTestingJul7shuffle1_50000.h5\n",
      "removed T:/freely_moving_ephys/ephys_recordings/111920/G6H28P5LT\\fm1\\111920_G6H28P5LT_fm1_TOP1DLC_resnet50_FreelyMovingTOP_wGearOct8shuffle1_50000.h5\n",
      "removed T:/freely_moving_ephys/ephys_recordings/111920/G6H28P5LT\\hf1\\111920_G6H28P5LT_hf1_REYEdeinterDLC_resnet50_EyeCamTestingJul7shuffle1_50000.h5\n",
      "removed T:/freely_moving_ephys/ephys_recordings/111920/G6H28P5LT\\hf2_IRspot\\111920_G6H28P5LT_hf2_IRspot_REYEdeinterDLC_resnet50_EyeCamTestingJul7shuffle1_50000.h5\n",
      "removed T:/freely_moving_ephys/ephys_recordings/111920/G6H28P5LT\\fm1\\111920_G6H28P5LT_fm1_REYEdeinterDLC_resnet50_EyeCamTestingJul7shuffle1_50000_meta.pickle\n",
      "removed T:/freely_moving_ephys/ephys_recordings/111920/G6H28P5LT\\fm1\\111920_G6H28P5LT_fm1_TOP1DLC_resnet50_FreelyMovingTOP_wGearOct8shuffle1_50000_meta.pickle\n",
      "removed T:/freely_moving_ephys/ephys_recordings/111920/G6H28P5LT\\hf1\\111920_G6H28P5LT_hf1_REYEdeinterDLC_resnet50_EyeCamTestingJul7shuffle1_50000_meta.pickle\n",
      "removed T:/freely_moving_ephys/ephys_recordings/111920/G6H28P5LT\\hf2_IRspot\\111920_G6H28P5LT_hf2_IRspot_REYEdeinterDLC_resnet50_EyeCamTestingJul7shuffle1_50000_meta.pickle\n"
     ]
    }
   ],
   "source": [
    "for item in file_list:\n",
    "    os.remove(item)\n",
    "    print('removed ' + item)"
   ]
  },
  {
   "cell_type": "code",
   "execution_count": null,
   "metadata": {},
   "outputs": [],
   "source": []
  }
 ],
 "metadata": {
  "kernelspec": {
   "display_name": "Python [conda env:.conda-DLC-GPU2]",
   "language": "python",
   "name": "conda-env-.conda-DLC-GPU2-py"
  },
  "language_info": {
   "codemirror_mode": {
    "name": "ipython",
    "version": 3
   },
   "file_extension": ".py",
   "mimetype": "text/x-python",
   "name": "python",
   "nbconvert_exporter": "python",
   "pygments_lexer": "ipython3",
   "version": "3.7.9"
  }
 },
 "nbformat": 4,
 "nbformat_minor": 4
}
