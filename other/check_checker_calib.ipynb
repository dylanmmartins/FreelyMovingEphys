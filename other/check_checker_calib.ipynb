{
 "cells": [
  {
   "cell_type": "code",
   "execution_count": 1,
   "metadata": {},
   "outputs": [],
   "source": [
    "# see how well the checkerboard calibration corrects videos\n",
    "# Dec. 29, 2020"
   ]
  },
  {
   "cell_type": "code",
   "execution_count": 6,
   "metadata": {},
   "outputs": [],
   "source": [
    "import cv2\n",
    "import numpy as np\n",
    "from tqdm import tqdm"
   ]
  },
  {
   "cell_type": "code",
   "execution_count": 4,
   "metadata": {},
   "outputs": [],
   "source": [
    "deinter_vid = r'G:\\freely_moving_ephys\\pipeline_example_Dec19\\101420\\G6H28P6LT\\fm1\\101420_G6H28P6LT_fm1_WORLDdeinter.avi'\n",
    "calib_vid = r'G:\\freely_moving_ephys\\pipeline_example_Dec19\\101420\\G6H28P6LT\\fm1\\101420_G6H28P6LT_fm1_WORLDcalib.avi'\n",
    "\n",
    "savepath = r'G:\\freely_moving_ephys\\pipeline_example_Dec19\\101420\\calibration_check.avi'"
   ]
  },
  {
   "cell_type": "code",
   "execution_count": 7,
   "metadata": {},
   "outputs": [
    {
     "name": "stderr",
     "output_type": "stream",
     "text": [
      "100%|█████████████████████████████████████████████████████████████████████████| 124870/124870 [18:30<00:00, 112.48it/s]\n"
     ]
    }
   ],
   "source": [
    "capD = cv2.VideoCapture(deinter_vid)\n",
    "capC = cv2.VideoCapture(calib_vid)\n",
    "fourcc = cv2.VideoWriter_fourcc(*'XVID')\n",
    "out_vid = cv2.VideoWriter(savepath, fourcc, 60.0, (int(capD.get(cv2.CAP_PROP_FRAME_WIDTH))*2, int(capD.get(cv2.CAP_PROP_FRAME_HEIGHT))))\n",
    "for step in tqdm(range(0,int(capD.get(cv2.CAP_PROP_FRAME_COUNT)))):\n",
    "    retD, frameD = capD.read()\n",
    "    retC, frameC = capC.read()\n",
    "    if not retD or not retC:\n",
    "        break\n",
    "    frame_stitch = np.concatenate([frameD,frameC],axis=1)\n",
    "    out_vid.write(frame_stitch)\n",
    "out_vid.release()"
   ]
  },
  {
   "cell_type": "code",
   "execution_count": null,
   "metadata": {},
   "outputs": [],
   "source": []
  }
 ],
 "metadata": {
  "kernelspec": {
   "display_name": "Python [conda env:.conda-DLC-GPU2]",
   "language": "python",
   "name": "conda-env-.conda-DLC-GPU2-py"
  },
  "language_info": {
   "codemirror_mode": {
    "name": "ipython",
    "version": 3
   },
   "file_extension": ".py",
   "mimetype": "text/x-python",
   "name": "python",
   "nbconvert_exporter": "python",
   "pygments_lexer": "ipython3",
   "version": "3.7.9"
  }
 },
 "nbformat": 4,
 "nbformat_minor": 4
}
