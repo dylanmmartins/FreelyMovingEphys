{
 "cells": [
  {
   "cell_type": "markdown",
   "metadata": {},
   "source": [
    "# review outputs of anlaysis pipeline\n",
    "## check_pipeline_outputs.ipynb\n",
    "\n",
    "This script will open the .json config file used to run the analysis pipeline and the data saved out from the pipeline as .nc files. This notebook also has some examples of how to select data out of the xarray structures opened from .nc files. User only needs to enter a path to the .json config file used and the .nc files will be found from the save-path contained therein. Run this in the ```fmephys``` environment.\n",
    "\n",
    "Last modified September 07, 2020"
   ]
  },
  {
   "cell_type": "code",
   "execution_count": null,
   "metadata": {},
   "outputs": [],
   "source": [
    "import os.path\n",
    "import xarray as xr\n",
    "import pandas as pd\n",
    "import json"
   ]
  },
  {
   "cell_type": "markdown",
   "metadata": {},
   "source": [
    "## user inputs"
   ]
  },
  {
   "cell_type": "code",
   "execution_count": null,
   "metadata": {},
   "outputs": [],
   "source": [
    "json_config_path = '/path/to/pipeline_config.json'"
   ]
  },
  {
   "cell_type": "markdown",
   "metadata": {},
   "source": [
    "## pipeline outputs"
   ]
  },
  {
   "cell_type": "markdown",
   "metadata": {},
   "source": [
    "### open config file"
   ]
  },
  {
   "cell_type": "code",
   "execution_count": null,
   "metadata": {},
   "outputs": [],
   "source": [
    "with open(json_config_path, 'r') as fp:\n",
    "    config = json.load(fp)\n",
    "config"
   ]
  },
  {
   "cell_type": "markdown",
   "metadata": {},
   "source": [
    "### top parameters and properties"
   ]
  },
  {
   "cell_type": "code",
   "execution_count": null,
   "metadata": {},
   "outputs": [],
   "source": [
    "top_nc_path = os.path.join(config['save_path'], 'tops.nc')\n",
    "top_data = xr.open_dataset(top_nc_path)\n",
    "top_data"
   ]
  },
  {
   "cell_type": "code",
   "execution_count": null,
   "metadata": {},
   "outputs": [],
   "source": [
    "# pull out original DeepLabCut points\n",
    "top_dlc = top_data['top_dlc_pts']"
   ]
  },
  {
   "cell_type": "code",
   "execution_count": null,
   "metadata": {},
   "outputs": [],
   "source": [
    "# pull out head theta\n",
    "top_angle = top_data['top_head_theta']"
   ]
  },
  {
   "cell_type": "code",
   "execution_count": null,
   "metadata": {},
   "outputs": [],
   "source": [
    "# pull out mouse (and cricket if present) properties\n",
    "top_props = top_data['top_properties']"
   ]
  },
  {
   "cell_type": "markdown",
   "metadata": {},
   "source": [
    "### eye parameters and properties"
   ]
  },
  {
   "cell_type": "code",
   "execution_count": null,
   "metadata": {
    "scrolled": true
   },
   "outputs": [],
   "source": [
    "eye_nc_path = os.path.join(config['save_path'], 'eyes.nc')\n",
    "eye_data = xr.open_dataset(eye_nc_path)\n",
    "eye_data = eye_data.assign_coords({'frame':[int(i) for i in eye_data['frame'].values]})\n",
    "eye_data"
   ]
  },
  {
   "cell_type": "code",
   "execution_count": null,
   "metadata": {},
   "outputs": [],
   "source": [
    "# pull out the original DeepLabCut points\n",
    "eye_dlc = eye_data['eye_dlc_pts']"
   ]
  },
  {
   "cell_type": "code",
   "execution_count": null,
   "metadata": {},
   "outputs": [],
   "source": [
    "# pull out the ellipse parameters\n",
    "eye_ellipse = eye_data['eye_ellipse_params']"
   ]
  },
  {
   "cell_type": "code",
   "execution_count": null,
   "metadata": {},
   "outputs": [],
   "source": [
    "# pull out radius of eye at each possible degree\n",
    "eye_rfit = eye_data['eye_radius_fit']"
   ]
  },
  {
   "cell_type": "code",
   "execution_count": null,
   "metadata": {},
   "outputs": [],
   "source": [
    "# pull out pupil rotation angle in degrees\n",
    "eye_pupil_rot = eye_data['eye_pupil_rotation']\n",
    "eye_pupil_rot"
   ]
  },
  {
   "cell_type": "markdown",
   "metadata": {},
   "source": [
    "## example selection and indexing"
   ]
  },
  {
   "cell_type": "code",
   "execution_count": null,
   "metadata": {},
   "outputs": [],
   "source": [
    "# here, we'll grab phi from frame 0 to 100 and plot it for a given trial\n",
    "phi1d = eye_ellipse.sel(trial='112619_J463b_cricket2clip0',ellipse_params='phi').isel(frame=slice(0,100)).plot()"
   ]
  },
  {
   "cell_type": "code",
   "execution_count": null,
   "metadata": {},
   "outputs": [],
   "source": [
    "# next, we'll plot the angle of rotation of the pupil for those same frames\n",
    "puprot1d = eye_pupil_rot.sel(trial='112619_J463b_cricket2clip0').isel(frame=slice(0,10)).plot()"
   ]
  },
  {
   "cell_type": "code",
   "execution_count": null,
   "metadata": {},
   "outputs": [],
   "source": []
  }
 ],
 "metadata": {
  "kernelspec": {
   "display_name": "fmephys",
   "language": "python",
   "name": "fmephys"
  },
  "language_info": {
   "codemirror_mode": {
    "name": "ipython",
    "version": 3
   },
   "file_extension": ".py",
   "mimetype": "text/x-python",
   "name": "python",
   "nbconvert_exporter": "python",
   "pygments_lexer": "ipython3",
   "version": "3.8.3"
  }
 },
 "nbformat": 4,
 "nbformat_minor": 4
}
