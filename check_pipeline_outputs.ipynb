{
 "cells": [
  {
   "cell_type": "markdown",
   "metadata": {},
   "source": [
    "# review outputs of analysis pipeline\n",
    "## check_pipeline_outputs.ipynb\n",
    "\n",
    "This script will open the .json config file used to run the analysis pipeline and the data saved out from the pipeline as .nc files. This notebook also has some examples of how to select data out of the xarray structures opened from .nc files. User only needs to enter a path to the .json config file used and the .nc files will be found from the save-path contained therein. Run this in the ```fmephys``` environment.\n",
    "\n",
    "Last modified September 07, 2020"
   ]
  },
  {
   "cell_type": "code",
   "execution_count": 1,
   "metadata": {},
   "outputs": [],
   "source": [
    "import os.path\n",
    "import xarray as xr\n",
    "import pandas as pd\n",
    "import numpy as np\n",
    "import cv2\n",
    "import matplotlib.pyplot as plt\n",
    "from tqdm import tqdm\n",
    "\n",
    "from util.read_data import find"
   ]
  },
  {
   "cell_type": "markdown",
   "metadata": {},
   "source": [
    "## user inputs"
   ]
  },
  {
   "cell_type": "code",
   "execution_count": null,
   "metadata": {},
   "outputs": [],
   "source": [
    "# path to the folder of all xarrays saved out from the trial\n",
    "parent_path = '/Users/dylanmartins/Dropbox//'\n",
    "# the name of the trial to focus on\n",
    "trial_name = '101420_G6H28P6LT_fm1'"
   ]
  },
  {
   "cell_type": "markdown",
   "metadata": {},
   "source": [
    "## pipeline outputs"
   ]
  },
  {
   "cell_type": "markdown",
   "metadata": {},
   "source": [
    "### ephys data"
   ]
  },
  {
   "cell_type": "code",
   "execution_count": null,
   "metadata": {},
   "outputs": [],
   "source": [
    "ephys_path = os.path.join(parent_path, trial_name + '_ephys.json')\n",
    "ephys_data = pd.read_json(ephys_path)"
   ]
  },
  {
   "cell_type": "code",
   "execution_count": null,
   "metadata": {},
   "outputs": [],
   "source": [
    "ephys_data"
   ]
  },
  {
   "cell_type": "markdown",
   "metadata": {},
   "source": [
    "### eye parameters and properties"
   ]
  },
  {
   "cell_type": "code",
   "execution_count": null,
   "metadata": {
    "scrolled": true
   },
   "outputs": [],
   "source": [
    "eye_nc_path = os.path.join(parent_path, (trial_name + 'Reye_current.nc'))\n",
    "eye_data = xr.open_dataset(eye_nc_path)\n",
    "eye_data"
   ]
  },
  {
   "cell_type": "code",
   "execution_count": null,
   "metadata": {},
   "outputs": [],
   "source": [
    "# pull out the original DeepLabCut points\n",
    "eye_dlc = eye_data['REYE_pts']"
   ]
  },
  {
   "cell_type": "code",
   "execution_count": null,
   "metadata": {},
   "outputs": [],
   "source": [
    "# pull out the ellipse parameters\n",
    "eye_ellipse = eye_data['REYE_ellipse_params']"
   ]
  },
  {
   "cell_type": "code",
   "execution_count": null,
   "metadata": {},
   "outputs": [],
   "source": [
    "# pull out radius of eye at each possible degree\n",
    "rfit = eye_data['Rradius_fit']"
   ]
  },
  {
   "cell_type": "code",
   "execution_count": null,
   "metadata": {},
   "outputs": [],
   "source": [
    "# pull out radius of eye at each possible degree\n",
    "rfit_conv = eye_data['Rradius_fit_conv']"
   ]
  },
  {
   "cell_type": "code",
   "execution_count": null,
   "metadata": {},
   "outputs": [],
   "source": [
    "# pull out pupil rotation angle in degrees\n",
    "shift_smooth = eye_data['Reye_pupil_rotation']\n",
    "shift_smooth"
   ]
  },
  {
   "cell_type": "code",
   "execution_count": null,
   "metadata": {},
   "outputs": [],
   "source": [
    "import sys\n",
    "np.set_printoptions(threshold=sys.maxsize)"
   ]
  },
  {
   "cell_type": "code",
   "execution_count": null,
   "metadata": {},
   "outputs": [],
   "source": [
    "rfit = pd.DataFrame(eye_rfit.values)"
   ]
  },
  {
   "cell_type": "code",
   "execution_count": null,
   "metadata": {},
   "outputs": [],
   "source": [
    "np.shape(rfit)"
   ]
  },
  {
   "cell_type": "code",
   "execution_count": null,
   "metadata": {},
   "outputs": [],
   "source": [
    "shift_smooth = eye_pupil_rot.values"
   ]
  },
  {
   "cell_type": "code",
   "execution_count": null,
   "metadata": {},
   "outputs": [],
   "source": [
    "np.shape(shift_smooth)"
   ]
  },
  {
   "cell_type": "code",
   "execution_count": null,
   "metadata": {},
   "outputs": [],
   "source": [
    "from scipy.optimize import curve_fit\n",
    "from scipy import signal"
   ]
  },
  {
   "cell_type": "code",
   "execution_count": null,
   "metadata": {},
   "outputs": [],
   "source": [
    "# sigmoid function\n",
    "def curve_func(xval, a, b, c, d):\n",
    "    return a+(b-a)/(1+10**((c-xval)*d))\n",
    "\n",
    "# multiprocessing-ready fit to sigmoid function\n",
    "def sigm_fit_mp(d):\n",
    "    try:\n",
    "        popt, pcov = curve_fit(curve_func, xdata=range(1,len(d)+1), ydata=d, p0=[100,200,10,0.5], bounds=([50, 100, 5, .05],[150, 250, 20, 5]), method='trf', xtol=10**-5)\n",
    "        ci = np.sqrt(np.diagonal(pcov))\n",
    "    except RuntimeError:\n",
    "        popt = np.nan*np.zeros(4)\n",
    "        ci = np.nan*np.zeros(4)\n",
    "    return (popt, ci)"
   ]
  },
  {
   "cell_type": "code",
   "execution_count": null,
   "metadata": {},
   "outputs": [],
   "source": [
    "eye_theta = eye_ellipse.sel(ellipse_params='theta')\n",
    "eye_phi = eye_ellipse.sel(ellipse_params='phi')\n",
    "eye_longaxis= eye_ellipse.sel(ellipse_params='longaxis')\n",
    "eye_shortaxis = eye_ellipse.sel(ellipse_params='shortaxis')\n",
    "eye_centX = eye_ellipse.sel(ellipse_params='X0')\n",
    "eye_centY = eye_ellipse.sel(ellipse_params='Y0')\n",
    "\n",
    "eyevid = cv2.VideoCapture('/Users/dylanmartins/Desktop/101420_G6H28P6LT_fm1_REYEdeinter.avi')\n",
    "for step in range(0,5):\n",
    "    try:\n",
    "        # frame reading and black and white conversion\n",
    "        eye_ret, eye_frame = eyevid.read()\n",
    "\n",
    "        if not eye_ret:\n",
    "            break\n",
    "\n",
    "        eye_frame = cv2.cvtColor(eye_frame, cv2.COLOR_BGR2GRAY)\n",
    "\n",
    "        # get ellisepe parameters for this time\n",
    "        current_theta = eye_theta.sel(frame=step).values\n",
    "        current_phi = eye_phi.sel(frame=step).values\n",
    "        current_longaxis = eye_longaxis.sel(frame=step).values\n",
    "        current_shortaxis = eye_shortaxis.sel(frame=step).values\n",
    "        current_centX = eye_centX.sel(frame=step).values\n",
    "        current_centY = eye_centY.sel(frame=step).values\n",
    "\n",
    "        # some configuration\n",
    "        meanr = 0.5 * (current_longaxis + current_shortaxis) # mean radius\n",
    "        r = range(int(meanr - ranger), int(meanr + ranger)) # range of values over mean radius (meanr)\n",
    "        pupil_edge = np.zeros([totalF, 360, len(r)]) # empty array that the calculated edge of the pupil will be put into\n",
    "\n",
    "        rad_range = np.deg2rad(np.arange(360))\n",
    "        # get cross-section of pupil at each angle 1-360 and fit to sigmoid\n",
    "        for i in range(0, len(r)):\n",
    "            pupil_edge[step,:,i] = eye_frame[((current_centY + r[i]*(np.sin(rad_range))).astype(int),(current_centX + r[i]*(np.cos(rad_range))).astype(int))]\n",
    "        d = pupil_edge[step,:,:]\n",
    "#         plt.figure()\n",
    "#         plt.imshow(d, aspect='auto')\n",
    "#         plt.show()\n",
    "        params_output = []\n",
    "        for n in range(360):\n",
    "            params_output.append(sigm_fit_mp(d[n]))\n",
    "        params = []; ci = []\n",
    "        for vals in params_output:\n",
    "            params.append(vals[0])\n",
    "            ci.append(vals[1])\n",
    "        params = np.stack(params); ci = np.stack(ci)\n",
    "\n",
    "        fit_thresh = 1\n",
    "\n",
    "        # extract radius variable from parameters\n",
    "        rfit = params[:,2] - 1\n",
    "\n",
    "        # if confidence interval in estimate is > fit_thresh pix, set to to NaN\n",
    "        # then, remove if luminance goes the wrong way (e.g. from reflectance)\n",
    "        for deg_th in range(0,360):\n",
    "            rfit[deg_th] = np.where(ci[deg_th,2] > fit_thresh, np.nan, rfit[deg_th])\n",
    "            rfit[deg_th] = np.where((params[deg_th,1] - params[deg_th,0]) < 0, np.nan, rfit[deg_th])\n",
    "            \n",
    "#         # interpolate because convolution will create large NaN holes\n",
    "#         # is interpolation a good idea here? either way, the way this is done can be improved\n",
    "#         interp_x = [item for sublist in np.argwhere(np.isnan(rfit)) for item in sublist]\n",
    "#         interp_xp = [item for sublist in np.argwhere(~np.isnan(rfit)) for item in sublist]\n",
    "#         interp_fp = rfit[~np.isnan(rfit)]\n",
    "\n",
    "        try:\n",
    "#             rfit_interp_vals = np.interp(interp_x, interp_xp, interp_fp)\n",
    "#             # replace values in rfit_interp if they were NaN with the values found in interpolation\n",
    "#             rfit_interp = rfit; j=0\n",
    "#             for i in range(0,len(rfit_interp)):\n",
    "#                 if np.isnan(rfit_interp[i]):\n",
    "#                     rfit_interp[i] = rfit_interp_vals[j]\n",
    "#                     j = j + 1\n",
    "\n",
    "            # median filter\n",
    "            rfit_interp = signal.medfilt(rfit,3)\n",
    "\n",
    "            # subtract baseline because our points aren't perfectly centered on ellipse\n",
    "            filtsize = 30\n",
    "            rfit_conv = rfit - np.convolve(rfit_interp, np.ones(filtsize)/filtsize, mode='same')\n",
    "            # edges have artifact from conv, so set to NaNs\n",
    "            # could fix this by padding data with wraparound at 0 and 360deg before conv\n",
    "            # the astropy package can do this with the convolution.convolve package\n",
    "            # TO DO: test and impliment wraparound convolution with astropy function convolve\n",
    "            rfit_conv[range(0,int(filtsize/2+1))] = np.nan\n",
    "            rfit_conv[range((len(rfit_conv)-int(filtsize/2-1)),len(rfit_conv))] = np.nan\n",
    "\n",
    "        except ValueError: # in case every value in rfit is NaN\n",
    "            rfit_conv = np.empty(np.shape(rfit_conv)) # make an rfit_conv with the shape of the last one\n",
    "    except (KeyError, ValueError) as e:\n",
    "        key_error_count = key_error_count + 1\n",
    "        rfit_conv = np.empty(np.shape(rfit_conv))"
   ]
  },
  {
   "cell_type": "code",
   "execution_count": null,
   "metadata": {},
   "outputs": [],
   "source": []
  },
  {
   "cell_type": "code",
   "execution_count": null,
   "metadata": {},
   "outputs": [],
   "source": [
    "# calculates xcorr ignoring NaNs without altering timing\n",
    "# adapted from /niell-lab-analysis/freely moving/nanxcorr.m\n",
    "# always normalizes inputs, assuming 'coeff' flag in matlab code is given\n",
    "def nanxcorr(x, y, maxlag=25):\n",
    "    lags = range(-maxlag, maxlag)\n",
    "    cc = []\n",
    "    for i in range(0,len(lags)):\n",
    "        # shift data\n",
    "        yshift = np.roll(y, lags[i])\n",
    "        # get index where values are usable in both x and yshift\n",
    "        use = ~pd.isnull(x + yshift)\n",
    "        # some restructuring\n",
    "        x_arr = np.asarray(x, dtype=object); yshift_arr = np.asarray(yshift, dtype=object)\n",
    "        x_use = x_arr[use]; yshift_use = yshift_arr[use]\n",
    "        # normalize\n",
    "        x_use = (x_use - np.mean(x_use)) / (np.std(x_use) * len(x_use))\n",
    "        yshift_use = (yshift_use - np.mean(yshift_use)) / np.std(yshift_use)\n",
    "        # get correlation\n",
    "        cc.append(np.correlate(x_use, yshift_use))\n",
    "    cc_out = np.hstack(np.stack(cc))\n",
    "    return cc_out, lags"
   ]
  },
  {
   "cell_type": "code",
   "execution_count": null,
   "metadata": {},
   "outputs": [],
   "source": [
    "n = np.size(rfit_conv.values, 0)\n",
    "pupil_update = rfit_conv.values\n",
    "total_shift = np.zeros(n); peak = np.zeros(n)\n",
    "c = total_shift\n",
    "template = np.nanmean(rfit_conv.values, 0)"
   ]
  },
  {
   "cell_type": "code",
   "execution_count": null,
   "metadata": {},
   "outputs": [],
   "source": [
    "from astropy.convolution import convolve"
   ]
  },
  {
   "cell_type": "code",
   "execution_count": null,
   "metadata": {},
   "outputs": [],
   "source": [
    "print('doing iterative fit on frames to find alignment for each frame')\n",
    "for rep in tqdm(range(0,12)):\n",
    "\n",
    "    # for each frame, get correlation, and shift\n",
    "    for frame_num in range(0,n):\n",
    "        try:\n",
    "            xc, lags = nanxcorr(template, pupil_update[frame_num,:], 10)\n",
    "            c[frame_num] = np.amax(xc) # value of max\n",
    "            peaklag = np.argmax(xc) # position of max\n",
    "            peak[frame_num] = lags[peaklag]\n",
    "            total_shift[frame_num] = total_shift[frame_num] + peak[frame_num]\n",
    "            pupil_update[frame_num,:] = np.roll(pupil_update[frame_num,:], int(peak[frame_num]))\n",
    "        except ZeroDivisionError:\n",
    "            total_shift[frame_num] = np.nan\n",
    "            pupil_update[frame_num,:] = np.nan\n",
    "            \n",
    "#     if config['save_figs'] is True:\n",
    "#         # plot template with pupil_update for each iteration of fit\n",
    "#         plt.figure()\n",
    "#         plt.title('pupil_update of rep='+str(rep)+' in iterative fit')\n",
    "#         plt.plot(template, 'k--', alpha=0.8)\n",
    "#         plt.plot(pupil_update.T, alpha=0.2)\n",
    "#         pdf.savefig()\n",
    "#         plt.close()\n",
    "\n",
    "#         # histogram of correlations\n",
    "#         plt.figure()\n",
    "#         plt.title('correlations of rep='+str(rep)+' in iterative fit')\n",
    "#         plt.hist(c)\n",
    "#         pdf.savefig()\n",
    "#         plt.close()"
   ]
  },
  {
   "cell_type": "code",
   "execution_count": null,
   "metadata": {},
   "outputs": [],
   "source": [
    "plt.plot(template, 'k--', alpha=0.8)\n",
    "plt.plot(pupil_update.T, alpha=0.2)\n",
    "plt.ylim(0,25)"
   ]
  },
  {
   "cell_type": "code",
   "execution_count": null,
   "metadata": {},
   "outputs": [],
   "source": [
    "np.rad2deg(total_shift)"
   ]
  },
  {
   "cell_type": "code",
   "execution_count": null,
   "metadata": {},
   "outputs": [],
   "source": [
    "np.shape(pupil_update)"
   ]
  },
  {
   "cell_type": "code",
   "execution_count": null,
   "metadata": {},
   "outputs": [],
   "source": [
    "frame_num = 200\n",
    "xc, lags = nanxcorr(template, pupil_update[frame_num,:], 10)\n",
    "c[frame_num] = np.amax(xc)\n",
    "peaklag = np.argmax(xc)\n",
    "peak[frame_num] = lags[peaklag]\n",
    "total_shift[frame_num] = total_shift[frame_num] + peak[frame_num]\n",
    "pupil_update[frame_num,:] = np.roll(pupil_update[frame_num,:], int(peak[frame_num]))"
   ]
  },
  {
   "cell_type": "code",
   "execution_count": null,
   "metadata": {
    "scrolled": true
   },
   "outputs": [],
   "source": [
    "c[frame_num]"
   ]
  },
  {
   "cell_type": "code",
   "execution_count": null,
   "metadata": {},
   "outputs": [],
   "source": [
    "peak[frame_num]"
   ]
  },
  {
   "cell_type": "code",
   "execution_count": null,
   "metadata": {},
   "outputs": [],
   "source": [
    "plt.plot(xc)"
   ]
  },
  {
   "cell_type": "code",
   "execution_count": null,
   "metadata": {},
   "outputs": [],
   "source": [
    "from scipy.io import savemat\n",
    "\n",
    "savemat('/Users/dylanmartins/Desktop/test101420_pupil_update_frame100.mat', {'pupil_update':pupil_update[100,:]})\n"
   ]
  },
  {
   "cell_type": "code",
   "execution_count": null,
   "metadata": {},
   "outputs": [],
   "source": [
    "np.shape(xc)"
   ]
  },
  {
   "cell_type": "code",
   "execution_count": null,
   "metadata": {},
   "outputs": [],
   "source": [
    "c[frame_num] = np.amax(xc) # value of max\n",
    "peaklag = np.argmax(xc) # position of max\n",
    "peak[frame_num] = lags[peaklag]\n",
    "total_shift[frame_num] = total_shift[frame_num] + peak[frame_num]\n",
    "pupil_update[frame_num,:] = np.roll(pupil_update[frame_num,:], int(peak[frame_num]))"
   ]
  },
  {
   "cell_type": "code",
   "execution_count": null,
   "metadata": {},
   "outputs": [],
   "source": [
    "total_shift[np.mean(rfit_conv,1) > 25] = np.nan"
   ]
  },
  {
   "cell_type": "code",
   "execution_count": null,
   "metadata": {},
   "outputs": [],
   "source": [
    "plt.plot(total_shift)"
   ]
  },
  {
   "cell_type": "code",
   "execution_count": null,
   "metadata": {},
   "outputs": [],
   "source": [
    "plt.plot(rfit_conv.T)"
   ]
  },
  {
   "cell_type": "code",
   "execution_count": null,
   "metadata": {},
   "outputs": [],
   "source": [
    "xc"
   ]
  },
  {
   "cell_type": "code",
   "execution_count": null,
   "metadata": {},
   "outputs": [],
   "source": [
    "win = 3\n",
    "shift_nan = -total_shift\n",
    "shift_nan[c < 0.2] = np.nan # started at [c < 0.4], is it alright to change this? many values go to NaN otherwise\n",
    "shift_nan[shift_nan > 0.75] = np.nan; shift_nan[shift_nan < -0.75] = np.nan\n",
    "shift_smooth = convolve(shift_nan, np.ones(win)/win, boundary='wrap') # convolve using astopy.convolution.convolve, which should work like nanconv by interpolating over nans as appropriate\n",
    "shift_smooth = shift_smooth - np.nanmedian(shift_smooth)\n",
    "shift_nan = shift_nan - np.nanmedian(shift_nan)"
   ]
  },
  {
   "cell_type": "code",
   "execution_count": null,
   "metadata": {},
   "outputs": [],
   "source": [
    "plt.plot(total_shift)"
   ]
  },
  {
   "cell_type": "code",
   "execution_count": null,
   "metadata": {},
   "outputs": [],
   "source": [
    "c"
   ]
  },
  {
   "cell_type": "code",
   "execution_count": null,
   "metadata": {},
   "outputs": [],
   "source": [
    "plt.plot(shift_smooth)\n",
    "plt.ylim(-1,1)"
   ]
  },
  {
   "cell_type": "code",
   "execution_count": null,
   "metadata": {},
   "outputs": [],
   "source": [
    "plt.plot(total_shift)\n",
    "plt.ylim(-1,1)"
   ]
  },
  {
   "cell_type": "code",
   "execution_count": null,
   "metadata": {},
   "outputs": [],
   "source": [
    "shift_smooth"
   ]
  },
  {
   "cell_type": "code",
   "execution_count": null,
   "metadata": {},
   "outputs": [],
   "source": [
    "shift_xr = xr.DataArray(shift_smooth)"
   ]
  },
  {
   "cell_type": "code",
   "execution_count": null,
   "metadata": {},
   "outputs": [],
   "source": [
    "shift_xr"
   ]
  },
  {
   "cell_type": "code",
   "execution_count": null,
   "metadata": {},
   "outputs": [],
   "source": []
  },
  {
   "cell_type": "code",
   "execution_count": null,
   "metadata": {},
   "outputs": [],
   "source": [
    "plt.plot(ci[:,0])\n",
    "# plt.ylim(0,5)"
   ]
  },
  {
   "cell_type": "code",
   "execution_count": null,
   "metadata": {},
   "outputs": [],
   "source": [
    "plt.plot(ci[:,1])"
   ]
  },
  {
   "cell_type": "code",
   "execution_count": null,
   "metadata": {},
   "outputs": [],
   "source": [
    "plt.plot(rfit)"
   ]
  },
  {
   "cell_type": "code",
   "execution_count": null,
   "metadata": {},
   "outputs": [],
   "source": [
    "plt.plot(rfit_conv)"
   ]
  },
  {
   "cell_type": "code",
   "execution_count": null,
   "metadata": {},
   "outputs": [],
   "source": [
    "plt.hist(rfit_conv, bins=100)"
   ]
  },
  {
   "cell_type": "code",
   "execution_count": null,
   "metadata": {},
   "outputs": [],
   "source": [
    "rfit"
   ]
  },
  {
   "cell_type": "code",
   "execution_count": null,
   "metadata": {},
   "outputs": [],
   "source": [
    "rfit_conv"
   ]
  },
  {
   "cell_type": "code",
   "execution_count": null,
   "metadata": {},
   "outputs": [],
   "source": [
    "eye_theta = eye_ellipse.sel(ellipse_params='theta')\n",
    "eye_phi = eye_ellipse.sel(ellipse_params='phi')\n",
    "eye_longaxis= eye_ellipse.sel(ellipse_params='longaxis')\n",
    "eye_shortaxis = eye_ellipse.sel(ellipse_params='shortaxis')\n",
    "eye_centX = eye_ellipse.sel(ellipse_params='X0')\n",
    "eye_centY = eye_ellipse.sel(ellipse_params='Y0')\n",
    "\n",
    "ranger = 10\n",
    "rad_range = np.deg2rad(np.arange(360))\n",
    "\n",
    "eyevid = cv2.VideoCapture('/Users/dylanmartins/Desktop/101420_G6H28P6LT_fm1_REYEdeinter.avi')\n",
    "vidsavepath = os.path.join('/Users/dylanmartins/Desktop/', str(trial_name + '_pupil_rotation_REYE_4.avi'))\n",
    "fourcc = cv2.VideoWriter_fourcc(*'XVID')\n",
    "vidout = cv2.VideoWriter(vidsavepath, fourcc, 60.0, (int(eyevid.get(cv2.CAP_PROP_FRAME_WIDTH)), int(eyevid.get(cv2.CAP_PROP_FRAME_HEIGHT))))\n",
    "\n",
    "totalF = int(eyevid.get(cv2.CAP_PROP_FRAME_COUNT))\n",
    "\n",
    "# shift_smooth = np.squeeze(shift_smooth)\n",
    "\n",
    "print('plotting pupil rotation on eye video')\n",
    "for step in tqdm(np.arange(totalF)):    \n",
    "    eye_ret, eye_frame = eyevid.read()\n",
    "\n",
    "    if not eye_ret:\n",
    "        break\n",
    "\n",
    "#     eye_frame = cv2.cvtColor(eye_frame, cv2.COLOR_BGR2GRAY)\n",
    "\n",
    "    # get ellisepe parameters for this time\n",
    "    current_theta = eye_theta.sel(frame=step).values\n",
    "    current_phi = eye_phi.sel(frame=step).values\n",
    "    current_longaxis = eye_longaxis.sel(frame=step).values\n",
    "    current_shortaxis = eye_shortaxis.sel(frame=step).values\n",
    "    current_centX = eye_centX.sel(frame=step).values\n",
    "    current_centY = eye_centY.sel(frame=step).values\n",
    "\n",
    "    # plot the ellipse edge\n",
    "    rmin = 0.5 * (current_longaxis + current_shortaxis) - ranger\n",
    "    for deg_th in range(0,360):\n",
    "        rad_th = rad_range[deg_th]\n",
    "        edge_x = np.round(current_centX+(rmin + rfit.iloc[step,deg_th])*np.cos(rad_th))\n",
    "        edge_y = np.round(current_centY+(rmin + rfit.iloc[step,deg_th])*np.sin(rad_th))\n",
    "        if pd.isnull(edge_x) is False and pd.isnull(edge_y) is False:\n",
    "            eye_frame = cv2.circle(eye_frame, (int(edge_x),int(edge_y)), 1, (235,52,155), thickness=-1)\n",
    "\n",
    "#     # plot the rotation of the eye as a vertical line made up of many circles\n",
    "#     for d in range(-40,40):\n",
    "#         rot_x = np.round(current_centX + d * (np.cos(shift_smooth[step])))\n",
    "#         rot_y = np.round(current_centY + d * (np.sin(shift_smooth[step])))\n",
    "#         if pd.isnull(rot_x) is False and pd.isnull(rot_y) is False:\n",
    "#             eye_frame = cv2.circle(eye_frame, (int(rot_x),int(rot_y)),1,(255,255,255),thickness=-1)\n",
    "#         else:\n",
    "#             e_count = e_count + 1\n",
    "\n",
    "#     # plot the center of the eye on the frame as a larger dot than the others\n",
    "#     if pd.isnull(current_centX) is False and pd.isnull(current_centY) is False:\n",
    "#         eye_frame = cv2.circle(eye_frame, (int(current_centX),int(current_centY)),6,(0,0,255),thickness=-1)\n",
    "\n",
    "    vidout.write(eye_frame)\n",
    "\n",
    "vidout.release()"
   ]
  },
  {
   "cell_type": "code",
   "execution_count": null,
   "metadata": {},
   "outputs": [],
   "source": [
    "plt.hist(rfit.iloc[100,:], bins=100)"
   ]
  },
  {
   "cell_type": "code",
   "execution_count": null,
   "metadata": {},
   "outputs": [],
   "source": [
    "0.5 * np.mean(eye_longaxis) + np.mean(eye_shortaxis)"
   ]
  },
  {
   "cell_type": "code",
   "execution_count": null,
   "metadata": {},
   "outputs": [],
   "source": [
    "for i in rfit.iloc[100,:]:\n",
    "    print(i)"
   ]
  },
  {
   "cell_type": "code",
   "execution_count": null,
   "metadata": {},
   "outputs": [],
   "source": [
    "np.round(current_centX+(rfit.iloc[100,100])*np.cos(rad_th))"
   ]
  },
  {
   "cell_type": "code",
   "execution_count": null,
   "metadata": {},
   "outputs": [],
   "source": [
    "rmin"
   ]
  },
  {
   "cell_type": "code",
   "execution_count": null,
   "metadata": {},
   "outputs": [],
   "source": [
    "np.rad2deg(np.sin(shift_smooth[step]))"
   ]
  },
  {
   "cell_type": "code",
   "execution_count": null,
   "metadata": {},
   "outputs": [],
   "source": [
    "np.round(current_centY + d * np.rad2deg(np.sin(shift_smooth[step])))"
   ]
  },
  {
   "cell_type": "code",
   "execution_count": null,
   "metadata": {},
   "outputs": [],
   "source": [
    "current_centY"
   ]
  },
  {
   "cell_type": "code",
   "execution_count": null,
   "metadata": {},
   "outputs": [],
   "source": [
    "e_count"
   ]
  },
  {
   "cell_type": "code",
   "execution_count": null,
   "metadata": {},
   "outputs": [],
   "source": [
    "int(rot_y)"
   ]
  },
  {
   "cell_type": "code",
   "execution_count": null,
   "metadata": {},
   "outputs": [],
   "source": [
    "shift_smooth"
   ]
  },
  {
   "cell_type": "code",
   "execution_count": null,
   "metadata": {},
   "outputs": [],
   "source": [
    "np.rad2deg(shift_smooth)"
   ]
  },
  {
   "cell_type": "code",
   "execution_count": null,
   "metadata": {},
   "outputs": [],
   "source": [
    "np.round(current_centX + d1 * np.cos(np.deg2rad(shift_smooth[current_time]+90)))"
   ]
  },
  {
   "cell_type": "code",
   "execution_count": null,
   "metadata": {},
   "outputs": [],
   "source": [
    "np.round(current_centY + d1 * np.sin(np.deg2rad(shift_smooth[current_time]+90)))"
   ]
  },
  {
   "cell_type": "code",
   "execution_count": null,
   "metadata": {},
   "outputs": [],
   "source": [
    "np.cos(np.deg2rad(shift_smooth[current_time]+90))"
   ]
  },
  {
   "cell_type": "code",
   "execution_count": null,
   "metadata": {},
   "outputs": [],
   "source": [
    "np.sin(np.deg2rad(shift_smooth[current_time]+90))"
   ]
  },
  {
   "cell_type": "code",
   "execution_count": null,
   "metadata": {},
   "outputs": [],
   "source": [
    "rmin+rfit.iloc[step,deg_th]"
   ]
  },
  {
   "cell_type": "code",
   "execution_count": null,
   "metadata": {},
   "outputs": [],
   "source": [
    "np.array(rfit.iloc[100,:])"
   ]
  },
  {
   "cell_type": "code",
   "execution_count": null,
   "metadata": {},
   "outputs": [],
   "source": [
    "deg_th"
   ]
  },
  {
   "cell_type": "code",
   "execution_count": null,
   "metadata": {},
   "outputs": [],
   "source": [
    "shift_smooth"
   ]
  },
  {
   "cell_type": "code",
   "execution_count": null,
   "metadata": {},
   "outputs": [],
   "source": [
    "rmin"
   ]
  },
  {
   "cell_type": "code",
   "execution_count": null,
   "metadata": {},
   "outputs": [],
   "source": [
    "print(int(np.round(94.08752408)))"
   ]
  },
  {
   "cell_type": "code",
   "execution_count": null,
   "metadata": {},
   "outputs": [],
   "source": [
    "int(np.round(current_centY+(rmin+rfit.iloc[step,deg_th])*np.sin(rad_th)))"
   ]
  },
  {
   "cell_type": "code",
   "execution_count": null,
   "metadata": {},
   "outputs": [],
   "source": [
    "rfit.isel(frame=100).values"
   ]
  },
  {
   "cell_type": "code",
   "execution_count": null,
   "metadata": {},
   "outputs": [],
   "source": [
    "eye_theta = eye_ellipse.sel(ellipse_params='theta')\n",
    "eye_phi = eye_ellipse.sel(ellipse_params='phi')\n",
    "eye_longaxis= eye_ellipse.sel(ellipse_params='longaxis')\n",
    "eye_shortaxis = eye_ellipse.sel(ellipse_params='shortaxis')\n",
    "eye_centX = eye_ellipse.sel(ellipse_params='X0')\n",
    "eye_centY = eye_ellipse.sel(ellipse_params='Y0')"
   ]
  },
  {
   "cell_type": "code",
   "execution_count": null,
   "metadata": {},
   "outputs": [],
   "source": [
    "shift_smooth1 = xr.DataArray(shift_smooth, dims=['frame'])"
   ]
  },
  {
   "cell_type": "code",
   "execution_count": null,
   "metadata": {},
   "outputs": [],
   "source": [
    "print(np.min(np.rad2deg(shift_smooth1)))\n",
    "print(np.max(np.rad2deg(shift_smooth1)))"
   ]
  },
  {
   "cell_type": "code",
   "execution_count": null,
   "metadata": {},
   "outputs": [],
   "source": [
    "eyevid = cv2.VideoCapture('/Users/dylanmartins/Desktop/101420_G6H28P6LT_fm1_REYEdeinter.avi')\n",
    "fourcc = cv2.VideoWriter_fourcc(*'XVID')\n",
    "\n",
    "vidsavepath = '/Users/dylanmartins/Desktop/101420_pupil_rotation_plot_test_8_thresh.avi'\n",
    "\n",
    "vidout = cv2.VideoWriter(vidsavepath, fourcc, 60.0, (int(eyevid.get(cv2.CAP_PROP_FRAME_WIDTH)), int(eyevid.get(cv2.CAP_PROP_FRAME_HEIGHT))))\n",
    "\n",
    "ranger = 10\n",
    "rad_range = np.deg2rad(np.arange(360))\n",
    "totalF = int(eyevid.get(cv2.CAP_PROP_FRAME_COUNT))\n",
    "\n",
    "print('plotting pupil rotation on eye video')\n",
    "for step in tqdm(np.arange(totalF)):\n",
    "    \n",
    "    eye_ret, eye_frame = eyevid.read()\n",
    "\n",
    "    if not eye_ret:\n",
    "        break\n",
    "\n",
    "    # get ellisepe parameters for this time\n",
    "    current_theta = eye_theta.sel(frame=step).values\n",
    "    current_phi = eye_phi.sel(frame=step).values\n",
    "    current_longaxis = eye_longaxis.sel(frame=step).values\n",
    "    current_shortaxis = eye_shortaxis.sel(frame=step).values\n",
    "    current_centX = eye_centX.sel(frame=step).values\n",
    "    current_centY = eye_centY.sel(frame=step).values\n",
    "\n",
    "    # plot the ellipse edge\n",
    "    rmin = 0.5 * (current_longaxis + current_shortaxis) - ranger\n",
    "    for deg_th in range(0,360):\n",
    "        rad_th = rad_range[deg_th]\n",
    "        edge_x = np.round(current_centX+(rmin+rfit.isel(frame=step,deg=deg_th).values)*np.cos(rad_th))\n",
    "        edge_y = np.round(current_centY+(rmin+rfit.isel(frame=step,deg=deg_th).values)*np.sin(rad_th))\n",
    "        if pd.isnull(edge_x) is False and pd.isnull(edge_y) is False:\n",
    "            eye_frame = cv2.circle(eye_frame, (int(edge_x),int(edge_y)), 1, (235,52,155), thickness=-1)\n",
    "\n",
    "    # plot the rotation of the eye as a vertical line made up of many circles\n",
    "    for d in np.linspace(-0.5,0.5,100):\n",
    "        rot_x = np.round(current_centX + d*(np.rad2deg(np.cos(shift_smooth1.isel(frame=step).values))))\n",
    "        rot_y = np.round(current_centY + d*(np.rad2deg(np.sin(shift_smooth1.isel(frame=step).values))))\n",
    "        if pd.isnull(rot_x) is False and pd.isnull(rot_y) is False:\n",
    "            eye_frame = cv2.circle(eye_frame, (int(rot_x),int(rot_y)),1,(255,255,255),thickness=-1)\n",
    "\n",
    "    # plot the center of the eye on the frame as a larger dot than the others\n",
    "    if pd.isnull(current_centX) is False and pd.isnull(current_centY) is False:\n",
    "        eye_frame = cv2.circle(eye_frame, (int(current_centX),int(current_centY)),3,(0,255,0),thickness=-1)\n",
    "\n",
    "    vidout.write(eye_frame)\n",
    "\n",
    "vidout.release()"
   ]
  },
  {
   "cell_type": "code",
   "execution_count": null,
   "metadata": {},
   "outputs": [],
   "source": [
    "# histogram of correlations\n",
    "plt.title('correlations of rep='+str(rep)+' in iterative fit')\n",
    "plt.hist(c, bins=300)\n",
    "plt.xlim(-2.5,2.5)"
   ]
  },
  {
   "cell_type": "code",
   "execution_count": null,
   "metadata": {},
   "outputs": [],
   "source": [
    "plt.plot(rfit_conv.T, alpha=0.3)\n",
    "plt.plot(np.mean(rfit_conv.T, 1), 'b--')\n",
    "plt.title('convolved rfit for all trials, mean in blue')\n",
    "# plt.ylim([-4,4])"
   ]
  },
  {
   "cell_type": "code",
   "execution_count": null,
   "metadata": {},
   "outputs": [],
   "source": [
    "timepoint_corr_rfit = pd.DataFrame(rfit_conv.values).T.corr()\n",
    "fig, ax = plt.subplots()\n",
    "im = ax.imshow(timepoint_corr_rfit)\n",
    "ax.set_title('correlation of radius fit across timepoints')\n",
    "ax.set_xticks(np.arange(len(timepoint_corr_rfit)))\n",
    "ax.set_yticks(np.arange(len(timepoint_corr_rfit)))\n",
    "ax.set_xticklabels(np.linspace(1,25, len(timepoint_corr_rfit)+1))\n",
    "ax.set_yticklabels(np.linspace(1,25, len(timepoint_corr_rfit)+1))\n",
    "fig.colorbar(im, ax=ax)"
   ]
  },
  {
   "cell_type": "code",
   "execution_count": null,
   "metadata": {},
   "outputs": [],
   "source": []
  },
  {
   "cell_type": "code",
   "execution_count": null,
   "metadata": {},
   "outputs": [],
   "source": []
  },
  {
   "cell_type": "code",
   "execution_count": null,
   "metadata": {},
   "outputs": [],
   "source": [
    "np.linspace(-10,10,100)"
   ]
  },
  {
   "cell_type": "code",
   "execution_count": null,
   "metadata": {},
   "outputs": [],
   "source": [
    "plt.plot(shift_smooth1)\n",
    "plt.ylim(-0.8,0.5)"
   ]
  },
  {
   "cell_type": "code",
   "execution_count": null,
   "metadata": {},
   "outputs": [],
   "source": [
    "current_centX + d * np.cos(np.deg2rad(shift_smooth1.isel(frame=step).values))"
   ]
  },
  {
   "cell_type": "code",
   "execution_count": null,
   "metadata": {},
   "outputs": [],
   "source": [
    "np.rad2deg(shift_smooth1.isel(frame=50).values)"
   ]
  },
  {
   "cell_type": "code",
   "execution_count": null,
   "metadata": {},
   "outputs": [],
   "source": [
    "shift_smooth1.isel(frame=step).values"
   ]
  },
  {
   "cell_type": "code",
   "execution_count": null,
   "metadata": {},
   "outputs": [],
   "source": [
    "shift_smooth"
   ]
  },
  {
   "cell_type": "code",
   "execution_count": null,
   "metadata": {},
   "outputs": [],
   "source": [
    "current_centX = eye_centX.sel(frame=100).values\n",
    "current_centX"
   ]
  },
  {
   "cell_type": "code",
   "execution_count": null,
   "metadata": {},
   "outputs": [],
   "source": [
    "for deg in range(0,360):\n",
    "    print(np.round(current_centX+(rmin+rfit.isel(frame=-1,deg=deg).values)*np.cos(rad_th)))"
   ]
  },
  {
   "cell_type": "code",
   "execution_count": null,
   "metadata": {},
   "outputs": [],
   "source": [
    "(rmin+rfit.isel(frame=0,deg=deg).values)*np.cos(rad_th)"
   ]
  },
  {
   "cell_type": "code",
   "execution_count": null,
   "metadata": {},
   "outputs": [],
   "source": [
    "current_centX"
   ]
  },
  {
   "cell_type": "markdown",
   "metadata": {},
   "source": [
    "## example selection and indexing"
   ]
  },
  {
   "cell_type": "code",
   "execution_count": null,
   "metadata": {},
   "outputs": [],
   "source": [
    "# here, we'll grab phi from frame 0 to 100 and plot it for a given trial\n",
    "phi1d = eye_ellipse.sel(trial='112619_J463b_cricket2clip0',ellipse_params='phi').isel(frame=slice(0,100)).plot()"
   ]
  },
  {
   "cell_type": "code",
   "execution_count": null,
   "metadata": {},
   "outputs": [],
   "source": [
    "# next, we'll plot the angle of rotation of the pupil for those same frames\n",
    "puprot1d = eye_pupil_rot.sel(trial='112619_J463b_cricket2clip0').isel(frame=slice(0,20)).plot()"
   ]
  },
  {
   "cell_type": "code",
   "execution_count": null,
   "metadata": {},
   "outputs": [],
   "source": []
  }
 ],
 "metadata": {
  "kernelspec": {
   "display_name": "fmephys",
   "language": "python",
   "name": "fmephys"
  },
  "language_info": {
   "codemirror_mode": {
    "name": "ipython",
    "version": 3
   },
   "file_extension": ".py",
   "mimetype": "text/x-python",
   "name": "python",
   "nbconvert_exporter": "python",
   "pygments_lexer": "ipython3",
   "version": "3.8.3"
  }
 },
 "nbformat": 4,
 "nbformat_minor": 4
}
