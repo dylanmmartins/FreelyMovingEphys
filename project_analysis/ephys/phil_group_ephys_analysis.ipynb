{
 "cells": [
  {
   "cell_type": "markdown",
   "metadata": {},
   "source": [
    "# Load dependencies and define functions"
   ]
  },
  {
   "cell_type": "code",
   "execution_count": 1,
   "metadata": {},
   "outputs": [
    {
     "name": "stdout",
     "output_type": "stream",
     "text": [
      "finished loading dependencies\n"
     ]
    }
   ],
   "source": [
    "### dependencies\n",
    "\n",
    "import pandas as pd\n",
    "import numpy as np\n",
    "import matplotlib.pyplot as plt\n",
    "from matplotlib.backends.backend_pdf import PdfPages\n",
    "import warnings\n",
    "warnings.filterwarnings('ignore')\n",
    "\n",
    "### functions\n",
    "\n",
    "def xy_axis(ax):\n",
    "    \n",
    "    ### Removes the top and right bounding axes that are plotted by default in matplotlib\n",
    "    \n",
    "    ### INPUTS\n",
    "    ### ax: axis object (e.g. from fig,ax = plt.subplots(1,1))\n",
    "    \n",
    "    ### OUTPUTS\n",
    "    ### ax: the same axis w/top and right lines removed\n",
    "    \n",
    "    # Hide the right and top spines\n",
    "    ax.spines['right'].set_visible(False)\n",
    "    ax.spines['top'].set_visible(False)\n",
    "\n",
    "    # Only show ticks on the left and bottom spines\n",
    "    ax.yaxis.set_ticks_position('left')\n",
    "    ax.xaxis.set_ticks_position('bottom')\n",
    "\n",
    "    return ax\n",
    "\n",
    "print('finished loading dependencies')\n",
    "\n",
    "def plot_group_eye_head_traces(df,sacs,mov_type,eye_head,baselines,baseline_pts,trace_range,trange,save_pdf,pp):\n",
    "    \n",
    "    ### plots clustered traces of spiking vs. eye/head movements and saves a pdf (optional)\n",
    "    \n",
    "    ### INPUTS\n",
    "    ### recs: list of recordings names, e.g. ['fm1']\n",
    "    ### sacs: list of saccade labels, e.g. ['upsacc','downsacc']\n",
    "    ### mov_type: list of movement types, e.g. ['gaze_shift','comp']\n",
    "    ### eye_head: list of eye/head movement labels, e.g. ['dEye','dHead']\n",
    "    ### trace_range: time range you want to plot over, e.g. [-0.25,0.5]\n",
    "    ### trange: time points for traces, current is np.arange(-1,1.1-0.025,0.025)\n",
    "    ### baselines: list of booleans if you want to baseline traces or not, e.g. [True,False]\n",
    "    ### baseline_pts: indices to use for baseline subtraction, e.g. np.arange(20,36)\n",
    "    ### save_pdf: boolean value for if you want to save a pdf, e.g. True\n",
    "    \n",
    "    ### OUTPUTS\n",
    "    ### currently none\n",
    "    \n",
    "    for rec in recs:\n",
    "        for eh in eye_head:\n",
    "            for baseline in baselines:\n",
    "                fig, axs = plt.subplots(len(mov_type),len(sacs),figsize=(5*len(sacs),5*len(mov_type)))\n",
    "                for m,m_t in enumerate(mov_type):\n",
    "                    for s,sac in enumerate(sacs):\n",
    "                        trace_label = '%s_%s_avg_%s_%s' % (rec,sac,m_t,eh)\n",
    "                        cluster = trace_label + '_cluster'\n",
    "                        clusts = np.unique(df[cluster])\n",
    "                        len_trace = len(df[trace_label].iloc[0])\n",
    "\n",
    "                        for clust in clusts:\n",
    "                            clust_df = df[df[cluster]==clust]\n",
    "                            clust_df.reset_index(inplace=True,drop=True)\n",
    "                            cluster_label = clust_df[cluster + '_type'].iloc[0]\n",
    "                            sessions = np.unique(clust_df['session'])\n",
    "                            num_sess = len(np.unique(clust_df['session']))\n",
    "                            all_sess = np.zeros((num_sess,len_trace))\n",
    "                            for se,sess in enumerate(sessions):\n",
    "                                sess_df = clust_df[clust_df['session']==sess]\n",
    "                                if len(sess_df)>0:\n",
    "                                    sess_df.reset_index(inplace=True,drop=True)\n",
    "                                    sess_array = np.zeros((len(sess_df),len_trace))\n",
    "                                    for t,trace in enumerate(sess_df[trace_label]):\n",
    "                                        sess_array[t,:] = trace\n",
    "                                    all_sess[se,:] = np.nanmean(sess_array,axis=0)\n",
    "                                else:\n",
    "                                    sess_array = np.empty(len_trace)\n",
    "                                    sess_array[:] = np.nan\n",
    "                                    all_sess[se,:] = sess_array\n",
    "\n",
    "                            ax = axs[m,s]\n",
    "                            x = trange\n",
    "                            y=np.nanmean(all_sess,axis=0)\n",
    "                            if baseline:\n",
    "                                y-=np.nanmean(y[baseline_pts])\n",
    "                            err = np.nanstd(all_sess,axis=0)/np.sqrt(num_sess)\n",
    "\n",
    "                            ax.plot(x,y,'-',label=str(clust))\n",
    "                            ax.fill_between(x,y-err,y+err,alpha=0.2)\n",
    "                        ax.set_xlabel('time from movement (s)')\n",
    "                        ax.set_title(trace_label)\n",
    "                        ax.set_xlim(trace_range[0],trace_range[1])\n",
    "                        if baseline:\n",
    "                            ax.set_ylim(-15,15)\n",
    "                            ax.set_ylabel('baselined sp/s')\n",
    "                        else:\n",
    "                            ax.set_ylim(0,40)\n",
    "                            ax.set_ylabel('sp/s')\n",
    "                        ax = xy_axis(ax)\n",
    "                        ax.legend(fontsize=8)\n",
    "                fig.tight_layout()\n",
    "                if save_pdf:\n",
    "                    pp.savefig(fig)\n",
    "                    plt.close(fig)\n",
    "\n",
    "    print('finished adding eye/head plots to PDF!')"
   ]
  },
  {
   "cell_type": "markdown",
   "metadata": {},
   "source": [
    "# Load the data"
   ]
  },
  {
   "cell_type": "code",
   "execution_count": null,
   "metadata": {},
   "outputs": [],
   "source": [
    "group_file = r'\\\\Goeppert\\nlab-nas\\freely_moving_ephys\\batch_files\\092221\\pooled_ephys_population_update_092221.pickle'\n",
    "df = pd.read_pickle(group_file)\n",
    "\n",
    "# remove inserted column if it exists\n",
    "try:\n",
    "    del df['level_0']\n",
    "except:\n",
    "    pass"
   ]
  },
  {
   "cell_type": "markdown",
   "metadata": {},
   "source": [
    "# set up PDF"
   ]
  },
  {
   "cell_type": "code",
   "execution_count": null,
   "metadata": {},
   "outputs": [],
   "source": [
    "pdf_file = r'T:/freely_moving_ephys/group_analysis.pdf'\n",
    "pp = PdfPages(pdf_file)"
   ]
  },
  {
   "cell_type": "markdown",
   "metadata": {},
   "source": [
    "# Plot firing rate around eye/head movements for all sessions"
   ]
  },
  {
   "cell_type": "code",
   "execution_count": null,
   "metadata": {},
   "outputs": [],
   "source": [
    "recs = ['fm1'] #list of recording names\n",
    "sacs = ['upsacc','downsacc'] #list of saccade names\n",
    "mov_type = ['gaze_shift','comp'] #list of movement types\n",
    "eye_head = ['dEye','dHead'] #list of eye/head variables\n",
    "trace_range = [-0.25,0.5] #time range to plot traces over\n",
    "trange = np.arange(-1,1.1-0.025,0.025) #time points for traces\n",
    "baselines=[True,False] #do you want to baseline or do not or do both\n",
    "baseline_pts = np.arange(20,36) #indices for baselining\n",
    "save_pdf=True #do you want to save pdf\n",
    "\n",
    "plot_group_eye_head_traces(df,sacs,mov_type,eye_head,baselines,baseline_pts,trace_range,trange,save_pdf,pp)"
   ]
  },
  {
   "cell_type": "markdown",
   "metadata": {},
   "source": [
    "# Close the PDF"
   ]
  },
  {
   "cell_type": "code",
   "execution_count": null,
   "metadata": {},
   "outputs": [],
   "source": [
    "pp.close()"
   ]
  },
  {
   "cell_type": "code",
   "execution_count": null,
   "metadata": {},
   "outputs": [],
   "source": []
  }
 ],
 "metadata": {
  "kernelspec": {
   "display_name": "Python [conda env:ephys1-gpu]",
   "language": "python",
   "name": "conda-env-ephys1-gpu-py"
  },
  "language_info": {
   "codemirror_mode": {
    "name": "ipython",
    "version": 3
   },
   "file_extension": ".py",
   "mimetype": "text/x-python",
   "name": "python",
   "nbconvert_exporter": "python",
   "pygments_lexer": "ipython3",
   "version": "3.8.12"
  }
 },
 "nbformat": 4,
 "nbformat_minor": 4
}
