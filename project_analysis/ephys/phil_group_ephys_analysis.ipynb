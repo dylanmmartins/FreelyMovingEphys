{
 "cells": [
  {
   "cell_type": "markdown",
   "metadata": {},
   "source": [
    "# Optic flow analysis"
   ]
  },
  {
   "cell_type": "code",
   "execution_count": 32,
   "metadata": {},
   "outputs": [],
   "source": [
    "### optic flow dependencies\n",
    "import os\n",
    "import numpy as np\n",
    "import cv2 as cv\n",
    "import matplotlib.pyplot as plt\n",
    "from mpl_toolkits.axes_grid1 import make_axes_locatable\n",
    "from matplotlib.backends.backend_pdf import PdfPages\n",
    "import warnings\n",
    "warnings.filterwarnings('ignore')\n",
    "import ray\n",
    "import matplotlib as mpl"
   ]
  },
  {
   "cell_type": "code",
   "execution_count": 8,
   "metadata": {},
   "outputs": [
    {
     "name": "stdout",
     "output_type": "stream",
     "text": [
      "(44654, 60, 80)\n"
     ]
    }
   ],
   "source": [
    "### load in shifter network-corrected world view\n",
    "vid_file = r'\\\\goeppert\\nlab-nas\\freely_moving_ephys\\optic_flow_data\\070921\\J553RT\\Shifted_worldcam_dt025.npy'\n",
    "wc_data = np.load(vid_file)\n",
    "print(wc_data.shape)"
   ]
  },
  {
   "cell_type": "code",
   "execution_count": 9,
   "metadata": {},
   "outputs": [
    {
     "data": {
      "image/png": "[encoded data removed]",
      "text/plain": [
       "<Figure size 432x288 with 1 Axes>"
      ]
     },
     "metadata": {
      "needs_background": "light"
     },
     "output_type": "display_data"
    }
   ],
   "source": [
    "### show an example frame\n",
    "plt.imshow(wc_data[100,:,:],cmap='gray')\n",
    "plt.show()"
   ]
  },
  {
   "cell_type": "code",
   "execution_count": 10,
   "metadata": {},
   "outputs": [
    {
     "name": "stdout",
     "output_type": "stream",
     "text": [
      "finished making PDF!\n"
     ]
    }
   ],
   "source": [
    "### plot some example flow data in a pdf\n",
    "\n",
    "nrows = 3 # to show raw, difference, and optic flow\n",
    "ncols = 10 # number of example frames to plot\n",
    "fig_scale=3 # how big to blow up the figure\n",
    "\n",
    "# st_frame = 1000 #animal moves a bit\n",
    "st_frame = 10000 #monitor view\n",
    "\n",
    "nx=5 #downsample factor\n",
    "scale=0.25\n",
    "win=15\n",
    "\n",
    "### initialize the figure\n",
    "fig, axs = plt.subplots(nrows,ncols,figsize=(ncols*fig_scale,nrows*fig_scale))\n",
    "\n",
    "### initialize the pdf\n",
    "pdf_file = r'T:/freely_moving_ephys/%s_frame%d_bin%dX_win%d_scale%0.2f.pdf' % (os.path.split(vid_file)[-1][:-4],st_frame,nx,win,scale)\n",
    "pp = PdfPages(pdf_file)\n",
    "\n",
    "### loop through example frames, get flow, and plot everything\n",
    "for f,fr in enumerate(np.arange(st_frame,st_frame+ncols,1)):\n",
    "\n",
    "    prvs = wc_data[fr,:,:] # current frame\n",
    "    next = wc_data[fr+1,:,:] # next frame\n",
    "\n",
    "    w = prvs.shape[0]\n",
    "    h = prvs.shape[1]\n",
    "    X,Y = np.meshgrid(np.arange(0,h),np.arange(0,w))\n",
    "\n",
    "    flow = cv.calcOpticalFlowFarneback(prvs,next, None, 0.5, 3, win, 3, 5, 1.2, 0) #(prvs,next, None, 0.5, 3, 3, 15, 5, 1.2, 0)\n",
    "    # mag, ang = cv.cartToPolar(flow[...,0], flow[...,1])\n",
    "\n",
    "    ### plot raw frame\n",
    "    ax = axs[0,f]\n",
    "    im = ax.imshow(prvs,cmap='gray',vmin=-2.5,vmax=2.5)\n",
    "    ax.axis('off')\n",
    "\n",
    "    ### plot raw difference\n",
    "    ax = axs[1,f]\n",
    "    im2 = ax.imshow(next-prvs,cmap='jet',vmin=-2.5,vmax=2.5)\n",
    "    ax.axis('off')\n",
    "\n",
    "    ### plot optic flow\n",
    "    ax = axs[2,f]\n",
    "    U = flow[:,:,0]\n",
    "    V = flow[:,:,1]\n",
    "    ax.quiver(X[::nx,::nx],Y[::nx,::nx],U[::nx,::nx],-V[::nx,::nx],scale=scale)\n",
    "    ax.axis('off')\n",
    "\n",
    "### make colorbar for raw data\n",
    "ax = axs[0,f]   \n",
    "divider = make_axes_locatable(ax)\n",
    "cax = divider.append_axes(\"right\", size=\"5%\", pad=0.05)\n",
    "plt.colorbar(im, cax=cax)\n",
    "\n",
    "### make colorbar for raw difference\n",
    "ax = axs[1,f]   \n",
    "divider = make_axes_locatable(ax)\n",
    "cax = divider.append_axes(\"right\", size=\"5%\", pad=0.05)\n",
    "plt.colorbar(im2, cax=cax)\n",
    "\n",
    "### save figure to pdf and close both\n",
    "pp.savefig(fig)\n",
    "plt.close(fig)\n",
    "pp.close()\n",
    "\n",
    "print('finished making PDF!')"
   ]
  },
  {
   "cell_type": "code",
   "execution_count": 15,
   "metadata": {},
   "outputs": [
    {
     "name": "stdout",
     "output_type": "stream",
     "text": [
      "Finished saving 44653 frames to file!\n"
     ]
    }
   ],
   "source": [
    "### calculate optic flow for the entire video\n",
    "\n",
    "fr = wc_data.shape[0]-1 # total number of frames in video (-1 since we're taking the difference between consecutive)\n",
    "w = wc_data.shape[1] # image width\n",
    "h = wc_data.shape[2] # image height\n",
    "flow_data = np.zeros((fr,w,h,2)) # initialize optic flow array\n",
    "\n",
    "### loop over all frames to get optic flow, populate array\n",
    "for f in range(fr):\n",
    "    flow = cv.calcOpticalFlowFarneback(wc_data[f,:,:],wc_data[f+1,:,:], None, 0.5, 3, win, 3, 5, 1.2, 0)\n",
    "    flow_data[f,:,:,0] = flow[:,:,0]\n",
    "    flow_data[f,:,:,1] = flow[:,:,1]\n",
    "\n",
    "new_flow1 = np.reshape(flow_data,(flow_data.shape[0],flow_data.shape[1]*flow_data.shape[2],flow_data.shape[3]))\n",
    "new_flow2 = np.reshape(new_flow,(flow_data.shape[0],flow_data.shape[1]*flow_data.shape[2]*flow_data.shape[3]))\n",
    "new_flow2 = new_flow2.astype('float32')\n",
    "### save out the data\n",
    "np.save(r'T:\\freely_moving_ephys\\%s_flow_data.npy' % os.path.split(vid_file)[-1][:-4],flow_data)\n",
    "\n",
    "print('Finished saving %d frames to file!' % fr)"
   ]
  },
  {
   "cell_type": "code",
   "execution_count": 31,
   "metadata": {},
   "outputs": [
    {
     "data": {
      "text/plain": [
       "(-3.75, 78.75, -2.75, 57.75)"
      ]
     },
     "execution_count": 31,
     "metadata": {},
     "output_type": "execute_result"
    },
    {
     "data": {
      "image/png": "[encoded data removed]",
      "text/plain": [
       "<Figure size 720x360 with 2 Axes>"
      ]
     },
     "metadata": {
      "needs_background": "light"
     },
     "output_type": "display_data"
    }
   ],
   "source": [
    "t=100\n",
    "nx = 5\n",
    "scale = 0.25\n",
    "\n",
    "fig, axs = plt.subplots(1,2,figsize=(10,5))\n",
    "\n",
    "ax = axs[0]\n",
    "ax.imshow(wc_data[t,:,:],cmap='gray')\n",
    "ax.axis('off')\n",
    "ax.axis('equal')\n",
    "\n",
    "ax = axs[1]\n",
    "U = flow_data[t,:,:,0]\n",
    "V = flow_data[t,:,:,1]\n",
    "ax.quiver(X[::nx,::nx],Y[::nx,::nx],U[::nx,::nx],-V[::nx,::nx],scale=scale)\n",
    "ax.axis('off')\n",
    "ax.axis('equal')\n"
   ]
  },
  {
   "cell_type": "code",
   "execution_count": 20,
   "metadata": {},
   "outputs": [
    {
     "name": "stdout",
     "output_type": "stream",
     "text": [
      "(44654, 60, 80)\n"
     ]
    }
   ],
   "source": [
    "ray.init(ignore_reinit_error=True)\n",
    "t=100\n",
    "nx = 5\n",
    "scale = 0.25\n",
    "\n",
    "@ray.remote\n",
    "def plot_optic_flow_movie(wc_data,flow_data,t,nx,scale):\n",
    "    fig, axs = plt.subplots(1,2,figsize=(10,5))\n",
    "\n",
    "    ax = axs[0]\n",
    "    ax.imshow(wc_data[t,:,:],cmap='gray')\n",
    "    ax.axis('off')\n",
    "    ax.axis('equal')\n",
    "\n",
    "    ax = axs[1]\n",
    "    U = flow_data[t,:,:,0]\n",
    "    V = flow_data[t,:,:,1]\n",
    "    ax.quiver(X[::nx,::nx],Y[::nx,::nx],U[::nx,::nx],-V[::nx,::nx],scale=scale)\n",
    "    ax.axis('off')\n",
    "    ax.axis('equal')\n",
    "\n",
    "    fig.tight_layout()\n",
    "\n",
    "    width, height = fig.get_size_inches() * fig.get_dpi()\n",
    "    fig.canvas.draw()       # draw the canvas, cache the renderer\n",
    "    images = np.frombuffer(fig.canvas.tostring_rgb(),\n",
    "                        dtype='uint8').reshape(int(height), int(width), 3)\n",
    "    \n",
    "    plt.close(fig)\n",
    "    \n",
    "    return images\n"
   ]
  },
  {
   "cell_type": "code",
   "execution_count": null,
   "metadata": {},
   "outputs": [],
   "source": [
    "mpl.use('agg')\n",
    "\n",
    "# start = time.time()\n",
    "##### initialize time points for animation and progressbar #####\n",
    "t = 0\n",
    "dt = 10*50 #sec * fps\n",
    "time_range = np.arange(t,t+dt)\n",
    "# num_ticks = np.size(time_range)\n",
    "# pb = ProgressBar(num_ticks)\n",
    "# actor = pb.actor\n",
    "\n",
    "##### Put large arrays into shared memory #####\n",
    "time_range_r = ray.put(time_range)\n",
    "wc_data_r = ray.put(wc_data)\n",
    "flow_data_r = ray.put(flow_data)\n",
    "\n",
    "##### Loop over parameters appending process ids #####\n",
    "result_ids = []\n",
    "for t in time_range:\n",
    "    result_ids.append(plot_optic_flow_movie.remote(wc_data_r,flow_data_r,t,nx,scale))\n",
    "\n",
    "##### pring progressbar and get results #####\n",
    "# pb.print_until_done()\n",
    "results_p = ray.get(result_ids)\n",
    "images = np.stack([results_p[i] for i in range(len(results_p))])\n",
    "\n",
    "##### Make video with opencv #####\n",
    "aniname = 'optic_flow_test.mp4'\n",
    "vid_name = r'T:/freely_moving_ephys/' + aniname\n",
    "model_dt = 0.025\n",
    "FPS = int(1/model_dt)\n",
    "out = cv2.VideoWriter(vid_name.as_posix(), cv2.VideoWriter_fourcc(*'mp4v'), FPS, (images.shape[-2], images.shape[-3]))\n",
    "\n",
    "for fm in range(images.shape[0]):\n",
    "    out.write(cv2.cvtColor(images[fm], cv2.COLOR_BGR2RGB))\n",
    "out.release()\n",
    "# print('Making Animation {}: {}'.format(aniname, time.time()-start))\n",
    "# del results_p, time_range_r, model_vid_sm_r, model_gz_r, model_th_r, model_phi_r, pb\n",
    "# gc.collect()\n"
   ]
  },
  {
   "cell_type": "code",
   "execution_count": 29,
   "metadata": {},
   "outputs": [
    {
     "data": {
      "text/plain": [
       "(60, 80)"
      ]
     },
     "execution_count": 29,
     "metadata": {},
     "output_type": "execute_result"
    }
   ],
   "source": [
    "U.shape"
   ]
  },
  {
   "cell_type": "code",
   "execution_count": 18,
   "metadata": {},
   "outputs": [
    {
     "data": {
      "text/plain": [
       "(44653, 60, 80, 2)"
      ]
     },
     "execution_count": 18,
     "metadata": {},
     "output_type": "execute_result"
    }
   ],
   "source": [
    "new_flow = np.reshape(new_flow2,(new_flow2.shape[0],60*80,2))\n",
    "flow_data = np.reshape(new_flow,(new_flow2.shape[0],60,80,2))\n",
    "flow_data.shape"
   ]
  },
  {
   "cell_type": "code",
   "execution_count": 13,
   "metadata": {},
   "outputs": [
    {
     "name": "stdout",
     "output_type": "stream",
     "text": [
      "44653 60 80\n"
     ]
    }
   ],
   "source": [
    "print(fr,w,h)"
   ]
  },
  {
   "cell_type": "markdown",
   "metadata": {},
   "source": [
    "# Group eye movement analysis"
   ]
  },
  {
   "cell_type": "code",
   "execution_count": 109,
   "metadata": {},
   "outputs": [
    {
     "name": "stdout",
     "output_type": "stream",
     "text": [
      "finished loading dependencies\n"
     ]
    }
   ],
   "source": [
    "### dependencies\n",
    "\n",
    "import pandas as pd\n",
    "import numpy as np\n",
    "import matplotlib.pyplot as plt\n",
    "from matplotlib.backends.backend_pdf import PdfPages\n",
    "import warnings\n",
    "warnings.filterwarnings('ignore')\n",
    "\n",
    "### functions\n",
    "\n",
    "def xy_axis(ax):\n",
    "    \n",
    "    ### Removes the top and right bounding axes that are plotted by default in matplotlib\n",
    "    \n",
    "    ### INPUTS\n",
    "    ### ax: axis object (e.g. from fig,ax = plt.subplots(1,1))\n",
    "    \n",
    "    ### OUTPUTS\n",
    "    ### ax: the same axis w/top and right lines removed\n",
    "    \n",
    "    # Hide the right and top spines\n",
    "    ax.spines['right'].set_visible(False)\n",
    "    ax.spines['top'].set_visible(False)\n",
    "\n",
    "    # Only show ticks on the left and bottom spines\n",
    "    ax.yaxis.set_ticks_position('left')\n",
    "    ax.xaxis.set_ticks_position('bottom')\n",
    "\n",
    "    return ax\n",
    "\n",
    "print('finished loading dependencies')\n",
    "\n",
    "def plot_group_eye_head_traces(df,sacs,mov_type,eye_head,baselines,baseline_pts,trace_range,trange,save_pdf,pp,sup):\n",
    "    \n",
    "    ### plots clustered traces of spiking vs. eye/head movements and saves a pdf (optional)\n",
    "    \n",
    "    ### INPUTS\n",
    "    ### recs: list of recordings names, e.g. ['fm1']\n",
    "    ### sacs: list of saccade labels, e.g. ['upsacc','downsacc']\n",
    "    ### mov_type: list of movement types, e.g. ['gaze_shift','comp']\n",
    "    ### eye_head: list of eye/head movement labels, e.g. ['dEye','dHead']\n",
    "    ### trace_range: time range you want to plot over, e.g. [-0.25,0.5]\n",
    "    ### trange: time points for traces, current is np.arange(-1,1.1-0.025,0.025)\n",
    "    ### baselines: list of booleans if you want to baseline traces or not, e.g. [True,False]\n",
    "    ### baseline_pts: indices to use for baseline subtraction, e.g. np.arange(20,36)\n",
    "    ### save_pdf: boolean value for if you want to save a pdf, e.g. True\n",
    "    \n",
    "    ### OUTPUTS\n",
    "    ### currently none\n",
    "    \n",
    "    for rec in recs:\n",
    "        for eh in eye_head:\n",
    "            for baseline in baselines:\n",
    "                fig, axs = plt.subplots(len(mov_type),len(sacs),figsize=(5*len(sacs),5*len(mov_type)))\n",
    "                for m,m_t in enumerate(mov_type):\n",
    "                    for s,sac in enumerate(sacs):\n",
    "                        trace_label = '%s_%s_avg_%s_%s' % (rec,sac,m_t,eh)\n",
    "                        cluster = trace_label + '_cluster'\n",
    "#                         cluster = 'fm1_upsacc_avg_gaze_shift_dEye_cluster' #% (eh)\n",
    "                        clusts = np.unique(df[cluster])\n",
    "                        len_trace = len(df[trace_label].iloc[-1])\n",
    "\n",
    "                        for clust in clusts:\n",
    "                            clust_df = df[df[cluster]==clust]\n",
    "                            clust_df.reset_index(inplace=True,drop=True)\n",
    "#                             cluster_label = clust_df[cluster + '_type'].iloc[0]\n",
    "                            sessions = np.unique(clust_df['session'])\n",
    "                            num_sess = len(np.unique(clust_df['session']))\n",
    "                            all_sess = np.zeros((num_sess,len_trace))\n",
    "                            for se,sess in enumerate(sessions):\n",
    "                                sess_df = clust_df[clust_df['session']==sess]\n",
    "                                if len(sess_df)>0:\n",
    "                                    sess_df.reset_index(inplace=True,drop=True)\n",
    "                                    sess_array = np.zeros((len(sess_df),len_trace))\n",
    "                                    for t,trace in enumerate(sess_df[trace_label]):\n",
    "                                        sess_array[t,:] = trace\n",
    "                                    all_sess[se,:] = np.nanmean(sess_array,axis=0)\n",
    "                                else:\n",
    "                                    sess_array = np.empty(len_trace)\n",
    "                                    sess_array[:] = np.nan\n",
    "                                    all_sess[se,:] = sess_array\n",
    "\n",
    "                            ax = axs[m,s]\n",
    "                            x = trange\n",
    "                            y=np.nanmean(all_sess,axis=0)\n",
    "                            if baseline:\n",
    "                                y-=np.nanmean(y[baseline_pts])\n",
    "                            err = np.nanstd(all_sess,axis=0)/np.sqrt(num_sess)\n",
    "\n",
    "                            ax.plot(x,y,'-',label=str(clust))\n",
    "                            ax.fill_between(x,y-err,y+err,alpha=0.2)\n",
    "                        ax.set_xlabel('time from movement (s)')\n",
    "                        ax.set_title(trace_label)\n",
    "                        ax.set_xlim(trace_range[0],trace_range[1])\n",
    "                        if baseline:\n",
    "                            ax.set_ylim(-15,15)\n",
    "                            ax.set_ylabel('baselined sp/s')\n",
    "                        else:\n",
    "                            ax.set_ylim(0,40)\n",
    "                            ax.set_ylabel('sp/s')\n",
    "                        ax = xy_axis(ax)\n",
    "                        ax.legend(fontsize=8)\n",
    "                fig.tight_layout()\n",
    "                if save_pdf:\n",
    "                    pp.savefig(fig)\n",
    "                    plt.close(fig)\n",
    "\n",
    "    print('finished adding eye/head plots to PDF!')"
   ]
  },
  {
   "cell_type": "markdown",
   "metadata": {},
   "source": [
    "# Load the data"
   ]
  },
  {
   "cell_type": "code",
   "execution_count": 11,
   "metadata": {},
   "outputs": [],
   "source": [
    "group_file = r'\\\\Goeppert\\nlab-nas\\freely_moving_ephys\\batch_files\\092221\\pooled_ephys_population_update_092221.pickle'\n",
    "df = pd.read_pickle(group_file)\n",
    "\n",
    "# remove inserted column if it exists\n",
    "try:\n",
    "    del df['level_0']\n",
    "except:\n",
    "    pass"
   ]
  },
  {
   "cell_type": "markdown",
   "metadata": {},
   "source": [
    "# set up PDF"
   ]
  },
  {
   "cell_type": "code",
   "execution_count": 110,
   "metadata": {},
   "outputs": [],
   "source": [
    "pdf_file = r'T:/freely_moving_ephys/group_analysis_cluster.pdf'\n",
    "pp = PdfPages(pdf_file)"
   ]
  },
  {
   "cell_type": "markdown",
   "metadata": {},
   "source": [
    "# Plot firing rate around eye/head movements for all sessions"
   ]
  },
  {
   "cell_type": "code",
   "execution_count": 111,
   "metadata": {},
   "outputs": [
    {
     "name": "stdout",
     "output_type": "stream",
     "text": [
      "finished adding eye/head plots to PDF!\n"
     ]
    }
   ],
   "source": [
    "recs = ['fm1'] #list of recording names\n",
    "sacs = ['upsacc','downsacc'] #list of saccade names\n",
    "mov_type = ['gaze_shift','comp'] #list of movement types\n",
    "eye_head = ['dEye','dHead'] #list of eye/head variables\n",
    "trace_range = [-0.25,0.5] #time range to plot traces over\n",
    "trange = np.arange(-1,1.1-0.025,0.025) #time points for traces\n",
    "baselines=[True,False] #do you want to baseline or do not or do both\n",
    "baseline_pts = np.arange(20,36) #indices for baselining\n",
    "save_pdf=True #do you want to save pdf\n",
    "sup = 'grouped by own cluster'\n",
    "plot_group_eye_head_traces(df,sacs,mov_type,eye_head,baselines,baseline_pts,trace_range,trange,save_pdf,pp,sup)"
   ]
  },
  {
   "cell_type": "markdown",
   "metadata": {},
   "source": [
    "# Close the PDF"
   ]
  },
  {
   "cell_type": "code",
   "execution_count": 112,
   "metadata": {},
   "outputs": [],
   "source": [
    "pp.close()"
   ]
  },
  {
   "cell_type": "code",
   "execution_count": 60,
   "metadata": {},
   "outputs": [
    {
     "data": {
      "image/png": "[encoded data removed]",
      "text/plain": [
       "<Figure size 720x720 with 8 Axes>"
      ]
     },
     "metadata": {
      "needs_background": "light"
     },
     "output_type": "display_data"
    }
   ],
   "source": [
    "rec = 'fm1'\n",
    "fig, axs = plt.subplots(2,2,figsize=(10,10))\n",
    "axs=axs.ravel()\n",
    "cnt=0\n",
    "for eh in eye_head:\n",
    "    for m,m_t in enumerate(mov_type):\n",
    "        \n",
    "        up_clust = 'fm1_upsacc_avg_%s_%s_cluster' % (m_t,eh)\n",
    "        down_clust = 'fm1_downsacc_avg_%s_%s_cluster' % (m_t,eh)\n",
    "        \n",
    "        delta_array = np.zeros([5,5])\n",
    "        for index,row in df.iterrows():\n",
    "            up_ind = int(row[up_clust])\n",
    "            down_ind = int(row[down_clust])\n",
    "            delta_array[up_ind,down_ind] = delta_array[up_ind,down_ind] + 1\n",
    "        delta_array /= len(df)\n",
    "        \n",
    "        da = delta_array.copy()\n",
    "        idx = np.unravel_index(np.argmax(da), da.shape)\n",
    "        da[idx[0],idx[1]]=0\n",
    "        \n",
    "        ax = axs[cnt]\n",
    "        pos = ax.imshow(delta_array,cmap='gray',vmin=0,vmax=np.amax(da))\n",
    "        ax.set_xlabel(up_clust)\n",
    "        ax.set_ylabel(down_clust)\n",
    "        cbar = plt.colorbar(pos,ax=ax)\n",
    "        cbar.set_label('fraction of total cells')\n",
    "        \n",
    "        cnt+=1\n",
    "fig.tight_layout()"
   ]
  },
  {
   "cell_type": "code",
   "execution_count": 81,
   "metadata": {},
   "outputs": [
    {
     "data": {
      "text/plain": [
       "(636, 530)"
      ]
     },
     "execution_count": 81,
     "metadata": {},
     "output_type": "execute_result"
    }
   ],
   "source": [
    "df.shape"
   ]
  },
  {
   "cell_type": "code",
   "execution_count": 82,
   "metadata": {},
   "outputs": [
    {
     "data": {
      "image/png": "[encoded data removed]",
      "text/plain": [
       "<Figure size 720x720 with 8 Axes>"
      ]
     },
     "metadata": {
      "needs_background": "light"
     },
     "output_type": "display_data"
    }
   ],
   "source": [
    "rec = 'fm1'\n",
    "fig, axs = plt.subplots(2,2,figsize=(10,10))\n",
    "axs=axs.ravel()\n",
    "cnt=0\n",
    "comp_remap = [3.,0.,2.,4.,1.]\n",
    "for eh in eye_head:\n",
    "    for s,sac in enumerate(sacs):\n",
    "        \n",
    "        up_clust = 'fm1_%s_avg_gaze_shift_%s_cluster' % (sac,eh)\n",
    "        down_clust = 'fm1_%s_avg_comp_%s_cluster' % (sac,eh)\n",
    "        \n",
    "        \n",
    "        comp_remap_type = []\n",
    "        for index,row in df.iterrows():\n",
    "            comp_remap_type.append(comp_remap[int(row[down_clust])])\n",
    "            \n",
    "        df['comp_remap_type'] = comp_remap_type\n",
    "        \n",
    "        delta_array = np.zeros([5,5])\n",
    "        for index,row in df.iterrows():\n",
    "            up_ind = int(row[up_clust])\n",
    "            down_ind = int(row['comp_remap_type'])\n",
    "            delta_array[up_ind,down_ind] = delta_array[up_ind,down_ind] + 1\n",
    "        delta_array /= len(df)\n",
    "        \n",
    "        da = delta_array.copy()\n",
    "        idx = np.unravel_index(np.argmax(da), da.shape)\n",
    "        da[idx[0],idx[1]]=0\n",
    "        \n",
    "        ax = axs[cnt]\n",
    "        pos = ax.imshow(delta_array,cmap='gray',vmin=0,vmax=np.amax(da))\n",
    "        ax.set_xlabel(up_clust)\n",
    "        ax.set_ylabel(down_clust)\n",
    "        cbar = plt.colorbar(pos,ax=ax)\n",
    "        cbar.set_label('fraction of total cells')\n",
    "        \n",
    "        cnt+=1\n",
    "fig.tight_layout()"
   ]
  },
  {
   "cell_type": "code",
   "execution_count": 101,
   "metadata": {},
   "outputs": [
    {
     "data": {
      "text/plain": [
       "array([[0.64779874, 0.00471698, 0.00471698, 0.00471698, 0.00157233],\n",
       "       [0.04559748, 0.00943396, 0.00628931, 0.00157233, 0.00157233],\n",
       "       [0.03616352, 0.03459119, 0.05660377, 0.00157233, 0.01415094],\n",
       "       [0.01257862, 0.        , 0.        , 0.00471698, 0.        ],\n",
       "       [0.03930818, 0.        , 0.01886792, 0.        , 0.05345912]])"
      ]
     },
     "execution_count": 101,
     "metadata": {},
     "output_type": "execute_result"
    }
   ],
   "source": [
    "delta_array"
   ]
  },
  {
   "cell_type": "code",
   "execution_count": 76,
   "metadata": {},
   "outputs": [],
   "source": [
    "up_clust = 'fm1_%s_avg_gaze_shift_%s_cluster_type' % (sac,eh)\n",
    "down_clust = 'fm1_%s_avg_comp_%s_cluster_type' % (sac,eh)"
   ]
  },
  {
   "cell_type": "code",
   "execution_count": 77,
   "metadata": {},
   "outputs": [
    {
     "data": {
      "text/plain": [
       "array(['biphasic', 'early', 'late', 'negative', 'unresponsive'],\n",
       "      dtype=object)"
      ]
     },
     "execution_count": 77,
     "metadata": {},
     "output_type": "execute_result"
    }
   ],
   "source": [
    "np.unique(df[up_clust])"
   ]
  },
  {
   "cell_type": "code",
   "execution_count": null,
   "metadata": {},
   "outputs": [],
   "source": [
    "#gaze\n",
    "#0 = unresponsive\n",
    "#1 = biphasic\n",
    "#2 = late\n",
    "#3 = negative\n",
    "#4 = early\n",
    "\n",
    "#comp\n",
    "#0 = negative\n",
    "#1 = unresponsive\n",
    "#2 = late\n",
    "#3 = early\n",
    "#4 = biphasic\n",
    "\n",
    "comp_remap = [3,0,2,4,1]\n",
    "comp_remap_type = []\n",
    "for index,row in df.iterrows():\n",
    "    comp_remap_type.append(comp_remap[row[down_clust]])"
   ]
  },
  {
   "cell_type": "code",
   "execution_count": 75,
   "metadata": {},
   "outputs": [
    {
     "data": {
      "text/plain": [
       "array(['index', 'Amplitude', 'ContamPct', 'KSLabel', 'amp', 'ch', 'depth',\n",
       "       'fr', 'group', 'fm1_n_spikes', 'sh', 'waveform', 'fm1_spikeT',\n",
       "       't0', 'fm1_spikeTraw', 'fm1_rate', 'fm1_c_range', 'fm1_crf_cent',\n",
       "       'fm1_crf_tuning', 'fm1_crf_err', 'fm1_spike_triggered_average',\n",
       "       'fm1_sta_shape', 'fm1_spike_triggered_variance', 'fm1_upsacc_avg',\n",
       "       'fm1_downsacc_avg', 'fm1_upsacc_avg_gaze_shift_dEye',\n",
       "       'fm1_downsacc_avg_gaze_shift_dEye', 'fm1_upsacc_avg_comp_dEye',\n",
       "       'fm1_downsacc_avg_comp_dEye', 'fm1_upsacc_avg_gaze_shift_dHead',\n",
       "       'fm1_downsacc_avg_gaze_shift_dHead', 'fm1_upsacc_avg_comp_dHead',\n",
       "       'fm1_downsacc_avg_comp_dHead',\n",
       "       'fm1_spike_rate_vs_pupil_radius_cent',\n",
       "       'fm1_spike_rate_vs_pupil_radius_tuning',\n",
       "       'fm1_spike_rate_vs_pupil_radius_err',\n",
       "       'fm1_spike_rate_vs_theta_cent', 'fm1_spike_rate_vs_theta_tuning',\n",
       "       'fm1_spike_rate_vs_theta_err', 'fm1_spike_rate_vs_gz_cent',\n",
       "       'fm1_spike_rate_vs_gz_tuning', 'fm1_spike_rate_vs_gz_err',\n",
       "       'fm1_spike_rate_vs_gx_cent', 'fm1_spike_rate_vs_gx_tuning',\n",
       "       'fm1_spike_rate_vs_gx_err', 'fm1_spike_rate_vs_gy_cent',\n",
       "       'fm1_spike_rate_vs_gy_tuning', 'fm1_spike_rate_vs_gy_err',\n",
       "       'fm1_trange', 'fm1_dHead', 'fm1_dEye', 'fm1_eyeT', 'fm1_theta',\n",
       "       'fm1_phi', 'fm1_gz', 'fm1_spike_rate_vs_roll_cent',\n",
       "       'fm1_spike_rate_vs_roll_tuning', 'fm1_spike_rate_vs_roll_err',\n",
       "       'fm1_spike_rate_vs_pitch_cent', 'fm1_spike_rate_vs_pitch_tuning',\n",
       "       'fm1_spike_rate_vs_pitch_err', 'fm1_glm_receptive_field',\n",
       "       'fm1_glm_cc', 'fm1_spike_rate_vs_phi_cent',\n",
       "       'fm1_spike_rate_vs_phi_tuning', 'fm1_spike_rate_vs_phi_err',\n",
       "       'fm1_accT', 'fm1_roll', 'fm1_pitch', 'fm1_roll_interp',\n",
       "       'fm1_pitch_interp', 'session', 'best_light_fm', 'best_dark_fm',\n",
       "       'hf1_wn_n_spikes', 'hf1_wn_spikeT', 'hf1_wn_spikeTraw',\n",
       "       'hf1_wn_rate', 'hf1_wn_c_range', 'hf1_wn_crf_cent',\n",
       "       'hf1_wn_crf_tuning', 'hf1_wn_crf_err',\n",
       "       'hf1_wn_spike_triggered_average', 'hf1_wn_sta_shape',\n",
       "       'hf1_wn_spike_triggered_variance', 'hf1_wn_upsacc_avg',\n",
       "       'hf1_wn_downsacc_avg', 'hf1_wn_spike_rate_vs_pupil_radius_cent',\n",
       "       'hf1_wn_spike_rate_vs_pupil_radius_tuning',\n",
       "       'hf1_wn_spike_rate_vs_pupil_radius_err',\n",
       "       'hf1_wn_spike_rate_vs_theta_cent',\n",
       "       'hf1_wn_spike_rate_vs_theta_tuning',\n",
       "       'hf1_wn_spike_rate_vs_theta_err', 'hf1_wn_trange', 'hf1_wn_theta',\n",
       "       'hf1_wn_phi', 'hf1_wn_glm_receptive_field', 'hf1_wn_glm_cc',\n",
       "       'hf1_wn_spike_rate_vs_spd_cent', 'hf1_wn_spike_rate_vs_spd_tuning',\n",
       "       'hf1_wn_spike_rate_vs_spd_err', 'hf1_wn_spike_rate_vs_phi_cent',\n",
       "       'hf1_wn_spike_rate_vs_phi_tuning', 'hf1_wn_spike_rate_vs_phi_err',\n",
       "       'hf1_wn_lfp_power_profiles', 'hf1_wn_lfp_layer5_centers',\n",
       "       'hf2_sprasenoiseflash_n_spikes', 'hf2_sprasenoiseflash_spikeT',\n",
       "       'hf2_sprasenoiseflash_spikeTraw', 'hf2_sprasenoiseflash_rate',\n",
       "       'hf2_sprasenoiseflash_c_range', 'hf2_sprasenoiseflash_crf_cent',\n",
       "       'hf2_sprasenoiseflash_crf_tuning', 'hf2_sprasenoiseflash_crf_err',\n",
       "       'hf2_sprasenoiseflash_spike_triggered_average',\n",
       "       'hf2_sprasenoiseflash_sta_shape',\n",
       "       'hf2_sprasenoiseflash_spike_triggered_variance',\n",
       "       'hf2_sprasenoiseflash_upsacc_avg',\n",
       "       'hf2_sprasenoiseflash_downsacc_avg',\n",
       "       'hf2_sprasenoiseflash_spike_rate_vs_pupil_radius_cent',\n",
       "       'hf2_sprasenoiseflash_spike_rate_vs_pupil_radius_tuning',\n",
       "       'hf2_sprasenoiseflash_spike_rate_vs_pupil_radius_err',\n",
       "       'hf2_sprasenoiseflash_spike_rate_vs_theta_cent',\n",
       "       'hf2_sprasenoiseflash_spike_rate_vs_theta_tuning',\n",
       "       'hf2_sprasenoiseflash_spike_rate_vs_theta_err',\n",
       "       'hf2_sprasenoiseflash_trange', 'hf2_sprasenoiseflash_theta',\n",
       "       'hf2_sprasenoiseflash_phi',\n",
       "       'hf2_sprasenoiseflash_spike_rate_vs_spd_cent',\n",
       "       'hf2_sprasenoiseflash_spike_rate_vs_spd_tuning',\n",
       "       'hf2_sprasenoiseflash_spike_rate_vs_spd_err',\n",
       "       'hf2_sprasenoiseflash_spike_rate_vs_phi_cent',\n",
       "       'hf2_sprasenoiseflash_spike_rate_vs_phi_tuning',\n",
       "       'hf2_sprasenoiseflash_spike_rate_vs_phi_err',\n",
       "       'hf2_sprasenoiseflash_lfp_power_profiles',\n",
       "       'hf2_sprasenoiseflash_lfp_layer5_centers', 'hf3_gratings_n_spikes',\n",
       "       'hf3_gratings_spikeT', 'hf3_gratings_spikeTraw',\n",
       "       'hf3_gratings_rate', 'hf3_gratings_c_range',\n",
       "       'hf3_gratings_crf_cent', 'hf3_gratings_crf_tuning',\n",
       "       'hf3_gratings_crf_err', 'hf3_gratings_spike_triggered_average',\n",
       "       'hf3_gratings_sta_shape', 'hf3_gratings_spike_triggered_variance',\n",
       "       'hf3_gratings_upsacc_avg', 'hf3_gratings_downsacc_avg',\n",
       "       'hf3_gratings_spike_rate_vs_pupil_radius_cent',\n",
       "       'hf3_gratings_spike_rate_vs_pupil_radius_tuning',\n",
       "       'hf3_gratings_spike_rate_vs_pupil_radius_err',\n",
       "       'hf3_gratings_spike_rate_vs_theta_cent',\n",
       "       'hf3_gratings_spike_rate_vs_theta_tuning',\n",
       "       'hf3_gratings_spike_rate_vs_theta_err',\n",
       "       'hf3_gratings_grating_psth', 'hf3_gratings_grating_ori',\n",
       "       'hf3_gratings_ori_tuning_tf', 'hf3_gratings_ori_tuning',\n",
       "       'hf3_gratings_drift_spont', 'hf3_gratings_spont_rate',\n",
       "       'hf3_gratings_grating_rate', 'hf3_gratings_sf_cat',\n",
       "       'hf3_gratings_trange', 'hf3_gratings_theta', 'hf3_gratings_phi',\n",
       "       'hf3_gratings_spike_rate_vs_spd_cent',\n",
       "       'hf3_gratings_spike_rate_vs_spd_tuning',\n",
       "       'hf3_gratings_spike_rate_vs_spd_err',\n",
       "       'hf3_gratings_spike_rate_vs_phi_cent',\n",
       "       'hf3_gratings_spike_rate_vs_phi_tuning',\n",
       "       'hf3_gratings_spike_rate_vs_phi_err',\n",
       "       'hf3_gratings_lfp_power_profiles',\n",
       "       'hf3_gratings_lfp_layer5_centers', 'hf4_revchecker_n_spikes',\n",
       "       'hf4_revchecker_spikeT', 'hf4_revchecker_spikeTraw',\n",
       "       'hf4_revchecker_rate', 'hf4_revchecker_c_range',\n",
       "       'hf4_revchecker_crf_cent', 'hf4_revchecker_crf_tuning',\n",
       "       'hf4_revchecker_crf_err', 'hf4_revchecker_spike_triggered_average',\n",
       "       'hf4_revchecker_sta_shape',\n",
       "       'hf4_revchecker_spike_triggered_variance',\n",
       "       'hf4_revchecker_upsacc_avg', 'hf4_revchecker_downsacc_avg',\n",
       "       'hf4_revchecker_spike_rate_vs_pupil_radius_cent',\n",
       "       'hf4_revchecker_spike_rate_vs_pupil_radius_tuning',\n",
       "       'hf4_revchecker_spike_rate_vs_pupil_radius_err',\n",
       "       'hf4_revchecker_spike_rate_vs_theta_cent',\n",
       "       'hf4_revchecker_spike_rate_vs_theta_tuning',\n",
       "       'hf4_revchecker_spike_rate_vs_theta_err', 'hf4_revchecker_trange',\n",
       "       'hf4_revchecker_revchecker_mean_resp_per_ch', 'hf4_revchecker_csd',\n",
       "       'hf4_revchecker_lfp_rel_depth', 'hf4_revchecker_theta',\n",
       "       'hf4_revchecker_phi', 'hf4_revchecker_spike_rate_vs_spd_cent',\n",
       "       'hf4_revchecker_spike_rate_vs_spd_tuning',\n",
       "       'hf4_revchecker_spike_rate_vs_spd_err',\n",
       "       'hf4_revchecker_spike_rate_vs_phi_cent',\n",
       "       'hf4_revchecker_spike_rate_vs_phi_tuning',\n",
       "       'hf4_revchecker_spike_rate_vs_phi_err',\n",
       "       'hf4_revchecker_layer4center', 'hf4_revchecker_lfp_power_profiles',\n",
       "       'hf4_revchecker_lfp_layer5_centers', 'best_ellipse_fit_m',\n",
       "       'best_ellipse_fit_r', 'probe_name',\n",
       "       'hf2_sparsenoiseflash_n_spikes', 'hf2_sparsenoiseflash_spikeT',\n",
       "       'hf2_sparsenoiseflash_spikeTraw', 'hf2_sparsenoiseflash_rate',\n",
       "       'hf2_sparsenoiseflash_c_range', 'hf2_sparsenoiseflash_crf_cent',\n",
       "       'hf2_sparsenoiseflash_crf_tuning', 'hf2_sparsenoiseflash_crf_err',\n",
       "       'hf2_sparsenoiseflash_spike_triggered_average',\n",
       "       'hf2_sparsenoiseflash_sta_shape',\n",
       "       'hf2_sparsenoiseflash_spike_triggered_variance',\n",
       "       'hf2_sparsenoiseflash_upsacc_avg',\n",
       "       'hf2_sparsenoiseflash_downsacc_avg',\n",
       "       'hf2_sparsenoiseflash_spike_rate_vs_pupil_radius_cent',\n",
       "       'hf2_sparsenoiseflash_spike_rate_vs_pupil_radius_tuning',\n",
       "       'hf2_sparsenoiseflash_spike_rate_vs_pupil_radius_err',\n",
       "       'hf2_sparsenoiseflash_spike_rate_vs_theta_cent',\n",
       "       'hf2_sparsenoiseflash_spike_rate_vs_theta_tuning',\n",
       "       'hf2_sparsenoiseflash_spike_rate_vs_theta_err',\n",
       "       'hf2_sparsenoiseflash_trange', 'hf2_sparsenoiseflash_theta',\n",
       "       'hf2_sparsenoiseflash_phi',\n",
       "       'hf2_sparsenoiseflash_spike_rate_vs_spd_cent',\n",
       "       'hf2_sparsenoiseflash_spike_rate_vs_spd_tuning',\n",
       "       'hf2_sparsenoiseflash_spike_rate_vs_spd_err',\n",
       "       'hf2_sparsenoiseflash_spike_rate_vs_phi_cent',\n",
       "       'hf2_sparsenoiseflash_spike_rate_vs_phi_tuning',\n",
       "       'hf2_sparsenoiseflash_spike_rate_vs_phi_err',\n",
       "       'hf2_sparsenoiseflash_lfp_power_profiles',\n",
       "       'hf2_sparsenoiseflash_lfp_layer5_centers', 'fm_dark_n_spikes',\n",
       "       'fm_dark_spikeT', 'fm_dark_spikeTraw', 'fm_dark_rate',\n",
       "       'fm_dark_c_range', 'fm_dark_crf_cent', 'fm_dark_crf_tuning',\n",
       "       'fm_dark_crf_err', 'fm_dark_spike_triggered_average',\n",
       "       'fm_dark_sta_shape', 'fm_dark_spike_triggered_variance',\n",
       "       'fm_dark_upsacc_avg', 'fm_dark_downsacc_avg',\n",
       "       'fm_dark_upsacc_avg_gaze_shift_dEye',\n",
       "       'fm_dark_downsacc_avg_gaze_shift_dEye',\n",
       "       'fm_dark_upsacc_avg_comp_dEye', 'fm_dark_downsacc_avg_comp_dEye',\n",
       "       'fm_dark_upsacc_avg_gaze_shift_dHead',\n",
       "       'fm_dark_downsacc_avg_gaze_shift_dHead',\n",
       "       'fm_dark_upsacc_avg_comp_dHead', 'fm_dark_downsacc_avg_comp_dHead',\n",
       "       'fm_dark_spike_rate_vs_pupil_radius_cent',\n",
       "       'fm_dark_spike_rate_vs_pupil_radius_tuning',\n",
       "       'fm_dark_spike_rate_vs_pupil_radius_err',\n",
       "       'fm_dark_spike_rate_vs_theta_cent',\n",
       "       'fm_dark_spike_rate_vs_theta_tuning',\n",
       "       'fm_dark_spike_rate_vs_theta_err', 'fm_dark_spike_rate_vs_gz_cent',\n",
       "       'fm_dark_spike_rate_vs_gz_tuning', 'fm_dark_spike_rate_vs_gz_err',\n",
       "       'fm_dark_spike_rate_vs_gx_cent', 'fm_dark_spike_rate_vs_gx_tuning',\n",
       "       'fm_dark_spike_rate_vs_gx_err', 'fm_dark_spike_rate_vs_gy_cent',\n",
       "       'fm_dark_spike_rate_vs_gy_tuning', 'fm_dark_spike_rate_vs_gy_err',\n",
       "       'fm_dark_trange', 'fm_dark_dHead', 'fm_dark_dEye', 'fm_dark_eyeT',\n",
       "       'fm_dark_theta', 'fm_dark_phi', 'fm_dark_gz',\n",
       "       'fm_dark_spike_rate_vs_roll_cent',\n",
       "       'fm_dark_spike_rate_vs_roll_tuning',\n",
       "       'fm_dark_spike_rate_vs_roll_err',\n",
       "       'fm_dark_spike_rate_vs_pitch_cent',\n",
       "       'fm_dark_spike_rate_vs_pitch_tuning',\n",
       "       'fm_dark_spike_rate_vs_pitch_err',\n",
       "       'fm_dark_spike_rate_vs_phi_cent',\n",
       "       'fm_dark_spike_rate_vs_phi_tuning',\n",
       "       'fm_dark_spike_rate_vs_phi_err', 'fm_dark_accT', 'fm_dark_roll',\n",
       "       'fm_dark_pitch', 'fm_dark_roll_interp', 'fm_dark_pitch_interp',\n",
       "       'hf2_sparsenoise_n_spikes', 'hf2_sparsenoise_spikeT',\n",
       "       'hf2_sparsenoise_spikeTraw', 'hf2_sparsenoise_rate',\n",
       "       'hf2_sparsenoise_c_range', 'hf2_sparsenoise_crf_cent',\n",
       "       'hf2_sparsenoise_crf_tuning', 'hf2_sparsenoise_crf_err',\n",
       "       'hf2_sparsenoise_spike_triggered_average',\n",
       "       'hf2_sparsenoise_sta_shape',\n",
       "       'hf2_sparsenoise_spike_triggered_variance',\n",
       "       'hf2_sparsenoise_upsacc_avg', 'hf2_sparsenoise_downsacc_avg',\n",
       "       'hf2_sparsenoise_spike_rate_vs_pupil_radius_cent',\n",
       "       'hf2_sparsenoise_spike_rate_vs_pupil_radius_tuning',\n",
       "       'hf2_sparsenoise_spike_rate_vs_pupil_radius_err',\n",
       "       'hf2_sparsenoise_spike_rate_vs_theta_cent',\n",
       "       'hf2_sparsenoise_spike_rate_vs_theta_tuning',\n",
       "       'hf2_sparsenoise_spike_rate_vs_theta_err',\n",
       "       'hf2_sparsenoise_trange', 'hf2_sparsenoise_theta',\n",
       "       'hf2_sparsenoise_phi', 'hf2_sparsenoise_spike_rate_vs_spd_cent',\n",
       "       'hf2_sparsenoise_spike_rate_vs_spd_tuning',\n",
       "       'hf2_sparsenoise_spike_rate_vs_spd_err',\n",
       "       'hf2_sparsenoise_spike_rate_vs_phi_cent',\n",
       "       'hf2_sparsenoise_spike_rate_vs_phi_tuning',\n",
       "       'hf2_sparsenoise_spike_rate_vs_phi_err',\n",
       "       'hf2_sparsenoise_lfp_power_profiles',\n",
       "       'hf2_sparsenoise_lfp_layer5_centers', 'fm2_n_spikes', 'fm2_spikeT',\n",
       "       'fm2_spikeTraw', 'fm2_rate', 'fm2_c_range', 'fm2_crf_cent',\n",
       "       'fm2_crf_tuning', 'fm2_crf_err', 'fm2_spike_triggered_average',\n",
       "       'fm2_sta_shape', 'fm2_spike_triggered_variance', 'fm2_upsacc_avg',\n",
       "       'fm2_downsacc_avg', 'fm2_upsacc_avg_gaze_shift_dEye',\n",
       "       'fm2_downsacc_avg_gaze_shift_dEye', 'fm2_upsacc_avg_comp_dEye',\n",
       "       'fm2_downsacc_avg_comp_dEye', 'fm2_upsacc_avg_gaze_shift_dHead',\n",
       "       'fm2_downsacc_avg_gaze_shift_dHead', 'fm2_upsacc_avg_comp_dHead',\n",
       "       'fm2_downsacc_avg_comp_dHead',\n",
       "       'fm2_spike_rate_vs_pupil_radius_cent',\n",
       "       'fm2_spike_rate_vs_pupil_radius_tuning',\n",
       "       'fm2_spike_rate_vs_pupil_radius_err',\n",
       "       'fm2_spike_rate_vs_theta_cent', 'fm2_spike_rate_vs_theta_tuning',\n",
       "       'fm2_spike_rate_vs_theta_err', 'fm2_spike_rate_vs_gz_cent',\n",
       "       'fm2_spike_rate_vs_gz_tuning', 'fm2_spike_rate_vs_gz_err',\n",
       "       'fm2_spike_rate_vs_gx_cent', 'fm2_spike_rate_vs_gx_tuning',\n",
       "       'fm2_spike_rate_vs_gx_err', 'fm2_spike_rate_vs_gy_cent',\n",
       "       'fm2_spike_rate_vs_gy_tuning', 'fm2_spike_rate_vs_gy_err',\n",
       "       'fm2_trange', 'fm2_dHead', 'fm2_dEye', 'fm2_eyeT', 'fm2_theta',\n",
       "       'fm2_phi', 'fm2_gz', 'fm2_spike_rate_vs_roll_cent',\n",
       "       'fm2_spike_rate_vs_roll_tuning', 'fm2_spike_rate_vs_roll_err',\n",
       "       'fm2_spike_rate_vs_pitch_cent', 'fm2_spike_rate_vs_pitch_tuning',\n",
       "       'fm2_spike_rate_vs_pitch_err', 'fm2_glm_receptive_field',\n",
       "       'fm2_glm_cc', 'fm2_spike_rate_vs_phi_cent',\n",
       "       'fm2_spike_rate_vs_phi_tuning', 'fm2_spike_rate_vs_phi_err',\n",
       "       'fm2_accT', 'fm2_roll', 'fm2_pitch', 'fm2_roll_interp',\n",
       "       'fm2_pitch_interp', 'unit', 'hf1_wn_crf_modind',\n",
       "       'hf4_revchecker_ch_lfp_relative_depth',\n",
       "       'hf4_revchecker_depth_from_layer4', 'hf1_wn_depth_from_layer5',\n",
       "       'hf1_wn_upsacc_modind_t0', 'hf1_wn_downsacc_modind_t0',\n",
       "       'hf1_wn_upsacc_modind_t100', 'hf1_wn_downsacc_modind_t100',\n",
       "       'hf1_wn_spike_rate_vs_pupil_radius_modind',\n",
       "       'hf1_wn_spike_rate_vs_spd_modind',\n",
       "       'fm1_spike_rate_vs_gz_modind_neg',\n",
       "       'fm1_spike_rate_vs_gz_modind_pos',\n",
       "       'fm1_spike_rate_vs_gx_modind_neg',\n",
       "       'fm1_spike_rate_vs_gx_modind_pos',\n",
       "       'fm1_spike_rate_vs_gy_modind_neg',\n",
       "       'fm1_spike_rate_vs_gy_modind_pos',\n",
       "       'fm1_upsacc_avg_gaze_shift_dEye_modind_t0',\n",
       "       'fm1_downsacc_avg_gaze_shift_dEye_modind_t0',\n",
       "       'fm1_upsacc_avg_gaze_shift_dEye_modind_t100',\n",
       "       'fm1_downsacc_avg_gaze_shift_dEye_modind_t100',\n",
       "       'fm1_upsacc_avg_comp_dEye_modind_t0',\n",
       "       'fm1_downsacc_avg_comp_dEye_modind_t0',\n",
       "       'fm1_upsacc_avg_comp_dEye_modind_t100',\n",
       "       'fm1_downsacc_avg_comp_dEye_modind_t100',\n",
       "       'fm1_upsacc_avg_gaze_shift_dHead_modind_t0',\n",
       "       'fm1_downsacc_avg_gaze_shift_dHead_modind_t0',\n",
       "       'fm1_upsacc_avg_gaze_shift_dHead_modind_t100',\n",
       "       'fm1_downsacc_avg_gaze_shift_dHead_modind_t100',\n",
       "       'fm1_upsacc_avg_comp_dHead_modind_t0',\n",
       "       'fm1_downsacc_avg_comp_dHead_modind_t0',\n",
       "       'fm1_upsacc_avg_comp_dHead_modind_t100',\n",
       "       'fm1_downsacc_avg_comp_dHead_modind_t100', 'hf3_gratings_osi_low',\n",
       "       'hf3_gratings_osi_mid', 'hf3_gratings_osi_high',\n",
       "       'hf3_gratings_dsi_low', 'hf3_gratings_dsi_mid',\n",
       "       'hf3_gratings_dsi_high', 'fm1_upsacc_modind_t0',\n",
       "       'fm1_downsacc_modind_t0', 'fm1_upsacc_modind_t100',\n",
       "       'fm1_downsacc_modind_t100', 'fm1_spike_rate_vs_theta_modind_neg',\n",
       "       'fm1_spike_rate_vs_theta_modind_pos',\n",
       "       'fm1_spike_rate_vs_phi_modind_neg',\n",
       "       'fm1_spike_rate_vs_phi_modind_pos',\n",
       "       'fm1_spike_rate_vs_roll_modind_neg',\n",
       "       'fm1_spike_rate_vs_roll_modind_pos',\n",
       "       'fm1_spike_rate_vs_pitch_modind_neg',\n",
       "       'fm1_spike_rate_vs_pitch_modind_pos',\n",
       "       'fm_dark_wn_spike_rate_vs_gz_modind_neg',\n",
       "       'fm_dark_spike_rate_vs_gz_modind_pos',\n",
       "       'fm_dark_spike_rate_vs_gx_modind_neg',\n",
       "       'fm_dark_spike_rate_vs_gy_modind_neg',\n",
       "       'fm_dark_spike_rate_vs_gy_modind_pos',\n",
       "       'fm_dark_upsacc_avg_gaze_shift_dEye_modind_t0',\n",
       "       'fm_dark_downsacc_avg_gaze_shift_dEye_modind_t0',\n",
       "       'fm_dark_upsacc_avg_gaze_shift_dEye_modind_t100',\n",
       "       'fm_dark_downsacc_avg_gaze_shift_dEye_modind_t100',\n",
       "       'fm_dark_upsacc_avg_comp_dEye_modind_t0',\n",
       "       'fm_dark_downsacc_avg_comp_dEye_modind_t0',\n",
       "       'fm_dark_upsacc_avg_comp_dEye_modind_t100',\n",
       "       'fm_dark_downsacc_avg_comp_dEye_modind_t100',\n",
       "       'fm_dark_wn_upsacc_avg_gaze_shift_dHead_modind_t0',\n",
       "       'fm_dark_downsacc_avg_gaze_shift_dHead_modind_t0',\n",
       "       'fm_dark_upsacc_avg_gaze_shift_dHead_modind_t100',\n",
       "       'fm_dark_downsacc_avg_gaze_shift_dHead_modind_t100',\n",
       "       'fm_dark_upsacc_avg_comp_dHead_modind_t0',\n",
       "       'fm_dark_downsacc_avg_comp_dHead_modind_t0',\n",
       "       'fm_dark_upsacc_avg_comp_dHead_modind_t100',\n",
       "       'fm_dark_downsacc_avg_comp_dHead_modind_t100',\n",
       "       'fm_dark_upsacc_modind_t0', 'fm_dark_downsacc_modind_t0',\n",
       "       'fm_dark_upsacc_modind_t100', 'fm_dark_downsacc_modind_t100',\n",
       "       'fm_dark_spike_rate_vs_theta_modind_neg',\n",
       "       'fm_dark_spike_rate_vs_theta_modind_pos',\n",
       "       'fm_dark_spike_rate_vs_roll_modind_neg',\n",
       "       'fm_dark_spike_rate_vs_roll_modind_pos',\n",
       "       'fm_dark_spike_rate_vs_pitch_modind_neg',\n",
       "       'fm_dark_spike_rate_vs_pitch_modind_pos',\n",
       "       'fm_dark_spike_rate_vs_pupil_radius_modind', 'norm_waveform',\n",
       "       'waveform_trough_width', 'AHP', 'waveform_peak',\n",
       "       'waveform_km_label', 'responsive_to_contrast', 'hf1_wn_spont_rate',\n",
       "       'hf1_wn_max_contrast_rate', 'hf1_wn_evoked_rate',\n",
       "       'norm_ori_tuning_low', 'norm_ori_tuning_mid',\n",
       "       'norm_ori_tuning_high', 'sf_pref', 'responsive_to_gratings',\n",
       "       'osi_for_sf_pref', 'dsi_for_sf_pref', 'hf3_gratings_evoked_rate',\n",
       "       'tf_pref', 'fm1_rec_rate', 'hf3_gratings_rec_rate',\n",
       "       'hf1_wn_rec_rate', 'fm_dark_rec_rate', 'fm1_active_rec_rate',\n",
       "       'fm1_stationary_rec_rate', 'fm_dark_active_rec_rate',\n",
       "       'fm_dark_stationary_rec_rate', 'fires_2sp_sec',\n",
       "       'fm1_upsacc_avg_gaze_shift_dEye_cluster',\n",
       "       'fm1_downsacc_avg_gaze_shift_dEye_cluster',\n",
       "       'fm1_upsacc_avg_gaze_shift_dHead_cluster',\n",
       "       'fm1_downsacc_avg_gaze_shift_dHead_cluster',\n",
       "       'fm_dark_upsacc_avg_gaze_shift_dEye_cluster',\n",
       "       'fm_dark_downsacc_avg_gaze_shift_dEye_cluster',\n",
       "       'fm_dark_upsacc_avg_gaze_shift_dHead_cluster',\n",
       "       'fm_dark_downsacc_avg_gaze_shift_dHead_cluster',\n",
       "       'fm1_upsacc_avg_gaze_shift_dEye_cluster_type',\n",
       "       'fm1_downsacc_avg_gaze_shift_dEye_cluster_type',\n",
       "       'fm1_upsacc_avg_gaze_shift_dHead_cluster_type',\n",
       "       'fm1_downsacc_avg_gaze_shift_dHead_cluster_type',\n",
       "       'fm_dark_upsacc_avg_gaze_shift_dEye_cluster_type',\n",
       "       'fm_dark_downsacc_avg_gaze_shift_dEye_cluster_type',\n",
       "       'fm_dark_upsacc_avg_gaze_shift_dHead_cluster_type',\n",
       "       'fm_dark_downsacc_avg_gaze_shift_dHead_cluster_type',\n",
       "       'fm1_upsacc_avg_comp_dEye_cluster',\n",
       "       'fm1_downsacc_avg_comp_dEye_cluster',\n",
       "       'fm1_upsacc_avg_comp_dHead_cluster',\n",
       "       'fm1_downsacc_avg_comp_dHead_cluster',\n",
       "       'fm_dark_upsacc_avg_comp_dEye_cluster',\n",
       "       'fm_dark_downsacc_avg_comp_dEye_cluster',\n",
       "       'fm_dark_upsacc_avg_comp_dHead_cluster',\n",
       "       'fm_dark_downsacc_avg_comp_dHead_cluster',\n",
       "       'fm1_upsacc_avg_comp_dEye_cluster_type',\n",
       "       'fm1_downsacc_avg_comp_dEye_cluster_type',\n",
       "       'fm1_upsacc_avg_comp_dHead_cluster_type',\n",
       "       'fm1_downsacc_avg_comp_dHead_cluster_type',\n",
       "       'fm_dark_upsacc_avg_comp_dEye_cluster_type',\n",
       "       'fm_dark_downsacc_avg_comp_dEye_cluster_type',\n",
       "       'fm_dark_upsacc_avg_comp_dHead_cluster_type',\n",
       "       'fm_dark_downsacc_avg_comp_dHead_cluster_type'], dtype=object)"
      ]
     },
     "execution_count": 75,
     "metadata": {},
     "output_type": "execute_result"
    }
   ],
   "source": [
    "df.columns.values"
   ]
  },
  {
   "cell_type": "code",
   "execution_count": null,
   "metadata": {},
   "outputs": [],
   "source": []
  }
 ],
 "metadata": {
  "interpreter": {
   "hash": "f65843ebadbbf59e890d848044f04ed79a04438dc024eebb1fa3fd1724b4dd74"
  },
  "kernelspec": {
   "display_name": "Python 3.6.10 64-bit ('jumpy': conda)",
   "name": "python3"
  },
  "language_info": {
   "codemirror_mode": {
    "name": "ipython",
    "version": 3
   },
   "file_extension": ".py",
   "mimetype": "text/x-python",
   "name": "python",
   "nbconvert_exporter": "python",
   "pygments_lexer": "ipython3",
   "version": "3.6.10"
  }
 },
 "nbformat": 4,
 "nbformat_minor": 4
}
