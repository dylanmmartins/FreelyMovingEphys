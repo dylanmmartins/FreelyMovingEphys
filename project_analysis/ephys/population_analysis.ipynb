{
 "cells": [
  {
   "cell_type": "markdown",
   "metadata": {},
   "source": [
    "# population analysis on ephys units across sessions"
   ]
  },
  {
   "cell_type": "code",
   "execution_count": 1,
   "metadata": {},
   "outputs": [],
   "source": [
    "import numpy as np\n",
    "import pandas as pd\n",
    "import xarray as xr"
   ]
  },
  {
   "cell_type": "code",
   "execution_count": 2,
   "metadata": {},
   "outputs": [],
   "source": [
    "import sys\n",
    "sys.path.insert(0, '/home/niell_Lab/Documents/github/FreelyMovingEphys')"
   ]
  },
  {
   "cell_type": "code",
   "execution_count": 3,
   "metadata": {},
   "outputs": [],
   "source": [
    "from project_analysis.ephys.ephys_utils import load_ephys\n",
    "from project_analysis.ephys.unit_summary import make_unit_summary\n",
    "from util.paths import find"
   ]
  },
  {
   "cell_type": "markdown",
   "metadata": {},
   "source": [
    "## if the data are spread across directories for individual recordings, and need to be pooled"
   ]
  },
  {
   "cell_type": "code",
   "execution_count": null,
   "metadata": {},
   "outputs": [],
   "source": [
    "# pool data listed in csv file\n",
    "df = load_ephys(r'T:\\freely_moving_ephys\\batch_files\\written040221\\exp_pool.csv')"
   ]
  },
  {
   "cell_type": "code",
   "execution_count": null,
   "metadata": {},
   "outputs": [],
   "source": [
    "# save as one h5 file\n",
    "df.to_hdf(r'T:\\freely_moving_ephys\\batch_files\\written040221\\exp_pool_all_data_writen_040421.h5', 'w')"
   ]
  },
  {
   "cell_type": "code",
   "execution_count": null,
   "metadata": {},
   "outputs": [],
   "source": [
    "# make a pdf summary\n",
    "make_unit_summary(df, r'T:\\freely_moving_ephys\\batch_files\\written040221')"
   ]
  },
  {
   "cell_type": "markdown",
   "metadata": {},
   "source": [
    "## if there is already an h5 file of pooled data"
   ]
  },
  {
   "cell_type": "code",
   "execution_count": 4,
   "metadata": {},
   "outputs": [],
   "source": [
    "# load existing .h5 file\n",
    "data = pd.read_hdf(r'T:\\freely_moving_ephys\\batch_files\\written040221\\exp_pool_all_data_writen_040421.h5')"
   ]
  },
  {
   "cell_type": "code",
   "execution_count": 5,
   "metadata": {},
   "outputs": [
    {
     "name": "stderr",
     "output_type": "stream",
     "text": [
      "68it [01:23,  1.11s/it]C:/Users/Niell Lab/Documents/GitHub/FreelyMovingEphys\\project_analysis\\ephys\\unit_summary.py:191: UserWarning: Attempting to set identical bottom == top == 0 results in singular transformations; automatically expanding.\n",
      "  unitfig_wnsrvgz.set_ylim(0,np.nanmax(tuning[:]*1.2))\n",
      "178it [03:43,  2.70s/it]C:/Users/Niell Lab/Documents/GitHub/FreelyMovingEphys\\project_analysis\\ephys\\unit_summary.py:191: UserWarning: Attempting to set identical bottom == top == 0 results in singular transformations; automatically expanding.\n",
      "  unitfig_wnsrvgz.set_ylim(0,np.nanmax(tuning[:]*1.2))\n",
      "188it [03:55,  1.20s/it]C:/Users/Niell Lab/Documents/GitHub/FreelyMovingEphys\\project_analysis\\ephys\\unit_summary.py:191: UserWarning: Attempting to set identical bottom == top == 0 results in singular transformations; automatically expanding.\n",
      "  unitfig_wnsrvgz.set_ylim(0,np.nanmax(tuning[:]*1.2))\n",
      "192it [03:59,  1.15s/it]C:/Users/Niell Lab/Documents/GitHub/FreelyMovingEphys\\project_analysis\\ephys\\unit_summary.py:155: UserWarning: Attempting to set identical bottom == top == 0 results in singular transformations; automatically expanding.\n",
      "  unitfig_fm1srpupilrad.set_ylim(0,np.nanmax(tuning[:]*1.2))\n",
      "C:/Users/Niell Lab/Documents/GitHub/FreelyMovingEphys\\project_analysis\\ephys\\unit_summary.py:167: UserWarning: Attempting to set identical bottom == top == 0 results in singular transformations; automatically expanding.\n",
      "  unitfig_fm1srth.set_ylim(0,np.nanmax(tuning[:]*1.2))\n",
      "C:/Users/Niell Lab/Documents/GitHub/FreelyMovingEphys\\project_analysis\\ephys\\unit_summary.py:203: UserWarning: Attempting to set identical bottom == top == 0 results in singular transformations; automatically expanding.\n",
      "  unitfig_fm1srvgz.set_ylim(0,np.nanmax(tuning[:]*1.2))\n",
      "C:/Users/Niell Lab/Documents/GitHub/FreelyMovingEphys\\project_analysis\\ephys\\unit_summary.py:215: UserWarning: Attempting to set identical bottom == top == 0 results in singular transformations; automatically expanding.\n",
      "  unitfig_fm1srvgx.set_ylim(0,np.nanmax(tuning[:]*1.2))\n",
      "C:/Users/Niell Lab/Documents/GitHub/FreelyMovingEphys\\project_analysis\\ephys\\unit_summary.py:227: UserWarning: Attempting to set identical bottom == top == 0 results in singular transformations; automatically expanding.\n",
      "  unitfig_fm1srvgy.set_ylim(0,np.nanmax(tuning[:]*1.2))\n",
      "C:/Users/Niell Lab/Documents/GitHub/FreelyMovingEphys\\project_analysis\\ephys\\unit_summary.py:243: UserWarning: Attempting to set identical bottom == top == 0 results in singular transformations; automatically expanding.\n",
      "  unitfig_fm1upsacc_gazedEye.set_ylim([0,maxval*1.2])\n",
      "C:/Users/Niell Lab/Documents/GitHub/FreelyMovingEphys\\project_analysis\\ephys\\unit_summary.py:259: UserWarning: Attempting to set identical bottom == top == 0 results in singular transformations; automatically expanding.\n",
      "  unitfig_fm1upsacc_compdEye.set_ylim([0,maxval*1.2])\n",
      "C:/Users/Niell Lab/Documents/GitHub/FreelyMovingEphys\\project_analysis\\ephys\\unit_summary.py:275: UserWarning: Attempting to set identical bottom == top == 0 results in singular transformations; automatically expanding.\n",
      "  unitfig_fm1upsacc_gazedHead.set_ylim([0,maxval*1.2])\n",
      "C:/Users/Niell Lab/Documents/GitHub/FreelyMovingEphys\\project_analysis\\ephys\\unit_summary.py:291: UserWarning: Attempting to set identical bottom == top == 0 results in singular transformations; automatically expanding.\n",
      "  unitfig_fm1upsacc_compdHead.set_ylim([0,maxval*1.2])\n",
      "285it [06:04,  1.28s/it]\n"
     ]
    },
    {
     "name": "stdout",
     "output_type": "stream",
     "text": [
      "saving pdf\n"
     ]
    }
   ],
   "source": [
    "# make a pdf summary\n",
    "make_unit_summary(data, r'T:\\freely_moving_ephys\\batch_files\\written040221')"
   ]
  },
  {
   "cell_type": "code",
   "execution_count": null,
   "metadata": {},
   "outputs": [],
   "source": []
  }
 ],
 "metadata": {
  "kernelspec": {
   "display_name": "DLC-GPU2",
   "language": "python",
   "name": "dlc-gpu2"
  },
  "language_info": {
   "codemirror_mode": {
    "name": "ipython",
    "version": 3
   },
   "file_extension": ".py",
   "mimetype": "text/x-python",
   "name": "python",
   "nbconvert_exporter": "python",
   "pygments_lexer": "ipython3",
   "version": "3.7.9"
  }
 },
 "nbformat": 4,
 "nbformat_minor": 4
}
