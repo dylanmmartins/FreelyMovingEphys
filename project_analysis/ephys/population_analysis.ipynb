{
 "cells": [
  {
   "cell_type": "markdown",
   "metadata": {},
   "source": [
    "# population analysis on ephys units across sessions"
   ]
  },
  {
   "cell_type": "code",
   "execution_count": null,
   "metadata": {},
   "outputs": [],
   "source": [
    "import numpy as np\n",
    "import pandas as pd\n",
    "import xarray as xr"
   ]
  },
  {
   "cell_type": "code",
   "execution_count": null,
   "metadata": {},
   "outputs": [],
   "source": [
    "import sys\n",
    "sys.path.insert(0, '/home/niell_lab/Documents/github/FreelyMovingEphys/')"
   ]
  },
  {
   "cell_type": "code",
   "execution_count": null,
   "metadata": {},
   "outputs": [],
   "source": [
    "from util.paths import find\n",
    "from project_analysis.ephys.ephys_utils import load_ephys\n",
    "from project_analysis.ephys.population_utils import make_unit_summary"
   ]
  },
  {
   "cell_type": "markdown",
   "metadata": {},
   "source": [
    "## if the data are spread across directories for individual recordings, and need to be pooled"
   ]
  },
  {
   "cell_type": "code",
   "execution_count": null,
   "metadata": {},
   "outputs": [],
   "source": [
    "# pool data listed in csv file\n",
    "df = load_ephys('/home/niell_lab/Kraken/T/freely_moving_ephys/batch_files/completed_experiment_pool.csv')"
   ]
  },
  {
   "cell_type": "code",
   "execution_count": null,
   "metadata": {},
   "outputs": [],
   "source": [
    "# save as one h5 file\n",
    "df.to_hdf('/home/niell_lab/data/freely_moving_ephys/population_summaries/050321/exp_pool_all_data_050321.h5', 'w')"
   ]
  },
  {
   "cell_type": "code",
   "execution_count": null,
   "metadata": {},
   "outputs": [],
   "source": [
    "# make a pdf summary\n",
    "make_unit_summary(df, '/home/niell_lab/data/freely_moving_ephys/population_summaries/050321/')"
   ]
  },
  {
   "cell_type": "markdown",
   "metadata": {},
   "source": [
    "## if there is already an h5 file of pooled data"
   ]
  },
  {
   "cell_type": "code",
   "execution_count": null,
   "metadata": {},
   "outputs": [],
   "source": [
    "# load existing .h5 file\n",
    "data = pd.read_hdf(r'T:\\freely_moving_ephys\\batch_files\\written040221\\exp_pool_all_data_writen_040421.h5')"
   ]
  },
  {
   "cell_type": "code",
   "execution_count": null,
   "metadata": {},
   "outputs": [],
   "source": [
    "# make a pdf summary\n",
    "make_unit_summary(data, r'T:\\freely_moving_ephys\\batch_files\\written040221')"
   ]
  },
  {
   "cell_type": "code",
   "execution_count": null,
   "metadata": {},
   "outputs": [],
   "source": []
  }
 ],
 "metadata": {
  "kernelspec": {
   "display_name": "python38",
   "language": "python",
   "name": "python38"
  },
  "language_info": {
   "codemirror_mode": {
    "name": "ipython",
    "version": 3
   },
   "file_extension": ".py",
   "mimetype": "text/x-python",
   "name": "python",
   "nbconvert_exporter": "python",
   "pygments_lexer": "ipython3",
   "version": "3.8.8"
  }
 },
 "nbformat": 4,
 "nbformat_minor": 4
}
