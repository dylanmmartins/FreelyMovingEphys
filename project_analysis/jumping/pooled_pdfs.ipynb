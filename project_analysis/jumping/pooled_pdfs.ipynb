{
 "cells": [
  {
   "cell_type": "code",
   "execution_count": 1,
   "metadata": {},
   "outputs": [
    {
     "name": "stderr",
     "output_type": "stream",
     "text": [
      "C:\\Users\\Niell Lab\\.conda\\envs\\DLC-GPU2\\lib\\site-packages\\numpy\\_distributor_init.py:32: UserWarning: loaded more than 1 DLL from .libs:\n",
      "C:\\Users\\Niell Lab\\.conda\\envs\\DLC-GPU2\\lib\\site-packages\\numpy\\.libs\\libopenblas.JPIJNSWNNAN3CE6LLI5FWSPHUT2VXMTH.gfortran-win_amd64.dll\n",
      "C:\\Users\\Niell Lab\\.conda\\envs\\DLC-GPU2\\lib\\site-packages\\numpy\\.libs\\libopenblas.TXA6YQSD3GCQQC22GEQ54J2UDCXDXHWN.gfortran-win_amd64.dll\n",
      "  stacklevel=1)\n"
     ]
    }
   ],
   "source": [
    "import xarray as xr\n",
    "import os, json, sys"
   ]
  },
  {
   "cell_type": "code",
   "execution_count": 2,
   "metadata": {},
   "outputs": [],
   "source": [
    "sys.path.insert(0, r'/Users/Niell Lab/Documents/GitHub/FreelyMovingEphys/')"
   ]
  },
  {
   "cell_type": "code",
   "execution_count": 3,
   "metadata": {},
   "outputs": [],
   "source": [
    "from project_analysis.jumping.jump_utils import pooled_jump_analysis"
   ]
  },
  {
   "cell_type": "code",
   "execution_count": 4,
   "metadata": {},
   "outputs": [],
   "source": [
    "base = r'E:\\jumping\\redone_side_network'\n",
    "pooled_data = xr.open_dataset(os.path.join(base, 'pooled_jump_data.nc'))\n",
    "early_pooled_data = xr.open_dataset(os.path.join(base, 'early_pooled_jump_data.nc'))\n",
    "jumpprep_pooled_data = xr.open_dataset(os.path.join(base, 'jumpprep_pooled_jump_data.nc'))\n",
    "late_pooled_data = xr.open_dataset(os.path.join(base, 'alte_pooled_jump_data.nc'))"
   ]
  },
  {
   "cell_type": "code",
   "execution_count": 5,
   "metadata": {},
   "outputs": [],
   "source": [
    "with open(os.path.join(base, 'jump_analysis_config.json'), 'r') as fp:\n",
    "    config = json.load(fp)"
   ]
  },
  {
   "cell_type": "code",
   "execution_count": 6,
   "metadata": {},
   "outputs": [
    {
     "name": "stderr",
     "output_type": "stream",
     "text": [
      "C:\\Users\\Niell Lab\\.conda\\envs\\DLC-GPU2\\lib\\site-packages\\xarray\\core\\alignment.py:307: FutureWarning: Index.__or__ operating as a set operation is deprecated, in the future this will be a logical operation matching Series.__or__.  Use index.union(other) instead\n",
      "  index = joiner(matching_indexes)\n",
      "C:\\Users\\Niell Lab\\.conda\\envs\\DLC-GPU2\\lib\\site-packages\\xarray\\core\\alignment.py:307: FutureWarning: Index.__or__ operating as a set operation is deprecated, in the future this will be a logical operation matching Series.__or__.  Use index.union(other) instead\n",
      "  index = joiner(matching_indexes)\n",
      "C:\\Users\\Niell Lab\\.conda\\envs\\DLC-GPU2\\lib\\site-packages\\xarray\\core\\alignment.py:307: FutureWarning: Index.__or__ operating as a set operation is deprecated, in the future this will be a logical operation matching Series.__or__.  Use index.union(other) instead\n",
      "  index = joiner(matching_indexes)\n",
      "C:\\Users\\Niell Lab\\.conda\\envs\\DLC-GPU2\\lib\\site-packages\\xarray\\core\\alignment.py:307: FutureWarning: Index.__or__ operating as a set operation is deprecated, in the future this will be a logical operation matching Series.__or__.  Use index.union(other) instead\n",
      "  index = joiner(matching_indexes)\n"
     ]
    }
   ],
   "source": [
    "pooled_jump_analysis(pooled_data, config, 'combined')\n",
    "pooled_jump_analysis(early_pooled_data, config, 'early')\n",
    "pooled_jump_analysis(jumpprep_pooled_data, config, 'jumpprep')\n",
    "pooled_jump_analysis(late_pooled_data, config, 'late')"
   ]
  },
  {
   "cell_type": "code",
   "execution_count": null,
   "metadata": {},
   "outputs": [],
   "source": []
  }
 ],
 "metadata": {
  "kernelspec": {
   "display_name": "Python [conda env:.conda-DLC-GPU2]",
   "language": "python",
   "name": "conda-env-.conda-DLC-GPU2-py"
  },
  "language_info": {
   "codemirror_mode": {
    "name": "ipython",
    "version": 3
   },
   "file_extension": ".py",
   "mimetype": "text/x-python",
   "name": "python",
   "nbconvert_exporter": "python",
   "pygments_lexer": "ipython3",
   "version": "3.7.9"
  }
 },
 "nbformat": 4,
 "nbformat_minor": 4
}
