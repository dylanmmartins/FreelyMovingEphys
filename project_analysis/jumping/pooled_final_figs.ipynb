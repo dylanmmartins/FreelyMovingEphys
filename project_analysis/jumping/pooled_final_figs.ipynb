{
 "cells": [
  {
   "cell_type": "code",
   "execution_count": 1,
   "metadata": {},
   "outputs": [],
   "source": [
    "import argparse, json, sys, os, shutil\n",
    "import xarray as xr\n",
    "import pandas as pd\n",
    "import numpy as np\n",
    "import cv2\n",
    "import matplotlib\n",
    "import matplotlib.pyplot as plt\n",
    "import matplotlib.gridspec as gridspec\n",
    "from matplotlib.backends.backend_pdf import PdfPages\n",
    "from matplotlib.animation import FFMpegWriter\n",
    "from tqdm import tqdm\n",
    "import traceback"
   ]
  },
  {
   "cell_type": "code",
   "execution_count": 5,
   "metadata": {},
   "outputs": [],
   "source": [
    "sys.path.insert(0, '/home/niell_lab/Documents/github/FreelyMovingEphys/')"
   ]
  },
  {
   "cell_type": "code",
   "execution_count": 6,
   "metadata": {},
   "outputs": [],
   "source": [
    "from project_analysis.jumping.jump_utils import *"
   ]
  },
  {
   "cell_type": "code",
   "execution_count": 7,
   "metadata": {},
   "outputs": [],
   "source": [
    "config_path = '/home/niell_lab/data/jumping/timebin_eyecams_2sec/jump_analysis_config.json'\n",
    "with open(config_path, 'r') as fp:\n",
    "    config = json.load(fp)"
   ]
  },
  {
   "cell_type": "code",
   "execution_count": 8,
   "metadata": {},
   "outputs": [],
   "source": [
    "pooled_data = xr.open_dataset('/home/niell_lab/data/jumping/timebin_eyecams_2sec/pooled_jump_data.nc')\n",
    "early_pooled_data = xr.open_dataset('/home/niell_lab/data/jumping/timebin_eyecams_2sec/early_pooled_jump_data.nc')\n",
    "jumpprep_pooled_data = xr.open_dataset('/home/niell_lab/data/jumping/timebin_eyecams_2sec/jumpprep_pooled_jump_data.nc')\n",
    "late_pooled_data = xr.open_dataset('/home/niell_lab/data/jumping/timebin_eyecams_2sec/late_pooled_jump_data.nc')"
   ]
  },
  {
   "cell_type": "code",
   "execution_count": 9,
   "metadata": {},
   "outputs": [],
   "source": [
    "combined_pool_by_animal = pooled_jump_analysis(pooled_data, config, 'combined')\n",
    "early_pool_by_animal = pooled_jump_analysis(early_pooled_data, config, 'early')\n",
    "jumpprep_pool_by_animal = pooled_jump_analysis(jumpprep_pooled_data, config, 'jumpprep')\n",
    "late_pool_by_animal = pooled_jump_analysis(late_pooled_data, config, 'late')"
   ]
  },
  {
   "cell_type": "code",
   "execution_count": 11,
   "metadata": {},
   "outputs": [],
   "source": [
    "pdf = PdfPages(os.path.join(config['analysis_save_dir'], 'pooled_hists_by_animal.pdf'))\n",
    "\n",
    "for measurment_name in ['eye_th_div', 'head_pitch']:\n",
    "    div_early = early_pool_by_animal.sel(jump_params=measurment_name)\n",
    "    div_jumpprep = jumpprep_pool_by_animal.sel(jump_params=measurment_name)\n",
    "    early = div_early.drop('variable').rename({'variable':'jump'}).to_array()\n",
    "    jumpprep = div_jumpprep.drop('variable').rename({'variable':'jump'}).to_array()\n",
    "    early_bins = jump_hist1(early)\n",
    "    jumpprep_bins = jump_hist1(jumpprep)\n",
    "    early = mean_within_animal1(early)\n",
    "    jumpprep = mean_within_animal1(jumpprep)\n",
    "\n",
    "    lags = np.arange(-25,25)\n",
    "    plt.subplots(1,2, figsize=(9,4))\n",
    "    plt.subplot(1,2,1)\n",
    "    plt.title('early')\n",
    "    plt.plot(lags, early_bins.T, alpha=0.3)\n",
    "    plt.ylabel('proportion of time'); plt.xlabel(measurment_name)\n",
    "    plt.subplot(1,2,2)\n",
    "    plt.title('jumpprep')\n",
    "    plt.ylabel('proportion of time')\n",
    "    plt.xlabel(measurment_name)\n",
    "    plt.plot(lags, jumpprep_bins.T, alpha=0.3)\n",
    "    pdf.savefig()\n",
    "    plt.close()\n",
    "\n",
    "    axisplot = 0\n",
    "    y1 = np.mean(early_bins,axisplot)\n",
    "    err1 = np.std(np.array(early_bins,dtype=np.float64),axisplot)/np.sqrt(np.size(early_bins,axisplot))\n",
    "    y2 = np.mean(jumpprep_bins,axisplot)\n",
    "    err2 = np.std(np.array(jumpprep_bins,dtype=np.float64),axisplot)/np.sqrt(np.size(jumpprep_bins,axisplot))\n",
    "\n",
    "    lags = np.arange(-25,25)\n",
    "    plt.figure(figsize=(4,4))\n",
    "    plt.plot(lags, y1)\n",
    "    plt.fill_between(lags, y1-err1, y1+err1, alpha=0.3)\n",
    "    plt.plot(lags, y2)\n",
    "    plt.fill_between(lags, y2-err2, y2+err2, alpha=0.3)\n",
    "    plt.ylabel('proportion of time'); plt.xlabel(measurment_name)\n",
    "    plt.legend(['early', 'jump prep'])\n",
    "    pdf.savefig()\n",
    "    plt.close()\n",
    "\n",
    "pdf.close()"
   ]
  },
  {
   "cell_type": "code",
   "execution_count": null,
   "metadata": {},
   "outputs": [],
   "source": []
  }
 ],
 "metadata": {
  "kernelspec": {
   "display_name": "DLC-GPU2",
   "language": "python",
   "name": "dlc-gpu2"
  },
  "language_info": {
   "codemirror_mode": {
    "name": "ipython",
    "version": 3
   },
   "file_extension": ".py",
   "mimetype": "text/x-python",
   "name": "python",
   "nbconvert_exporter": "python",
   "pygments_lexer": "ipython3",
   "version": "3.7.9"
  }
 },
 "nbformat": 4,
 "nbformat_minor": 4
}
