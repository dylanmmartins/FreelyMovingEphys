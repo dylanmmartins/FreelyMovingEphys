{
 "cells": [
  {
   "cell_type": "markdown",
   "metadata": {},
   "source": [
    "# doi_demo.ipynb\n",
    "### demo reading in and making visualizations from camera/imu data as .nc files, .json files of ephys data, .npy files of ephys properties\n",
    "Feb 12, 2021"
   ]
  },
  {
   "cell_type": "code",
   "execution_count": 1,
   "metadata": {},
   "outputs": [],
   "source": [
    "import numpy as np\n",
    "import xarray as xr\n",
    "import pandas as pd\n",
    "import matplotlib.pyplot as plt"
   ]
  },
  {
   "cell_type": "code",
   "execution_count": 2,
   "metadata": {},
   "outputs": [],
   "source": [
    "import sys\n",
    "sys.path.insert(0, r'C:/Users/Angie Michaiel/Documents/GitHub/FreelyMovingEphys')\n",
    "from util.ephys import ephys_to_dataset\n",
    "from util.paths import find"
   ]
  },
  {
   "cell_type": "code",
   "execution_count": 3,
   "metadata": {},
   "outputs": [],
   "source": [
    "recordings_path = r'T:\\freely_moving_ephys\\ephys_recordings'\n",
    "dates_path = ['020821']"
   ]
  },
  {
   "cell_type": "code",
   "execution_count": 4,
   "metadata": {},
   "outputs": [
    {
     "ename": "UnboundLocalError",
     "evalue": "local variable 'all_units_xr' referenced before assignment",
     "output_type": "error",
     "traceback": [
      "\u001b[1;31m---------------------------------------------------------------------------\u001b[0m",
      "\u001b[1;31mUnboundLocalError\u001b[0m                         Traceback (most recent call last)",
      "\u001b[1;32m<ipython-input-4-956f53abf9c6>\u001b[0m in \u001b[0;36m<module>\u001b[1;34m\u001b[0m\n\u001b[1;32m----> 1\u001b[1;33m \u001b[0mcollected_ephys\u001b[0m \u001b[1;33m=\u001b[0m \u001b[0mephys_to_dataset\u001b[0m\u001b[1;33m(\u001b[0m\u001b[0mrecordings_path\u001b[0m\u001b[1;33m,\u001b[0m \u001b[0mdates_path\u001b[0m\u001b[1;33m)\u001b[0m\u001b[1;33m\u001b[0m\u001b[1;33m\u001b[0m\u001b[0m\n\u001b[0m",
      "\u001b[1;32mC:/Users/Angie Michaiel/Documents/GitHub/FreelyMovingEphys\\util\\ephys.py\u001b[0m in \u001b[0;36mephys_to_dataset\u001b[1;34m(path, dates)\u001b[0m\n\u001b[0;32m    138\u001b[0m             \u001b[0mprocessed_unit_count\u001b[0m \u001b[1;33m=\u001b[0m \u001b[0mprocessed_unit_count\u001b[0m \u001b[1;33m+\u001b[0m \u001b[1;36m1\u001b[0m\u001b[1;33m\u001b[0m\u001b[1;33m\u001b[0m\u001b[0m\n\u001b[0;32m    139\u001b[0m \u001b[1;33m\u001b[0m\u001b[0m\n\u001b[1;32m--> 140\u001b[1;33m     \u001b[1;32mreturn\u001b[0m \u001b[0mall_units_xr\u001b[0m\u001b[1;33m\u001b[0m\u001b[1;33m\u001b[0m\u001b[0m\n\u001b[0m\u001b[0;32m    141\u001b[0m \u001b[1;33m\u001b[0m\u001b[0m\n\u001b[0;32m    142\u001b[0m \u001b[1;31m# read in many .json ephys files of spike data, etc. and save them into a dictionary\u001b[0m\u001b[1;33m\u001b[0m\u001b[1;33m\u001b[0m\u001b[1;33m\u001b[0m\u001b[0m\n",
      "\u001b[1;31mUnboundLocalError\u001b[0m: local variable 'all_units_xr' referenced before assignment"
     ]
    }
   ],
   "source": [
    "collected_ephys = ephys_to_dataset(recordings_path, dates_path)"
   ]
  },
  {
   "cell_type": "code",
   "execution_count": null,
   "metadata": {},
   "outputs": [],
   "source": [
    "collected_ephys"
   ]
  },
  {
   "cell_type": "markdown",
   "metadata": {},
   "source": [
    "## ephys props"
   ]
  },
  {
   "cell_type": "code",
   "execution_count": null,
   "metadata": {},
   "outputs": [],
   "source": [
    "for unit,"
   ]
  },
  {
   "cell_type": "code",
   "execution_count": null,
   "metadata": {},
   "outputs": [],
   "source": [
    "# visualize one unit's STA\n",
    "plt.imshow(collected_ephys.EE12P1RN_020821_control_Rig2_hf1_wn_unit9.sel(ephys_params='sta').values.ravel()[0],vmin=-0.3,vmax=0.3,cmap = 'jet')\n",
    "plt.colorbar()"
   ]
  },
  {
   "cell_type": "code",
   "execution_count": null,
   "metadata": {},
   "outputs": [],
   "source": [
    "plt.imshow(collected_ephys.EE12P1RN_020821_control_Rig2_fm1_unit9.sel(ephys_params='sta').values.ravel()[0],vmin=-0.3,vmax=0.3,cmap = 'jet')\n",
    "plt.colorbar()"
   ]
  },
  {
   "cell_type": "code",
   "execution_count": 1,
   "metadata": {},
   "outputs": [
    {
     "ename": "NameError",
     "evalue": "name 'collected_ephys' is not defined",
     "output_type": "error",
     "traceback": [
      "\u001b[1;31m---------------------------------------------------------------------------\u001b[0m",
      "\u001b[1;31mNameError\u001b[0m                                 Traceback (most recent call last)",
      "\u001b[1;32m<ipython-input-1-9c4e27ec5864>\u001b[0m in \u001b[0;36m<module>\u001b[1;34m\u001b[0m\n\u001b[0;32m      1\u001b[0m \u001b[1;31m# visualize the STA of units meeting a given criteria\u001b[0m\u001b[1;33m\u001b[0m\u001b[1;33m\u001b[0m\u001b[1;33m\u001b[0m\u001b[0m\n\u001b[1;32m----> 2\u001b[1;33m \u001b[1;32mfor\u001b[0m \u001b[0munit\u001b[0m\u001b[1;33m,\u001b[0m \u001b[0mdata\u001b[0m \u001b[1;32min\u001b[0m \u001b[0mcollected_ephys\u001b[0m\u001b[1;33m.\u001b[0m\u001b[0mfilter_by_attrs\u001b[0m\u001b[1;33m(\u001b[0m\u001b[0munit\u001b[0m\u001b[1;33m=\u001b[0m\u001b[1;34m'unit9'\u001b[0m\u001b[1;33m)\u001b[0m\u001b[1;33m.\u001b[0m\u001b[0mdata_vars\u001b[0m\u001b[1;33m.\u001b[0m\u001b[0mitems\u001b[0m\u001b[1;33m(\u001b[0m\u001b[1;33m)\u001b[0m\u001b[1;33m:\u001b[0m\u001b[1;33m\u001b[0m\u001b[1;33m\u001b[0m\u001b[0m\n\u001b[0m\u001b[0;32m      3\u001b[0m     \u001b[0mplt\u001b[0m\u001b[1;33m.\u001b[0m\u001b[0mfigure\u001b[0m\u001b[1;33m(\u001b[0m\u001b[1;33m)\u001b[0m\u001b[1;33m\u001b[0m\u001b[1;33m\u001b[0m\u001b[0m\n\u001b[0;32m      4\u001b[0m     \u001b[0mplt\u001b[0m\u001b[1;33m.\u001b[0m\u001b[0mtitle\u001b[0m\u001b[1;33m(\u001b[0m\u001b[0munit\u001b[0m\u001b[1;33m)\u001b[0m\u001b[1;33m;\u001b[0m \u001b[0mplt\u001b[0m\u001b[1;33m.\u001b[0m\u001b[0mimshow\u001b[0m\u001b[1;33m(\u001b[0m\u001b[0mdata\u001b[0m\u001b[1;33m.\u001b[0m\u001b[0msel\u001b[0m\u001b[1;33m(\u001b[0m\u001b[0mephys_params\u001b[0m\u001b[1;33m=\u001b[0m\u001b[1;34m'sta'\u001b[0m\u001b[1;33m)\u001b[0m\u001b[1;33m.\u001b[0m\u001b[0mvalues\u001b[0m\u001b[1;33m.\u001b[0m\u001b[0mravel\u001b[0m\u001b[1;33m(\u001b[0m\u001b[1;33m)\u001b[0m\u001b[1;33m[\u001b[0m\u001b[1;36m0\u001b[0m\u001b[1;33m]\u001b[0m\u001b[1;33m,\u001b[0m\u001b[0mvmin\u001b[0m\u001b[1;33m=\u001b[0m\u001b[1;33m-\u001b[0m\u001b[1;36m0.3\u001b[0m\u001b[1;33m,\u001b[0m\u001b[0mvmax\u001b[0m\u001b[1;33m=\u001b[0m\u001b[1;36m0.3\u001b[0m\u001b[1;33m,\u001b[0m\u001b[0mcmap\u001b[0m \u001b[1;33m=\u001b[0m \u001b[1;34m'jet'\u001b[0m\u001b[1;33m)\u001b[0m\u001b[1;33m\u001b[0m\u001b[1;33m\u001b[0m\u001b[0m\n\u001b[0;32m      5\u001b[0m     \u001b[0mplt\u001b[0m\u001b[1;33m.\u001b[0m\u001b[0mshow\u001b[0m\u001b[1;33m(\u001b[0m\u001b[1;33m)\u001b[0m\u001b[1;33m\u001b[0m\u001b[1;33m\u001b[0m\u001b[0m\n",
      "\u001b[1;31mNameError\u001b[0m: name 'collected_ephys' is not defined"
     ]
    }
   ],
   "source": [
    "# visualize the STA of units meeting a given criteria\n",
    "for unit, data in collected_ephys.filter_by_attrs(unit='unit9').data_vars.items():\n",
    "    plt.figure()\n",
    "    plt.title(unit); plt.imshow(data.sel(ephys_params='sta').values.ravel()[0],vmin=-0.3,vmax=0.3,cmap = 'jet')\n",
    "    plt.show()"
   ]
  },
  {
   "cell_type": "code",
   "execution_count": null,
   "metadata": {},
   "outputs": [],
   "source": [
    "for unit, data in collected_ephys.filter_by_attrs(unit='unit9').data_vars.items():\n",
    "    plt.figure()\n",
    "    plt.title(unit); plt.plot(data.sel(ephys_params='contrast_range').values.ravel()[0], data.sel(ephys_params='contrast_response').values.ravel()[0])\n",
    "    plt.show()"
   ]
  },
  {
   "cell_type": "markdown",
   "metadata": {},
   "source": [
    "## combining ephys analysis with the arena and mouse-mounted cameras"
   ]
  },
  {
   "cell_type": "code",
   "execution_count": null,
   "metadata": {},
   "outputs": [],
   "source": [
    "top_files = find('020821*fm1_TOP1.nc', recordings_path)\n",
    "topdown_dataset = xr.open_dataset(top_files[0])"
   ]
  },
  {
   "cell_type": "code",
   "execution_count": null,
   "metadata": {},
   "outputs": [],
   "source": [
    "topdown_data = topdown_dataset.TOP1_pts"
   ]
  },
  {
   "cell_type": "markdown",
   "metadata": {},
   "source": [
    "what are the best points for the topdown view?"
   ]
  },
  {
   "cell_type": "code",
   "execution_count": null,
   "metadata": {},
   "outputs": [],
   "source": [
    "topdown_pt_names = list(topdown_data['point_loc'].values)\n",
    "likeli_loop_count = 0\n",
    "for pt_num in range(0, len(topdown_pt_names)):\n",
    "    current_pt_loc = topdown_pt_names[pt_num]\n",
    "    if 'likelihood' in current_pt_loc:\n",
    "        # find the associated x and y points of the selected likelihood\n",
    "        # assumes order is x, y, likelihood, will cause problems if isn't true of data...\n",
    "        assoc_x_pos = topdown_pt_names[pt_num - 2]\n",
    "        assoc_x_pt = topdown_data.sel(point_loc=assoc_x_pos)\n",
    "        assoc_y_pos = topdown_pt_names[pt_num - 1]\n",
    "        assoc_y_pt = topdown_data.sel(point_loc=assoc_y_pos)\n",
    "        likeli_pt = topdown_data.sel(point_loc=current_pt_loc).values\n",
    "        assoc_x_pt[likeli_pt < 0.99] = np.nan\n",
    "        assoc_y_pt[likeli_pt < 0.99] = np.nan\n",
    "        x_perc_good = np.sum(~np.isnan(assoc_x_pt))/len(assoc_x_pt)\n",
    "        y_perc_good = np.sum(~np.isnan(assoc_y_pt))/len(assoc_y_pt)\n",
    "        print(current_pt_loc, 'x', round(float(x_perc_good*100),3), 'y', round(float(y_perc_good*100),3))"
   ]
  },
  {
   "cell_type": "markdown",
   "metadata": {},
   "source": [
    "best point was at the base of the tail"
   ]
  },
  {
   "cell_type": "code",
   "execution_count": null,
   "metadata": {},
   "outputs": [],
   "source": [
    "x_trace = top_dataset.TOP1_pts.sel(point_loc='tailbase_x').values\n",
    "y_trace = top_dataset.TOP1_pts.sel(point_loc='tailbase_y').values\n",
    "plt.plot(x_trace, y_trace,'k.',alpha=0.2)"
   ]
  },
  {
   "cell_type": "code",
   "execution_count": null,
   "metadata": {},
   "outputs": [],
   "source": [
    "# load in the json that stores all of the spike times from ephys recording\n",
    "ephys_json_path = find('020821*fm1*.json', recordings_path)\n",
    "ephys_data = pd.read_json(ephys_json_path[0])\n",
    "goodcells = ephys_data.loc[ephys_data['group']=='good']"
   ]
  },
  {
   "cell_type": "code",
   "execution_count": null,
   "metadata": {
    "scrolled": true
   },
   "outputs": [],
   "source": [
    "# get the spike times of each unit, and plot where spikes happen in the arena\n",
    "# also see /project_analysis/general/place_cells.ipynb\n",
    "units = goodcells.index.values\n",
    "for i, ind in enumerate(goodcells.index):\n",
    "    unit_spikes = np.array(goodcells.at[units[i],'spikeT']) # spike times in seconds\n",
    "    spike_positions = []\n",
    "    for s in unit_spikes:\n",
    "        pos_at_spike = [x_trace[int(s*60)], y_trace[int(s*60)]]\n",
    "        spike_positions.append(pos_at_spike)\n",
    "    spike_positions = np.array(spike_positions)\n",
    "    plt.figure()\n",
    "    plt.title('unit'+str(ind))\n",
    "    plt.plot(x_trace, y_trace, 'k.', alpha=0.2)\n",
    "    plt.plot(spike_positions[:,0], spike_positions[:,1], 'r.')"
   ]
  },
  {
   "cell_type": "code",
   "execution_count": null,
   "metadata": {},
   "outputs": [],
   "source": [
    "# comparing eye movements in DOI vs noDOI recordings\n",
    "reye_files = find('020821*Reye.nc', recordings_path)\n",
    "reye_dataset = xr.open_dataset(reye_files[0])\n",
    "reye_dataset"
   ]
  },
  {
   "cell_type": "code",
   "execution_count": null,
   "metadata": {},
   "outputs": [],
   "source": [
    "pupil_radius = reye_dataset.REYE_ellipse_params.sel(ellipse_params='longaxis').values\n",
    "plt.plot(pupil_radius)\n",
    "plt.xlim(5000,7000)"
   ]
  },
  {
   "cell_type": "code",
   "execution_count": null,
   "metadata": {},
   "outputs": [],
   "source": [
    "# comparing head movements in DOI vs noDOI recordings\n",
    "imu_dataset_path = find('020821*fm1_imu.nc', recordings_path)\n",
    "imu_dataset = xr.open_dataset(imu_dataset_path[0])"
   ]
  },
  {
   "cell_type": "code",
   "execution_count": null,
   "metadata": {},
   "outputs": [],
   "source": [
    "gyro_z = imu_dataset.IMU_data.sel(sample='gyro_z').values\n",
    "plt.plot(gyro_z)\n",
    "plt.xlim(5000,7000)"
   ]
  },
  {
   "cell_type": "code",
   "execution_count": null,
   "metadata": {},
   "outputs": [],
   "source": []
  }
 ],
 "metadata": {
  "kernelspec": {
   "display_name": "Python 3",
   "language": "python",
   "name": "python3"
  },
  "language_info": {
   "codemirror_mode": {
    "name": "ipython",
    "version": 3
   },
   "file_extension": ".py",
   "mimetype": "text/x-python",
   "name": "python",
   "nbconvert_exporter": "python",
   "pygments_lexer": "ipython3",
   "version": "3.7.9"
  }
 },
 "nbformat": 4,
 "nbformat_minor": 4
}
