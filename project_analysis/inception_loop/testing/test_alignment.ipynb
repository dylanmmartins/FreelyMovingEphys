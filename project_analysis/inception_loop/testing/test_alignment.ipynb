{
 "cells": [
  {
   "cell_type": "code",
   "execution_count": 1,
   "metadata": {},
   "outputs": [],
   "source": [
    "import numpy as np\n",
    "import xarray as xr\n",
    "import pandas as pd\n",
    "import os, json, sys"
   ]
  },
  {
   "cell_type": "code",
   "execution_count": 2,
   "metadata": {},
   "outputs": [],
   "source": [
    "sys.path.insert(0,'/home/niell_lab/Documents/github/FreelyMovingEphys/')"
   ]
  },
  {
   "cell_type": "code",
   "execution_count": 3,
   "metadata": {},
   "outputs": [],
   "source": [
    "from util.paths import find"
   ]
  },
  {
   "cell_type": "code",
   "execution_count": 4,
   "metadata": {},
   "outputs": [],
   "source": [
    "metadata = pd.read_csv('/home/niell_lab/Documents/github/FreelyMovingEphys/project_analysis/inception_loop/metadata/exp_pool.csv')"
   ]
  },
  {
   "cell_type": "code",
   "execution_count": 5,
   "metadata": {},
   "outputs": [
    {
     "data": {
      "text/html": [
       "<div>\n",
       "<style scoped>\n",
       "    .dataframe tbody tr th:only-of-type {\n",
       "        vertical-align: middle;\n",
       "    }\n",
       "\n",
       "    .dataframe tbody tr th {\n",
       "        vertical-align: top;\n",
       "    }\n",
       "\n",
       "    .dataframe thead th {\n",
       "        text-align: right;\n",
       "    }\n",
       "</style>\n",
       "<table border=\"1\" class=\"dataframe\">\n",
       "  <thead>\n",
       "    <tr style=\"text-align: right;\">\n",
       "      <th></th>\n",
       "      <th>experiment_date</th>\n",
       "      <th>animal_name</th>\n",
       "      <th>experiment_outcome</th>\n",
       "      <th>run_preprocessing</th>\n",
       "      <th>run_ephys_analysis</th>\n",
       "      <th>load_for_data_pool</th>\n",
       "      <th>best_fm_rec</th>\n",
       "      <th>unit2highlight</th>\n",
       "      <th>current_status</th>\n",
       "      <th>animal_dirpath</th>\n",
       "      <th>...</th>\n",
       "      <th>Visually responsive units?</th>\n",
       "      <th>noise notes (any noise?)</th>\n",
       "      <th>drift notes (large drift?)</th>\n",
       "      <th>wn experiment and analysis notes</th>\n",
       "      <th>sparsenoiseflash experiment and analysis notes</th>\n",
       "      <th>gratings experiment and analysis notes notes</th>\n",
       "      <th>fm experiment and analysis notes</th>\n",
       "      <th>other analysis notes</th>\n",
       "      <th>Full analysis status (finished/incomplete)</th>\n",
       "      <th>other</th>\n",
       "    </tr>\n",
       "  </thead>\n",
       "  <tbody>\n",
       "    <tr>\n",
       "      <th>0</th>\n",
       "      <td>9/21/20</td>\n",
       "      <td>J524LT</td>\n",
       "      <td>not useful</td>\n",
       "      <td>NaN</td>\n",
       "      <td>NaN</td>\n",
       "      <td>NaN</td>\n",
       "      <td>NaN</td>\n",
       "      <td>NaN</td>\n",
       "      <td>NaN</td>\n",
       "      <td>\\\\goeppert\\nlab-nas\\freely_moving_ephys\\ephys_...</td>\n",
       "      <td>...</td>\n",
       "      <td>NaN</td>\n",
       "      <td>NaN</td>\n",
       "      <td>NaN</td>\n",
       "      <td>NaN</td>\n",
       "      <td>NaN</td>\n",
       "      <td>NaN</td>\n",
       "      <td>NaN</td>\n",
       "      <td>NaN</td>\n",
       "      <td>NaN</td>\n",
       "      <td>no eye/world cam, 3 top cams, no hf, no IMU</td>\n",
       "    </tr>\n",
       "    <tr>\n",
       "      <th>1</th>\n",
       "      <td>9/22/20</td>\n",
       "      <td>J524LT</td>\n",
       "      <td>not useful</td>\n",
       "      <td>NaN</td>\n",
       "      <td>NaN</td>\n",
       "      <td>NaN</td>\n",
       "      <td>NaN</td>\n",
       "      <td>NaN</td>\n",
       "      <td>NaN</td>\n",
       "      <td>\\\\goeppert\\nlab-nas\\freely_moving_ephys\\ephys_...</td>\n",
       "      <td>...</td>\n",
       "      <td>NaN</td>\n",
       "      <td>NaN</td>\n",
       "      <td>NaN</td>\n",
       "      <td>NaN</td>\n",
       "      <td>NaN</td>\n",
       "      <td>NaN</td>\n",
       "      <td>NaN</td>\n",
       "      <td>NaN</td>\n",
       "      <td>NaN</td>\n",
       "      <td>no eye/world cam, 3 top cams, no hf, no IMU</td>\n",
       "    </tr>\n",
       "    <tr>\n",
       "      <th>2</th>\n",
       "      <td>9/23/20</td>\n",
       "      <td>J524LT</td>\n",
       "      <td>not useful</td>\n",
       "      <td>NaN</td>\n",
       "      <td>NaN</td>\n",
       "      <td>NaN</td>\n",
       "      <td>NaN</td>\n",
       "      <td>NaN</td>\n",
       "      <td>NaN</td>\n",
       "      <td>\\\\goeppert\\nlab-nas\\freely_moving_ephys\\ephys_...</td>\n",
       "      <td>...</td>\n",
       "      <td>NaN</td>\n",
       "      <td>NaN</td>\n",
       "      <td>NaN</td>\n",
       "      <td>NaN</td>\n",
       "      <td>NaN</td>\n",
       "      <td>NaN</td>\n",
       "      <td>NaN</td>\n",
       "      <td>NaN</td>\n",
       "      <td>NaN</td>\n",
       "      <td>old world cam, 3 top cams, no hf, no IMU</td>\n",
       "    </tr>\n",
       "    <tr>\n",
       "      <th>3</th>\n",
       "      <td>9/25/20</td>\n",
       "      <td>J524LT</td>\n",
       "      <td>not useful</td>\n",
       "      <td>NaN</td>\n",
       "      <td>NaN</td>\n",
       "      <td>NaN</td>\n",
       "      <td>NaN</td>\n",
       "      <td>NaN</td>\n",
       "      <td>NaN</td>\n",
       "      <td>\\\\goeppert\\nlab-nas\\freely_moving_ephys\\ephys_...</td>\n",
       "      <td>...</td>\n",
       "      <td>NaN</td>\n",
       "      <td>NaN</td>\n",
       "      <td>NaN</td>\n",
       "      <td>NaN</td>\n",
       "      <td>NaN</td>\n",
       "      <td>NaN</td>\n",
       "      <td>NaN</td>\n",
       "      <td>NaN</td>\n",
       "      <td>NaN</td>\n",
       "      <td>no eye/world cam, 3 top cams, no hf, gounding ...</td>\n",
       "    </tr>\n",
       "    <tr>\n",
       "      <th>4</th>\n",
       "      <td>9/28/20</td>\n",
       "      <td>J524RT</td>\n",
       "      <td>not useful</td>\n",
       "      <td>NaN</td>\n",
       "      <td>NaN</td>\n",
       "      <td>NaN</td>\n",
       "      <td>NaN</td>\n",
       "      <td>NaN</td>\n",
       "      <td>NaN</td>\n",
       "      <td>\\\\goeppert\\nlab-nas\\freely_moving_ephys\\ephys_...</td>\n",
       "      <td>...</td>\n",
       "      <td>NaN</td>\n",
       "      <td>NaN</td>\n",
       "      <td>NaN</td>\n",
       "      <td>NaN</td>\n",
       "      <td>NaN</td>\n",
       "      <td>NaN</td>\n",
       "      <td>NaN</td>\n",
       "      <td>NaN</td>\n",
       "      <td>NaN</td>\n",
       "      <td>old world cam, only hf_wn, no IMU</td>\n",
       "    </tr>\n",
       "    <tr>\n",
       "      <th>...</th>\n",
       "      <td>...</td>\n",
       "      <td>...</td>\n",
       "      <td>...</td>\n",
       "      <td>...</td>\n",
       "      <td>...</td>\n",
       "      <td>...</td>\n",
       "      <td>...</td>\n",
       "      <td>...</td>\n",
       "      <td>...</td>\n",
       "      <td>...</td>\n",
       "      <td>...</td>\n",
       "      <td>...</td>\n",
       "      <td>...</td>\n",
       "      <td>...</td>\n",
       "      <td>...</td>\n",
       "      <td>...</td>\n",
       "      <td>...</td>\n",
       "      <td>...</td>\n",
       "      <td>...</td>\n",
       "      <td>...</td>\n",
       "      <td>...</td>\n",
       "    </tr>\n",
       "    <tr>\n",
       "      <th>68</th>\n",
       "      <td>3/29/21</td>\n",
       "      <td>EE14P1LN</td>\n",
       "      <td>?</td>\n",
       "      <td>NaN</td>\n",
       "      <td>NaN</td>\n",
       "      <td>NaN</td>\n",
       "      <td>NaN</td>\n",
       "      <td>NaN</td>\n",
       "      <td>NaN</td>\n",
       "      <td>\\\\goeppert\\nlab-nas\\freely_moving_ephys\\ephys_...</td>\n",
       "      <td>...</td>\n",
       "      <td>NaN</td>\n",
       "      <td>NaN</td>\n",
       "      <td>NaN</td>\n",
       "      <td>NaN</td>\n",
       "      <td>NaN</td>\n",
       "      <td>NaN</td>\n",
       "      <td>NaN</td>\n",
       "      <td>NaN</td>\n",
       "      <td>NaN</td>\n",
       "      <td>NaN</td>\n",
       "    </tr>\n",
       "    <tr>\n",
       "      <th>69</th>\n",
       "      <td>3/29/21</td>\n",
       "      <td>EE14P1RN</td>\n",
       "      <td>not useful (not V1)</td>\n",
       "      <td>NaN</td>\n",
       "      <td>NaN</td>\n",
       "      <td>NaN</td>\n",
       "      <td>NaN</td>\n",
       "      <td>NaN</td>\n",
       "      <td>NaN</td>\n",
       "      <td>\\\\goeppert\\nlab-nas\\freely_moving_ephys\\ephys_...</td>\n",
       "      <td>...</td>\n",
       "      <td>NaN</td>\n",
       "      <td>NaN</td>\n",
       "      <td>NaN</td>\n",
       "      <td>NaN</td>\n",
       "      <td>NaN</td>\n",
       "      <td>NaN</td>\n",
       "      <td>NaN</td>\n",
       "      <td>NaN</td>\n",
       "      <td>NaN</td>\n",
       "      <td>NaN</td>\n",
       "    </tr>\n",
       "    <tr>\n",
       "      <th>70</th>\n",
       "      <td>3/30/21</td>\n",
       "      <td>EE14P1RN</td>\n",
       "      <td>?</td>\n",
       "      <td>NaN</td>\n",
       "      <td>NaN</td>\n",
       "      <td>NaN</td>\n",
       "      <td>NaN</td>\n",
       "      <td>NaN</td>\n",
       "      <td>NaN</td>\n",
       "      <td>\\\\goeppert\\nlab-nas\\freely_moving_ephys\\ephys_...</td>\n",
       "      <td>...</td>\n",
       "      <td>NaN</td>\n",
       "      <td>NaN</td>\n",
       "      <td>NaN</td>\n",
       "      <td>NaN</td>\n",
       "      <td>NaN</td>\n",
       "      <td>NaN</td>\n",
       "      <td>NaN</td>\n",
       "      <td>NaN</td>\n",
       "      <td>NaN</td>\n",
       "      <td>NaN</td>\n",
       "    </tr>\n",
       "    <tr>\n",
       "      <th>71</th>\n",
       "      <td>3/30/21</td>\n",
       "      <td>EE14P1RT</td>\n",
       "      <td>?</td>\n",
       "      <td>NaN</td>\n",
       "      <td>NaN</td>\n",
       "      <td>NaN</td>\n",
       "      <td>NaN</td>\n",
       "      <td>NaN</td>\n",
       "      <td>NaN</td>\n",
       "      <td>\\\\goeppert\\nlab-nas\\freely_moving_ephys\\ephys_...</td>\n",
       "      <td>...</td>\n",
       "      <td>NaN</td>\n",
       "      <td>NaN</td>\n",
       "      <td>NaN</td>\n",
       "      <td>NaN</td>\n",
       "      <td>NaN</td>\n",
       "      <td>NaN</td>\n",
       "      <td>NaN</td>\n",
       "      <td>NaN</td>\n",
       "      <td>NaN</td>\n",
       "      <td>NaN</td>\n",
       "    </tr>\n",
       "    <tr>\n",
       "      <th>72</th>\n",
       "      <td>4/1/21</td>\n",
       "      <td>EE14P1TT</td>\n",
       "      <td>?</td>\n",
       "      <td>NaN</td>\n",
       "      <td>NaN</td>\n",
       "      <td>NaN</td>\n",
       "      <td>NaN</td>\n",
       "      <td>NaN</td>\n",
       "      <td>NaN</td>\n",
       "      <td>\\\\goeppert\\nlab-nas\\freely_moving_ephys\\ephys_...</td>\n",
       "      <td>...</td>\n",
       "      <td>NaN</td>\n",
       "      <td>NaN</td>\n",
       "      <td>NaN</td>\n",
       "      <td>NaN</td>\n",
       "      <td>NaN</td>\n",
       "      <td>NaN</td>\n",
       "      <td>NaN</td>\n",
       "      <td>NaN</td>\n",
       "      <td>NaN</td>\n",
       "      <td>NaN</td>\n",
       "    </tr>\n",
       "  </tbody>\n",
       "</table>\n",
       "<p>73 rows × 26 columns</p>\n",
       "</div>"
      ],
      "text/plain": [
       "   experiment_date animal_name   experiment_outcome run_preprocessing  \\\n",
       "0          9/21/20      J524LT           not useful               NaN   \n",
       "1          9/22/20      J524LT           not useful               NaN   \n",
       "2          9/23/20      J524LT           not useful               NaN   \n",
       "3          9/25/20      J524LT           not useful               NaN   \n",
       "4          9/28/20      J524RT           not useful               NaN   \n",
       "..             ...         ...                  ...               ...   \n",
       "68         3/29/21    EE14P1LN                    ?               NaN   \n",
       "69         3/29/21    EE14P1RN  not useful (not V1)               NaN   \n",
       "70         3/30/21    EE14P1RN                    ?               NaN   \n",
       "71         3/30/21    EE14P1RT                    ?               NaN   \n",
       "72          4/1/21    EE14P1TT                    ?               NaN   \n",
       "\n",
       "   run_ephys_analysis load_for_data_pool  best_fm_rec  unit2highlight  \\\n",
       "0                 NaN                NaN          NaN             NaN   \n",
       "1                 NaN                NaN          NaN             NaN   \n",
       "2                 NaN                NaN          NaN             NaN   \n",
       "3                 NaN                NaN          NaN             NaN   \n",
       "4                 NaN                NaN          NaN             NaN   \n",
       "..                ...                ...          ...             ...   \n",
       "68                NaN                NaN          NaN             NaN   \n",
       "69                NaN                NaN          NaN             NaN   \n",
       "70                NaN                NaN          NaN             NaN   \n",
       "71                NaN                NaN          NaN             NaN   \n",
       "72                NaN                NaN          NaN             NaN   \n",
       "\n",
       "   current_status                                     animal_dirpath  ...  \\\n",
       "0             NaN  \\\\goeppert\\nlab-nas\\freely_moving_ephys\\ephys_...  ...   \n",
       "1             NaN  \\\\goeppert\\nlab-nas\\freely_moving_ephys\\ephys_...  ...   \n",
       "2             NaN  \\\\goeppert\\nlab-nas\\freely_moving_ephys\\ephys_...  ...   \n",
       "3             NaN  \\\\goeppert\\nlab-nas\\freely_moving_ephys\\ephys_...  ...   \n",
       "4             NaN  \\\\goeppert\\nlab-nas\\freely_moving_ephys\\ephys_...  ...   \n",
       "..            ...                                                ...  ...   \n",
       "68            NaN  \\\\goeppert\\nlab-nas\\freely_moving_ephys\\ephys_...  ...   \n",
       "69            NaN  \\\\goeppert\\nlab-nas\\freely_moving_ephys\\ephys_...  ...   \n",
       "70            NaN  \\\\goeppert\\nlab-nas\\freely_moving_ephys\\ephys_...  ...   \n",
       "71            NaN  \\\\goeppert\\nlab-nas\\freely_moving_ephys\\ephys_...  ...   \n",
       "72            NaN  \\\\goeppert\\nlab-nas\\freely_moving_ephys\\ephys_...  ...   \n",
       "\n",
       "   Visually responsive units? noise notes (any noise?)  \\\n",
       "0                         NaN                      NaN   \n",
       "1                         NaN                      NaN   \n",
       "2                         NaN                      NaN   \n",
       "3                         NaN                      NaN   \n",
       "4                         NaN                      NaN   \n",
       "..                        ...                      ...   \n",
       "68                        NaN                      NaN   \n",
       "69                        NaN                      NaN   \n",
       "70                        NaN                      NaN   \n",
       "71                        NaN                      NaN   \n",
       "72                        NaN                      NaN   \n",
       "\n",
       "    drift notes (large drift?) wn experiment and analysis notes  \\\n",
       "0                          NaN                              NaN   \n",
       "1                          NaN                              NaN   \n",
       "2                          NaN                              NaN   \n",
       "3                          NaN                              NaN   \n",
       "4                          NaN                              NaN   \n",
       "..                         ...                              ...   \n",
       "68                         NaN                              NaN   \n",
       "69                         NaN                              NaN   \n",
       "70                         NaN                              NaN   \n",
       "71                         NaN                              NaN   \n",
       "72                         NaN                              NaN   \n",
       "\n",
       "   sparsenoiseflash experiment and analysis notes  \\\n",
       "0                                             NaN   \n",
       "1                                             NaN   \n",
       "2                                             NaN   \n",
       "3                                             NaN   \n",
       "4                                             NaN   \n",
       "..                                            ...   \n",
       "68                                            NaN   \n",
       "69                                            NaN   \n",
       "70                                            NaN   \n",
       "71                                            NaN   \n",
       "72                                            NaN   \n",
       "\n",
       "   gratings experiment and analysis notes notes  \\\n",
       "0                                           NaN   \n",
       "1                                           NaN   \n",
       "2                                           NaN   \n",
       "3                                           NaN   \n",
       "4                                           NaN   \n",
       "..                                          ...   \n",
       "68                                          NaN   \n",
       "69                                          NaN   \n",
       "70                                          NaN   \n",
       "71                                          NaN   \n",
       "72                                          NaN   \n",
       "\n",
       "   fm experiment and analysis notes other analysis notes  \\\n",
       "0                               NaN                  NaN   \n",
       "1                               NaN                  NaN   \n",
       "2                               NaN                  NaN   \n",
       "3                               NaN                  NaN   \n",
       "4                               NaN                  NaN   \n",
       "..                              ...                  ...   \n",
       "68                              NaN                  NaN   \n",
       "69                              NaN                  NaN   \n",
       "70                              NaN                  NaN   \n",
       "71                              NaN                  NaN   \n",
       "72                              NaN                  NaN   \n",
       "\n",
       "   Full analysis status (finished/incomplete)  \\\n",
       "0                                         NaN   \n",
       "1                                         NaN   \n",
       "2                                         NaN   \n",
       "3                                         NaN   \n",
       "4                                         NaN   \n",
       "..                                        ...   \n",
       "68                                        NaN   \n",
       "69                                        NaN   \n",
       "70                                        NaN   \n",
       "71                                        NaN   \n",
       "72                                        NaN   \n",
       "\n",
       "                                                other  \n",
       "0         no eye/world cam, 3 top cams, no hf, no IMU  \n",
       "1         no eye/world cam, 3 top cams, no hf, no IMU  \n",
       "2            old world cam, 3 top cams, no hf, no IMU  \n",
       "3   no eye/world cam, 3 top cams, no hf, gounding ...  \n",
       "4                   old world cam, only hf_wn, no IMU  \n",
       "..                                                ...  \n",
       "68                                                NaN  \n",
       "69                                                NaN  \n",
       "70                                                NaN  \n",
       "71                                                NaN  \n",
       "72                                                NaN  \n",
       "\n",
       "[73 rows x 26 columns]"
      ]
     },
     "execution_count": 5,
     "metadata": {},
     "output_type": "execute_result"
    }
   ],
   "source": [
    "metadata"
   ]
  },
  {
   "cell_type": "code",
   "execution_count": 6,
   "metadata": {},
   "outputs": [],
   "source": [
    "usedata = pd.DataFrame([])"
   ]
  },
  {
   "cell_type": "code",
   "execution_count": 7,
   "metadata": {},
   "outputs": [],
   "source": [
    "usedata['path'] = metadata['animal_dirpath']"
   ]
  },
  {
   "cell_type": "code",
   "execution_count": 8,
   "metadata": {},
   "outputs": [],
   "source": [
    "usedata['date'] = [''.join([q[0].zfill(2),q[1].zfill(2),q[2].zfill(2)]) for q in [str(j).split('/') for j in list(metadata['experiment_date'])]]"
   ]
  },
  {
   "cell_type": "code",
   "execution_count": 9,
   "metadata": {},
   "outputs": [],
   "source": [
    "usedata['animal'] = metadata['animal_name']"
   ]
  },
  {
   "cell_type": "code",
   "execution_count": 10,
   "metadata": {},
   "outputs": [
    {
     "data": {
      "text/html": [
       "<div>\n",
       "<style scoped>\n",
       "    .dataframe tbody tr th:only-of-type {\n",
       "        vertical-align: middle;\n",
       "    }\n",
       "\n",
       "    .dataframe tbody tr th {\n",
       "        vertical-align: top;\n",
       "    }\n",
       "\n",
       "    .dataframe thead th {\n",
       "        text-align: right;\n",
       "    }\n",
       "</style>\n",
       "<table border=\"1\" class=\"dataframe\">\n",
       "  <thead>\n",
       "    <tr style=\"text-align: right;\">\n",
       "      <th></th>\n",
       "      <th>path</th>\n",
       "      <th>date</th>\n",
       "      <th>animal</th>\n",
       "    </tr>\n",
       "  </thead>\n",
       "  <tbody>\n",
       "    <tr>\n",
       "      <th>0</th>\n",
       "      <td>\\\\goeppert\\nlab-nas\\freely_moving_ephys\\ephys_...</td>\n",
       "      <td>092120</td>\n",
       "      <td>J524LT</td>\n",
       "    </tr>\n",
       "    <tr>\n",
       "      <th>1</th>\n",
       "      <td>\\\\goeppert\\nlab-nas\\freely_moving_ephys\\ephys_...</td>\n",
       "      <td>092220</td>\n",
       "      <td>J524LT</td>\n",
       "    </tr>\n",
       "    <tr>\n",
       "      <th>2</th>\n",
       "      <td>\\\\goeppert\\nlab-nas\\freely_moving_ephys\\ephys_...</td>\n",
       "      <td>092320</td>\n",
       "      <td>J524LT</td>\n",
       "    </tr>\n",
       "    <tr>\n",
       "      <th>3</th>\n",
       "      <td>\\\\goeppert\\nlab-nas\\freely_moving_ephys\\ephys_...</td>\n",
       "      <td>092520</td>\n",
       "      <td>J524LT</td>\n",
       "    </tr>\n",
       "    <tr>\n",
       "      <th>4</th>\n",
       "      <td>\\\\goeppert\\nlab-nas\\freely_moving_ephys\\ephys_...</td>\n",
       "      <td>092820</td>\n",
       "      <td>J524RT</td>\n",
       "    </tr>\n",
       "    <tr>\n",
       "      <th>...</th>\n",
       "      <td>...</td>\n",
       "      <td>...</td>\n",
       "      <td>...</td>\n",
       "    </tr>\n",
       "    <tr>\n",
       "      <th>68</th>\n",
       "      <td>\\\\goeppert\\nlab-nas\\freely_moving_ephys\\ephys_...</td>\n",
       "      <td>032921</td>\n",
       "      <td>EE14P1LN</td>\n",
       "    </tr>\n",
       "    <tr>\n",
       "      <th>69</th>\n",
       "      <td>\\\\goeppert\\nlab-nas\\freely_moving_ephys\\ephys_...</td>\n",
       "      <td>032921</td>\n",
       "      <td>EE14P1RN</td>\n",
       "    </tr>\n",
       "    <tr>\n",
       "      <th>70</th>\n",
       "      <td>\\\\goeppert\\nlab-nas\\freely_moving_ephys\\ephys_...</td>\n",
       "      <td>033021</td>\n",
       "      <td>EE14P1RN</td>\n",
       "    </tr>\n",
       "    <tr>\n",
       "      <th>71</th>\n",
       "      <td>\\\\goeppert\\nlab-nas\\freely_moving_ephys\\ephys_...</td>\n",
       "      <td>033021</td>\n",
       "      <td>EE14P1RT</td>\n",
       "    </tr>\n",
       "    <tr>\n",
       "      <th>72</th>\n",
       "      <td>\\\\goeppert\\nlab-nas\\freely_moving_ephys\\ephys_...</td>\n",
       "      <td>040121</td>\n",
       "      <td>EE14P1TT</td>\n",
       "    </tr>\n",
       "  </tbody>\n",
       "</table>\n",
       "<p>73 rows × 3 columns</p>\n",
       "</div>"
      ],
      "text/plain": [
       "                                                 path    date    animal\n",
       "0   \\\\goeppert\\nlab-nas\\freely_moving_ephys\\ephys_...  092120    J524LT\n",
       "1   \\\\goeppert\\nlab-nas\\freely_moving_ephys\\ephys_...  092220    J524LT\n",
       "2   \\\\goeppert\\nlab-nas\\freely_moving_ephys\\ephys_...  092320    J524LT\n",
       "3   \\\\goeppert\\nlab-nas\\freely_moving_ephys\\ephys_...  092520    J524LT\n",
       "4   \\\\goeppert\\nlab-nas\\freely_moving_ephys\\ephys_...  092820    J524RT\n",
       "..                                                ...     ...       ...\n",
       "68  \\\\goeppert\\nlab-nas\\freely_moving_ephys\\ephys_...  032921  EE14P1LN\n",
       "69  \\\\goeppert\\nlab-nas\\freely_moving_ephys\\ephys_...  032921  EE14P1RN\n",
       "70  \\\\goeppert\\nlab-nas\\freely_moving_ephys\\ephys_...  033021  EE14P1RN\n",
       "71  \\\\goeppert\\nlab-nas\\freely_moving_ephys\\ephys_...  033021  EE14P1RT\n",
       "72  \\\\goeppert\\nlab-nas\\freely_moving_ephys\\ephys_...  040121  EE14P1TT\n",
       "\n",
       "[73 rows x 3 columns]"
      ]
     },
     "execution_count": 10,
     "metadata": {},
     "output_type": "execute_result"
    }
   ],
   "source": [
    "usedata"
   ]
  },
  {
   "cell_type": "code",
   "execution_count": 11,
   "metadata": {},
   "outputs": [],
   "source": [
    "root_dir = '/home/niell_lab/data/freely_moving_ephys/inception_loop/inputs/'"
   ]
  },
  {
   "cell_type": "code",
   "execution_count": 12,
   "metadata": {},
   "outputs": [],
   "source": [
    "def list_subdirs(root_dir):\n",
    "    dirnames = []\n",
    "    for root, dirs, files in os.walk(root_dir):\n",
    "        for rec_dir in dirs:\n",
    "            dirnames.append(rec_dir)\n",
    "    return dirnames"
   ]
  },
  {
   "cell_type": "code",
   "execution_count": 13,
   "metadata": {},
   "outputs": [],
   "source": [
    "search_paths = [i for i in [row['path'] if row['animal'] in dirname and row['date'] in dirname else None for ind, row in usedata.iterrows() for dirname in list_subdirs(root_dir)] if i is not None]"
   ]
  },
  {
   "cell_type": "code",
   "execution_count": 14,
   "metadata": {},
   "outputs": [
    {
     "data": {
      "text/plain": [
       "['\\\\\\\\goeppert\\\\nlab-nas\\\\freely_moving_ephys\\\\ephys_recordings\\\\012221\\\\G6H30P3LN',\n",
       " '\\\\\\\\goeppert\\\\nlab-nas\\\\freely_moving_ephys\\\\ephys_recordings\\\\012521\\\\EE8P6LT',\n",
       " '\\\\\\\\goeppert\\\\nlab-nas\\\\freely_moving_ephys\\\\ephys_recordings\\\\012621\\\\EE8P6LT',\n",
       " '\\\\\\\\goeppert\\\\nlab-nas\\\\freely_moving_ephys\\\\ephys_recordings\\\\012821\\\\EE8P6LT',\n",
       " '\\\\\\\\goeppert\\\\nlab-nas\\\\freely_moving_ephys\\\\ephys_recordings\\\\020821\\\\EE12P1RN',\n",
       " '\\\\\\\\goeppert\\\\nlab-nas\\\\freely_moving_ephys\\\\ephys_recordings\\\\020921\\\\EE12P1RN',\n",
       " '\\\\\\\\goeppert\\\\nlab-nas\\\\freely_moving_ephys\\\\ephys_recordings\\\\021521\\\\EE11P11LT']"
      ]
     },
     "execution_count": 14,
     "metadata": {},
     "output_type": "execute_result"
    }
   ],
   "source": [
    "search_paths"
   ]
  },
  {
   "cell_type": "code",
   "execution_count": 15,
   "metadata": {},
   "outputs": [
    {
     "data": {
      "text/plain": [
       "['012821_EE8P6LT_control_Rig2_fm1_WORLD',\n",
       " '020921_EE12P1RN_control_Rig2_fm1_WORLD',\n",
       " '021521_EE11P11LT_control_Rig2_fm2_WORLD',\n",
       " '012221_G6H30P3LN_control_Rig2_fm1_WORLD',\n",
       " '012521_EE8P6LT_control_Rig2_fm1_WORLD',\n",
       " '012621_EE8P6LT_control_Rig2_fm1_WORLD',\n",
       " '020821_EE12P1RN_control_Rig2_fm1_WORLD']"
      ]
     },
     "execution_count": 15,
     "metadata": {},
     "output_type": "execute_result"
    }
   ],
   "source": [
    "wc_names = list_subdirs(root_dir)\n",
    "wc_names"
   ]
  },
  {
   "cell_type": "code",
   "execution_count": 16,
   "metadata": {},
   "outputs": [],
   "source": [
    "wc_read_paths = ['/'.join([split.capitalize() if split != '' and split == x.split('\\\\')[2] else split for split in x.split('\\\\')[2:]]) for x in search_paths]\n",
    "wc_read_paths = [os.path.join('/home/niell_lab/', x) for x in wc_read_paths]"
   ]
  },
  {
   "cell_type": "code",
   "execution_count": 17,
   "metadata": {},
   "outputs": [
    {
     "data": {
      "text/plain": [
       "['/home/niell_lab/Goeppert/nlab-nas/freely_moving_ephys/ephys_recordings/012221/G6H30P3LN',\n",
       " '/home/niell_lab/Goeppert/nlab-nas/freely_moving_ephys/ephys_recordings/012521/EE8P6LT',\n",
       " '/home/niell_lab/Goeppert/nlab-nas/freely_moving_ephys/ephys_recordings/012621/EE8P6LT',\n",
       " '/home/niell_lab/Goeppert/nlab-nas/freely_moving_ephys/ephys_recordings/012821/EE8P6LT',\n",
       " '/home/niell_lab/Goeppert/nlab-nas/freely_moving_ephys/ephys_recordings/020821/EE12P1RN',\n",
       " '/home/niell_lab/Goeppert/nlab-nas/freely_moving_ephys/ephys_recordings/020921/EE12P1RN',\n",
       " '/home/niell_lab/Goeppert/nlab-nas/freely_moving_ephys/ephys_recordings/021521/EE11P11LT']"
      ]
     },
     "execution_count": 17,
     "metadata": {},
     "output_type": "execute_result"
    }
   ],
   "source": [
    "wc_read_paths"
   ]
  },
  {
   "cell_type": "code",
   "execution_count": 18,
   "metadata": {},
   "outputs": [],
   "source": [
    "wc_timestamps = [find('*'+wc_name+'*.csv', search_path) for wc_name in wc_names for search_path in wc_read_paths]"
   ]
  },
  {
   "cell_type": "code",
   "execution_count": 19,
   "metadata": {},
   "outputs": [],
   "source": [
    "timestamp_files = [i for i in [item for items in wc_timestamps for item in items] if i != [] and 'BonsaiTSformatted' in i]"
   ]
  },
  {
   "cell_type": "code",
   "execution_count": 20,
   "metadata": {},
   "outputs": [],
   "source": [
    "timestamp = timestamp_files[1]"
   ]
  },
  {
   "cell_type": "code",
   "execution_count": 21,
   "metadata": {},
   "outputs": [
    {
     "data": {
      "text/plain": [
       "'/home/niell_lab/Goeppert/nlab-nas/freely_moving_ephys/ephys_recordings/020921/EE12P1RN/fm1/020921_EE12P1RN_control_Rig2_fm1_WORLD_BonsaiTSformatted.csv'"
      ]
     },
     "execution_count": 21,
     "metadata": {},
     "output_type": "execute_result"
    }
   ],
   "source": [
    "timestamp"
   ]
  },
  {
   "cell_type": "code",
   "execution_count": 22,
   "metadata": {},
   "outputs": [],
   "source": [
    "ephys_file = find('*ephys_merge.json', os.path.split(timestamp)[0])[0]"
   ]
  },
  {
   "cell_type": "code",
   "execution_count": 23,
   "metadata": {},
   "outputs": [
    {
     "data": {
      "text/plain": [
       "'/home/niell_lab/Goeppert/nlab-nas/freely_moving_ephys/ephys_recordings/020921/EE12P1RN/fm1/020921_EE12P1RN_control_Rig2_fm1_ephys_merge.json'"
      ]
     },
     "execution_count": 23,
     "metadata": {},
     "output_type": "execute_result"
    }
   ],
   "source": [
    "ephys_file"
   ]
  },
  {
   "cell_type": "code",
   "execution_count": 24,
   "metadata": {},
   "outputs": [],
   "source": [
    "worldT = np.array(pd.read_csv(timestamp))"
   ]
  },
  {
   "cell_type": "code",
   "execution_count": 25,
   "metadata": {},
   "outputs": [
    {
     "data": {
      "text/plain": [
       "array([[41131.7247265],\n",
       "       [41131.7407455],\n",
       "       [41131.7440665],\n",
       "       ...,\n",
       "       [42953.4422745],\n",
       "       [42953.4577825],\n",
       "       [42953.4738015]])"
      ]
     },
     "execution_count": 25,
     "metadata": {},
     "output_type": "execute_result"
    }
   ],
   "source": [
    "worldT"
   ]
  },
  {
   "cell_type": "code",
   "execution_count": 26,
   "metadata": {},
   "outputs": [],
   "source": [
    "ephys_data = pd.read_json(ephys_file)\n",
    "ephysT0 = ephys_data.iloc[0,12]\n",
    "worldT = worldT - ephysT0\n",
    "if worldT[0]<-600:\n",
    "    worldT = worldT + 8*60*60"
   ]
  },
  {
   "cell_type": "code",
   "execution_count": 31,
   "metadata": {},
   "outputs": [
    {
     "data": {
      "text/html": [
       "<div>\n",
       "<style scoped>\n",
       "    .dataframe tbody tr th:only-of-type {\n",
       "        vertical-align: middle;\n",
       "    }\n",
       "\n",
       "    .dataframe tbody tr th {\n",
       "        vertical-align: top;\n",
       "    }\n",
       "\n",
       "    .dataframe thead th {\n",
       "        text-align: right;\n",
       "    }\n",
       "</style>\n",
       "<table border=\"1\" class=\"dataframe\">\n",
       "  <thead>\n",
       "    <tr style=\"text-align: right;\">\n",
       "      <th></th>\n",
       "      <th>Amplitude</th>\n",
       "      <th>ContamPct</th>\n",
       "      <th>KSLabel</th>\n",
       "      <th>amp</th>\n",
       "      <th>ch</th>\n",
       "      <th>depth</th>\n",
       "      <th>fr</th>\n",
       "      <th>group</th>\n",
       "      <th>n_spikes</th>\n",
       "      <th>sh</th>\n",
       "      <th>waveform</th>\n",
       "      <th>spikeT</th>\n",
       "      <th>t0</th>\n",
       "    </tr>\n",
       "  </thead>\n",
       "  <tbody>\n",
       "    <tr>\n",
       "      <th>0</th>\n",
       "      <td>1174.9</td>\n",
       "      <td>35.1</td>\n",
       "      <td>mua</td>\n",
       "      <td>80.033997</td>\n",
       "      <td>0</td>\n",
       "      <td>776</td>\n",
       "      <td>38.516433</td>\n",
       "      <td>mua</td>\n",
       "      <td>123723</td>\n",
       "      <td>0</td>\n",
       "      <td>[0.040644209800000004, 0.0384975001, 0.0403803...</td>\n",
       "      <td>[0.0047333333, 0.027333333300000002, 0.0408, 0...</td>\n",
       "      <td>41132.638412</td>\n",
       "    </tr>\n",
       "    <tr>\n",
       "      <th>1</th>\n",
       "      <td>973.9</td>\n",
       "      <td>86.9</td>\n",
       "      <td>mua</td>\n",
       "      <td>55.505760</td>\n",
       "      <td>2</td>\n",
       "      <td>726</td>\n",
       "      <td>0.110516</td>\n",
       "      <td>noise</td>\n",
       "      <td>355</td>\n",
       "      <td>0</td>\n",
       "      <td>[0.0340387896, 0.0373285934, 0.0413059779, 0.0...</td>\n",
       "      <td>[11.5441, 23.1094, 83.0659666667, 144.32206666...</td>\n",
       "      <td>41132.638412</td>\n",
       "    </tr>\n",
       "    <tr>\n",
       "      <th>2</th>\n",
       "      <td>885.5</td>\n",
       "      <td>155.8</td>\n",
       "      <td>mua</td>\n",
       "      <td>52.047600</td>\n",
       "      <td>0</td>\n",
       "      <td>776</td>\n",
       "      <td>0.089969</td>\n",
       "      <td>noise</td>\n",
       "      <td>289</td>\n",
       "      <td>0</td>\n",
       "      <td>[0.037084952000000004, 0.0434064567, 0.0467663...</td>\n",
       "      <td>[0.0, 24.2255, 43.4015666667, 82.6441, 82.7851...</td>\n",
       "      <td>41132.638412</td>\n",
       "    </tr>\n",
       "    <tr>\n",
       "      <th>3</th>\n",
       "      <td>1062.0</td>\n",
       "      <td>26.3</td>\n",
       "      <td>mua</td>\n",
       "      <td>79.423431</td>\n",
       "      <td>1</td>\n",
       "      <td>751</td>\n",
       "      <td>15.688560</td>\n",
       "      <td>mua</td>\n",
       "      <td>50395</td>\n",
       "      <td>0</td>\n",
       "      <td>[0.0353689156, 0.06449747830000001, 0.06158860...</td>\n",
       "      <td>[0.0462666667, 0.0490333333, 0.1585666667, 0.4...</td>\n",
       "      <td>41132.638412</td>\n",
       "    </tr>\n",
       "    <tr>\n",
       "      <th>4</th>\n",
       "      <td>1348.0</td>\n",
       "      <td>4.5</td>\n",
       "      <td>good</td>\n",
       "      <td>69.949417</td>\n",
       "      <td>3</td>\n",
       "      <td>701</td>\n",
       "      <td>16.936609</td>\n",
       "      <td>good</td>\n",
       "      <td>54404</td>\n",
       "      <td>0</td>\n",
       "      <td>[-0.0020578364, -0.0019507010000000002, -0.002...</td>\n",
       "      <td>[0.1004, 1.3458666667, 1.4226333333, 1.4285666...</td>\n",
       "      <td>41132.638412</td>\n",
       "    </tr>\n",
       "    <tr>\n",
       "      <th>...</th>\n",
       "      <td>...</td>\n",
       "      <td>...</td>\n",
       "      <td>...</td>\n",
       "      <td>...</td>\n",
       "      <td>...</td>\n",
       "      <td>...</td>\n",
       "      <td>...</td>\n",
       "      <td>...</td>\n",
       "      <td>...</td>\n",
       "      <td>...</td>\n",
       "      <td>...</td>\n",
       "      <td>...</td>\n",
       "      <td>...</td>\n",
       "    </tr>\n",
       "    <tr>\n",
       "      <th>93</th>\n",
       "      <td>1619.4</td>\n",
       "      <td>0.0</td>\n",
       "      <td>good</td>\n",
       "      <td>125.903282</td>\n",
       "      <td>28</td>\n",
       "      <td>76</td>\n",
       "      <td>0.367037</td>\n",
       "      <td>noise</td>\n",
       "      <td>1179</td>\n",
       "      <td>0</td>\n",
       "      <td>[-0.0073529803, -0.027944453100000002, -0.0240...</td>\n",
       "      <td>[6.4025666667, 7.9458333333, 14.4784, 19.3129,...</td>\n",
       "      <td>41132.638412</td>\n",
       "    </tr>\n",
       "    <tr>\n",
       "      <th>94</th>\n",
       "      <td>1152.3</td>\n",
       "      <td>0.0</td>\n",
       "      <td>mua</td>\n",
       "      <td>78.105499</td>\n",
       "      <td>50</td>\n",
       "      <td>326</td>\n",
       "      <td>0.140713</td>\n",
       "      <td>noise</td>\n",
       "      <td>452</td>\n",
       "      <td>0</td>\n",
       "      <td>[-0.0616604462, -0.0607215874, -0.059229079600...</td>\n",
       "      <td>[2.9209666667, 4.7038, 6.3115666667, 9.8985333...</td>\n",
       "      <td>41132.638412</td>\n",
       "    </tr>\n",
       "    <tr>\n",
       "      <th>95</th>\n",
       "      <td>2329.8</td>\n",
       "      <td>1.3</td>\n",
       "      <td>good</td>\n",
       "      <td>95.074455</td>\n",
       "      <td>39</td>\n",
       "      <td>601</td>\n",
       "      <td>5.990885</td>\n",
       "      <td>good</td>\n",
       "      <td>19244</td>\n",
       "      <td>0</td>\n",
       "      <td>[0.0297939833, 0.0532865711, 0.0498547442, 0.0...</td>\n",
       "      <td>[0.1824333333, 0.2922, 0.538, 0.6158333333, 0....</td>\n",
       "      <td>41132.638412</td>\n",
       "    </tr>\n",
       "    <tr>\n",
       "      <th>96</th>\n",
       "      <td>2139.4</td>\n",
       "      <td>2.5</td>\n",
       "      <td>good</td>\n",
       "      <td>94.550453</td>\n",
       "      <td>46</td>\n",
       "      <td>426</td>\n",
       "      <td>12.515981</td>\n",
       "      <td>good</td>\n",
       "      <td>40204</td>\n",
       "      <td>0</td>\n",
       "      <td>[0.029087415000000002, 0.0466604568, 0.0442143...</td>\n",
       "      <td>[6.66667e-05, 0.027066666700000002, 0.04216666...</td>\n",
       "      <td>41132.638412</td>\n",
       "    </tr>\n",
       "    <tr>\n",
       "      <th>97</th>\n",
       "      <td>1553.8</td>\n",
       "      <td>10.3</td>\n",
       "      <td>mua</td>\n",
       "      <td>90.028679</td>\n",
       "      <td>46</td>\n",
       "      <td>426</td>\n",
       "      <td>2.328924</td>\n",
       "      <td>mua</td>\n",
       "      <td>7481</td>\n",
       "      <td>0</td>\n",
       "      <td>[0.029192308, 0.0459468067, 0.0436733402, 0.04...</td>\n",
       "      <td>[0.1781, 0.7750666667, 1.4737, 1.6926333332999...</td>\n",
       "      <td>41132.638412</td>\n",
       "    </tr>\n",
       "  </tbody>\n",
       "</table>\n",
       "<p>98 rows × 13 columns</p>\n",
       "</div>"
      ],
      "text/plain": [
       "    Amplitude  ContamPct KSLabel         amp  ch  depth         fr  group  \\\n",
       "0      1174.9       35.1     mua   80.033997   0    776  38.516433    mua   \n",
       "1       973.9       86.9     mua   55.505760   2    726   0.110516  noise   \n",
       "2       885.5      155.8     mua   52.047600   0    776   0.089969  noise   \n",
       "3      1062.0       26.3     mua   79.423431   1    751  15.688560    mua   \n",
       "4      1348.0        4.5    good   69.949417   3    701  16.936609   good   \n",
       "..        ...        ...     ...         ...  ..    ...        ...    ...   \n",
       "93     1619.4        0.0    good  125.903282  28     76   0.367037  noise   \n",
       "94     1152.3        0.0     mua   78.105499  50    326   0.140713  noise   \n",
       "95     2329.8        1.3    good   95.074455  39    601   5.990885   good   \n",
       "96     2139.4        2.5    good   94.550453  46    426  12.515981   good   \n",
       "97     1553.8       10.3     mua   90.028679  46    426   2.328924    mua   \n",
       "\n",
       "    n_spikes  sh                                           waveform  \\\n",
       "0     123723   0  [0.040644209800000004, 0.0384975001, 0.0403803...   \n",
       "1        355   0  [0.0340387896, 0.0373285934, 0.0413059779, 0.0...   \n",
       "2        289   0  [0.037084952000000004, 0.0434064567, 0.0467663...   \n",
       "3      50395   0  [0.0353689156, 0.06449747830000001, 0.06158860...   \n",
       "4      54404   0  [-0.0020578364, -0.0019507010000000002, -0.002...   \n",
       "..       ...  ..                                                ...   \n",
       "93      1179   0  [-0.0073529803, -0.027944453100000002, -0.0240...   \n",
       "94       452   0  [-0.0616604462, -0.0607215874, -0.059229079600...   \n",
       "95     19244   0  [0.0297939833, 0.0532865711, 0.0498547442, 0.0...   \n",
       "96     40204   0  [0.029087415000000002, 0.0466604568, 0.0442143...   \n",
       "97      7481   0  [0.029192308, 0.0459468067, 0.0436733402, 0.04...   \n",
       "\n",
       "                                               spikeT            t0  \n",
       "0   [0.0047333333, 0.027333333300000002, 0.0408, 0...  41132.638412  \n",
       "1   [11.5441, 23.1094, 83.0659666667, 144.32206666...  41132.638412  \n",
       "2   [0.0, 24.2255, 43.4015666667, 82.6441, 82.7851...  41132.638412  \n",
       "3   [0.0462666667, 0.0490333333, 0.1585666667, 0.4...  41132.638412  \n",
       "4   [0.1004, 1.3458666667, 1.4226333333, 1.4285666...  41132.638412  \n",
       "..                                                ...           ...  \n",
       "93  [6.4025666667, 7.9458333333, 14.4784, 19.3129,...  41132.638412  \n",
       "94  [2.9209666667, 4.7038, 6.3115666667, 9.8985333...  41132.638412  \n",
       "95  [0.1824333333, 0.2922, 0.538, 0.6158333333, 0....  41132.638412  \n",
       "96  [6.66667e-05, 0.027066666700000002, 0.04216666...  41132.638412  \n",
       "97  [0.1781, 0.7750666667, 1.4737, 1.6926333332999...  41132.638412  \n",
       "\n",
       "[98 rows x 13 columns]"
      ]
     },
     "execution_count": 31,
     "metadata": {},
     "output_type": "execute_result"
    }
   ],
   "source": [
    "ephys_data"
   ]
  },
  {
   "cell_type": "code",
   "execution_count": 37,
   "metadata": {},
   "outputs": [
    {
     "data": {
      "text/plain": [
       "(98, 13)"
      ]
     },
     "execution_count": 37,
     "metadata": {},
     "output_type": "execute_result"
    }
   ],
   "source": [
    "np.shape(ephys_data)"
   ]
  },
  {
   "cell_type": "code",
   "execution_count": 27,
   "metadata": {},
   "outputs": [],
   "source": [
    "# get number of spikes between worldcam timestamps"
   ]
  },
  {
   "cell_type": "code",
   "execution_count": 28,
   "metadata": {},
   "outputs": [],
   "source": [
    "dt = 0.025\n",
    "t = np.arange(0, np.nanmax(worldT),dt)"
   ]
  },
  {
   "cell_type": "code",
   "execution_count": 41,
   "metadata": {},
   "outputs": [],
   "source": [
    "from tqdm import tqdm"
   ]
  },
  {
   "cell_type": "code",
   "execution_count": 47,
   "metadata": {
    "scrolled": true
   },
   "outputs": [
    {
     "name": "stderr",
     "output_type": "stream",
     "text": [
      "0it [00:08, ?it/s]\n"
     ]
    },
    {
     "ename": "KeyboardInterrupt",
     "evalue": "",
     "output_type": "error",
     "traceback": [
      "\u001b[0;31m---------------------------------------------------------------------------\u001b[0m",
      "\u001b[0;31mKeyboardInterrupt\u001b[0m                         Traceback (most recent call last)",
      "\u001b[0;32m<ipython-input-47-294b3b07ef0a>\u001b[0m in \u001b[0;36m<module>\u001b[0;34m\u001b[0m\n\u001b[1;32m      3\u001b[0m     \u001b[0;32mfor\u001b[0m \u001b[0mframe\u001b[0m \u001b[0;32min\u001b[0m \u001b[0mrange\u001b[0m\u001b[0;34m(\u001b[0m\u001b[0;36m1\u001b[0m\u001b[0;34m,\u001b[0m\u001b[0mlen\u001b[0m\u001b[0;34m(\u001b[0m\u001b[0mworldT\u001b[0m\u001b[0;34m)\u001b[0m\u001b[0;34m)\u001b[0m\u001b[0;34m:\u001b[0m\u001b[0;34m\u001b[0m\u001b[0;34m\u001b[0m\u001b[0m\n\u001b[1;32m      4\u001b[0m         \u001b[0mframe_start\u001b[0m \u001b[0;34m=\u001b[0m \u001b[0mt\u001b[0m\u001b[0;34m[\u001b[0m\u001b[0mframe\u001b[0m\u001b[0;34m-\u001b[0m\u001b[0;36m2\u001b[0m\u001b[0;34m]\u001b[0m\u001b[0;34m;\u001b[0m \u001b[0mframe_end\u001b[0m \u001b[0;34m=\u001b[0m \u001b[0mt\u001b[0m\u001b[0;34m[\u001b[0m\u001b[0mframe\u001b[0m\u001b[0;34m-\u001b[0m\u001b[0;36m1\u001b[0m\u001b[0;34m]\u001b[0m\u001b[0;34m\u001b[0m\u001b[0;34m\u001b[0m\u001b[0m\n\u001b[0;32m----> 5\u001b[0;31m         \u001b[0mbinned_rates\u001b[0m\u001b[0;34m[\u001b[0m\u001b[0mframe\u001b[0m\u001b[0;34m-\u001b[0m\u001b[0;36m1\u001b[0m\u001b[0;34m,\u001b[0m \u001b[0mind\u001b[0m\u001b[0;34m]\u001b[0m \u001b[0;34m=\u001b[0m \u001b[0mlen\u001b[0m\u001b[0;34m(\u001b[0m\u001b[0;34m[\u001b[0m\u001b[0mx\u001b[0m \u001b[0;32mfor\u001b[0m \u001b[0mx\u001b[0m \u001b[0;32min\u001b[0m \u001b[0mephys_data\u001b[0m\u001b[0;34m.\u001b[0m\u001b[0mloc\u001b[0m\u001b[0;34m[\u001b[0m\u001b[0mind\u001b[0m\u001b[0;34m,\u001b[0m \u001b[0;34m'spikeT'\u001b[0m\u001b[0;34m]\u001b[0m \u001b[0;32mif\u001b[0m \u001b[0;34m(\u001b[0m\u001b[0mframe_start\u001b[0m \u001b[0;34m<=\u001b[0m \u001b[0mx\u001b[0m \u001b[0;32mand\u001b[0m \u001b[0mx\u001b[0m\u001b[0;34m<\u001b[0m\u001b[0mframe_end\u001b[0m\u001b[0;34m)\u001b[0m\u001b[0;34m]\u001b[0m\u001b[0;34m)\u001b[0m\u001b[0;34m\u001b[0m\u001b[0;34m\u001b[0m\u001b[0m\n\u001b[0m",
      "\u001b[0;32m<ipython-input-47-294b3b07ef0a>\u001b[0m in \u001b[0;36m<listcomp>\u001b[0;34m(.0)\u001b[0m\n\u001b[1;32m      3\u001b[0m     \u001b[0;32mfor\u001b[0m \u001b[0mframe\u001b[0m \u001b[0;32min\u001b[0m \u001b[0mrange\u001b[0m\u001b[0;34m(\u001b[0m\u001b[0;36m1\u001b[0m\u001b[0;34m,\u001b[0m\u001b[0mlen\u001b[0m\u001b[0;34m(\u001b[0m\u001b[0mworldT\u001b[0m\u001b[0;34m)\u001b[0m\u001b[0;34m)\u001b[0m\u001b[0;34m:\u001b[0m\u001b[0;34m\u001b[0m\u001b[0;34m\u001b[0m\u001b[0m\n\u001b[1;32m      4\u001b[0m         \u001b[0mframe_start\u001b[0m \u001b[0;34m=\u001b[0m \u001b[0mt\u001b[0m\u001b[0;34m[\u001b[0m\u001b[0mframe\u001b[0m\u001b[0;34m-\u001b[0m\u001b[0;36m2\u001b[0m\u001b[0;34m]\u001b[0m\u001b[0;34m;\u001b[0m \u001b[0mframe_end\u001b[0m \u001b[0;34m=\u001b[0m \u001b[0mt\u001b[0m\u001b[0;34m[\u001b[0m\u001b[0mframe\u001b[0m\u001b[0;34m-\u001b[0m\u001b[0;36m1\u001b[0m\u001b[0;34m]\u001b[0m\u001b[0;34m\u001b[0m\u001b[0;34m\u001b[0m\u001b[0m\n\u001b[0;32m----> 5\u001b[0;31m         \u001b[0mbinned_rates\u001b[0m\u001b[0;34m[\u001b[0m\u001b[0mframe\u001b[0m\u001b[0;34m-\u001b[0m\u001b[0;36m1\u001b[0m\u001b[0;34m,\u001b[0m \u001b[0mind\u001b[0m\u001b[0;34m]\u001b[0m \u001b[0;34m=\u001b[0m \u001b[0mlen\u001b[0m\u001b[0;34m(\u001b[0m\u001b[0;34m[\u001b[0m\u001b[0mx\u001b[0m \u001b[0;32mfor\u001b[0m \u001b[0mx\u001b[0m \u001b[0;32min\u001b[0m \u001b[0mephys_data\u001b[0m\u001b[0;34m.\u001b[0m\u001b[0mloc\u001b[0m\u001b[0;34m[\u001b[0m\u001b[0mind\u001b[0m\u001b[0;34m,\u001b[0m \u001b[0;34m'spikeT'\u001b[0m\u001b[0;34m]\u001b[0m \u001b[0;32mif\u001b[0m \u001b[0;34m(\u001b[0m\u001b[0mframe_start\u001b[0m \u001b[0;34m<=\u001b[0m \u001b[0mx\u001b[0m \u001b[0;32mand\u001b[0m \u001b[0mx\u001b[0m\u001b[0;34m<\u001b[0m\u001b[0mframe_end\u001b[0m\u001b[0;34m)\u001b[0m\u001b[0;34m]\u001b[0m\u001b[0;34m)\u001b[0m\u001b[0;34m\u001b[0m\u001b[0;34m\u001b[0m\u001b[0m\n\u001b[0m",
      "\u001b[0;31mKeyboardInterrupt\u001b[0m: "
     ]
    }
   ],
   "source": [
    "binned_rates = np.zeros([len(worldT), np.size(ephys_data, 0)])\n",
    "for ind, row in tqdm(ephys_data.iterrows()):\n",
    "    for frame in range(0,len(worldT)-1):\n",
    "        frame_start = t[frame]\n",
    "        frame_end = t[frame+1]\n",
    "        binned_rates[frame-1, ind] = len([x for x in ephys_data.loc[ind, 'spikeT'] if (frame_start <= x and x<frame_end)])"
   ]
  },
  {
   "cell_type": "code",
   "execution_count": 30,
   "metadata": {},
   "outputs": [],
   "source": [
    "# ephys timebase\n",
    "dt = 1/60\n",
    "t = np.arange(0,np.nanmax(worldT),dt)"
   ]
  },
  {
   "cell_type": "code",
   "execution_count": 31,
   "metadata": {},
   "outputs": [
    {
     "data": {
      "text/plain": [
       "1820.8353894999964"
      ]
     },
     "execution_count": 31,
     "metadata": {},
     "output_type": "execute_result"
    }
   ],
   "source": [
    "np.nanmax(worldT)"
   ]
  },
  {
   "cell_type": "code",
   "execution_count": null,
   "metadata": {},
   "outputs": [],
   "source": []
  },
  {
   "cell_type": "code",
   "execution_count": 32,
   "metadata": {},
   "outputs": [],
   "source": [
    "ephys_data['rate'] = np.nan\n",
    "ephys_data['rate'] = ephys_data['rate'].astype(object)\n",
    "for i,ind in enumerate(ephys_data.index):\n",
    "    ephys_data.at[ind,'rate'],bins = np.histogram(ephys_data.at[ind,'spikeT'],t)\n",
    "ephys_data['rate']= ephys_data['rate']/dt\n",
    "goodcells = ephys_data.loc[ephys_data['group']=='good']"
   ]
  },
  {
   "cell_type": "code",
   "execution_count": 35,
   "metadata": {},
   "outputs": [],
   "source": [
    "spike_rate_by_frame = goodcells['rate']"
   ]
  },
  {
   "cell_type": "code",
   "execution_count": 39,
   "metadata": {},
   "outputs": [],
   "source": [
    "spike_rate_by_frame.to_json('/home/niell_lab/data/freely_moving_ephys/analysis_tests/ephys/spike_rate_by_frame.json')"
   ]
  },
  {
   "cell_type": "code",
   "execution_count": 40,
   "metadata": {},
   "outputs": [],
   "source": [
    "with open('/home/niell_lab/data/freely_moving_ephys/analysis_tests/ephys/spike_rate_by_frame.json', 'r') as fp:\n",
    "    ratebin = json.load(fp)"
   ]
  },
  {
   "cell_type": "code",
   "execution_count": 47,
   "metadata": {},
   "outputs": [
    {
     "data": {
      "text/plain": [
       "4     [0.0, 0.0, 0.0, 0.0, 0.0, 0.0, 60.0, 0.0, 0.0,...\n",
       "13    [60.0, 120.0, 60.0, 0.0, 60.0, 120.0, 60.0, 0....\n",
       "53    [0.0, 0.0, 0.0, 0.0, 0.0, 0.0, 0.0, 0.0, 0.0, ...\n",
       "61    [60.0, 0.0, 0.0, 0.0, 0.0, 0.0, 0.0, 0.0, 0.0,...\n",
       "69    [60.0, 0.0, 0.0, 0.0, 0.0, 0.0, 0.0, 0.0, 0.0,...\n",
       "73    [0.0, 0.0, 0.0, 0.0, 0.0, 0.0, 0.0, 0.0, 0.0, ...\n",
       "76    [0.0, 0.0, 0.0, 0.0, 0.0, 60.0, 0.0, 0.0, 0.0,...\n",
       "77    [0.0, 0.0, 0.0, 0.0, 60.0, 0.0, 0.0, 0.0, 0.0,...\n",
       "88    [0.0, 0.0, 0.0, 0.0, 0.0, 0.0, 0.0, 0.0, 60.0,...\n",
       "89    [0.0, 0.0, 60.0, 0.0, 0.0, 0.0, 0.0, 60.0, 60....\n",
       "95    [0.0, 0.0, 0.0, 0.0, 0.0, 0.0, 0.0, 0.0, 0.0, ...\n",
       "96    [60.0, 60.0, 60.0, 120.0, 120.0, 0.0, 60.0, 0....\n",
       "dtype: object"
      ]
     },
     "execution_count": 47,
     "metadata": {},
     "output_type": "execute_result"
    }
   ],
   "source": [
    "ratebin_series = pd.Series(ratebin)\n",
    "ratebin_series"
   ]
  },
  {
   "cell_type": "code",
   "execution_count": 54,
   "metadata": {},
   "outputs": [
    {
     "data": {
      "text/plain": [
       "[0.0, 120.0, 0.0, 0.0, 0.0, 0.0, 0.0, 0.0, 0.0, 0.0, 0.0, 60.0]"
      ]
     },
     "execution_count": 54,
     "metadata": {},
     "output_type": "execute_result"
    }
   ],
   "source": [
    "idx = 1\n",
    "ratebin_sample = [ratebin[unit][idx] for unit in ratebin.keys()]\n",
    "ratebin_sample"
   ]
  },
  {
   "cell_type": "code",
   "execution_count": null,
   "metadata": {},
   "outputs": [],
   "source": []
  },
  {
   "cell_type": "code",
   "execution_count": 174,
   "metadata": {},
   "outputs": [
    {
     "name": "stdout",
     "output_type": "stream",
     "text": [
      "4 [0. 0. 0. ... 0. 0. 0.]\n"
     ]
    }
   ],
   "source": [
    "unit_ind = 0\n",
    "unit_label = goodcells.index[unit_ind]\n",
    "spike_rate_by_frame = np.array(goodcells.iloc[unit_ind]['rate'])\n",
    "savefile = os.path.join(os.path.join(root_dir, [name for name in wc_names if name in timestamp][0]), 'unit'+str(unit_label)+'spike_rate_by_frame.npy')\n",
    "# np.save(savefile, spike_rate_by_frame)"
   ]
  },
  {
   "cell_type": "code",
   "execution_count": 179,
   "metadata": {},
   "outputs": [
    {
     "data": {
      "text/plain": [
       "'/home/niell_lab/data/freely_moving_ephys/inception_loop/inputs/012821_EE8P6LT_control_Rig2_fm1_WORLD/unit4spike_rate_by_frame.npy'"
      ]
     },
     "execution_count": 179,
     "metadata": {},
     "output_type": "execute_result"
    }
   ],
   "source": [
    "os.path.join(os.path.join(root_dir, [name for name in wc_names if name in timestamp][0]), 'unit'+str(unit_label)+'spike_rate_by_frame.npy')"
   ]
  },
  {
   "cell_type": "code",
   "execution_count": 178,
   "metadata": {},
   "outputs": [
    {
     "data": {
      "text/plain": [
       "'/home/niell_lab/data/freely_moving_ephys/inception_loop/inputs/012821_EE8P6LT_control_Rig2_fm1_WORLD'"
      ]
     },
     "execution_count": 178,
     "metadata": {},
     "output_type": "execute_result"
    }
   ],
   "source": []
  },
  {
   "cell_type": "code",
   "execution_count": null,
   "metadata": {},
   "outputs": [],
   "source": []
  }
 ],
 "metadata": {
  "kernelspec": {
   "display_name": "DLC-GPU2",
   "language": "python",
   "name": "dlc-gpu2"
  },
  "language_info": {
   "codemirror_mode": {
    "name": "ipython",
    "version": 3
   },
   "file_extension": ".py",
   "mimetype": "text/x-python",
   "name": "python",
   "nbconvert_exporter": "python",
   "pygments_lexer": "ipython3",
   "version": "3.7.9"
  }
 },
 "nbformat": 4,
 "nbformat_minor": 4
}
