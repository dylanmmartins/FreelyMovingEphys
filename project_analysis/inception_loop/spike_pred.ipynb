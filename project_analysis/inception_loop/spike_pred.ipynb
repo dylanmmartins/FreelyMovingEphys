{
 "cells": [
  {
   "cell_type": "code",
   "execution_count": 1,
   "metadata": {},
   "outputs": [],
   "source": [
    "import torch\n",
    "from torchvision import transforms\n",
    "# from test_tube import Experiment\n",
    "from torchvision import transforms"
   ]
  },
  {
   "cell_type": "code",
   "execution_count": 3,
   "metadata": {},
   "outputs": [],
   "source": [
    "import argparse, os, json, sys\n",
    "sys.path.insert(0,'/home/niell_lab/Documents/github/FreelyMovingEphys/')\n",
    "from glob import glob\n",
    "from tqdm import tqdm\n",
    "from project_analysis.inception_loop.base import CorePlusReadout2d\n",
    "from project_analysis.inception_loop.datasets import WorldcamDataset3D\n",
    "from torch.utils.data import Dataset, DataLoader, Subset\n",
    "from project_analysis.inception_loop.core import Stacked2dCore\n",
    "import torch.nn as nn\n",
    "import yaml"
   ]
  },
  {
   "cell_type": "code",
   "execution_count": 5,
   "metadata": {},
   "outputs": [
    {
     "name": "stdout",
     "output_type": "stream",
     "text": [
      "/home/niell_lab/data/freely_moving_ephys/inception_loop/inceptionloop/version_2/checkpoints/spike_pred_epoch0.pt\n",
      "{'batch_size': 1152, 'csv': '/home/niell_lab/data/freely_moving_ephys/inception_loop/inputs/train_history_dropnans.csv', 'hidden_channels': 2, 'hidden_kern': 27, 'history_size': 0, 'input_channels': 3, 'input_kern': 7, 'learning_rate': 1e-05, 'root_dir': '/home/niell_lab/data/freely_moving_ephys/inception_loop/', 'split_frac': 0.8}\n"
     ]
    }
   ],
   "source": [
    "n = -1\n",
    "version = 0\n",
    "modeltype = 'inceptionloop' \n",
    "filename = '/home/niell_lab/data/freely_moving_ephys/inception_loop/inceptionloop/version_2/config.yaml'\n",
    "ckpt_path = glob('/home/niell_lab/data/freely_moving_ephys/inception_loop/inceptionloop/version_2/checkpoints/*.pt')[n]\n",
    "print(ckpt_path)\n",
    "with open(filename, 'r') as file:\n",
    "    try:\n",
    "        args = yaml.safe_load(file)\n",
    "    except yaml.YAMLError as exc:\n",
    "        print(exc)\n",
    "print(args)"
   ]
  },
  {
   "cell_type": "code",
   "execution_count": 7,
   "metadata": {},
   "outputs": [
    {
     "ename": "KeyError",
     "evalue": "'img_resize'",
     "output_type": "error",
     "traceback": [
      "\u001b[0;31m---------------------------------------------------------------------------\u001b[0m",
      "\u001b[0;31mKeyError\u001b[0m                                  Traceback (most recent call last)",
      "\u001b[0;32m<ipython-input-7-61eeeecc0b50>\u001b[0m in \u001b[0;36m<module>\u001b[0;34m\u001b[0m\n\u001b[1;32m      1\u001b[0m \u001b[0mSetRange\u001b[0m \u001b[0;34m=\u001b[0m \u001b[0mtransforms\u001b[0m\u001b[0;34m.\u001b[0m\u001b[0mLambda\u001b[0m\u001b[0;34m(\u001b[0m\u001b[0;32mlambda\u001b[0m \u001b[0mX\u001b[0m\u001b[0;34m:\u001b[0m \u001b[0;36m2\u001b[0m \u001b[0;34m*\u001b[0m \u001b[0mX\u001b[0m \u001b[0;34m-\u001b[0m \u001b[0;36m1.\u001b[0m\u001b[0;34m)\u001b[0m\u001b[0;34m\u001b[0m\u001b[0m\n\u001b[1;32m      2\u001b[0m transform = transforms.Compose([transforms.Grayscale(num_output_channels=1),\n\u001b[0;32m----> 3\u001b[0;31m                             \u001b[0mtransforms\u001b[0m\u001b[0;34m.\u001b[0m\u001b[0mResize\u001b[0m\u001b[0;34m(\u001b[0m\u001b[0;34m(\u001b[0m\u001b[0margs\u001b[0m\u001b[0;34m[\u001b[0m\u001b[0;34m'img_resize'\u001b[0m\u001b[0;34m]\u001b[0m\u001b[0;34m,\u001b[0m\u001b[0margs\u001b[0m\u001b[0;34m[\u001b[0m\u001b[0;34m'img_resize'\u001b[0m\u001b[0;34m]\u001b[0m\u001b[0;34m)\u001b[0m\u001b[0;34m)\u001b[0m\u001b[0;34m,\u001b[0m\u001b[0;34m\u001b[0m\u001b[0m\n\u001b[0m\u001b[1;32m      4\u001b[0m                             \u001b[0mtransforms\u001b[0m\u001b[0;34m.\u001b[0m\u001b[0mToTensor\u001b[0m\u001b[0;34m(\u001b[0m\u001b[0;34m)\u001b[0m\u001b[0;34m,\u001b[0m\u001b[0;34m\u001b[0m\u001b[0m\n\u001b[1;32m      5\u001b[0m                             SetRange])\n",
      "\u001b[0;31mKeyError\u001b[0m: 'img_resize'"
     ]
    }
   ],
   "source": [
    "SetRange = transforms.Lambda(lambda X: 2 * X - 1.)\n",
    "transform = transforms.Compose([transforms.Grayscale(num_output_channels=1),\n",
    "                            transforms.Resize((args['img_resize'],args['img_resize'])),\n",
    "                            transforms.ToTensor(),\n",
    "                            SetRange])\n",
    "\n",
    "dataset = WorldcamDataset3D(args['csv'], args['history_size'], input_path, transform=transform)\n",
    "\n",
    "num_units = len(dataset.metadata['SR0'])\n",
    "\n",
    "startind = dataset.metadata.index[0]; endind = dataset.metadata.index[-1]; splitind = int((endind - startind) * args['split_frac'])\n",
    "\n",
    "training_data = Subset(dataset,torch.arange(startind,splitind))\n",
    "testing_data = Subset(dataset,torch.arange(splitind,endind))\n",
    "\n",
    "train_dataloader = DataLoader(training_data, batch_size=args['batch_size'], num_workers=args['num_workers'], persistent_workers=True, pin_memory=True, prefetch_factor=5)\n",
    "test_dataloader = DataLoader(testing_data, batch_size=args['batch_size'], num_workers=args['num_workers'])\n",
    "\n",
    "model = Stacked3dCore(args['input_channels'], args['hidden_channels'], args['input_kern'], args['hidden_kern'], num_units, spike_history_len=args['history_size'], img_resize=args['img_resize'])\n",
    "model.to(device)\n",
    "\n",
    "loss_fn = nn.MSELoss()\n",
    "optimizer = torch.optim.SGD(model.parameters(), lr=args['learning_rate'])"
   ]
  },
  {
   "cell_type": "code",
   "execution_count": null,
   "metadata": {},
   "outputs": [],
   "source": []
  }
 ],
 "metadata": {
  "kernelspec": {
   "display_name": "pytorch-depth",
   "language": "python",
   "name": "pytorch-depth"
  },
  "language_info": {
   "codemirror_mode": {
    "name": "ipython",
    "version": 3
   },
   "file_extension": ".py",
   "mimetype": "text/x-python",
   "name": "python",
   "nbconvert_exporter": "python",
   "pygments_lexer": "ipython3",
   "version": "3.6.6"
  }
 },
 "nbformat": 4,
 "nbformat_minor": 4
}
