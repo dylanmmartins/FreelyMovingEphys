{
 "cells": [
  {
   "cell_type": "code",
   "execution_count": 1,
   "metadata": {},
   "outputs": [
    {
     "name": "stdout",
     "output_type": "stream",
     "text": [
      "DLC loaded in light mode; you cannot use any GUI (labeling, relabeling and standalone GUI)\n"
     ]
    }
   ],
   "source": [
    "import sys\n",
    "sys.path.insert(0, '/home/niell_lab/Documents/github/FreelyMovingEphys/')\n",
    "import warnings\n",
    "warnings.filterwarnings('ignore')\n",
    "from utils.object_avoidance import AvoidanceSession"
   ]
  },
  {
   "cell_type": "code",
   "execution_count": 42,
   "metadata": {},
   "outputs": [],
   "source": [
    "from utils.aux_funcs import flatten_series"
   ]
  },
  {
   "cell_type": "code",
   "execution_count": 2,
   "metadata": {},
   "outputs": [],
   "source": [
    "import matplotlib.pyplot as plt\n",
    "import pandas as pd\n",
    "import numpy as np\n",
    "from scipy.interpolate import interp1d"
   ]
  },
  {
   "cell_type": "code",
   "execution_count": 20,
   "metadata": {},
   "outputs": [],
   "source": [
    "%matplotlib inline"
   ]
  },
  {
   "cell_type": "code",
   "execution_count": 3,
   "metadata": {},
   "outputs": [],
   "source": [
    "# metadata json path\n",
    "metadata_path = '/home/niell_lab/data/object_avoidance/gap_detection_recordings/gd_metadata.json'\n",
    "# task name\n",
    "# 'oa' for object avoidance\n",
    "# 'gd' for gap detection\n",
    "task_name = 'gd'"
   ]
  },
  {
   "cell_type": "code",
   "execution_count": 4,
   "metadata": {},
   "outputs": [],
   "source": [
    "# create the session\n",
    "session = AvoidanceSession(metadata_path, task=task_name)"
   ]
  },
  {
   "cell_type": "code",
   "execution_count": null,
   "metadata": {},
   "outputs": [],
   "source": [
    "# pose estimation with DLC\n",
    "# you can skip this, if the .h5 files already exist\n",
    "# session.preprocess()"
   ]
  },
  {
   "cell_type": "code",
   "execution_count": 5,
   "metadata": {},
   "outputs": [
    {
     "name": "stderr",
     "output_type": "stream",
     "text": [
      "20it [02:42,  8.13s/it]\n"
     ]
    }
   ],
   "source": [
    "# run the complete analysis\n",
    "# saves out an .h5 and .pdf for each recording in the metadata .json\n",
    "session.process()"
   ]
  },
  {
   "cell_type": "code",
   "execution_count": null,
   "metadata": {},
   "outputs": [],
   "source": [
    "# everything below here is reading and collecting all data in a single dataframe\n",
    "# but will only include recordings listed in the metadata.json"
   ]
  },
  {
   "cell_type": "code",
   "execution_count": 6,
   "metadata": {},
   "outputs": [],
   "source": [
    "import os\n",
    "import pandas as pd\n",
    "from utils.aux_funcs import find"
   ]
  },
  {
   "cell_type": "code",
   "execution_count": 7,
   "metadata": {},
   "outputs": [],
   "source": [
    "session.gather_all_sessions()"
   ]
  },
  {
   "cell_type": "code",
   "execution_count": 8,
   "metadata": {},
   "outputs": [],
   "source": [
    "recordings = []\n",
    "for date in session.dates_list:\n",
    "    date_dir = os.path.join(session.path, date)\n",
    "    for animal in [i for i in list(session.metadata[date].keys())]:\n",
    "        animal_dir = os.path.join(date_dir, animal)\n",
    "        camconfig = session.generic_camconfig\n",
    "        camconfig['animal_directory'] = animal_dir\n",
    "        for recording_name in [k for k,v in session.metadata[date][animal].items()]:\n",
    "            recording_dir = os.path.join(animal_dir, recording_name)\n",
    "            recordings.append(recording_dir)"
   ]
  },
  {
   "cell_type": "code",
   "execution_count": 9,
   "metadata": {},
   "outputs": [],
   "source": [
    "light = pd.DataFrame([])\n",
    "dark = pd.DataFrame([])\n",
    "lightwhsk = pd.DataFrame([])\n",
    "darkwhsk = pd.DataFrame([])\n",
    "for c, r in enumerate(recordings):\n",
    "    h5file = [f for f in find('*.h5',r) if 'DLC' not in f]\n",
    "    if len(h5file)>0:\n",
    "        rdata = pd.read_hdf(h5file[0])\n",
    "        if 'gdwhskdark' in rdata['task'].iloc[0]:\n",
    "            darkwhsk = pd.concat([darkwhsk, rdata], axis=0)\n",
    "        elif 'gddark' in rdata['task'].iloc[0]:\n",
    "            dark = pd.concat([dark, rdata], axis=0)\n",
    "        elif 'gdwhsk' in rdata['task'].iloc[0]:\n",
    "            lightwhsk = pd.concat([lightwhsk, rdata], axis=0)\n",
    "        elif 'gd' in rdata['task'].iloc[0]:\n",
    "            light = pd.concat([light, rdata], axis=0)"
   ]
  },
  {
   "cell_type": "code",
   "execution_count": 12,
   "metadata": {},
   "outputs": [
    {
     "ename": "NameError",
     "evalue": "name 'colors' is not defined",
     "output_type": "error",
     "traceback": [
      "\u001b[0;31m---------------------------------------------------------------------------\u001b[0m",
      "\u001b[0;31mNameError\u001b[0m                                 Traceback (most recent call last)",
      "\u001b[0;32m/tmp/ipykernel_2894475/1180736089.py\u001b[0m in \u001b[0;36m<module>\u001b[0;34m\u001b[0m\n\u001b[1;32m     27\u001b[0m     \u001b[0mplt\u001b[0m\u001b[0;34m.\u001b[0m\u001b[0mplot\u001b[0m\u001b[0;34m(\u001b[0m\u001b[0musetrial\u001b[0m\u001b[0;34m[\u001b[0m\u001b[0;34m'leftportT_x_cm'\u001b[0m\u001b[0;34m]\u001b[0m\u001b[0;34m,\u001b[0m \u001b[0musetrial\u001b[0m\u001b[0;34m[\u001b[0m\u001b[0;34m'leftportT_y_cm'\u001b[0m\u001b[0;34m]\u001b[0m\u001b[0;34m,\u001b[0m \u001b[0;34m'.'\u001b[0m\u001b[0;34m,\u001b[0m \u001b[0mcolor\u001b[0m\u001b[0;34m=\u001b[0m\u001b[0mleftcolor\u001b[0m\u001b[0;34m)\u001b[0m\u001b[0;34m\u001b[0m\u001b[0;34m\u001b[0m\u001b[0m\n\u001b[1;32m     28\u001b[0m     \u001b[0mplt\u001b[0m\u001b[0;34m.\u001b[0m\u001b[0mplot\u001b[0m\u001b[0;34m(\u001b[0m\u001b[0musetrial\u001b[0m\u001b[0;34m[\u001b[0m\u001b[0;34m'rightportT_x_cm'\u001b[0m\u001b[0;34m]\u001b[0m\u001b[0;34m,\u001b[0m \u001b[0musetrial\u001b[0m\u001b[0;34m[\u001b[0m\u001b[0;34m'rightportT_y_cm'\u001b[0m\u001b[0;34m]\u001b[0m\u001b[0;34m,\u001b[0m \u001b[0;34m'.'\u001b[0m\u001b[0;34m,\u001b[0m \u001b[0mcolor\u001b[0m\u001b[0;34m=\u001b[0m\u001b[0mrightcolor\u001b[0m\u001b[0;34m)\u001b[0m\u001b[0;34m\u001b[0m\u001b[0;34m\u001b[0m\u001b[0m\n\u001b[0;32m---> 29\u001b[0;31m     \u001b[0mplt\u001b[0m\u001b[0;34m.\u001b[0m\u001b[0mplot\u001b[0m\u001b[0;34m(\u001b[0m\u001b[0musetrial\u001b[0m\u001b[0;34m[\u001b[0m\u001b[0;34m'nose_x_cm'\u001b[0m\u001b[0;34m]\u001b[0m\u001b[0;34m,\u001b[0m \u001b[0musetrial\u001b[0m\u001b[0;34m[\u001b[0m\u001b[0;34m'nose_y_cm'\u001b[0m\u001b[0;34m]\u001b[0m\u001b[0;34m,\u001b[0m \u001b[0;34m'-'\u001b[0m\u001b[0;34m,\u001b[0m \u001b[0mcolor\u001b[0m\u001b[0;34m=\u001b[0m\u001b[0mcolors\u001b[0m\u001b[0;34m[\u001b[0m\u001b[0mind\u001b[0m\u001b[0;34m]\u001b[0m\u001b[0;34m)\u001b[0m\u001b[0;34m\u001b[0m\u001b[0;34m\u001b[0m\u001b[0m\n\u001b[0m",
      "\u001b[0;31mNameError\u001b[0m: name 'colors' is not defined"
     ]
    }
   ],
   "source": [
    "plt.subplots(2,2,figsize=(15,10))\n",
    "wall_clusters = [0,0,0,0]\n",
    "odd_or_even_start = [0,0,0,0]\n",
    "mouse = 'G6CK3LT'\n",
    "for panelnum, data in enumerate([light, dark, lightwhsk, darkwhsk]):\n",
    "    data = data[data['animal']==mouse]\n",
    "    useind = wall_clusters[panelnum]\n",
    "    useoddeven = odd_or_even_start[panelnum]\n",
    "    if useoddeven==0:\n",
    "        usedata = data[data.index%2==0] # odd\n",
    "        leftcolor='g'; rightcolor='b'\n",
    "    elif useoddeven==1:\n",
    "        usedata = data[data.index%2==1] # even\n",
    "        leftcolor='b'; rightcolor='g'\n",
    "    usetrial = usedata.iloc[useind]\n",
    "    plt.plot([np.median(usetrial['arenaTL_x_cm'],0),\n",
    "            np.median(usetrial['arenaTR_x_cm'],0),\n",
    "            np.median(usetrial['arenaBR_x_cm'],0),\n",
    "            np.median(usetrial['arenaBL_x_cm'],0),\n",
    "            np.median(usetrial['arenaTL_x_cm'],0)],\n",
    "            [np.median(usetrial['arenaTL_y_cm'],0),\n",
    "            np.median(usetrial['arenaTR_y_cm'],0),\n",
    "            np.median(usetrial['arenaBR_y_cm'],0),\n",
    "            np.median(usetrial['arenaBL_y_cm'],0),\n",
    "            np.median(usetrial['arenaTL_y_cm'],0)],'k-')\n",
    "    plt.ylim([20.03,0]); plt.xlim([0,33.30])\n",
    "    plt.plot(usetrial['leftportT_x_cm'], usetrial['leftportT_y_cm'], '.', color=leftcolor)\n",
    "    plt.plot(usetrial['rightportT_x_cm'], usetrial['rightportT_y_cm'], '.', color=rightcolor)\n",
    "    plt.plot(usetrial['nose_x_cm'], usetrial['nose_y_cm'], '-', color=colors[ind])"
   ]
  },
  {
   "cell_type": "code",
   "execution_count": 77,
   "metadata": {},
   "outputs": [
    {
     "data": {
      "text/plain": [
       "array(['102121', '102621'], dtype=object)"
      ]
     },
     "execution_count": 77,
     "metadata": {},
     "output_type": "execute_result"
    }
   ],
   "source": [
    "light['date'][light['animal']=='G6CK3LT'].unique()"
   ]
  },
  {
   "cell_type": "code",
   "execution_count": 78,
   "metadata": {},
   "outputs": [
    {
     "data": {
      "text/plain": [
       "array(['110321'], dtype=object)"
      ]
     },
     "execution_count": 78,
     "metadata": {},
     "output_type": "execute_result"
    }
   ],
   "source": [
    "dark['date'][dark['animal']=='G6CK3LT'].unique()"
   ]
  },
  {
   "cell_type": "code",
   "execution_count": 79,
   "metadata": {},
   "outputs": [
    {
     "data": {
      "text/plain": [
       "array(['gddark3'], dtype=object)"
      ]
     },
     "execution_count": 79,
     "metadata": {},
     "output_type": "execute_result"
    }
   ],
   "source": [
    "dark['task'][dark['animal']=='G6CK3LT'].unique()"
   ]
  },
  {
   "cell_type": "code",
   "execution_count": 89,
   "metadata": {},
   "outputs": [
    {
     "data": {
      "text/plain": [
       "array([False, False, False, False, False, False, False, False, False,\n",
       "       False, False, False, False, False, False, False, False, False,\n",
       "       False, False, False, False, False, False, False, False, False,\n",
       "       False, False, False, False, False, False, False, False, False,\n",
       "       False, False, False, False, False, False, False, False, False,\n",
       "       False, False, False, False, False, False, False, False, False,\n",
       "       False, False, False, False, False, False, False, False, False,\n",
       "       False, False, False, False, False, False, False, False, False,\n",
       "       False, False, False, False, False, False, False, False, False,\n",
       "       False, False, False, False, False, False, False, False, False,\n",
       "       False, False, False, False, False, False, False, False, False,\n",
       "       False, False, False, False, False, False, False, False, False,\n",
       "       False, False, False, False, False, False, False, False, False,\n",
       "       False, False, False, False, False, False, False, False, False,\n",
       "       False, False, False, False, False, False, False, False, False,\n",
       "       False, False, False, False, False, False, False, False, False,\n",
       "       False, False, False, False, False, False, False, False, False,\n",
       "       False, False, False, False, False, False, False, False, False,\n",
       "       False, False, False, False, False, False, False, False, False,\n",
       "       False, False, False, False, False, False, False, False, False,\n",
       "       False, False, False, False, False, False, False, False, False,\n",
       "       False, False, False, False, False, False, False, False, False,\n",
       "       False, False, False, False, False, False, False, False, False,\n",
       "       False, False, False, False, False, False, False, False, False,\n",
       "       False, False, False, False, False, False, False, False, False,\n",
       "       False, False, False, False, False, False, False, False, False,\n",
       "       False, False, False, False, False, False, False, False, False,\n",
       "       False, False, False, False, False, False, False, False, False,\n",
       "       False, False, False, False, False, False, False, False, False,\n",
       "       False, False, False, False, False, False, False, False, False,\n",
       "       False, False, False, False, False, False, False, False, False,\n",
       "       False, False, False, False, False, False, False, False, False,\n",
       "       False, False, False, False, False, False, False, False, False,\n",
       "       False, False, False, False, False, False, False, False, False,\n",
       "       False, False,  True, False, False, False, False, False, False,\n",
       "       False, False, False, False, False, False, False, False, False,\n",
       "       False, False, False, False, False, False, False, False, False,\n",
       "       False, False, False, False, False, False, False, False, False,\n",
       "       False, False, False, False, False, False, False, False, False,\n",
       "       False, False, False, False, False, False, False, False, False,\n",
       "       False, False, False, False, False, False, False, False, False,\n",
       "       False, False, False, False, False, False, False, False, False,\n",
       "       False, False, False, False, False, False, False, False, False,\n",
       "       False, False, False, False, False, False, False, False, False,\n",
       "       False, False, False, False, False, False, False, False, False,\n",
       "       False, False, False, False, False, False, False, False, False,\n",
       "       False, False])"
      ]
     },
     "execution_count": 89,
     "metadata": {},
     "output_type": "execute_result"
    }
   ],
   "source": [
    "np.diff(light['date']=='102621')"
   ]
  },
  {
   "cell_type": "code",
   "execution_count": null,
   "metadata": {},
   "outputs": [],
   "source": [
    "62 -> 70 (ind will be 62:71)"
   ]
  },
  {
   "cell_type": "code",
   "execution_count": 99,
   "metadata": {},
   "outputs": [
    {
     "ename": "IndexError",
     "evalue": "single positional indexer is out-of-bounds",
     "output_type": "error",
     "traceback": [
      "\u001b[0;31m---------------------------------------------------------------------------\u001b[0m",
      "\u001b[0;31mIndexError\u001b[0m                                Traceback (most recent call last)",
      "\u001b[0;32m/tmp/ipykernel_2894475/531989955.py\u001b[0m in \u001b[0;36m<module>\u001b[0;34m\u001b[0m\n\u001b[1;32m     30\u001b[0m             \u001b[0mdoor2\u001b[0m \u001b[0;34m=\u001b[0m \u001b[0mnp\u001b[0m\u001b[0;34m.\u001b[0m\u001b[0mnanmean\u001b[0m\u001b[0;34m(\u001b[0m\u001b[0mflatten_series\u001b[0m\u001b[0;34m(\u001b[0m\u001b[0musedata\u001b[0m\u001b[0;34m[\u001b[0m\u001b[0;34m'door2'\u001b[0m\u001b[0;34m]\u001b[0m\u001b[0;34m)\u001b[0m\u001b[0;34m,\u001b[0m\u001b[0;36m0\u001b[0m\u001b[0;34m)\u001b[0m\u001b[0;34m\u001b[0m\u001b[0;34m\u001b[0m\u001b[0m\n\u001b[1;32m     31\u001b[0m             \u001b[0mplt\u001b[0m\u001b[0;34m.\u001b[0m\u001b[0mplot\u001b[0m\u001b[0;34m(\u001b[0m\u001b[0;34m[\u001b[0m\u001b[0mdoor2\u001b[0m\u001b[0;34m[\u001b[0m\u001b[0;36m0\u001b[0m\u001b[0;34m]\u001b[0m\u001b[0;34m,\u001b[0m \u001b[0mdoor2\u001b[0m\u001b[0;34m[\u001b[0m\u001b[0;36m2\u001b[0m\u001b[0;34m]\u001b[0m\u001b[0;34m]\u001b[0m\u001b[0;34m,\u001b[0m \u001b[0;34m[\u001b[0m\u001b[0mdoor2\u001b[0m\u001b[0;34m[\u001b[0m\u001b[0;36m1\u001b[0m\u001b[0;34m]\u001b[0m\u001b[0;34m,\u001b[0m \u001b[0mdoor2\u001b[0m\u001b[0;34m[\u001b[0m\u001b[0;36m3\u001b[0m\u001b[0;34m]\u001b[0m\u001b[0;34m]\u001b[0m\u001b[0;34m,\u001b[0m \u001b[0;34m'-'\u001b[0m\u001b[0;34m,\u001b[0m \u001b[0mlinewidth\u001b[0m\u001b[0;34m=\u001b[0m\u001b[0;36m6\u001b[0m\u001b[0;34m,\u001b[0m \u001b[0mcolor\u001b[0m\u001b[0;34m=\u001b[0m\u001b[0;34m'tab:green'\u001b[0m\u001b[0;34m)\u001b[0m\u001b[0;34m\u001b[0m\u001b[0;34m\u001b[0m\u001b[0m\n\u001b[0;32m---> 32\u001b[0;31m         \u001b[0mplt\u001b[0m\u001b[0;34m.\u001b[0m\u001b[0mplot\u001b[0m\u001b[0;34m(\u001b[0m\u001b[0musedata\u001b[0m\u001b[0;34m[\u001b[0m\u001b[0;34m'nose_x_cm'\u001b[0m\u001b[0;34m]\u001b[0m\u001b[0;34m.\u001b[0m\u001b[0miloc\u001b[0m\u001b[0;34m[\u001b[0m\u001b[0mind\u001b[0m\u001b[0;34m]\u001b[0m\u001b[0;34m,\u001b[0m \u001b[0musedata\u001b[0m\u001b[0;34m[\u001b[0m\u001b[0;34m'nose_y_cm'\u001b[0m\u001b[0;34m]\u001b[0m\u001b[0;34m.\u001b[0m\u001b[0miloc\u001b[0m\u001b[0;34m[\u001b[0m\u001b[0mind\u001b[0m\u001b[0;34m]\u001b[0m\u001b[0;34m,\u001b[0m \u001b[0;34m'-'\u001b[0m\u001b[0;34m,\u001b[0m \u001b[0mcolor\u001b[0m\u001b[0;34m=\u001b[0m\u001b[0mcluster_colors\u001b[0m\u001b[0;34m[\u001b[0m\u001b[0mind\u001b[0m\u001b[0;34m]\u001b[0m\u001b[0;34m)\u001b[0m\u001b[0;34m\u001b[0m\u001b[0;34m\u001b[0m\u001b[0m\n\u001b[0m\u001b[1;32m     33\u001b[0m         \u001b[0mplt\u001b[0m\u001b[0;34m.\u001b[0m\u001b[0mplot\u001b[0m\u001b[0;34m(\u001b[0m\u001b[0musedata\u001b[0m\u001b[0;34m[\u001b[0m\u001b[0;34m'leftportT_x_cm'\u001b[0m\u001b[0;34m]\u001b[0m\u001b[0;34m.\u001b[0m\u001b[0miloc\u001b[0m\u001b[0;34m[\u001b[0m\u001b[0mind\u001b[0m\u001b[0;34m]\u001b[0m\u001b[0;34m,\u001b[0m \u001b[0musedata\u001b[0m\u001b[0;34m[\u001b[0m\u001b[0;34m'leftportT_y_cm'\u001b[0m\u001b[0;34m]\u001b[0m\u001b[0;34m.\u001b[0m\u001b[0miloc\u001b[0m\u001b[0;34m[\u001b[0m\u001b[0mind\u001b[0m\u001b[0;34m]\u001b[0m\u001b[0;34m,\u001b[0m \u001b[0;34m'.'\u001b[0m\u001b[0;34m,\u001b[0m \u001b[0mcolor\u001b[0m\u001b[0;34m=\u001b[0m\u001b[0mleftcolor\u001b[0m\u001b[0;34m)\u001b[0m\u001b[0;34m\u001b[0m\u001b[0;34m\u001b[0m\u001b[0m\n\u001b[1;32m     34\u001b[0m         \u001b[0mplt\u001b[0m\u001b[0;34m.\u001b[0m\u001b[0mplot\u001b[0m\u001b[0;34m(\u001b[0m\u001b[0musedata\u001b[0m\u001b[0;34m[\u001b[0m\u001b[0;34m'rightportT_x_cm'\u001b[0m\u001b[0;34m]\u001b[0m\u001b[0;34m.\u001b[0m\u001b[0miloc\u001b[0m\u001b[0;34m[\u001b[0m\u001b[0mind\u001b[0m\u001b[0;34m]\u001b[0m\u001b[0;34m,\u001b[0m \u001b[0musedata\u001b[0m\u001b[0;34m[\u001b[0m\u001b[0;34m'rightportT_y_cm'\u001b[0m\u001b[0;34m]\u001b[0m\u001b[0;34m.\u001b[0m\u001b[0miloc\u001b[0m\u001b[0;34m[\u001b[0m\u001b[0mind\u001b[0m\u001b[0;34m]\u001b[0m\u001b[0;34m,\u001b[0m \u001b[0;34m'.'\u001b[0m\u001b[0;34m,\u001b[0m \u001b[0mcolor\u001b[0m\u001b[0;34m=\u001b[0m\u001b[0mrightcolor\u001b[0m\u001b[0;34m)\u001b[0m\u001b[0;34m\u001b[0m\u001b[0;34m\u001b[0m\u001b[0m\n",
      "\u001b[0;32m~/anaconda3/envs/ephys1-gpu/lib/python3.8/site-packages/pandas/core/indexing.py\u001b[0m in \u001b[0;36m__getitem__\u001b[0;34m(self, key)\u001b[0m\n\u001b[1;32m    929\u001b[0m \u001b[0;34m\u001b[0m\u001b[0m\n\u001b[1;32m    930\u001b[0m             \u001b[0mmaybe_callable\u001b[0m \u001b[0;34m=\u001b[0m \u001b[0mcom\u001b[0m\u001b[0;34m.\u001b[0m\u001b[0mapply_if_callable\u001b[0m\u001b[0;34m(\u001b[0m\u001b[0mkey\u001b[0m\u001b[0;34m,\u001b[0m \u001b[0mself\u001b[0m\u001b[0;34m.\u001b[0m\u001b[0mobj\u001b[0m\u001b[0;34m)\u001b[0m\u001b[0;34m\u001b[0m\u001b[0;34m\u001b[0m\u001b[0m\n\u001b[0;32m--> 931\u001b[0;31m             \u001b[0;32mreturn\u001b[0m \u001b[0mself\u001b[0m\u001b[0;34m.\u001b[0m\u001b[0m_getitem_axis\u001b[0m\u001b[0;34m(\u001b[0m\u001b[0mmaybe_callable\u001b[0m\u001b[0;34m,\u001b[0m \u001b[0maxis\u001b[0m\u001b[0;34m=\u001b[0m\u001b[0maxis\u001b[0m\u001b[0;34m)\u001b[0m\u001b[0;34m\u001b[0m\u001b[0;34m\u001b[0m\u001b[0m\n\u001b[0m\u001b[1;32m    932\u001b[0m \u001b[0;34m\u001b[0m\u001b[0m\n\u001b[1;32m    933\u001b[0m     \u001b[0;32mdef\u001b[0m \u001b[0m_is_scalar_access\u001b[0m\u001b[0;34m(\u001b[0m\u001b[0mself\u001b[0m\u001b[0;34m,\u001b[0m \u001b[0mkey\u001b[0m\u001b[0;34m:\u001b[0m \u001b[0mtuple\u001b[0m\u001b[0;34m)\u001b[0m\u001b[0;34m:\u001b[0m\u001b[0;34m\u001b[0m\u001b[0;34m\u001b[0m\u001b[0m\n",
      "\u001b[0;32m~/anaconda3/envs/ephys1-gpu/lib/python3.8/site-packages/pandas/core/indexing.py\u001b[0m in \u001b[0;36m_getitem_axis\u001b[0;34m(self, key, axis)\u001b[0m\n\u001b[1;32m   1564\u001b[0m \u001b[0;34m\u001b[0m\u001b[0m\n\u001b[1;32m   1565\u001b[0m             \u001b[0;31m# validate the location\u001b[0m\u001b[0;34m\u001b[0m\u001b[0;34m\u001b[0m\u001b[0;34m\u001b[0m\u001b[0m\n\u001b[0;32m-> 1566\u001b[0;31m             \u001b[0mself\u001b[0m\u001b[0;34m.\u001b[0m\u001b[0m_validate_integer\u001b[0m\u001b[0;34m(\u001b[0m\u001b[0mkey\u001b[0m\u001b[0;34m,\u001b[0m \u001b[0maxis\u001b[0m\u001b[0;34m)\u001b[0m\u001b[0;34m\u001b[0m\u001b[0;34m\u001b[0m\u001b[0m\n\u001b[0m\u001b[1;32m   1567\u001b[0m \u001b[0;34m\u001b[0m\u001b[0m\n\u001b[1;32m   1568\u001b[0m             \u001b[0;32mreturn\u001b[0m \u001b[0mself\u001b[0m\u001b[0;34m.\u001b[0m\u001b[0mobj\u001b[0m\u001b[0;34m.\u001b[0m\u001b[0m_ixs\u001b[0m\u001b[0;34m(\u001b[0m\u001b[0mkey\u001b[0m\u001b[0;34m,\u001b[0m \u001b[0maxis\u001b[0m\u001b[0;34m=\u001b[0m\u001b[0maxis\u001b[0m\u001b[0;34m)\u001b[0m\u001b[0;34m\u001b[0m\u001b[0;34m\u001b[0m\u001b[0m\n",
      "\u001b[0;32m~/anaconda3/envs/ephys1-gpu/lib/python3.8/site-packages/pandas/core/indexing.py\u001b[0m in \u001b[0;36m_validate_integer\u001b[0;34m(self, key, axis)\u001b[0m\n\u001b[1;32m   1498\u001b[0m         \u001b[0mlen_axis\u001b[0m \u001b[0;34m=\u001b[0m \u001b[0mlen\u001b[0m\u001b[0;34m(\u001b[0m\u001b[0mself\u001b[0m\u001b[0;34m.\u001b[0m\u001b[0mobj\u001b[0m\u001b[0;34m.\u001b[0m\u001b[0m_get_axis\u001b[0m\u001b[0;34m(\u001b[0m\u001b[0maxis\u001b[0m\u001b[0;34m)\u001b[0m\u001b[0;34m)\u001b[0m\u001b[0;34m\u001b[0m\u001b[0;34m\u001b[0m\u001b[0m\n\u001b[1;32m   1499\u001b[0m         \u001b[0;32mif\u001b[0m \u001b[0mkey\u001b[0m \u001b[0;34m>=\u001b[0m \u001b[0mlen_axis\u001b[0m \u001b[0;32mor\u001b[0m \u001b[0mkey\u001b[0m \u001b[0;34m<\u001b[0m \u001b[0;34m-\u001b[0m\u001b[0mlen_axis\u001b[0m\u001b[0;34m:\u001b[0m\u001b[0;34m\u001b[0m\u001b[0;34m\u001b[0m\u001b[0m\n\u001b[0;32m-> 1500\u001b[0;31m             \u001b[0;32mraise\u001b[0m \u001b[0mIndexError\u001b[0m\u001b[0;34m(\u001b[0m\u001b[0;34m\"single positional indexer is out-of-bounds\"\u001b[0m\u001b[0;34m)\u001b[0m\u001b[0;34m\u001b[0m\u001b[0;34m\u001b[0m\u001b[0m\n\u001b[0m\u001b[1;32m   1501\u001b[0m \u001b[0;34m\u001b[0m\u001b[0m\n\u001b[1;32m   1502\u001b[0m     \u001b[0;31m# -------------------------------------------------------------------\u001b[0m\u001b[0;34m\u001b[0m\u001b[0;34m\u001b[0m\u001b[0;34m\u001b[0m\u001b[0m\n",
      "\u001b[0;31mIndexError\u001b[0m: single positional indexer is out-of-bounds"
     ]
    },
    {
     "data": {
      "image/png": "[encoded data removed]",
      "text/plain": [
       "<Figure size 1080x720 with 4 Axes>"
      ]
     },
     "metadata": {
      "needs_background": "light"
     },
     "output_type": "display_data"
    }
   ],
   "source": [
    "plt.subplots(2,2,figsize=(15,10))\n",
    "fake_time = np.linspace(0,1,100)\n",
    "wall_clusters = [[308+62,308+71],[1,16],[0,5],[0,5]]\n",
    "odd_or_even_start = [0,0,0,0]\n",
    "mouse = 'G6CK3LT'\n",
    "for panelnum, data in enumerate([light, dark]):\n",
    "    data = data[data['animal']==mouse]\n",
    "    useindrange = wall_clusters[panelnum]\n",
    "    useindrange = [int(np.floor(useindrange[0]/2)), int(np.floor(useindrange[1]/2))]\n",
    "    useoddeven = odd_or_even_start[panelnum]\n",
    "    if useoddeven==0:\n",
    "        usedata = data[data.index%2==0] # odd\n",
    "        leftcolor='g'; rightcolor='b'\n",
    "        distkey = 'odd_dist_to_door1'\n",
    "    elif useoddeven==1:\n",
    "        usedata = data[data.index%2==1] # even\n",
    "        leftcolor='b'; rightcolor='g'\n",
    "        distkey = 'even_dist_to_door1'\n",
    "    cluster_colors = plt.cm.magma(np.linspace(0,1,useindrange[1]-useindrange[0]))\n",
    "    plt.subplot(2,2,panelnum+1)\n",
    "    for ind in range(useindrange[0],useindrange[1]):\n",
    "        door1 = np.nanmedian(flatten_series(usedata['door1']),0)\n",
    "        # above door\n",
    "        plt.plot([door1[0], door1[2]], [door1[3], np.mean(usedata['arenaTL_y_cm'].iloc[0])], '-', linewidth=5, color='k')\n",
    "        # below door\n",
    "        plt.plot([door1[0], door1[2]], [door1[1], np.mean(usedata['arenaBL_y_cm'].iloc[0])], '-', linewidth=5, color='k')\n",
    "        # door\n",
    "        plt.plot([door1[0], door1[2]], [door1[1], door1[3]], '-', linewidth=6, color='tab:green')\n",
    "        if usedata['has_door2'].iloc[0]:\n",
    "            door2 = np.nanmean(flatten_series(usedata['door2']),0)\n",
    "            plt.plot([door2[0], door2[2]], [door2[1], door2[3]], '-', linewidth=6, color='tab:green')\n",
    "        plt.plot(usedata['nose_x_cm'].iloc[ind], usedata['nose_y_cm'].iloc[ind], '-', color=cluster_colors[ind])\n",
    "        plt.plot(usedata['leftportT_x_cm'].iloc[ind], usedata['leftportT_y_cm'].iloc[ind], '.', color=leftcolor)\n",
    "        plt.plot(usedata['rightportT_x_cm'].iloc[ind], usedata['rightportT_y_cm'].iloc[ind], '.', color=rightcolor)\n",
    "    plt.ylim([20.03,0]); plt.xlim([0,33.30])\n",
    "    row = usedata.iloc[0]\n",
    "    plt.plot([np.median(row['arenaTL_x_cm'],0),\n",
    "            np.median(row['arenaTR_x_cm'],0),\n",
    "            np.median(row['arenaBR_x_cm'],0),\n",
    "            np.median(row['arenaBL_x_cm'],0),\n",
    "            np.median(row['arenaTL_x_cm'],0)],\n",
    "            [np.median(row['arenaTL_y_cm'],0),\n",
    "            np.median(row['arenaTR_y_cm'],0),\n",
    "            np.median(row['arenaBR_y_cm'],0),\n",
    "            np.median(row['arenaBL_y_cm'],0),\n",
    "            np.median(row['arenaTL_y_cm'],0)],'k-', linewidth=5)\n",
    "\n",
    "for panelnum, data in enumerate([light, dark]):\n",
    "    data = data[data['animal']==mouse]\n",
    "    useindrange = wall_clusters[panelnum]\n",
    "    useoddeven = odd_or_even_start[panelnum]\n",
    "    if useoddeven==0:\n",
    "        usedata = data[data.index%2==0] # odd\n",
    "        leftcolor='g'; rightcolor='b'\n",
    "        distkey = 'odd_dist_to_door1'\n",
    "    elif useoddeven==1:\n",
    "        usedata = data[data.index%2==1] # even\n",
    "        leftcolor='b'; rightcolor='g'\n",
    "        distkey = 'even_dist_to_door1'\n",
    "    cluster_colors = plt.cm.magma(np.linspace(0,1,len(usedata)))\n",
    "    colors = plt.cm.magma(np.linspace(0,1,len(usedata)))\n",
    "    plt.subplot(2,2,panelnum+3)\n",
    "    for ind in range(useindrange[0],useindrange[1]):\n",
    "        doordist = usedata[distkey].iloc[ind]\n",
    "        time = usedata['trail_timestamps'].iloc[ind]\n",
    "        distinterp = interp1d(np.linspace(0,1,len(time)), doordist, bounds_error=False)(fake_time)\n",
    "        plt.plot(fake_time, distinterp, color=cluster_colors[ind])"
   ]
  },
  {
   "cell_type": "code",
   "execution_count": 95,
   "metadata": {},
   "outputs": [
    {
     "data": {
      "text/plain": [
       "[370, 379]"
      ]
     },
     "execution_count": 95,
     "metadata": {},
     "output_type": "execute_result"
    }
   ],
   "source": [
    "useindrange"
   ]
  },
  {
   "cell_type": "code",
   "execution_count": 98,
   "metadata": {},
   "outputs": [
    {
     "data": {
      "text/plain": [
       "185"
      ]
     },
     "execution_count": 98,
     "metadata": {},
     "output_type": "execute_result"
    }
   ],
   "source": []
  },
  {
   "cell_type": "code",
   "execution_count": 60,
   "metadata": {},
   "outputs": [
    {
     "data": {
      "text/plain": [
       "([17.22020863783331, 17.425989548785218],\n",
       " [8.107372252142184, 1.5281260073972267])"
      ]
     },
     "execution_count": 60,
     "metadata": {},
     "output_type": "execute_result"
    }
   ],
   "source": [
    "[door1[0], door1[2]], [door1[1], np.mean([usedata['arenaTL_y_cm'].iloc[0], usedata['arenaTR_y_cm'].iloc[0]])]"
   ]
  },
  {
   "cell_type": "code",
   "execution_count": 57,
   "metadata": {},
   "outputs": [
    {
     "data": {
      "text/plain": [
       "[8.107372252142184, 6.655848850586715]"
      ]
     },
     "execution_count": 57,
     "metadata": {},
     "output_type": "execute_result"
    }
   ],
   "source": [
    "[door1[1], door1[3]]"
   ]
  },
  {
   "cell_type": "code",
   "execution_count": null,
   "metadata": {},
   "outputs": [],
   "source": []
  }
 ],
 "metadata": {
  "kernelspec": {
   "display_name": "Python [conda env:ephys1-gpu]",
   "language": "python",
   "name": "conda-env-ephys1-gpu-py"
  },
  "language_info": {
   "codemirror_mode": {
    "name": "ipython",
    "version": 3
   },
   "file_extension": ".py",
   "mimetype": "text/x-python",
   "name": "python",
   "nbconvert_exporter": "python",
   "pygments_lexer": "ipython3",
   "version": "3.8.12"
  }
 },
 "nbformat": 4,
 "nbformat_minor": 4
}
