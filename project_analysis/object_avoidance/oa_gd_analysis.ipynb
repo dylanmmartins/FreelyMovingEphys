{
 "cells": [
  {
   "cell_type": "code",
   "execution_count": null,
   "metadata": {},
   "outputs": [],
   "source": [
    "import sys\n",
    "sys.path.insert(0, '/home/niell_lab/Documents/github/FreelyMovingEphys/')\n",
    "import warnings\n",
    "warnings.filterwarnings('ignore')\n",
    "from utils.object_avoidance import AvoidanceSession"
   ]
  },
  {
   "cell_type": "code",
   "execution_count": null,
   "metadata": {},
   "outputs": [],
   "source": [
    "# metadata json path\n",
    "metadata_path = '/home/niell_lab/data/object_avoidance/gap_detection_recordings/gd_metadata.json'\n",
    "# task name\n",
    "# 'oa' for object avoidance\n",
    "# 'gd' for gap detection\n",
    "task_name = 'gd'"
   ]
  },
  {
   "cell_type": "code",
   "execution_count": null,
   "metadata": {},
   "outputs": [],
   "source": [
    "# create the session\n",
    "session = AvoidanceSession(metadata_path, task=task_name)"
   ]
  },
  {
   "cell_type": "code",
   "execution_count": null,
   "metadata": {},
   "outputs": [],
   "source": [
    "# pose estimation with DLC\n",
    "# you can skip this, if the .h5 files already exist\n",
    "\n",
    "session.preprocess()"
   ]
  },
  {
   "cell_type": "code",
   "execution_count": null,
   "metadata": {},
   "outputs": [],
   "source": [
    "# run the complete analysis\n",
    "# saves out an .h5 and .pdf for each recording in the metadata .json\n",
    "session.process()"
   ]
  },
  {
   "cell_type": "code",
   "execution_count": null,
   "metadata": {},
   "outputs": [],
   "source": [
    "# everything below here is reading and collecting all data in a single dataframe\n",
    "# but will only include recordings listed in the metadata.json"
   ]
  },
  {
   "cell_type": "code",
   "execution_count": null,
   "metadata": {},
   "outputs": [],
   "source": [
    "import os\n",
    "import pandas as pd\n",
    "from utils.aux_funcs import find"
   ]
  },
  {
   "cell_type": "code",
   "execution_count": null,
   "metadata": {},
   "outputs": [],
   "source": [
    "session.gather_all_sessions()"
   ]
  },
  {
   "cell_type": "code",
   "execution_count": null,
   "metadata": {},
   "outputs": [],
   "source": [
    "recordings = []\n",
    "for date in session.dates_list:\n",
    "    date_dir = os.path.join(session.path, date)\n",
    "    for animal in [i for i in list(session.metadata[date].keys())]:\n",
    "        animal_dir = os.path.join(date_dir, animal)\n",
    "        camconfig = session.generic_camconfig\n",
    "        camconfig['animal_directory'] = animal_dir\n",
    "        for recording_name in [k for k,v in session.metadata[date][animal].items()]:\n",
    "            recording_dir = os.path.join(animal_dir, recording_name)\n",
    "            recordings.append(recording_dir)"
   ]
  },
  {
   "cell_type": "code",
   "execution_count": null,
   "metadata": {},
   "outputs": [],
   "source": [
    "conditions = ['gd','gddark','gdwhsk','gdwhskdark']"
   ]
  },
  {
   "cell_type": "code",
   "execution_count": null,
   "metadata": {},
   "outputs": [],
   "source": [
    "allgd = pd.DataFrame([])\n",
    "for r in recordings:\n",
    "    file = [i for i in find('*.h5',r) if 'DLC' not in i][0]\n",
    "    data = pd.read_hdf(file)\n",
    "    allgd = pd.concat([allgd, data], axis=0)"
   ]
  }
 ],
 "metadata": {
  "kernelspec": {
   "display_name": "Python [conda env:ephys1-gpu]",
   "language": "python",
   "name": "conda-env-ephys1-gpu-py"
  },
  "language_info": {
   "codemirror_mode": {
    "name": "ipython",
    "version": 3
   },
   "file_extension": ".py",
   "mimetype": "text/x-python",
   "name": "python",
   "nbconvert_exporter": "python",
   "pygments_lexer": "ipython3",
   "version": "3.8.12"
  }
 },
 "nbformat": 4,
 "nbformat_minor": 4
}
