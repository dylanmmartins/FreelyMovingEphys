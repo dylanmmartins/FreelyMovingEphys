{
 "cells": [
  {
   "cell_type": "code",
   "execution_count": 79,
   "id": "59c2a2d1-67b8-4355-b5e0-0f059a7d9c75",
   "metadata": {},
   "outputs": [
    {
     "name": "stderr",
     "output_type": "stream",
     "text": [
      "Matplotlib is building the font cache; this may take a moment.\n"
     ]
    }
   ],
   "source": [
    "#Python Packages\n",
    "import pandas as pd\n",
    "import numpy as np\n",
    "import xarray as xr\n",
    "import glob as gb \n",
    "import csv\n",
    "import itertools\n",
    "from pathlib import Path\n",
    "from pandas import *\n",
    "import os.path\n",
    "import matplotlib.pyplot as plt"
   ]
  },
  {
   "cell_type": "code",
   "execution_count": null,
   "id": "5572a428-2054-4b07-9a72-4dfbbb3c5468",
   "metadata": {},
   "outputs": [],
   "source": []
  },
  {
   "cell_type": "code",
   "execution_count": 139,
   "id": "0c8e8db5-d3a2-4aee-8dba-ecc7f7fc1fcd",
   "metadata": {},
   "outputs": [
    {
     "ename": "ModuleNotFoundError",
     "evalue": "No module named 'cv2'",
     "output_type": "error",
     "traceback": [
      "\u001b[1;31m---------------------------------------------------------------------------\u001b[0m",
      "\u001b[1;31mModuleNotFoundError\u001b[0m                       Traceback (most recent call last)",
      "\u001b[1;32m<ipython-input-139-8eb90bd251e1>\u001b[0m in \u001b[0;36m<module>\u001b[1;34m\u001b[0m\n\u001b[0;32m      5\u001b[0m \u001b[1;32mfrom\u001b[0m \u001b[0mutils\u001b[0m\u001b[1;33m.\u001b[0m\u001b[0mtime\u001b[0m \u001b[1;32mimport\u001b[0m \u001b[0mopen_time1\u001b[0m\u001b[1;33m\u001b[0m\u001b[1;33m\u001b[0m\u001b[0m\n\u001b[0;32m      6\u001b[0m \u001b[1;32mfrom\u001b[0m \u001b[0mutils\u001b[0m\u001b[1;33m.\u001b[0m\u001b[0mtime\u001b[0m \u001b[1;32mimport\u001b[0m \u001b[0mopen_time\u001b[0m\u001b[1;33m\u001b[0m\u001b[1;33m\u001b[0m\u001b[0m\n\u001b[1;32m----> 7\u001b[1;33m \u001b[1;32mfrom\u001b[0m \u001b[0mutils\u001b[0m\u001b[1;33m.\u001b[0m\u001b[0mformat_data\u001b[0m \u001b[1;32mimport\u001b[0m \u001b[0mopen_h5\u001b[0m\u001b[1;33m\u001b[0m\u001b[1;33m\u001b[0m\u001b[0m\n\u001b[0m\u001b[0;32m      8\u001b[0m \u001b[1;32mfrom\u001b[0m \u001b[0mutils\u001b[0m\u001b[1;33m.\u001b[0m\u001b[0mformat_data\u001b[0m \u001b[1;32mimport\u001b[0m \u001b[0mopen_ma_h5\u001b[0m\u001b[1;33m\u001b[0m\u001b[1;33m\u001b[0m\u001b[0m\n\u001b[0;32m      9\u001b[0m \u001b[1;33m\u001b[0m\u001b[0m\n",
      "\u001b[1;32mC:/Users/nlab/Documents/GitHub/FreelyMovingEphys\\utils\\format_data.py\u001b[0m in \u001b[0;36m<module>\u001b[1;34m\u001b[0m\n\u001b[0;32m      5\u001b[0m \u001b[1;32mimport\u001b[0m \u001b[0mnumpy\u001b[0m \u001b[1;32mas\u001b[0m \u001b[0mnp\u001b[0m\u001b[1;33m\u001b[0m\u001b[1;33m\u001b[0m\u001b[0m\n\u001b[0;32m      6\u001b[0m \u001b[1;32mimport\u001b[0m \u001b[0mxarray\u001b[0m \u001b[1;32mas\u001b[0m \u001b[0mxr\u001b[0m\u001b[1;33m\u001b[0m\u001b[1;33m\u001b[0m\u001b[0m\n\u001b[1;32m----> 7\u001b[1;33m \u001b[1;32mimport\u001b[0m \u001b[0mcv2\u001b[0m\u001b[1;33m\u001b[0m\u001b[1;33m\u001b[0m\u001b[0m\n\u001b[0m\u001b[0;32m      8\u001b[0m \u001b[1;32mfrom\u001b[0m \u001b[0mtqdm\u001b[0m \u001b[1;32mimport\u001b[0m \u001b[0mtqdm\u001b[0m\u001b[1;33m\u001b[0m\u001b[1;33m\u001b[0m\u001b[0m\n\u001b[0;32m      9\u001b[0m \u001b[1;33m\u001b[0m\u001b[0m\n",
      "\u001b[1;31mModuleNotFoundError\u001b[0m: No module named 'cv2'"
     ]
    }
   ],
   "source": [
    "#Load in functions from freelymoving ephys\n",
    "import sys\n",
    "sys.path.insert(0, 'C:/Users/nlab/Documents/GitHub/FreelyMovingEphys')\n",
    "from utils.paths import find\n",
    "from utils.time import open_time1\n",
    "from utils.time import open_time\n",
    "from utils.format_data import open_h5\n",
    "from utils.format_data import open_ma_h5\n",
    "\n",
    "#function to get correct frame in case there's lag in the acquisition\n",
    "def find_first(item, vec):\n",
    "    return np.argmin(np.abs(vec-item))"
   ]
  },
  {
   "cell_type": "code",
   "execution_count": 154,
   "id": "78bf4e17-0e9c-4435-81c9-5c8dce78c801",
   "metadata": {
    "tags": []
   },
   "outputs": [],
   "source": [
    "##Load Data\n",
    "# Dictionary of columns in data frame\n",
    "data_dict = {'date': [],\n",
    "             'animal': [],\n",
    "             'task': [],             \n",
    "             'poke1_ts':[],\n",
    "             'poke2_ts': [],\n",
    "             'spout1_ts': [],\n",
    "             'spout2_ts': [],\n",
    "             'top1_ts': [],\n",
    "             'poke1_t0':[],\n",
    "             'poke2_t0': [],\n",
    "             'spout1_t0': [],\n",
    "             'spout2_t0': [],\n",
    "             'top1_t0': []}\n",
    "# List of dates for analysis\n",
    "dates= ['090621','090721','090821']\n",
    "data_path = Path('~/Desktop/mike_bonsai/recordings/').expanduser()\n",
    "all_paths = []\n",
    "#Populate Data Dict with meta data and timestamps   \n",
    "for date in dates:\n",
    "    for ani in os.listdir(data_path / date): \n",
    "        data_paths = list((data_path / date/ ani).rglob('*.csv'))\n",
    "        if data_paths != []:\n",
    "            data_dict['date'].append(data_paths[1].name.split('_')[0])\n",
    "            data_dict['animal'].append(data_paths[1].name.split('_')[1])\n",
    "            data_dict['task'].append(data_paths[1].name.split('_')[4])\n",
    "            for ind, csv in enumerate(data_paths):\n",
    "                data_dict[data_paths[ind].name.split('_')[5] +'_ts'].append(open_time(csv))\n",
    "                data_dict[data_paths[ind].name.split('_')[5] +'_t0'].append(open_time(csv)[0])\n",
    "df = pd.DataFrame.from_dict(data_dict)\n",
    "#df = df.transpose()\n",
    "\n",
    "\n",
    "#df = pd.DataFrame(data_dict)"
   ]
  },
  {
   "cell_type": "code",
   "execution_count": 158,
   "id": "b8244c6c-4b0d-4842-8a9f-d105804f583a",
   "metadata": {},
   "outputs": [],
   "source": [
    "#Align to \n",
    "df.poke1_ts = df.poke1_ts - df.top1_t0\n",
    "df.poke2_ts = df.poke2_ts - df.top1_t0\n",
    "df.spout1_ts = df.spout1_ts - df.top1_t0\n",
    "df.spout2_ts = df.spout2_ts - df.top1_t0"
   ]
  },
  {
   "cell_type": "code",
   "execution_count": 159,
   "id": "204de78c-2b3e-47c9-aadc-0f161b69cc76",
   "metadata": {},
   "outputs": [],
   "source": [
    "#Only spout on ts \n",
    "spout1_on = []\n",
    "for ind, row in df.iterrows():\n",
    "    x = row['spout1_ts']\n",
    "    x = x[0::2]\n",
    "    spout1_on.append(x)\n",
    "df['spout1_on'] = spout1_on"
   ]
  },
  {
   "cell_type": "code",
   "execution_count": 160,
   "id": "8841782f-37e4-4f82-8c71-fcc16ffa65d8",
   "metadata": {},
   "outputs": [],
   "source": [
    "#Get all pokes_ts\n",
    "pokes_ts = []\n",
    "for ind, row in df.iterrows():\n",
    "    x = row['poke1_ts'].astype(str).astype(float)\n",
    "    y = row['poke2_ts'].astype(str).astype(float)\n",
    "    z = list(itertools.chain(x,y)) \n",
    "    z = sorted(z)\n",
    "    pokes_ts.append(z)\n",
    "df['pokes_ts'] = pokes_ts"
   ]
  },
  {
   "cell_type": "code",
   "execution_count": 161,
   "id": "81d8761c-f86c-4df7-a9c4-bffb91c13f36",
   "metadata": {},
   "outputs": [],
   "source": [
    "# Number of pokes \n",
    "pokes = []\n",
    "for ind, row in df.iterrows():\n",
    "    x = row['pokes_ts']\n",
    "    x=len(x)\n",
    "    pokes.append(x)\n",
    "df['poke_num'] = pokes"
   ]
  },
  {
   "cell_type": "code",
   "execution_count": 162,
   "id": "1a223fc2-1f7a-414a-ac30-a8b328c3db2a",
   "metadata": {},
   "outputs": [],
   "source": [
    "# Time between pokes in sec\n",
    "time_between_pokes = []\n",
    "for ind, row in df.iterrows():\n",
    "    g = row['pokes_ts']\n",
    "    g = np.diff(g)\n",
    "    #g = g[0::2]\n",
    "    \n",
    "    time_between_pokes.append(g)\n",
    "df['time_between_pokes'] = time_between_pokes\n"
   ]
  },
  {
   "cell_type": "code",
   "execution_count": 163,
   "id": "df29e5c0-3f67-42cc-81bb-1a6afef31777",
   "metadata": {},
   "outputs": [],
   "source": [
    "#Get 'trials'\n",
    "## add \n",
    "trial_ts = []\n",
    "for ind, row in df.iterrows():\n",
    "    x = row['pokes_ts']#.astype(str).astype(float)\n",
    "    y = [x[i:i+2] for i in range(0, len(x), 2)]\n",
    "    z =  [x[i+1:i+3] for i in range(0, len(x), 2)]\n",
    "    t = sorted(y+z)\n",
    "    trial_ts.append(t)\n",
    "df['trial_ts']= trial_ts\n"
   ]
  },
  {
   "cell_type": "code",
   "execution_count": 164,
   "id": "a6e5bacf-6209-4735-a7b2-8f42b6e83da0",
   "metadata": {},
   "outputs": [
    {
     "data": {
      "text/plain": [
       "93"
      ]
     },
     "execution_count": 164,
     "metadata": {},
     "output_type": "execute_result"
    }
   ],
   "source": [
    "len(y)"
   ]
  },
  {
   "cell_type": "code",
   "execution_count": 165,
   "id": "7deaa2f8-6b24-4bb6-a5f7-fd8409c164bb",
   "metadata": {},
   "outputs": [
    {
     "data": {
      "text/plain": [
       "93"
      ]
     },
     "execution_count": 165,
     "metadata": {},
     "output_type": "execute_result"
    }
   ],
   "source": [
    "len(z)"
   ]
  },
  {
   "cell_type": "code",
   "execution_count": 166,
   "id": "dc60608b-8199-4cd8-a2d7-c9cec8c2016c",
   "metadata": {},
   "outputs": [
    {
     "data": {
      "text/plain": [
       "186"
      ]
     },
     "execution_count": 166,
     "metadata": {},
     "output_type": "execute_result"
    }
   ],
   "source": [
    "len(t)"
   ]
  },
  {
   "cell_type": "code",
   "execution_count": 167,
   "id": "24e8a26d-8ebf-4e07-a3a6-ab5e60ad345a",
   "metadata": {},
   "outputs": [
    {
     "data": {
      "text/plain": [
       "184"
      ]
     },
     "execution_count": 167,
     "metadata": {},
     "output_type": "execute_result"
    }
   ],
   "source": [
    "a = df['time_between_pokes'].iloc[5]\n",
    "len(a)"
   ]
  },
  {
   "cell_type": "code",
   "execution_count": 168,
   "id": "1a4db8b0-1f64-4759-bf4e-e260daef8bfb",
   "metadata": {},
   "outputs": [],
   "source": [
    "#Get 'trials #'\n",
    "trial_num = []\n",
    "for ind, row in df.iterrows():\n",
    "    x = row['trial_ts']#.astype(str).astype(float)\n",
    "    y=len(x)\n",
    "    trial_num.append(y)\n",
    "df['trial_num']= trial_num"
   ]
  },
  {
   "cell_type": "code",
   "execution_count": 169,
   "id": "2e9e0311-3661-46ab-adc3-ff3172880120",
   "metadata": {},
   "outputs": [
    {
     "data": {
      "text/html": [
       "<div>\n",
       "<style scoped>\n",
       "    .dataframe tbody tr th:only-of-type {\n",
       "        vertical-align: middle;\n",
       "    }\n",
       "\n",
       "    .dataframe tbody tr th {\n",
       "        vertical-align: top;\n",
       "    }\n",
       "\n",
       "    .dataframe thead th {\n",
       "        text-align: right;\n",
       "    }\n",
       "</style>\n",
       "<table border=\"1\" class=\"dataframe\">\n",
       "  <thead>\n",
       "    <tr style=\"text-align: right;\">\n",
       "      <th></th>\n",
       "      <th>date</th>\n",
       "      <th>animal</th>\n",
       "      <th>task</th>\n",
       "      <th>poke1_ts</th>\n",
       "      <th>poke2_ts</th>\n",
       "      <th>spout1_ts</th>\n",
       "      <th>spout2_ts</th>\n",
       "      <th>top1_ts</th>\n",
       "      <th>poke1_t0</th>\n",
       "      <th>poke2_t0</th>\n",
       "      <th>spout1_t0</th>\n",
       "      <th>spout2_t0</th>\n",
       "      <th>top1_t0</th>\n",
       "      <th>spout1_on</th>\n",
       "      <th>pokes_ts</th>\n",
       "      <th>poke_num</th>\n",
       "      <th>time_between_pokes</th>\n",
       "      <th>trial_ts</th>\n",
       "      <th>trial_num</th>\n",
       "    </tr>\n",
       "  </thead>\n",
       "  <tbody>\n",
       "    <tr>\n",
       "      <th>0</th>\n",
       "      <td>090621</td>\n",
       "      <td>G6CK3LT</td>\n",
       "      <td>oa</td>\n",
       "      <td>[9.012454999996407, 32.02147899999545, 45.6623...</td>\n",
       "      <td>[20.220095999997284, 38.919487999999546, 51.73...</td>\n",
       "      <td>[9.012786999999662, 11.018559999996796, 32.021...</td>\n",
       "      <td>[20.22056999999768, 22.234534999995958, 38.919...</td>\n",
       "      <td>[45903.962457, 45903.978739, 45903.995366, 459...</td>\n",
       "      <td>45912.974912</td>\n",
       "      <td>45924.182553</td>\n",
       "      <td>45912.975244</td>\n",
       "      <td>45924.183027</td>\n",
       "      <td>45903.962457</td>\n",
       "      <td>[9.012786999999662, 32.021810999998706, 45.662...</td>\n",
       "      <td>[9.012454999996407, 20.220095999997284, 32.021...</td>\n",
       "      <td>137</td>\n",
       "      <td>[11.207641000000876, 11.801382999998168, 6.898...</td>\n",
       "      <td>[[], [9.012454999996407, 20.220095999997284], ...</td>\n",
       "      <td>138</td>\n",
       "    </tr>\n",
       "    <tr>\n",
       "      <th>1</th>\n",
       "      <td>090621</td>\n",
       "      <td>G6CK3RT</td>\n",
       "      <td>oa</td>\n",
       "      <td>[2.4534399999974994, 68.27412499999627, 90.983...</td>\n",
       "      <td>[48.25061199999618, 85.40002600000298, 98.0330...</td>\n",
       "      <td>[2.4537990000026184, 4.454976000000897, 68.274...</td>\n",
       "      <td>[48.25091899999825, 50.25673000000097, 85.4003...</td>\n",
       "      <td>[47774.940876, 47774.955609, 47774.972275, 477...</td>\n",
       "      <td>47777.394316</td>\n",
       "      <td>47823.191488</td>\n",
       "      <td>47777.394675</td>\n",
       "      <td>47823.191795</td>\n",
       "      <td>47774.940876</td>\n",
       "      <td>[2.4537990000026184, 68.27447099999699, 90.983...</td>\n",
       "      <td>[2.4534399999974994, 48.25061199999618, 68.274...</td>\n",
       "      <td>108</td>\n",
       "      <td>[45.79717199999868, 20.023513000000094, 17.125...</td>\n",
       "      <td>[[2.4534399999974994, 48.25061199999618], [48....</td>\n",
       "      <td>108</td>\n",
       "    </tr>\n",
       "    <tr>\n",
       "      <th>2</th>\n",
       "      <td>090721</td>\n",
       "      <td>G6CK3LT</td>\n",
       "      <td>oa</td>\n",
       "      <td>[8.237785999997868, 19.96965099999943, 32.1687...</td>\n",
       "      <td>[14.271667000000889, 25.425920000001497, 36.06...</td>\n",
       "      <td>[8.238130999998248, 9.748711000000185, 19.9699...</td>\n",
       "      <td>[14.272000000004482, 15.776192000004812, 25.42...</td>\n",
       "      <td>[56493.150937, 56493.165504, 56493.18222, 5649...</td>\n",
       "      <td>56501.388723</td>\n",
       "      <td>56507.422604</td>\n",
       "      <td>56501.389068</td>\n",
       "      <td>56507.422937</td>\n",
       "      <td>56493.150937</td>\n",
       "      <td>[8.238130999998248, 19.969970999998623, 32.169...</td>\n",
       "      <td>[8.237785999997868, 14.271667000000889, 19.969...</td>\n",
       "      <td>152</td>\n",
       "      <td>[6.033881000003021, 5.6979839999985415, 5.4562...</td>\n",
       "      <td>[[8.237785999997868, 14.271667000000889], [14....</td>\n",
       "      <td>152</td>\n",
       "    </tr>\n",
       "    <tr>\n",
       "      <th>3</th>\n",
       "      <td>090721</td>\n",
       "      <td>G6CK3RT</td>\n",
       "      <td>oa</td>\n",
       "      <td>[24.342899999996007, 45.36921599999914, 71.233...</td>\n",
       "      <td>[35.972365000001446, 56.71614799999952, 76.198...</td>\n",
       "      <td>[24.34339899999759, 25.854489999997895, 45.369...</td>\n",
       "      <td>[35.972735999996075, 37.484262999998464, 56.71...</td>\n",
       "      <td>[55053.940748, 55053.962022, 55053.973849, 550...</td>\n",
       "      <td>55078.283648</td>\n",
       "      <td>55089.913113</td>\n",
       "      <td>55078.284147</td>\n",
       "      <td>55089.913484</td>\n",
       "      <td>55053.940748</td>\n",
       "      <td>[24.34339899999759, 45.369535999998334, 71.233...</td>\n",
       "      <td>[24.342899999996007, 35.972365000001446, 45.36...</td>\n",
       "      <td>124</td>\n",
       "      <td>[11.629465000005439, 9.396850999997696, 11.346...</td>\n",
       "      <td>[[24.342899999996007, 35.972365000001446], [35...</td>\n",
       "      <td>124</td>\n",
       "    </tr>\n",
       "    <tr>\n",
       "      <th>4</th>\n",
       "      <td>090821</td>\n",
       "      <td>G6CK3LT</td>\n",
       "      <td>oa</td>\n",
       "      <td>[1.0935939999981201, 25.23863100000017, 35.657...</td>\n",
       "      <td>[6.582515000001877, 30.152602000001934, 39.500...</td>\n",
       "      <td>[1.0941309999980149, 2.3597700000027544, 25.23...</td>\n",
       "      <td>[6.582835000001069, 7.839181000003009, 30.1528...</td>\n",
       "      <td>[47914.121945, 47914.132441, 47914.149056, 479...</td>\n",
       "      <td>47915.215539</td>\n",
       "      <td>47920.704460</td>\n",
       "      <td>47915.216076</td>\n",
       "      <td>47920.704780</td>\n",
       "      <td>47914.121945</td>\n",
       "      <td>[1.0941309999980149, 25.238976000000548, 35.65...</td>\n",
       "      <td>[1.0935939999981201, 6.582515000001877, 25.238...</td>\n",
       "      <td>177</td>\n",
       "      <td>[5.4889210000037565, 18.656115999998292, 4.913...</td>\n",
       "      <td>[[], [1.0935939999981201, 6.582515000001877], ...</td>\n",
       "      <td>178</td>\n",
       "    </tr>\n",
       "    <tr>\n",
       "      <th>5</th>\n",
       "      <td>090821</td>\n",
       "      <td>G6CK3RT</td>\n",
       "      <td>oa</td>\n",
       "      <td>[1.0785919999980251, 25.66050600000017, 43.196...</td>\n",
       "      <td>[18.95087400000193, 31.14964499999769, 47.9934...</td>\n",
       "      <td>[1.0789890000014566, 2.3346440000022994, 25.66...</td>\n",
       "      <td>[18.951398999997764, 20.2091270000019, 31.1500...</td>\n",
       "      <td>[49237.218124, 49237.232934, 49237.2496, 49237...</td>\n",
       "      <td>49238.296716</td>\n",
       "      <td>49256.168998</td>\n",
       "      <td>49238.297113</td>\n",
       "      <td>49256.169523</td>\n",
       "      <td>49237.218124</td>\n",
       "      <td>[1.0789890000014566, 25.66082599999936, 43.197...</td>\n",
       "      <td>[1.0785919999980251, 18.95087400000193, 25.660...</td>\n",
       "      <td>185</td>\n",
       "      <td>[17.872282000003906, 6.709631999998237, 5.4891...</td>\n",
       "      <td>[[], [1.0785919999980251, 18.95087400000193], ...</td>\n",
       "      <td>186</td>\n",
       "    </tr>\n",
       "  </tbody>\n",
       "</table>\n",
       "</div>"
      ],
      "text/plain": [
       "     date   animal task                                           poke1_ts  \\\n",
       "0  090621  G6CK3LT   oa  [9.012454999996407, 32.02147899999545, 45.6623...   \n",
       "1  090621  G6CK3RT   oa  [2.4534399999974994, 68.27412499999627, 90.983...   \n",
       "2  090721  G6CK3LT   oa  [8.237785999997868, 19.96965099999943, 32.1687...   \n",
       "3  090721  G6CK3RT   oa  [24.342899999996007, 45.36921599999914, 71.233...   \n",
       "4  090821  G6CK3LT   oa  [1.0935939999981201, 25.23863100000017, 35.657...   \n",
       "5  090821  G6CK3RT   oa  [1.0785919999980251, 25.66050600000017, 43.196...   \n",
       "\n",
       "                                            poke2_ts  \\\n",
       "0  [20.220095999997284, 38.919487999999546, 51.73...   \n",
       "1  [48.25061199999618, 85.40002600000298, 98.0330...   \n",
       "2  [14.271667000000889, 25.425920000001497, 36.06...   \n",
       "3  [35.972365000001446, 56.71614799999952, 76.198...   \n",
       "4  [6.582515000001877, 30.152602000001934, 39.500...   \n",
       "5  [18.95087400000193, 31.14964499999769, 47.9934...   \n",
       "\n",
       "                                           spout1_ts  \\\n",
       "0  [9.012786999999662, 11.018559999996796, 32.021...   \n",
       "1  [2.4537990000026184, 4.454976000000897, 68.274...   \n",
       "2  [8.238130999998248, 9.748711000000185, 19.9699...   \n",
       "3  [24.34339899999759, 25.854489999997895, 45.369...   \n",
       "4  [1.0941309999980149, 2.3597700000027544, 25.23...   \n",
       "5  [1.0789890000014566, 2.3346440000022994, 25.66...   \n",
       "\n",
       "                                           spout2_ts  \\\n",
       "0  [20.22056999999768, 22.234534999995958, 38.919...   \n",
       "1  [48.25091899999825, 50.25673000000097, 85.4003...   \n",
       "2  [14.272000000004482, 15.776192000004812, 25.42...   \n",
       "3  [35.972735999996075, 37.484262999998464, 56.71...   \n",
       "4  [6.582835000001069, 7.839181000003009, 30.1528...   \n",
       "5  [18.951398999997764, 20.2091270000019, 31.1500...   \n",
       "\n",
       "                                             top1_ts      poke1_t0  \\\n",
       "0  [45903.962457, 45903.978739, 45903.995366, 459...  45912.974912   \n",
       "1  [47774.940876, 47774.955609, 47774.972275, 477...  47777.394316   \n",
       "2  [56493.150937, 56493.165504, 56493.18222, 5649...  56501.388723   \n",
       "3  [55053.940748, 55053.962022, 55053.973849, 550...  55078.283648   \n",
       "4  [47914.121945, 47914.132441, 47914.149056, 479...  47915.215539   \n",
       "5  [49237.218124, 49237.232934, 49237.2496, 49237...  49238.296716   \n",
       "\n",
       "       poke2_t0     spout1_t0     spout2_t0       top1_t0  \\\n",
       "0  45924.182553  45912.975244  45924.183027  45903.962457   \n",
       "1  47823.191488  47777.394675  47823.191795  47774.940876   \n",
       "2  56507.422604  56501.389068  56507.422937  56493.150937   \n",
       "3  55089.913113  55078.284147  55089.913484  55053.940748   \n",
       "4  47920.704460  47915.216076  47920.704780  47914.121945   \n",
       "5  49256.168998  49238.297113  49256.169523  49237.218124   \n",
       "\n",
       "                                           spout1_on  \\\n",
       "0  [9.012786999999662, 32.021810999998706, 45.662...   \n",
       "1  [2.4537990000026184, 68.27447099999699, 90.983...   \n",
       "2  [8.238130999998248, 19.969970999998623, 32.169...   \n",
       "3  [24.34339899999759, 45.369535999998334, 71.233...   \n",
       "4  [1.0941309999980149, 25.238976000000548, 35.65...   \n",
       "5  [1.0789890000014566, 25.66082599999936, 43.197...   \n",
       "\n",
       "                                            pokes_ts  poke_num  \\\n",
       "0  [9.012454999996407, 20.220095999997284, 32.021...       137   \n",
       "1  [2.4534399999974994, 48.25061199999618, 68.274...       108   \n",
       "2  [8.237785999997868, 14.271667000000889, 19.969...       152   \n",
       "3  [24.342899999996007, 35.972365000001446, 45.36...       124   \n",
       "4  [1.0935939999981201, 6.582515000001877, 25.238...       177   \n",
       "5  [1.0785919999980251, 18.95087400000193, 25.660...       185   \n",
       "\n",
       "                                  time_between_pokes  \\\n",
       "0  [11.207641000000876, 11.801382999998168, 6.898...   \n",
       "1  [45.79717199999868, 20.023513000000094, 17.125...   \n",
       "2  [6.033881000003021, 5.6979839999985415, 5.4562...   \n",
       "3  [11.629465000005439, 9.396850999997696, 11.346...   \n",
       "4  [5.4889210000037565, 18.656115999998292, 4.913...   \n",
       "5  [17.872282000003906, 6.709631999998237, 5.4891...   \n",
       "\n",
       "                                            trial_ts  trial_num  \n",
       "0  [[], [9.012454999996407, 20.220095999997284], ...        138  \n",
       "1  [[2.4534399999974994, 48.25061199999618], [48....        108  \n",
       "2  [[8.237785999997868, 14.271667000000889], [14....        152  \n",
       "3  [[24.342899999996007, 35.972365000001446], [35...        124  \n",
       "4  [[], [1.0935939999981201, 6.582515000001877], ...        178  \n",
       "5  [[], [1.0785919999980251, 18.95087400000193], ...        186  "
      ]
     },
     "execution_count": 169,
     "metadata": {},
     "output_type": "execute_result"
    }
   ],
   "source": [
    "df"
   ]
  },
  {
   "cell_type": "code",
   "execution_count": 153,
   "id": "e81787c2-a0a5-4a83-81bc-f59f47536660",
   "metadata": {},
   "outputs": [
    {
     "data": {
      "image/png": "[encoded data removed]",
      "text/plain": [
       "<Figure size 432x288 with 1 Axes>"
      ]
     },
     "metadata": {
      "needs_background": "light"
     },
     "output_type": "display_data"
    }
   ],
   "source": [
    "x = df['time_between_pokes'].apply(plt.plot)"
   ]
  },
  {
   "cell_type": "code",
   "execution_count": 70,
   "id": "ab5ebcc9-ee54-4ea9-b2b5-47972e93a335",
   "metadata": {},
   "outputs": [],
   "source": [
    "y = df['top1_ts'].apply(len)"
   ]
  },
  {
   "cell_type": "code",
   "execution_count": 122,
   "id": "8572a2c4-b86d-47b3-ad7f-6ecd0011377e",
   "metadata": {},
   "outputs": [],
   "source": [
    "x=df['time_between_pokes'].iloc[4]"
   ]
  },
  {
   "cell_type": "code",
   "execution_count": 123,
   "id": "d5d2a73f-7b95-4391-90bb-e2c3a7479473",
   "metadata": {},
   "outputs": [
    {
     "data": {
      "text/plain": [
       "(array([141.,   4.,   2.,   0.,   3.,   0.,   0.,   0.,   0.,   0.,   0.,\n",
       "          0.,   0.,   0.,   0.,   0.,   0.,   0.,   0.,   1.]),\n",
       " array([  3.129907 ,   9.3997336,  15.6695602,  21.9393868,  28.2092134,\n",
       "         34.47904  ,  40.7488666,  47.0186932,  53.2885198,  59.5583464,\n",
       "         65.828173 ,  72.0979996,  78.3678262,  84.6376528,  90.9074794,\n",
       "         97.177306 , 103.4471326, 109.7169592, 115.9867858, 122.2566124,\n",
       "        128.526439 ]),\n",
       " <BarContainer object of 20 artists>)"
      ]
     },
     "execution_count": 123,
     "metadata": {},
     "output_type": "execute_result"
    },
    {
     "data": {
      "image/png": "[encoded data removed]",
      "text/plain": [
       "<Figure size 432x288 with 1 Axes>"
      ]
     },
     "metadata": {
      "needs_background": "light"
     },
     "output_type": "display_data"
    }
   ],
   "source": [
    "plt.hist(x,bins=20)"
   ]
  },
  {
   "cell_type": "code",
   "execution_count": 124,
   "id": "7710fee0-5361-47f2-80c7-9115614cfc5f",
   "metadata": {},
   "outputs": [
    {
     "data": {
      "text/plain": [
       "[<matplotlib.lines.Line2D at 0x28e742ddf40>]"
      ]
     },
     "execution_count": 124,
     "metadata": {},
     "output_type": "execute_result"
    },
    {
     "data": {
      "image/png": "[encoded data removed]",
      "text/plain": [
       "<Figure size 432x288 with 1 Axes>"
      ]
     },
     "metadata": {
      "needs_background": "light"
     },
     "output_type": "display_data"
    }
   ],
   "source": [
    "plt.plot(x)"
   ]
  },
  {
   "cell_type": "code",
   "execution_count": 125,
   "id": "f7660b63-2709-419f-8ccd-6bb88811c344",
   "metadata": {},
   "outputs": [
    {
     "data": {
      "text/plain": [
       "array([0.03244022, 0.03063432, 0.02933478, 0.0362516 , 0.02092112,\n",
       "       0.0252608 , 0.03625146, 0.02459878, 0.03418075, 0.02446506,\n",
       "       0.03764005, 0.02644962, 0.02239876, 0.02457559, 0.02537208,\n",
       "       0.02517258, 0.01874044, 0.02601586, 0.01944176, 0.02827823,\n",
       "       0.02015078, 0.02462252, 0.01834501, 0.02448929, 0.0420648 ,\n",
       "       0.02662551, 0.01847845, 0.0254795 , 0.01786254, 0.02468659,\n",
       "       0.02180246, 0.0275308 , 0.02404969, 0.02772727, 0.01700163,\n",
       "       0.03867314, 0.03909133, 0.02488596, 0.01711174, 0.02896131,\n",
       "       0.01748466, 0.02466725, 0.02166958, 0.02457799, 0.01979926,\n",
       "       0.02565705, 0.01784011, 0.0248426 , 0.01894049, 0.02684711,\n",
       "       0.02030383, 0.02583335, 0.0196449 , 0.02448819, 0.01682746,\n",
       "       0.02451138, 0.02988628, 0.024798  , 0.01764074, 0.02486393,\n",
       "       0.0184799 , 0.02519226, 0.01790527, 0.02559091, 0.01768561,\n",
       "       0.02539155, 0.02010715, 0.03228676, 0.01726645, 0.02490674,\n",
       "       0.03147231, 0.02473187, 0.02444442, 0.03398406, 0.02316656,\n",
       "       0.02460049, 0.03730835, 0.02620655, 0.02042226, 0.0246369 ,\n",
       "       0.02559277, 0.0244884 , 0.0177068 , 0.02576874, 0.01818976,\n",
       "       0.02484232, 0.01784017, 0.02519453, 0.01902878, 0.02486373,\n",
       "       0.02052562, 0.02459788, 0.02277237, 0.02493041, 0.01911776,\n",
       "       0.02446789, 0.02023901, 0.02466649, 0.02589818, 0.10879752,\n",
       "       0.01946708, 0.02451221, 0.01946811, 0.02497487, 0.06250192,\n",
       "       0.02440079, 0.02493096, 0.02539176, 0.02134201, 0.02512846,\n",
       "       0.02940126, 0.02449899, 0.02100088, 0.02484246, 0.020017  ,\n",
       "       0.02444786, 0.06595978, 0.02452397, 0.01916965, 0.02466484,\n",
       "       0.02724411, 0.03299117, 0.02120795, 0.02563551, 0.02048186,\n",
       "       0.02625142, 0.04380469, 0.02442357, 0.02076745, 0.02477536,\n",
       "       0.02261712, 0.02764105, 0.02429192, 0.02627345, 0.02334506,\n",
       "       0.07479144, 0.02109798, 0.02492862, 0.0230817 , 0.0257322 ,\n",
       "       0.09614513, 0.0269782 , 0.0672821 , 0.02439893, 0.02270796,\n",
       "       0.16510913, 0.04563152, 0.15878785, 0.1705258 , 0.03631628,\n",
       "       0.69100236])"
      ]
     },
     "execution_count": 125,
     "metadata": {},
     "output_type": "execute_result"
    }
   ],
   "source": [
    "x/y"
   ]
  },
  {
   "cell_type": "code",
   "execution_count": 126,
   "id": "5e6ee6a6-eb0c-4c9a-9ad3-0a11a184dbb9",
   "metadata": {},
   "outputs": [
    {
     "data": {
      "text/plain": [
       "array([  6.033881,   5.697984,   5.456269,   6.742797,   3.891328,\n",
       "         4.698509,   6.742771,   4.575373,   6.357619,   4.550502,\n",
       "         7.00105 ,   4.919629,   4.166169,   4.57106 ,   4.719206,\n",
       "         4.682099,   3.485722,   4.83895 ,   3.616167,   5.25975 ,\n",
       "         3.748045,   4.579789,   3.412172,   4.555008,   7.824052,\n",
       "         4.952345,   3.436992,   4.739187,   3.322432,   4.591706,\n",
       "         4.055258,   5.120729,   4.473242,   5.157273,   3.162304,\n",
       "         7.193204,   7.270988,   4.628788,   3.182784,   5.386803,\n",
       "         3.252147,   4.588109,   4.030541,   4.571507,   3.682662,\n",
       "         4.772211,   3.31826 ,   4.620723,   3.522931,   4.993562,\n",
       "         3.776512,   4.805004,   3.653952,   4.554804,   3.129907,\n",
       "         4.559117,   5.558848,   4.612428,   3.281178,   4.624691,\n",
       "         3.437261,   4.68576 ,   3.330381,   4.75991 ,   3.289523,\n",
       "         4.722829,   3.73993 ,   6.005337,   3.211559,   4.632653,\n",
       "         5.853849,   4.600128,   4.546663,   6.321036,   4.30898 ,\n",
       "         4.575692,   6.939354,   4.874419,   3.798541,   4.582464,\n",
       "         4.760256,   4.554842,   3.293465,   4.792986,   3.383296,\n",
       "         4.620672,   3.318272,   4.686182,   3.539354,   4.624653,\n",
       "         3.817766,   4.575206,   4.235661,   4.637056,   3.555904,\n",
       "         4.551027,   3.764455,   4.587968,   4.817062,  20.236339,\n",
       "         3.620877,   4.559271,   3.621068,   4.645325,  11.625357,\n",
       "         4.538547,   4.637159,   4.722867,   3.969613,   4.673894,\n",
       "         5.468634,   4.556812,   3.906164,   4.620697,   3.723162,\n",
       "         4.547302,  12.268519,   4.561459,   3.565555,   4.587661,\n",
       "         5.067405,   6.136358,   3.944678,   4.768205,   3.809626,\n",
       "         4.882765,   8.147673,   4.542784,   3.862746,   4.608217,\n",
       "         4.206784,   5.141236,   4.518297,   4.886861,   4.342182,\n",
       "        13.911207,   3.924224,   4.636723,   4.293197,   4.786189,\n",
       "        17.882995,   5.017945,  12.514471,   4.538201,   4.22368 ,\n",
       "        30.710298,   8.487462,  29.534541,  31.717799,   6.754828,\n",
       "       128.526439])"
      ]
     },
     "execution_count": 126,
     "metadata": {},
     "output_type": "execute_result"
    }
   ],
   "source": [
    "x"
   ]
  },
  {
   "cell_type": "code",
   "execution_count": 127,
   "id": "41b60efd-50e3-4635-b114-12669528545d",
   "metadata": {},
   "outputs": [],
   "source": [
    "z = df.trial_num\n"
   ]
  },
  {
   "cell_type": "code",
   "execution_count": 128,
   "id": "a8faf95e-a271-4f80-9bf4-d0fba3db2860",
   "metadata": {},
   "outputs": [
    {
     "data": {
      "text/plain": [
       "0    142\n",
       "1    114\n",
       "2    138\n",
       "3    108\n",
       "4    152\n",
       "5    124\n",
       "6    178\n",
       "7    186\n",
       "Name: trial_num, dtype: int64"
      ]
     },
     "execution_count": 128,
     "metadata": {},
     "output_type": "execute_result"
    }
   ],
   "source": [
    "z"
   ]
  },
  {
   "cell_type": "code",
   "execution_count": 129,
   "id": "b6af647b-ca55-4bca-a978-e8e154b69c96",
   "metadata": {},
   "outputs": [
    {
     "data": {
      "text/plain": [
       "0    0.007042\n",
       "1    0.008772\n",
       "2    0.007246\n",
       "3    0.009259\n",
       "4    0.006579\n",
       "5    0.008065\n",
       "6    0.005618\n",
       "7    0.005376\n",
       "Name: trial_num, dtype: float64"
      ]
     },
     "execution_count": 129,
     "metadata": {},
     "output_type": "execute_result"
    }
   ],
   "source": [
    "1/z"
   ]
  },
  {
   "cell_type": "code",
   "execution_count": 156,
   "id": "42275817-0a0e-446c-948e-44ffea9fa543",
   "metadata": {},
   "outputs": [
    {
     "ename": "NameError",
     "evalue": "name 'open_h5' is not defined",
     "output_type": "error",
     "traceback": [
      "\u001b[1;31m---------------------------------------------------------------------------\u001b[0m",
      "\u001b[1;31mNameError\u001b[0m                                 Traceback (most recent call last)",
      "\u001b[1;32m<ipython-input-156-a9516f60a0c5>\u001b[0m in \u001b[0;36m<module>\u001b[1;34m\u001b[0m\n\u001b[1;32m----> 1\u001b[1;33m \u001b[0mx\u001b[0m \u001b[1;33m=\u001b[0m \u001b[0mopen_h5\u001b[0m\u001b[1;33m(\u001b[0m\u001b[1;34m'r:Users\\nlab\\Desktop\\mike_bonsai\\recordings\\090221\\G6CK3BLT\\oa\\090221_G6CK3BLT_control_Rig2_oa_top1DLC_resnet50_object_avoidanceAug31shuffle1_200000.h5'\u001b[0m\u001b[1;33m)\u001b[0m\u001b[1;33m\u001b[0m\u001b[1;33m\u001b[0m\u001b[0m\n\u001b[0m",
      "\u001b[1;31mNameError\u001b[0m: name 'open_h5' is not defined"
     ]
    }
   ],
   "source": [
    "x = open_h5('r:Users\\nlab\\Desktop\\mike_bonsai\\recordings\\090221\\G6CK3BLT\\oa\\090221_G6CK3BLT_control_Rig2_oa_top1DLC_resnet50_object_avoidanceAug31shuffle1_200000.h5')"
   ]
  },
  {
   "cell_type": "code",
   "execution_count": 172,
   "id": "c6979535-f7a6-4484-a6f6-04084b414b1c",
   "metadata": {},
   "outputs": [
    {
     "data": {
      "text/plain": [
       "186"
      ]
     },
     "execution_count": 172,
     "metadata": {},
     "output_type": "execute_result"
    }
   ],
   "source": [
    "len(df.trial_ts[5])"
   ]
  },
  {
   "cell_type": "code",
   "execution_count": 174,
   "id": "6a1e5921-8b59-4f9b-a37a-1a92ae93e25e",
   "metadata": {},
   "outputs": [
    {
     "data": {
      "text/plain": [
       "186"
      ]
     },
     "execution_count": 174,
     "metadata": {},
     "output_type": "execute_result"
    }
   ],
   "source": [
    "df.trial_num[5]"
   ]
  },
  {
   "cell_type": "code",
   "execution_count": null,
   "id": "239236e1-bb74-4deb-80d0-df50d2d84bbe",
   "metadata": {},
   "outputs": [],
   "source": []
  }
 ],
 "metadata": {
  "kernelspec": {
   "display_name": "Python 3",
   "language": "python",
   "name": "python3"
  },
  "language_info": {
   "codemirror_mode": {
    "name": "ipython",
    "version": 3
   },
   "file_extension": ".py",
   "mimetype": "text/x-python",
   "name": "python",
   "nbconvert_exporter": "python",
   "pygments_lexer": "ipython3",
   "version": "3.8.8"
  }
 },
 "nbformat": 4,
 "nbformat_minor": 5
}
