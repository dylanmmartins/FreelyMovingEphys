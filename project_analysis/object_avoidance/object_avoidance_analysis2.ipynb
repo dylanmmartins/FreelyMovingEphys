{
 "cells": [
  {
   "cell_type": "code",
   "execution_count": null,
   "source": [
    "#Python Packages\r\n",
    "import pandas as pd\r\n",
    "import numpy as np\r\n",
    "import xarray as xr\r\n",
    "import glob as gb \r\n",
    "import csv\r\n",
    "import itertools\r\n",
    "from pathlib import Path\r\n",
    "from pandas import *\r\n",
    "import os.path\r\n",
    "import matplotlib.pyplot as plt\r\n",
    "import cv2"
   ],
   "outputs": [],
   "metadata": {}
  },
  {
   "cell_type": "code",
   "execution_count": null,
   "source": [
    "#Load in functions from freelymoving ephys\r\n",
    "import sys\r\n",
    "sys.path.insert(0, 'C:/Users/nlab/Documents/GitHub/FreelyMovingEphys')\r\n",
    "from utils.paths import find\r\n",
    "from utils.time import open_time1\r\n",
    "from utils.time import open_time\r\n",
    "from utils.format_data import open_h5\r\n",
    "#from utils.format_data import open_ma_h5\r\n",
    "\r\n",
    "#function to get correct frame in case there's lag in the acquisition\r\n",
    "def find_first(item, vec):\r\n",
    "    return np.argmin(np.abs(vec-item))"
   ],
   "outputs": [],
   "metadata": {}
  },
  {
   "cell_type": "code",
   "execution_count": null,
   "source": [
    "##Load Data\r\n",
    "# Dictionary of columns in data frame\r\n",
    "data_dict = {'date': [],\r\n",
    "             'animal': [],\r\n",
    "             'task': [],             \r\n",
    "             'poke1_ts':[],\r\n",
    "             'poke2_ts': [],\r\n",
    "             'spout1_ts': [],\r\n",
    "             'spout2_ts': [],\r\n",
    "             'top1_ts': [],\r\n",
    "             'poke1_t0':[],\r\n",
    "             'poke2_t0': [],\r\n",
    "             'spout1_t0': [],\r\n",
    "             'spout2_t0': [],\r\n",
    "             'top1_t0': []}\r\n",
    "# List of dates for analysis\r\n",
    "dates= ['090221']\r\n",
    "data_path = Path('~/Desktop/mike_bonsai/recordings/').expanduser()\r\n",
    "all_paths = []\r\n",
    "#Populate Data Dict with meta data and timestamps   \r\n",
    "for date in dates:\r\n",
    "    for ani in os.listdir(data_path / date): \r\n",
    "        data_paths = list((data_path / date/ ani).rglob('*.csv'))\r\n",
    "        if data_paths != []:\r\n",
    "            data_dict['date'].append(data_paths[1].name.split('_')[0])\r\n",
    "            data_dict['animal'].append(data_paths[1].name.split('_')[1])\r\n",
    "            data_dict['task'].append(data_paths[1].name.split('_')[4])\r\n",
    "            for ind, csv in enumerate(data_paths):\r\n",
    "                data_dict[data_paths[ind].name.split('_')[5] +'_ts'].append(open_time(csv))\r\n",
    "                data_dict[data_paths[ind].name.split('_')[5] +'_t0'].append(open_time(csv)[0])\r\n",
    "df = pd.DataFrame.from_dict(data_dict)\r\n",
    "#df = df.transpose()\r\n",
    "\r\n",
    "\r\n",
    "#df = pd.DataFrame(data_dict)"
   ],
   "outputs": [],
   "metadata": {
    "tags": []
   }
  },
  {
   "cell_type": "code",
   "execution_count": null,
   "source": [
    "#Align to \r\n",
    "##df.poke1_ts = df.poke1_ts - df.top1_t0\r\n",
    "#df.poke2_ts = df.poke2_ts - df.top1_t0\r\n",
    "#df.spout1_ts = df.spout1_ts - df.top1_t0\r\n",
    "#df.spout2_ts = df.spout2_ts - df.top1_t0"
   ],
   "outputs": [],
   "metadata": {}
  },
  {
   "cell_type": "code",
   "execution_count": null,
   "source": [
    "df"
   ],
   "outputs": [],
   "metadata": {}
  },
  {
   "cell_type": "code",
   "execution_count": null,
   "source": [
    "#Only spout on ts \r\n",
    "spout1_on = []\r\n",
    "for ind, row in df.iterrows():\r\n",
    "    x = row['spout1_ts']\r\n",
    "    x = x[0::2]\r\n",
    "    spout1_on.append(x)\r\n",
    "df['spout1_on'] = spout1_on"
   ],
   "outputs": [],
   "metadata": {}
  },
  {
   "cell_type": "code",
   "execution_count": null,
   "source": [
    "#Get all pokes_ts\r\n",
    "pokes_ts = []\r\n",
    "for ind, row in df.iterrows():\r\n",
    "    x = row['poke1_ts'].astype(str).astype(float)\r\n",
    "    y = row['poke2_ts'].astype(str).astype(float)\r\n",
    "    z = list(itertools.chain(x,y)) \r\n",
    "    z = sorted(z)\r\n",
    "    pokes_ts.append(z)\r\n",
    "df['pokes_ts'] = pokes_ts"
   ],
   "outputs": [],
   "metadata": {}
  },
  {
   "cell_type": "code",
   "execution_count": null,
   "source": [
    "# Number of pokes \r\n",
    "pokes = []\r\n",
    "for ind, row in df.iterrows():\r\n",
    "    x = row['pokes_ts']\r\n",
    "    x=len(x)\r\n",
    "    pokes.append(x)\r\n",
    "df['poke_num'] = pokes"
   ],
   "outputs": [],
   "metadata": {}
  },
  {
   "cell_type": "code",
   "execution_count": null,
   "source": [
    "# Time between pokes in sec\r\n",
    "time_between_pokes = []\r\n",
    "for ind, row in df.iterrows():\r\n",
    "    g = row['pokes_ts']\r\n",
    "    g = np.diff(g)\r\n",
    "    #g = g[0::2]\r\n",
    "    \r\n",
    "    time_between_pokes.append(g)\r\n",
    "df['time_between_pokes'] = time_between_pokes\r\n"
   ],
   "outputs": [],
   "metadata": {}
  },
  {
   "cell_type": "code",
   "execution_count": null,
   "source": [
    "#Get 'trials'\r\n",
    "## add \r\n",
    "trial_ts = []\r\n",
    "for ind, row in df.iterrows():\r\n",
    "    x = row['pokes_ts']#.astype(str).astype(float)\r\n",
    "    y = [x[i:i+2] for i in range(0, len(x), 2)]\r\n",
    "    z =  [x[i+1:i+3] for i in range(0, len(x), 2)]\r\n",
    "    t = sorted(y+z)\r\n",
    "    trial_ts.append(t)\r\n",
    "df['trial_ts']= trial_ts\r\n"
   ],
   "outputs": [],
   "metadata": {}
  },
  {
   "cell_type": "code",
   "execution_count": null,
   "source": [
    "#Get 'trials #'\r\n",
    "trial_num = []\r\n",
    "for ind, row in df.iterrows():\r\n",
    "    x = row['trial_ts']#.astype(str).astype(float)\r\n",
    "    y=len(x)\r\n",
    "    trial_num.append(y)\r\n",
    "df['trial_num']= trial_num"
   ],
   "outputs": [],
   "metadata": {}
  },
  {
   "cell_type": "code",
   "execution_count": null,
   "source": [
    "x = r'C:\\Users\\nlab\\Desktop\\mike_bonsai\\recordings\\090221\\G6CK3BLT\\oa\\090221_G6CK3BLT_control_Rig2_oa_top1DLC_resnet50_object_avoidanceAug31shuffle1_200000.h5'\r\n",
    "\r\n",
    "row =  df.iloc[0]\r\n",
    "num_odd_trails = len(row['poke1_ts'])\r\n",
    "df1 = pd.DataFrame([])\r\n",
    "dlc_positions, dlc_labels = open_h5(x)\r\n",
    "count = -1\r\n",
    "for c in range(num_odd_trails):\r\n",
    "    # odd\r\n",
    "    count += 1\r\n",
    "    df1.at[count, 'first_poke'] = row['poke1_ts'][c]\r\n",
    "    df1.at[count, 'second_poke'] = row['poke2_ts'][c]\r\n",
    "    df1.at[count, 'first_spout'] = row['spout1_ts'][c]\r\n",
    "    df1.at[count, 'second_spout'] = row['spout2_ts'][c]\r\n",
    "    time = row['top1_ts']; time = time[time > df1.loc[count,'first_poke']]; time = time[time < df1.loc[count,'second_poke']]\r\n",
    "  \r\n",
    "    df1.at[count, 'trail_timestamps'] = time.astype(object)\r\n",
    "    start_stop_inds = (int(np.where([row['top1_ts']==time[0]])[1]), int(np.where([row['top1_ts']==time[-1]])[1]))\r\n",
    "    for pos in dlc_positions:\r\n",
    "        df1.at[count, pos] = np.array(dlc_positions.loc[start_stop_inds[0]:start_stop_inds[1], pos]).astype(object)\r\n",
    "    # even\r\n",
    "    count += 1\r\n",
    "    if c+1 < len(row['poke1_ts']):\r\n",
    "        df1.at[count, 'first_poke'] = row['poke2_ts'][c]\r\n",
    "        df1.at[count, 'second_poke'] = row['poke1_ts'][c+1]\r\n",
    "        df1.at[count, 'first_spout'] = row['spout2_ts'][c]\r\n",
    "        df1.at[count, 'second_spout'] = row['spout1_ts'][c+1]\r\n",
    "        time = row['top1_ts']; time = time[time > df1.loc[count,'first_poke']]; time = time[time < df1.loc[count,'second_poke']]\r\n",
    "        df1.at[count, 'trail_timestamps'] = time.astype(object)\r\n",
    "        start_stop_inds = (int(np.where([row['top1_ts']==time[0]])[1]), int(np.where([row['top1_ts']==time[-1]])[1]))\r\n",
    "        for pos in dlc_positions:\r\n",
    "            df1.at[count, pos] = np.array(dlc_positions.loc[start_stop_inds[0]:start_stop_inds[1], pos]).astype(object)\r\n",
    "df1['animal'] = row['animal']; df1['date'] = row['date']; df1['task'] = row['task']"
   ],
   "outputs": [],
   "metadata": {}
  },
  {
   "cell_type": "code",
   "execution_count": null,
   "source": [
    "df1"
   ],
   "outputs": [],
   "metadata": {}
  },
  {
   "cell_type": "code",
   "execution_count": null,
   "source": [
    "plt.subplots(10,int(np.ceil(len(df1)/10)), figsize=(30,20))\r\n",
    "count = 1\r\n",
    "for ind, row in df1.iterrows():\r\n",
    "    plt.subplot(10,int(np.ceil(len(df1)/10)),count)\r\n",
    "    colors = plt.cm.jet(np.linspace(0,1,len(row['trail_timestamps'])))\r\n",
    "    for i in range(len(row['trail_timestamps'])):\r\n",
    "        plt.plot(row['nose_x'][i],row['nose_y'][i],'.', color=colors[i])\r\n",
    "        plt.plot(row['obstaclewTR_x'][i],row['obstaclewTR_y'][i],'.',color='k')\r\n",
    "        plt.plot(row['obstaclewBR_x'][i],row['obstaclewBR_y'][i],'.',color='k')\r\n",
    "        plt.plot(row['obstaclewBL_x'][i],row['obstaclewBL_y'][i],'.',color='k')\r\n",
    "        plt.plot(row['obstaclewTL_x'][i],row['obstaclewTL_y'][i],'.',color='k')\r\n",
    "    count += 1\r\n",
    "plt.plot"
   ],
   "outputs": [],
   "metadata": {}
  },
  {
   "cell_type": "code",
   "execution_count": null,
   "source": [
    "colors = plt.cm.jet(np.linspace(0,1,len(row['trail_timestamps'])))\r\n",
    "for i in range(len(row['trail_timestamps'])):\r\n",
    "    plt.plot(row['nose_x'][i],row['nose_y'][i],'.', color=colors[i])\r\n",
    "    plt.plot(row['obstaclewTR_x'][i],row['obstaclewTR_y'][i],'.',color='k')\r\n",
    "    plt.plot(row['obstaclewBR_x'][i],row['obstaclewBR_y'][i],'.',color='k')\r\n",
    "    plt.plot(row['obstaclewBL_x'][i],row['obstaclewBL_y'][i],'.',color='k')\r\n",
    "    plt.plot(row['obstaclewTL_x'][i],row['obstaclewTL_y'][i],'.',color='k')"
   ],
   "outputs": [],
   "metadata": {}
  }
 ],
 "metadata": {
  "kernelspec": {
   "name": "python3",
   "display_name": "Python 3.8.8 64-bit ('base': conda)"
  },
  "language_info": {
   "codemirror_mode": {
    "name": "ipython",
    "version": 3
   },
   "file_extension": ".py",
   "mimetype": "text/x-python",
   "name": "python",
   "nbconvert_exporter": "python",
   "pygments_lexer": "ipython3",
   "version": "3.8.8"
  },
  "interpreter": {
   "hash": "4767119455ba44178dbc85cc213dc1efef5af04fb3df9b27faa62ade02139a76"
  }
 },
 "nbformat": 4,
 "nbformat_minor": 5
}