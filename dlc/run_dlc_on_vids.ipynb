{
 "cells": [
  {
   "cell_type": "markdown",
   "metadata": {},
   "source": [
    "# analyze new videos with DeepLabCut from training set\n",
    "## run_dlc_on_vids.ipynb\n",
    "\n",
    "Run DeepLabCut and Anipose on new videos to extract pose estimations. Requires the DLC-GPU environment with Anipose installed.\n",
    "\n",
    "Last modified August 17, 2020"
   ]
  },
  {
   "cell_type": "code",
   "execution_count": null,
   "metadata": {},
   "outputs": [],
   "source": [
    "# package imports\n",
    "import deeplabcut\n",
    "from glob import glob\n",
    "import anipose"
   ]
  },
  {
   "cell_type": "markdown",
   "metadata": {},
   "source": [
    "### triangulation for 3D top-down view\n",
    "Build a 3D view from multiple top-down cameras using a network which has already been trained.\n",
    "\n",
    "Note: Names of each camera view in the config file must be included in the names of trials (i.e. 'TOP1' must be in the camera names of the config file as well as in the video name. If the trial used the Bonsai aquisition script, this shouldn't be an issue."
   ]
  },
  {
   "cell_type": "code",
   "execution_count": null,
   "metadata": {},
   "outputs": [],
   "source": [
    "# user inputs\n",
    "top_3Dconfig_path = '/path/config.yaml'\n",
    "topvid_path_list = glob('/path/to/one/trials/videos/') # this should be a folder with as many as three topdown views of the same trial\n",
    "top_save_path = 'path/to/save/'"
   ]
  },
  {
   "cell_type": "code",
   "execution_count": null,
   "metadata": {},
   "outputs": [],
   "source": [
    "# calibrate for each session\n"
   ]
  },
  {
   "cell_type": "code",
   "execution_count": null,
   "metadata": {},
   "outputs": [],
   "source": [
    "# loop through every set of between one and three topdown videos and analyze\n"
   ]
  },
  {
   "cell_type": "markdown",
   "metadata": {},
   "source": [
    "### run on eye videos without triangulation\n",
    "Analyze new eye videos using an network which has already been trained.\n",
    "\n",
    "Enter path of config.yaml file for the project, a path of all videos to be read in, and the destination save path for output .h5 files."
   ]
  },
  {
   "cell_type": "code",
   "execution_count": null,
   "metadata": {},
   "outputs": [],
   "source": [
    "# user inputs\n",
    "eye_config_path = '/path/config.yaml'\n",
    "eyevid_path_list = glob('/path/to/vid/*_deinter.avi')\n",
    "eye_save_path = 'path/to/save/'"
   ]
  },
  {
   "cell_type": "code",
   "execution_count": null,
   "metadata": {},
   "outputs": [],
   "source": [
    "# loop through every eye video and analyze it with DeepLabCut\n",
    "for eyevid_path in eyevid_path_list:\n",
    "    deeplabcut.analyze_videos(eye_config_path, eyevid_path, destfolder=eye_save_path)"
   ]
  }
 ],
 "metadata": {
  "kernelspec": {
   "display_name": "DLC-CPU",
   "language": "python",
   "name": "dlc-cpu"
  },
  "language_info": {
   "codemirror_mode": {
    "name": "ipython",
    "version": 3
   },
   "file_extension": ".py",
   "mimetype": "text/x-python",
   "name": "python",
   "nbconvert_exporter": "python",
   "pygments_lexer": "ipython3",
   "version": "3.7.7"
  }
 },
 "nbformat": 4,
 "nbformat_minor": 4
}
