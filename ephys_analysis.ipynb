{
 "cells": [
  {
   "cell_type": "markdown",
   "metadata": {},
   "source": [
    "# FreelyMovingEphys\n",
    "###  ephys analysis and figures\n",
    "### Dec. 14, 2020\n"
   ]
  },
  {
   "cell_type": "code",
   "execution_count": null,
   "metadata": {},
   "outputs": [],
   "source": [
    "# recording directory (e.g. r'T:\\freely_moving_ephys\\ephys_recordings\\113020/G6H27P8LT\\fm1\\')\n",
    "rec_path = r'T:\\freely_moving_ephys\\ephys_recordings\\113020\\G6H27P8LT\\fm1'\n",
    "# recording name (e.g. '113020_G6H27P8LT_control_Rig2_fm1')\n",
    "rec_name = '113020_G6H27P8LT_control_Rig2_fm1'\n",
    "# is this a freely moving recording? True means the recording to analyze is freely moving, False means headfixed\n",
    "free_move = True\n",
    "# unit to plot/record\n",
    "this_unit = 1"
   ]
  },
  {
   "cell_type": "markdown",
   "metadata": {},
   "source": [
    "### import some functions"
   ]
  },
  {
   "cell_type": "code",
   "execution_count": null,
   "metadata": {},
   "outputs": [],
   "source": [
    "from util.analyze_ephys import find_files"
   ]
  },
  {
   "cell_type": "markdown",
   "metadata": {},
   "source": [
    "### locate files\n",
    "locate the files for this recorind and organize filepaths into a dictionary"
   ]
  },
  {
   "cell_type": "code",
   "execution_count": null,
   "metadata": {},
   "outputs": [],
   "source": [
    "file_dict = find_files(rec_path, rec_name, free_move, this_unit)"
   ]
  },
  {
   "cell_type": "markdown",
   "metadata": {},
   "source": [
    "### make and save figures"
   ]
  },
  {
   "cell_type": "code",
   "execution_count": null,
   "metadata": {},
   "outputs": [],
   "source": [
    "ephys_figures(file_dict)"
   ]
  }
 ],
 "metadata": {
  "kernelspec": {
   "display_name": "DLC-GPU2",
   "language": "python",
   "name": "dlc-gpu2"
  },
  "language_info": {
   "codemirror_mode": {
    "name": "ipython",
    "version": 3
   },
   "file_extension": ".py",
   "mimetype": "text/x-python",
   "name": "python",
   "nbconvert_exporter": "python",
   "pygments_lexer": "ipython3",
   "version": "3.7.9"
  }
 },
 "nbformat": 4,
 "nbformat_minor": 4
}
