{
 "cells": [
  {
   "cell_type": "code",
   "execution_count": 1,
   "metadata": {},
   "outputs": [],
   "source": [
    "import xarray as xr\n",
    "import cv2\n",
    "import os\n",
    "import numpy as np\n",
    "import pandas as pd\n",
    "import matplotlib\n",
    "import matplotlib.pyplot as plt\n",
    "import matplotlib.gridspec as gridspec\n",
    "from matplotlib.backends.backend_pdf import PdfPages\n",
    "from matplotlib.animation import FFMpegWriter\n",
    "from tqdm import tqdm"
   ]
  },
  {
   "cell_type": "code",
   "execution_count": 2,
   "metadata": {},
   "outputs": [],
   "source": [
    "pooled = xr.open_dataset(r'Z:\\jumping\\reform_clipped_vids_DLC_params\\pooled_jump_data.nc')"
   ]
  },
  {
   "cell_type": "code",
   "execution_count": 7,
   "metadata": {},
   "outputs": [],
   "source": [
    "config = {'data_path':'/Users/Niell Lab/Desktop/'}"
   ]
  },
  {
   "cell_type": "code",
   "execution_count": 27,
   "metadata": {},
   "outputs": [],
   "source": [
    "# make plots using the pooled jumping data\n",
    "def pooled_jump_analysis(pooled, config):\n",
    "\n",
    "    pdf = PdfPages(os.path.join(config['data_path'], 'pooled_jump_plots7.pdf'))\n",
    "    \n",
    "    # convert to dataarray so that indexing can be done accross recordings\n",
    "    # this is only needed if there's more than one trial read in, so a try/except is used\n",
    "    try:\n",
    "        pooled_da = pooled.to_array()\n",
    "    except AttributeError:\n",
    "        pooled_da = pooled\n",
    "    # then, get data out for each parameter\n",
    "    all_pitch = pooled_da.sel(jump_params='head_pitch').values\n",
    "    all_phi = pooled_da.sel(jump_params='mean_eye_phi').values\n",
    "    all_div = pooled_da.sel(jump_params='eye_th_div').values\n",
    "    all_th_gaze = pooled_da.sel(jump_params='th_gaze', frame=range(60)).values\n",
    "    all_th_div = pooled_da.sel(jump_params='th_div', frame=range(60)).values\n",
    "    all_th_phi = pooled_da.sel(jump_params='th_phi', frame=range(60)).values\n",
    "    lags = range(-30, 30)\n",
    "    \n",
    "    dwnspl = 100\n",
    "    \n",
    "    # head theta, phi\n",
    "    plt.figure(figsize=(5,5))\n",
    "    plt.plot(all_pitch[::dwnspl], all_phi[::dwnspl], 'k.')\n",
    "    plt.xlabel('head pitch'); plt.ylabel('phi')\n",
    "    plt.xlim([-60,60]); plt.ylim([-30,30])\n",
    "    plt.plot([-60,60],[-60,60],':',color=[0.5,0.5,0.5])\n",
    "    pdf.savefig()\n",
    "    plt.close()\n",
    "    # head theta, eye theta divergence\n",
    "    plt.figure(figsize=(5,5))\n",
    "    plt.plot(all_pitch[::dwnspl], all_div[::dwnspl], 'k.')\n",
    "    plt.xlabel('head pitch'); plt.ylabel('eye theta div')\n",
    "    plt.xlim([-60,60]); plt.ylim([-30,30])\n",
    "    plt.plot([-60,60],[60,-60],':',color=[0.5,0.5,0.5])\n",
    "    pdf.savefig()\n",
    "    plt.close()\n",
    "    # xcorr with head angle\n",
    "    plt.figure(figsize=(5,5))\n",
    "    plt.errorbar(lags, np.mean(all_th_gaze,0), yerr=(np.std(np.array(all_th_gaze,dtype=np.float64),0)/np.sqrt(np.size(all_th_gaze,0))))\n",
    "    plt.errorbar(lags, np.mean(all_th_div,0), yerr=(np.std(np.array(all_th_div,dtype=np.float64),0)/np.sqrt(np.size(all_th_div,0))))\n",
    "    plt.errorbar(lags, np.mean(all_th_phi,0), yerr=(np.std(np.array(all_th_phi,dtype=np.float64),0)/np.sqrt(np.size(all_th_phi,0))))\n",
    "    plt.ylim([-1,1]); plt.ylabel('correlation'); plt.title('xcorr with head pitch')\n",
    "    plt.legend(['mean theta', 'theta divergence', 'mean phi'])\n",
    "    pdf.savefig()\n",
    "    plt.close()\n",
    "\n",
    "    pdf.close()"
   ]
  },
  {
   "cell_type": "code",
   "execution_count": 28,
   "metadata": {},
   "outputs": [],
   "source": [
    "pooled_jump_analysis(pooled, config)"
   ]
  },
  {
   "cell_type": "code",
   "execution_count": null,
   "metadata": {},
   "outputs": [],
   "source": []
  }
 ],
 "metadata": {
  "kernelspec": {
   "display_name": "Python [conda env:.conda-DLC-GPU2]",
   "language": "python",
   "name": "conda-env-.conda-DLC-GPU2-py"
  },
  "language_info": {
   "codemirror_mode": {
    "name": "ipython",
    "version": 3
   },
   "file_extension": ".py",
   "mimetype": "text/x-python",
   "name": "python",
   "nbconvert_exporter": "python",
   "pygments_lexer": "ipython3",
   "version": "3.7.9"
  }
 },
 "nbformat": 4,
 "nbformat_minor": 4
}
