{
 "cells": [
  {
   "cell_type": "code",
   "execution_count": 33,
   "metadata": {},
   "outputs": [],
   "source": [
    "import numpy as np\n",
    "from numpy import nan\n",
    "import matplotlib.pyplot as plt\n",
    "import csv\n",
    "import pandas as pd"
   ]
  },
  {
   "cell_type": "code",
   "execution_count": 202,
   "metadata": {},
   "outputs": [
    {
     "name": "stdout",
     "output_type": "stream",
     "text": [
      "T:\\freely_moving_ephys\\ephys_recordings\\092820\\J524RT\\fm1\n"
     ]
    }
   ],
   "source": [
    "cd T:\\freely_moving_ephys\\ephys_recordings\\092820\\J524RT\\fm1"
   ]
  },
  {
   "cell_type": "code",
   "execution_count": 201,
   "metadata": {},
   "outputs": [
    {
     "name": "stdout",
     "output_type": "stream",
     "text": [
      " Volume in drive T is 8tb internal A\n",
      " Volume Serial Number is 7481-8BF5\n",
      "\n",
      " Directory of T:\\freely_moving_ephys\\ephys_recordings\\092820\\J524RT\n",
      "\n",
      "09/29/2020  04:13 PM    <DIR>          .\n",
      "09/29/2020  04:13 PM    <DIR>          ..\n",
      "09/28/2020  11:27 AM       157,548,544 092820_J524RT_checkerboard_hf_Ephys.bin\n",
      "09/28/2020  11:27 AM           182,704 092820_J524RT_checkerboard_hf_Ephys_BonsaiTS.csv\n",
      "09/28/2020  11:27 AM        27,531,418 092820_J524RT_checkerboard_hf_REYE.avi\n",
      "09/28/2020  11:27 AM            45,410 092820_J524RT_checkerboard_hf_REYE_BonsaiTS.csv\n",
      "09/28/2020  11:27 AM         9,806,568 092820_J524RT_checkerboard_hf_TOP1.avi\n",
      "09/28/2020  11:27 AM            93,537 092820_J524RT_checkerboard_hf_TOP1_BonsaiTS.csv\n",
      "09/28/2020  11:27 AM            88,614 092820_J524RT_checkerboard_hf_TOP1_FlirTS.csv\n",
      "09/28/2020  11:26 AM                 0 092820_J524RT_checkerboard_hf_TOP2_BonsaiTS.csv\n",
      "09/28/2020  11:26 AM                 0 092820_J524RT_checkerboard_hf_TOP2_FlirTS.csv\n",
      "09/28/2020  11:26 AM                 0 092820_J524RT_checkerboard_hf_TOP3_BonsaiTS.csv\n",
      "09/28/2020  11:26 AM                 0 092820_J524RT_checkerboard_hf_TOP3_FlirTS.csv\n",
      "09/28/2020  11:27 AM        90,396,452 092820_J524RT_checkerboard_hf_WORLD.avi\n",
      "09/28/2020  11:27 AM            42,104 092820_J524RT_checkerboard_hf_WORLD_BonsaiTS.csv\n",
      "09/28/2020  12:40 PM     2,289,041,408 092820_J524RT_fm1_Ephys.bin\n",
      "09/28/2020  12:40 PM         2,654,520 092820_J524RT_fm1_Ephys_BonsaiTS.csv\n",
      "09/28/2020  12:40 PM       550,666,828 092820_J524RT_fm1_REYE.avi\n",
      "09/28/2020  12:40 PM           609,767 092820_J524RT_fm1_REYE_BonsaiTS.csv\n",
      "09/28/2020  12:40 PM       244,859,724 092820_J524RT_fm1_TOP1.avi\n",
      "09/28/2020  12:40 PM         1,358,910 092820_J524RT_fm1_TOP1_BonsaiTS.csv\n",
      "09/28/2020  12:40 PM         1,127,392 092820_J524RT_fm1_TOP1_FlirTS.csv\n",
      "09/28/2020  12:40 PM       429,540,342 092820_J524RT_fm1_WORLD.avi\n",
      "09/28/2020  12:40 PM           579,291 092820_J524RT_fm1_WORLD_BonsaiTS.csv\n",
      "09/28/2020  11:51 AM       178,782,208 092820_J524RT_ir_led_hf_Ephys.bin\n",
      "09/28/2020  11:51 AM           207,320 092820_J524RT_ir_led_hf_Ephys_BonsaiTS.csv\n",
      "09/28/2020  11:51 AM        34,190,844 092820_J524RT_ir_led_hf_REYE.avi\n",
      "09/28/2020  11:51 AM            47,557 092820_J524RT_ir_led_hf_REYE_BonsaiTS.csv\n",
      "09/28/2020  11:51 AM        57,713,126 092820_J524RT_ir_led_hf_WORLD.avi\n",
      "09/28/2020  11:51 AM            47,519 092820_J524RT_ir_led_hf_WORLD_BonsaiTS.csv\n",
      "09/28/2020  11:46 AM     1,276,903,424 092820_J524RT_whitenoise_hf_Ephys.bin\n",
      "09/28/2020  11:46 AM         1,480,784 092820_J524RT_whitenoise_hf_Ephys_BonsaiTS.csv\n",
      "09/28/2020  11:46 AM       240,088,972 092820_J524RT_whitenoise_hf_REYE.avi\n",
      "09/28/2020  11:46 AM           341,145 092820_J524RT_whitenoise_hf_REYE_BonsaiTS.csv\n",
      "09/28/2020  11:46 AM       304,569,330 092820_J524RT_whitenoise_hf_WORLD.avi\n",
      "09/28/2020  11:46 AM           339,408 092820_J524RT_whitenoise_hf_WORLD_BonsaiTS.csv\n",
      "09/29/2020  10:39 AM    <DIR>          fm1\n",
      "09/29/2020  02:38 PM    <DIR>          whitenoise_hf1\n",
      "              34 File(s)  5,900,885,170 bytes\n",
      "               4 Dir(s)  6,743,045,890,048 bytes free\n"
     ]
    }
   ],
   "source": [
    "ls"
   ]
  },
  {
   "cell_type": "code",
   "execution_count": 203,
   "metadata": {},
   "outputs": [
    {
     "data": {
      "text/plain": [
       "1192.2076666666667"
      ]
     },
     "execution_count": 203,
     "metadata": {},
     "output_type": "execute_result"
    }
   ],
   "source": [
    "framerate = 30000\n",
    "allSpikeT = np.load('spike_times.npy')\n",
    "allSpikeT = allSpikeT/framerate  # should be a lookup table with timestamps\n",
    "duration = np.max(allSpikeT)\n",
    "duration"
   ]
  },
  {
   "cell_type": "code",
   "execution_count": 204,
   "metadata": {},
   "outputs": [
    {
     "data": {
      "text/html": [
       "<div>\n",
       "<style scoped>\n",
       "    .dataframe tbody tr th:only-of-type {\n",
       "        vertical-align: middle;\n",
       "    }\n",
       "\n",
       "    .dataframe tbody tr th {\n",
       "        vertical-align: top;\n",
       "    }\n",
       "\n",
       "    .dataframe thead th {\n",
       "        text-align: right;\n",
       "    }\n",
       "</style>\n",
       "<table border=\"1\" class=\"dataframe\">\n",
       "  <thead>\n",
       "    <tr style=\"text-align: right;\">\n",
       "      <th></th>\n",
       "      <th>Amplitude</th>\n",
       "      <th>ContamPct</th>\n",
       "      <th>KSLabel</th>\n",
       "      <th>amp</th>\n",
       "      <th>ch</th>\n",
       "      <th>depth</th>\n",
       "      <th>fr</th>\n",
       "      <th>group</th>\n",
       "      <th>n_spikes</th>\n",
       "      <th>sh</th>\n",
       "    </tr>\n",
       "    <tr>\n",
       "      <th>id</th>\n",
       "      <th></th>\n",
       "      <th></th>\n",
       "      <th></th>\n",
       "      <th></th>\n",
       "      <th></th>\n",
       "      <th></th>\n",
       "      <th></th>\n",
       "      <th></th>\n",
       "      <th></th>\n",
       "      <th></th>\n",
       "    </tr>\n",
       "  </thead>\n",
       "  <tbody>\n",
       "    <tr>\n",
       "      <th>0</th>\n",
       "      <td>383.9</td>\n",
       "      <td>8.9</td>\n",
       "      <td>good</td>\n",
       "      <td>31.474401</td>\n",
       "      <td>0</td>\n",
       "      <td>1.0</td>\n",
       "      <td>9.410262</td>\n",
       "      <td>good</td>\n",
       "      <td>11219</td>\n",
       "      <td>0</td>\n",
       "    </tr>\n",
       "    <tr>\n",
       "      <th>1</th>\n",
       "      <td>315.4</td>\n",
       "      <td>39.3</td>\n",
       "      <td>mua</td>\n",
       "      <td>23.014782</td>\n",
       "      <td>0</td>\n",
       "      <td>1.0</td>\n",
       "      <td>4.292032</td>\n",
       "      <td>noise</td>\n",
       "      <td>5117</td>\n",
       "      <td>0</td>\n",
       "    </tr>\n",
       "    <tr>\n",
       "      <th>2</th>\n",
       "      <td>427.5</td>\n",
       "      <td>6.7</td>\n",
       "      <td>good</td>\n",
       "      <td>33.772884</td>\n",
       "      <td>0</td>\n",
       "      <td>1.0</td>\n",
       "      <td>4.480758</td>\n",
       "      <td>good</td>\n",
       "      <td>5342</td>\n",
       "      <td>0</td>\n",
       "    </tr>\n",
       "    <tr>\n",
       "      <th>3</th>\n",
       "      <td>212.9</td>\n",
       "      <td>0.3</td>\n",
       "      <td>good</td>\n",
       "      <td>14.963311</td>\n",
       "      <td>3</td>\n",
       "      <td>4.0</td>\n",
       "      <td>52.519312</td>\n",
       "      <td>noise</td>\n",
       "      <td>62614</td>\n",
       "      <td>0</td>\n",
       "    </tr>\n",
       "    <tr>\n",
       "      <th>4</th>\n",
       "      <td>419.4</td>\n",
       "      <td>7688.6</td>\n",
       "      <td>mua</td>\n",
       "      <td>14.540514</td>\n",
       "      <td>5</td>\n",
       "      <td>6.0</td>\n",
       "      <td>0.119945</td>\n",
       "      <td>noise</td>\n",
       "      <td>143</td>\n",
       "      <td>0</td>\n",
       "    </tr>\n",
       "    <tr>\n",
       "      <th>...</th>\n",
       "      <td>...</td>\n",
       "      <td>...</td>\n",
       "      <td>...</td>\n",
       "      <td>...</td>\n",
       "      <td>...</td>\n",
       "      <td>...</td>\n",
       "      <td>...</td>\n",
       "      <td>...</td>\n",
       "      <td>...</td>\n",
       "      <td>...</td>\n",
       "    </tr>\n",
       "    <tr>\n",
       "      <th>60</th>\n",
       "      <td>227.9</td>\n",
       "      <td>41.4</td>\n",
       "      <td>mua</td>\n",
       "      <td>15.748152</td>\n",
       "      <td>14</td>\n",
       "      <td>15.0</td>\n",
       "      <td>1.347079</td>\n",
       "      <td>noise</td>\n",
       "      <td>1606</td>\n",
       "      <td>0</td>\n",
       "    </tr>\n",
       "    <tr>\n",
       "      <th>61</th>\n",
       "      <td>407.9</td>\n",
       "      <td>433.3</td>\n",
       "      <td>mua</td>\n",
       "      <td>24.803701</td>\n",
       "      <td>12</td>\n",
       "      <td>13.0</td>\n",
       "      <td>0.102331</td>\n",
       "      <td>noise</td>\n",
       "      <td>122</td>\n",
       "      <td>0</td>\n",
       "    </tr>\n",
       "    <tr>\n",
       "      <th>62</th>\n",
       "      <td>444.9</td>\n",
       "      <td>64.6</td>\n",
       "      <td>mua</td>\n",
       "      <td>28.681179</td>\n",
       "      <td>15</td>\n",
       "      <td>16.0</td>\n",
       "      <td>1.807569</td>\n",
       "      <td>noise</td>\n",
       "      <td>2155</td>\n",
       "      <td>0</td>\n",
       "    </tr>\n",
       "    <tr>\n",
       "      <th>63</th>\n",
       "      <td>880.2</td>\n",
       "      <td>7.3</td>\n",
       "      <td>good</td>\n",
       "      <td>46.786968</td>\n",
       "      <td>5</td>\n",
       "      <td>6.0</td>\n",
       "      <td>2.664801</td>\n",
       "      <td>good</td>\n",
       "      <td>3177</td>\n",
       "      <td>0</td>\n",
       "    </tr>\n",
       "    <tr>\n",
       "      <th>64</th>\n",
       "      <td>1982.9</td>\n",
       "      <td>0.0</td>\n",
       "      <td>good</td>\n",
       "      <td>73.811607</td>\n",
       "      <td>8</td>\n",
       "      <td>9.0</td>\n",
       "      <td>0.931045</td>\n",
       "      <td>good</td>\n",
       "      <td>1110</td>\n",
       "      <td>0</td>\n",
       "    </tr>\n",
       "  </tbody>\n",
       "</table>\n",
       "<p>63 rows × 10 columns</p>\n",
       "</div>"
      ],
      "text/plain": [
       "    Amplitude  ContamPct KSLabel        amp  ch  depth         fr  group  \\\n",
       "id                                                                         \n",
       "0       383.9        8.9    good  31.474401   0    1.0   9.410262   good   \n",
       "1       315.4       39.3     mua  23.014782   0    1.0   4.292032  noise   \n",
       "2       427.5        6.7    good  33.772884   0    1.0   4.480758   good   \n",
       "3       212.9        0.3    good  14.963311   3    4.0  52.519312  noise   \n",
       "4       419.4     7688.6     mua  14.540514   5    6.0   0.119945  noise   \n",
       "..        ...        ...     ...        ...  ..    ...        ...    ...   \n",
       "60      227.9       41.4     mua  15.748152  14   15.0   1.347079  noise   \n",
       "61      407.9      433.3     mua  24.803701  12   13.0   0.102331  noise   \n",
       "62      444.9       64.6     mua  28.681179  15   16.0   1.807569  noise   \n",
       "63      880.2        7.3    good  46.786968   5    6.0   2.664801   good   \n",
       "64     1982.9        0.0    good  73.811607   8    9.0   0.931045   good   \n",
       "\n",
       "    n_spikes  sh  \n",
       "id                \n",
       "0      11219   0  \n",
       "1       5117   0  \n",
       "2       5342   0  \n",
       "3      62614   0  \n",
       "4        143   0  \n",
       "..       ...  ..  \n",
       "60      1606   0  \n",
       "61       122   0  \n",
       "62      2155   0  \n",
       "63      3177   0  \n",
       "64      1110   0  \n",
       "\n",
       "[63 rows x 10 columns]"
      ]
     },
     "execution_count": 204,
     "metadata": {},
     "output_type": "execute_result"
    }
   ],
   "source": [
    "ephys_data = pd.read_csv('cluster_info.tsv',sep = '\\t',index_col=0)\n",
    "ephys_data\n"
   ]
  },
  {
   "cell_type": "raw",
   "metadata": {},
   "source": []
  },
  {
   "cell_type": "code",
   "execution_count": 205,
   "metadata": {},
   "outputs": [
    {
     "data": {
      "text/plain": [
       "array([ 0,  3, 41, ...,  3, 27, 27])"
      ]
     },
     "execution_count": 205,
     "metadata": {},
     "output_type": "execute_result"
    }
   ],
   "source": [
    "clust = np.load('spike_clusters.npy')\n",
    "clust"
   ]
  },
  {
   "cell_type": "code",
   "execution_count": 206,
   "metadata": {},
   "outputs": [
    {
     "data": {
      "text/plain": [
       "Amplitude    float64\n",
       "ContamPct    float64\n",
       "KSLabel       object\n",
       "amp          float64\n",
       "ch             int64\n",
       "depth        float64\n",
       "fr           float64\n",
       "group         object\n",
       "n_spikes       int64\n",
       "sh             int64\n",
       "spikeT        object\n",
       "dtype: object"
      ]
     },
     "execution_count": 206,
     "metadata": {},
     "output_type": "execute_result"
    }
   ],
   "source": [
    "ephys_data['spikeT'] = nan\n",
    "ephys_data['spikeT'] = ephys_data['spikeT'].astype(object)\n",
    "ephys_data.dtypes"
   ]
  },
  {
   "cell_type": "code",
   "execution_count": 207,
   "metadata": {},
   "outputs": [],
   "source": [
    "# get spiketimes for each cluster\n",
    "for c in np.unique(clust):\n",
    "    c\n",
    "    ephys_data.at[c,'spikeT'] =allSpikeT[clust==c].flatten()\n",
    "\n"
   ]
  },
  {
   "cell_type": "code",
   "execution_count": 208,
   "metadata": {},
   "outputs": [],
   "source": [
    "# get waveform templates\n",
    "templates = np.load('templates.npy')\n",
    "templates.shape\n",
    "ephys_data['waveform'] = nan\n",
    "ephys_data['waveform'] = ephys_data['spikeT'].astype(object)\n",
    "for i, ind in enumerate(ephys_data.index):\n",
    "    ephys_data.at[ind,'waveform']= templates[ind,21:,ephys_data.at[ind,'ch']]"
   ]
  },
  {
   "cell_type": "code",
   "execution_count": 220,
   "metadata": {},
   "outputs": [
    {
     "data": {
      "text/html": [
       "<div>\n",
       "<style scoped>\n",
       "    .dataframe tbody tr th:only-of-type {\n",
       "        vertical-align: middle;\n",
       "    }\n",
       "\n",
       "    .dataframe tbody tr th {\n",
       "        vertical-align: top;\n",
       "    }\n",
       "\n",
       "    .dataframe thead th {\n",
       "        text-align: right;\n",
       "    }\n",
       "</style>\n",
       "<table border=\"1\" class=\"dataframe\">\n",
       "  <thead>\n",
       "    <tr style=\"text-align: right;\">\n",
       "      <th></th>\n",
       "      <th>Amplitude</th>\n",
       "      <th>ContamPct</th>\n",
       "      <th>KSLabel</th>\n",
       "      <th>amp</th>\n",
       "      <th>ch</th>\n",
       "      <th>depth</th>\n",
       "      <th>fr</th>\n",
       "      <th>group</th>\n",
       "      <th>n_spikes</th>\n",
       "      <th>sh</th>\n",
       "      <th>spikeT</th>\n",
       "      <th>waveform</th>\n",
       "    </tr>\n",
       "    <tr>\n",
       "      <th>id</th>\n",
       "      <th></th>\n",
       "      <th></th>\n",
       "      <th></th>\n",
       "      <th></th>\n",
       "      <th></th>\n",
       "      <th></th>\n",
       "      <th></th>\n",
       "      <th></th>\n",
       "      <th></th>\n",
       "      <th></th>\n",
       "      <th></th>\n",
       "      <th></th>\n",
       "    </tr>\n",
       "  </thead>\n",
       "  <tbody>\n",
       "    <tr>\n",
       "      <th>0</th>\n",
       "      <td>383.9</td>\n",
       "      <td>8.9</td>\n",
       "      <td>good</td>\n",
       "      <td>31.474401</td>\n",
       "      <td>0</td>\n",
       "      <td>1.0</td>\n",
       "      <td>9.410262</td>\n",
       "      <td>good</td>\n",
       "      <td>11219</td>\n",
       "      <td>0</td>\n",
       "      <td>[0.0052, 0.1723, 0.3153666666666667, 0.3792, 0...</td>\n",
       "      <td>[-0.0043589817, -0.005534245, -0.006801264, -0...</td>\n",
       "    </tr>\n",
       "    <tr>\n",
       "      <th>2</th>\n",
       "      <td>427.5</td>\n",
       "      <td>6.7</td>\n",
       "      <td>good</td>\n",
       "      <td>33.772884</td>\n",
       "      <td>0</td>\n",
       "      <td>1.0</td>\n",
       "      <td>4.480758</td>\n",
       "      <td>good</td>\n",
       "      <td>5342</td>\n",
       "      <td>0</td>\n",
       "      <td>[0.2502333333333333, 0.3950666666666667, 0.400...</td>\n",
       "      <td>[7.201318e-05, -0.014391127, -0.010996173, -0....</td>\n",
       "    </tr>\n",
       "    <tr>\n",
       "      <th>5</th>\n",
       "      <td>900.6</td>\n",
       "      <td>7.7</td>\n",
       "      <td>good</td>\n",
       "      <td>37.470116</td>\n",
       "      <td>4</td>\n",
       "      <td>5.0</td>\n",
       "      <td>0.900010</td>\n",
       "      <td>good</td>\n",
       "      <td>1073</td>\n",
       "      <td>0</td>\n",
       "      <td>[0.47253333333333336, 1.4617, 1.4748, 1.49, 1....</td>\n",
       "      <td>[0.0023106122, 0.005993641, 0.00474555, 0.0035...</td>\n",
       "    </tr>\n",
       "    <tr>\n",
       "      <th>13</th>\n",
       "      <td>615.3</td>\n",
       "      <td>46.4</td>\n",
       "      <td>mua</td>\n",
       "      <td>39.998573</td>\n",
       "      <td>5</td>\n",
       "      <td>6.0</td>\n",
       "      <td>0.936916</td>\n",
       "      <td>good</td>\n",
       "      <td>1117</td>\n",
       "      <td>0</td>\n",
       "      <td>[2.1380666666666666, 3.807533333333333, 4.0626...</td>\n",
       "      <td>[0.015905505, 0.01845782, 0.012999079, 0.01265...</td>\n",
       "    </tr>\n",
       "    <tr>\n",
       "      <th>22</th>\n",
       "      <td>707.6</td>\n",
       "      <td>9.0</td>\n",
       "      <td>good</td>\n",
       "      <td>69.099602</td>\n",
       "      <td>7</td>\n",
       "      <td>8.0</td>\n",
       "      <td>7.791419</td>\n",
       "      <td>good</td>\n",
       "      <td>9289</td>\n",
       "      <td>0</td>\n",
       "      <td>[0.1991, 0.28746666666666665, 0.32476666666666...</td>\n",
       "      <td>[0.013564532, 0.012236126, 0.010539431, 0.0141...</td>\n",
       "    </tr>\n",
       "    <tr>\n",
       "      <th>23</th>\n",
       "      <td>1157.2</td>\n",
       "      <td>0.4</td>\n",
       "      <td>good</td>\n",
       "      <td>69.374580</td>\n",
       "      <td>7</td>\n",
       "      <td>8.0</td>\n",
       "      <td>33.361598</td>\n",
       "      <td>good</td>\n",
       "      <td>39774</td>\n",
       "      <td>0</td>\n",
       "      <td>[0.17466666666666666, 0.189, 0.559533333333333...</td>\n",
       "      <td>[-0.0042780917, -0.002905198, -0.0022638799, -...</td>\n",
       "    </tr>\n",
       "    <tr>\n",
       "      <th>27</th>\n",
       "      <td>2320.8</td>\n",
       "      <td>2.6</td>\n",
       "      <td>good</td>\n",
       "      <td>89.712242</td>\n",
       "      <td>8</td>\n",
       "      <td>9.0</td>\n",
       "      <td>20.642353</td>\n",
       "      <td>good</td>\n",
       "      <td>24610</td>\n",
       "      <td>0</td>\n",
       "      <td>[0.0619, 0.11183333333333334, 0.12313333333333...</td>\n",
       "      <td>[0.028593952, 0.00883107, 0.011988317, 0.01016...</td>\n",
       "    </tr>\n",
       "    <tr>\n",
       "      <th>31</th>\n",
       "      <td>946.6</td>\n",
       "      <td>6.7</td>\n",
       "      <td>good</td>\n",
       "      <td>73.780571</td>\n",
       "      <td>8</td>\n",
       "      <td>9.0</td>\n",
       "      <td>4.254287</td>\n",
       "      <td>good</td>\n",
       "      <td>5072</td>\n",
       "      <td>0</td>\n",
       "      <td>[1.7500666666666667, 2.2780666666666667, 4.697...</td>\n",
       "      <td>[0.023237778, 0.025709478, 0.024878792, 0.0255...</td>\n",
       "    </tr>\n",
       "    <tr>\n",
       "      <th>35</th>\n",
       "      <td>975.2</td>\n",
       "      <td>4.6</td>\n",
       "      <td>good</td>\n",
       "      <td>60.720009</td>\n",
       "      <td>8</td>\n",
       "      <td>9.0</td>\n",
       "      <td>13.105923</td>\n",
       "      <td>good</td>\n",
       "      <td>15625</td>\n",
       "      <td>0</td>\n",
       "      <td>[0.039, 0.1157, 0.18506666666666666, 0.2453, 0...</td>\n",
       "      <td>[-0.0037945388, -0.0011765561, -0.003106528, -...</td>\n",
       "    </tr>\n",
       "    <tr>\n",
       "      <th>36</th>\n",
       "      <td>681.5</td>\n",
       "      <td>8.7</td>\n",
       "      <td>good</td>\n",
       "      <td>50.105167</td>\n",
       "      <td>10</td>\n",
       "      <td>11.0</td>\n",
       "      <td>4.209832</td>\n",
       "      <td>good</td>\n",
       "      <td>5019</td>\n",
       "      <td>0</td>\n",
       "      <td>[0.6080333333333333, 0.6903333333333334, 0.715...</td>\n",
       "      <td>[0.003321795, 0.006836787, 0.0069776815, 0.007...</td>\n",
       "    </tr>\n",
       "    <tr>\n",
       "      <th>43</th>\n",
       "      <td>814.7</td>\n",
       "      <td>7.8</td>\n",
       "      <td>good</td>\n",
       "      <td>44.519928</td>\n",
       "      <td>11</td>\n",
       "      <td>12.0</td>\n",
       "      <td>3.212524</td>\n",
       "      <td>good</td>\n",
       "      <td>3830</td>\n",
       "      <td>0</td>\n",
       "      <td>[1.2076333333333333, 1.3523666666666667, 1.394...</td>\n",
       "      <td>[0.017649947, 0.0035265898, 0.006606704, 0.003...</td>\n",
       "    </tr>\n",
       "    <tr>\n",
       "      <th>63</th>\n",
       "      <td>880.2</td>\n",
       "      <td>7.3</td>\n",
       "      <td>good</td>\n",
       "      <td>46.786968</td>\n",
       "      <td>5</td>\n",
       "      <td>6.0</td>\n",
       "      <td>2.664801</td>\n",
       "      <td>good</td>\n",
       "      <td>3177</td>\n",
       "      <td>0</td>\n",
       "      <td>[0.1915, 0.9548333333333333, 1.206933333333333...</td>\n",
       "      <td>[0.027814072, 0.01841049, 0.020444088, 0.02017...</td>\n",
       "    </tr>\n",
       "    <tr>\n",
       "      <th>64</th>\n",
       "      <td>1982.9</td>\n",
       "      <td>0.0</td>\n",
       "      <td>good</td>\n",
       "      <td>73.811607</td>\n",
       "      <td>8</td>\n",
       "      <td>9.0</td>\n",
       "      <td>0.931045</td>\n",
       "      <td>good</td>\n",
       "      <td>1110</td>\n",
       "      <td>0</td>\n",
       "      <td>[1.1519, 4.1536333333333335, 4.1565, 5.2526, 9...</td>\n",
       "      <td>[0.028901273, 0.00034753885, 0.004376146, 0.00...</td>\n",
       "    </tr>\n",
       "  </tbody>\n",
       "</table>\n",
       "</div>"
      ],
      "text/plain": [
       "    Amplitude  ContamPct KSLabel        amp  ch  depth         fr group  \\\n",
       "id                                                                        \n",
       "0       383.9        8.9    good  31.474401   0    1.0   9.410262  good   \n",
       "2       427.5        6.7    good  33.772884   0    1.0   4.480758  good   \n",
       "5       900.6        7.7    good  37.470116   4    5.0   0.900010  good   \n",
       "13      615.3       46.4     mua  39.998573   5    6.0   0.936916  good   \n",
       "22      707.6        9.0    good  69.099602   7    8.0   7.791419  good   \n",
       "23     1157.2        0.4    good  69.374580   7    8.0  33.361598  good   \n",
       "27     2320.8        2.6    good  89.712242   8    9.0  20.642353  good   \n",
       "31      946.6        6.7    good  73.780571   8    9.0   4.254287  good   \n",
       "35      975.2        4.6    good  60.720009   8    9.0  13.105923  good   \n",
       "36      681.5        8.7    good  50.105167  10   11.0   4.209832  good   \n",
       "43      814.7        7.8    good  44.519928  11   12.0   3.212524  good   \n",
       "63      880.2        7.3    good  46.786968   5    6.0   2.664801  good   \n",
       "64     1982.9        0.0    good  73.811607   8    9.0   0.931045  good   \n",
       "\n",
       "    n_spikes  sh                                             spikeT  \\\n",
       "id                                                                    \n",
       "0      11219   0  [0.0052, 0.1723, 0.3153666666666667, 0.3792, 0...   \n",
       "2       5342   0  [0.2502333333333333, 0.3950666666666667, 0.400...   \n",
       "5       1073   0  [0.47253333333333336, 1.4617, 1.4748, 1.49, 1....   \n",
       "13      1117   0  [2.1380666666666666, 3.807533333333333, 4.0626...   \n",
       "22      9289   0  [0.1991, 0.28746666666666665, 0.32476666666666...   \n",
       "23     39774   0  [0.17466666666666666, 0.189, 0.559533333333333...   \n",
       "27     24610   0  [0.0619, 0.11183333333333334, 0.12313333333333...   \n",
       "31      5072   0  [1.7500666666666667, 2.2780666666666667, 4.697...   \n",
       "35     15625   0  [0.039, 0.1157, 0.18506666666666666, 0.2453, 0...   \n",
       "36      5019   0  [0.6080333333333333, 0.6903333333333334, 0.715...   \n",
       "43      3830   0  [1.2076333333333333, 1.3523666666666667, 1.394...   \n",
       "63      3177   0  [0.1915, 0.9548333333333333, 1.206933333333333...   \n",
       "64      1110   0  [1.1519, 4.1536333333333335, 4.1565, 5.2526, 9...   \n",
       "\n",
       "                                             waveform  \n",
       "id                                                     \n",
       "0   [-0.0043589817, -0.005534245, -0.006801264, -0...  \n",
       "2   [7.201318e-05, -0.014391127, -0.010996173, -0....  \n",
       "5   [0.0023106122, 0.005993641, 0.00474555, 0.0035...  \n",
       "13  [0.015905505, 0.01845782, 0.012999079, 0.01265...  \n",
       "22  [0.013564532, 0.012236126, 0.010539431, 0.0141...  \n",
       "23  [-0.0042780917, -0.002905198, -0.0022638799, -...  \n",
       "27  [0.028593952, 0.00883107, 0.011988317, 0.01016...  \n",
       "31  [0.023237778, 0.025709478, 0.024878792, 0.0255...  \n",
       "35  [-0.0037945388, -0.0011765561, -0.003106528, -...  \n",
       "36  [0.003321795, 0.006836787, 0.0069776815, 0.007...  \n",
       "43  [0.017649947, 0.0035265898, 0.006606704, 0.003...  \n",
       "63  [0.027814072, 0.01841049, 0.020444088, 0.02017...  \n",
       "64  [0.028901273, 0.00034753885, 0.004376146, 0.00...  "
      ]
     },
     "execution_count": 220,
     "metadata": {},
     "output_type": "execute_result"
    }
   ],
   "source": [
    "goodcells = ephys_data.loc[ephys_data['group']=='good']\n",
    "goodcells\n"
   ]
  },
  {
   "cell_type": "code",
   "execution_count": 211,
   "metadata": {},
   "outputs": [
    {
     "data": {
      "image/png": "[encoded data removed]",
      "text/plain": [
       "<Figure size 432x288 with 13 Axes>"
      ]
     },
     "metadata": {
      "needs_background": "light"
     },
     "output_type": "display_data"
    }
   ],
   "source": [
    "# plot spike firing rate\n",
    "for i,ind in enumerate(goodcells.index):\n",
    "   plt.subplot(7,2,i+1) \n",
    "   plt.hist(goodcells.at[ind,'spikeT'],bins = np.arange(0,np.max(allSpikeT),1))\n",
    "   plt.xlim(0, 120); plt.xlabel('secs'); plt.ylabel('sp/sec')"
   ]
  },
  {
   "cell_type": "code",
   "execution_count": 237,
   "metadata": {},
   "outputs": [
    {
     "data": {
      "image/png": "[encoded data removed]",
      "text/plain": [
       "<Figure size 1440x576 with 1 Axes>"
      ]
     },
     "metadata": {
      "needs_background": "light"
     },
     "output_type": "display_data"
    }
   ],
   "source": [
    "#spike rasters\n",
    "fig, ax = plt.subplots(figsize=(20,8))\n",
    "ax.fontsize = 20\n",
    "for i,ind in enumerate(goodcells[goodcells['fr']<20].index):\n",
    "   plt.vlines(goodcells.at[ind,'spikeT'],i-0.25, i+0.25)\n",
    "   plt.xlim(0, 17); plt.xlabel('secs',fontsize = 20); plt.ylabel('unit #',fontsize=20)\n",
    "ax.spines['right'].set_visible(False)\n",
    "ax.spines['top'].set_visible(False)\n",
    "plt.savefig('spikeraster.pdf')"
   ]
  },
  {
   "cell_type": "code",
   "execution_count": 145,
   "metadata": {
    "scrolled": false
   },
   "outputs": [
    {
     "data": {
      "image/png": "[encoded data removed]",
      "text/plain": [
       "<Figure size 432x288 with 9 Axes>"
      ]
     },
     "metadata": {
      "needs_background": "light"
     },
     "output_type": "display_data"
    }
   ],
   "source": [
    "# cycle average firing rate\n",
    "ncyc = duration/10\n",
    "for i,ind in enumerate(goodcells.index):\n",
    "   plt.subplot(7,2,i+1) \n",
    "   plt.hist(goodcells.at[ind,'spikeT']%10,bins = 10) # should be normalized by ncyc, so get data from hist and divide by ncyc before plotting\n",
    "   plt.xlabel('secs')"
   ]
  },
  {
   "cell_type": "code",
   "execution_count": 184,
   "metadata": {},
   "outputs": [],
   "source": [
    "\n"
   ]
  },
  {
   "cell_type": "code",
   "execution_count": 213,
   "metadata": {},
   "outputs": [
    {
     "ename": "ValueError",
     "evalue": "num must be 1 <= num <= 10, not 11",
     "output_type": "error",
     "traceback": [
      "\u001b[1;31m---------------------------------------------------------------------------\u001b[0m",
      "\u001b[1;31mValueError\u001b[0m                                Traceback (most recent call last)",
      "\u001b[1;32m<ipython-input-213-bd93c43a8eed>\u001b[0m in \u001b[0;36m<module>\u001b[1;34m\u001b[0m\n\u001b[0;32m      1\u001b[0m \u001b[1;31m# plot waveforms\u001b[0m\u001b[1;33m\u001b[0m\u001b[1;33m\u001b[0m\u001b[1;33m\u001b[0m\u001b[0m\n\u001b[0;32m      2\u001b[0m \u001b[1;32mfor\u001b[0m \u001b[0mi\u001b[0m\u001b[1;33m,\u001b[0m\u001b[0mind\u001b[0m \u001b[1;32min\u001b[0m \u001b[0menumerate\u001b[0m\u001b[1;33m(\u001b[0m\u001b[0mgoodcells\u001b[0m\u001b[1;33m.\u001b[0m\u001b[0mindex\u001b[0m\u001b[1;33m)\u001b[0m\u001b[1;33m:\u001b[0m\u001b[1;33m\u001b[0m\u001b[1;33m\u001b[0m\u001b[0m\n\u001b[1;32m----> 3\u001b[1;33m    \u001b[0mplt\u001b[0m\u001b[1;33m.\u001b[0m\u001b[0msubplot\u001b[0m\u001b[1;33m(\u001b[0m\u001b[1;36m5\u001b[0m\u001b[1;33m,\u001b[0m\u001b[1;36m2\u001b[0m\u001b[1;33m,\u001b[0m\u001b[0mi\u001b[0m\u001b[1;33m+\u001b[0m\u001b[1;36m1\u001b[0m\u001b[1;33m)\u001b[0m\u001b[1;33m\u001b[0m\u001b[1;33m\u001b[0m\u001b[0m\n\u001b[0m\u001b[0;32m      4\u001b[0m    \u001b[0mplt\u001b[0m\u001b[1;33m.\u001b[0m\u001b[0mplot\u001b[0m\u001b[1;33m(\u001b[0m\u001b[0mgoodcells\u001b[0m\u001b[1;33m.\u001b[0m\u001b[0mat\u001b[0m\u001b[1;33m[\u001b[0m\u001b[0mind\u001b[0m\u001b[1;33m,\u001b[0m\u001b[1;34m'waveform'\u001b[0m\u001b[1;33m]\u001b[0m\u001b[1;33m)\u001b[0m\u001b[1;33m\u001b[0m\u001b[1;33m\u001b[0m\u001b[0m\n",
      "\u001b[1;32mC:\\ProgramData\\Anaconda3\\lib\\site-packages\\matplotlib\\pyplot.py\u001b[0m in \u001b[0;36msubplot\u001b[1;34m(*args, **kwargs)\u001b[0m\n\u001b[0;32m   1028\u001b[0m \u001b[1;33m\u001b[0m\u001b[0m\n\u001b[0;32m   1029\u001b[0m     \u001b[0mfig\u001b[0m \u001b[1;33m=\u001b[0m \u001b[0mgcf\u001b[0m\u001b[1;33m(\u001b[0m\u001b[1;33m)\u001b[0m\u001b[1;33m\u001b[0m\u001b[1;33m\u001b[0m\u001b[0m\n\u001b[1;32m-> 1030\u001b[1;33m     \u001b[0ma\u001b[0m \u001b[1;33m=\u001b[0m \u001b[0mfig\u001b[0m\u001b[1;33m.\u001b[0m\u001b[0madd_subplot\u001b[0m\u001b[1;33m(\u001b[0m\u001b[1;33m*\u001b[0m\u001b[0margs\u001b[0m\u001b[1;33m,\u001b[0m \u001b[1;33m**\u001b[0m\u001b[0mkwargs\u001b[0m\u001b[1;33m)\u001b[0m\u001b[1;33m\u001b[0m\u001b[1;33m\u001b[0m\u001b[0m\n\u001b[0m\u001b[0;32m   1031\u001b[0m     \u001b[0mbbox\u001b[0m \u001b[1;33m=\u001b[0m \u001b[0ma\u001b[0m\u001b[1;33m.\u001b[0m\u001b[0mbbox\u001b[0m\u001b[1;33m\u001b[0m\u001b[1;33m\u001b[0m\u001b[0m\n\u001b[0;32m   1032\u001b[0m     \u001b[0mbyebye\u001b[0m \u001b[1;33m=\u001b[0m \u001b[1;33m[\u001b[0m\u001b[1;33m]\u001b[0m\u001b[1;33m\u001b[0m\u001b[1;33m\u001b[0m\u001b[0m\n",
      "\u001b[1;32mC:\\ProgramData\\Anaconda3\\lib\\site-packages\\matplotlib\\figure.py\u001b[0m in \u001b[0;36madd_subplot\u001b[1;34m(self, *args, **kwargs)\u001b[0m\n\u001b[0;32m   1417\u001b[0m                     \u001b[0mself\u001b[0m\u001b[1;33m.\u001b[0m\u001b[0m_axstack\u001b[0m\u001b[1;33m.\u001b[0m\u001b[0mremove\u001b[0m\u001b[1;33m(\u001b[0m\u001b[0max\u001b[0m\u001b[1;33m)\u001b[0m\u001b[1;33m\u001b[0m\u001b[1;33m\u001b[0m\u001b[0m\n\u001b[0;32m   1418\u001b[0m \u001b[1;33m\u001b[0m\u001b[0m\n\u001b[1;32m-> 1419\u001b[1;33m             \u001b[0ma\u001b[0m \u001b[1;33m=\u001b[0m \u001b[0msubplot_class_factory\u001b[0m\u001b[1;33m(\u001b[0m\u001b[0mprojection_class\u001b[0m\u001b[1;33m)\u001b[0m\u001b[1;33m(\u001b[0m\u001b[0mself\u001b[0m\u001b[1;33m,\u001b[0m \u001b[1;33m*\u001b[0m\u001b[0margs\u001b[0m\u001b[1;33m,\u001b[0m \u001b[1;33m**\u001b[0m\u001b[0mkwargs\u001b[0m\u001b[1;33m)\u001b[0m\u001b[1;33m\u001b[0m\u001b[1;33m\u001b[0m\u001b[0m\n\u001b[0m\u001b[0;32m   1420\u001b[0m \u001b[1;33m\u001b[0m\u001b[0m\n\u001b[0;32m   1421\u001b[0m         \u001b[1;32mreturn\u001b[0m \u001b[0mself\u001b[0m\u001b[1;33m.\u001b[0m\u001b[0m_add_axes_internal\u001b[0m\u001b[1;33m(\u001b[0m\u001b[0mkey\u001b[0m\u001b[1;33m,\u001b[0m \u001b[0ma\u001b[0m\u001b[1;33m)\u001b[0m\u001b[1;33m\u001b[0m\u001b[1;33m\u001b[0m\u001b[0m\n",
      "\u001b[1;32mC:\\ProgramData\\Anaconda3\\lib\\site-packages\\matplotlib\\axes\\_subplots.py\u001b[0m in \u001b[0;36m__init__\u001b[1;34m(self, fig, *args, **kwargs)\u001b[0m\n\u001b[0;32m     63\u001b[0m             \u001b[1;32melse\u001b[0m\u001b[1;33m:\u001b[0m\u001b[1;33m\u001b[0m\u001b[1;33m\u001b[0m\u001b[0m\n\u001b[0;32m     64\u001b[0m                 \u001b[1;32mif\u001b[0m \u001b[0mnum\u001b[0m \u001b[1;33m<\u001b[0m \u001b[1;36m1\u001b[0m \u001b[1;32mor\u001b[0m \u001b[0mnum\u001b[0m \u001b[1;33m>\u001b[0m \u001b[0mrows\u001b[0m\u001b[1;33m*\u001b[0m\u001b[0mcols\u001b[0m\u001b[1;33m:\u001b[0m\u001b[1;33m\u001b[0m\u001b[1;33m\u001b[0m\u001b[0m\n\u001b[1;32m---> 65\u001b[1;33m                     raise ValueError(\n\u001b[0m\u001b[0;32m     66\u001b[0m                         f\"num must be 1 <= num <= {rows*cols}, not {num}\")\n\u001b[0;32m     67\u001b[0m                 self._subplotspec = GridSpec(\n",
      "\u001b[1;31mValueError\u001b[0m: num must be 1 <= num <= 10, not 11"
     ]
    },
    {
     "data": {
      "image/png": "[encoded data removed]",
      "text/plain": [
       "<Figure size 432x288 with 10 Axes>"
      ]
     },
     "metadata": {
      "needs_background": "light"
     },
     "output_type": "display_data"
    }
   ],
   "source": [
    "# plot waveforms\n",
    "for i,ind in enumerate(goodcells.index):\n",
    "   plt.subplot(5,2,i+1) \n",
    "   plt.plot(goodcells.at[ind,'waveform'])"
   ]
  },
  {
   "cell_type": "code",
   "execution_count": 218,
   "metadata": {},
   "outputs": [
    {
     "ename": "TypeError",
     "evalue": "_get_value() missing 1 required positional argument: 'col'",
     "output_type": "error",
     "traceback": [
      "\u001b[1;31m---------------------------------------------------------------------------\u001b[0m",
      "\u001b[1;31mTypeError\u001b[0m                                 Traceback (most recent call last)",
      "\u001b[1;32m<ipython-input-218-3a25ba84cb95>\u001b[0m in \u001b[0;36m<module>\u001b[1;34m\u001b[0m\n\u001b[1;32m----> 1\u001b[1;33m \u001b[0mgoodcells\u001b[0m\u001b[1;33m.\u001b[0m\u001b[0mat\u001b[0m\u001b[1;33m[\u001b[0m\u001b[1;36m1\u001b[0m\u001b[1;33m]\u001b[0m\u001b[1;33m\u001b[0m\u001b[1;33m\u001b[0m\u001b[0m\n\u001b[0m",
      "\u001b[1;32mC:\\ProgramData\\Anaconda3\\lib\\site-packages\\pandas\\core\\indexing.py\u001b[0m in \u001b[0;36m__getitem__\u001b[1;34m(self, key)\u001b[0m\n\u001b[0;32m   2177\u001b[0m \u001b[1;33m\u001b[0m\u001b[0m\n\u001b[0;32m   2178\u001b[0m         \u001b[0mkey\u001b[0m \u001b[1;33m=\u001b[0m \u001b[0mself\u001b[0m\u001b[1;33m.\u001b[0m\u001b[0m_convert_key\u001b[0m\u001b[1;33m(\u001b[0m\u001b[0mkey\u001b[0m\u001b[1;33m)\u001b[0m\u001b[1;33m\u001b[0m\u001b[1;33m\u001b[0m\u001b[0m\n\u001b[1;32m-> 2179\u001b[1;33m         \u001b[1;32mreturn\u001b[0m \u001b[0mself\u001b[0m\u001b[1;33m.\u001b[0m\u001b[0mobj\u001b[0m\u001b[1;33m.\u001b[0m\u001b[0m_get_value\u001b[0m\u001b[1;33m(\u001b[0m\u001b[1;33m*\u001b[0m\u001b[0mkey\u001b[0m\u001b[1;33m,\u001b[0m \u001b[0mtakeable\u001b[0m\u001b[1;33m=\u001b[0m\u001b[0mself\u001b[0m\u001b[1;33m.\u001b[0m\u001b[0m_takeable\u001b[0m\u001b[1;33m)\u001b[0m\u001b[1;33m\u001b[0m\u001b[1;33m\u001b[0m\u001b[0m\n\u001b[0m\u001b[0;32m   2180\u001b[0m \u001b[1;33m\u001b[0m\u001b[0m\n\u001b[0;32m   2181\u001b[0m     \u001b[1;32mdef\u001b[0m \u001b[0m__setitem__\u001b[0m\u001b[1;33m(\u001b[0m\u001b[0mself\u001b[0m\u001b[1;33m,\u001b[0m \u001b[0mkey\u001b[0m\u001b[1;33m,\u001b[0m \u001b[0mvalue\u001b[0m\u001b[1;33m)\u001b[0m\u001b[1;33m:\u001b[0m\u001b[1;33m\u001b[0m\u001b[1;33m\u001b[0m\u001b[0m\n",
      "\u001b[1;31mTypeError\u001b[0m: _get_value() missing 1 required positional argument: 'col'"
     ]
    }
   ],
   "source": [
    "goodcells.at[1]"
   ]
  },
  {
   "cell_type": "code",
   "execution_count": 188,
   "metadata": {},
   "outputs": [
    {
     "data": {
      "text/plain": [
       "Int64Index([ 0,  1,  2,  3,  4,  5,  6,  7,  8,  9, 10, 11, 12, 13, 14, 15, 16,\n",
       "            17, 18, 19, 20, 21, 22, 23, 24, 25, 26, 28, 29, 30, 31, 32, 33, 35,\n",
       "            36, 37, 39, 40, 41, 42, 43, 44, 45, 46, 47, 48, 49, 50, 51, 52, 53,\n",
       "            54, 55, 56, 57, 58, 59, 60, 61],\n",
       "           dtype='int64', name='id')"
      ]
     },
     "execution_count": 188,
     "metadata": {},
     "output_type": "execute_result"
    }
   ],
   "source": [
    "ephys_data.index"
   ]
  },
  {
   "cell_type": "code",
   "execution_count": null,
   "metadata": {},
   "outputs": [],
   "source": []
  }
 ],
 "metadata": {
  "kernelspec": {
   "display_name": "Python 3",
   "language": "python",
   "name": "python3"
  },
  "language_info": {
   "codemirror_mode": {
    "name": "ipython",
    "version": 3
   },
   "file_extension": ".py",
   "mimetype": "text/x-python",
   "name": "python",
   "nbconvert_exporter": "python",
   "pygments_lexer": "ipython3",
   "version": "3.8.3"
  }
 },
 "nbformat": 4,
 "nbformat_minor": 4
}
