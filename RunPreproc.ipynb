{
 "cells": [
  {
   "cell_type": "code",
   "execution_count": 1,
   "metadata": {},
   "outputs": [],
   "source": [
    "import numpy as np\n",
    "import preprocessing"
   ]
  },
  {
   "cell_type": "code",
   "execution_count": 2,
   "metadata": {},
   "outputs": [],
   "source": [
    "\n",
    "json_path =r\"//kraken/T/freely_moving_ephys/ephys_recordings/111920/G6H28P5LT/preprocessing_config.json\""
   ]
  },
  {
   "cell_type": "code",
   "execution_count": 6,
   "metadata": {},
   "outputs": [
    {
     "output_type": "stream",
     "name": "stdout",
     "text": [
      "formatting electrophysiology recordings for 111920_G6H28P5LT_fm1\n",
      "missing one or more ephys files -- assuming no ephys analysis for this trial\n",
      "tracking TOP1 for 111920_G6H28P5LT_fm1\n",
      "  0%|          | 0/46679 [00:00<?, ?it/s]plotting points on top video\n",
      "100%|██████████| 46679/46679 [07:29<00:00, 103.94it/s]\n",
      "  0%|          | 39/46679 [00:00<02:01, 382.38it/s]formatting video into DataArray\n",
      "100%|██████████| 46679/46679 [01:55<00:00, 404.20it/s]\n",
      "saving...\n",
      "tracking REYE for 111920_G6H28P5LT_fm1\n",
      "fitting ellipse to pupil\n",
      "100%|██████████| 46638/46638 [00:09<00:00, 4868.73it/s]\n",
      "lin alg error count = 2\n",
      "  0%|          | 0/46638 [00:00<?, ?it/s]found 8 as cpu count for multiprocessing\n",
      "getting cross-section of pupil at each angle and fitting to sigmoid (slow)\n",
      "\n"
     ]
    },
    {
     "output_type": "error",
     "ename": "UnboundLocalError",
     "evalue": "local variable 'rfit' referenced before assignment",
     "traceback": [
      "\u001b[1;31m---------------------------------------------------------------------------\u001b[0m",
      "\u001b[1;31mUnboundLocalError\u001b[0m                         Traceback (most recent call last)",
      "\u001b[1;32m<ipython-input-6-d9b8e83dfa0a>\u001b[0m in \u001b[0;36m<module>\u001b[1;34m\u001b[0m\n\u001b[1;32m----> 1\u001b[1;33m \u001b[0mpreprocessing\u001b[0m\u001b[1;33m.\u001b[0m\u001b[0mmain\u001b[0m\u001b[1;33m(\u001b[0m\u001b[0mjson_config_path\u001b[0m\u001b[1;33m=\u001b[0m\u001b[0mjson_path\u001b[0m\u001b[1;33m)\u001b[0m\u001b[1;33m\u001b[0m\u001b[1;33m\u001b[0m\u001b[0m\n\u001b[0m",
      "\u001b[1;32mc:\\Users\\Niell lab\\Documents\\GitHub\\FreelyMovingEphys\\preprocessing.py\u001b[0m in \u001b[0;36mmain\u001b[1;34m(args, json_config_path)\u001b[0m\n\u001b[0;32m     57\u001b[0m     \u001b[1;31m# extract parameters from dlc\u001b[0m\u001b[1;33m\u001b[0m\u001b[1;33m\u001b[0m\u001b[1;33m\u001b[0m\u001b[0m\n\u001b[0;32m     58\u001b[0m     \u001b[1;32mif\u001b[0m \u001b[0msteps\u001b[0m\u001b[1;33m[\u001b[0m\u001b[1;34m'params'\u001b[0m\u001b[1;33m]\u001b[0m \u001b[1;32mis\u001b[0m \u001b[1;32mTrue\u001b[0m\u001b[1;33m:\u001b[0m\u001b[1;33m\u001b[0m\u001b[1;33m\u001b[0m\u001b[0m\n\u001b[1;32m---> 59\u001b[1;33m         \u001b[0mextract_params\u001b[0m\u001b[1;33m(\u001b[0m\u001b[0mconfig\u001b[0m\u001b[1;33m)\u001b[0m\u001b[1;33m\u001b[0m\u001b[1;33m\u001b[0m\u001b[0m\n\u001b[0m\u001b[0;32m     60\u001b[0m \u001b[1;33m\u001b[0m\u001b[0m\n\u001b[0;32m     61\u001b[0m \u001b[1;32mif\u001b[0m \u001b[0m__name__\u001b[0m \u001b[1;33m==\u001b[0m \u001b[1;34m'__main__'\u001b[0m\u001b[1;33m:\u001b[0m\u001b[1;33m\u001b[0m\u001b[1;33m\u001b[0m\u001b[0m\n",
      "\u001b[1;32mc:\\Users\\Niell lab\\Documents\\GitHub\\FreelyMovingEphys\\util\\params.py\u001b[0m in \u001b[0;36mextract_params\u001b[1;34m(config)\u001b[0m\n\u001b[0;32m    174\u001b[0m                 \u001b[1;31m# get pupil rotation and plot video -- slow step\u001b[0m\u001b[1;33m\u001b[0m\u001b[1;33m\u001b[0m\u001b[1;33m\u001b[0m\u001b[0m\n\u001b[0;32m    175\u001b[0m                 \u001b[1;32mif\u001b[0m \u001b[0mconfig\u001b[0m\u001b[1;33m[\u001b[0m\u001b[1;34m'run_pupil_rotation'\u001b[0m\u001b[1;33m]\u001b[0m \u001b[1;32mis\u001b[0m \u001b[1;32mTrue\u001b[0m\u001b[1;33m:\u001b[0m\u001b[1;33m\u001b[0m\u001b[1;33m\u001b[0m\u001b[0m\n\u001b[1;32m--> 176\u001b[1;33m                     \u001b[0mrfit\u001b[0m\u001b[1;33m,\u001b[0m \u001b[0mrfit_conv\u001b[0m\u001b[1;33m,\u001b[0m \u001b[0mshift\u001b[0m \u001b[1;33m=\u001b[0m \u001b[0mpupil_rotation_wrapper\u001b[0m\u001b[1;33m(\u001b[0m\u001b[0meyeparams\u001b[0m\u001b[1;33m,\u001b[0m \u001b[0mconfig\u001b[0m\u001b[1;33m,\u001b[0m \u001b[0mt_name\u001b[0m\u001b[1;33m,\u001b[0m \u001b[0meye_side\u001b[0m\u001b[1;33m)\u001b[0m\u001b[1;33m\u001b[0m\u001b[1;33m\u001b[0m\u001b[0m\n\u001b[0m\u001b[0;32m    177\u001b[0m                 \u001b[1;31m# make videos (only if config says so)\u001b[0m\u001b[1;33m\u001b[0m\u001b[1;33m\u001b[0m\u001b[1;33m\u001b[0m\u001b[0m\n\u001b[0;32m    178\u001b[0m                 \u001b[1;32mif\u001b[0m \u001b[0mconfig\u001b[0m\u001b[1;33m[\u001b[0m\u001b[1;34m'save_vids'\u001b[0m\u001b[1;33m]\u001b[0m \u001b[1;32mis\u001b[0m \u001b[1;32mTrue\u001b[0m\u001b[1;33m:\u001b[0m\u001b[1;33m\u001b[0m\u001b[1;33m\u001b[0m\u001b[0m\n",
      "\u001b[1;32mc:\\Users\\Niell lab\\Documents\\GitHub\\FreelyMovingEphys\\util\\track_world.py\u001b[0m in \u001b[0;36mpupil_rotation_wrapper\u001b[1;34m(eye_params, config, trial_name, side_letter)\u001b[0m\n\u001b[0;32m    162\u001b[0m     \u001b[0meyetimepath\u001b[0m \u001b[1;33m=\u001b[0m \u001b[0mfind\u001b[0m\u001b[1;33m(\u001b[0m\u001b[1;33m(\u001b[0m\u001b[1;34m'*'\u001b[0m \u001b[1;33m+\u001b[0m \u001b[0mtrial_name\u001b[0m \u001b[1;33m+\u001b[0m \u001b[1;34m'*'\u001b[0m \u001b[1;33m+\u001b[0m \u001b[0mside_letter\u001b[0m \u001b[1;33m+\u001b[0m \u001b[1;34m'EYE_BonsaiTSformatted.csv'\u001b[0m\u001b[1;33m)\u001b[0m\u001b[1;33m,\u001b[0m \u001b[0mconfig\u001b[0m\u001b[1;33m[\u001b[0m\u001b[1;34m'data_path'\u001b[0m\u001b[1;33m]\u001b[0m\u001b[1;33m)\u001b[0m\u001b[1;33m[\u001b[0m\u001b[1;36m0\u001b[0m\u001b[1;33m]\u001b[0m\u001b[1;33m\u001b[0m\u001b[1;33m\u001b[0m\u001b[0m\n\u001b[0;32m    163\u001b[0m \u001b[1;33m\u001b[0m\u001b[0m\n\u001b[1;32m--> 164\u001b[1;33m     \u001b[1;32mreturn\u001b[0m \u001b[0mfind_pupil_rotation\u001b[0m\u001b[1;33m(\u001b[0m\u001b[0meyevidpath\u001b[0m\u001b[1;33m,\u001b[0m \u001b[0meyetimepath\u001b[0m\u001b[1;33m,\u001b[0m \u001b[0mtrial_name\u001b[0m\u001b[1;33m,\u001b[0m \u001b[1;34m'REYE'\u001b[0m\u001b[1;33m,\u001b[0m \u001b[0meye_params\u001b[0m\u001b[1;33m,\u001b[0m \u001b[0mconfig\u001b[0m\u001b[1;33m[\u001b[0m\u001b[1;34m'trial_path'\u001b[0m\u001b[1;33m]\u001b[0m\u001b[1;33m,\u001b[0m \u001b[0mconfig\u001b[0m\u001b[1;33m[\u001b[0m\u001b[1;34m'world_interp_method'\u001b[0m\u001b[1;33m]\u001b[0m\u001b[1;33m,\u001b[0m \u001b[0mconfig\u001b[0m\u001b[1;33m[\u001b[0m\u001b[1;34m'range_radius'\u001b[0m\u001b[1;33m]\u001b[0m\u001b[1;33m,\u001b[0m \u001b[0mconfig\u001b[0m\u001b[1;33m)\u001b[0m\u001b[1;33m\u001b[0m\u001b[1;33m\u001b[0m\u001b[0m\n\u001b[0m\u001b[0;32m    165\u001b[0m \u001b[1;33m\u001b[0m\u001b[0m\n\u001b[0;32m    166\u001b[0m \u001b[1;31m# find pupil edge and align over time to calculate cyclotorsion\u001b[0m\u001b[1;33m\u001b[0m\u001b[1;33m\u001b[0m\u001b[1;33m\u001b[0m\u001b[0m\n",
      "\u001b[1;32mc:\\Users\\Niell lab\\Documents\\GitHub\\FreelyMovingEphys\\util\\track_world.py\u001b[0m in \u001b[0;36mfind_pupil_rotation\u001b[1;34m(eyevidpath, eyetimepath, trial_name, eyeext, eye_ell_params, save_path, world_interp_method, ranger, config)\u001b[0m\n\u001b[0;32m    287\u001b[0m             \u001b[0mrfit_conv_xr\u001b[0m\u001b[1;33m[\u001b[0m\u001b[1;34m'frame'\u001b[0m\u001b[1;33m]\u001b[0m \u001b[1;33m=\u001b[0m \u001b[0mstep\u001b[0m\u001b[1;33m\u001b[0m\u001b[1;33m\u001b[0m\u001b[0m\n\u001b[0;32m    288\u001b[0m             \u001b[0mrfit_conv_xr\u001b[0m \u001b[1;33m=\u001b[0m \u001b[0mxr\u001b[0m\u001b[1;33m.\u001b[0m\u001b[0mDataArray\u001b[0m\u001b[1;33m.\u001b[0m\u001b[0mrename\u001b[0m\u001b[1;33m(\u001b[0m\u001b[0mrfit_conv_xr\u001b[0m\u001b[1;33m,\u001b[0m \u001b[1;33m{\u001b[0m\u001b[1;34m'dim_0'\u001b[0m\u001b[1;33m:\u001b[0m\u001b[1;34m'deg'\u001b[0m\u001b[1;33m}\u001b[0m\u001b[1;33m)\u001b[0m\u001b[1;33m\u001b[0m\u001b[1;33m\u001b[0m\u001b[0m\n\u001b[1;32m--> 289\u001b[1;33m \u001b[1;33m\u001b[0m\u001b[0m\n\u001b[0m\u001b[0;32m    290\u001b[0m             \u001b[0mrfit_xr\u001b[0m \u001b[1;33m=\u001b[0m \u001b[0mxr\u001b[0m\u001b[1;33m.\u001b[0m\u001b[0mDataArray\u001b[0m\u001b[1;33m(\u001b[0m\u001b[0mrfit\u001b[0m\u001b[1;33m)\u001b[0m\u001b[1;33m\u001b[0m\u001b[1;33m\u001b[0m\u001b[0m\n\u001b[0;32m    291\u001b[0m             \u001b[0mrfit_xr\u001b[0m\u001b[1;33m[\u001b[0m\u001b[1;34m'frame'\u001b[0m\u001b[1;33m]\u001b[0m \u001b[1;33m=\u001b[0m \u001b[0mstep\u001b[0m\u001b[1;33m\u001b[0m\u001b[1;33m\u001b[0m\u001b[0m\n",
      "\u001b[1;31mUnboundLocalError\u001b[0m: local variable 'rfit' referenced before assignment"
     ]
    }
   ],
   "source": [
    "preprocessing.main(json_config_path=json_path)"
   ]
  },
  {
   "cell_type": "code",
   "execution_count": null,
   "metadata": {},
   "outputs": [],
   "source": []
  }
 ],
 "metadata": {
  "kernelspec": {
   "name": "python3",
   "display_name": "Python 3.7.9 64-bit ('DLC-GPU2': conda)",
   "metadata": {
    "interpreter": {
     "hash": "eb91524d2ab241483300c43237844ff189269564f4d217763936f138cde72789"
    }
   }
  },
  "language_info": {
   "codemirror_mode": {
    "name": "ipython",
    "version": 3
   },
   "file_extension": ".py",
   "mimetype": "text/x-python",
   "name": "python",
   "nbconvert_exporter": "python",
   "pygments_lexer": "ipython3",
   "version": "3.7.9-final"
  }
 },
 "nbformat": 4,
 "nbformat_minor": 2
}