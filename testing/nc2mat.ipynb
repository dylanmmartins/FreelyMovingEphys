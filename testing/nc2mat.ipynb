{
 "cells": [
  {
   "cell_type": "code",
   "execution_count": 6,
   "metadata": {},
   "outputs": [],
   "source": [
    "import xarray as xr\n",
    "from scipy.io import savemat\n",
    "import numpy as np\n",
    "import os, sys\n",
    "sys.path.insert(0, '/Users/Angie Michaiel/Documents/GitHub/FreelyMovingEphys')\n",
    "from util.paths import find"
   ]
  },
  {
   "cell_type": "code",
   "execution_count": 7,
   "metadata": {},
   "outputs": [],
   "source": [
    "base_path = r'D:\\data\\widefield_eyecams\\031121\\G6H277RT'"
   ]
  },
  {
   "cell_type": "code",
   "execution_count": 11,
   "metadata": {},
   "outputs": [],
   "source": [
    "eye_files = find('*Reye*.nc', base_path)\n",
    "for eye_file in eye_files:\n",
    "    data = xr.open_dataset(eye_file)\n",
    "    data_dict = dict(zip(list(data.REYE_ellipse_params['ellipse_params'].values), [data.REYE_ellipse_params.sel(ellipse_params=p).values for p in list(data.REYE_ellipse_params['ellipse_params'].values)]))\n",
    "    save_name = os.path.join(os.path.split(eye_file)[0], os.path.splitext(os.path.split(eye_file)[1])[0])+'.mat'\n",
    "    savemat(save_name, data_dict)"
   ]
  },
  {
   "cell_type": "code",
   "execution_count": null,
   "metadata": {},
   "outputs": [],
   "source": []
  }
 ],
 "metadata": {
  "kernelspec": {
   "display_name": "Python [conda env:DLC-GPU2]",
   "language": "python",
   "name": "conda-env-DLC-GPU2-py"
  },
  "language_info": {
   "codemirror_mode": {
    "name": "ipython",
    "version": 3
   },
   "file_extension": ".py",
   "mimetype": "text/x-python",
   "name": "python",
   "nbconvert_exporter": "python",
   "pygments_lexer": "ipython3",
   "version": "3.7.10"
  }
 },
 "nbformat": 4,
 "nbformat_minor": 4
}
