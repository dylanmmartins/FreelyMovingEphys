{
 "cells": [
  {
   "cell_type": "code",
   "execution_count": 129,
   "metadata": {},
   "outputs": [],
   "source": [
    "merge_file = r'\\\\new-monster\\T\\freely_moving_ephys\\ephys_recordings\\101520\\G6H28P6LT\\fm1_hf1_ephys\\101520_fm1_hf1_merge.mat'\n",
    "config = {'ephys_sample_rate':  30000}"
   ]
  },
  {
   "cell_type": "code",
   "execution_count": 130,
   "metadata": {},
   "outputs": [],
   "source": [
    "# package imports\n",
    "import pandas as pd\n",
    "import numpy as np\n",
    "import xarray as xr\n",
    "import os\n",
    "\n",
    "# module imports\n",
    "from read_data import open_time\n",
    "from scipy.io import loadmat\n",
    "\n",
    "merge_info = loadmat(merge_file)\n",
    "fileList = merge_info['fileList']\n",
    "pathList = merge_info['pathList']\n",
    "nSamps = merge_info['nSamps']\n",
    "\n",
    "#load phy output data\n",
    "phy_path = os.path.split(merge_file)\n",
    "allSpikeT = np.load(os.path.join(phy_path[0],'spike_times.npy'))\n",
    "clust = np.load(os.path.join(phy_path[0],'spike_clusters.npy'))\n",
    "templates = np.load(os.path.join(phy_path[0],'templates.npy'))\n",
    "\n",
    "# ephys_data_master holds information that is same for all recordings (i.e. cluster information + waveform)\n",
    "ephys_data_master = pd.read_csv(os.path.join(phy_path[0],'cluster_info.tsv'),sep = '\\t',index_col=0)\n",
    "\n",
    "# insert waveforms\n",
    "ephys_data_master['waveform'] = np.nan\n",
    "ephys_data_master['waveform'] = ephys_data_master['waveform'].astype(object) # does this need to be an object? spikeT is an object because they are all diff length, but I don't think these need to be -cmn\n",
    "for i, ind in enumerate(ephys_data_master.index):\n",
    "    ephys_data_master.at[ind,'waveform'] = templates[ind,21:,ephys_data_master.at[ind,'ch']]\n",
    "\n",
    "# create boundaries between recordings (in terms of timesamples)\n",
    "boundaries = np.concatenate((np.array([0]),np.cumsum(nSamps)))"
   ]
  },
  {
   "cell_type": "code",
   "execution_count": 131,
   "metadata": {},
   "outputs": [],
   "source": [
    "# loop over each recording and create/save ephys_data for each one\n",
    "for s in range(len(nSamps)+1):\n",
    "\n",
    "    #select spikes in this timerange\n",
    "    use = (allSpikeT >= boundaries[s]) & (allSpikeT<boundaries[s+1] )\n",
    "    theseSpikes = allSpikeT[use]\n",
    "    theseClust = clust[use[:,0]]\n",
    "\n",
    "    #place spikes into ephys data structure\n",
    "    ephys_data = ephys_data_master.copy()\n",
    "    ephys_data['spikeT'] = np.NaN\n",
    "    ephys_data['spikeT'] = ephys_data['spikeT'].astype(object)\n",
    "    for c in np.unique(clust):\n",
    "        ephys_data.at[c,'spikeT'] =(theseSpikes[theseClust==c].flatten() - boundaries[s])/config['ephys_sample_rate'] \n",
    "    \n",
    "    # get timestamp from csv for this recording\n",
    "    fname = fileList[0,s][0].copy()\n",
    "    fname = fname[0:-4] + '_BonsaiTS.csv'\n",
    "    ephys_time_path = os.path.join(pathList[0,s][0],fname)\n",
    "    ephys_data['t0'] = open_time(ephys_time_path)[0]\n",
    "    \n",
    "    #write ephys data into json file\n",
    "    fname = fileList[0,s][0].copy()\n",
    "    fname = fname[0:-10] + '_ephys_merge.json'\n",
    "    ephys_json_path = os.path.join(pathList[0,s][0],fname)\n",
    "    ephys_data.to_json(ephys_json_path)"
   ]
  },
  {
   "cell_type": "code",
   "execution_count": 132,
   "metadata": {},
   "outputs": [
    {
     "data": {
      "text/plain": [
       "'\\\\\\\\new-monster\\\\t\\\\freely_moving_ephys\\\\ephys_recordings\\\\101520\\\\G6H28P6LT\\\\hf1_wn\\\\101520_G6H28P6LT_hf1_wn_Ephys_BonsaiTS.csv'"
      ]
     },
     "execution_count": 132,
     "metadata": {},
     "output_type": "execute_result"
    }
   ],
   "source": [
    "ephys_time_path"
   ]
  },
  {
   "cell_type": "code",
   "execution_count": null,
   "metadata": {},
   "outputs": [],
   "source": []
  }
 ],
 "metadata": {
  "kernelspec": {
   "display_name": "Python 3",
   "language": "python",
   "name": "python3"
  },
  "language_info": {
   "codemirror_mode": {
    "name": "ipython",
    "version": 3
   },
   "file_extension": ".py",
   "mimetype": "text/x-python",
   "name": "python",
   "nbconvert_exporter": "python",
   "pygments_lexer": "ipython3",
   "version": "3.8.3"
  }
 },
 "nbformat": 4,
 "nbformat_minor": 4
}
