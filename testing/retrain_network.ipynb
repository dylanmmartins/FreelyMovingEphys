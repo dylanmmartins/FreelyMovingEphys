{
 "cells": [
  {
   "cell_type": "code",
   "execution_count": 1,
   "metadata": {},
   "outputs": [
    {
     "name": "stderr",
     "output_type": "stream",
     "text": [
      "C:\\Users\\Niell Lab\\.conda\\envs\\DLC-GPU2\\lib\\site-packages\\numpy\\_distributor_init.py:32: UserWarning: loaded more than 1 DLL from .libs:\n",
      "C:\\Users\\Niell Lab\\.conda\\envs\\DLC-GPU2\\lib\\site-packages\\numpy\\.libs\\libopenblas.JPIJNSWNNAN3CE6LLI5FWSPHUT2VXMTH.gfortran-win_amd64.dll\n",
      "C:\\Users\\Niell Lab\\.conda\\envs\\DLC-GPU2\\lib\\site-packages\\numpy\\.libs\\libopenblas.TXA6YQSD3GCQQC22GEQ54J2UDCXDXHWN.gfortran-win_amd64.dll\n",
      "  stacklevel=1)\n",
      "C:\\Users\\Niell Lab\\.conda\\envs\\DLC-GPU2\\lib\\site-packages\\tensorflow\\python\\framework\\dtypes.py:526: FutureWarning: Passing (type, 1) or '1type' as a synonym of type is deprecated; in a future version of numpy, it will be understood as (type, (1,)) / '(1,)type'.\n",
      "  _np_qint8 = np.dtype([(\"qint8\", np.int8, 1)])\n",
      "C:\\Users\\Niell Lab\\.conda\\envs\\DLC-GPU2\\lib\\site-packages\\tensorflow\\python\\framework\\dtypes.py:527: FutureWarning: Passing (type, 1) or '1type' as a synonym of type is deprecated; in a future version of numpy, it will be understood as (type, (1,)) / '(1,)type'.\n",
      "  _np_quint8 = np.dtype([(\"quint8\", np.uint8, 1)])\n",
      "C:\\Users\\Niell Lab\\.conda\\envs\\DLC-GPU2\\lib\\site-packages\\tensorflow\\python\\framework\\dtypes.py:528: FutureWarning: Passing (type, 1) or '1type' as a synonym of type is deprecated; in a future version of numpy, it will be understood as (type, (1,)) / '(1,)type'.\n",
      "  _np_qint16 = np.dtype([(\"qint16\", np.int16, 1)])\n",
      "C:\\Users\\Niell Lab\\.conda\\envs\\DLC-GPU2\\lib\\site-packages\\tensorflow\\python\\framework\\dtypes.py:529: FutureWarning: Passing (type, 1) or '1type' as a synonym of type is deprecated; in a future version of numpy, it will be understood as (type, (1,)) / '(1,)type'.\n",
      "  _np_quint16 = np.dtype([(\"quint16\", np.uint16, 1)])\n",
      "C:\\Users\\Niell Lab\\.conda\\envs\\DLC-GPU2\\lib\\site-packages\\tensorflow\\python\\framework\\dtypes.py:530: FutureWarning: Passing (type, 1) or '1type' as a synonym of type is deprecated; in a future version of numpy, it will be understood as (type, (1,)) / '(1,)type'.\n",
      "  _np_qint32 = np.dtype([(\"qint32\", np.int32, 1)])\n",
      "C:\\Users\\Niell Lab\\.conda\\envs\\DLC-GPU2\\lib\\site-packages\\tensorflow\\python\\framework\\dtypes.py:535: FutureWarning: Passing (type, 1) or '1type' as a synonym of type is deprecated; in a future version of numpy, it will be understood as (type, (1,)) / '(1,)type'.\n",
      "  np_resource = np.dtype([(\"resource\", np.ubyte, 1)])\n"
     ]
    }
   ],
   "source": [
    "import deeplabcut \n",
    "import os\n",
    "from glob import glob\n",
    "from tqdm import trange, tqdm\n",
    "from tkinter import filedialog\n",
    "import tkinter as tk"
   ]
  },
  {
   "cell_type": "code",
   "execution_count": 2,
   "metadata": {},
   "outputs": [],
   "source": [
    "config_path = r'C:\\Users\\Niell Lab\\Documents\\deeplabcut_projects\\EphysEyeCams3-dylan-2021-02-02\\config.yaml'"
   ]
  },
  {
   "cell_type": "code",
   "execution_count": null,
   "metadata": {},
   "outputs": [],
   "source": [
    "new_vids = glob(r'C:/Users/Niell Lab/Desktop/EphysEyeCams3_retrain_videos/*.avi')\n",
    "new_vids"
   ]
  },
  {
   "cell_type": "code",
   "execution_count": null,
   "metadata": {},
   "outputs": [],
   "source": [
    "len(new_vids)"
   ]
  },
  {
   "cell_type": "code",
   "execution_count": null,
   "metadata": {},
   "outputs": [],
   "source": [
    "deeplabcut.add_new_videos(config_path,new_vids,copy_videos=True)"
   ]
  },
  {
   "cell_type": "code",
   "execution_count": null,
   "metadata": {},
   "outputs": [],
   "source": [
    "deeplabcut.extract_frames(config_path, mode='automatic', algo='uniform', userfeedback=False, crop=False)"
   ]
  },
  {
   "cell_type": "code",
   "execution_count": null,
   "metadata": {},
   "outputs": [],
   "source": [
    "deeplabcut.label_frames(config_path)"
   ]
  },
  {
   "cell_type": "code",
   "execution_count": 3,
   "metadata": {},
   "outputs": [
    {
     "name": "stdout",
     "output_type": "stream",
     "text": [
      "Merged data sets and updated refinement iteration to 1.\n",
      "Now you can create a new training set for the expanded annotated images (use create_training_dataset).\n"
     ]
    }
   ],
   "source": [
    "deeplabcut.merge_datasets(config_path)"
   ]
  },
  {
   "cell_type": "code",
   "execution_count": 4,
   "metadata": {},
   "outputs": [
    {
     "name": "stdout",
     "output_type": "stream",
     "text": [
      "The training dataset is successfully created. Use the function 'train_network' to start training. Happy training!\n"
     ]
    },
    {
     "data": {
      "text/plain": [
       "[(0.95,\n",
       "  1,\n",
       "  (array([308, 116, 339, 265,  63, 200, 144,  26, 170, 249, 189, 355, 259,\n",
       "          103, 218, 331,  96, 135, 241, 117, 157,  51, 276, 392, 102,  71,\n",
       "          325,  32, 404, 382, 319, 210, 224,  55, 244, 231, 175, 164,  69,\n",
       "          380, 287, 159, 293, 233,  54,  13, 150, 328, 385, 290, 148, 303,\n",
       "          173,  28,  70, 248, 269, 408, 152,  38, 371, 346, 208, 388,  23,\n",
       "          262, 216, 106,  30, 132, 107, 176, 171, 294, 167,  22, 309, 145,\n",
       "          221, 271,  15, 361, 381,  83, 203, 376, 406, 356, 379, 125,  88,\n",
       "          124, 395,  20, 264, 250, 182, 377,   5, 318, 285, 198, 215,  29,\n",
       "          357,   3, 344, 364,  90,  68, 310, 297, 178, 370, 147, 272, 246,\n",
       "           82,  85, 394,  52, 295, 104,  34,  81, 365,  39,  41, 146, 245,\n",
       "          206,  58, 373,  84,   4, 281, 192, 267,  46,  57,  42, 402, 252,\n",
       "          396, 257, 213, 191, 205,  33, 315, 279, 300, 327, 236,  87,  12,\n",
       "          283,  40, 347,  10, 123, 314, 156, 277, 247, 253, 242, 121,  86,\n",
       "          168, 336, 292,   2, 180, 330, 302,  91, 286, 172,  77,  92, 334,\n",
       "          338, 105, 169, 101,  31, 134,  64, 139, 359, 239, 274, 129, 304,\n",
       "          289,  16, 188, 340, 109, 266, 362,   6, 137, 322, 363,  43, 383,\n",
       "          149, 353,  35, 194, 280, 255, 177, 368, 320,  98, 183, 225, 199,\n",
       "          238, 399, 350,  44, 343, 196, 288, 378, 329,  17,  18, 193, 389,\n",
       "          306, 228, 261, 142, 115, 190, 232, 222, 186,  14,   8, 214,  59,\n",
       "          207, 110, 118, 141, 391,  79, 298, 174, 227, 349, 342, 291,  48,\n",
       "          209, 166, 270, 237, 296, 184, 323, 275,  60, 154, 324,  67, 299,\n",
       "          301, 201,  97,  78, 217,  76,  36, 204, 273, 158, 212, 258,  19,\n",
       "          367, 130, 181, 307,  93, 352,  25,  50, 401, 263,  45, 311, 155,\n",
       "          240, 143, 397, 119, 114, 387,  47, 321,  53, 375,  37, 351, 243,\n",
       "          122,  95, 151, 234,   7, 326, 332, 386, 312, 372, 354, 138, 128,\n",
       "           74, 179, 260, 226, 161, 202, 313, 220, 345,  66,  21, 127,  11,\n",
       "          165, 131, 162, 219, 111, 163, 153,  27, 160, 393, 140,   1, 369,\n",
       "          407, 405, 197,  73,  72, 278, 256, 126,   0, 112, 400, 374, 384,\n",
       "          100, 305, 108, 230,  61, 195, 398, 358, 341,  56, 120, 136, 229,\n",
       "           80, 390, 348,  75, 335, 211, 187,  89, 333, 337,  62]),\n",
       "   array([133, 185,  99, 251, 268, 282, 235, 113, 360,  94, 366, 284, 317,\n",
       "          403,   9,  49, 223,  24, 316,  65, 254])))]"
      ]
     },
     "execution_count": 4,
     "metadata": {},
     "output_type": "execute_result"
    }
   ],
   "source": [
    "deeplabcut.create_training_dataset(config_path, augmenter_type='imgaug')"
   ]
  },
  {
   "cell_type": "code",
   "execution_count": 5,
   "metadata": {},
   "outputs": [],
   "source": [
    "# Set up pose_config.yaml\n",
    "cfg = deeplabcut.auxiliaryfunctions.read_config(config_path)\n",
    "# Add imageaug to pose_config.yaml \n",
    "trainposeconfigfile,testposeconfigfile,snapshotfolder=deeplabcut.return_train_network_path(config_path)\n",
    "cfg_dlc=deeplabcut.auxiliaryfunctions.read_plainconfig(trainposeconfigfile)\n",
    "cfg_dlc['scale_jitter_lo']= 0.5\n",
    "cfg_dlc['scale_jitter_up']=1.5\n",
    "cfg_dlc['augmentationprobability']=.5\n",
    "cfg_dlc['batch_size']=6 #pick that as large as your GPU can handle it\n",
    "cfg_dlc['elastic_transform']=True\n",
    "cfg_dlc['rotation']=180\n",
    "cfg_dlc['covering']=True\n",
    "cfg_dlc['motion_blur'] = True\n",
    "cfg_dlc['optimizer'] =\"adam\"\n",
    "cfg_dlc['dataset_type']='imgaug' # 'imagaug'multi-animal-\n",
    "cfg_dlc['multi_step']=[[1e-4, 7500], [5.0e-5, 12000], [1e-5, 50000]]\n",
    "cfg_dlc['init_weights'] = 'C:/Users/Niell Lab/Documents/deeplabcut_projects/EphysEyeCams3-dylan-2021-02-02/dlc-models/iteration-0/EphysEyeCams3Feb2-trainset95shuffle1/train/snapshot-800000'\n",
    "deeplabcut.auxiliaryfunctions.write_plainconfig(trainposeconfigfile,cfg_dlc)"
   ]
  },
  {
   "cell_type": "code",
   "execution_count": 6,
   "metadata": {},
   "outputs": [
    {
     "name": "stderr",
     "output_type": "stream",
     "text": [
      "Config:\n",
      "{'all_joints': [[0], [1], [2], [3], [4], [5], [6], [7], [8], [9]],\n",
      " 'all_joints_names': ['pt1',\n",
      "                      'pt2',\n",
      "                      'pt3',\n",
      "                      'pt4',\n",
      "                      'pt5',\n",
      "                      'pt6',\n",
      "                      'pt7',\n",
      "                      'pt8',\n",
      "                      'tear',\n",
      "                      'outer'],\n",
      " 'augmentationprobability': 0.5,\n",
      " 'batch_size': 6,\n",
      " 'covering': True,\n",
      " 'crop_pad': 0,\n",
      " 'cropratio': 0.4,\n",
      " 'dataset': 'training-datasets\\\\iteration-1\\\\UnaugmentedDataSet_EphysEyeCams3Feb2\\\\EphysEyeCams3_dylan95shuffle1.mat',\n",
      " 'dataset_type': 'imgaug',\n",
      " 'deterministic': False,\n",
      " 'display_iters': 1000,\n",
      " 'elastic_transform': True,\n",
      " 'fg_fraction': 0.25,\n",
      " 'global_scale': 0.8,\n",
      " 'init_weights': 'C:/Users/Niell '\n",
      "                 'Lab/Documents/deeplabcut_projects/EphysEyeCams3-dylan-2021-02-02/dlc-models/iteration-0/EphysEyeCams3Feb2-trainset95shuffle1/train/snapshot-800000',\n",
      " 'intermediate_supervision': False,\n",
      " 'intermediate_supervision_layer': 12,\n",
      " 'location_refinement': True,\n",
      " 'locref_huber_loss': True,\n",
      " 'locref_loss_weight': 0.05,\n",
      " 'locref_stdev': 7.2801,\n",
      " 'log_dir': 'log',\n",
      " 'max_input_size': 1500,\n",
      " 'mean_pixel': [123.68, 116.779, 103.939],\n",
      " 'metadataset': 'training-datasets\\\\iteration-1\\\\UnaugmentedDataSet_EphysEyeCams3Feb2\\\\Documentation_data-EphysEyeCams3_95shuffle1.pickle',\n",
      " 'min_input_size': 64,\n",
      " 'mirror': False,\n",
      " 'motion_blur': True,\n",
      " 'multi_step': [[0.0001, 7500], ['5e-05', 12000], ['1e-05', 50000]],\n",
      " 'net_type': 'resnet_50',\n",
      " 'num_joints': 10,\n",
      " 'optimizer': 'adam',\n",
      " 'pairwise_huber_loss': False,\n",
      " 'pairwise_predict': False,\n",
      " 'partaffinityfield_predict': False,\n",
      " 'pos_dist_thresh': 17,\n",
      " 'project_path': 'C:\\\\Users\\\\Niell '\n",
      "                 'Lab\\\\Documents\\\\deeplabcut_projects\\\\EphysEyeCams3-dylan-2021-02-02',\n",
      " 'regularize': False,\n",
      " 'rotation': 180,\n",
      " 'rotratio': 0.4,\n",
      " 'save_iters': 50000,\n",
      " 'scale_jitter_lo': 0.5,\n",
      " 'scale_jitter_up': 1.5,\n",
      " 'scoremap_dir': 'test',\n",
      " 'shuffle': True,\n",
      " 'snapshot_prefix': 'C:\\\\Users\\\\Niell '\n",
      "                    'Lab\\\\Documents\\\\deeplabcut_projects\\\\EphysEyeCams3-dylan-2021-02-02\\\\dlc-models\\\\iteration-1\\\\EphysEyeCams3Feb2-trainset95shuffle1\\\\train\\\\snapshot',\n",
      " 'stride': 8.0,\n",
      " 'weigh_negatives': False,\n",
      " 'weigh_only_present_joints': False,\n",
      " 'weigh_part_predictions': False,\n",
      " 'weight_decay': 0.0001}\n"
     ]
    },
    {
     "name": "stdout",
     "output_type": "stream",
     "text": [
      "Selecting single-animal trainer\n",
      "Starting with imgaug pose-dataset loader (=default).\n",
      "Batch Size is 6\n",
      "Initializing ResNet\n",
      "Loading already trained DLC with backbone: resnet_50\n",
      "Max_iters overwritten as 50000\n",
      "Display_iters overwritten as 500\n",
      "Save_iters overwritten as 10000\n",
      "Training parameter:\n",
      "{'stride': 8.0, 'weigh_part_predictions': False, 'weigh_negatives': False, 'fg_fraction': 0.25, 'mean_pixel': [123.68, 116.779, 103.939], 'shuffle': True, 'snapshot_prefix': 'C:\\\\Users\\\\Niell Lab\\\\Documents\\\\deeplabcut_projects\\\\EphysEyeCams3-dylan-2021-02-02\\\\dlc-models\\\\iteration-1\\\\EphysEyeCams3Feb2-trainset95shuffle1\\\\train\\\\snapshot', 'log_dir': 'log', 'global_scale': 0.8, 'location_refinement': True, 'locref_stdev': 7.2801, 'locref_loss_weight': 0.05, 'locref_huber_loss': True, 'optimizer': 'adam', 'intermediate_supervision': False, 'intermediate_supervision_layer': 12, 'regularize': False, 'weight_decay': 0.0001, 'crop_pad': 0, 'scoremap_dir': 'test', 'batch_size': 6, 'dataset_type': 'imgaug', 'deterministic': False, 'mirror': False, 'pairwise_huber_loss': False, 'weigh_only_present_joints': False, 'partaffinityfield_predict': False, 'pairwise_predict': False, 'all_joints': [[0], [1], [2], [3], [4], [5], [6], [7], [8], [9]], 'all_joints_names': ['pt1', 'pt2', 'pt3', 'pt4', 'pt5', 'pt6', 'pt7', 'pt8', 'tear', 'outer'], 'cropratio': 0.4, 'dataset': 'training-datasets\\\\iteration-1\\\\UnaugmentedDataSet_EphysEyeCams3Feb2\\\\EphysEyeCams3_dylan95shuffle1.mat', 'display_iters': 1000, 'init_weights': 'C:/Users/Niell Lab/Documents/deeplabcut_projects/EphysEyeCams3-dylan-2021-02-02/dlc-models/iteration-0/EphysEyeCams3Feb2-trainset95shuffle1/train/snapshot-800000', 'max_input_size': 1500, 'metadataset': 'training-datasets\\\\iteration-1\\\\UnaugmentedDataSet_EphysEyeCams3Feb2\\\\Documentation_data-EphysEyeCams3_95shuffle1.pickle', 'min_input_size': 64, 'multi_step': [[0.0001, 7500], ['5e-05', 12000], ['1e-05', 50000]], 'net_type': 'resnet_50', 'num_joints': 10, 'pos_dist_thresh': 17, 'project_path': 'C:\\\\Users\\\\Niell Lab\\\\Documents\\\\deeplabcut_projects\\\\EphysEyeCams3-dylan-2021-02-02', 'rotation': 180, 'rotratio': 0.4, 'save_iters': 50000, 'scale_jitter_lo': 0.5, 'scale_jitter_up': 1.5, 'augmentationprobability': 0.5, 'elastic_transform': True, 'covering': True, 'motion_blur': True, 'motion_blur_params': {'k': 7, 'angle': [-90, 90]}}\n",
      "Starting training....\n"
     ]
    },
    {
     "name": "stderr",
     "output_type": "stream",
     "text": [
      "iteration: 500 loss: 0.0078 lr: 0.0001\n",
      "iteration: 1000 loss: 0.0065 lr: 0.0001\n",
      "iteration: 1500 loss: 0.0060 lr: 0.0001\n",
      "iteration: 2000 loss: 0.0059 lr: 0.0001\n",
      "iteration: 2500 loss: 0.0057 lr: 0.0001\n",
      "iteration: 3000 loss: 0.0054 lr: 0.0001\n",
      "iteration: 3500 loss: 0.0055 lr: 0.0001\n",
      "iteration: 4000 loss: 0.0054 lr: 0.0001\n",
      "iteration: 4500 loss: 0.0051 lr: 0.0001\n",
      "iteration: 5000 loss: 0.0049 lr: 0.0001\n",
      "iteration: 5500 loss: 0.0052 lr: 0.0001\n",
      "iteration: 6000 loss: 0.0050 lr: 0.0001\n",
      "iteration: 6500 loss: 0.0050 lr: 0.0001\n",
      "iteration: 7000 loss: 0.0048 lr: 0.0001\n",
      "iteration: 7500 loss: 0.0050 lr: 0.0001\n",
      "iteration: 8000 loss: 0.0043 lr: 5e-05\n",
      "iteration: 8500 loss: 0.0040 lr: 5e-05\n",
      "iteration: 9000 loss: 0.0041 lr: 5e-05\n",
      "iteration: 9500 loss: 0.0040 lr: 5e-05\n",
      "iteration: 10000 loss: 0.0041 lr: 5e-05\n",
      "iteration: 10500 loss: 0.0041 lr: 5e-05\n",
      "iteration: 11000 loss: 0.0039 lr: 5e-05\n",
      "iteration: 11500 loss: 0.0041 lr: 5e-05\n",
      "iteration: 12000 loss: 0.0039 lr: 5e-05\n",
      "iteration: 12500 loss: 0.0035 lr: 1e-05\n",
      "iteration: 13000 loss: 0.0034 lr: 1e-05\n",
      "iteration: 13500 loss: 0.0034 lr: 1e-05\n",
      "iteration: 14000 loss: 0.0034 lr: 1e-05\n",
      "iteration: 14500 loss: 0.0034 lr: 1e-05\n",
      "iteration: 15000 loss: 0.0033 lr: 1e-05\n",
      "iteration: 15500 loss: 0.0033 lr: 1e-05\n",
      "iteration: 16000 loss: 0.0032 lr: 1e-05\n",
      "iteration: 16500 loss: 0.0032 lr: 1e-05\n",
      "iteration: 17000 loss: 0.0032 lr: 1e-05\n",
      "iteration: 17500 loss: 0.0033 lr: 1e-05\n",
      "iteration: 18000 loss: 0.0032 lr: 1e-05\n",
      "iteration: 18500 loss: 0.0032 lr: 1e-05\n",
      "iteration: 19000 loss: 0.0033 lr: 1e-05\n",
      "iteration: 19500 loss: 0.0032 lr: 1e-05\n",
      "iteration: 20000 loss: 0.0032 lr: 1e-05\n",
      "iteration: 20500 loss: 0.0032 lr: 1e-05\n",
      "iteration: 21000 loss: 0.0032 lr: 1e-05\n",
      "iteration: 21500 loss: 0.0032 lr: 1e-05\n",
      "iteration: 22000 loss: 0.0032 lr: 1e-05\n",
      "iteration: 22500 loss: 0.0032 lr: 1e-05\n",
      "iteration: 23000 loss: 0.0031 lr: 1e-05\n",
      "iteration: 23500 loss: 0.0031 lr: 1e-05\n",
      "iteration: 24000 loss: 0.0031 lr: 1e-05\n",
      "iteration: 24500 loss: 0.0031 lr: 1e-05\n",
      "iteration: 25000 loss: 0.0031 lr: 1e-05\n",
      "iteration: 25500 loss: 0.0032 lr: 1e-05\n",
      "iteration: 26000 loss: 0.0032 lr: 1e-05\n",
      "iteration: 26500 loss: 0.0031 lr: 1e-05\n",
      "iteration: 27000 loss: 0.0032 lr: 1e-05\n",
      "iteration: 27500 loss: 0.0031 lr: 1e-05\n",
      "iteration: 28000 loss: 0.0030 lr: 1e-05\n",
      "iteration: 28500 loss: 0.0031 lr: 1e-05\n",
      "iteration: 29000 loss: 0.0030 lr: 1e-05\n",
      "iteration: 29500 loss: 0.0031 lr: 1e-05\n",
      "iteration: 30000 loss: 0.0030 lr: 1e-05\n",
      "iteration: 30500 loss: 0.0031 lr: 1e-05\n",
      "iteration: 31000 loss: 0.0030 lr: 1e-05\n",
      "iteration: 31500 loss: 0.0030 lr: 1e-05\n",
      "iteration: 32000 loss: 0.0030 lr: 1e-05\n",
      "iteration: 32500 loss: 0.0030 lr: 1e-05\n",
      "iteration: 33000 loss: 0.0030 lr: 1e-05\n",
      "iteration: 33500 loss: 0.0030 lr: 1e-05\n",
      "iteration: 34000 loss: 0.0031 lr: 1e-05\n",
      "iteration: 34500 loss: 0.0030 lr: 1e-05\n",
      "iteration: 35000 loss: 0.0030 lr: 1e-05\n",
      "iteration: 35500 loss: 0.0029 lr: 1e-05\n",
      "iteration: 36000 loss: 0.0029 lr: 1e-05\n",
      "iteration: 36500 loss: 0.0030 lr: 1e-05\n",
      "iteration: 37000 loss: 0.0030 lr: 1e-05\n",
      "iteration: 37500 loss: 0.0030 lr: 1e-05\n",
      "iteration: 38000 loss: 0.0030 lr: 1e-05\n",
      "iteration: 38500 loss: 0.0030 lr: 1e-05\n",
      "iteration: 39000 loss: 0.0029 lr: 1e-05\n",
      "iteration: 39500 loss: 0.0029 lr: 1e-05\n",
      "iteration: 40000 loss: 0.0029 lr: 1e-05\n",
      "iteration: 40500 loss: 0.0029 lr: 1e-05\n",
      "iteration: 41000 loss: 0.0030 lr: 1e-05\n",
      "iteration: 41500 loss: 0.0029 lr: 1e-05\n",
      "iteration: 42000 loss: 0.0029 lr: 1e-05\n",
      "iteration: 42500 loss: 0.0029 lr: 1e-05\n",
      "iteration: 43000 loss: 0.0030 lr: 1e-05\n",
      "iteration: 43500 loss: 0.0029 lr: 1e-05\n",
      "iteration: 44000 loss: 0.0029 lr: 1e-05\n",
      "iteration: 44500 loss: 0.0029 lr: 1e-05\n",
      "iteration: 45000 loss: 0.0029 lr: 1e-05\n",
      "iteration: 45500 loss: 0.0028 lr: 1e-05\n",
      "iteration: 46000 loss: 0.0029 lr: 1e-05\n",
      "iteration: 46500 loss: 0.0029 lr: 1e-05\n",
      "iteration: 47000 loss: 0.0029 lr: 1e-05\n",
      "iteration: 47500 loss: 0.0029 lr: 1e-05\n",
      "iteration: 48000 loss: 0.0028 lr: 1e-05\n",
      "iteration: 48500 loss: 0.0029 lr: 1e-05\n",
      "iteration: 49000 loss: 0.0028 lr: 1e-05\n",
      "iteration: 49500 loss: 0.0029 lr: 1e-05\n",
      "iteration: 50000 loss: 0.0029 lr: 1e-05\n"
     ]
    },
    {
     "name": "stdout",
     "output_type": "stream",
     "text": [
      "The network is now trained and ready to evaluate. Use the function 'evaluate_network' to evaluate the network.\n"
     ]
    },
    {
     "name": "stderr",
     "output_type": "stream",
     "text": [
      "Exception in thread Thread-6:\n",
      "Traceback (most recent call last):\n",
      "  File \"C:\\Users\\Niell Lab\\.conda\\envs\\DLC-GPU2\\lib\\threading.py\", line 926, in _bootstrap_inner\n",
      "    self.run()\n",
      "  File \"C:\\Users\\Niell Lab\\.conda\\envs\\DLC-GPU2\\lib\\threading.py\", line 870, in run\n",
      "    self._target(*self._args, **self._kwargs)\n",
      "  File \"C:\\Users\\Niell Lab\\.conda\\envs\\DLC-GPU2\\lib\\site-packages\\deeplabcut\\pose_estimation_tensorflow\\train.py\", line 91, in load_and_enqueue\n",
      "    sess.run(enqueue_op, feed_dict=food)\n",
      "  File \"C:\\Users\\Niell Lab\\.conda\\envs\\DLC-GPU2\\lib\\site-packages\\tensorflow\\python\\client\\session.py\", line 929, in run\n",
      "    run_metadata_ptr)\n",
      "  File \"C:\\Users\\Niell Lab\\.conda\\envs\\DLC-GPU2\\lib\\site-packages\\tensorflow\\python\\client\\session.py\", line 1075, in _run\n",
      "    raise RuntimeError('Attempted to use a closed Session.')\n",
      "RuntimeError: Attempted to use a closed Session.\n",
      "\n"
     ]
    }
   ],
   "source": [
    "# Train and Evaluate Network\n",
    "deeplabcut.train_network(config_path, allow_growth=True, displayiters=500, maxiters=100000, saveiters=10000)"
   ]
  },
  {
   "cell_type": "code",
   "execution_count": 7,
   "metadata": {},
   "outputs": [
    {
     "name": "stderr",
     "output_type": "stream",
     "text": [
      "Config:\n",
      "{'all_joints': [[0], [1], [2], [3], [4], [5], [6], [7], [8], [9]],\n",
      " 'all_joints_names': ['pt1',\n",
      "                      'pt2',\n",
      "                      'pt3',\n",
      "                      'pt4',\n",
      "                      'pt5',\n",
      "                      'pt6',\n",
      "                      'pt7',\n",
      "                      'pt8',\n",
      "                      'tear',\n",
      "                      'outer'],\n",
      " 'batch_size': 1,\n",
      " 'crop_pad': 0,\n",
      " 'dataset': 'training-datasets\\\\iteration-1\\\\UnaugmentedDataSet_EphysEyeCams3Feb2\\\\EphysEyeCams3_dylan95shuffle1.mat',\n",
      " 'dataset_type': 'imgaug',\n",
      " 'deterministic': False,\n",
      " 'fg_fraction': 0.25,\n",
      " 'global_scale': 0.8,\n",
      " 'init_weights': 'C:\\\\Users\\\\Niell '\n",
      "                 'Lab\\\\.conda\\\\envs\\\\DLC-GPU2\\\\lib\\\\site-packages\\\\deeplabcut\\\\pose_estimation_tensorflow\\\\models\\\\pretrained\\\\resnet_v1_50.ckpt',\n",
      " 'intermediate_supervision': False,\n",
      " 'intermediate_supervision_layer': 12,\n",
      " 'location_refinement': True,\n",
      " 'locref_huber_loss': True,\n",
      " 'locref_loss_weight': 1.0,\n",
      " 'locref_stdev': 7.2801,\n",
      " 'log_dir': 'log',\n",
      " 'mean_pixel': [123.68, 116.779, 103.939],\n",
      " 'mirror': False,\n",
      " 'net_type': 'resnet_50',\n",
      " 'num_joints': 10,\n",
      " 'optimizer': 'sgd',\n",
      " 'pairwise_huber_loss': True,\n",
      " 'pairwise_predict': False,\n",
      " 'partaffinityfield_predict': False,\n",
      " 'regularize': False,\n",
      " 'scoremap_dir': 'test',\n",
      " 'shuffle': True,\n",
      " 'snapshot_prefix': 'C:\\\\Users\\\\Niell '\n",
      "                    'Lab\\\\Documents\\\\deeplabcut_projects\\\\EphysEyeCams3-dylan-2021-02-02\\\\dlc-models\\\\iteration-1\\\\EphysEyeCams3Feb2-trainset95shuffle1\\\\test\\\\snapshot',\n",
      " 'stride': 8.0,\n",
      " 'weigh_negatives': False,\n",
      " 'weigh_only_present_joints': False,\n",
      " 'weigh_part_predictions': False,\n",
      " 'weight_decay': 0.0001}\n"
     ]
    },
    {
     "name": "stdout",
     "output_type": "stream",
     "text": [
      "C:\\Users\\Niell Lab\\Documents\\deeplabcut_projects\\EphysEyeCams3-dylan-2021-02-02/evaluation-results/  already exists!\n",
      "Running  DLC_resnet50_EphysEyeCams3Feb2shuffle1_50000  with # of trainingiterations: 50000\n",
      "Initializing ResNet\n"
     ]
    },
    {
     "name": "stderr",
     "output_type": "stream",
     "text": [
      "\r",
      "0it [00:00, ?it/s]"
     ]
    },
    {
     "name": "stdout",
     "output_type": "stream",
     "text": [
      "Analyzing data...\n"
     ]
    },
    {
     "name": "stderr",
     "output_type": "stream",
     "text": [
      "409it [00:11, 35.57it/s]\n",
      "  0%|                                                                                          | 0/409 [00:00<?, ?it/s]"
     ]
    },
    {
     "name": "stdout",
     "output_type": "stream",
     "text": [
      "Done and results stored for snapshot:  snapshot-50000\n",
      "Results for 50000  training iterations: 95 1 train error: 2.27 pixels. Test error: 3.09  pixels.\n",
      "With pcutoff of 0.6  train error: 2.27 pixels. Test error: 3.09 pixels\n",
      "Thereby, the errors are given by the average distances between the labels by DLC and the scorer.\n",
      "Plotting...\n"
     ]
    },
    {
     "name": "stderr",
     "output_type": "stream",
     "text": [
      "100%|████████████████████████████████████████████████████████████████████████████████| 409/409 [01:19<00:00,  5.12it/s]"
     ]
    },
    {
     "name": "stdout",
     "output_type": "stream",
     "text": [
      "The network is evaluated and the results are stored in the subdirectory 'evaluation_results'.\n",
      "If it generalizes well, choose the best model for prediction and update the config file with the appropriate index for the 'snapshotindex'.\n",
      "Use the function 'analyze_video' to make predictions on new videos.\n",
      "Otherwise consider retraining the network (see DeepLabCut workflow Fig 2)\n"
     ]
    },
    {
     "name": "stderr",
     "output_type": "stream",
     "text": [
      "\n"
     ]
    }
   ],
   "source": [
    "deeplabcut.evaluate_network(config_path, plotting=True, trainingsetindex='all')"
   ]
  },
  {
   "cell_type": "code",
   "execution_count": null,
   "metadata": {},
   "outputs": [],
   "source": []
  }
 ],
 "metadata": {
  "kernelspec": {
   "display_name": "DLC-GPU2",
   "language": "python",
   "name": "dlc-gpu2"
  },
  "language_info": {
   "codemirror_mode": {
    "name": "ipython",
    "version": 3
   },
   "file_extension": ".py",
   "mimetype": "text/x-python",
   "name": "python",
   "nbconvert_exporter": "python",
   "pygments_lexer": "ipython3",
   "version": "3.7.9"
  }
 },
 "nbformat": 4,
 "nbformat_minor": 4
}
