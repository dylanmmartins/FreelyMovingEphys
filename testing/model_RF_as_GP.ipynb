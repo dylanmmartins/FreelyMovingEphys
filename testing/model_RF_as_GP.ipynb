{
 "cells": [
  {
   "cell_type": "code",
   "execution_count": null,
   "metadata": {},
   "outputs": [],
   "source": [
    "from scipy.optimize import minimize\n",
    "from sklearn.metrics import mean_squared_error"
   ]
  },
  {
   "cell_type": "code",
   "execution_count": null,
   "metadata": {},
   "outputs": [],
   "source": [
    "class GaussianProcessModel:\n",
    "    def __init__(self, rf):\n",
    "        self.rf = rf\n",
    "        self.s_bounds =\n",
    "        self.f_bounds =\n",
    "\n",
    "    def model(self, guess, sf, cent, size):\n",
    "        smooth = np.exp(-np.linalg.norm(self.rf-guess) / 2*sf**2)\n",
    "        localize = np.exp(-(np.linalg.norm(self.rf-cent) + np.linalg.norm(guess-cent)) / 2*size**2)\n",
    "        C = np.dot(smooth, localize)\n",
    "        return C\n",
    "    \n",
    "    def test_fit(self):\n",
    "        C = self.model(guess, sf, cent, size)\n",
    "        \n",
    "        \n",
    "    \n",
    "    def fit(self, epochs=3000):\n",
    "        init = \n",
    "        res = minimize(self.model, \n",
    "        \n",
    "        \n",
    "            C = self.model(guess, sf, cent, size)\n",
    "            err = mean_squared_error(self.rf, guess)\n",
    "\n",
    "            \n",
    "    "
   ]
  }
 ],
 "metadata": {
  "kernelspec": {
   "display_name": "Python [conda env:DLC-GPU1]",
   "language": "python",
   "name": "conda-env-DLC-GPU1-py"
  },
  "language_info": {
   "codemirror_mode": {
    "name": "ipython",
    "version": 3
   },
   "file_extension": ".py",
   "mimetype": "text/x-python",
   "name": "python",
   "nbconvert_exporter": "python",
   "pygments_lexer": "ipython3",
   "version": "3.8.10"
  }
 },
 "nbformat": 4,
 "nbformat_minor": 4
}
