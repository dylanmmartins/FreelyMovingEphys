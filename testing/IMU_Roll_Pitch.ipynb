{
 "cells": [
  {
   "cell_type": "markdown",
   "metadata": {},
   "source": [
    "__Function__: IMU_Roll_Pitch( *...imu.nc data file* , *associated video file\\** )\n",
    "\n",
    "\n",
    "__Inputs__: xarray dataset containing acc and gyro data, associated world cam video* (this feature is still being worked on, so for now only input the former)\n",
    "\n",
    "__Outputs__: *ndarray* of [Roll, Pitch, Time]\n",
    "\n",
    "*before importing:*\n",
    "1. download parallax repository: https://github.com/wehr-lab/autopilot/tree/parallax\n",
    "2. `pip install -e ./autopilot/` (if you navigate to autopilot folder then use 'pip install -e .' you should get the same result--unfortunately I forgot to write this part down when we did it, so this line may be a bit off)\n",
    "3. configure autopilot: `python3 -m autopilot.setup.setup_autopilot`\n",
    "- Make terminal big enough to run GUI...select terminal...no need to edit anything just keep pressing 'ok'...choose the autopilot install option...\n",
    "\n",
    "*You are set to import! and you wont ever have to do the above again :D*\n"
   ]
  },
  {
   "cell_type": "code",
   "execution_count": 3,
   "metadata": {},
   "outputs": [],
   "source": [
    "import xarray as xr\n",
    "import numpy as np\n",
    "import matplotlib.pyplot as plt\n",
    "import typing\n",
    "\n",
    "from time import time\n",
    "from scipy.spatial import distance\n",
    "from scipy.spatial.transform import Rotation as R\n",
    "from scipy.optimize import curve_fit\n",
    "\n",
    "from autopilot.transform.geometry import IMU_Orientation\n",
    "IMU = IMU_Orientation()"
   ]
  },
  {
   "cell_type": "code",
   "execution_count": 4,
   "metadata": {},
   "outputs": [],
   "source": [
    "def IMU_Roll_Pitch(fname):\n",
    "# 1. opening the data\n",
    "    with xr.open_dataset(fname) as ds: \n",
    "        #print(ds.keys())\n",
    "        data = ds.IMU_data ### saves the Datasets DataArray\n",
    "\n",
    "# 2. Time\n",
    "    timestamps = data.coords['timestamps'] ### seconds past midnight\n",
    "\n",
    "    diff = np.diff(timestamps) ### gives the difference between timestamps (in seconds)\n",
    "\n",
    "    t = np.zeros([len(timestamps),1]) ### gives a list of seconds over trial period\n",
    "    for i in range(len(diff)):\n",
    "        t[1+i] = t[i] + diff[i]\n",
    "\n",
    "# 3. Isolating acceleration and gyro measurments (volts)\n",
    "    acc = data[:,0:3]\n",
    "    gyro = data[:,3:6]\n",
    "\n",
    "# 4. Converting acceleration and gyro units\n",
    "    gyro = (gyro-np.mean(gyro))*(400) ### 1V = 400deg/sec ... mean(gyro) centers data around 0\n",
    "\n",
    "    acc = (acc-2.5)*1.6 # convert to: g = m/s^2\n",
    "\n",
    "# 5. Saving Acc and Gyro as ndarrays\n",
    "    acc = acc.data\n",
    "    gyro = gyro.data\n",
    "    \n",
    "# 6. Collect Roll & Pitch\n",
    "    if len(acc) == len(gyro):\n",
    "        roll_pitch = np.zeros([len(acc),2])\n",
    "        for x in range(len(acc)):\n",
    "            roll_pitch[x,:] = IMU.process((acc[x,:],gyro[x,:]))### update by row\n",
    "        #return(roll_pitch)\n",
    "    else:\n",
    "        print('acc or gyro error: input arguments must be of equal size')\n",
    "        \n",
    "# 7. Spit out Roll_Pitch_Time\n",
    "    RPT = np.append(roll_pitch, t , axis=1)\n",
    "    return(RPT)"
   ]
  },
  {
   "cell_type": "code",
   "execution_count": 5,
   "metadata": {},
   "outputs": [
    {
     "data": {
      "text/plain": [
       "array([[ 1.80205229e+01, -3.56293076e-01,  0.00000000e+00],\n",
       "       [ 2.30940049e+01, -1.74619639e+00,  3.33333333e-03],\n",
       "       [ 2.50949977e+01, -2.04144881e+00,  6.66666667e-03],\n",
       "       ...,\n",
       "       [ 3.38395490e+01,  9.99592712e+00,  1.29036667e+03],\n",
       "       [ 3.39569922e+01,  9.77893972e+00,  1.29037000e+03],\n",
       "       [ 3.40139302e+01,  9.73006593e+00,  1.29037333e+03]])"
      ]
     },
     "execution_count": 5,
     "metadata": {},
     "output_type": "execute_result"
    }
   ],
   "source": [
    "IMU_Roll_Pitch('')"
   ]
  },
  {
   "cell_type": "markdown",
   "metadata": {},
   "source": [
    "# About IMU_Orientation:\n",
    "__Function__: IMU_Orientation\n",
    "\n",
    "\n",
    "__Inputs__: tuple of ( accelerometer [x,y,z] , gyroscope [x,y,z] ) *ndarrays* \n",
    "- can also pass a single *ndarray* with just accelerometer [x,y,z]\n",
    "\n",
    "__Outputs__: *ndarray* of filtered [Roll, Pitch] in degrees\n",
    "\n",
    "## Things to look into:\n",
    "- Jonny's Autopilot configuration (necessary for IMU_Orientation import) says that it is only supported on linux and macOS\n",
    "- There is still some cleaning/optimizing to be done with the above...but for purly roll/pitch data collection it should be set.\n",
    "- When you run a single dataset through the function mutliple times you will most likely see variable outputs...I think this has something to do with the Kalman filter? Not sure how we should go about this/how it might affect future calculations from this data."
   ]
  }
 ],
 "metadata": {
  "kernelspec": {
   "display_name": "Python [conda env:DLC-GPU2]",
   "language": "python",
   "name": "conda-env-DLC-GPU2-py"
  },
  "language_info": {
   "codemirror_mode": {
    "name": "ipython",
    "version": 3
   },
   "file_extension": ".py",
   "mimetype": "text/x-python",
   "name": "python",
   "nbconvert_exporter": "python",
   "pygments_lexer": "ipython3",
   "version": "3.7.10"
  }
 },
 "nbformat": 4,
 "nbformat_minor": 4
}
