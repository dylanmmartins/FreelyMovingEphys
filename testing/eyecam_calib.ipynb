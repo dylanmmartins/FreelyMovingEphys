{
 "cells": [
  {
   "cell_type": "code",
   "execution_count": 1,
   "metadata": {},
   "outputs": [],
   "source": [
    "import sys\n",
    "sys.path.insert(0, '/home/niell_lab/Documents/github/FreelyMovingEphys/')\n",
    "import cv2"
   ]
  },
  {
   "cell_type": "code",
   "execution_count": 7,
   "metadata": {},
   "outputs": [],
   "source": [
    "import numpy as np"
   ]
  },
  {
   "cell_type": "code",
   "execution_count": 2,
   "metadata": {},
   "outputs": [],
   "source": [
    "from utils.video_correction import get_checkerboard_calib"
   ]
  },
  {
   "cell_type": "code",
   "execution_count": 3,
   "metadata": {},
   "outputs": [],
   "source": [
    "vid = '/home/niell_lab/data/freely_moving_ephys/calib_params/eyecam/072221_dylan_control_Rig2_eyecam_checker1_REYEdeinter.avi'"
   ]
  },
  {
   "cell_type": "code",
   "execution_count": 4,
   "metadata": {},
   "outputs": [],
   "source": [
    "savepath = '/home/niell_lab/data/freely_moving_ephys/calib_params/eyecam/eyecam_matrix.npz'"
   ]
  },
  {
   "cell_type": "code",
   "execution_count": 5,
   "metadata": {},
   "outputs": [
    {
     "name": "stdout",
     "output_type": "stream",
     "text": [
      "getting distortion out of each frame\n"
     ]
    },
    {
     "name": "stderr",
     "output_type": "stream",
     "text": [
      "100%|██████████████████████████████████████| 5456/5456 [10:44<00:00,  8.46it/s]\n"
     ]
    },
    {
     "name": "stdout",
     "output_type": "stream",
     "text": [
      "calculating calibration correction paramters\n"
     ]
    }
   ],
   "source": [
    "get_checkerboard_calib(vid, savepath)"
   ]
  },
  {
   "cell_type": "code",
   "execution_count": 11,
   "metadata": {},
   "outputs": [],
   "source": [
    "from utils.paths import find\n",
    "from utils.video_correction import undistort_vid"
   ]
  },
  {
   "cell_type": "code",
   "execution_count": 12,
   "metadata": {},
   "outputs": [
    {
     "name": "stdout",
     "output_type": "stream",
     "text": [
      "undistorting video\n"
     ]
    },
    {
     "name": "stderr",
     "output_type": "stream",
     "text": [
      "100%|██████████████████████████████████████| 4238/4238 [00:21<00:00, 194.37it/s]\n"
     ]
    },
    {
     "name": "stdout",
     "output_type": "stream",
     "text": [
      "undistorting video\n"
     ]
    },
    {
     "name": "stderr",
     "output_type": "stream",
     "text": [
      "100%|██████████████████████████████████████| 5456/5456 [00:26<00:00, 204.37it/s]\n"
     ]
    }
   ],
   "source": [
    "checker_in = np.load('/home/niell_lab/data/freely_moving_ephys/calib_params/eyecam/eyecam_matrix.npz')\n",
    "animal_dir = '/home/niell_lab/data/freely_moving_ephys/calib_params/eyecam/'\n",
    "# unpack camera properties\n",
    "mtx = checker_in['mtx']; dist = checker_in['dist']; rvecs = checker_in['rvecs']; tvecs = checker_in['tvecs']\n",
    "# iterate through eye videos and save out a copy which has had distortions removed\n",
    "eye_list = find('*REYEdeinter*.avi', animal_dir)\n",
    "for eye_vid in eye_list:\n",
    "    if 'plot' not in eye_vid:\n",
    "        savepath = '_'.join(eye_vid.split('_')[:-1])+'REYEcalib.avi'\n",
    "        undistort_vid(eye_vid, savepath, mtx, dist, rvecs, tvecs)"
   ]
  },
  {
   "cell_type": "code",
   "execution_count": null,
   "metadata": {},
   "outputs": [],
   "source": []
  }
 ],
 "metadata": {
  "kernelspec": {
   "display_name": "Python [conda env:DLC-GPU1]",
   "language": "python",
   "name": "conda-env-DLC-GPU1-py"
  },
  "language_info": {
   "codemirror_mode": {
    "name": "ipython",
    "version": 3
   },
   "file_extension": ".py",
   "mimetype": "text/x-python",
   "name": "python",
   "nbconvert_exporter": "python",
   "pygments_lexer": "ipython3",
   "version": "3.8.10"
  }
 },
 "nbformat": 4,
 "nbformat_minor": 4
}
