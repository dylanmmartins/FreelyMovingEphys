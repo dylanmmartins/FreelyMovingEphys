{
 "cells": [
  {
   "cell_type": "markdown",
   "metadata": {},
   "source": [
    "# Analyze new videos with DeepLabCut from training set\n",
    "## run_dlc_on_vids.ipynb\n",
    "\n",
    "Run the DLC function 'analyze_videos' on a list of videos.\n",
    "\n",
    "Last modified July 13, 2020"
   ]
  },
  {
   "cell_type": "code",
   "execution_count": 1,
   "metadata": {},
   "outputs": [],
   "source": [
    "import deeplabcut\n",
    "from glob import glob"
   ]
  },
  {
   "cell_type": "markdown",
   "metadata": {},
   "source": [
    "### user inputs\n",
    "Enter path of config.yaml file for DLC project, a path of all videos to be read in, and the destination save path for outputs."
   ]
  },
  {
   "cell_type": "code",
   "execution_count": null,
   "metadata": {},
   "outputs": [],
   "source": [
    "config_path = 'C:/Users/Niell lab/Documents/EyeCamTesting-dylan-2020-07-07/config.yaml'\n",
    "vid_path_list = glob('T:/select_worldcam_dataset_dmm_07-13-2020/object_arena/*.avi')\n",
    "save_path = 'T:/select_worldcam_dataset_dmm_07-13-2020/dlc_outputs/'"
   ]
  },
  {
   "cell_type": "markdown",
   "metadata": {},
   "source": [
    "### run on videos\n",
    "Run the DLC function, 'analyze_videos' on each video in the list and outout to destination folder."
   ]
  },
  {
   "cell_type": "code",
   "execution_count": null,
   "metadata": {},
   "outputs": [],
   "source": [
    "for vid_path in vid_path_list:\n",
    "    deeplabcut.analyze_videos(config_path, vid_path, destfolder=save_path)"
   ]
  },
  {
   "cell_type": "code",
   "execution_count": null,
   "metadata": {},
   "outputs": [],
   "source": []
  }
 ],
 "metadata": {
  "kernelspec": {
   "display_name": "DLC-CPU",
   "language": "python",
   "name": "dlc-cpu"
  },
  "language_info": {
   "codemirror_mode": {
    "name": "ipython",
    "version": 3
   },
   "file_extension": ".py",
   "mimetype": "text/x-python",
   "name": "python",
   "nbconvert_exporter": "python",
   "pygments_lexer": "ipython3",
   "version": "3.7.7"
  }
 },
 "nbformat": 4,
 "nbformat_minor": 4
}
