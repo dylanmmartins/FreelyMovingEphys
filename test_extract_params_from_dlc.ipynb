{
 "cells": [
  {
   "cell_type": "markdown",
   "metadata": {},
   "source": [
    "# modular analysis of DeepLabCut pose estimations\n",
    "## test_extract_params_from_dlc.ipynb\n",
    "\n",
    "Analyze .h5 files output by DeepLabCut and Anipose and extract properties of mice (and prey if present). Outputs of this pipeline are saved out as .nc files and can be opened as xarrays. Run this in the ```fmephys``` environment.\n",
    "\n",
    "Last modified September 07, 2020\n",
    "\n",
    "**NOTE: functions have been updated to take in user inputs through a .josn config file read in as a dictionary. This jupyter notebook and the functions it directly uses in `nb_wrapper.py` aren't updated, so the basic functions in this repository won't work with this notebook. Use terminal instead**"
   ]
  },
  {
   "cell_type": "markdown",
   "metadata": {},
   "source": [
    "## global user inputs"
   ]
  },
  {
   "cell_type": "markdown",
   "metadata": {},
   "source": [
    "### file paths"
   ]
  },
  {
   "cell_type": "code",
   "execution_count": null,
   "metadata": {},
   "outputs": [],
   "source": [
    "# source for .avi videos, DLC .h5 files, and .csv timestamp files\n",
    "global_data_path = 'data/path/'\n",
    "# path into which outputs will be saved (directory will be created if it does not already exist)\n",
    "global_save_path = '/save/path/'\n"
   ]
  },
  {
   "cell_type": "markdown",
   "metadata": {},
   "source": [
    "### trial info"
   ]
  },
  {
   "cell_type": "code",
   "execution_count": null,
   "metadata": {},
   "outputs": [],
   "source": [
    "# number of labeled topdown DeepLabCut points (including points on cricket, if there is one)\n",
    "topdown_pt_num = 10\n",
    "# if there is a cricket in the tank as the last two DeepLabCut points (True/False)\n",
    "cricket = True\n",
    "# number of labeled eye camera points (including tear duct and back of eye, if those exist)\n",
    "eye_pt_num = 8\n",
    "# if there are eye points labeled for the tear duct and back of the eye (True/False)\n",
    "tear = True\n",
    "# use BonsaiTS timestamps (True) or FlirTS timestamps (False)\n",
    "bonsaitime = True\n",
    "# name of trial to run on e.g. '070920_mouse01_test01' -- do not include the file extension in the name string, the extensions '.avi', '_BonsaiTS.csv', and '.h5' will be added as needed\n",
    "trial_name = 'trial_name'\n",
    "# number of topdown cameras to read in; currently handles up to 3\n",
    "toptrial_count = 1\n",
    "# some parameters to find the pupil rotation\n",
    "ranger = 10\n",
    "world_interp_method = 'linear'\n"
   ]
  },
  {
   "cell_type": "markdown",
   "metadata": {},
   "source": [
    "### thresholding and saftey"
   ]
  },
  {
   "cell_type": "code",
   "execution_count": null,
   "metadata": {},
   "outputs": [],
   "source": [
    "# DLC likelihood threshold (default=0.99)\n",
    "lik_thresh = 0.99\n",
    "# max number of pixels for radius of pupil (default=50)\n",
    "pxl_thresh = 50\n",
    "# maximum ratio of ellipse shortaxis to longaxis (default=0.90)\n",
    "ell_thresh = 0.90\n",
    "# value with which to correct y-coordinates in topdown view (default=0)\n",
    "coord_cor = 0\n"
   ]
  },
  {
   "cell_type": "markdown",
   "metadata": {},
   "source": [
    "### module imports"
   ]
  },
  {
   "cell_type": "code",
   "execution_count": null,
   "metadata": {},
   "outputs": [],
   "source": [
    "from nb_wrapper import topdown_intake, eye_intake\n",
    "from util.save_data import savetrial\n",
    "from util.track_world import adjust_world, find_pupil_rotation\n"
   ]
  },
  {
   "cell_type": "markdown",
   "metadata": {},
   "source": [
    "## topdown tracking"
   ]
  },
  {
   "cell_type": "code",
   "execution_count": null,
   "metadata": {
    "scrolled": false
   },
   "outputs": [],
   "source": [
    "# run topdown_intake for up to three individual top-down cameras\n",
    "for num in range(1,toptrial_count+1):\n",
    "    trialext = 'TOP' + str(num)\n",
    "    top_trialname = trial_name + '_' + trialext\n",
    "    xtop = topdown_intake(global_data_path, top_trialname, trialext, global_save_path, lik_thresh, coord_cor, topdown_pt_num, cricket, bonsaitime)\n",
    "    savetrial(xtop, global_save_path, trial_name, trialext)\n"
   ]
  },
  {
   "cell_type": "markdown",
   "metadata": {},
   "source": [
    "## eye tracking and worldcam adjustment"
   ]
  },
  {
   "cell_type": "markdown",
   "metadata": {},
   "source": [
    "### left eye"
   ]
  },
  {
   "cell_type": "code",
   "execution_count": null,
   "metadata": {},
   "outputs": [],
   "source": [
    "%%time\n",
    "LEye = trial_name + '_LEYE'\n",
    "\n",
    "# find ellipse parameters\n",
    "xLEye = eye_intake(global_data_path, LEye, 'LEYE', global_save_path, lik_thresh, pxl_thresh, ell_thresh, eye_pt_num, tear, bonsaitime)\n",
    "savetrial(xLEye, global_save_path, trial_name, 'LEYE')\n"
   ]
  },
  {
   "cell_type": "markdown",
   "metadata": {},
   "source": [
    "### right eye"
   ]
  },
  {
   "cell_type": "code",
   "execution_count": null,
   "metadata": {
    "scrolled": true
   },
   "outputs": [],
   "source": [
    "%%time\n",
    "REye = trial_name + '_REYE'\n",
    "\n",
    "# find ellipse parameters\n",
    "xREye, rfit, shift = eye_intake(global_data_path, REye, 'REYE', global_save_path, lik_thresh, pxl_thresh, ell_thresh, eye_pt_num, tear, bonsaitime)\n",
    "savetrial(xREye, global_save_path, trial_name, 'REYE')\n"
   ]
  },
  {
   "cell_type": "code",
   "execution_count": null,
   "metadata": {},
   "outputs": [],
   "source": []
  }
 ],
 "metadata": {
  "kernelspec": {
   "display_name": "fmephys",
   "language": "python",
   "name": "fmephys"
  },
  "language_info": {
   "codemirror_mode": {
    "name": "ipython",
    "version": 3
   },
   "file_extension": ".py",
   "mimetype": "text/x-python",
   "name": "python",
   "nbconvert_exporter": "python",
   "pygments_lexer": "ipython3",
   "version": "3.8.3"
  }
 },
 "nbformat": 4,
 "nbformat_minor": 4
}
