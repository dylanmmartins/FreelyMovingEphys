{
 "cells": [
  {
   "cell_type": "markdown",
   "metadata": {},
   "source": [
    "# modular analysis of DeepLabCut pose estimations\n",
    "## test_extract_params_from_dlc.ipynb\n",
    "\n",
    "Analyze .h5 files output by DeepLabCut and Anipose and extract properties of mice (and prey if present). Outputs of this pipeline are saved out as .nc files and can be opened as xarrays. Run this in the ```fmephys``` environment.\n",
    "\n",
    "Last modified September 14, 2020"
   ]
  },
  {
   "cell_type": "code",
   "execution_count": null,
   "metadata": {},
   "outputs": [],
   "source": [
    "import json\n",
    "import xarray\n",
    "from tqdm.notebook import trange, tqdm\n",
    "from nb_wrapper import topdown_intake, eye_intake\n",
    "from util.save_data import savetrial\n"
   ]
  },
  {
   "cell_type": "markdown",
   "metadata": {},
   "source": [
    "## user inputs"
   ]
  },
  {
   "cell_type": "code",
   "execution_count": null,
   "metadata": {},
   "outputs": [],
   "source": [
    "json_config_path = '/path/to/pipeline_config.json'\n",
    "trial_name = '010101_mouse1_cricket1'"
   ]
  },
  {
   "cell_type": "markdown",
   "metadata": {},
   "source": [
    "### open config file"
   ]
  },
  {
   "cell_type": "code",
   "execution_count": null,
   "metadata": {},
   "outputs": [],
   "source": [
    "with open(json_config_path, 'r') as fp:\n",
    "    config = json.load(fp)\n",
    "config"
   ]
  },
  {
   "cell_type": "markdown",
   "metadata": {},
   "source": [
    "### top camera"
   ]
  },
  {
   "cell_type": "code",
   "execution_count": null,
   "metadata": {
    "scrolled": false
   },
   "outputs": [],
   "source": [
    "%%time\n",
    "\n",
    "xTop = topdown_intake(config, trial_name)\n",
    "\n",
    "for num in range(1,toptrial_count+1):\n",
    "    trialext = 'TOP' + str(num)\n",
    "    top_trialname = trial_name + '_' + trialext\n",
    "    xtop = topdown_intake(global_data_path, top_trialname, trialext, global_save_path, lik_thresh, coord_cor, topdown_pt_num, cricket, bonsaitime)\n",
    "    savetrial(xtop, global_save_path, trial_name, trialext)\n"
   ]
  },
  {
   "cell_type": "markdown",
   "metadata": {},
   "source": [
    "## eye tracking and worldcam adjustment"
   ]
  },
  {
   "cell_type": "markdown",
   "metadata": {},
   "source": [
    "### left eye"
   ]
  },
  {
   "cell_type": "code",
   "execution_count": null,
   "metadata": {},
   "outputs": [],
   "source": [
    "%%time\n",
    "LEye = trial_name + '_LEYE'\n",
    "\n",
    "# find ellipse parameters\n",
    "xLEye = eye_intake(global_data_path, LEye, 'LEYE', global_save_path, lik_thresh, pxl_thresh, ell_thresh, eye_pt_num, tear, bonsaitime)\n",
    "savetrial(xLEye, global_save_path, trial_name, 'LEYE')\n"
   ]
  },
  {
   "cell_type": "markdown",
   "metadata": {},
   "source": [
    "### right eye"
   ]
  },
  {
   "cell_type": "code",
   "execution_count": null,
   "metadata": {
    "scrolled": true
   },
   "outputs": [],
   "source": [
    "%%time\n",
    "REye = trial_name + '_REYE'\n",
    "\n",
    "# find ellipse parameters\n",
    "xREye, rfit, shift = eye_intake(global_data_path, REye, 'REYE', global_save_path, lik_thresh, pxl_thresh, ell_thresh, eye_pt_num, tear, bonsaitime)\n",
    "savetrial(xREye, global_save_path, trial_name, 'REYE')\n"
   ]
  },
  {
   "cell_type": "code",
   "execution_count": null,
   "metadata": {},
   "outputs": [],
   "source": []
  }
 ],
 "metadata": {
  "kernelspec": {
   "display_name": "fmephys",
   "language": "python",
   "name": "fmephys"
  },
  "language_info": {
   "codemirror_mode": {
    "name": "ipython",
    "version": 3
   },
   "file_extension": ".py",
   "mimetype": "text/x-python",
   "name": "python",
   "nbconvert_exporter": "python",
   "pygments_lexer": "ipython3",
   "version": "3.8.3"
  }
 },
 "nbformat": 4,
 "nbformat_minor": 4
}
