{
 "cells": [
  {
   "cell_type": "code",
   "execution_count": 2,
   "metadata": {},
   "outputs": [],
   "source": [
    "import sys\n",
    "sys.path.insert(0, '/home/niell_lab/Documents/github/FreelyMovingEphys/')\n",
    "from projects.ephys.population import Population\n",
    "import pandas as pd\n",
    "import numpy as np\n",
    "from sklearn.neighbors import KernelDensity\n",
    "import matplotlib.pyplot as plt"
   ]
  },
  {
   "cell_type": "code",
   "execution_count": 3,
   "metadata": {},
   "outputs": [
    {
     "name": "stdout",
     "output_type": "stream",
     "text": [
      "reading from /home/niell_lab/data/freely_moving_ephys/batch_files/021022/hffm/hffm_031822.pickle\n"
     ]
    }
   ],
   "source": [
    "hffm = Population(savepath='/home/niell_lab/data/freely_moving_ephys/batch_files/021022/hffm')\n",
    "hffm.load(fname='hffm_031822')\n",
    "hffm.exptype = 'hffm'"
   ]
  },
  {
   "cell_type": "code",
   "execution_count": 4,
   "metadata": {},
   "outputs": [],
   "source": [
    "row = hffm.data.iloc[215]"
   ]
  },
  {
   "cell_type": "code",
   "execution_count": 6,
   "metadata": {},
   "outputs": [],
   "source": [
    "stim = 'FmLt'\n",
    "ind = 215\n",
    "\n",
    "eyeT = row[stim+'_eyeT']\n",
    "dEye = row[stim+'_dEye_dps']\n",
    "dHead = row[stim+'_dHead']\n",
    "dGaze = row[stim+'_dGaze']\n",
    "spikeT = row[stim+'_spikeT']\n",
    "\n",
    "# all eye movements\n",
    "left = eyeT[(np.append(dEye, 0) > hffm.low_sacc_thresh)]\n",
    "right = eyeT[(np.append(dEye, 0) < -hffm.low_sacc_thresh)]\n",
    "# save saccade times\n",
    "hffm.data.at[ind, stim+'_leftsacc_times'] = left.astype(object); hffm.data.at[ind, stim+'_rightsacc_times'] = right.astype(object)\n",
    "# save neural activity around saccades\n",
    "hffm.data.at[ind, stim+'_leftsacc_avg'] =  hffm.calc_psth(spikeT, left).astype(object)\n",
    "hffm.data.at[ind, stim+'_rightsacc_avg'] =  hffm.calc_psth(spikeT, right).astype(object)\n",
    "\n",
    "# all head movements\n",
    "left = eyeT[(np.append(dHead, 0) > hffm.low_sacc_thresh)]\n",
    "right = eyeT[(np.append(dHead, 0) < -hffm.low_sacc_thresh)]\n",
    "# save saccade times\n",
    "hffm.data.at[ind, stim+'_leftsacc_dHead_times'] = left.astype(object); hffm.data.at[ind, stim+'_rightsacc_dHead_times'] = right.astype(object)\n",
    "# save neural activity around saccades\n",
    "hffm.data.at[ind, stim+'_leftsacc_dHead_avg'] =  hffm.calc_psth(spikeT, left).astype(object)\n",
    "hffm.data.at[ind, stim+'_rightsacc_dHead_avg'] =  hffm.calc_psth(spikeT, right).astype(object)\n",
    "\n",
    "# gaze-shift dEye\n",
    "left_gaze_dEye = eyeT[(np.append(dEye, 0) > hffm.high_sacc_thresh) & (np.append(dGaze,0) > hffm.high_sacc_thresh)]\n",
    "right_gaze_dEye = eyeT[(np.append(dEye, 0) < -hffm.high_sacc_thresh) & (np.append(dGaze, 0) < -hffm.high_sacc_thresh)]\n",
    "hffm.data.at[ind, stim+'_leftsacc_avg_gaze_shift_dEye_times'] = left_gaze_dEye.astype(object); hffm.data.at[ind, stim+'_rightsacc_avg_gaze_shift_dEye_times'] = right_gaze_dEye.astype(object)\n",
    "hffm.data.at[ind, stim+'_leftsacc_avg_gaze_shift_dEye'] =  hffm.calc_psth(spikeT, left_gaze_dEye).astype(object)\n",
    "hffm.data.at[ind, stim+'_rightsacc_avg_gaze_shift_dEye'] =  hffm.calc_psth(spikeT, right_gaze_dEye).astype(object)\n",
    "\n",
    "# comp dEye\n",
    "left_comp_dEye = eyeT[(np.append(dEye, 0) > hffm.low_sacc_thresh) & (np.append(dGaze, 0) < hffm.gaze_sacc_thresh)]\n",
    "right_comp_dEye = eyeT[(np.append(dEye, 0) < -hffm.low_sacc_thresh) & (np.append(dGaze, 0) > -hffm.gaze_sacc_thresh)]\n",
    "left_comp_dEye = hffm.apply_win_to_comp_sacc(left_comp_dEye, left_gaze_dEye)\n",
    "right_comp_dEye = hffm.apply_win_to_comp_sacc(right_comp_dEye, right_gaze_dEye)\n",
    "hffm.data.at[ind, stim+'_leftsacc_avg_comp_dEye_times'] = left_comp_dEye.astype(object); hffm.data.at[ind, stim+'_rightsacc_avg_comp_dEye_times'] = right_comp_dEye.astype(object)\n",
    "hffm.data.at[ind, stim+'_leftsacc_avg_comp_dEye'] =  hffm.calc_psth(spikeT, left_comp_dEye).astype(object)\n",
    "hffm.data.at[ind, stim+'_rightsacc_avg_comp_dEye'] =  hffm.calc_psth(spikeT, right_comp_dEye).astype(object)\n",
    "\n",
    "# gaze-shift dHead\n",
    "left_gaze_dHead = eyeT[(np.append(dHead, 0) > hffm.low_sacc_thresh) & (np.append(dGaze, 0) > hffm.low_sacc_thresh)]\n",
    "right_gaze_dHead = eyeT[(np.append(dHead, 0) < -hffm.low_sacc_thresh) & (np.append(dGaze, 0) < -hffm.low_sacc_thresh)]\n",
    "hffm.data.at[ind, stim+'_leftsacc_avg_gaze_shift_dHead_times'] = left_gaze_dHead.astype(object); hffm.data.at[ind, stim+'_rightsacc_avg_gaze_shift_dHead_times'] = right_gaze_dHead.astype(object)\n",
    "hffm.data.at[ind, stim+'_leftsacc_avg_gaze_shift_dHead'] =  hffm.calc_psth(spikeT, left_gaze_dHead).astype(object)\n",
    "hffm.data.at[ind, stim+'_rightsacc_avg_gaze_shift_dHead'] =  hffm.calc_psth(spikeT, right_gaze_dHead).astype(object)\n",
    "\n",
    "# comp dHead\n",
    "left_comp_dHead = eyeT[(np.append(dHead,0) > hffm.low_sacc_thresh) & (np.append(dGaze, 0) < hffm.gaze_sacc_thresh)]\n",
    "right_comp_dHead = eyeT[(np.append(dHead,0) < -hffm.low_sacc_thresh) & (np.append(dGaze,0) > -hffm.gaze_sacc_thresh)]\n",
    "left_comp_dHead = hffm.apply_win_to_comp_sacc(left_comp_dHead, left_gaze_dHead)\n",
    "right_comp_dHead = hffm.apply_win_to_comp_sacc(right_comp_dHead, right_gaze_dHead)\n",
    "hffm.data.at[ind, stim+'_leftsacc_avg_comp_dHead_times'] = left_comp_dHead.astype(object); hffm.data.at[ind, stim+'_rightsacc_avg_comp_dHead_times'] = right_comp_dHead.astype(object)\n",
    "hffm.data.at[ind, stim+'_leftsacc_avg_comp_dHead'] =  hffm.calc_psth(spikeT, left_comp_dHead).astype(object)\n",
    "hffm.data.at[ind, stim+'_rightsacc_avg_comp_dHead'] =  hffm.calc_psth(spikeT, right_comp_dHead).astype(object)"
   ]
  },
  {
   "cell_type": "code",
   "execution_count": 169,
   "metadata": {},
   "outputs": [],
   "source": [
    "trange = np.arange(-1,1+0.001,0.001)"
   ]
  },
  {
   "cell_type": "code",
   "execution_count": 173,
   "metadata": {},
   "outputs": [
    {
     "data": {
      "text/plain": [
       "-0.985"
      ]
     },
     "execution_count": 173,
     "metadata": {},
     "output_type": "execute_result"
    }
   ],
   "source": [
    "trange[15]"
   ]
  },
  {
   "cell_type": "code",
   "execution_count": 174,
   "metadata": {},
   "outputs": [
    {
     "data": {
      "text/plain": [
       "0.015"
      ]
     },
     "execution_count": 174,
     "metadata": {},
     "output_type": "execute_result"
    }
   ],
   "source": [
    "0.001*15"
   ]
  },
  {
   "cell_type": "code",
   "execution_count": 7,
   "metadata": {},
   "outputs": [],
   "source": [
    "row = hffm.data.iloc[215]"
   ]
  },
  {
   "cell_type": "code",
   "execution_count": 8,
   "metadata": {},
   "outputs": [],
   "source": [
    "eventT = row['FmLt_leftsacc_avg_gaze_shift_dHead_times'].copy()\n",
    "spikeT = row['FmLt_spikeT'].copy()"
   ]
  },
  {
   "cell_type": "code",
   "execution_count": 168,
   "metadata": {},
   "outputs": [
    {
     "data": {
      "text/plain": [
       "0.01"
      ]
     },
     "execution_count": 168,
     "metadata": {},
     "output_type": "execute_result"
    }
   ],
   "source": [
    "10/1000"
   ]
  },
  {
   "cell_type": "code",
   "execution_count": 175,
   "metadata": {},
   "outputs": [
    {
     "data": {
      "text/plain": [
       "array([-1.015, -1.014, -1.013, ...,  1.013,  1.014,  1.015])"
      ]
     },
     "execution_count": 175,
     "metadata": {},
     "output_type": "execute_result"
    }
   ],
   "source": [
    "win = 1\n",
    "edgedrop = 15/1000\n",
    "resample_size = 0.001\n",
    "np.arange(-win-edgedrop, win+edgedrop+resample_size, resample_size)"
   ]
  },
  {
   "cell_type": "code",
   "execution_count": null,
   "metadata": {},
   "outputs": [],
   "source": [
    "def kde_sdf(spikeT, eventT, bandwidth=10, resample_size=1, edgedrop=15, win=1000):\n",
    "    \"\"\"\n",
    "    bandwidth (in msec)\n",
    "    resample_size (msec)\n",
    "    edgedrop (msec to drop at the start and end of the window so eliminate artifacts of filtering)\n",
    "    win = 1000msec before and after\n",
    "    \"\"\"\n",
    "    # some conversions\n",
    "    bandwidth = bandwith/1000 # msec to sec\n",
    "    resample_size = resample_size/1000 # msec to sec\n",
    "    win = win/1000 # msec to sec\n",
    "    edgedrop = edgedrop/1000\n",
    "    edgedrop_ind = edgedrop/resample_size\n",
    "    \n",
    "    # setup time bins\n",
    "    bins = np.arange(-win-edgedrop, win+edgedrop+resample_size, resample_size)\n",
    "    \n",
    "    # get timestamp of spikes relative to events in eventT\n",
    "    sps = []\n",
    "    for i, t in enumerate(eventT):\n",
    "        sp = spikeT-t\n",
    "        sp = sp[(sp <= (win+edgedrop)) & (sp >= (-win-edgedrop))] # only keep spikes in this window\n",
    "        sps.extend(sp)\n",
    "    sps = np.array(sps) # all values in here are between -1 and 1\n",
    "    \n",
    "    # kernel density estimation\n",
    "    kernel = KernelDensity(kernel='gaussian', bandwidth=bandwidth).fit(sps[:,np.newaxis])\n",
    "    density = kernel.score_samples(bins[:,np.newaxis])\n",
    "    sdf = np.exp(sdf)*(np.size(sps)/np.size(eventT)) # convert back to spike rate\n",
    "    sdf = sdf[edgedrop_ind:-edgedrop_ind]\n",
    "    \n",
    "    return bins, sdf"
   ]
  },
  {
   "cell_type": "code",
   "execution_count": null,
   "metadata": {},
   "outputs": [],
   "source": [
    "def calc_sdf(right, left, label):\n",
    "    \"\"\" Calculate spike density function for all units in a recording.\n",
    "    \"\"\"\n",
    "    \n",
    "        \n",
    "        fig = plt.subplots(np.ceil(self.n_cells/7).astype('int'), 7, figsize=(35,np.int(np.ceil(self.n_cells/3))), dpi=50)\n",
    "        for i, ind in enumerate(self.cells.index):\n",
    "            for s in np.array(right):\n",
    "                hist, _ = np.histogram(self.cells.at[ind,'spikeT']-s, self.trange)\n",
    "                rightavg[i,:] = rightavg[i,:] + hist / (right.size*np.diff(self.trange))\n",
    "            for s in np.array(left):\n",
    "                hist, _ = np.histogram(self.cells.at[ind,'spikeT']-s, self.trange)\n",
    "                leftavg[i,:] = leftavg[i,:]+ hist/(left.size*np.diff(self.trange))\n",
    "            plt.subplot(np.ceil(self.n_cells/7).astype('int'), 7, i+1)\n",
    "            plt.plot(self.trange_x, rightavg[i,:], color='tab:blue')\n",
    "            plt.plot(self.trange_x, leftavg[i,:], color='tab:red')\n",
    "            maxval = np.max(np.maximum(rightavg[i,:], leftavg[i,:]))\n",
    "            plt.vlines(0, 0, maxval*1.5, linestyles='dotted', colors='k')\n",
    "            plt.xlim([-0.5, 0.5])\n",
    "            plt.ylim([0, maxval*1.2])\n",
    "            plt.ylabel('sp/sec')\n",
    "            plt.xlabel('sec')\n",
    "            plt.title(str(ind)+' '+label)\n",
    "        plt.tight_layout()\n",
    "        if self.figs_in_pdf:\n",
    "            self.detail_pdf.savefig(); plt.close()\n",
    "        elif not self.figs_in_pdf:\n",
    "            plt.show()\n",
    "        return rightavg, leftavg"
   ]
  },
  {
   "cell_type": "code",
   "execution_count": null,
   "metadata": {},
   "outputs": [],
   "source": [
    "def plotSDF1():"
   ]
  },
  {
   "cell_type": "code",
   "execution_count": 161,
   "metadata": {},
   "outputs": [],
   "source": [
    "def plotSDF_rec():"
   ]
  },
  {
   "cell_type": "code",
   "execution_count": 162,
   "metadata": {},
   "outputs": [
    {
     "data": {
      "text/plain": [
       "12.486365094642139"
      ]
     },
     "execution_count": 162,
     "metadata": {},
     "output_type": "execute_result"
    }
   ],
   "source": [
    "np.max(row['FmLt_leftsacc_avg_gaze_shift_dHead'])"
   ]
  },
  {
   "cell_type": "code",
   "execution_count": 163,
   "metadata": {},
   "outputs": [
    {
     "data": {
      "text/plain": [
       "12.58141679977459"
      ]
     },
     "execution_count": 163,
     "metadata": {},
     "output_type": "execute_result"
    }
   ],
   "source": [
    "np.max(np.exp(sdf[10:-10])*(n_spikes/n_sacc))"
   ]
  },
  {
   "cell_type": "code",
   "execution_count": 164,
   "metadata": {},
   "outputs": [
    {
     "data": {
      "image/png": "[encoded data removed]",
      "text/plain": [
       "<Figure size 1080x864 with 4 Axes>"
      ]
     },
     "metadata": {
      "needs_background": "light"
     },
     "output_type": "display_data"
    }
   ],
   "source": [
    "plt.subplots(2,2,figsize=(15,12))\n",
    "\n",
    "plt.subplot(221)\n",
    "plt.plot(hffm.trange_x, row['FmLt_leftsacc_avg_gaze_shift_dHead'])\n",
    "plt.title('PSTH')\n",
    "plt.xlabel('sec')\n",
    "plt.ylabel('sp/sec')\n",
    "# plt.xlim([-0.1,0.1])\n",
    "\n",
    "plt.subplot(222)\n",
    "plt.plot(trange[10:-10], np.exp(sdf[10:-10])*(n_spikes/n_sacc))\n",
    "plt.title('SDF (gaus, bnd=6.25ms smpl=1ms)')\n",
    "plt.xlabel('sec')\n",
    "# plt.xlim([-0.1,0.1])\n",
    "\n",
    "plt.subplot(223)\n",
    "plt.plot(hffm.trange_x, row['FmLt_leftsacc_avg_gaze_shift_dHead'])\n",
    "# plt.title('PSTH')\n",
    "plt.xlabel('sec')\n",
    "plt.ylabel('sp/sec')\n",
    "plt.xlim([-0.1,0.1])\n",
    "\n",
    "plt.subplot(224)\n",
    "plt.plot(trange[10:-10], np.exp(sdf[10:-10])*(n_spikes/n_sacc))\n",
    "# plt.title('SDF (bndwdth=25ms resmpl=1ms)')\n",
    "plt.xlabel('sec')\n",
    "plt.xlim([-0.1,0.1])\n",
    "\n",
    "plt.tight_layout()"
   ]
  },
  {
   "cell_type": "code",
   "execution_count": null,
   "metadata": {},
   "outputs": [],
   "source": []
  },
  {
   "cell_type": "code",
   "execution_count": 108,
   "metadata": {},
   "outputs": [],
   "source": [
    "n_spikes = np.size(sps)\n",
    "samp_inter = 0.001\n",
    "n_sacc = np.size(eventT)"
   ]
  },
  {
   "cell_type": "code",
   "execution_count": 114,
   "metadata": {},
   "outputs": [
    {
     "data": {
      "text/plain": [
       "array([3.49053577, 3.63169714, 3.73435996, ..., 3.25954443, 3.24671158,\n",
       "       3.25954443])"
      ]
     },
     "execution_count": 114,
     "metadata": {},
     "output_type": "execute_result"
    }
   ],
   "source": []
  },
  {
   "cell_type": "code",
   "execution_count": 98,
   "metadata": {},
   "outputs": [],
   "source": [
    "a = np.size(eventT)\n",
    "b = np.size(trange)\n",
    "c = 0.001\n",
    "d = 0.0125"
   ]
  },
  {
   "cell_type": "code",
   "execution_count": 103,
   "metadata": {},
   "outputs": [
    {
     "data": {
      "text/plain": [
       "24599"
      ]
     },
     "execution_count": 103,
     "metadata": {},
     "output_type": "execute_result"
    }
   ],
   "source": [
    "np.size(sps)"
   ]
  },
  {
   "cell_type": "code",
   "execution_count": null,
   "metadata": {},
   "outputs": [],
   "source": []
  },
  {
   "cell_type": "code",
   "execution_count": 61,
   "metadata": {},
   "outputs": [
    {
     "data": {
      "text/plain": [
       "3.117"
      ]
     },
     "execution_count": 61,
     "metadata": {},
     "output_type": "execute_result"
    }
   ],
   "source": [
    "np.size(eventT,0)*0.001"
   ]
  },
  {
   "cell_type": "code",
   "execution_count": 59,
   "metadata": {},
   "outputs": [
    {
     "data": {
      "text/plain": [
       "2025"
      ]
     },
     "execution_count": 59,
     "metadata": {},
     "output_type": "execute_result"
    }
   ],
   "source": [
    "np.size(trange)"
   ]
  },
  {
   "cell_type": "code",
   "execution_count": 25,
   "metadata": {},
   "outputs": [
    {
     "data": {
      "text/plain": [
       "[<matplotlib.lines.Line2D at 0x7fe1b0a328b0>]"
      ]
     },
     "execution_count": 25,
     "metadata": {},
     "output_type": "execute_result"
    },
    {
     "data": {
      "image/png": "[encoded data removed]",
      "text/plain": [
       "<Figure size 432x288 with 1 Axes>"
      ]
     },
     "metadata": {
      "needs_background": "light"
     },
     "output_type": "display_data"
    }
   ],
   "source": [
    "plt.plot(trange[2:-3], sdf[2:-3]*(np.size(sps)/np.size(trange)))"
   ]
  },
  {
   "cell_type": "code",
   "execution_count": 65,
   "metadata": {},
   "outputs": [
    {
     "data": {
      "text/plain": [
       "[<matplotlib.lines.Line2D at 0x7f0b898ca3d0>]"
      ]
     },
     "execution_count": 65,
     "metadata": {},
     "output_type": "execute_result"
    },
    {
     "data": {
      "image/png": "[encoded data removed]",
      "text/plain": [
       "<Figure size 432x288 with 1 Axes>"
      ]
     },
     "metadata": {
      "needs_background": "light"
     },
     "output_type": "display_data"
    }
   ],
   "source": [
    "plt.plot(np.sum(kde_input,0))"
   ]
  },
  {
   "cell_type": "code",
   "execution_count": 120,
   "metadata": {},
   "outputs": [],
   "source": [
    "xplot = np.linspace(-5, 10, 1000)[:, np.newaxis]\n",
    "N = 20\n",
    "X = np.concatenate(\n",
    "    (np.random.normal(0, 1, int(0.3 * N)), np.random.normal(5, 1, int(0.7 * N)))\n",
    ")[:, np.newaxis]\n",
    "bins = np.linspace(-5, 10, 10)"
   ]
  },
  {
   "cell_type": "code",
   "execution_count": 125,
   "metadata": {},
   "outputs": [
    {
     "data": {
      "text/plain": [
       "(20, 1)"
      ]
     },
     "execution_count": 125,
     "metadata": {},
     "output_type": "execute_result"
    }
   ],
   "source": [
    "X.shape"
   ]
  },
  {
   "cell_type": "code",
   "execution_count": 122,
   "metadata": {},
   "outputs": [
    {
     "data": {
      "text/plain": [
       "(1000, 1)"
      ]
     },
     "execution_count": 122,
     "metadata": {},
     "output_type": "execute_result"
    }
   ],
   "source": [
    "xplot.shape"
   ]
  },
  {
   "cell_type": "code",
   "execution_count": 123,
   "metadata": {},
   "outputs": [
    {
     "data": {
      "text/plain": [
       "(10,)"
      ]
     },
     "execution_count": 123,
     "metadata": {},
     "output_type": "execute_result"
    }
   ],
   "source": [
    "bins.shape"
   ]
  },
  {
   "cell_type": "code",
   "execution_count": 105,
   "metadata": {},
   "outputs": [
    {
     "data": {
      "text/plain": [
       "(81,)"
      ]
     },
     "execution_count": 105,
     "metadata": {},
     "output_type": "execute_result"
    }
   ],
   "source": [
    "sdf.shape"
   ]
  },
  {
   "cell_type": "code",
   "execution_count": 106,
   "metadata": {},
   "outputs": [],
   "source": [
    "sphist = sdf*np.size(kde_input,0)"
   ]
  },
  {
   "cell_type": "code",
   "execution_count": 107,
   "metadata": {},
   "outputs": [
    {
     "data": {
      "text/plain": [
       "[<matplotlib.lines.Line2D at 0x7f0b7d7c5130>]"
      ]
     },
     "execution_count": 107,
     "metadata": {},
     "output_type": "execute_result"
    },
    {
     "data": {
      "image/png": "[encoded data removed]",
      "text/plain": [
       "<Figure size 432x288 with 1 Axes>"
      ]
     },
     "metadata": {
      "needs_background": "light"
     },
     "output_type": "display_data"
    }
   ],
   "source": [
    "plt.plot(sphist)"
   ]
  },
  {
   "cell_type": "code",
   "execution_count": 87,
   "metadata": {},
   "outputs": [],
   "source": [
    "from scipy.stats import gaussian_kde"
   ]
  },
  {
   "cell_type": "code",
   "execution_count": 90,
   "metadata": {},
   "outputs": [],
   "source": [
    "kernel = gaussian_kde(kde_input.T)"
   ]
  },
  {
   "cell_type": "code",
   "execution_count": 98,
   "metadata": {},
   "outputs": [],
   "source": [
    "kde_in = kde_input.T"
   ]
  },
  {
   "cell_type": "code",
   "execution_count": 103,
   "metadata": {},
   "outputs": [
    {
     "data": {
      "text/plain": [
       "array([1.32190457e-84])"
      ]
     },
     "execution_count": 103,
     "metadata": {},
     "output_type": "execute_result"
    }
   ],
   "source": [
    "kde = gaussian_kde(kde_in, bw_method=0.2 / kde_in.std(ddof=1))\n",
    "kde.evaluate(trange[:-1,np.newaxis])"
   ]
  },
  {
   "cell_type": "code",
   "execution_count": null,
   "metadata": {},
   "outputs": [],
   "source": []
  },
  {
   "cell_type": "code",
   "execution_count": null,
   "metadata": {},
   "outputs": [],
   "source": []
  },
  {
   "cell_type": "code",
   "execution_count": null,
   "metadata": {},
   "outputs": [],
   "source": []
  },
  {
   "cell_type": "code",
   "execution_count": 75,
   "metadata": {},
   "outputs": [
    {
     "data": {
      "text/plain": [
       "30"
      ]
     },
     "execution_count": 75,
     "metadata": {},
     "output_type": "execute_result"
    }
   ],
   "source": [
    "np.argmax(sdf)"
   ]
  },
  {
   "cell_type": "code",
   "execution_count": 11,
   "metadata": {},
   "outputs": [],
   "source": [
    "def calc_psth(spikeT, eventT):\n",
    "    psth = np.zeros(hffm.trange.size-1)\n",
    "    kde_input = np.zeros([eventT.size, hffm.trange.size-1])\n",
    "    for i, t in enumerate(eventT):\n",
    "        x, _ = np.histogram(spikeT-t, hffm.trange)\n",
    "        kde_input[i,:] = x / np.diff(hffm.trange)\n",
    "    \n",
    "#     kde = KernelDensity(kernel='gaussian', bandwidth=0.2)\n",
    "#     kde.fit(np.reshape(row['FmLt_rate'],[-1,1]))\n",
    "#     sdf = kde.score_samples(psth,[-1,1]))\n",
    "    return psth\n",
    "\n",
    "psth = calc_psth(spikeT, movT)\n",
    "plt.plot(psth)"
   ]
  },
  {
   "cell_type": "code",
   "execution_count": 9,
   "metadata": {},
   "outputs": [],
   "source": [
    "i = 100; t = movT[i]\n",
    "hist, _ = np.histogram(spikeT-t, hffm.trange)\n",
    "hist / "
   ]
  },
  {
   "cell_type": "code",
   "execution_count": 10,
   "metadata": {},
   "outputs": [
    {
     "data": {
      "text/plain": [
       "array([0, 0, 0, 0, 0, 0, 0, 0, 0, 0, 0, 0, 0, 0, 0, 0, 1, 0, 0, 0, 0, 0,\n",
       "       0, 0, 0, 0, 0, 0, 0, 0, 0, 0, 0, 0, 0, 0, 0, 0, 0, 0, 1, 0, 0, 1,\n",
       "       0, 0, 0, 0, 0, 0, 0, 0, 0, 0, 0, 0, 0, 1, 0, 0, 0, 0, 0, 0, 0, 0,\n",
       "       0, 0, 0, 0, 0, 0, 0, 0, 0, 0, 0, 0, 0, 0, 0, 0, 0])"
      ]
     },
     "execution_count": 10,
     "metadata": {},
     "output_type": "execute_result"
    }
   ],
   "source": [
    "hist"
   ]
  },
  {
   "cell_type": "code",
   "execution_count": null,
   "metadata": {},
   "outputs": [],
   "source": [
    "sacc_sp = np.zeros([np.size(movT), np.size(hffm.trange)-1])\n",
    "for i, t in enumerate(movT):\n",
    "    sacc_sp[i,:], _ = np.histogram(spikeT-t, hffm.trange)"
   ]
  },
  {
   "cell_type": "code",
   "execution_count": null,
   "metadata": {},
   "outputs": [],
   "source": [
    "plt.plot(row['FmLt_leftsacc_avg_gaze_shift_dHead'])"
   ]
  },
  {
   "cell_type": "code",
   "execution_count": null,
   "metadata": {},
   "outputs": [],
   "source": [
    "kde = KernelDensity(kernel='gaussian', bandwidth=0.2)\n",
    "kde.fit(np.reshape(row['FmLt_rate'],[-1,1]))\n",
    "density = kde.score_samples(np.reshape(row['FmLt_rate'],[-1,1]))\n",
    "psth = hffm.calc_psth(density, row['FmLt_leftsacc_avg_gaze_shift_dHead_times'])"
   ]
  },
  {
   "cell_type": "code",
   "execution_count": null,
   "metadata": {},
   "outputs": [],
   "source": [
    "psth"
   ]
  },
  {
   "cell_type": "code",
   "execution_count": null,
   "metadata": {},
   "outputs": [],
   "source": []
  },
  {
   "cell_type": "code",
   "execution_count": null,
   "metadata": {},
   "outputs": [],
   "source": []
  },
  {
   "cell_type": "code",
   "execution_count": null,
   "metadata": {},
   "outputs": [],
   "source": [
    "movements = np.zeros([np.size(movT), np.size(hffm.trange)-1])\n",
    "for i, t in enumerate(movT):\n",
    "    movements[i,:], _ = np.histogram(spikeT-t, hffm.trange)"
   ]
  },
  {
   "cell_type": "code",
   "execution_count": null,
   "metadata": {},
   "outputs": [],
   "source": []
  },
  {
   "cell_type": "code",
   "execution_count": null,
   "metadata": {},
   "outputs": [],
   "source": [
    "density = kde.score_samples(movements)"
   ]
  },
  {
   "cell_type": "code",
   "execution_count": null,
   "metadata": {},
   "outputs": [],
   "source": [
    "density.shape"
   ]
  },
  {
   "cell_type": "code",
   "execution_count": null,
   "metadata": {},
   "outputs": [],
   "source": [
    "plt.plot(density)"
   ]
  },
  {
   "cell_type": "code",
   "execution_count": null,
   "metadata": {},
   "outputs": [],
   "source": [
    "def calc_kde_psth():\n",
    "    psth = np.zeros(self.trange.size-1)\n",
    "    for s in np.array(eventT):\n",
    "        hist, _ = np.histogram(spikeT-s, self.trange)\n",
    "        psth = psth + hist / (eventT.size*np.diff(self.trange))\n",
    "    return psth"
   ]
  },
  {
   "cell_type": "code",
   "execution_count": null,
   "metadata": {},
   "outputs": [],
   "source": [
    "hffm.summarize_population()"
   ]
  },
  {
   "cell_type": "code",
   "execution_count": null,
   "metadata": {},
   "outputs": [],
   "source": [
    "hffm.save(fname='hffm_040622', savedir='/home/niell_lab/data/freely_moving_ephys/batch_files/040622')"
   ]
  },
  {
   "cell_type": "code",
   "execution_count": null,
   "metadata": {},
   "outputs": [],
   "source": [
    "ltdk = Population(savepath='/home/niell_lab/data/freely_moving_ephys/batch_files/021022/ltdk')\n",
    "ltdk.load(fname='ltdk_031822')\n",
    "ltdk.exptype = 'ltdk'"
   ]
  },
  {
   "cell_type": "code",
   "execution_count": null,
   "metadata": {},
   "outputs": [],
   "source": [
    "ltdk.summarize_population()"
   ]
  },
  {
   "cell_type": "code",
   "execution_count": null,
   "metadata": {},
   "outputs": [],
   "source": [
    "hffm.save(fname='ltdk_040622', savedir='/home/niell_lab/data/freely_moving_ephys/batch_files/040622')"
   ]
  }
 ],
 "metadata": {
  "kernelspec": {
   "display_name": "Python [conda env:ephys0]",
   "language": "python",
   "name": "conda-env-ephys0-py"
  },
  "language_info": {
   "codemirror_mode": {
    "name": "ipython",
    "version": 3
   },
   "file_extension": ".py",
   "mimetype": "text/x-python",
   "name": "python",
   "nbconvert_exporter": "python",
   "pygments_lexer": "ipython3",
   "version": "3.8.12"
  }
 },
 "nbformat": 4,
 "nbformat_minor": 4
}
