{
 "cells": [
  {
   "cell_type": "code",
   "execution_count": 1,
   "id": "c7a70ca3-c395-4f2c-bb91-1dd5ac3a6920",
   "metadata": {},
   "outputs": [],
   "source": [
    "import sys, os\n",
    "sys.path.insert(0, '/home/niell_lab/Documents/github/FreelyMovingEphys/')\n",
    "import matplotlib.pyplot as plt\n",
    "import matplotlib as mpl\n",
    "from matplotlib import cm\n",
    "import matplotlib.gridspec as gridspec\n",
    "import numpy as np\n",
    "import pandas as pd\n",
    "from scipy.interpolate import interp1d\n",
    "from scipy.stats import linregress\n",
    "from tqdm import tqdm\n",
    "from sklearn.neighbors import KernelDensity\n",
    "from projects.ephys.population import Population\n",
    "from src.utils.path import find\n",
    "from src.utils.auxiliary import flatten_series"
   ]
  },
  {
   "cell_type": "code",
   "execution_count": 33,
   "id": "8ac95f54-cb96-42ff-b932-fbe773501bd9",
   "metadata": {},
   "outputs": [],
   "source": [
    "import matplotlib as mpl\n",
    "mpl.rcParams['axes.spines.top'] = False\n",
    "mpl.rcParams['axes.spines.right'] = False\n",
    "mpl.rcParams['pdf.fonttype'] = 42\n",
    "mpl.rcParams['ps.fonttype'] = 42\n",
    "%matplotlib inline\n",
    "mpl.rcParams.update({'font.size':10})"
   ]
  },
  {
   "cell_type": "code",
   "execution_count": 2,
   "id": "5a70f75c-ba1f-4a2f-a706-1f7ef2d74b29",
   "metadata": {},
   "outputs": [
    {
     "name": "stdout",
     "output_type": "stream",
     "text": [
      "reading from /home/niell_lab/Data/freely_moving_ephys/batch_files/051322/hffm_051322.pickle\n"
     ]
    }
   ],
   "source": [
    "hffm_savepath = '/home/niell_lab/Data/freely_moving_ephys/batch_files/051322'\n",
    "hffm = Population(savepath=hffm_savepath)\n",
    "hffm.load(fname='hffm_051322')"
   ]
  },
  {
   "cell_type": "code",
   "execution_count": 3,
   "id": "72b51c73-fe57-4f6b-a599-b1b175a2b8b4",
   "metadata": {},
   "outputs": [],
   "source": [
    "def apply_win_to_comp_sacc(comp, gazeshift, win=0.25):\n",
    "    bad_comp = np.array([c for c in comp for g in gazeshift if ((g>(c-win)) & (g<(c+win)))])\n",
    "    comp_times = np.delete(comp, np.isin(comp, bad_comp))\n",
    "    return comp_times"
   ]
  },
  {
   "cell_type": "code",
   "execution_count": 4,
   "id": "47a24089-5569-41c8-81d9-4d655275d37c",
   "metadata": {},
   "outputs": [],
   "source": [
    "saccthresh = { # deg/sec\n",
    "        'gaze_stationary': 120,\n",
    "        'gaze_moved': 240\n",
    "    }"
   ]
  },
  {
   "cell_type": "code",
   "execution_count": 30,
   "id": "4d6f404e-95da-45d0-8c9f-7d6a28244794",
   "metadata": {},
   "outputs": [],
   "source": [
    "def jitter_ax(center, size):\n",
    "    return np.ones(size)+np.random.uniform(center-0.2, center+0.2, size)"
   ]
  },
  {
   "cell_type": "code",
   "execution_count": 47,
   "id": "38a7ca38-df07-4cb7-b68c-8856578c9eb2",
   "metadata": {},
   "outputs": [],
   "source": [
    "thresh = 240\n",
    "num_left_gaze = []\n",
    "num_right_gaze = []\n",
    "\n",
    "for s, name in enumerate(hffm.data['session'].unique()):\n",
    "    dEye = hffm.data['Wn_dEye_dps'][hffm.data['session']==name].iloc[0]\n",
    "    eyeT = hffm.data['Wn_eyeT'][hffm.data['session']==name].iloc[0][:-1]\n",
    "\n",
    "    gazeL = eyeT[(dEye > thresh)]\n",
    "    gazeR = eyeT[(dEye < -thresh)]\n",
    "    \n",
    "    minutes = (eyeT.size)/60/60\n",
    "    \n",
    "    num_left_gaze.append(len(gazeL)/minutes)\n",
    "    num_right_gaze.append(len(gazeR)/minutes)"
   ]
  },
  {
   "cell_type": "code",
   "execution_count": 49,
   "id": "712fa0d3-b4ce-4eb2-b47c-8f6159a400b2",
   "metadata": {},
   "outputs": [
    {
     "data": {
      "image/png": "[encoded data removed]",
      "text/plain": [
       "<Figure size 450x450 with 1 Axes>"
      ]
     },
     "metadata": {
      "needs_background": "light"
     },
     "output_type": "display_data"
    }
   ],
   "source": [
    "fig, ax = plt.subplots(1,1,figsize=(1.5,1.5),dpi=300)\n",
    "\n",
    "ax.plot(jitter_ax(0, len(num_left_gaze)), num_left_gaze, '.', color='firebrick')\n",
    "ax.plot(jitter_ax(1, len(num_right_gaze)), num_right_gaze, '.', color='firebrick')\n",
    "\n",
    "\n",
    "for i, vals in enumerate([num_left_gaze, num_right_gaze]):\n",
    "    center = i+1\n",
    "    med = np.median(vals)\n",
    "    err = np.std(vals) / np.sqrt(len(vals))\n",
    "    ax.hlines(med, center-.2, center+.2, color='k', linewidth=2)\n",
    "    ax.vlines(center, med-err, med+err, color='k', linewidth=2)\n",
    "\n",
    "ax.set_xticks(np.arange(1,3,1), labels=['L','R'])\n",
    "ax.set_xlim([0.5,2.5])\n",
    "# ax.set_yticks(np.linspace(0,24000,6))\n",
    "# ax.set_ylim([0, 24000])\n",
    "ax.set_ylabel('saccades/min')\n",
    "\n",
    "plt.tight_layout()\n",
    "fig.savefig('/home/niell_lab/Desktop/head-fixed_saccade_rate.pdf')"
   ]
  },
  {
   "cell_type": "code",
   "execution_count": 27,
   "id": "9c1f16cf-e902-444f-884c-61bf1afba936",
   "metadata": {},
   "outputs": [
    {
     "data": {
      "text/plain": [
       "[119, 76, 298, 162, 51, 46, 31, 160, 151]"
      ]
     },
     "execution_count": 27,
     "metadata": {},
     "output_type": "execute_result"
    }
   ],
   "source": [
    "num_left_gaze"
   ]
  },
  {
   "cell_type": "code",
   "execution_count": 28,
   "id": "b896d066-23fa-4c2d-92cd-3a4486260e19",
   "metadata": {},
   "outputs": [
    {
     "data": {
      "text/plain": [
       "[163, 91, 252, 114, 31, 28, 72, 107, 123]"
      ]
     },
     "execution_count": 28,
     "metadata": {},
     "output_type": "execute_result"
    }
   ],
   "source": [
    "num_right_gaze"
   ]
  },
  {
   "cell_type": "code",
   "execution_count": null,
   "id": "07cfdc27-e2eb-42b8-a5b6-f88baa8454ed",
   "metadata": {},
   "outputs": [],
   "source": [
    "\n",
    "    for stim in ['FmLt']:\n",
    "        for s, name in enumerate(hffm.data['session'].unique()):\n",
    "            print('{} stim of {} recording'.format(stim, name))\n",
    "            dHead = hffm.data[stim+'_dHead'][hffm.data['session']==name].iloc[0]\n",
    "            dGaze = hffm.data[stim+'_dGaze'][hffm.data['session']==name].iloc[0]\n",
    "            eyeT = hffm.data[stim+'_eyeT'][hffm.data['session']==name].iloc[0][:-1]\n",
    "            \n",
    "            gazeL = eyeT[(dHead > saccthresh['head_moved']) & (dGaze > saccthresh['gaze_moved'])]\n",
    "            gazeR = eyeT[(dHead < -saccthresh['head_moved']) & (dGaze < -saccthresh['gaze_moved'])]\n",
    "\n",
    "            compL = eyeT[(dHead > saccthresh['head_moved']) & (dGaze < saccthresh['gaze_stationary']) & (dGaze > -saccthresh['gaze_stationary'])]\n",
    "            compR = eyeT[(dHead < -saccthresh['head_moved']) & (dGaze > -saccthresh['gaze_stationary']) & (dGaze < saccthresh['gaze_stationary'])]\n",
    "            \n",
    "            compL = apply_win_to_comp_sacc(compL, gazeL)\n",
    "            compR = apply_win_to_comp_sacc(compR, gazeR)\n",
    "            \n",
    "            # SDFs\n",
    "            for ind in tqdm(hffm.data[hffm.data['session']==name].index.values):\n",
    "                spikeT = hffm.data.loc[ind,stim+'_spikeT']\n",
    "                \n",
    "                movements = [gazeL, gazeR, compL, compR]\n",
    "                movkeys = [stim+'_gazeshift_left_saccPSTH_dHead',\n",
    "                        stim+'_gazeshift_right_saccPSTH_dHead',\n",
    "                        stim+'_comp_left_saccPSTH_dHead',\n",
    "                        stim+'_comp_right_saccPSTH_dHead']\n",
    "                timekeys = [stim+'_gazeshift_left_saccTimes_dHead',\n",
    "                        stim+'_gazeshift_right_saccTimes_dHead',\n",
    "                        stim+'_comp_left_saccTimes_dHead',\n",
    "                        stim+'_comp_right_saccTimes_dHead']\n",
    "                for x in range(4):\n",
    "                    movkey = movkeys[x]; timekey = timekeys[x]\n",
    "                    eventT = movements[x]\n",
    "                    \n",
    "                    # save the spike density function\n",
    "                    _, sdf = calc_kde_sdf(spikeT, eventT)\n",
    "                    hffm.data.at[ind, movkey] = sdf.astype(object)\n",
    "                    \n",
    "                    # save the saccade times\n",
    "                    hffm.data.at[ind, timekey] = eventT.astype(object)\n",
    "\n",
    "    # Save new pickle file\n",
    "    hffm.save(fname='hffm_0411822_sdf', savedir='/home/niell_lab/Desktop/')\n",
    "\n",
    "if __name__ == '__main__':\n",
    "    main()"
   ]
  }
 ],
 "metadata": {
  "kernelspec": {
   "display_name": "Python [conda env:ephys0]",
   "language": "python",
   "name": "conda-env-ephys0-py"
  },
  "language_info": {
   "codemirror_mode": {
    "name": "ipython",
    "version": 3
   },
   "file_extension": ".py",
   "mimetype": "text/x-python",
   "name": "python",
   "nbconvert_exporter": "python",
   "pygments_lexer": "ipython3",
   "version": "3.8.12"
  }
 },
 "nbformat": 4,
 "nbformat_minor": 5
}
