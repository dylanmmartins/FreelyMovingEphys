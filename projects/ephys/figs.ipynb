{
 "cells": [
  {
   "cell_type": "markdown",
   "metadata": {},
   "source": [
    "# Imports"
   ]
  },
  {
   "cell_type": "code",
   "execution_count": null,
   "metadata": {},
   "outputs": [],
   "source": [
    "import sys, os\n",
    "sys.path.insert(0, '/home/niell_lab/Documents/github/FreelyMovingEphys/')\n",
    "from projects.ephys.population import Population\n",
    "import pandas as pd\n",
    "from src.utils.path import find\n",
    "from src.utils.auxiliary import flatten_series\n",
    "import numpy as np\n",
    "import matplotlib.pyplot as plt\n",
    "import matplotlib as mpl\n",
    "from matplotlib import cm\n",
    "import matplotlib.gridspec as gridspec\n",
    "import xarray as xr\n",
    "from matplotlib.patches import Ellipse"
   ]
  },
  {
   "cell_type": "code",
   "execution_count": null,
   "metadata": {},
   "outputs": [],
   "source": [
    "mpl.rcParams.update({'font.size': 25})\n",
    "mpl.rcParams['axes.spines.top'] = False\n",
    "mpl.rcParams['axes.spines.right'] = False"
   ]
  },
  {
   "cell_type": "code",
   "execution_count": null,
   "metadata": {},
   "outputs": [],
   "source": [
    "%matplotlib inline"
   ]
  },
  {
   "cell_type": "markdown",
   "metadata": {},
   "source": [
    "# Load datasets"
   ]
  },
  {
   "cell_type": "code",
   "execution_count": null,
   "metadata": {},
   "outputs": [],
   "source": [
    "hffm_savepath = '/home/niell_lab/Documents/population/hffm'\n",
    "hffm = Population(savepath=hffm_savepath)\n",
    "hffm.load(fname='hffm_pop')"
   ]
  },
  {
   "cell_type": "code",
   "execution_count": null,
   "metadata": {},
   "outputs": [],
   "source": [
    "ltdk_savepath = '/home/niell_lab/Documents/population/ltdk'\n",
    "ltdk = Population(savepath=ltdk_savepath)\n",
    "ltdk.load(fname='ltdk_pop1')"
   ]
  },
  {
   "cell_type": "markdown",
   "metadata": {},
   "source": [
    "# Reorganize some data, set up example data"
   ]
  },
  {
   "cell_type": "code",
   "execution_count": null,
   "metadata": {},
   "outputs": [],
   "source": [
    "demo = hffm.data[hffm.data['session']=='102621_J558NC_control_Rig2'].iloc[0]"
   ]
  },
  {
   "cell_type": "code",
   "execution_count": null,
   "metadata": {},
   "outputs": [],
   "source": [
    "ltdk.data['session'].unique()"
   ]
  },
  {
   "cell_type": "code",
   "execution_count": null,
   "metadata": {},
   "outputs": [],
   "source": [
    "for rsession in ['020322_J577TT_control_Rig2']:\n",
    "    dropinds = ltdk.data[ltdk.data['session']==rsession].index.values\n",
    "    ltdk.data.drop(index=dropinds, inplace=True)"
   ]
  },
  {
   "cell_type": "markdown",
   "metadata": {},
   "source": [
    "# Figure 01: pupil data"
   ]
  },
  {
   "cell_type": "code",
   "execution_count": null,
   "metadata": {},
   "outputs": [],
   "source": [
    "def drop_wraparound(vals, thresh=70, win=2):\n",
    "    drop = [i for i in range(len(vals)-1) if np.abs(np.diff(vals))[i]>thresh]\n",
    "    if len(drop) > 0:\n",
    "        for i in drop:\n",
    "            vals[i-win:i+win] = np.nan\n",
    "    return vals"
   ]
  },
  {
   "cell_type": "code",
   "execution_count": null,
   "metadata": {},
   "outputs": [],
   "source": [
    "def plot_raster(panel, data, start=0, win=15, stim='FmLt'):\n",
    "    n_cells = len(data.index.values)\n",
    "    for i, ind in enumerate(data.index.values):\n",
    "        panel.vlines(data.loc[ind, stim+'_spikeT'][data[stim+'_spikeT']>start][data[stim+'_spikeT']<start+win], i-0.25, i+0.25, 'k', linewidth=0.25)\n",
    "    panel.set_xticks(ticks=np.linspace(0,15*60,6), labels=np.arange(0,18,3))\n",
    "    panel.set_xlim([start, start+win]); panel.set_ylim([n_cells+0.25, -.25])"
   ]
  },
  {
   "cell_type": "code",
   "execution_count": null,
   "metadata": {},
   "outputs": [],
   "source": [
    "hffm.data['session'].unique()"
   ]
  },
  {
   "cell_type": "code",
   "execution_count": null,
   "metadata": {},
   "outputs": [],
   "source": [
    "FmLt_demo_dir = '/home/niell_lab/Documents/ex_data/102621_J558NC/FmLt'"
   ]
  },
  {
   "cell_type": "code",
   "execution_count": null,
   "metadata": {},
   "outputs": [],
   "source": [
    "FmLt_eye_demo = xr.open_dataset(os.path.join(FmLt_demo_dir, '102621_J558NC_control_Rig2_fm1_REYE.nc'))"
   ]
  },
  {
   "cell_type": "code",
   "execution_count": null,
   "metadata": {},
   "outputs": [],
   "source": [
    "FmLt_eye_demo"
   ]
  },
  {
   "cell_type": "code",
   "execution_count": null,
   "metadata": {},
   "outputs": [],
   "source": [
    "pts = FmLt_eye_demo.REYE_pts\n",
    "ell = FmLt_eye_demo.REYE_ellipse_params"
   ]
  },
  {
   "cell_type": "code",
   "execution_count": null,
   "metadata": {},
   "outputs": [],
   "source": [
    "eye_frames = FmLt_ephys_demo['FmLt_eyeT'][1700:1750]"
   ]
  },
  {
   "cell_type": "code",
   "execution_count": null,
   "metadata": {},
   "outputs": [],
   "source": [
    "ell_frames = .sel()"
   ]
  },
  {
   "cell_type": "code",
   "execution_count": null,
   "metadata": {},
   "outputs": [],
   "source": [
    "cmap = plt.cm.summer(np.linspace(0,1,50))\n",
    "\n",
    "start = 1720\n",
    "for f in range(start,start+50):\n",
    "    for i in range(1,9):\n",
    "        plt.plot(pts.sel(frame=f).sel(point_loc='pt'+str(i)+'_x').values,\n",
    "                 pts.sel(frame=f).sel(point_loc='pt'+str(i)+'_y').values,\n",
    "                '.', color=cmap[f-start], markersize=15)\n",
    "        \n",
    "        mean_spot_x = pts.sel(frame=f).sel(point_loc=['spot1_x','spot2_x','spot3_x','spot4_x','spot_cent_x']).mean().values\n",
    "        mean_spot_y = pts.sel(frame=f).sel(point_loc=['spot1_y','spot2_y','spot3_y','spot4_y','spot_cent_y']).mean().values\n",
    "        \n",
    "        ellipse_phi = np.rad2deg(ell.sel(frame=f).sel(ellipse_params='ellipse_phi').values)\n",
    "        x = ((ell.sel(frame=f).sel(ellipse_params='X0').values)+mean_spot_x)\n",
    "        y = ((ell.sel(frame=f).sel(ellipse_params='Y0').values)+mean_spot_y)\n",
    "        long_axis = (ell.sel(frame=f).sel(ellipse_params='longaxis').values)\n",
    "        short_axis = (ell.sel(frame=f).sel(ellipse_params='shortaxis').values)\n",
    "\n",
    "        ell = Ellipse((x, y), long_axis, short_axis, ellipse_phi, edgecolor=cmap[f-start], facecolor='none')\n",
    "        ax.add_patch(ell)\n",
    "        \n",
    "cb = plt.cm.ScalarMappable(norm=None, cmap='summer')\n",
    "cb.set_array(np.linspace(0,1,50))\n",
    "cb.set_clim((0., 50.))\n",
    "plt.colorbar(cb)\n",
    "plt.axis('off')\n",
    "\n"
   ]
  },
  {
   "cell_type": "code",
   "execution_count": null,
   "metadata": {},
   "outputs": [],
   "source": [
    "cb"
   ]
  },
  {
   "cell_type": "code",
   "execution_count": null,
   "metadata": {},
   "outputs": [],
   "source": [
    "pupil_pts = "
   ]
  },
  {
   "cell_type": "code",
   "execution_count": null,
   "metadata": {},
   "outputs": [],
   "source": [
    "FmLt_eye_demo.timestamps.values[1700:1750] - FmLt_ephys_demo['t0']"
   ]
  },
  {
   "cell_type": "code",
   "execution_count": null,
   "metadata": {},
   "outputs": [],
   "source": [
    "savename = '01_pupil_data' # demonstrate the steps of preprocessing\n",
    "\n",
    "start = 1700 # frames, not seconds\n",
    "end = start+(15*60)\n",
    "\n",
    "fig = plt.figure(constrained_layout=True, figsize=(10,8))\n",
    "spec = gridspec.GridSpec(nrows=5, ncols=2, figure=fig)\n",
    "\n",
    "ax_frame = fig.add_subplot(spec[0:3,0])\n",
    "\n",
    "ax_XY = fig.add_subplot(spec[3,0])\n",
    "ax_radius = fig.add_subplot(spec[4,0])\n",
    "ax_theta = fig.add_subplot(spec[2,1])\n",
    "ax_phi = fig.add_subplot(spec[3,1])\n",
    "ax_dEye = fig.add_subplot(spec[4,1])\n",
    "\n",
    "ax_theta.plot(demo['FmLt_theta'][start:end], color='k', linewidth=1)\n",
    "ax_theta.set_xticks(ticks=np.linspace(0,15*60,6), labels=np.arange(0,18,3))\n",
    "ax_theta.set_xlim([0,15*60]); ax_theta.set_ylim([-50,50])\n",
    "ax_theta.set_ylabel('theta (deg)')\n",
    "\n",
    "ax_phi.plot(-demo['FmLt_phi'][start:end], color='k', linewidth=1)\n",
    "ax_phi.set_xticks(ticks=np.linspace(0,15*60,6), labels=np.arange(0,18,3))\n",
    "ax_phi.set_xlim([0,15*60]); ax_phi.set_ylim([-70,70])\n",
    "ax_phi.set_ylabel('phi (deg)')\n",
    "\n",
    "ax_dEye.plot(demo['FmLt_dEye_dps'][start:end], color='k', linewidth=1)\n",
    "ax_dEye.set_xticks(ticks=np.linspace(0,15*60,6), labels=np.arange(0,18,3))\n",
    "ax_dEye.set_xlim([0,15*60]); ax_dEye.set_ylim([-600,600])\n",
    "ax_dEye.set_ylabel('dEye (deg/sec)')\n",
    "\n",
    "fig.show()"
   ]
  },
  {
   "cell_type": "code",
   "execution_count": null,
   "metadata": {},
   "outputs": [],
   "source": [
    "savename = '02_topdown_data' # demonstrate the steps of preprocessing\n",
    "\n",
    "start = 1000\n",
    "end = start+(15*60)\n",
    "\n",
    "fig = plt.figure(constrained_layout=True, figsize=(10,8))\n",
    "spec = gridspec.GridSpec(nrows=5, ncols=2, figure=fig)\n",
    "\n",
    "ax_frame = fig.add_subplot(spec[0:3,0])\n",
    "\n",
    "ax_XY = fig.add_subplot(spec[3,0])\n",
    "ax_speed = fig.add_subplot(spec[4,0])\n",
    "ax_disp = fig.add_subplot(spec[2,1])\n",
    "ax_bodyyaw = fig.add_subplot(spec[3,1])\n",
    "ax_headyaw = fig.add_subplot(spec[4,1])\n",
    "\n",
    "ax_speed.plot(demo['FmLt_top_speed'][start:end], color='k', linewidth=1)\n",
    "ax_speed.set_xticks(ticks=np.linspace(0,15*60,6), labels=np.arange(0,18,3))\n",
    "ax_speed.set_xlim([0,15*60]); #ax_speed.set_ylim([-50,50])\n",
    "ax_speed.set_ylabel('speed (cm/sec)')\n",
    "\n",
    "ax_disp.plot(drop_wraparound(demo['FmLt_top_movement_yaw'][start:end]), color='k', linewidth=1)\n",
    "ax_disp.set_xticks(ticks=np.linspace(0,15*60,6), labels=np.arange(0,18,3))\n",
    "ax_disp.set_xlim([0,15*60])\n",
    "ax_disp.hlines(0, 0, 15*60, colors='tab:orange', linewidth=1, linestyles='dashed') # rightwards horizontal in arena\n",
    "ax_disp.set_ylabel('direction of motion (deg)')\n",
    "\n",
    "ax_bodyyaw.plot(drop_wraparound(demo['FmLt_top_body_yaw'][start:end]), color='k', linewidth=1)\n",
    "ax_bodyyaw.set_xticks(ticks=np.linspace(0,15*60,6), labels=np.arange(0,18,3))\n",
    "ax_bodyyaw.set_xlim([0,15*60])\n",
    "ax_bodyyaw.hlines(0, 0, 15*60, colors='tab:orange', linewidth=1, linestyles='dashed') # rightwards horizontal in arena\n",
    "ax_bodyyaw.set_ylabel('body yaw (deg)')\n",
    "\n",
    "ax_headyaw.plot(drop_wraparound(demo['FmLt_top_head_yaw'][start:end]), color='k', linewidth=1)\n",
    "ax_headyaw.set_xticks(ticks=np.linspace(0,15*60,6), labels=np.arange(0,18,3))\n",
    "ax_headyaw.set_xlim([0,15*60])\n",
    "ax_headyaw.hlines(0, 0, 15*60, colors='tab:orange', linewidth=1, linestyles='dashed') # rightwards horizontal in arena\n",
    "ax_headyaw.set_ylabel('head yaw (deg)')\n",
    "\n",
    "fig.show()"
   ]
  },
  {
   "cell_type": "code",
   "execution_count": null,
   "metadata": {},
   "outputs": [],
   "source": [
    "savename = '03_imu_data'"
   ]
  },
  {
   "cell_type": "code",
   "execution_count": null,
   "metadata": {},
   "outputs": [],
   "source": [
    "savename = '04_ephys_data' # raster, depth from LFP"
   ]
  },
  {
   "cell_type": "code",
   "execution_count": null,
   "metadata": {},
   "outputs": [],
   "source": [
    "savename = '05_world_data' # Wn and Grat analysis, optic flow"
   ]
  },
  {
   "cell_type": "code",
   "execution_count": null,
   "metadata": {},
   "outputs": [],
   "source": [
    "savename = '06_headfixed_recording' # demonstrate the steps of preprocessing\n",
    "\n",
    "# start = 1700\n",
    "# end = start+(15*60)\n",
    "\n",
    "fig = plt.figure(constrained_layout=True, figsize=(10,8))\n",
    "spec = gridspec.GridSpec(nrows=6, ncols=4, figure=fig)\n",
    "\n",
    "ax_Wn_contrast = fig.add_subplot(spec[0,0:2])\n",
    "ax_Wn_raster = fig.add_subplot(spec[1:3,0:2])\n",
    "\n",
    "ax_Wn_tuning_u1 = fig.add_subplot(spec[0,2])\n",
    "ax_Wn_tuning_u2 = fig.add_subplot(spec[1,2])\n",
    "ax_Wn_tuning_u3 = fig.add_subplot(spec[2,2])\n",
    "\n",
    "ax_Wn_sta_u1 = fig.add_subplot(spec[0,3])\n",
    "ax_Wn_sta_u2 = fig.add_subplot(spec[1,3])\n",
    "ax_Wn_sta_u3 = fig.add_subplot(spec[2,3])\n",
    "\n",
    "ax_Gt_contrast = fig.add_subplot(spec[3,0:2])\n",
    "ax_Gt_raster = fig.add_subplot(spec[4:6,0:2])\n",
    "\n",
    "ax_Gt_psth_u1 = fig.add_subplot(spec[3,2])\n",
    "ax_Gt_psth_u2 = fig.add_subplot(spec[4,2])\n",
    "ax_Gt_psth_u3 = fig.add_subplot(spec[5,2])\n",
    "\n",
    "ax_Gt_tuning_u1 = fig.add_subplot(spec[3,3])\n",
    "ax_Gt_tuning_u2 = fig.add_subplot(spec[4,3])\n",
    "ax_Gt_tuning_u3 = fig.add_subplot(spec[5,3])\n",
    "\n",
    "\n",
    "plot_raster(ax_Wn_raster, data=hffm.data[hffm.data['session']=='102821_J570LT_control_Rig2'], stim='Wn')\n",
    "\n",
    "plot_raster(ax_Gt_raster, data=hffm.data[hffm.data['session']=='102821_J570LT_control_Rig2'], stim='Gt')\n",
    "\n",
    "# ax_XY = fig.add_subplot(spec[3,0])\n",
    "# ax_radius = fig.add_subplot(spec[4,0])\n",
    "# ax_theta = fig.add_subplot(spec[2,1])\n",
    "# ax_phi = fig.add_subplot(spec[3,1])\n",
    "# ax_dEye = fig.add_subplot(spec[4,1])\n",
    "\n",
    "# ax_theta.plot(demo['FmLt_theta'][start:end], color='k', linewidth=1)\n",
    "# ax_theta.set_xticks(ticks=np.linspace(0,15*60,6), labels=np.arange(0,18,3))\n",
    "# ax_theta.set_xlim([0,15*60]); ax_theta.set_ylim([-50,50])\n",
    "# ax_theta.set_ylabel('theta (deg)')\n",
    "\n",
    "# ax_phi.plot(-demo['FmLt_phi'][start:end], color='k', linewidth=1)\n",
    "# ax_phi.set_xticks(ticks=np.linspace(0,15*60,6), labels=np.arange(0,18,3))\n",
    "# ax_phi.set_xlim([0,15*60]); ax_phi.set_ylim([-70,70])\n",
    "# ax_phi.set_ylabel('phi (deg)')\n",
    "\n",
    "# ax_dEye.plot(demo['FmLt_dEye_dps'][start:end], color='k', linewidth=1)\n",
    "# ax_dEye.set_xticks(ticks=np.linspace(0,15*60,6), labels=np.arange(0,18,3))\n",
    "# ax_dEye.set_xlim([0,15*60]); ax_dEye.set_ylim([-600,600])\n",
    "# ax_dEye.set_ylabel('dEye (deg/sec)')\n",
    "\n",
    "fig.show()"
   ]
  },
  {
   "cell_type": "markdown",
   "metadata": {},
   "source": [
    "# Figure 08: Saccade and fixate"
   ]
  },
  {
   "cell_type": "code",
   "execution_count": null,
   "metadata": {},
   "outputs": [],
   "source": [
    "def eyemov_psth(panel, i, movtype):\n",
    "    right = hffm.data['FmLt_rightsacc_avg_'+movtype+'_dEye'][hffm.data['session']=='102621_J558NC_control_Rig2'][hffm.data['index']==i].iloc[0]\n",
    "    panel.plot(hffm.trange_x, right, color=hffm.cmap_sacc[0])\n",
    "    left = hffm.data['FmLt_leftsacc_avg_'+movtype+'_dEye'][hffm.data['session']=='102621_J558NC_control_Rig2'][hffm.data['index']==i].iloc[0]\n",
    "    panel.plot(hffm.trange_x, left, color=hffm.cmap_sacc[1])\n",
    "    maxval = np.max(np.maximum(right, left))*1.2\n",
    "    panel.set_ylim([0, maxval])\n",
    "    panel.set_xlim([-0.2, 0.4])"
   ]
  },
  {
   "cell_type": "code",
   "execution_count": null,
   "metadata": {},
   "outputs": [],
   "source": [
    "fig = plt.figure(constrained_layout=True, figsize=(11,8))\n",
    "spec = gridspec.GridSpec(nrows=6, ncols=8, figure=fig)\n",
    "\n",
    "start = 2090 #2100\n",
    "win = 60 # frames, not sec\n",
    "ex_units = [466,40,266,13]\n",
    "\n",
    "ax_deyehead = fig.add_subplot(spec[0:3,0:3])\n",
    "ax_theta = fig.add_subplot(spec[0,3:6])\n",
    "ax_headyaw = fig.add_subplot(spec[1,3:6])\n",
    "ax_dEye = fig.add_subplot(spec[2,3:6])\n",
    "ax_dHead = fig.add_subplot(spec[3,3:6])\n",
    "ax_gaze = fig.add_subplot(spec[4:,3:6])\n",
    "ax_u1_gazeshift = fig.add_subplot(spec[2,6])\n",
    "ax_u1_comp = fig.add_subplot(spec[2,7])\n",
    "ax_u2_gazeshift = fig.add_subplot(spec[3,6])\n",
    "ax_u2_comp = fig.add_subplot(spec[3,7])\n",
    "ax_u3_gazeshift = fig.add_subplot(spec[4,6])\n",
    "ax_u3_comp = fig.add_subplot(spec[4,7])\n",
    "ax_u4_gazeshift = fig.add_subplot(spec[5,6])\n",
    "ax_u4_comp = fig.add_subplot(spec[5,7])\n",
    "\n",
    "# sthresh = 5/0.016\n",
    "# right = eyeT[(np.append(dEye, 0) > sthresh) & (np.append(dGaze,0) > sthresh)]\n",
    "# left = eyeT[(np.append(dEye, 0) < -sthresh) & (np.append(dGaze,0) < -sthresh)]\n",
    "# compinds = [f for f in np.arange(0,len(dEye)) if f not in right and f not in left]\n",
    "# ax_deyehead.plot(dEye[right][::10], dHead[right][::10], '.', color=hffm.cmap_sacc[0], markersize=2)\n",
    "# ax_deyehead.plot(dEye[left][::10], dHead[left][::10], '.', color=hffm.cmap_sacc[1], markersize=2)\n",
    "# ax_deyehead.plot(dEye[compinds][::10], dHead[compinds][::10], '.', color='gray', markersize=3)\n",
    "ax_deyehead.plot(demo['FmLt_dHead'][::10], demo['FmLt_dEye_dps'][::10], 'k.', markersize=2)\n",
    "ax_deyehead.axis('equal')\n",
    "ax_deyehead.set_xlim([-600,600]); ax_deyehead.set_ylim([-600,600])\n",
    "ax_deyehead.set_xlabel('dHead (deg/sec)'); ax_deyehead.set_ylabel('dEye (deg/sec)')\n",
    "ax_deyehead.plot([-500,500],[500,-500], 'r:')\n",
    "\n",
    "theta_data = demo['FmLt_theta'][start:start+win]\n",
    "theta_data = theta_data - np.nanmean(theta_data)\n",
    "ax_theta.plot(theta_data, 'k-', linewidth=1)\n",
    "ax_theta.set_xlim([0,60]); ax_theta.set_xticks(ticks=np.linspace(0,60,5), labels=np.linspace(0,1,5))\n",
    "ax_theta.set_ylabel('theta (deg)')\n",
    "ax_theta.set_ylim([-10,10])\n",
    "\n",
    "ax_dEye.plot(demo['FmLt_dEye_dps'][start:start+win], 'k-', linewidth=1)\n",
    "ax_dEye.set_xlim([0,60]); ax_dEye.set_xticks(ticks=np.linspace(0,60,5), labels=np.linspace(0,1,5))\n",
    "ax_dEye.set_ylabel('dEye (deg/sec)')\n",
    "ax_dEye.set_ylim([-600,600])\n",
    "\n",
    "dHead_data = demo['FmLt_dHead'][start:start+win]\n",
    "ax_dHead.plot(dHead_data, 'k-', linewidth=1)\n",
    "ax_dHead.set_xlim([0,60]); ax_dHead.set_xticks(ticks=np.linspace(0,60,5), labels=np.linspace(0,1,5))\n",
    "ax_dHead.set_ylabel('dHead (deg/sec)')\n",
    "ax_dHead.set_ylim([-600,600])\n",
    "\n",
    "pYaw = np.nancumsum(dHead_data*0.016)\n",
    "pYaw = pYaw - np.nanmean(pYaw)\n",
    "ax_headyaw.plot(pYaw, 'k-', linewidth=1)\n",
    "ax_headyaw.set_xlim([0,60]); ax_headyaw.set_xticks(ticks=np.linspace(0,60,5), labels=np.linspace(0,1,5))\n",
    "ax_headyaw.set_ylabel('head yaw (deg)')\n",
    "# ax_headyaw.set_ylim([-10,10])\n",
    "\n",
    "ax_gaze.plot(pYaw + theta_data, 'k-', linewidth=1)\n",
    "ax_gaze.set_xlim([0,60]); ax_gaze.set_xticks(ticks=np.linspace(0,60,5), labels=np.linspace(0,1,5))\n",
    "ax_gaze.set_ylabel('gaze (theta + head yaw, deg)')\n",
    "\n",
    "eyemov_psth(ax_u1_gazeshift, ex_units[0], 'gaze_shift')\n",
    "eyemov_psth(ax_u2_gazeshift, ex_units[1], 'gaze_shift')\n",
    "eyemov_psth(ax_u3_gazeshift, ex_units[2], 'gaze_shift')\n",
    "eyemov_psth(ax_u4_gazeshift, ex_units[3], 'gaze_shift')\n",
    "\n",
    "eyemov_psth(ax_u1_comp, ex_units[0], 'comp')\n",
    "eyemov_psth(ax_u2_comp, ex_units[1], 'comp')\n",
    "eyemov_psth(ax_u3_comp, ex_units[2], 'comp')\n",
    "eyemov_psth(ax_u4_comp, ex_units[3], 'comp')\n",
    "\n",
    "ax_u1_gazeshift.set_ylim([0,16]); ax_u1_comp.set_ylim([0,16])\n",
    "ax_u2_gazeshift.set_ylim([0,9]); ax_u2_comp.set_ylim([0,9])\n",
    "ax_u3_gazeshift.set_ylim([0,58]); ax_u3_comp.set_ylim([0,58])\n",
    "ax_u4_gazeshift.set_ylim([0,17]); ax_u4_comp.set_ylim([0,17])\n",
    "\n",
    "ax_u1_gazeshift.set_title('gaze-shifting')\n",
    "ax_u1_comp.set_title('compensatory')\n",
    "\n",
    "fig.savefig('/home/niell_lab/Desktop/eyemov_paper/08_saccade_and_fixate.pdf')"
   ]
  },
  {
   "cell_type": "markdown",
   "metadata": {},
   "source": [
    "# Figure 9: normalization and clustering"
   ]
  },
  {
   "cell_type": "code",
   "execution_count": null,
   "metadata": {},
   "outputs": [],
   "source": [
    "pca = np.load('/home/niell_lab/Documents/population/hffm/dEye_PSTH_pca.npy')\n",
    "Z = hffm.data['mov_kmclust'].values\n",
    "km2label_s = pd.Series(hffm.data['movcluster'].copy().values, Z)\n",
    "km2label = {}\n",
    "for km in sorted(km2label_s.index.unique()):\n",
    "    km2label[km2label_s[km].unique()[0]] = km\n",
    "vcounts = hffm.data['movcluster'].value_counts()"
   ]
  },
  {
   "cell_type": "code",
   "execution_count": null,
   "metadata": {},
   "outputs": [],
   "source": [
    "import umap"
   ]
  },
  {
   "cell_type": "code",
   "execution_count": null,
   "metadata": {},
   "outputs": [],
   "source": [
    "reducer = umap.UMAP()"
   ]
  },
  {
   "cell_type": "code",
   "execution_count": null,
   "metadata": {},
   "outputs": [],
   "source": [
    "gazeshift_arr = flatten_series(hffm.data['pref_gazeshift_psth'])"
   ]
  },
  {
   "cell_type": "code",
   "execution_count": null,
   "metadata": {},
   "outputs": [],
   "source": [
    "gazeshift_arr.shape"
   ]
  },
  {
   "cell_type": "code",
   "execution_count": null,
   "metadata": {},
   "outputs": [],
   "source": [
    "embedding = reducer.fit_transform(gazeshift_arr)"
   ]
  },
  {
   "cell_type": "code",
   "execution_count": null,
   "metadata": {},
   "outputs": [],
   "source": [
    "embedding.shape"
   ]
  },
  {
   "cell_type": "code",
   "execution_count": null,
   "metadata": {},
   "outputs": [],
   "source": [
    "fig = plt.figure(constrained_layout=True, figsize=(10,8))\n",
    "spec = gridspec.GridSpec(nrows=4, ncols=4, figure=fig)\n",
    "\n",
    "ax_choose_pref = fig.add_subplot(spec[0,0])\n",
    "ax_normalize = fig.add_subplot(spec[0,1]) # overlay mean of whole population\n",
    "ax_KMeans = fig.add_subplot(spec[1,0])\n",
    "\n",
    "ax_PCA = fig.add_subplot(spec[0:2,2:4])\n",
    "ax_early = fig.add_subplot(spec[1,1])\n",
    "ax_late = fig.add_subplot(spec[2,0])\n",
    "ax_biphasic = fig.add_subplot(spec[2,1])\n",
    "ax_negative = fig.add_subplot(spec[3,0])\n",
    "ax_unresponsive = fig.add_subplot(spec[3,1])\n",
    "ax_frac = fig.add_subplot(spec[2,2])\n",
    "\n",
    "ex_unit = 474\n",
    "right = hffm.data['FmLt_rightsacc_avg_gaze_shift_dEye'][hffm.data['session']=='102621_J558NC_control_Rig2'][hffm.data['index']==ex_unit].iloc[0]\n",
    "left = hffm.data['FmLt_leftsacc_avg_gaze_shift_dEye'][hffm.data['session']=='102621_J558NC_control_Rig2'][hffm.data['index']==ex_unit].iloc[0]\n",
    "ax_choose_pref.plot(hffm.trange_x, right, color=hffm.cmap_sacc[0])\n",
    "ax_choose_pref.plot(hffm.trange_x, left, color=hffm.cmap_sacc[1], linestyle='dashed')\n",
    "maxval = np.max(np.maximum(right, left))*1.2\n",
    "ax_choose_pref.set_ylim([0, maxval])\n",
    "ax_choose_pref.set_xlim([-0.2, 0.4])\n",
    "ax_choose_pref.set_ylabel('sp/sec')\n",
    "\n",
    "allpsth = hffm.data['pref_gazeshift_psth'][hffm.data['movcluster'].isin(['early','late','biphasic','negative','unresponsive'])]\n",
    "for ind, psth in allpsth.iteritems():\n",
    "    ax_normalize.plot(hffm.trange_x, psth, linewidth=1, alpha=0.1)\n",
    "ax_normalize.set_ylim([-0.8,0.8]); ax_normalize.set_xlim([-0.2,0.4])\n",
    "meanpsth = np.mean(flatten_series(allpsth),0)\n",
    "ax_normalize.plot(hffm.trange_x, meanpsth, 'k', linewidth=4)\n",
    "\n",
    "for count, movtype in enumerate(['early','late','biphasic','negative','unresponsive']):\n",
    "    movcolor = hffm.cmap_movclusts[count+1]\n",
    "    for ind, psth in hffm.data['pref_gazeshift_psth'][hffm.data['movcluster']==movtype].iteritems():\n",
    "        ax_KMeans.plot(hffm.trange_x, psth, linewidth=1, alpha=0.1, color=movcolor)\n",
    "ax_KMeans.set_ylim([-0.8,0.8]); ax_KMeans.set_xlim([-0.2,0.4])\n",
    "    \n",
    "for count, movtype in enumerate(['early','late','biphasic','negative','unresponsive']):\n",
    "    movcolor = hffm.cmap_movclusts[count+1]\n",
    "    inds = np.argwhere(Z==km2label[movtype])\n",
    "    ax_PCA.plot(embedding[inds,0], embedding[inds,1], '.', color=movcolor, markersize=8)\n",
    "    ax_PCA.set_title('UMAP Embedding')\n",
    "\n",
    "panels = [ax_early, ax_late, ax_biphasic, ax_negative, ax_unresponsive]\n",
    "movtypes = ['early','late','biphasic','negative','unresponsive']\n",
    "for count in range(5):\n",
    "    panel = panels[count]\n",
    "    movtype = movtypes[count]\n",
    "    clustmean = np.nanmean(flatten_series(hffm.data['pref_gazeshift_psth'][hffm.data['movcluster']==movtype]),0)\n",
    "    panel.plot(hffm.trange_x, clustmean, '-', linewidth=4, color=hffm.cmap_movclusts[count+1])\n",
    "    panel.set_xlim([-0.2,0.4]); panel.set_ylim([-.8,.8])\n",
    "    panel.axis('off')\n",
    "    \n",
    "ax_frac.bar(0,len(hffm.data[hffm.data['movcluster']!='unresponsive']), color='k')\n",
    "ax_frac.bar(1,vcounts['unresponsive'], color=hffm.cmap_movclusts[5])\n",
    "ax_frac.set_xticks(ticks=[0,1], labels=['responsive','unresponsive'])\n",
    "ax_frac.set_ylabel('# neurons')\n",
    "    \n",
    "fig.savefig('/home/niell_lab/Desktop/eyemov_paper/09_norm_and_cluster.pdf')"
   ]
  },
  {
   "cell_type": "markdown",
   "metadata": {},
   "source": [
    "# Figure 10: four eye movement response"
   ]
  },
  {
   "cell_type": "code",
   "execution_count": null,
   "metadata": {},
   "outputs": [],
   "source": [
    "fig = plt.figure(constrained_layout=True, figsize=(10,6))\n",
    "spec = gridspec.GridSpec(nrows=3, ncols=4, figure=fig)\n",
    "\n",
    "ax_early = fig.add_subplot(spec[0,0])\n",
    "ax_late = fig.add_subplot(spec[0,1])\n",
    "ax_biphasic = fig.add_subplot(spec[1,0])\n",
    "ax_negative = fig.add_subplot(spec[1,1])\n",
    "ax_all = fig.add_subplot(spec[0:2,2:4])\n",
    "ax_frac = fig.add_subplot(spec[2,0:2])\n",
    "\n",
    "names = ['early','late','biphasic','negative','unresponsive']\n",
    "for i, name in enumerate(names):\n",
    "    ax_frac.bar(i, vcounts[name], color=hffm.cmap_movclusts[i+1])\n",
    "ax_frac.set_xticks(ticks=range(5), labels=names)\n",
    "ax_frac.set_ylabel('# neurons')\n",
    "\n",
    "panels = [ax_early, ax_late, ax_biphasic, ax_negative]\n",
    "movtypes = ['early','late','biphasic','negative']\n",
    "for count in range(4):\n",
    "    panel = panels[count]\n",
    "    movtype = movtypes[count]\n",
    "    \n",
    "    thisclust = hffm.data['pref_gazeshift_psth'][hffm.data['movcluster']==movtype]\n",
    "    for i, psth in enumerate(thisclust):\n",
    "        panel.plot(hffm.trange_x, psth, '-', linewidth=1, alpha=0.3)\n",
    "    clustmean = np.nanmean(flatten_series(thisclust),0)\n",
    "    panel.plot(hffm.trange_x, clustmean, '-', linewidth=4, color=hffm.cmap_movclusts[count+1])\n",
    "    panel.set_xlim([-0.2,0.4]); panel.set_ylim([-.8,.8])\n",
    "    panel.vlines(0,-.8,.8, colors='k', linestyle='dotted', alpha=0.3)\n",
    "    \n",
    "    ax_all.plot(hffm.trange_x, clustmean, '-', linewidth=4, color=hffm.cmap_movclusts[count+1])\n",
    "    ax_all.set_xlim([-0.2,0.4]); ax_all.set_ylim([-.8,.8])\n",
    "    ax_all.vlines(0,-.8,.8, colors='k', linestyle='dotted', alpha=0.3)\n",
    "    \n",
    "ax_all.annotate('early', xy=[0.18,-0.45], color=hffm.cmap_movclusts[1], fontsize=20)\n",
    "ax_all.annotate('late', xy=[0.18,-0.55], color=hffm.cmap_movclusts[2], fontsize=20)\n",
    "ax_all.annotate('biphasic', xy=[0.18,-0.65], color=hffm.cmap_movclusts[3], fontsize=20)\n",
    "ax_all.annotate('negative', xy=[0.18,-0.75], color=hffm.cmap_movclusts[4], fontsize=20)\n",
    "\n",
    "fig.savefig('/home/niell_lab/Desktop/eyemov_paper/10_four_movclusters.pdf')"
   ]
  },
  {
   "cell_type": "markdown",
   "metadata": {},
   "source": [
    "# Figure 11 & 12: early/late & biphasic/negative"
   ]
  },
  {
   "cell_type": "code",
   "execution_count": null,
   "metadata": {},
   "outputs": [],
   "source": [
    "def plot_movclust(panel, clustname, color, movtype='pref_gazeshift_psth'):\n",
    "    for i, psth in enumerate(hffm.data[movtype][hffm.data['movcluster']==clustname]):\n",
    "        panel.plot(hffm.trange_x, psth, '-', linewidth=1, alpha=0.3)\n",
    "    clustmean = np.nanmean(flatten_series(hffm.data[movtype][hffm.data['movcluster']==clustname]),0)\n",
    "    panel.plot(hffm.trange_x, clustmean, '-', linewidth=4, color=color)\n",
    "    panel.set_xlim([-0.2,0.4]); panel.set_ylim([-.8,.8])"
   ]
  },
  {
   "cell_type": "code",
   "execution_count": null,
   "metadata": {},
   "outputs": [],
   "source": [
    "# preference is defined using only gaze-shifts (so gaze pref and comp non-pref are actualy the same direction)\n",
    "\n",
    "movtypes = ['pref_gazeshift_psth', 'nonpref_gazeshift_psth', 'pref_comp_psth', 'nonpref_comp_psth']\n",
    "for figcount in range(2):\n",
    "    if figcount==0:\n",
    "        clustnames = ['early','late']\n",
    "        colors = [hffm.cmap_movclusts[1], hffm.cmap_movclusts[2]]\n",
    "    else:\n",
    "        clustnames = ['biphasic','negative']\n",
    "        colors = [hffm.cmap_movclusts[3], hffm.cmap_movclusts[4]]\n",
    "\n",
    "    fig = plt.figure(constrained_layout=True, figsize=(10,4))\n",
    "    spec = gridspec.GridSpec(nrows=2, ncols=4, figure=fig)\n",
    "\n",
    "    ax_gp1 = fig.add_subplot(spec[0,0])\n",
    "    ax_gnp1 = fig.add_subplot(spec[0,1])\n",
    "    ax_cp1 = fig.add_subplot(spec[1,0])\n",
    "    ax_cnp1 = fig.add_subplot(spec[1,1])\n",
    "    \n",
    "    ax_gp2 = fig.add_subplot(spec[0,2])\n",
    "    ax_gnp2 = fig.add_subplot(spec[0,3])\n",
    "    ax_cp2 = fig.add_subplot(spec[1,2])\n",
    "    ax_cnp2 = fig.add_subplot(spec[1,3])\n",
    "    \n",
    "    panels = [\n",
    "        [ax_gp1, ax_gnp1, ax_cp1, ax_cnp1],\n",
    "        [ax_gp2, ax_gnp2, ax_cp2, ax_cnp2]\n",
    "    ]\n",
    "    \n",
    "    for i in range(len(clustnames)):\n",
    "        for j in range(len(movtypes)):\n",
    "            plot_movclust(panels[i][j], clustnames[i], colors[i], movtypes[j])\n",
    "            \n",
    "    if figcount==0:\n",
    "        fig.savefig('/home/niell_lab/Desktop/eyemov_paper/11_early_late.pdf')\n",
    "    elif figcount==1:\n",
    "        fig.savefig('/home/niell_lab/Desktop/eyemov_paper/12_biphasic_negative.pdf')"
   ]
  },
  {
   "cell_type": "markdown",
   "metadata": {},
   "source": [
    "# Figure 13: cell type summary"
   ]
  },
  {
   "cell_type": "code",
   "execution_count": null,
   "metadata": {},
   "outputs": [],
   "source": [
    "def plot_movclustPNP(panel, clustname, color, movtype='gazeshift_psth'):\n",
    "    panel.plot(hffm.trange_x, np.nanmean(flatten_series(hffm.data['pref_'+movtype][hffm.data['movcluster']==clustname]),0), '-', linewidth=2, color=color)\n",
    "    panel.plot(hffm.trange_x, np.nanmean(flatten_series(hffm.data['nonpref_'+movtype][hffm.data['movcluster']==clustname]),0), '-', linewidth=2, color=color, alpha=0.6)\n",
    "    panel.set_xlim([-0.2,0.4]); panel.set_ylim([-.8,.8])"
   ]
  },
  {
   "cell_type": "code",
   "execution_count": null,
   "metadata": {},
   "outputs": [],
   "source": [
    "def modind(a, b):\n",
    "    \"\"\"\n",
    "    value of 1 means a is more significant\n",
    "    value of -1 means b is more significant\n",
    "    \"\"\"\n",
    "    mi = (a - b) / (a + b)\n",
    "    return mi"
   ]
  },
  {
   "cell_type": "code",
   "execution_count": null,
   "metadata": {},
   "outputs": [],
   "source": [
    "for ind, row in hffm.data[hffm.data['fr']>2].iterrows():\n",
    "    if row['movcluster'] in ['early','late','biphasic','negative']:\n",
    "        pref_gaze = row['pref_gazeshift_psth'][hffm.trange_win[0]:hffm.trange_win[1]]\n",
    "        nonpref_gaze = row['nonpref_gazeshift_psth'][hffm.trange_win[0]:hffm.trange_win[1]]\n",
    "        pref_comp = row['pref_comp_psth'][hffm.trange_win[0]:hffm.trange_win[1]]\n",
    "        nonpref_comp= row['nonpref_comp_psth'][hffm.trange_win[0]:hffm.trange_win[1]]\n",
    "        \n",
    "        if row['pref_gazeshift_direction']=='L':\n",
    "            left_gaze = pref_gaze; right_gaze = nonpref_gaze\n",
    "            left_comp = pref_comp; right_comp = nonpref_comp\n",
    "        elif row['pref_gazeshift_direction']=='R':\n",
    "            right_gaze = pref_gaze; left_gaze = nonpref_gaze\n",
    "            right_comp = pref_comp; left_comp = nonpref_comp\n",
    "        \n",
    "        hffm.data.at[ind, 'gaze_sacc_rlMI'] = modind(np.max(right_gaze), np.max(left_gaze))\n",
    "        hffm.data.at[ind, 'comp_sacc_rlMI'] = modind(np.max(right_comp), np.max(left_comp))\n",
    "        hffm.data.at[ind, 'gaze_sacc_pnpMI'] = modind(np.max(pref_gaze), np.max(nonpref_gaze))\n",
    "        hffm.data.at[ind, 'comp_sacc_pnpMI'] = modind(np.max(pref_comp), np.max(nonpref_comp))\n",
    "        \n",
    "    if row['responsive_to_gratings']:\n",
    "        ori = row['Gt_ori_tuning_mean_tf']\n",
    "        best_sf = ori[:,np.argmax(np.mean(ori,0))]\n",
    "        left_grat = best_sf[0]\n",
    "        right_grat = best_sf[4]\n",
    "        hffm.data.at[ind, 'gratings_rlMI'] = modind(right_grat, left_grat)"
   ]
  },
  {
   "cell_type": "code",
   "execution_count": null,
   "metadata": {},
   "outputs": [],
   "source": [
    "fig = plt.figure(constrained_layout=True, figsize=(11,3.8))\n",
    "spec = gridspec.GridSpec(nrows=2, ncols=7, figure=fig)\n",
    "\n",
    "ax_g_early = fig.add_subplot(spec[0,0])\n",
    "ax_c_early = fig.add_subplot(spec[1,0])\n",
    "\n",
    "ax_g_late = fig.add_subplot(spec[0,1])\n",
    "ax_c_late = fig.add_subplot(spec[1,1])\n",
    "\n",
    "ax_g_biphasic = fig.add_subplot(spec[0,2])\n",
    "ax_c_biphasic = fig.add_subplot(spec[1,2])\n",
    "\n",
    "ax_g_negative = fig.add_subplot(spec[0,3])\n",
    "ax_c_negative = fig.add_subplot(spec[1,3])\n",
    "\n",
    "ax_gcMI = fig.add_subplot(spec[0:,4:])\n",
    "\n",
    "plot_movclustPNP(ax_g_early, 'early', hffm.cmap_movclusts[1], 'gazeshift_psth')\n",
    "plot_movclustPNP(ax_c_early, 'early', hffm.cmap_movclusts[1], 'comp_psth')\n",
    "\n",
    "plot_movclustPNP(ax_g_late, 'late', hffm.cmap_movclusts[2], 'gazeshift_psth')\n",
    "plot_movclustPNP(ax_c_late, 'late', hffm.cmap_movclusts[2], 'comp_psth')\n",
    "\n",
    "plot_movclustPNP(ax_g_biphasic, 'biphasic', hffm.cmap_movclusts[3], 'gazeshift_psth')\n",
    "plot_movclustPNP(ax_c_biphasic, 'biphasic', hffm.cmap_movclusts[3], 'comp_psth')\n",
    "\n",
    "plot_movclustPNP(ax_g_negative, 'negative', hffm.cmap_movclusts[4], 'gazeshift_psth')\n",
    "plot_movclustPNP(ax_c_negative, 'negative', hffm.cmap_movclusts[4], 'comp_psth')\n",
    "\n",
    "for i in range(4):\n",
    "    name = ['early','late','biphasic','negative'][i]\n",
    "    gaze_mi = hffm.data['gaze_sacc_pnpMI'][hffm.data['movcluster']==name]\n",
    "    comp_mi = hffm.data['comp_sacc_pnpMI'][hffm.data['movcluster']==name]\n",
    "    ax_gcMI.plot(gaze_mi, comp_mi, '.', color=hffm.cmap_movclusts[i+1], markersize=7)\n",
    "ax_gcMI.set_ylim([-1.4,1.2])\n",
    "ax_gcMI.set_xlim([-0.5,1.3])\n",
    "ax_gcMI.vlines(0,-1.5,1.5,linestyle='dotted',alpha=0.5, colors='k')\n",
    "ax_gcMI.hlines(0,-1.5,1.5,linestyle='dotted',alpha=0.5, colors='k')\n",
    "ax_gcMI.set_ylabel('comp pref MI')\n",
    "ax_gcMI.set_xlabel('gaze-shift pref MI')\n",
    "\n",
    "fig.savefig('/home/niell_lab/Desktop/eyemov_paper/13_cluster_direction_prefs.pdf')"
   ]
  },
  {
   "cell_type": "markdown",
   "metadata": {},
   "source": [
    "# 14: basic cluster properties"
   ]
  },
  {
   "cell_type": "code",
   "execution_count": null,
   "metadata": {},
   "outputs": [],
   "source": [
    "mua_power = hffm.data['Wn_lfp_power'][hffm.data['session']=='101521_J559NC_control_Rig2'].iloc[0]\n",
    "layer5 = hffm.data['Wn_layer5cent_from_lfp'][hffm.data['session']=='101521_J559NC_control_Rig2'].iloc[0]"
   ]
  },
  {
   "cell_type": "code",
   "execution_count": null,
   "metadata": {},
   "outputs": [],
   "source": [
    "fig = plt.figure(constrained_layout=True, figsize=(12,4.5))\n",
    "spec = gridspec.GridSpec(nrows=1, ncols=7, figure=fig)\n",
    "\n",
    "ax_ex_mua = fig.add_subplot(spec[0,0:2])\n",
    "ax_early = fig.add_subplot(spec[0,2])\n",
    "ax_late = fig.add_subplot(spec[0,3])\n",
    "ax_biphasic = fig.add_subplot(spec[0,4])\n",
    "ax_negative = fig.add_subplot(spec[0,5])\n",
    "ax_unresponsive = fig.add_subplot(spec[0,6])\n",
    "\n",
    "\n",
    "ch_spacing = 25\n",
    "for sh in range(4):\n",
    "    ax_ex_mua.plot(mua_power[sh], np.arange(0,32)-layer5[sh], 'tab:red')\n",
    "ax_ex_mua.set_title('example recording depth')\n",
    "ax_ex_mua.hlines(0,np.min(mua_power),np.max(mua_power), 'k', linestyle='dashed')\n",
    "ax_ex_mua.set_ylim([18,-19])\n",
    "ax_ex_mua.set_yticks(ticks=np.arange(18,-19,-3), labels=(ch_spacing*np.arange(18,-19,-3)))\n",
    "ax_ex_mua.set_ylabel('depth (um)'); ax_ex_mua.set_xlabel('LFP MUA power')\n",
    "ax_ex_mua.annotate('layer 5', xy=[0.78, -.5], color='k', fontsize=15)\n",
    "\n",
    "panels = [ax_early, ax_late, ax_biphasic, ax_negative, ax_unresponsive]\n",
    "names = ['early','late','biphasic','negative','unresponsive']\n",
    "for i, panel in enumerate(panels):\n",
    "    name = names[i]\n",
    "    panel.set_title(name)\n",
    "    panel.hist(hffm.data['Wn_depth_from_layer5'], color='k', bins=np.linspace(-750,750,11), orientation='horizontal', density=True, histtype='step', linewidth=2)\n",
    "    panel.hist(hffm.data['Wn_depth_from_layer5'][hffm.data['movcluster']==name],\n",
    "                        color=hffm.cmap_movclusts[i+1], bins=np.linspace(-750,750,11), orientation='horizontal', density=True, histtype='stepfilled')\n",
    "    panel.set_ylabel('depth (um)')\n",
    "    panel.set_xlabel('fraction of neurons')\n",
    "    panel.invert_yaxis()\n",
    "    panel.set_xlim(0,0.003)\n",
    "    \n",
    "fig.savefig('/home/niell_lab/Desktop/eyemov_paper/14A_cluster_depths.pdf')"
   ]
  },
  {
   "cell_type": "code",
   "execution_count": null,
   "metadata": {},
   "outputs": [],
   "source": [
    "fig = plt.figure(constrained_layout=True, figsize=(8,9))\n",
    "spec = gridspec.GridSpec(nrows=3, ncols=2, figure=fig)\n",
    "\n",
    "ax_wvfm = fig.add_subplot(spec[0,0])\n",
    "ax_props = fig.add_subplot(spec[0,1])\n",
    "ax_frac = fig.add_subplot(spec[1,:])\n",
    "\n",
    "exc = hffm.data[hffm.data['exc_or_inh']=='exc'][hffm.data['norm_waveform'].map(max)<1]\n",
    "inh = hffm.data[hffm.data['exc_or_inh']=='inh'][hffm.data['norm_waveform'].map(max)<1]\n",
    "\n",
    "inh_wvfm = flatten_series(inh['norm_waveform'])\n",
    "for i in np.arange(0,np.size(inh_wvfm,0),5):\n",
    "    ax_wvfm.plot(inh_wvfm[i,:], color=hffm.cmap_celltype[1])\n",
    "exc_wvfm = flatten_series(exc['norm_waveform'])\n",
    "for i in np.arange(0,np.size(exc_wvfm,0),5):\n",
    "    ax_wvfm.plot(exc_wvfm[i,:], color=hffm.cmap_celltype[0])\n",
    "# ax_wvfm.set_title('putative cell type')\n",
    "ax_wvfm.annotate('excitatory', xy=[40, -.52], color=hffm.cmap_celltype[0], fontsize=15)\n",
    "ax_wvfm.annotate('inhibitory', xy=[40, -.7], color=hffm.cmap_celltype[1], fontsize=15)\n",
    "ax_wvfm.set_ylim([-1.05,.85]); ax_wvfm.set_xlabel('msec')\n",
    "\n",
    "inh_ahp = inh['AHP'][inh['waveform_peak']<0]\n",
    "inh_width = inh['waveform_trough_width'][inh['waveform_peak']<0]\n",
    "exc_ahp = exc['AHP'][exc['waveform_peak']<0]\n",
    "exc_width = exc['waveform_trough_width'][exc['waveform_peak']<0]\n",
    "\n",
    "ax_props.plot(exc_width, exc_ahp, '.', color=hffm.cmap_celltype[0])\n",
    "ax_props.plot(inh_width, inh_ahp, '.', color=hffm.cmap_celltype[1])\n",
    "ax_props.set_ylabel('AHP')\n",
    "ax_props.set_xlabel('trough width')\n",
    "\n",
    "exc_vcounts = exc['movcluster'].value_counts()\n",
    "inh_vcounts = inh['movcluster'].value_counts()\n",
    "names = ['early','late','biphasic','negative','unresponsive']\n",
    "for i, name in enumerate(names):\n",
    "    ax_frac.bar(i-0.2, exc_vcounts[name]/exc_vcounts.sum(), color=hffm.cmap_celltype[0], width=0.4)\n",
    "    ax_frac.bar(i+0.2, inh_vcounts[name]/inh_vcounts.sum(), color=hffm.cmap_celltype[1], width=0.4)\n",
    "ax_frac.set_xticks(ticks=range(5), labels=names)\n",
    "ax_frac.set_ylabel('frac of celltype')\n",
    "\n",
    "fig.savefig('/home/niell_lab/Desktop/eyemov_paper/14B_putative_celltype.pdf')"
   ]
  },
  {
   "cell_type": "code",
   "execution_count": null,
   "metadata": {},
   "outputs": [],
   "source": [
    "fig, ax = plt.subplots(1,1,figsize=(3,3))\n",
    "ax.plot(exc['norm_waveform'].iloc[101], color=hffm.cmap_celltype[0],linewidth=5)\n",
    "ax.plot(inh['norm_waveform'].iloc[1], color=hffm.cmap_celltype[1],linewidth=5)\n",
    "ax.set_ylim([-1.05,.85])\n",
    "ax.axis('off')\n",
    "fig.savefig('/home/niell_lab/Desktop/eyemov_paper/14C_exc_i101.pdf')"
   ]
  },
  {
   "cell_type": "markdown",
   "metadata": {},
   "source": [
    "# Figure 15: head-fixed whitenoise"
   ]
  },
  {
   "cell_type": "code",
   "execution_count": null,
   "metadata": {},
   "outputs": [],
   "source": [
    "fig = plt.figure(constrained_layout=True, figsize=(14,9))\n",
    "spec = gridspec.GridSpec(nrows=3, ncols=4, figure=fig)\n",
    "\n",
    "ax_resp = fig.add_subplot(spec[0,0:2])\n",
    "ax_crf_all = fig.add_subplot(spec[0,2])\n",
    "ax_crf_unresponsive = fig.add_subplot(spec[0,3])\n",
    "\n",
    "ax_crf_early = fig.add_subplot(spec[1,0])\n",
    "ax_crf_late = fig.add_subplot(spec[1,1])\n",
    "ax_crf_biphasic = fig.add_subplot(spec[1,2])\n",
    "ax_crf_negative = fig.add_subplot(spec[1,3])\n",
    "\n",
    "ax_sbc_props = fig.add_subplot(spec[2,0])\n",
    "ax_sbc_crfs = fig.add_subplot(spec[2,1])\n",
    "ax_sbc_fracs = fig.add_subplot(spec[2,2:])\n",
    "\n",
    "clusters = hffm.data['movcluster'].value_counts()\n",
    "contrast_clusters = hffm.data['movcluster'][hffm.data['responsive_to_contrast']].value_counts()\n",
    "names = ['all','early','late','biphasic','negative','unresponsive']\n",
    "ax_resp.bar(0, contrast_clusters.sum()/clusters.sum(), color=hffm.cmap_movclusts[0])\n",
    "for i, name in enumerate(names[1:]):\n",
    "    ax_resp.bar(i+1, contrast_clusters[name]/clusters[name], color=hffm.cmap_movclusts[1+i])\n",
    "ax_resp.set_xticks(ticks=range(6), labels=names)\n",
    "ax_resp.set_ylabel('frac responsive')\n",
    "ax_resp.set_ylim([0,1])\n",
    "\n",
    "crf_panels = [ax_crf_early, ax_crf_late, ax_crf_biphasic, ax_crf_negative, ax_crf_unresponsive]\n",
    "\n",
    "all_clusters = hffm.data[hffm.data['responsive_to_contrast']]\n",
    "for ind, row in all_clusters.iterrows():\n",
    "    ax_crf_all.plot(row['Wn_contrast_tuning_bins'], row['Wn_contrast_tuning'], linewidth=1, alpha=0.2)\n",
    "this_mean = np.nanmean(flatten_series(all_clusters['Wn_contrast_tuning']),0)\n",
    "ax_crf_all.plot(row['Wn_contrast_tuning_bins'], this_mean, 'k', linewidth=4)\n",
    "ax_crf_all.set_ylim([0,25])\n",
    "ax_crf_all.set_title('CRFs of population')\n",
    "ax_crf_all.set_ylabel('sp/sec'); ax_crf_all.set_xlabel('contrast')\n",
    "\n",
    "for i, panel in enumerate(crf_panels):\n",
    "    name = names[i+1]\n",
    "    panel.set_title(name)\n",
    "    this_cluster = hffm.data[hffm.data['movcluster']==name][hffm.data['responsive_to_contrast']]\n",
    "    for ind, row in this_cluster.iterrows():\n",
    "        panel.plot(row['Wn_contrast_tuning_bins'], row['Wn_contrast_tuning'], linewidth=1, alpha=0.2)\n",
    "    panel.set_ylim([0,25])\n",
    "    this_mean = np.nanmean(flatten_series(this_cluster['Wn_contrast_tuning']),0)\n",
    "    panel.plot(row['Wn_contrast_tuning_bins'], this_mean, color=hffm.cmap_movclusts[i+1], linewidth=4)\n",
    "    panel.set_ylabel('sp/sec'); panel.set_xlabel('contrast')\n",
    "\n",
    "SBCs = hffm.data[hffm.data['is_SbC']]\n",
    "\n",
    "ax_sbc_props.plot(-hffm.data['SbC_min_mid_mod'][hffm.data['responsive_to_contrast']][hffm.data['is_SbC']==False],\n",
    "                  hffm.data['grat_psth_drop'][hffm.data['responsive_to_contrast']][hffm.data['is_SbC']==False],\n",
    "                  '.', color=hffm.cmap_special2[0], markersize=3)\n",
    "ax_sbc_props.plot(-SBCs['SbC_min_mid_mod'], SBCs['grat_psth_drop'], '.', color=hffm.cmap_special2[1], markersize=6)\n",
    "ax_sbc_props.set_ylim([-1.5,5])\n",
    "ax_sbc_props.set_title('SbC cells')\n",
    "ax_sbc_props.set_ylabel('suppression by gratings')\n",
    "ax_sbc_props.set_xlabel('suppression by white noise')\n",
    "\n",
    "for ind, row in SBCs.iterrows():\n",
    "    ax_sbc_crfs.plot(row['Wn_contrast_tuning_bins'], row['Wn_contrast_tuning'], linewidth=1, alpha=0.2)\n",
    "this_mean = np.nanmean(flatten_series(SBCs['Wn_contrast_tuning']),0)\n",
    "ax_sbc_crfs.plot(row['Wn_contrast_tuning_bins'], this_mean, color=hffm.cmap_special2[1], linewidth=4)\n",
    "ax_sbc_crfs.set_ylim([0,25])\n",
    "ax_sbc_crfs.set_title('SbCs')\n",
    "ax_sbc_crfs.set_ylabel('sp/sec'); ax_crf_all.set_xlabel('contrast')\n",
    "\n",
    "SbC_vcounts = SBCs['movcluster'].value_counts()\n",
    "names = ['early','late','biphasic','negative','unresponsive']\n",
    "for i, name in enumerate(names):\n",
    "    if name not in SbC_vcounts:\n",
    "        SbC_vcounts[name] = 0\n",
    "    ax_sbc_fracs.bar(i, SbC_vcounts[name]/clusters[name], color=hffm.cmap_movclusts[1+i])\n",
    "ax_sbc_fracs.set_xticks(ticks=range(5), labels=names)\n",
    "ax_sbc_fracs.set_ylabel('frac of SbCs')\n",
    "\n",
    "fig.savefig('/home/niell_lab/Desktop/eyemov_paper/15_whitenoise.pdf')"
   ]
  },
  {
   "cell_type": "code",
   "execution_count": null,
   "metadata": {},
   "outputs": [],
   "source": [
    "fig, axs = plt.subplots(1,2,figsize=(8,3))\n",
    "\n",
    "ex_sbc = SBCs.iloc[13]\n",
    "ex_mbc = hffm.data[hffm.data['is_SbC']==False][hffm.data['responsive_to_contrast']][hffm.data['Wn_contrast_modind']>0.7].iloc[28]\n",
    "\n",
    "ax_crf = plt.subplot(121)\n",
    "ax_crf.errorbar(ex_sbc['Wn_contrast_tuning_bins'], ex_sbc['Wn_contrast_tuning'], yerr=ex_sbc['Wn_contrast_tuning_err'], color=hffm.cmap_special2[1])\n",
    "ax_crf.errorbar(ex_mbc['Wn_contrast_tuning_bins'], ex_mbc['Wn_contrast_tuning'], yerr=ex_mbc['Wn_contrast_tuning_err'], color=hffm.cmap_special2[0])\n",
    "ax_crf.set_ylabel('sp/sec'); ax_crf.set_xlabel('contrast')\n",
    "ax_crf.vlines(0.05,0,15.5, color='tab:red', linestyle='dashed', alpha=0.5); ax_crf.vlines(0.35,0,15.5, color='tab:red', linestyle='dashed', alpha=0.5)\n",
    "ax_crf.set_title('white noise CRF')\n",
    "\n",
    "ax_psth = plt.subplot(122)\n",
    "ax_psth.plot(hffm.grat_psth_x, ex_sbc['Gt_grating_psth'], color=hffm.cmap_special2[1])\n",
    "ax_psth.axvspan(0,1,color='tab:red',alpha=0.2)\n",
    "ax_psth.hlines(np.nanmean(ex_sbc['Gt_grating_psth'][(hffm.grat_psth_x<0)]), -0.5, 1.5, color=hffm.cmap_special2[1], linestyle='dashed', alpha=0.5)\n",
    "ax_psth.hlines(np.nanmean(ex_mbc['Gt_grating_psth'][(hffm.grat_psth_x<0)]), -0.5, 1.5, color=hffm.cmap_special2[0], linestyle='dashed', alpha=0.5)\n",
    "ax_psth.plot(hffm.grat_psth_x, ex_mbc['Gt_grating_psth'], color=hffm.cmap_special2[0])\n",
    "ax_psth.set_ylabel('sp/sec'); ax_psth.set_xlabel('sec')\n",
    "ax_psth.set_title('gratings PSTH')\n",
    "\n",
    "fig.tight_layout()\n",
    "\n",
    "fig.savefig('/home/niell_lab/Desktop/eyemov_paper/15A_SbC_MbC_example.pdf')"
   ]
  },
  {
   "cell_type": "markdown",
   "metadata": {},
   "source": [
    "# Figure 16: head-fixed gratings"
   ]
  },
  {
   "cell_type": "code",
   "execution_count": null,
   "metadata": {},
   "outputs": [],
   "source": [
    "def scatter_with_jitter(panel, varname, filter_for=None):\n",
    "    names = ['early','late','biphasic','negative','unresponsive']\n",
    "    for count, label in enumerate(names):\n",
    "        s = hffm.data[varname][hffm.data['movcluster']==label]\n",
    "        if filter_for is not None:\n",
    "            s = s[hffm.data[filter_for]==True]\n",
    "        lbound = count-0.2; ubound = count+0.2\n",
    "        x_jitter = np.random.uniform(lbound, ubound, np.size(s,0))\n",
    "        mean = np.nanmedian(s,0)\n",
    "        stderr = np.nanstd(s) / np.sqrt(np.size(s,0))\n",
    "        panel.scatter(x_jitter, s, s=3, color=hffm.cmap_movclusts[count+1])\n",
    "        panel.hlines(mean, lbound, ubound, linewidth=5, color=hffm.cmap_movclusts[count+1])\n",
    "        panel.vlines(count, mean-stderr, mean+stderr, linewidth=3, color=hffm.cmap_movclusts[count+1])\n",
    "    panel.set_xticks(range(len(names)), labels=names)"
   ]
  },
  {
   "cell_type": "code",
   "execution_count": null,
   "metadata": {},
   "outputs": [],
   "source": [
    "def polar_ds(lpanel, rpanel, name, color):\n",
    "    if name is not None:\n",
    "        temp = hffm.data[hffm.data['movcluster']==name]\n",
    "    else:\n",
    "        temp = hffm.data\n",
    "        name = 'all'\n",
    "    for count, panel in enumerate([lpanel, rpanel]):\n",
    "        ori = temp['Gt_best_direction'][temp['responsive_to_gratings']][temp['pref_gazeshift_direction_ind']==count].to_numpy()\n",
    "        hist, _ = np.histogram(np.deg2rad(ori), bins=8, range=(0,2*np.pi))\n",
    "        panel.bar(np.deg2rad(np.arange(8)*45), hist/np.max(hist), width=(2*np.pi)/8, bottom=0, color=color)\n",
    "        panel.set_yticks([])\n",
    "        sdir = ['L','R'][count]\n",
    "        panel.set_title(sdir+'sacc '+name+' N='+str(len(ori)))"
   ]
  },
  {
   "cell_type": "code",
   "execution_count": null,
   "metadata": {},
   "outputs": [],
   "source": [
    "fig = plt.figure(constrained_layout=True, figsize=(14,12))\n",
    "spec = gridspec.GridSpec(nrows=3, ncols=4, figure=fig)\n",
    "\n",
    "ax_all_l = fig.add_subplot(spec[0,0], projection='polar')\n",
    "ax_all_r = fig.add_subplot(spec[0,1], projection='polar')\n",
    "ax_unresp_l = fig.add_subplot(spec[0,2], projection='polar')\n",
    "ax_unresp_r = fig.add_subplot(spec[0,3], projection='polar')\n",
    "ax_early_l = fig.add_subplot(spec[1,0], projection='polar')\n",
    "ax_early_r = fig.add_subplot(spec[1,1], projection='polar')\n",
    "ax_late_l = fig.add_subplot(spec[1,2], projection='polar')\n",
    "ax_late_r = fig.add_subplot(spec[1,3], projection='polar')\n",
    "ax_biphasic_l = fig.add_subplot(spec[2,0], projection='polar')\n",
    "ax_biphasic_r = fig.add_subplot(spec[2,1], projection='polar')\n",
    "ax_negative_l = fig.add_subplot(spec[2,2], projection='polar')\n",
    "ax_negative_r = fig.add_subplot(spec[2,3], projection='polar')\n",
    "\n",
    "polar_ds(ax_all_l, ax_all_r, None, hffm.cmap_movclusts[0])\n",
    "polar_ds(ax_unresp_l, ax_unresp_r, 'unresponsive', hffm.cmap_movclusts[5])\n",
    "polar_ds(ax_early_l, ax_early_r, 'early', hffm.cmap_movclusts[1])\n",
    "polar_ds(ax_late_l, ax_late_r, 'late', hffm.cmap_movclusts[2])\n",
    "polar_ds(ax_biphasic_l, ax_biphasic_r, 'biphasic', hffm.cmap_movclusts[3])\n",
    "polar_ds(ax_negative_l, ax_negative_r, 'negative', hffm.cmap_movclusts[4])\n",
    "\n",
    "fig.savefig('/home/niell_lab/Desktop/eyemov_paper/16B_polar_gratings_tuning.pdf')"
   ]
  },
  {
   "cell_type": "code",
   "execution_count": null,
   "metadata": {},
   "outputs": [],
   "source": [
    "fig = plt.figure(constrained_layout=True, figsize=(14,12))\n",
    "spec = gridspec.GridSpec(nrows=5, ncols=4, figure=fig)\n",
    "\n",
    "ax_resp = fig.add_subplot(spec[0,0:2])\n",
    "ax_dsi = fig.add_subplot(spec[0,2:4])\n",
    "ax_osi = fig.add_subplot(spec[1,2:4])\n",
    "ax_sf = fig.add_subplot(spec[2,2:4])\n",
    "ax_tf = fig.add_subplot(spec[3,2:4])\n",
    "ax_speed = fig.add_subplot(spec[4,2:4])\n",
    "\n",
    "ax_psth_all = fig.add_subplot(spec[1,0])\n",
    "ax_psth_unresp = fig.add_subplot(spec[1,1])\n",
    "ax_psth_early = fig.add_subplot(spec[2,0])\n",
    "ax_psth_late = fig.add_subplot(spec[2,1])\n",
    "ax_psth_biphasic = fig.add_subplot(spec[3,0])\n",
    "ax_psth_negative = fig.add_subplot(spec[3,1])\n",
    "\n",
    "ax_psth_summary = fig.add_subplot(spec[4,1])\n",
    "\n",
    "clusters = hffm.data['movcluster'].value_counts()\n",
    "contrast_clusters = hffm.data['movcluster'][hffm.data['responsive_to_gratings']].value_counts()\n",
    "names = ['all','early','late','biphasic','negative','unresponsive']\n",
    "ax_resp.bar(0, contrast_clusters.sum()/clusters.sum(), color=hffm.cmap_movclusts[0])\n",
    "for i, name in enumerate(names[1:]):\n",
    "    ax_resp.bar(i+1, contrast_clusters[name]/clusters[name], color=hffm.cmap_movclusts[1+i])\n",
    "ax_resp.set_xticks(ticks=range(6), labels=names)\n",
    "ax_resp.set_ylabel('frac responsive')\n",
    "# ax_resp.set_ylim([0,1])\n",
    "\n",
    "psth_panels = [ax_psth_early, ax_psth_late, ax_psth_biphasic, ax_psth_negative, ax_psth_unresp]\n",
    "\n",
    "all_clusters = hffm.data#[hffm.data['responsive_to_gratings']]\n",
    "for ind, row in all_clusters.iterrows():\n",
    "    ax_psth_all.plot(hffm.grat_psth_x, row['Gt_grating_psth'], linewidth=1, alpha=0.2)\n",
    "this_mean = np.nanmean(flatten_series(all_clusters['Gt_grating_psth']),0)\n",
    "ax_psth_all.plot(hffm.grat_psth_x, this_mean, 'k', linewidth=4)\n",
    "ax_psth_all.set_ylim([0,25])\n",
    "ax_psth_all.set_title('PSTHs of population')\n",
    "ax_psth_all.set_ylabel('sp/sec'); ax_psth_all.set_xlabel('sec')\n",
    "\n",
    "for i, panel in enumerate(psth_panels):\n",
    "    name = names[i+1]\n",
    "    panel.set_title(name)\n",
    "    this_cluster = hffm.data[hffm.data['movcluster']==name]#[hffm.data['responsive_to_gratings']]\n",
    "    for ind, row in this_cluster.iterrows():\n",
    "        panel.plot(hffm.grat_psth_x, row['Gt_grating_psth'], linewidth=1, alpha=0.2)\n",
    "    panel.set_ylim([0,25])\n",
    "    this_mean = np.nanmean(flatten_series(this_cluster['Gt_grating_psth']),0)\n",
    "    panel.plot(hffm.grat_psth_x, this_mean, color=hffm.cmap_movclusts[i+1], linewidth=4)\n",
    "    panel.set_ylabel('sp/sec'); panel.set_xlabel('sec')\n",
    "    ax_psth_summary.plot(hffm.grat_psth_x, this_mean, color=hffm.cmap_movclusts[i+1], linewidth=3)\n",
    "ax_psth_summary.set_xlabel('sec'); ax_psth_summary.set_ylabel('sp/sec'); ax_psth_summary.set_title('cluster means')\n",
    "\n",
    "scatter_with_jitter(ax_dsi, 'osi_for_sf_pref', filter_for='responsive_to_gratings')\n",
    "ax_dsi.set_ylabel('orientation sel. ind.')\n",
    "\n",
    "scatter_with_jitter(ax_osi, 'dsi_for_sf_pref', filter_for='responsive_to_gratings')\n",
    "ax_osi.set_ylabel('direction sel. ind.')\n",
    "\n",
    "scatter_with_jitter(ax_sf, 'sf_pref_cpd', filter_for='responsive_to_gratings')\n",
    "ax_sf.set_ylabel('spatial freq pref (cpd)')\n",
    "\n",
    "scatter_with_jitter(ax_tf, 'tf_pref_cps', filter_for='responsive_to_gratings')\n",
    "ax_tf.set_ylabel('temporal freq pref (cpd)')\n",
    "\n",
    "scatter_with_jitter(ax_speed, 'grat_speed_dps', filter_for='responsive_to_gratings')\n",
    "ax_speed.set_ylabel('speed pref (deg/sec)')\n",
    "ax_speed.set_ylim([0,90])\n",
    "\n",
    "fig.savefig('/home/niell_lab/Desktop/eyemov_paper/16A_gratings.pdf')"
   ]
  },
  {
   "cell_type": "code",
   "execution_count": null,
   "metadata": {},
   "outputs": [],
   "source": [
    "fig = plt.figure(constrained_layout=True, figsize=(14,5))\n",
    "spec = gridspec.GridSpec(nrows=2, ncols=4, figure=fig)\n",
    "\n",
    "ax_props = fig.add_subplot(spec[0,0])\n",
    "ax_psths = fig.add_subplot(spec[0,1])\n",
    "ax_fracs = fig.add_subplot(spec[0,2:])\n",
    "ax_thresh_demo1 = fig.add_subplot(spec[1,0])\n",
    "ax_thresh_demo2 = fig.add_subplot(spec[1,1])\n",
    "\n",
    "trPsth = hffm.data[hffm.data['is_grat_trpsth']][hffm.data['responsive_to_gratings']]\n",
    "sPsth = hffm.data[hffm.data['responsive_to_gratings']][hffm.data['is_grat_trpsth']==False]\n",
    "\n",
    "ax_props.plot(sPsth['change_at_gratstim_onset'], sPsth['change_during_gratstim'], '.', color=hffm.cmap_special2[0], markersize=3)\n",
    "ax_props.plot(trPsth['change_at_gratstim_onset'], trPsth['change_during_gratstim'], '.', color=hffm.cmap_special2[1], markersize=6)\n",
    "ax_props.set_ylabel('change after onset'); ax_props.set_xlabel('change at onset')\n",
    "\n",
    "for ind, psth in trPsth['Gt_grating_psth'].iteritems():\n",
    "    ax_psths.plot(hffm.grat_psth_x, psth, alpha=.2, linewidth=1)\n",
    "this_mean = np.nanmean(flatten_series(trPsth['Gt_grating_psth']),0)\n",
    "ax_psths.plot(hffm.grat_psth_x, this_mean, color=hffm.cmap_special2[1], linewidth=4)\n",
    "ax_psths.set_ylim([0,35]); ax_psths.set_ylabel('sp/sec'); ax_psths.set_xlabel('sec')\n",
    "\n",
    "SbC_vcounts = trPsth['movcluster'].value_counts()\n",
    "names = ['early','late','biphasic','negative','unresponsive']\n",
    "for n in names:\n",
    "    if n not in SbC_vcounts.index.values:\n",
    "        SbC_vcounts[n] = 0\n",
    "for i, name in enumerate(names):\n",
    "    ax_fracs.bar(i, SbC_vcounts[name]/len(hffm.data[hffm.data['movcluster']==name]), color=hffm.cmap_movclusts[1+i])\n",
    "ax_fracs.set_xticks(ticks=range(len(names)), labels=names)\n",
    "ax_fracs.set_ylabel('transient frac')\n",
    "\n",
    "ex_trPsth = trPsth['Gt_grating_psth'].iloc[0]\n",
    "ex_Psth = sPsth['Gt_grating_psth'].iloc[12]\n",
    "\n",
    "win_during = (hffm.grat_psth_x<1) * (hffm.grat_psth_x>0)\n",
    "win_onset = (hffm.grat_psth_x>0) * (hffm.grat_psth_x<0.10)\n",
    "win_prestim = (hffm.grat_psth_x<0)\n",
    "\n",
    "ax_thresh_demo1.plot(hffm.grat_psth_x, ex_trPsth, color=hffm.cmap_special2[1])\n",
    "ax_thresh_demo1.hlines(np.mean(ex_trPsth[win_during]), hffm.grat_psth_x[win_during][0], hffm.grat_psth_x[win_during][-1], color=hffm.cmap_special2[1], linestyle='dashed', alpha=0.5)\n",
    "ax_thresh_demo1.hlines(np.mean(ex_trPsth[win_prestim]), hffm.grat_psth_x[win_prestim][0], hffm.grat_psth_x[win_prestim][-1], color=hffm.cmap_special2[1], linestyle='dashed', alpha=0.5)\n",
    "ax_thresh_demo1.plot(hffm.grat_psth_x[win_onset], ex_trPsth[win_onset], '*', color=hffm.cmap_special2[1], markersize=12)\n",
    "\n",
    "ax_thresh_demo2.plot(hffm.grat_psth_x, ex_Psth, color=hffm.cmap_special2[0])\n",
    "ax_thresh_demo2.hlines(np.mean(ex_Psth[win_during]), hffm.grat_psth_x[win_during][0], hffm.grat_psth_x[win_during][-1], color=hffm.cmap_special2[0], linestyle='dashed', alpha=0.5)\n",
    "ax_thresh_demo2.hlines(np.mean(ex_Psth[win_prestim]), hffm.grat_psth_x[win_prestim][0], hffm.grat_psth_x[win_prestim][-1], color=hffm.cmap_special2[0], linestyle='dashed', alpha=0.5)\n",
    "ax_thresh_demo2.plot(hffm.grat_psth_x[win_onset], ex_Psth[win_onset], '*', color=hffm.cmap_special2[0], markersize=12)\n",
    "\n",
    "ax_thresh_demo1.set_ylabel('sp/sec'); ax_thresh_demo1.set_xlabel('sec')\n",
    "ax_thresh_demo2.set_ylabel('sp/sec'); ax_thresh_demo2.set_xlabel('sec')\n",
    "\n",
    "fig.savefig('/home/niell_lab/Desktop/eyemov_paper/16C_trpsth.pdf')"
   ]
  },
  {
   "cell_type": "markdown",
   "metadata": {},
   "source": [
    "# Figure 17: motor and visual direction tuning"
   ]
  },
  {
   "cell_type": "markdown",
   "metadata": {},
   "source": [
    "Colormap ideas:\n",
    "* depth\n",
    "* cluster\n",
    "* animal\n",
    "* grating speed preference"
   ]
  },
  {
   "cell_type": "code",
   "execution_count": null,
   "metadata": {},
   "outputs": [],
   "source": [
    "def direcpref_scatter_c(panel, xname, yname):\n",
    "    for i in range(4):\n",
    "        name = ['early','late','biphasic','negative'][i]\n",
    "        x_mi = hffm.data[xname][hffm.data['movcluster']==name]\n",
    "        y_mi = hffm.data[yname][hffm.data['movcluster']==name]\n",
    "        panel.plot(x_mi, y_mi, '.', color=hffm.cmap_movclusts[i+1], markersize=4)\n",
    "    panel.vlines(0,-1,1,linestyle='dotted',alpha=0.5, colors='k')\n",
    "    panel.hlines(0,-1,1,linestyle='dotted',alpha=0.5, colors='k')\n",
    "    panel.plot([-1,1],[1,-1],linestyle='dotted',alpha=0.5, color='tab:red')\n",
    "    panel.annotate('R', xy=[0.95,-0.035], color='k', alpha=0.5, fontsize=20)\n",
    "    panel.annotate('L', xy=[-0.95,-0.035], color='k', alpha=0.5, fontsize=20)\n",
    "    panel.annotate('R', xy=[-0.035,.95], color='k', alpha=0.5, fontsize=20)\n",
    "    panel.annotate('L', xy=[-0.035,-.95], color='k', alpha=0.5, fontsize=20)"
   ]
  },
  {
   "cell_type": "code",
   "execution_count": null,
   "metadata": {},
   "outputs": [],
   "source": [
    "fig = plt.figure(constrained_layout=True, figsize=(10,9))\n",
    "spec = gridspec.GridSpec(nrows=2, ncols=2, figure=fig)\n",
    "\n",
    "# demo_unit_inds = [145, 197, 694]\n",
    "\n",
    "ax_of_gt = fig.add_subplot(spec[0,0])\n",
    "ax_gs_cp = fig.add_subplot(spec[0,1])\n",
    "ax_gs_of = fig.add_subplot(spec[1,0])\n",
    "ax_gs_gt = fig.add_subplot(spec[1,1])\n",
    "\n",
    "direcpref_scatter_c(ax_gs_cp, 'gaze_sacc_rlMI', 'comp_sacc_rlMI')\n",
    "ax_gs_cp.set_ylabel('comp pref')\n",
    "ax_gs_cp.set_xlabel('gaze-shift pref')\n",
    "ax_gs_cp.annotate('early', xy=[.5,.9], color=hffm.cmap_movclusts[1], fontsize=20)\n",
    "ax_gs_cp.annotate('late', xy=[.5,.75], color=hffm.cmap_movclusts[2], fontsize=20)\n",
    "ax_gs_cp.annotate('biphasic', xy=[.5,.6], color=hffm.cmap_movclusts[3], fontsize=20)\n",
    "ax_gs_cp.annotate('negative', xy=[.5,.45], color=hffm.cmap_movclusts[4], fontsize=20)\n",
    "\n",
    "direcpref_scatter_c(ax_gs_gt, 'gaze_sacc_rlMI', 'gratings_rlMI')\n",
    "ax_gs_gt.set_ylabel('gratings pref')\n",
    "ax_gs_gt.set_xlabel('gaze-shift pref')\n",
    "ax_gs_gt.annotate('Unit 1', xy=[.5,.9], color='k', fontsize=9)\n",
    "\n",
    "fig.savefig('/home/niell_lab/Desktop/eyemov_paper/17_motor_tuning.pdf')"
   ]
  },
  {
   "cell_type": "code",
   "execution_count": null,
   "metadata": {},
   "outputs": [],
   "source": [
    "fig = plt.figure(constrained_layout=True, figsize=(14,12))\n",
    "spec = gridspec.GridSpec(nrows=5, ncols=4 figure=fig)\n",
    "\n",
    "ax_u1_gs = fig.add_subplot(spec[0,0])\n",
    "ax_u1_cp = fig.add_subplot(spec[0,1])\n",
    "ax_u1_gt = fig.add_subplot(spec[0,2])\n",
    "ax_u1_of = fig.add_subplot(spec[0,3])\n",
    "\n",
    "ax_u2_gs = fig.add_subplot(spec[1,0])\n",
    "ax_u2_cp = fig.add_subplot(spec[1,1])\n",
    "ax_u2_gt = fig.add_subplot(spec[1,2])\n",
    "ax_u2_of = fig.add_subplot(spec[1,3])\n",
    "\n",
    "ax_u3_gs = fig.add_subplot(spec[3,0])\n",
    "ax_u3_cp = fig.add_subplot(spec[3,1])\n",
    "ax_u3_gt = fig.add_subplot(spec[3,2])\n",
    "ax_u3_of = fig.add_subplot(spec[3,3])\n",
    "\n",
    "ax_u4_gs = fig.add_subplot(spec[4,0])\n",
    "ax_u4_cp = fig.add_subplot(spec[4,1])\n",
    "ax_u4_gt = fig.add_subplot(spec[4,2])\n",
    "ax_u4_of = fig.add_subplot(spec[4,3])\n",
    "\n",
    "ax_u5_gs = fig.add_subplot(spec[5,0])\n",
    "ax_u5_cp = fig.add_subplot(spec[5,1])\n",
    "ax_u5_gt = fig.add_subplot(spec[5,2])\n",
    "ax_u5_of = fig.add_subplot(spec[5,3])"
   ]
  },
  {
   "cell_type": "markdown",
   "metadata": {},
   "source": [
    "# Light/dark data"
   ]
  },
  {
   "cell_type": "code",
   "execution_count": null,
   "metadata": {},
   "outputs": [],
   "source": [
    "# fig4: light vs dark\n",
    "fig4 = plt.figure(constrained_layout=True, figsize=(40,13))\n",
    "spec4 = gridspec.GridSpec(ncols=10, nrows=4, figure=fig4)\n",
    "\n",
    "# light psth\n",
    "light_early_gaze = fig4.add_subplot(spec4[0,2])\n",
    "light_late_gaze = fig4.add_subplot(spec4[1,2])\n",
    "light_biphasic_gaze = fig4.add_subplot(spec4[2,2])\n",
    "light_negative_gaze = fig4.add_subplot(spec4[3,2])\n",
    "\n",
    "light_early_comp = fig4.add_subplot(spec4[0,3])\n",
    "light_late_comp = fig4.add_subplot(spec4[1,3])\n",
    "light_biphasic_comp = fig4.add_subplot(spec4[2,3])\n",
    "light_negative_comp = fig4.add_subplot(spec4[3,3])\n",
    "\n",
    "light_summary = fig4.add_subplot(spec4[0:2,4:6])\n",
    "# light_frac_dist = fig4.add_subplot(spec4[2:4,4:6])\n",
    "\n",
    "# dark psth\n",
    "dark_early_gaze = fig4.add_subplot(spec4[0,6])\n",
    "dark_late_gaze = fig4.add_subplot(spec4[1,6])\n",
    "dark_biphasic_gaze = fig4.add_subplot(spec4[2,6])\n",
    "dark_negative_gaze = fig4.add_subplot(spec4[3,6])\n",
    "\n",
    "dark_early_comp = fig4.add_subplot(spec4[0,7])\n",
    "dark_late_comp = fig4.add_subplot(spec4[1,7])\n",
    "dark_biphasic_comp = fig4.add_subplot(spec4[2,7])\n",
    "dark_negative_comp = fig4.add_subplot(spec4[3,7])\n",
    "\n",
    "dark_summary = fig4.add_subplot(spec4[0:2,8:10])\n",
    "# dark_frac_dist = fig4.add_subplot(spec4[2:4,8:10])\n",
    "\n",
    "psth_colors = [hffm.cmap_movclusts[1],hffm.cmap_movclusts[2], hffm.cmap_movclusts[3], hffm.cmap_movclusts[4]]\n",
    "psth_keys = ['early','late','biphasic','negative']\n",
    "for panelnum, panel in enumerate([light_early_gaze, light_late_gaze, light_biphasic_gaze, light_negative_gaze,\n",
    "                                  light_early_comp, light_late_comp, light_biphasic_comp, light_negative_comp,\n",
    "                                  dark_early_gaze, dark_late_gaze, dark_biphasic_gaze, dark_negative_gaze,\n",
    "                                  dark_early_comp, dark_late_comp, dark_biphasic_comp, dark_negative_comp]):\n",
    "    if panelnum==0:\n",
    "        panel.set_title('gaze-shifting')\n",
    "        use_movement_type = 'pref_gazeshift_psth'\n",
    "    elif panelnum==4:\n",
    "        panel.set_title('compensatory')\n",
    "        use_movement_type = 'nonpref_comp_psth'\n",
    "    if panelnum==8:\n",
    "        panel.set_title('gaze-shifting')\n",
    "        use_movement_type = 'pref_gazeshift_psth_FmDk'\n",
    "    elif panelnum==12:\n",
    "        panel.set_title('compensatory')\n",
    "        use_movement_type = 'nonpref_comp_psth_FmDk'\n",
    "    \n",
    "    color = psth_colors[panelnum%4]\n",
    "    psth_key = psth_keys[panelnum%4]\n",
    "    all_psth = flatten_series(ltdk.data[use_movement_type][ltdk.data['movcluster']==psth_key])\n",
    "    for i in range(len(all_psth)):\n",
    "        panel.plot(ltdk.trange_x, all_psth[i], color=color, alpha=0.1)\n",
    "    panel.plot(ltdk.trange_x, np.nanmean(all_psth,0), color='k')\n",
    "    panel.set_xlabel('sec')\n",
    "    panel.set_ylim([-0.8,0.8])\n",
    "    panel.set_xlim([-0.2,0.4])\n",
    "    panel.set_xticks(np.arange(-0.2,0.4,0.2))\n",
    "    panel.vlines(0,-1,1,linestyles='dotted',colors='k')\n",
    "    if panelnum<4 or (7>panelnum>12):\n",
    "        panel.annotate('N='+str(len(all_psth)), xy=[0.3,-0.7], color='k', fontsize=12)\n",
    "        panel.set_ylabel('norm. spike rate')\n",
    "        \n",
    "for count, label in enumerate(psth_keys):\n",
    "    cluster = flatten_series(ltdk.data['pref_gazeshift_psth'][ltdk.data['movcluster']==label])\n",
    "    cluster_mean = np.nanmean(cluster, 0)\n",
    "    cluster_stderr = np.std(cluster,0) / np.sqrt(np.size(cluster,0))\n",
    "    light_summary.plot(ltdk.trange_x, cluster_mean, color=psth_colors[count])\n",
    "    light_summary.fill_between(ltdk.trange_x, cluster_mean-cluster_stderr, cluster_mean+cluster_stderr, alpha=0.3, color=psth_colors[count])\n",
    "light_summary.annotate('early positive', xy=[0.21,-0.4], color=hffm.cmap_movclusts[1], fontsize=20)\n",
    "light_summary.annotate('late positive', xy=[0.21,-0.45], color=hffm.cmap_movclusts[2], fontsize=20)\n",
    "light_summary.annotate('biphasic', xy=[0.21,-0.5], color=hffm.cmap_movclusts[3], fontsize=20)\n",
    "light_summary.annotate('negative', xy=[0.21,-0.55], color=hffm.cmap_movclusts[4], fontsize=20)\n",
    "light_summary.set_xlim([-0.2,0.4])\n",
    "light_summary.set_ylim([-0.6,0.6])\n",
    "light_summary.vlines(0,-1,1,linestyles='dotted',colors='k')\n",
    "light_summary.set_title('gaze-shifting')\n",
    "light_summary.set_xticks(np.arange(-0.2,0.4,0.2))\n",
    "light_summary.set_xlabel('sec')\n",
    "light_summary.set_ylabel('norm. spike rate')\n",
    "\n",
    "for count, label in enumerate(psth_keys):\n",
    "    cluster = flatten_series(ltdk.data['pref_gazeshift_psth_FmDk'][ltdk.data['movcluster']==label])\n",
    "    cluster_mean = np.nanmean(cluster, 0)\n",
    "    cluster_stderr = np.std(cluster,0) / np.sqrt(np.size(cluster,0))\n",
    "    dark_summary.plot(ltdk.trange_x, cluster_mean, color=psth_colors[count])\n",
    "    dark_summary.fill_between(ltdk.trange_x, cluster_mean-cluster_stderr, cluster_mean+cluster_stderr, alpha=0.3, color=psth_colors[count])\n",
    "dark_summary.annotate('early positive', xy=[0.21,-0.4], color=hffm.cmap_movclusts[1], fontsize=20)\n",
    "dark_summary.annotate('late positive', xy=[0.21,-0.45], color=hffm.cmap_movclusts[2], fontsize=20)\n",
    "dark_summary.annotate('biphasic', xy=[0.21,-0.5], color=hffm.cmap_movclusts[3], fontsize=20)\n",
    "dark_summary.annotate('negative', xy=[0.21,-0.55], color=hffm.cmap_movclusts[4], fontsize=20)\n",
    "dark_summary.set_xlim([-0.2,0.4])\n",
    "dark_summary.set_ylim([-0.6,0.6])\n",
    "dark_summary.vlines(0,-1,1,linestyles='dotted',colors='k')\n",
    "dark_summary.set_title('gaze-shifting in darkness')\n",
    "dark_summary.set_xticks(np.arange(-0.2,0.4,0.2))\n",
    "dark_summary.set_xlabel('sec')\n",
    "dark_summary.set_ylabel('norm. spike rate')\n",
    "\n",
    "# immobile_rate.hist(ltdk.data['fm1_stationary_rec_rate'] - ltdk.data['fm_dark_stationary_rec_rate'], density=True, bins=np.arange(-30, 33, 3), color='tab:gray')\n",
    "# immobile_rate.set_xlabel('light - dark firing rate')\n",
    "# immobile_rate.set_title('immobile')\n",
    "# immobile_rate.set_ylim([0,0.18])\n",
    "\n",
    "# active_rate.hist(ltdk.data['fm1_active_rec_rate'] - ltdk.data['fm_dark_active_rec_rate'], density=True, bins=np.arange(-30, 33, 3), color='tab:gray')\n",
    "# active_rate.set_xlabel('light - dark firing rate')\n",
    "# active_rate.set_title('active')\n",
    "# active_rate.set_ylim([0,0.18])\n",
    "\n",
    "fig4.savefig('/home/niell_lab/Desktop/eyemov_paper/lightdark_movclusts.pdf')"
   ]
  },
  {
   "cell_type": "code",
   "execution_count": null,
   "metadata": {},
   "outputs": [],
   "source": [
    "hffm.data['session'].unique()"
   ]
  },
  {
   "cell_type": "code",
   "execution_count": null,
   "metadata": {},
   "outputs": [],
   "source": [
    "movclusts0709 = dict(zip(hffm.data['index'][hffm.data['session']=='070921_J553RT_control_Rig2'], list(hffm.data['movcluster'][hffm.data['session']=='070921_J553RT_control_Rig2'])))"
   ]
  },
  {
   "cell_type": "code",
   "execution_count": null,
   "metadata": {},
   "outputs": [],
   "source": [
    "movclusts0709[64]"
   ]
  },
  {
   "cell_type": "code",
   "execution_count": null,
   "metadata": {},
   "outputs": [],
   "source": [
    "import json\n",
    "with open('/home/niell_lab/Desktop/movclusts.json', 'w') as f:\n",
    "    json.dump(movclusts0709, f)"
   ]
  },
  {
   "cell_type": "code",
   "execution_count": null,
   "metadata": {},
   "outputs": [],
   "source": [
    "[col for col in ltdk.data.columns if 'pref_gazeshift_psth' in col]"
   ]
  },
  {
   "cell_type": "code",
   "execution_count": null,
   "metadata": {},
   "outputs": [],
   "source": [
    "hffm.data[hffm.data['dsi_for_sf_pref']>0.9]"
   ]
  },
  {
   "cell_type": "markdown",
   "metadata": {},
   "source": [
    "# Optic flow"
   ]
  },
  {
   "cell_type": "code",
   "execution_count": null,
   "metadata": {},
   "outputs": [],
   "source": [
    "opfl_units = hffm.data[hffm.data['has_optic_flow']][hffm.data['dsi_for_sf_pref']>.9]\n",
    "print(opfl_units.index.values)"
   ]
  },
  {
   "cell_type": "code",
   "execution_count": null,
   "metadata": {},
   "outputs": [],
   "source": [
    "opfl_exinds = [80, 84, 86, 93, 109]"
   ]
  },
  {
   "cell_type": "code",
   "execution_count": null,
   "metadata": {},
   "outputs": [],
   "source": [
    "def plot_gratings_tuning(panel, ind, tf=0):\n",
    "    raw_tuning = hffm.data[ind, 'Gt_ori_tuning_tf'][:,:,tf]\n",
    "    drift_spont = hffm.data[ind, 'Gt_drift_spont']\n",
    "    panel.plot(np.arange(8)*45, raw_tuning[:,0], label='low sf', color=self.cmap_orientation[0])\n",
    "    panel.plot(np.arange(8)*45, raw_tuning[:,1], label='mid sf', color=self.cmap_orientation[1])\n",
    "    panel.plot(np.arange(8)*45, raw_tuning[:,2], label='high sf', color=self.cmap_orientation[2])\n",
    "    panel.plot([0,315], [drift_spont,drift_spont], ':', label='spont', color=self.cmap_orientation[3])"
   ]
  },
  {
   "cell_type": "code",
   "execution_count": null,
   "metadata": {},
   "outputs": [],
   "source": [
    "[col for col in opfl_units.columns.values if 'optic_flow' in col]"
   ]
  },
  {
   "cell_type": "code",
   "execution_count": null,
   "metadata": {},
   "outputs": [],
   "source": [
    "def plot_optic_flow(panel, ind, statename='full', nx=5):\n",
    "    # amplitude\n",
    "    amp = opfl_units[ind, 'FmLt_optic_flow_'+statename+'_amp'].astype(float)\n",
    "    panel.imshow(fa, cmap='Reds')\n",
    "    \n",
    "    # flow vectors\n",
    "    fv_scale = opfl_units[ind, 'FmLt_flowvec_scale']\n",
    "    flow_w = np.size(fv, 1)\n",
    "    flow_h = np.size(fv, 0)\n",
    "    X,Y = np.meshgrid(np.arange(0,flow_w),np.arange(0,flow_h))\n",
    "    U = fv[:,:,0]; V = fv[:,:,1]\n",
    "    panel.quiver(X[::nx,::nx], -Y[::nx,::nx], U[::nx,::nx], -V[::nx,::nx], scale=fv_scale)\n",
    "    \n",
    "    panel.axis('off')\n",
    "    panel.axis('equal')"
   ]
  },
  {
   "cell_type": "code",
   "execution_count": null,
   "metadata": {},
   "outputs": [],
   "source": [
    "fig = plt.subplots(5,3,figisze=(10,7))\n",
    "\n",
    "for i, ind in enumerate(opfl_exinds):\n",
    "    \n",
    "    \n",
    "\n",
    "for i, ind in enumerate(opfl_exinds):\n",
    "    panel = opfl_panels[i]\n",
    "    \n",
    "    plot_gratings_tuning(paen)"
   ]
  },
  {
   "cell_type": "markdown",
   "metadata": {},
   "source": [
    "# read in the old dataset"
   ]
  },
  {
   "cell_type": "code",
   "execution_count": null,
   "metadata": {},
   "outputs": [],
   "source": [
    "old_hffm = pd.read_pickle('/home/niell_lab/data/freely_moving_ephys/batch_files/120221_hffm/pooled_ephys_population_update_120621.pickle')\n",
    "old_ltdk = pd.read_pickle('/home/niell_lab/data/freely_moving_ephys/batch_files/120221_lightdark/pooled_ephys_population_update_120621.pickle')\n"
   ]
  },
  {
   "cell_type": "code",
   "execution_count": null,
   "metadata": {},
   "outputs": [],
   "source": [
    "old_ltdk['session'].unique()"
   ]
  },
  {
   "cell_type": "code",
   "execution_count": null,
   "metadata": {},
   "outputs": [],
   "source": [
    "ltdk.data['session'].unique()"
   ]
  },
  {
   "cell_type": "code",
   "execution_count": null,
   "metadata": {},
   "outputs": [],
   "source": [
    "sdatas = [old_hffm, old_ltdk, hffm.data, ltdk.data]"
   ]
  },
  {
   "cell_type": "code",
   "execution_count": null,
   "metadata": {},
   "outputs": [],
   "source": [
    "plt.subplots(2,2,figsize=(15,18))\n",
    "for panel in range(4):\n",
    "    plt.subplot(2,2,panel+1)\n",
    "    titletext = ['old hf/fm','old lt/dk','new hf/fm','new lt/dk'][panel]\n",
    "    sdata = sdatas[panel]\n",
    "    key = ('movement_psth_type_simple' if 'old' in titletext else 'movcluster')\n",
    "    slist = sdata['session'].unique()\n",
    "    plt.title(titletext + ' num early= ' + str(sdata[key].value_counts()['early']))\n",
    "    for i, session in enumerate(slist):\n",
    "        vc = sdata[key][sdata['session']==session].value_counts()\n",
    "#         movtype = ['unresponsive','negative','biphasic','late','early']\n",
    "        if 'unresponsive' in vc.index.values:\n",
    "            plt.bar(i, height=vc['unresponsive'], color=hffm.cmap_movclusts[5])\n",
    "        else:\n",
    "            vc['unresponsive'] = 0\n",
    "        if 'negative' in vc.index.values:\n",
    "            plt.bar(i, height=vc['negative'], bottom=vc['unresponsive'], color=hffm.cmap_movclusts[4])\n",
    "        else:\n",
    "            vc['negative'] = 0\n",
    "        if 'biphasic' in vc.index.values:\n",
    "            plt.bar(i, height=vc['biphasic'], bottom=vc['unresponsive']+vc['negative'],\n",
    "                    color=hffm.cmap_movclusts[3])\n",
    "        else:\n",
    "            vc['biphasic'] = 0\n",
    "        if 'late' in vc.index.values:\n",
    "            plt.bar(i, height=vc['late'], bottom=vc['unresponsive']+vc['negative']+vc['biphasic'],\n",
    "                    color=hffm.cmap_movclusts[2])\n",
    "        else:\n",
    "            vc['late'] = 0\n",
    "        if 'early' in vc.index.values:\n",
    "            plt.bar(i, height=vc['early'], bottom=vc['unresponsive']+vc['negative']+vc['biphasic']+vc['late'],\n",
    "                    color=hffm.cmap_movclusts[1])\n",
    "        else:\n",
    "            vc['early'] = 0\n",
    "        \n",
    "#         b = 0; h = 0\n",
    "#         for x, m in enumerate(movtype):\n",
    "#             xcolor = [5,4,3,2,1][x]\n",
    "#             if m in vc.index.values:\n",
    "#                 h += int(vc[m])\n",
    "#                 print(x, m, b, h)\n",
    "#                 plt.bar(i, bottom=vc[, height=h, color=hffm.cmap_movclusts[xcolor])\n",
    "#                 b += int(vc[m])\n",
    "    plt.xticks(range(len(slist)), labels=slist, rotation=90)\n",
    "plt.tight_layout()"
   ]
  },
  {
   "cell_type": "code",
   "execution_count": null,
   "metadata": {},
   "outputs": [],
   "source": []
  },
  {
   "cell_type": "code",
   "execution_count": null,
   "metadata": {},
   "outputs": [],
   "source": [
    "ltdk.data['movcluster'].value_counts()"
   ]
  },
  {
   "cell_type": "code",
   "execution_count": null,
   "metadata": {},
   "outputs": [],
   "source": [
    "ltdk.data[ltdk.data['session']=='102721_J558NC_control_Rig2'][ltdk.data['movcluster']=='early']"
   ]
  },
  {
   "cell_type": "code",
   "execution_count": null,
   "metadata": {},
   "outputs": [],
   "source": [
    "opfl = pd.read_pickle('/home/niell_lab/Documents/population/hffm/hffm_opflgrat.pickle')"
   ]
  },
  {
   "cell_type": "code",
   "execution_count": null,
   "metadata": {},
   "outputs": [],
   "source": [
    "[col for col in opfl.columns.values if 'optic' in col]"
   ]
  },
  {
   "cell_type": "code",
   "execution_count": null,
   "metadata": {},
   "outputs": [],
   "source": [
    "u = opfl.iloc[73]"
   ]
  },
  {
   "cell_type": "code",
   "execution_count": null,
   "metadata": {},
   "outputs": [],
   "source": [
    "plt.imshow(u['FmLt_optic_flow_full_amp'].astype(float))"
   ]
  },
  {
   "cell_type": "code",
   "execution_count": null,
   "metadata": {},
   "outputs": [],
   "source": [
    "opfl[opfl['has_optic_flow']==True].index.values"
   ]
  },
  {
   "cell_type": "code",
   "execution_count": null,
   "metadata": {},
   "outputs": [],
   "source": []
  }
 ],
 "metadata": {
  "kernelspec": {
   "display_name": "Python [conda env:ephys0]",
   "language": "python",
   "name": "conda-env-ephys0-py"
  },
  "language_info": {
   "codemirror_mode": {
    "name": "ipython",
    "version": 3
   },
   "file_extension": ".py",
   "mimetype": "text/x-python",
   "name": "python",
   "nbconvert_exporter": "python",
   "pygments_lexer": "ipython3",
   "version": "3.8.12"
  }
 },
 "nbformat": 4,
 "nbformat_minor": 4
}
