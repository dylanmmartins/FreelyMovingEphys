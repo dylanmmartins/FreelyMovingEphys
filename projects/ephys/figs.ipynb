{
 "cells": [
  {
   "cell_type": "markdown",
   "metadata": {},
   "source": [
    "# Imports"
   ]
  },
  {
   "cell_type": "code",
   "execution_count": 1,
   "metadata": {},
   "outputs": [],
   "source": [
    "import sys, os\n",
    "sys.path.insert(0, '/home/dmartins/Documents/github/FreelyMovingEphys-dmm/')\n",
    "from projects.ephys.population import Population\n",
    "import pandas as pd\n",
    "from src.utils.path import find\n",
    "from src.utils.auxiliary import flatten_series\n",
    "import numpy as np\n",
    "import matplotlib.pyplot as plt\n",
    "import matplotlib as mpl\n",
    "from matplotlib import cm\n",
    "import matplotlib.gridspec as gridspec\n",
    "import xarray as xr\n",
    "from matplotlib.patches import Ellipse"
   ]
  },
  {
   "cell_type": "code",
   "execution_count": 2,
   "metadata": {},
   "outputs": [],
   "source": [
    "mpl.rcParams.update({'font.size': 18})\n",
    "mpl.rcParams['axes.spines.top'] = False\n",
    "mpl.rcParams['axes.spines.right'] = False"
   ]
  },
  {
   "cell_type": "code",
   "execution_count": 3,
   "metadata": {},
   "outputs": [],
   "source": [
    "%matplotlib inline"
   ]
  },
  {
   "cell_type": "markdown",
   "metadata": {},
   "source": [
    "# Load dataset"
   ]
  },
  {
   "cell_type": "code",
   "execution_count": 4,
   "metadata": {},
   "outputs": [
    {
     "name": "stdout",
     "output_type": "stream",
     "text": [
      "reading from /home/dmartins/Documents/population/data_for_figs/hffm_pop.pickle\n"
     ]
    }
   ],
   "source": [
    "savepath = '/home/dmartins/Documents/population/data_for_figs'\n",
    "hffm = Population(savepath=savepath)\n",
    "hffm.load(fname='hffm_pop')"
   ]
  },
  {
   "cell_type": "code",
   "execution_count": 5,
   "metadata": {},
   "outputs": [],
   "source": [
    "demo = hffm.data[hffm.data['session']=='102621_J558NC_control_Rig2'].iloc[0]"
   ]
  },
  {
   "cell_type": "markdown",
   "metadata": {},
   "source": [
    "# Figure 01: pupil data"
   ]
  },
  {
   "cell_type": "code",
   "execution_count": null,
   "metadata": {},
   "outputs": [],
   "source": [
    "def drop_wraparound(vals, thresh=70, win=2):\n",
    "    drop = [i for i in range(len(vals)-1) if np.abs(np.diff(vals))[i]>thresh]\n",
    "    if len(drop) > 0:\n",
    "        for i in drop:\n",
    "            vals[i-win:i+win] = np.nan\n",
    "    return vals"
   ]
  },
  {
   "cell_type": "code",
   "execution_count": null,
   "metadata": {},
   "outputs": [],
   "source": [
    "def plot_raster(panel, data, start=0, win=15, stim='FmLt'):\n",
    "    n_cells = len(data.index.values)\n",
    "    for i, ind in enumerate(data.index.values):\n",
    "        panel.vlines(data.loc[ind, stim+'_spikeT'][data[stim+'_spikeT']>start][data[stim+'_spikeT']<start+win], i-0.25, i+0.25, 'k', linewidth=0.25)\n",
    "    panel.set_xticks(ticks=np.linspace(0,15*60,6), labels=np.arange(0,18,3))\n",
    "    panel.set_xlim([start, start+win]); panel.set_ylim([n_cells+0.25, -.25])"
   ]
  },
  {
   "cell_type": "code",
   "execution_count": null,
   "metadata": {},
   "outputs": [],
   "source": [
    "hffm.data['session'].unique()"
   ]
  },
  {
   "cell_type": "code",
   "execution_count": null,
   "metadata": {},
   "outputs": [],
   "source": [
    "FmLt_demo_dir = '/home/dmartins/Documents/ex_data/102621_J558NC/FmLt'"
   ]
  },
  {
   "cell_type": "code",
   "execution_count": null,
   "metadata": {},
   "outputs": [],
   "source": [
    "FmLt_eye_demo = xr.open_dataset(os.path.join(FmLt_demo_dir, '102621_J558NC_control_Rig2_fm1_REYE.nc'))"
   ]
  },
  {
   "cell_type": "code",
   "execution_count": null,
   "metadata": {},
   "outputs": [],
   "source": [
    "FmLt_eye_demo"
   ]
  },
  {
   "cell_type": "code",
   "execution_count": null,
   "metadata": {},
   "outputs": [],
   "source": [
    "pts = FmLt_eye_demo.REYE_pts\n",
    "ell = FmLt_eye_demo.REYE_ellipse_params"
   ]
  },
  {
   "cell_type": "code",
   "execution_count": null,
   "metadata": {},
   "outputs": [],
   "source": [
    "eye_frames = FmLt_ephys_demo['FmLt_eyeT'][1700:1750]"
   ]
  },
  {
   "cell_type": "code",
   "execution_count": null,
   "metadata": {},
   "outputs": [],
   "source": [
    "ell_frames = .sel()"
   ]
  },
  {
   "cell_type": "code",
   "execution_count": null,
   "metadata": {},
   "outputs": [],
   "source": [
    "cmap = plt.cm.summer(np.linspace(0,1,50))\n",
    "\n",
    "start = 1720\n",
    "for f in range(start,start+50):\n",
    "    for i in range(1,9):\n",
    "        plt.plot(pts.sel(frame=f).sel(point_loc='pt'+str(i)+'_x').values,\n",
    "                 pts.sel(frame=f).sel(point_loc='pt'+str(i)+'_y').values,\n",
    "                '.', color=cmap[f-start], markersize=15)\n",
    "        \n",
    "        mean_spot_x = pts.sel(frame=f).sel(point_loc=['spot1_x','spot2_x','spot3_x','spot4_x','spot_cent_x']).mean().values\n",
    "        mean_spot_y = pts.sel(frame=f).sel(point_loc=['spot1_y','spot2_y','spot3_y','spot4_y','spot_cent_y']).mean().values\n",
    "        \n",
    "        ellipse_phi = np.rad2deg(ell.sel(frame=f).sel(ellipse_params='ellipse_phi').values)\n",
    "        x = ((ell.sel(frame=f).sel(ellipse_params='X0').values)+mean_spot_x)\n",
    "        y = ((ell.sel(frame=f).sel(ellipse_params='Y0').values)+mean_spot_y)\n",
    "        long_axis = (ell.sel(frame=f).sel(ellipse_params='longaxis').values)\n",
    "        short_axis = (ell.sel(frame=f).sel(ellipse_params='shortaxis').values)\n",
    "\n",
    "        ell = Ellipse((x, y), long_axis, short_axis, ellipse_phi, edgecolor=cmap[f-start], facecolor='none')\n",
    "        ax.add_patch(ell)\n",
    "        \n",
    "cb = plt.cm.ScalarMappable(norm=None, cmap='summer')\n",
    "cb.set_array(np.linspace(0,1,50))\n",
    "cb.set_clim((0., 50.))\n",
    "plt.colorbar(cb)\n",
    "plt.axis('off')\n",
    "\n"
   ]
  },
  {
   "cell_type": "code",
   "execution_count": null,
   "metadata": {},
   "outputs": [],
   "source": [
    "cb"
   ]
  },
  {
   "cell_type": "code",
   "execution_count": null,
   "metadata": {},
   "outputs": [],
   "source": [
    "pupil_pts = "
   ]
  },
  {
   "cell_type": "code",
   "execution_count": null,
   "metadata": {},
   "outputs": [],
   "source": [
    "FmLt_eye_demo.timestamps.values[1700:1750] - FmLt_ephys_demo['t0']"
   ]
  },
  {
   "cell_type": "code",
   "execution_count": null,
   "metadata": {},
   "outputs": [],
   "source": [
    "savename = '01_pupil_data' # demonstrate the steps of preprocessing\n",
    "\n",
    "start = 1700 # frames, not seconds\n",
    "end = start+(15*60)\n",
    "\n",
    "fig = plt.figure(constrained_layout=True, figsize=(10,8))\n",
    "spec = gridspec.GridSpec(nrows=5, ncols=2, figure=fig)\n",
    "\n",
    "ax_frame = fig.add_subplot(spec[0:3,0])\n",
    "\n",
    "ax_XY = fig.add_subplot(spec[3,0])\n",
    "ax_radius = fig.add_subplot(spec[4,0])\n",
    "ax_theta = fig.add_subplot(spec[2,1])\n",
    "ax_phi = fig.add_subplot(spec[3,1])\n",
    "ax_dEye = fig.add_subplot(spec[4,1])\n",
    "\n",
    "ax_theta.plot(demo['FmLt_theta'][start:end], color='k', linewidth=1)\n",
    "ax_theta.set_xticks(ticks=np.linspace(0,15*60,6), labels=np.arange(0,18,3))\n",
    "ax_theta.set_xlim([0,15*60]); ax_theta.set_ylim([-50,50])\n",
    "ax_theta.set_ylabel('theta (deg)')\n",
    "\n",
    "ax_phi.plot(-demo['FmLt_phi'][start:end], color='k', linewidth=1)\n",
    "ax_phi.set_xticks(ticks=np.linspace(0,15*60,6), labels=np.arange(0,18,3))\n",
    "ax_phi.set_xlim([0,15*60]); ax_phi.set_ylim([-70,70])\n",
    "ax_phi.set_ylabel('phi (deg)')\n",
    "\n",
    "ax_dEye.plot(demo['FmLt_dEye_dps'][start:end], color='k', linewidth=1)\n",
    "ax_dEye.set_xticks(ticks=np.linspace(0,15*60,6), labels=np.arange(0,18,3))\n",
    "ax_dEye.set_xlim([0,15*60]); ax_dEye.set_ylim([-600,600])\n",
    "ax_dEye.set_ylabel('dEye (deg/sec)')\n",
    "\n",
    "fig.show()"
   ]
  },
  {
   "cell_type": "code",
   "execution_count": null,
   "metadata": {},
   "outputs": [],
   "source": [
    "savename = '02_topdown_data' # demonstrate the steps of preprocessing\n",
    "\n",
    "start = 1000\n",
    "end = start+(15*60)\n",
    "\n",
    "fig = plt.figure(constrained_layout=True, figsize=(10,8))\n",
    "spec = gridspec.GridSpec(nrows=5, ncols=2, figure=fig)\n",
    "\n",
    "ax_frame = fig.add_subplot(spec[0:3,0])\n",
    "\n",
    "ax_XY = fig.add_subplot(spec[3,0])\n",
    "ax_speed = fig.add_subplot(spec[4,0])\n",
    "ax_disp = fig.add_subplot(spec[2,1])\n",
    "ax_bodyyaw = fig.add_subplot(spec[3,1])\n",
    "ax_headyaw = fig.add_subplot(spec[4,1])\n",
    "\n",
    "ax_speed.plot(demo['FmLt_top_speed'][start:end], color='k', linewidth=1)\n",
    "ax_speed.set_xticks(ticks=np.linspace(0,15*60,6), labels=np.arange(0,18,3))\n",
    "ax_speed.set_xlim([0,15*60]); #ax_speed.set_ylim([-50,50])\n",
    "ax_speed.set_ylabel('speed (cm/sec)')\n",
    "\n",
    "ax_disp.plot(drop_wraparound(demo['FmLt_top_movement_yaw'][start:end]), color='k', linewidth=1)\n",
    "ax_disp.set_xticks(ticks=np.linspace(0,15*60,6), labels=np.arange(0,18,3))\n",
    "ax_disp.set_xlim([0,15*60])\n",
    "ax_disp.hlines(0, 0, 15*60, colors='tab:orange', linewidth=1, linestyles='dashed') # rightwards horizontal in arena\n",
    "ax_disp.set_ylabel('direction of motion (deg)')\n",
    "\n",
    "ax_bodyyaw.plot(drop_wraparound(demo['FmLt_top_body_yaw'][start:end]), color='k', linewidth=1)\n",
    "ax_bodyyaw.set_xticks(ticks=np.linspace(0,15*60,6), labels=np.arange(0,18,3))\n",
    "ax_bodyyaw.set_xlim([0,15*60])\n",
    "ax_bodyyaw.hlines(0, 0, 15*60, colors='tab:orange', linewidth=1, linestyles='dashed') # rightwards horizontal in arena\n",
    "ax_bodyyaw.set_ylabel('body yaw (deg)')\n",
    "\n",
    "ax_headyaw.plot(drop_wraparound(demo['FmLt_top_head_yaw'][start:end]), color='k', linewidth=1)\n",
    "ax_headyaw.set_xticks(ticks=np.linspace(0,15*60,6), labels=np.arange(0,18,3))\n",
    "ax_headyaw.set_xlim([0,15*60])\n",
    "ax_headyaw.hlines(0, 0, 15*60, colors='tab:orange', linewidth=1, linestyles='dashed') # rightwards horizontal in arena\n",
    "ax_headyaw.set_ylabel('head yaw (deg)')\n",
    "\n",
    "fig.show()"
   ]
  },
  {
   "cell_type": "code",
   "execution_count": null,
   "metadata": {},
   "outputs": [],
   "source": [
    "savename = '03_imu_data'"
   ]
  },
  {
   "cell_type": "code",
   "execution_count": null,
   "metadata": {},
   "outputs": [],
   "source": [
    "savename = '04_ephys_data' # raster, depth from LFP"
   ]
  },
  {
   "cell_type": "code",
   "execution_count": null,
   "metadata": {},
   "outputs": [],
   "source": [
    "savename = '05_world_data' # Wn and Grat analysis, optic flow"
   ]
  },
  {
   "cell_type": "code",
   "execution_count": null,
   "metadata": {},
   "outputs": [],
   "source": [
    "savename = '06_headfixed_recording' # demonstrate the steps of preprocessing\n",
    "\n",
    "# start = 1700\n",
    "# end = start+(15*60)\n",
    "\n",
    "fig = plt.figure(constrained_layout=True, figsize=(10,8))\n",
    "spec = gridspec.GridSpec(nrows=6, ncols=4, figure=fig)\n",
    "\n",
    "ax_Wn_contrast = fig.add_subplot(spec[0,0:2])\n",
    "ax_Wn_raster = fig.add_subplot(spec[1:3,0:2])\n",
    "\n",
    "ax_Wn_tuning_u1 = fig.add_subplot(spec[0,2])\n",
    "ax_Wn_tuning_u2 = fig.add_subplot(spec[1,2])\n",
    "ax_Wn_tuning_u3 = fig.add_subplot(spec[2,2])\n",
    "\n",
    "ax_Wn_sta_u1 = fig.add_subplot(spec[0,3])\n",
    "ax_Wn_sta_u2 = fig.add_subplot(spec[1,3])\n",
    "ax_Wn_sta_u3 = fig.add_subplot(spec[2,3])\n",
    "\n",
    "ax_Gt_contrast = fig.add_subplot(spec[3,0:2])\n",
    "ax_Gt_raster = fig.add_subplot(spec[4:6,0:2])\n",
    "\n",
    "ax_Gt_psth_u1 = fig.add_subplot(spec[3,2])\n",
    "ax_Gt_psth_u2 = fig.add_subplot(spec[4,2])\n",
    "ax_Gt_psth_u3 = fig.add_subplot(spec[5,2])\n",
    "\n",
    "ax_Gt_tuning_u1 = fig.add_subplot(spec[3,3])\n",
    "ax_Gt_tuning_u2 = fig.add_subplot(spec[4,3])\n",
    "ax_Gt_tuning_u3 = fig.add_subplot(spec[5,3])\n",
    "\n",
    "\n",
    "plot_raster(ax_Wn_raster, data=hffm.data[hffm.data['session']=='102821_J570LT_control_Rig2'], stim='Wn')\n",
    "\n",
    "plot_raster(ax_Gt_raster, data=hffm.data[hffm.data['session']=='102821_J570LT_control_Rig2'], stim='Gt')\n",
    "\n",
    "# ax_XY = fig.add_subplot(spec[3,0])\n",
    "# ax_radius = fig.add_subplot(spec[4,0])\n",
    "# ax_theta = fig.add_subplot(spec[2,1])\n",
    "# ax_phi = fig.add_subplot(spec[3,1])\n",
    "# ax_dEye = fig.add_subplot(spec[4,1])\n",
    "\n",
    "# ax_theta.plot(demo['FmLt_theta'][start:end], color='k', linewidth=1)\n",
    "# ax_theta.set_xticks(ticks=np.linspace(0,15*60,6), labels=np.arange(0,18,3))\n",
    "# ax_theta.set_xlim([0,15*60]); ax_theta.set_ylim([-50,50])\n",
    "# ax_theta.set_ylabel('theta (deg)')\n",
    "\n",
    "# ax_phi.plot(-demo['FmLt_phi'][start:end], color='k', linewidth=1)\n",
    "# ax_phi.set_xticks(ticks=np.linspace(0,15*60,6), labels=np.arange(0,18,3))\n",
    "# ax_phi.set_xlim([0,15*60]); ax_phi.set_ylim([-70,70])\n",
    "# ax_phi.set_ylabel('phi (deg)')\n",
    "\n",
    "# ax_dEye.plot(demo['FmLt_dEye_dps'][start:end], color='k', linewidth=1)\n",
    "# ax_dEye.set_xticks(ticks=np.linspace(0,15*60,6), labels=np.arange(0,18,3))\n",
    "# ax_dEye.set_xlim([0,15*60]); ax_dEye.set_ylim([-600,600])\n",
    "# ax_dEye.set_ylabel('dEye (deg/sec)')\n",
    "\n",
    "fig.show()"
   ]
  },
  {
   "cell_type": "markdown",
   "metadata": {},
   "source": [
    "# Figure 08: Saccade and fixate"
   ]
  },
  {
   "cell_type": "code",
   "execution_count": null,
   "metadata": {},
   "outputs": [],
   "source": [
    "def eyemov_psth(panel, i, movtype):\n",
    "    right = hffm.data['FmLt_rightsacc_avg_'+movtype+'_dEye'][hffm.data['session']=='102621_J558NC_control_Rig2'][hffm.data['index']==i].iloc[0]\n",
    "    panel.plot(hffm.trange_x, right, color=hffm.cmap_sacc[0])\n",
    "    left = hffm.data['FmLt_leftsacc_avg_'+movtype+'_dEye'][hffm.data['session']=='102621_J558NC_control_Rig2'][hffm.data['index']==i].iloc[0]\n",
    "    panel.plot(hffm.trange_x, left, color=hffm.cmap_sacc[1])\n",
    "    maxval = np.max(np.maximum(right, left))*1.2\n",
    "    panel.set_ylim([0, maxval])\n",
    "    panel.set_xlim([-0.2, 0.4])"
   ]
  },
  {
   "cell_type": "code",
   "execution_count": null,
   "metadata": {},
   "outputs": [],
   "source": [
    "fig = plt.figure(constrained_layout=True, figsize=(10,8))\n",
    "spec = gridspec.GridSpec(nrows=6, ncols=8, figure=fig)\n",
    "\n",
    "start = 2090 #2100\n",
    "win = 60 # frames, not sec\n",
    "ex_units = [466,40,266,13]\n",
    "\n",
    "ax_deyehead = fig.add_subplot(spec[0:3,0:3])\n",
    "ax_theta = fig.add_subplot(spec[0,3:6])\n",
    "ax_headyaw = fig.add_subplot(spec[1,3:6])\n",
    "ax_dEye = fig.add_subplot(spec[2,3:6])\n",
    "ax_dHead = fig.add_subplot(spec[3,3:6])\n",
    "ax_gaze = fig.add_subplot(spec[4:,3:6])\n",
    "ax_u1_gazeshift = fig.add_subplot(spec[2,6])\n",
    "ax_u1_comp = fig.add_subplot(spec[2,7])\n",
    "ax_u2_gazeshift = fig.add_subplot(spec[3,6])\n",
    "ax_u2_comp = fig.add_subplot(spec[3,7])\n",
    "ax_u3_gazeshift = fig.add_subplot(spec[4,6])\n",
    "ax_u3_comp = fig.add_subplot(spec[4,7])\n",
    "ax_u4_gazeshift = fig.add_subplot(spec[5,6])\n",
    "ax_u4_comp = fig.add_subplot(spec[5,7])\n",
    "\n",
    "# sthresh = 5/0.016\n",
    "# right = eyeT[(np.append(dEye, 0) > sthresh) & (np.append(dGaze,0) > sthresh)]\n",
    "# left = eyeT[(np.append(dEye, 0) < -sthresh) & (np.append(dGaze,0) < -sthresh)]\n",
    "# compinds = [f for f in np.arange(0,len(dEye)) if f not in right and f not in left]\n",
    "# ax_deyehead.plot(dEye[right][::10], dHead[right][::10], '.', color=hffm.cmap_sacc[0], markersize=2)\n",
    "# ax_deyehead.plot(dEye[left][::10], dHead[left][::10], '.', color=hffm.cmap_sacc[1], markersize=2)\n",
    "# ax_deyehead.plot(dEye[compinds][::10], dHead[compinds][::10], '.', color='gray', markersize=3)\n",
    "ax_deyehead.plot(demo['FmLt_dHead'][::10], demo['FmLt_dEye_dps'][::10], 'k.', markersize=2)\n",
    "ax_deyehead.axis('equal')\n",
    "ax_deyehead.set_xlim([-600,600]); ax_deyehead.set_ylim([-600,600])\n",
    "ax_deyehead.set_xlabel('dHead (deg/sec)'); ax_deyehead.set_ylabel('dEye (deg/sec)')\n",
    "ax_deyehead.plot([-500,500],[500,-500], 'r:')\n",
    "\n",
    "theta_data = demo['FmLt_theta'][start:start+win]\n",
    "theta_data = theta_data - np.nanmean(theta_data)\n",
    "ax_theta.plot(theta_data, 'k-', linewidth=1)\n",
    "ax_theta.set_xlim([0,60]); ax_theta.set_xticks(ticks=np.linspace(0,60,5), labels=np.linspace(0,1,5))\n",
    "ax_theta.set_ylabel('theta (deg)')\n",
    "ax_theta.set_ylim([-10,10])\n",
    "\n",
    "ax_dEye.plot(demo['FmLt_dEye_dps'][start:start+win], 'k-', linewidth=1)\n",
    "ax_dEye.set_xlim([0,60]); ax_dEye.set_xticks(ticks=np.linspace(0,60,5), labels=np.linspace(0,1,5))\n",
    "ax_dEye.set_ylabel('dEye (deg/sec)')\n",
    "ax_dEye.set_ylim([-500,500])\n",
    "\n",
    "dHead_data = demo['FmLt_dHead'][start:start+win]\n",
    "ax_dHead.plot(dHead_data, 'k-', linewidth=1)\n",
    "ax_dHead.set_xlim([0,60]); ax_dHead.set_xticks(ticks=np.linspace(0,60,5), labels=np.linspace(0,1,5))\n",
    "ax_dHead.set_ylabel('dHead (deg/sec)')\n",
    "ax_dHead.set_ylim([-500,500])\n",
    "\n",
    "pYaw = np.nancumsum(dHead_data*0.016)\n",
    "pYaw = pYaw - np.nanmean(pYaw)\n",
    "ax_headyaw.plot(pYaw, 'k-', linewidth=1)\n",
    "ax_headyaw.set_xlim([0,60]); ax_headyaw.set_xticks(ticks=np.linspace(0,60,5), labels=np.linspace(0,1,5))\n",
    "ax_headyaw.set_ylabel('head yaw (deg)')\n",
    "# ax_headyaw.set_ylim([-10,10])\n",
    "\n",
    "ax_gaze.plot(pYaw + theta_data, 'k-', linewidth=1)\n",
    "ax_gaze.set_xlim([0,60]); ax_gaze.set_xticks(ticks=np.linspace(0,60,5), labels=np.linspace(0,1,5))\n",
    "ax_gaze.set_ylabel('gaze (theta + head yaw, deg)')\n",
    "\n",
    "eyemov_psth(ax_u1_gazeshift, ex_units[0], 'gaze_shift')\n",
    "eyemov_psth(ax_u2_gazeshift, ex_units[1], 'gaze_shift')\n",
    "eyemov_psth(ax_u3_gazeshift, ex_units[2], 'gaze_shift')\n",
    "eyemov_psth(ax_u4_gazeshift, ex_units[3], 'gaze_shift')\n",
    "\n",
    "eyemov_psth(ax_u1_comp, ex_units[0], 'comp')\n",
    "eyemov_psth(ax_u2_comp, ex_units[1], 'comp')\n",
    "eyemov_psth(ax_u3_comp, ex_units[2], 'comp')\n",
    "eyemov_psth(ax_u4_comp, ex_units[3], 'comp')\n",
    "\n",
    "ax_u1_gazeshift.set_ylim([0,16]); ax_u1_comp.set_ylim([0,16])\n",
    "ax_u2_gazeshift.set_ylim([0,9]); ax_u2_comp.set_ylim([0,9])\n",
    "ax_u3_gazeshift.set_ylim([0,58]); ax_u3_comp.set_ylim([0,58])\n",
    "ax_u4_gazeshift.set_ylim([0,17]); ax_u4_comp.set_ylim([0,17])\n",
    "\n",
    "fig.savefig('/home/dmartins/Desktop/eyemov_paper/08_saccade_and_fixate.pdf')"
   ]
  },
  {
   "cell_type": "markdown",
   "metadata": {},
   "source": [
    "# Figure 9: normalization and clustering"
   ]
  },
  {
   "cell_type": "code",
   "execution_count": null,
   "metadata": {},
   "outputs": [],
   "source": [
    "pca = np.load('/home/dmartins/Documents/population/hffm/dEye_PSTH_pca.npy')\n",
    "Z = hffm.data['mov_kmclust'].values\n",
    "km2label_s = pd.Series(hffm.data['movcluster'].copy().values, Z)\n",
    "km2label = {}\n",
    "for km in sorted(km2label_s.index.unique()):\n",
    "    km2label[km2label_s[km].unique()[0]] = km"
   ]
  },
  {
   "cell_type": "code",
   "execution_count": null,
   "metadata": {},
   "outputs": [],
   "source": [
    "fig = plt.figure(constrained_layout=True, figsize=(10,8))\n",
    "spec = gridspec.GridSpec(nrows=4, ncols=4, figure=fig)\n",
    "\n",
    "ax_choose_pref = fig.add_subplot(spec[0,0])\n",
    "ax_normalize = fig.add_subplot(spec[0,1]) # overlay mean of whole population\n",
    "ax_KMeans = fig.add_subplot(spec[1,0])\n",
    "\n",
    "ax_PCA = fig.add_subplot(spec[0:2,2:4])\n",
    "ax_early = fig.add_subplot(spec[1,1])\n",
    "ax_late = fig.add_subplot(spec[2,0])\n",
    "ax_biphasic = fig.add_subplot(spec[2,1])\n",
    "ax_negative = fig.add_subplot(spec[3,0])\n",
    "ax_unresponsive = fig.add_subplot(spec[3,1])\n",
    "ax_frac = fig.add_subplot(spec[2,2])\n",
    "\n",
    "ex_unit = 474\n",
    "right = hffm.data['FmLt_rightsacc_avg_gaze_shift_dEye'][hffm.data['session']=='102621_J558NC_control_Rig2'][hffm.data['index']==ex_unit].iloc[0]\n",
    "left = hffm.data['FmLt_leftsacc_avg_gaze_shift_dEye'][hffm.data['session']=='102621_J558NC_control_Rig2'][hffm.data['index']==ex_unit].iloc[0]\n",
    "ax_choose_pref.plot(hffm.trange_x, right, color=hffm.cmap_sacc[0])\n",
    "ax_choose_pref.plot(hffm.trange_x, left, color=hffm.cmap_sacc[1], linestyle='dashed')\n",
    "maxval = np.max(np.maximum(right, left))*1.2\n",
    "ax_choose_pref.set_ylim([0, maxval])\n",
    "ax_choose_pref.set_xlim([-0.2, 0.4])\n",
    "ax_choose_pref.set_ylabel('sp/sec')\n",
    "\n",
    "allpsth = hffm.data['pref_gazeshift_psth'][hffm.data['movcluster'].isin(['early','late','biphasic','negative','unresponsive'])]\n",
    "for ind, psth in allpsth.iteritems():\n",
    "    ax_normalize.plot(hffm.trange_x, psth, linewidth=1, alpha=0.1)\n",
    "ax_normalize.set_ylim([-0.8,0.8]); ax_normalize.set_xlim([-0.2,0.4])\n",
    "meanpsth = np.mean(flatten_series(allpsth),0)\n",
    "ax_normalize.plot(hffm.trange_x, meanpsth, 'k', linewidth=4)\n",
    "\n",
    "for count, movtype in enumerate(['early','late','biphasic','negative','unresponsive']):\n",
    "    movcolor = hffm.cmap_movclusts[count+1]\n",
    "    for ind, psth in hffm.data['pref_gazeshift_psth'][hffm.data['movcluster']==movtype].iteritems():\n",
    "        ax_KMeans.plot(hffm.trange_x, psth, linewidth=1, alpha=0.1, color=movcolor)\n",
    "ax_KMeans.set_ylim([-0.8,0.8]); ax_KMeans.set_xlim([-0.2,0.4])\n",
    "    \n",
    "for count, movtype in enumerate(['early','late','biphasic','negative','unresponsive']):\n",
    "    movcolor = hffm.cmap_movclusts[count+1]\n",
    "    inds = np.argwhere(Z==km2label[movtype])\n",
    "    ax_PCA.plot(pca[inds,0], pca[inds,1], '.', color=movcolor, markersize=8)\n",
    "    ax_PCA.set_xlabel('PCA 1')#; ax_PCA.set_xlim([-1,1])\n",
    "    ax_PCA.set_ylabel('PCA 2')#; ax_PCA.set_ylim([-1,1])\n",
    "\n",
    "panels = [ax_early, ax_late, ax_biphasic, ax_negative, ax_unresponsive]\n",
    "movtypes = ['early','late','biphasic','negative','unresponsive']\n",
    "for count in range(5):\n",
    "    panel = panels[count]\n",
    "    movtype = movtypes[count]\n",
    "    clustmean = np.nanmean(flatten_series(hffm.data['pref_gazeshift_psth'][hffm.data['movcluster']==movtype]),0)\n",
    "    panel.plot(hffm.trange_x, clustmean, '-', linewidth=4, color=hffm.cmap_movclusts[count+1])\n",
    "    panel.set_xlim([-0.2,0.4]); panel.set_ylim([-.8,.8])\n",
    "    panel.axis('off')\n",
    "    \n",
    "ax_frac.bar(0,len(hffm.data[hffm.data['movcluster']!='unresponsive']), color='k')\n",
    "ax_frac.bar(1,vcounts['unresponsive'], color=hffm.cmap_movclusts[5])\n",
    "ax_frac.set_xticks(ticks=[0,1], labels=['responsive','unresponsive'])\n",
    "ax_frac.set_ylabel('# neurons')\n",
    "    \n",
    "fig.savefig('/home/dmartins/Desktop/eyemov_paper/09_norm_and_cluster.pdf')"
   ]
  },
  {
   "cell_type": "markdown",
   "metadata": {},
   "source": [
    "# Figure 10: four eye movement response"
   ]
  },
  {
   "cell_type": "code",
   "execution_count": null,
   "metadata": {},
   "outputs": [],
   "source": [
    "vcounts = hffm.data['movcluster'].value_counts()\n",
    "vcounts"
   ]
  },
  {
   "cell_type": "code",
   "execution_count": null,
   "metadata": {},
   "outputs": [],
   "source": [
    "fig = plt.figure(constrained_layout=True, figsize=(10,6))\n",
    "spec = gridspec.GridSpec(nrows=3, ncols=4, figure=fig)\n",
    "\n",
    "ax_early = fig.add_subplot(spec[0,0])\n",
    "ax_late = fig.add_subplot(spec[0,1])\n",
    "ax_biphasic = fig.add_subplot(spec[1,0])\n",
    "ax_negative = fig.add_subplot(spec[1,1])\n",
    "ax_all = fig.add_subplot(spec[0:2,2:4])\n",
    "ax_frac = fig.add_subplot(spec[2,0:2])\n",
    "\n",
    "names = ['early','late','biphasic','negative','unresponsive']\n",
    "for i, name in enumerate(names):\n",
    "    ax_frac.bar(i, vcounts[name], color=hffm.cmap_movclusts[i+1])\n",
    "ax_frac.set_xticks(ticks=range(5), labels=names)\n",
    "ax_frac.set_ylabel('# neurons')\n",
    "\n",
    "panels = [ax_early, ax_late, ax_biphasic, ax_negative]\n",
    "movtypes = ['early','late','biphasic','negative']\n",
    "for count in range(4):\n",
    "    panel = panels[count]\n",
    "    movtype = movtypes[count]\n",
    "    \n",
    "    thisclust = hffm.data['pref_gazeshift_psth'][hffm.data['movcluster']==movtype]\n",
    "    for i, psth in enumerate(thisclust):\n",
    "        panel.plot(hffm.trange_x, psth, '-', linewidth=1, alpha=0.3)\n",
    "    clustmean = np.nanmean(flatten_series(thisclust),0)\n",
    "    panel.plot(hffm.trange_x, clustmean, '-', linewidth=4, color=hffm.cmap_movclusts[count+1])\n",
    "    panel.set_xlim([-0.2,0.4]); panel.set_ylim([-.8,.8])\n",
    "    panel.vlines(0,-.8,.8, colors='k', linestyle='dotted', alpha=0.3)\n",
    "    \n",
    "    ax_all.plot(hffm.trange_x, clustmean, '-', linewidth=4, color=hffm.cmap_movclusts[count+1])\n",
    "    ax_all.set_xlim([-0.2,0.4]); ax_all.set_ylim([-.8,.8])\n",
    "    ax_all.vlines(0,-.8,.8, colors='k', linestyle='dotted', alpha=0.3)\n",
    "    \n",
    "ax_all.annotate('early', xy=[0.18,-0.45], color=hffm.cmap_movclusts[1], fontsize=20)\n",
    "ax_all.annotate('late', xy=[0.18,-0.55], color=hffm.cmap_movclusts[2], fontsize=20)\n",
    "ax_all.annotate('biphasic', xy=[0.18,-0.65], color=hffm.cmap_movclusts[3], fontsize=20)\n",
    "ax_all.annotate('negative', xy=[0.18,-0.75], color=hffm.cmap_movclusts[4], fontsize=20)\n",
    "\n",
    "fig.savefig('/home/dmartins/Desktop/eyemov_paper/10_four_movclusters.pdf')"
   ]
  },
  {
   "cell_type": "markdown",
   "metadata": {},
   "source": [
    "# Figure 11 & 12: early/late & biphasic/negative"
   ]
  },
  {
   "cell_type": "code",
   "execution_count": null,
   "metadata": {},
   "outputs": [],
   "source": [
    "def plot_movclust(panel, clustname, color, movtype='pref_gazeshift_psth'):\n",
    "    for i, psth in enumerate(hffm.data[movtype][hffm.data['movcluster']==clustname]):\n",
    "        panel.plot(hffm.trange_x, psth, '-', linewidth=1, alpha=0.3)\n",
    "    clustmean = np.nanmean(flatten_series(hffm.data[movtype][hffm.data['movcluster']==clustname]),0)\n",
    "    panel.plot(hffm.trange_x, clustmean, '-', linewidth=4, color=color)\n",
    "    panel.set_xlim([-0.2,0.4]); panel.set_ylim([-.8,.8])"
   ]
  },
  {
   "cell_type": "code",
   "execution_count": null,
   "metadata": {},
   "outputs": [],
   "source": [
    "# preference is defined using only gaze-shifts (so gaze pref and comp non-pref are actualy the same direction)\n",
    "\n",
    "movtypes = ['pref_gazeshift_psth', 'nonpref_gazeshift_psth', 'pref_comp_psth', 'nonpref_comp_psth']\n",
    "for figcount in range(2):\n",
    "    if figcount==0:\n",
    "        clustnames = ['early','late']\n",
    "        colors = [hffm.cmap_movclusts[1], hffm.cmap_movclusts[2]]\n",
    "    else:\n",
    "        clustnames = ['biphasic','negative']\n",
    "        colors = [hffm.cmap_movclusts[3], hffm.cmap_movclusts[4]]\n",
    "\n",
    "    fig = plt.figure(constrained_layout=True, figsize=(10,4))\n",
    "    spec = gridspec.GridSpec(nrows=2, ncols=4, figure=fig)\n",
    "\n",
    "    ax_gp1 = fig.add_subplot(spec[0,0])\n",
    "    ax_gnp1 = fig.add_subplot(spec[0,1])\n",
    "    ax_cp1 = fig.add_subplot(spec[1,0])\n",
    "    ax_cnp1 = fig.add_subplot(spec[1,1])\n",
    "    \n",
    "    ax_gp2 = fig.add_subplot(spec[0,2])\n",
    "    ax_gnp2 = fig.add_subplot(spec[0,3])\n",
    "    ax_cp2 = fig.add_subplot(spec[1,2])\n",
    "    ax_cnp2 = fig.add_subplot(spec[1,3])\n",
    "    \n",
    "    panels = [\n",
    "        [ax_gp1, ax_gnp1, ax_cp1, ax_cnp1],\n",
    "        [ax_gp2, ax_gnp2, ax_cp2, ax_cnp2]\n",
    "    ]\n",
    "    \n",
    "    for i in range(len(clustnames)):\n",
    "        for j in range(len(movtypes)):\n",
    "            plot_movclust(panels[i][j], clustnames[i], colors[i], movtypes[j])\n",
    "            \n",
    "    if figcount==0:\n",
    "        fig.savefig('/home/dmartins/Desktop/eyemov_paper/11_early_late.pdf')\n",
    "    elif figcount==1:\n",
    "        fig.savefig('/home/dmartins/Desktop/eyemov_paper/12_biphasic_negative.pdf')"
   ]
  },
  {
   "cell_type": "markdown",
   "metadata": {},
   "source": [
    "# Figure 13: cell type summary"
   ]
  },
  {
   "cell_type": "code",
   "execution_count": null,
   "metadata": {},
   "outputs": [],
   "source": [
    "def plot_movclustPNP(panel, clustname, color, movtype='gazeshift_psth'):\n",
    "    panel.plot(hffm.trange_x, np.nanmean(flatten_series(hffm.data['pref_'+movtype][hffm.data['movcluster']==clustname]),0), '-', linewidth=2, color=color)\n",
    "    panel.plot(hffm.trange_x, np.nanmean(flatten_series(hffm.data['nonpref_'+movtype][hffm.data['movcluster']==clustname]),0), '-', linewidth=2, color=color, alpha=0.6)\n",
    "    panel.set_xlim([-0.2,0.4]); panel.set_ylim([-.8,.8])"
   ]
  },
  {
   "cell_type": "code",
   "execution_count": null,
   "metadata": {},
   "outputs": [],
   "source": [
    "def modind(a, b):\n",
    "    \"\"\"\n",
    "    value of 1 means a is more significant\n",
    "    value of -1 means b is more significant\n",
    "    \"\"\"\n",
    "    mi = (a - b) / (a + b)\n",
    "    return mi"
   ]
  },
  {
   "cell_type": "code",
   "execution_count": null,
   "metadata": {},
   "outputs": [],
   "source": [
    "zwin = [35,55]\n",
    "for ind, row in hffm.data[hffm.data['fr']>2].iterrows():\n",
    "    if row['movcluster'] in ['early','late','biphasic','negative']:\n",
    "        left_gaze = row['FmLt_leftsacc_avg_gaze_shift_dEye'][zwin[0]:zwin[1]]\n",
    "        right_gaze = row['FmLt_rightsacc_avg_gaze_shift_dEye'][zwin[0]:zwin[1]]\n",
    "        left_comp = row['FmLt_leftsacc_avg_comp_dEye'][zwin[0]:zwin[1]]\n",
    "        right_comp= row['FmLt_rightsacc_avg_comp_dEye'][zwin[0]:zwin[1]]\n",
    "        \n",
    "        # get L/R preference (0=left; 1=right)\n",
    "        dirpref = row['pref_gazeshift_direction_ind']\n",
    "        p_gaze = [left_gaze, right_gaze][int(dirpref)]\n",
    "        p_comp = [left_comp, right_comp][int(dirpref)]\n",
    "        np_gaze = [left_gaze, right_gaze][int(1-dirpref)]\n",
    "        np_comp = [left_comp, right_comp][int(1-dirpref)]\n",
    "            \n",
    "        hffm.data.at[ind, 'gaze_sacc_LRMI'] = modind(np.max(right_gaze), np.max(left_gaze))\n",
    "        hffm.data.at[ind, 'comp_sacc_LRMI'] = modind(np.max(right_comp), np.max(left_comp))\n",
    "        hffm.data.at[ind, 'gaze_sacc_pnpMI'] = modind(np.max(p_gaze), np.max(np_gaze))\n",
    "        hffm.data.at[ind, 'comp_sacc_pnpMI'] = modind(np.max(p_comp), np.max(np_comp))\n",
    "        \n",
    "    if row['responsive_to_gratings']:\n",
    "        ori = row['Gt_ori_tuning_mean_tf']\n",
    "        best_sf = ori[:,np.argmax(np.mean(ori,0))]\n",
    "        left_grat = best_sf[0]\n",
    "        right_grat = best_sf[4]\n",
    "        hffm.data.at[ind, 'gratings_LRMI'] = modind(left_grat, right_grat)"
   ]
  },
  {
   "cell_type": "code",
   "execution_count": null,
   "metadata": {},
   "outputs": [],
   "source": [
    "ind = 171; zwin = [35,55]\n",
    "lz, rz = np.abs(hffm.comparative_z_score(left[zwin[0]:zwin[1]], right[zwin[0]:zwin[1]]))\n",
    "\n",
    "fig, ax = plt.subplots(1,1,figsize=(3,3))\n",
    "right = hffm.data['FmLt_rightsacc_avg_gaze_shift_dEye'].iloc[ind]\n",
    "ax.plot(hffm.trange_x, right, color=hffm.cmap_sacc[0])\n",
    "left = hffm.data['FmLt_leftsacc_avg_gaze_shift_dEye'].iloc[ind]\n",
    "ax.plot(hffm.trange_x, left, color=hffm.cmap_sacc[1])\n",
    "maxval = np.max(np.maximum(right, left))*1.2\n",
    "ax.set_ylim([0, maxval])\n",
    "ax.set_xlim(-1,0.4)\n",
    "ax.set_ylabel('sp/sec'); ax.set_xlabel('sec')\n",
    "ax.annotate('right (Z='+str(np.round(rz,3))+')', xy=[-.95,14], color=hffm.cmap_sacc[0], fontsize=15)\n",
    "ax.annotate('left (Z='+str(np.round(lz,3))+')', xy=[-.95,12], color=hffm.cmap_sacc[1], fontsize=15)\n",
    "\n",
    "fig.savefig('/home/dmartins/Desktop/eyemov_paper/13A_unit171.pdf')"
   ]
  },
  {
   "cell_type": "code",
   "execution_count": null,
   "metadata": {},
   "outputs": [],
   "source": [
    "fig = plt.figure(constrained_layout=True, figsize=(11,3.8))\n",
    "spec = gridspec.GridSpec(nrows=2, ncols=7, figure=fig)\n",
    "\n",
    "ax_g_early = fig.add_subplot(spec[0,0])\n",
    "ax_c_early = fig.add_subplot(spec[1,0])\n",
    "\n",
    "ax_g_late = fig.add_subplot(spec[0,1])\n",
    "ax_c_late = fig.add_subplot(spec[1,1])\n",
    "\n",
    "ax_g_biphasic = fig.add_subplot(spec[0,2])\n",
    "ax_c_biphasic = fig.add_subplot(spec[1,2])\n",
    "\n",
    "ax_g_negative = fig.add_subplot(spec[0,3])\n",
    "ax_c_negative = fig.add_subplot(spec[1,3])\n",
    "\n",
    "ax_gcMI = fig.add_subplot(spec[0:,4:])\n",
    "\n",
    "plot_movclustPNP(ax_g_early, 'early', hffm.cmap_movclusts[1], 'gazeshift_psth')\n",
    "plot_movclustPNP(ax_c_early, 'early', hffm.cmap_movclusts[1], 'comp_psth')\n",
    "\n",
    "plot_movclustPNP(ax_g_late, 'late', hffm.cmap_movclusts[2], 'gazeshift_psth')\n",
    "plot_movclustPNP(ax_c_late, 'late', hffm.cmap_movclusts[2], 'comp_psth')\n",
    "\n",
    "plot_movclustPNP(ax_g_biphasic, 'biphasic', hffm.cmap_movclusts[3], 'gazeshift_psth')\n",
    "plot_movclustPNP(ax_c_biphasic, 'biphasic', hffm.cmap_movclusts[3], 'comp_psth')\n",
    "\n",
    "plot_movclustPNP(ax_g_negative, 'negative', hffm.cmap_movclusts[4], 'gazeshift_psth')\n",
    "plot_movclustPNP(ax_c_negative, 'negative', hffm.cmap_movclusts[4], 'comp_psth')\n",
    "\n",
    "for i in range(4):\n",
    "    name = ['early','late','biphasic','negative'][i]\n",
    "    gaze_mi = hffm.data['gaze_sacc_pnpMI'][hffm.data['movcluster']==name]\n",
    "    comp_mi = hffm.data['comp_sacc_pnpMI'][hffm.data['movcluster']==name]\n",
    "    ax_gcMI.plot(gaze_mi, comp_mi, '.', color=hffm.cmap_movclusts[i+1], markersize=4)\n",
    "ax_gcMI.set_ylim([-.8,.5])\n",
    "ax_gcMI.set_xlim([-0.3,.8])\n",
    "ax_gcMI.vlines(0,-1,1,linestyle='dotted',alpha=0.5, colors='k')\n",
    "ax_gcMI.hlines(0,-1,1,linestyle='dotted',alpha=0.5, colors='k')\n",
    "ax_gcMI.set_ylabel('comp pref MI')\n",
    "ax_gcMI.set_xlabel('gaze-shift pref MI')\n",
    "\n",
    "fig.savefig('/home/dmartins/Desktop/eyemov_paper/13_cluster_direction_prefs.pdf')"
   ]
  },
  {
   "cell_type": "markdown",
   "metadata": {},
   "source": [
    "# 14: basic cluster properties"
   ]
  },
  {
   "cell_type": "code",
   "execution_count": null,
   "metadata": {},
   "outputs": [],
   "source": [
    "mua_power = hffm.data['Wn_lfp_power'][hffm.data['session']=='101521_J559NC_control_Rig2'].iloc[0]\n",
    "layer5 = hffm.data['Wn_layer5cent_from_lfp'][hffm.data['session']=='101521_J559NC_control_Rig2'].iloc[0]"
   ]
  },
  {
   "cell_type": "code",
   "execution_count": null,
   "metadata": {},
   "outputs": [],
   "source": [
    "fig = plt.figure(constrained_layout=True, figsize=(12,4.5))\n",
    "spec = gridspec.GridSpec(nrows=1, ncols=7, figure=fig)\n",
    "\n",
    "ax_ex_mua = fig.add_subplot(spec[0,0:2])\n",
    "ax_early = fig.add_subplot(spec[0,2])\n",
    "ax_late = fig.add_subplot(spec[0,3])\n",
    "ax_biphasic = fig.add_subplot(spec[0,4])\n",
    "ax_negative = fig.add_subplot(spec[0,5])\n",
    "ax_unresponsive = fig.add_subplot(spec[0,6])\n",
    "\n",
    "\n",
    "ch_spacing = 25\n",
    "for sh in range(4):\n",
    "    ax_ex_mua.plot(mua_power[sh], np.arange(0,32)-layer5[sh], 'tab:red')\n",
    "ax_ex_mua.set_title('example recording depth')\n",
    "ax_ex_mua.hlines(0,np.min(mua_power),np.max(mua_power), 'k', linestyle='dashed')\n",
    "ax_ex_mua.set_ylim([18,-19])\n",
    "ax_ex_mua.set_yticks(ticks=np.arange(18,-19,-3), labels=(ch_spacing*np.arange(18,-19,-3)))\n",
    "ax_ex_mua.set_ylabel('depth (um)'); ax_ex_mua.set_xlabel('LFP MUA power')\n",
    "ax_ex_mua.annotate('layer 5', xy=[0.78, -.5], color='k', fontsize=15)\n",
    "\n",
    "panels = [ax_early, ax_late, ax_biphasic, ax_negative, ax_unresponsive]\n",
    "names = ['early','late','biphasic','negative','unresponsive']\n",
    "for i, panel in enumerate(panels):\n",
    "    name = names[i]\n",
    "    panel.set_title(name)\n",
    "    panel.hist(hffm.data['Wn_depth_from_layer5'], color='k', bins=np.linspace(-750,750,11), orientation='horizontal', density=True, histtype='step', linewidth=2)\n",
    "    panel.hist(hffm.data['Wn_depth_from_layer5'][hffm.data['movcluster']==name],\n",
    "                        color=hffm.cmap_movclusts[i+1], bins=np.linspace(-750,750,11), orientation='horizontal', density=True, histtype='stepfilled')\n",
    "    panel.set_ylabel('depth (um)')\n",
    "    panel.set_xlabel('fraction of neurons')\n",
    "    panel.invert_yaxis()\n",
    "    panel.set_xlim(0,0.003)\n",
    "    \n",
    "fig.savefig('/home/dmartins/Desktop/eyemov_paper/14A_cluster_depths.pdf')"
   ]
  },
  {
   "cell_type": "code",
   "execution_count": 66,
   "metadata": {},
   "outputs": [
    {
     "data": {
      "image/png": "[encoded data removed]",
      "text/plain": [
       "<Figure size 576x648 with 3 Axes>"
      ]
     },
     "metadata": {
      "needs_background": "light"
     },
     "output_type": "display_data"
    }
   ],
   "source": [
    "fig = plt.figure(constrained_layout=True, figsize=(8,9))\n",
    "spec = gridspec.GridSpec(nrows=3, ncols=2, figure=fig)\n",
    "\n",
    "ax_wvfm = fig.add_subplot(spec[0,0])\n",
    "ax_props = fig.add_subplot(spec[0,1])\n",
    "ax_frac = fig.add_subplot(spec[1,:])\n",
    "\n",
    "exc = hffm.data[hffm.data['exc_or_inh']=='exc'][hffm.data['norm_waveform'].map(max)<1]\n",
    "inh = hffm.data[hffm.data['exc_or_inh']=='inh'][hffm.data['norm_waveform'].map(max)<1]\n",
    "\n",
    "inh_wvfm = flatten_series(inh['norm_waveform'])\n",
    "for i in np.arange(0,np.size(inh_wvfm,0),5):\n",
    "    ax_wvfm.plot(inh_wvfm[i,:], color=hffm.cmap_celltype[1])\n",
    "exc_wvfm = flatten_series(exc['norm_waveform'])\n",
    "for i in np.arange(0,np.size(exc_wvfm,0),5):\n",
    "    ax_wvfm.plot(exc_wvfm[i,:], color=hffm.cmap_celltype[0])\n",
    "# ax_wvfm.set_title('putative cell type')\n",
    "ax_wvfm.annotate('excitatory', xy=[40, -.52], color=hffm.cmap_celltype[0], fontsize=15)\n",
    "ax_wvfm.annotate('inhibitory', xy=[40, -.7], color=hffm.cmap_celltype[1], fontsize=15)\n",
    "ax_wvfm.set_ylim([-1.05,.85]); ax_wvfm.set_xlabel('msec')\n",
    "\n",
    "inh_ahp = inh['AHP'][inh['waveform_peak']<0]\n",
    "inh_width = inh['waveform_trough_width'][inh['waveform_peak']<0]\n",
    "exc_ahp = exc['AHP'][exc['waveform_peak']<0]\n",
    "exc_width = exc['waveform_trough_width'][exc['waveform_peak']<0]\n",
    "\n",
    "ax_props.plot(exc_width, exc_ahp, '.', color=hffm.cmap_celltype[0])\n",
    "ax_props.plot(inh_width, inh_ahp, '.', color=hffm.cmap_celltype[1])\n",
    "ax_props.set_ylabel('AHP')\n",
    "ax_props.set_xlabel('trough width')\n",
    "\n",
    "exc_vcounts = exc['movcluster'].value_counts()\n",
    "inh_vcounts = inh['movcluster'].value_counts()\n",
    "names = ['early','late','biphasic','negative','unresponsive']\n",
    "for i, name in enumerate(names):\n",
    "    ax_frac.bar(i-0.2, exc_vcounts[name]/exc_vcounts.sum(), color=hffm.cmap_celltype[0], width=0.4)\n",
    "    ax_frac.bar(i+0.2, inh_vcounts[name]/inh_vcounts.sum(), color=hffm.cmap_celltype[1], width=0.4)\n",
    "ax_frac.set_xticks(ticks=range(5), labels=names)\n",
    "ax_frac.set_ylabel('frac of celltype')\n",
    "\n",
    "fig.savefig('/home/dmartins/Desktop/eyemov_paper/14B_putative_celltype.pdf')"
   ]
  },
  {
   "cell_type": "code",
   "execution_count": 67,
   "metadata": {},
   "outputs": [
    {
     "data": {
      "image/png": "[encoded data removed]",
      "text/plain": [
       "<Figure size 216x216 with 1 Axes>"
      ]
     },
     "metadata": {
      "needs_background": "light"
     },
     "output_type": "display_data"
    }
   ],
   "source": [
    "fig, ax = plt.subplots(1,1,figsize=(3,3))\n",
    "ax.plot(exc['norm_waveform'].iloc[101], color=hffm.cmap_celltype[0],linewidth=5)\n",
    "ax.set_ylim([-1.05,.85])\n",
    "ax.axis('off')\n",
    "fig.savefig('/home/dmartins/Desktop/eyemov_paper/14C_exc_i101.pdf')"
   ]
  },
  {
   "cell_type": "markdown",
   "metadata": {},
   "source": [
    "# Figure 15: head-fixed whitenoise"
   ]
  },
  {
   "cell_type": "code",
   "execution_count": null,
   "metadata": {},
   "outputs": [],
   "source": [
    "fig = plt.figure(constrained_layout=True, figsize=(14,9))\n",
    "spec = gridspec.GridSpec(nrows=3, ncols=4, figure=fig)\n",
    "\n",
    "ax_resp = fig.add_subplot(spec[0,0:2])\n",
    "ax_crf_all = fig.add_subplot(spec[0,2])\n",
    "ax_crf_unresponsive = fig.add_subplot(spec[0,3])\n",
    "\n",
    "ax_crf_early = fig.add_subplot(spec[1,0])\n",
    "ax_crf_late = fig.add_subplot(spec[1,1])\n",
    "ax_crf_biphasic = fig.add_subplot(spec[1,2])\n",
    "ax_crf_negative = fig.add_subplot(spec[1,3])\n",
    "\n",
    "ax_sbc_props = fig.add_subplot(spec[2,0])\n",
    "ax_sbc_crfs = fig.add_subplot(spec[2,1])\n",
    "ax_sbc_fracs = fig.add_subplot(spec[2,2:])\n",
    "\n",
    "clusters = hffm.data['movcluster'].value_counts()\n",
    "contrast_clusters = hffm.data['movcluster'][hffm.data['responsive_to_contrast']].value_counts()\n",
    "names = ['all','early','late','biphasic','negative','unresponsive']\n",
    "ax_resp.bar(0, contrast_clusters.sum()/clusters.sum(), color=hffm.cmap_movclusts[0])\n",
    "for i, name in enumerate(names[1:]):\n",
    "    ax_resp.bar(i+1, contrast_clusters[name]/clusters[name], color=hffm.cmap_movclusts[1+i])\n",
    "ax_resp.set_xticks(ticks=range(6), labels=names)\n",
    "ax_resp.set_ylabel('frac responsive')\n",
    "\n",
    "crf_panels = [ax_crf_early, ax_crf_late, ax_crf_biphasic, ax_crf_negative, ax_crf_unresponsive]\n",
    "\n",
    "all_clusters = hffm.data[hffm.data['responsive_to_contrast']]\n",
    "for ind, row in all_clusters.iterrows():\n",
    "    ax_crf_all.plot(row['Wn_contrast_tuning_bins'], row['Wn_contrast_tuning'], linewidth=1, alpha=0.2)\n",
    "this_mean = np.nanmean(flatten_series(all_clusters['Wn_contrast_tuning']),0)\n",
    "ax_crf_all.plot(row['Wn_contrast_tuning_bins'], this_mean, 'k', linewidth=4)\n",
    "ax_crf_all.set_ylim([0,25])\n",
    "ax_crf_all.set_title('CRFs of population')\n",
    "ax_crf_all.set_ylabel('sp/sec'); ax_crf_all.set_xlabel('contrast')\n",
    "\n",
    "for i, panel in enumerate(crf_panels):\n",
    "    name = names[i+1]\n",
    "    panel.set_title(name)\n",
    "    this_cluster = hffm.data[hffm.data['movcluster']==name][hffm.data['responsive_to_contrast']]\n",
    "    for ind, row in this_cluster.iterrows():\n",
    "        panel.plot(row['Wn_contrast_tuning_bins'], row['Wn_contrast_tuning'], linewidth=1, alpha=0.2)\n",
    "    panel.set_ylim([0,25])\n",
    "    this_mean = np.nanmean(flatten_series(this_cluster['Wn_contrast_tuning']),0)\n",
    "    panel.plot(row['Wn_contrast_tuning_bins'], this_mean, hffm.cmap_movclusts[i+1], linewidth=4)\n",
    "    panel.set_ylabel('sp/sec'); panel.set_xlabel('contrast')\n",
    "\n",
    "SBCs = hffm.data[hffm.data['is_SbC']]\n",
    "\n",
    "ax_sbc_props.plot(-hffm.data['SbC_min_mid_mod'][hffm.data['responsive_to_contrast']][hffm.data['is_SbC']==False],\n",
    "                  hffm.data['grat_psth_drop'][hffm.data['responsive_to_contrast']][hffm.data['is_SbC']==False],\n",
    "                  '.', color=hffm.cmap_movclusts[0], markersize=3)\n",
    "ax_sbc_props.plot(-SBCs['SbC_min_mid_mod'], SBCs['grat_psth_drop'], '.', color='tab:olive', markersize=6)\n",
    "ax_sbc_props.set_ylim([-1.5,5])\n",
    "ax_sbc_props.set_title('SbC cells')\n",
    "ax_sbc_props.set_ylabel('suppression by gratings')\n",
    "ax_sbc_props.set_xlabel('suppression by white noise')\n",
    "\n",
    "for ind, row in SBCs.iterrows():\n",
    "    ax_sbc_crfs.plot(row['Wn_contrast_tuning_bins'], row['Wn_contrast_tuning'], linewidth=1, alpha=0.2)\n",
    "this_mean = np.nanmean(flatten_series(SBCs['Wn_contrast_tuning']),0)\n",
    "ax_sbc_crfs.plot(row['Wn_contrast_tuning_bins'], this_mean, color='tab:olive', linewidth=4)\n",
    "ax_sbc_crfs.set_ylim([0,25])\n",
    "ax_sbc_crfs.set_title('SbCs')\n",
    "ax_sbc_crfs.set_ylabel('sp/sec'); ax_crf_all.set_xlabel('contrast')\n",
    "\n",
    "SbC_vcounts = SBCs['movcluster'].value_counts()\n",
    "names = ['early','late','biphasic','negative','unresponsive']\n",
    "for i, name in enumerate(names):\n",
    "    ax_sbc_fracs.bar(i, SbC_vcounts[name]/SbC_vcounts.sum(), color=hffm.cmap_movclusts[1+i])\n",
    "ax_sbc_fracs.set_xticks(ticks=range(5), labels=names)\n",
    "ax_sbc_fracs.set_ylabel('frac of SbCs')\n",
    "\n",
    "fig.savefig('/home/dmartins/Desktop/eyemov_paper/15_whitenoise.pdf')"
   ]
  },
  {
   "cell_type": "code",
   "execution_count": 169,
   "metadata": {},
   "outputs": [
    {
     "data": {
      "image/png": "[encoded data removed]",
      "text/plain": [
       "<Figure size 576x216 with 2 Axes>"
      ]
     },
     "metadata": {
      "needs_background": "light"
     },
     "output_type": "display_data"
    }
   ],
   "source": [
    "fig, axs = plt.subplots(1,2,figsize=(8,3))\n",
    "\n",
    "ex_sbc = SBCs.iloc[13]\n",
    "ex_mbc = hffm.data[hffm.data['is_SbC']==False][hffm.data['responsive_to_contrast']][hffm.data['Wn_contrast_modind']>0.7].iloc[28]\n",
    "\n",
    "ax_crf = plt.subplot(121)\n",
    "ax_crf.errorbar(ex_sbc['Wn_contrast_tuning_bins'], ex_sbc['Wn_contrast_tuning'], yerr=ex_sbc['Wn_contrast_tuning_err'], color='tab:olive')\n",
    "ax_crf.errorbar(ex_mbc['Wn_contrast_tuning_bins'], ex_mbc['Wn_contrast_tuning'], yerr=ex_mbc['Wn_contrast_tuning_err'], color=hffm.cmap_movclusts[0])\n",
    "ax_crf.set_ylabel('sp/sec'); ax_crf.set_xlabel('contrast')\n",
    "ax_crf.vlines(0.05,0,15.5, color='tab:red', linestyle='dashed', alpha=0.5); ax_crf.vlines(0.35,0,15.5, color='tab:red', linestyle='dashed', alpha=0.5)\n",
    "ax_crf.set_title('white noise CRF')\n",
    "\n",
    "ax_psth = plt.subplot(122)\n",
    "ax_psth.plot(hffm.grat_psth_x, ex_sbc['Gt_grating_psth'], color='tab:olive')\n",
    "ax_psth.axvspan(0,1,color='tab:red',alpha=0.2)\n",
    "ax_psth.hlines(np.nanmean(ex_sbc['Gt_grating_psth'][(hffm.grat_psth_x<0)]), -0.5, 1.5, color='tab:olive', linestyle='dashed')\n",
    "ax_psth.hlines(np.nanmean(ex_mbc['Gt_grating_psth'][(hffm.grat_psth_x<0)]), -0.5, 1.5, color=hffm.cmap_movclusts[0], linestyle='dashed')\n",
    "ax_psth.plot(hffm.grat_psth_x, ex_mbc['Gt_grating_psth'], color=hffm.cmap_movclusts[0])\n",
    "ax_psth.set_ylabel('sp/sec'); ax_psth.set_xlabel('sec')\n",
    "ax_psth.set_title('gratings PSTH')\n",
    "\n",
    "fig.tight_layout()\n",
    "\n",
    "fig.savefig('/home/dmartins/Desktop/eyemov_paper/15A_SbC_MbC_example.pdf')"
   ]
  }
 ],
 "metadata": {
  "kernelspec": {
   "display_name": "Python [conda env:ephys0]",
   "language": "python",
   "name": "conda-env-ephys0-py"
  },
  "language_info": {
   "codemirror_mode": {
    "name": "ipython",
    "version": 3
   },
   "file_extension": ".py",
   "mimetype": "text/x-python",
   "name": "python",
   "nbconvert_exporter": "python",
   "pygments_lexer": "ipython3",
   "version": "3.8.12"
  }
 },
 "nbformat": 4,
 "nbformat_minor": 4
}
