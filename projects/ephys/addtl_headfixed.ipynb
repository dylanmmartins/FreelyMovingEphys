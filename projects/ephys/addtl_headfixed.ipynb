{
 "cells": [
  {
   "cell_type": "code",
   "execution_count": null,
   "metadata": {},
   "outputs": [],
   "source": [
    "import sys, os\n",
    "sys.path.insert(0, '/home/niell_lab/Documents/github/FreelyMovingEphys/')\n",
    "from projects.ephys.addtl_headfixed import AddtlHF"
   ]
  },
  {
   "cell_type": "code",
   "execution_count": null,
   "metadata": {},
   "outputs": [],
   "source": [
    "base_path = '/home/niell_lab/Goeppert/nlab-nas/Dylan/freely_moving_ephys/ephys_recordings/'\n",
    "recordings = [\n",
    "    '062921/G6HCK1ALTRN',\n",
    "    '070921/J553RT',\n",
    "    '100821/J559TT',\n",
    "    '101521/J559NC',\n",
    "    '101621/J559NC',\n",
    "    '102621/J558NC',\n",
    "    '102721/J558NC',\n",
    "    '102821/J570LT',\n",
    "    '110321/J558LT',\n",
    "    '110421/J558LT',\n",
    "    '110421/J569LT',\n",
    "    '110521/J569LT',\n",
    "    '122021/J581RT',\n",
    "    '020222/J577TT',\n",
    "    '020322/J577TT',\n",
    "    '020422/J577RT',\n",
    "    '020522/J577RT'\n",
    "]"
   ]
  },
  {
   "cell_type": "code",
   "execution_count": null,
   "metadata": {},
   "outputs": [],
   "source": [
    "base_path = '/home/niell_lab/Goeppert/nlab-nas/Dylan/freely_moving_ephys/ephys_recordings/'\n",
    "recordings = [\n",
    "    '062921/G6HCK1ALTRN'\n",
    "]"
   ]
  },
  {
   "cell_type": "code",
   "execution_count": null,
   "metadata": {},
   "outputs": [],
   "source": [
    "for i, r in enumerate(recordings):\n",
    "    print(r)\n",
    "    recpath = os.path.join(base_path, r)\n",
    "    ahf = AddtlHF(recpath)\n",
    "    ahf.calc_Sn_psth()\n",
    "    ahf.calc_Rc_psth()\n",
    "    ahf.save()"
   ]
  },
  {
   "cell_type": "code",
   "execution_count": null,
   "metadata": {},
   "outputs": [],
   "source": []
  }
 ],
 "metadata": {
  "kernelspec": {
   "display_name": "Python [conda env:ephys0]",
   "language": "python",
   "name": "conda-env-ephys0-py"
  },
  "language_info": {
   "codemirror_mode": {
    "name": "ipython",
    "version": 3
   },
   "file_extension": ".py",
   "mimetype": "text/x-python",
   "name": "python",
   "nbconvert_exporter": "python",
   "pygments_lexer": "ipython3",
   "version": "3.8.12"
  }
 },
 "nbformat": 4,
 "nbformat_minor": 4
}
