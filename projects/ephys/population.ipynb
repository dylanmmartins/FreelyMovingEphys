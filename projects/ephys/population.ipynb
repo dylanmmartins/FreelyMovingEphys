{
 "cells": [
  {
   "cell_type": "code",
   "execution_count": 1,
   "metadata": {},
   "outputs": [],
   "source": [
    "import sys\n",
    "sys.path.insert(0, '/home/niell_lab/Documents/github/FreelyMovingEphys-dmm/')\n",
    "from projects.ephys.population import Population\n",
    "import pandas as pd\n",
    "from src.utils.path import find\n",
    "from src.utils.auxiliary import flatten_series\n",
    "import numpy as np\n",
    "import matplotlib.pyplot as plt"
   ]
  },
  {
   "cell_type": "markdown",
   "metadata": {},
   "source": [
    "# gather data"
   ]
  },
  {
   "cell_type": "code",
   "execution_count": null,
   "metadata": {},
   "outputs": [],
   "source": [
    "savepath = '/home/niell_lab/data/freely_moving_ephys/batch_files/020722'\n",
    "metadata_path = '/home/niell_lab/data/freely_moving_ephys/batch_files/020722/local_V1_data.csv'\n",
    "pop = Population(savepath=savepath, metadata_path=metadata_path)\n",
    "pop.gather_data()"
   ]
  },
  {
   "cell_type": "code",
   "execution_count": null,
   "metadata": {},
   "outputs": [],
   "source": [
    "pop.save_custom_pickle(fname='population.pickle')"
   ]
  },
  {
   "cell_type": "code",
   "execution_count": null,
   "metadata": {},
   "outputs": [],
   "source": [
    "pop.data['index'] = pop.data.index.values\n",
    "pop.data = pop.data.reset_index()\n",
    "pop.save_custom_pickle(fname='population_newindex.pickle')"
   ]
  },
  {
   "cell_type": "markdown",
   "metadata": {},
   "source": [
    "# remove some data, edit laminar depth"
   ]
  },
  {
   "cell_type": "code",
   "execution_count": 2,
   "metadata": {},
   "outputs": [
    {
     "name": "stdout",
     "output_type": "stream",
     "text": [
      "reading from /home/niell_lab/data/freely_moving_ephys/batch_files/020722/population_newindex.pickle\n"
     ]
    }
   ],
   "source": [
    "savepath = '/home/niell_lab/data/freely_moving_ephys/batch_files/020722'\n",
    "pop = Population(savepath=savepath)\n",
    "pop.load_custom_pickle(fname='population_newindex.pickle')"
   ]
  },
  {
   "cell_type": "code",
   "execution_count": 3,
   "metadata": {},
   "outputs": [
    {
     "data": {
      "text/plain": [
       "array(['062921_G6HCK1ALTRN_control_Rig2', '070621_J553LT_control_Rig2',\n",
       "       '070921_J553RT_control_Rig2', '100821_J559TT_control_Rig2',\n",
       "       '100921_J559RT_control_Rig2', '101521_J559NC_control_Rig2',\n",
       "       '101621_J559NC_control_Rig2', '102621_J558NC_control_Rig2',\n",
       "       '102721_J558NC_control_Rig2', '102821_J570LT_control_Rig2',\n",
       "       '110321_J558LT_control_Rig2', '110421_J558LT_control_Rig2',\n",
       "       '110421_J569LT_control_Rig2', '110521_J569LT_control_Rig2',\n",
       "       '122021_J581RT_control_Rig2'], dtype=object)"
      ]
     },
     "execution_count": 3,
     "metadata": {},
     "output_type": "execute_result"
    }
   ],
   "source": [
    "pop.data['session'].unique()"
   ]
  },
  {
   "cell_type": "code",
   "execution_count": 4,
   "metadata": {},
   "outputs": [],
   "source": [
    "# 0706 is pretty deep, possible some channels in hippocampus\n",
    "# hard to tell where it is, because layer 5 of cortex isn't in the recording\n",
    "bad_units = pop.data[pop.data['session']=='070621_J553LT_control_Rig2'].index.values\n",
    "pop.data.drop(bad_units, axis=0, inplace=True)"
   ]
  },
  {
   "cell_type": "code",
   "execution_count": 5,
   "metadata": {},
   "outputs": [],
   "source": [
    "def grab_depth(sess):\n",
    "    depth = pop.data['Wn_layer5cent_from_lfp'][pop.data['session']==sess].iloc[0]\n",
    "    return depth"
   ]
  },
  {
   "cell_type": "code",
   "execution_count": 6,
   "metadata": {},
   "outputs": [],
   "source": [
    "# light/dark recordings don't have depth calculated from MUA\n",
    "# instead, use the depth from the previous day's recording\n",
    "# (the drive is not moved between days)\n",
    "session_depths = {\n",
    "    '100821_J559TT_control_Rig2': [16,16,16,16],\n",
    "    '100921_J559RT_control_Rig2': [30,30,30,29],\n",
    "    '101621_J559NC_control_Rig2': grab_depth('101521_J559NC_control_Rig2'),\n",
    "    '102721_J558NC_control_Rig2': grab_depth('102621_J558NC_control_Rig2'),\n",
    "    '110421_J558LT_control_Rig2': grab_depth('110321_J558LT_control_Rig2'),\n",
    "    '110521_J569LT_control_Rig2': grab_depth('110421_J569LT_control_Rig2')\n",
    "}"
   ]
  },
  {
   "cell_type": "code",
   "execution_count": 7,
   "metadata": {},
   "outputs": [],
   "source": [
    "for key, val in session_depths.items():\n",
    "    for ind in pop.data[pop.data['session']==key].index.values:\n",
    "        pop.data.at[ind, 'Wn_layer5cent_from_lfp'] = val"
   ]
  },
  {
   "cell_type": "code",
   "execution_count": 11,
   "metadata": {},
   "outputs": [
    {
     "name": "stdout",
     "output_type": "stream",
     "text": [
      "saving to /home/niell_lab/data/freely_moving_ephys/batch_files/020722/population_fix_depth.pickle\n"
     ]
    }
   ],
   "source": [
    "pop.save_custom_pickle(fname='population_fix_depth.pickle')"
   ]
  },
  {
   "cell_type": "markdown",
   "metadata": {},
   "source": [
    "# hffm data"
   ]
  },
  {
   "cell_type": "code",
   "execution_count": null,
   "metadata": {},
   "outputs": [],
   "source": [
    "savepath = '/home/niell_lab/data/freely_moving_ephys/batch_files/020722'\n",
    "pop = Population(savepath=savepath)"
   ]
  },
  {
   "cell_type": "code",
   "execution_count": null,
   "metadata": {},
   "outputs": [],
   "source": [
    "pop.load_custom_pickle(fname='population_newindex.pickle')"
   ]
  },
  {
   "cell_type": "code",
   "execution_count": null,
   "metadata": {},
   "outputs": [],
   "source": [
    "pop.set_experiment('hffm')"
   ]
  },
  {
   "cell_type": "code",
   "execution_count": null,
   "metadata": {},
   "outputs": [],
   "source": [
    "pop.save_custom_pickle(fname='hffm.pickle')"
   ]
  },
  {
   "cell_type": "markdown",
   "metadata": {},
   "source": [
    "# make hffm session summary"
   ]
  },
  {
   "cell_type": "code",
   "execution_count": null,
   "metadata": {},
   "outputs": [],
   "source": [
    "savepath = '/home/niell_lab/data/freely_moving_ephys/batch_files/020722'\n",
    "pop = Population(savepath=savepath)"
   ]
  },
  {
   "cell_type": "code",
   "execution_count": null,
   "metadata": {},
   "outputs": [],
   "source": [
    "pop.load_custom_pickle(fname='hffm.pickle')"
   ]
  },
  {
   "cell_type": "code",
   "execution_count": null,
   "metadata": {},
   "outputs": [],
   "source": [
    "# pop.summarize_sessions()"
   ]
  },
  {
   "cell_type": "code",
   "execution_count": null,
   "metadata": {},
   "outputs": [],
   "source": [
    "pop.data['session'].unique()"
   ]
  },
  {
   "cell_type": "code",
   "execution_count": null,
   "metadata": {},
   "outputs": [],
   "source": [
    "pop.data['Wn_layer5cent_from_lfp']"
   ]
  },
  {
   "cell_type": "code",
   "execution_count": null,
   "metadata": {},
   "outputs": [],
   "source": [
    "manual_depth_entry = [1,2,3,4]\n",
    "i = 0\n",
    "pop.data.at[i, 'Wn_layer5cent_from_lfp'] = manual_depth_entry"
   ]
  },
  {
   "cell_type": "code",
   "execution_count": null,
   "metadata": {},
   "outputs": [],
   "source": []
  }
 ],
 "metadata": {
  "kernelspec": {
   "display_name": "Python [conda env:ephys1-gpu]",
   "language": "python",
   "name": "conda-env-ephys1-gpu-py"
  },
  "language_info": {
   "codemirror_mode": {
    "name": "ipython",
    "version": 3
   },
   "file_extension": ".py",
   "mimetype": "text/x-python",
   "name": "python",
   "nbconvert_exporter": "python",
   "pygments_lexer": "ipython3",
   "version": "3.8.12"
  }
 },
 "nbformat": 4,
 "nbformat_minor": 4
}
