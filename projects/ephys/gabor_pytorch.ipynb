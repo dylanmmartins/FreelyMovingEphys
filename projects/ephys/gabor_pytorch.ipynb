{
 "cells": [
  {
   "cell_type": "code",
   "execution_count": 1,
   "metadata": {},
   "outputs": [],
   "source": [
    "from torch.nn.modules.loss import MSELoss\n",
    "import torch.nn as nn\n",
    "import numpy as np\n",
    "import pandas as pd\n",
    "import torch\n",
    "from torchvision import transforms"
   ]
  },
  {
   "cell_type": "code",
   "execution_count": 2,
   "metadata": {},
   "outputs": [],
   "source": [
    "import matplotlib.pyplot as plt"
   ]
  },
  {
   "cell_type": "code",
   "execution_count": 3,
   "metadata": {},
   "outputs": [],
   "source": [
    "df1 = pd.read_pickle('/home/niell_lab/data/freely_moving_ephys/batch_files/093021/pooled_ephys_population_update_100121.pickle')"
   ]
  },
  {
   "cell_type": "code",
   "execution_count": 4,
   "metadata": {},
   "outputs": [],
   "source": [
    "this_unit = 300\n",
    "rf = np.reshape(df1['hf1_wn_spike_triggered_average'].iloc[this_unit],tuple(df1['hf1_wn_sta_shape'].iloc[this_unit]))"
   ]
  },
  {
   "cell_type": "code",
   "execution_count": 5,
   "metadata": {},
   "outputs": [
    {
     "data": {
      "text/plain": [
       "<matplotlib.image.AxesImage at 0x7fe2b4403460>"
      ]
     },
     "execution_count": 5,
     "metadata": {},
     "output_type": "execute_result"
    },
    {
     "data": {
      "image/png": "[encoded data removed]",
      "text/plain": [
       "<Figure size 432x288 with 1 Axes>"
      ]
     },
     "metadata": {
      "needs_background": "light"
     },
     "output_type": "display_data"
    }
   ],
   "source": [
    "crange = np.max(np.abs(rf))*1.2\n",
    "if crange<0.25:\n",
    "    crange=0.25\n",
    "plt.imshow(rf, vmin=-crange, vmax=crange, cmap='seismic')"
   ]
  },
  {
   "cell_type": "code",
   "execution_count": 6,
   "metadata": {},
   "outputs": [],
   "source": [
    "device = torch.device('cuda' if torch.cuda.is_available() else 'cpu')"
   ]
  },
  {
   "cell_type": "code",
   "execution_count": 7,
   "metadata": {},
   "outputs": [],
   "source": [
    "from torch import optim"
   ]
  },
  {
   "cell_type": "code",
   "execution_count": 52,
   "metadata": {},
   "outputs": [],
   "source": [
    "class GaborModel(nn.Module):\n",
    "    def __init__(self, imgsize=(60,80), init_params=None):\n",
    "        super().__init__()\n",
    "        \n",
    "        self.use_device = torch.device('cuda' if torch.cuda.is_available() else 'cpu')\n",
    "        \n",
    "        if init_params is None:\n",
    "            self.sigma = nn.Parameter(torch.rand(1, requires_grad=True, dtype=torch.float))\n",
    "            self.theta = nn.Parameter(torch.randn(1, requires_grad=True, dtype=torch.float))\n",
    "            self.Lambda = nn.Parameter(torch.randn(1, requires_grad=True, dtype=torch.float))\n",
    "            self.psi = nn.Parameter(torch.randn(1, requires_grad=True, dtype=torch.float))\n",
    "            self.gamma = nn.Parameter(torch.randn(1, requires_grad=True, dtype=torch.float))\n",
    "            self.xoffset = nn.Parameter(torch.randn(1, requires_grad=True, dtype=torch.float))\n",
    "            self.yoffset = nn.Parameter(torch.randn(1, requires_grad=True, dtype=torch.float))\n",
    "        else:\n",
    "            init_params = dict([key, float(val)] for key, val in init_params.items())\n",
    "            \n",
    "            self.sigma = nn.Parameter(torch.tensor(init_params['sigma'], requires_grad=True, dtype=torch.float))\n",
    "            self.theta = nn.Parameter(torch.tensor(init_params['theta'], requires_grad=True, dtype=torch.float))\n",
    "            self.Lambda = nn.Parameter(torch.tensor(init_params['lambda'], requires_grad=True, dtype=torch.float))\n",
    "            self.psi = nn.Parameter(torch.tensor(init_params['psi'], requires_grad=True, dtype=torch.float))\n",
    "            self.gamma = nn.Parameter(torch.tensor(init_params['gamma'], requires_grad=True, dtype=torch.float))\n",
    "            self.xoffset = nn.Parameter(torch.tensor(init_params['xoffset'], requires_grad=True, dtype=torch.float))\n",
    "            self.yoffset = nn.Parameter(torch.tensor(init_params['yoffset'], requires_grad=True, dtype=torch.float))\n",
    "            \n",
    "        self.clipfreq = 5\n",
    "        self.clip_params()    \n",
    "        \n",
    "        self.img_height = torch.tensor(imgsize[0], dtype=torch.float).to(self.use_device)\n",
    "        self.img_width = torch.tensor(imgsize[1], dtype=torch.float).to(self.use_device)\n",
    "        \n",
    "        self.to(self.use_device)\n",
    "        \n",
    "        self.double()\n",
    "        \n",
    "    def clip_params(self):\n",
    "        with torch.no_grad():\n",
    "            self.sigma.clamp_(4, 20)\n",
    "            self.theta.clamp_(0, torch.tensor(np.pi)*2)\n",
    "            self.Lambda.clamp_(0.1, 1)\n",
    "            self.psi.clamp_(0, torch.tensor(np.pi)*2)\n",
    "            self.gamma.clamp_(0.5, 4)\n",
    "            self.xoffset.clamp_(-0.3, 0.3)\n",
    "            self.yoffset.clamp_(-0.3, 0.3)\n",
    "    \n",
    "    def generate_gabor(self):\n",
    "        \n",
    "        center = (self.yoffset*self.img_height, self.xoffset*self.img_width)\n",
    "        Lambda = self.Lambda*200\n",
    "\n",
    "        sigma_x = self.sigma\n",
    "        sigma_y = self.sigma / self.gamma\n",
    "\n",
    "        ymax, xmax = (self.img_height, self.img_width)\n",
    "        xmax, ymax = (xmax - 1)/2, (ymax - 1)/2\n",
    "        xmin = -xmax\n",
    "        ymin = -ymax\n",
    "        (y, x) = torch.meshgrid(torch.arange(ymin, ymax+1).to(self.use_device), torch.arange(xmin, xmax+1).to(self.use_device))\n",
    "        \n",
    "        x_theta = (x-center[0]) * torch.cos(self.theta) + (y-center[1]) * torch.sin(self.theta)\n",
    "        y_theta = -(x-center[0]) * torch.sin(self.theta) + (y-center[1]) * torch.cos(self.theta)\n",
    "\n",
    "        gb = torch.exp(-.5 * (x_theta ** 2 / sigma_x ** 2 + y_theta ** 2 / sigma_y ** 2)) * torch.cos(2 * torch.tensor(np.pi) / Lambda * x_theta + self.psi)\n",
    "    \n",
    "        return gb\n",
    "    \n",
    "    def fit(self, rf_input, epochs=50000, diagnostic_history=False):\n",
    "        \"\"\" Fit gabor filter to true recetive field.\n",
    "\n",
    "        Parameters:\n",
    "        rf_input (np.array): 2D receptive field of a single neuron\n",
    "        epochs (int): epochs over which to train model\n",
    "        lr (float): learning rate\n",
    "\n",
    "        Returns:\n",
    "        gabor (np.array): solution as 2D array\n",
    "        params (dict): dictionary of best gabor filter parameters\n",
    "        \"\"\"\n",
    "        \n",
    "        history = np.zeros([int(np.ceil(epochs/self.clipfreq)), 8])\n",
    "        \n",
    "        actual_rf = torch.tensor(rf_input, dtype=torch.double).to(self.use_device)\n",
    "        \n",
    "        optimizer = optim.Adam(self.parameters(), lr=1e-3)\n",
    "        loss_fn = nn.MSELoss()\n",
    "        scheduler = optim.lr_scheduler.ReduceLROnPlateau(optimizer)\n",
    "        \n",
    "        for t in range(epochs):\n",
    "            gabor = self.generate_gabor()\n",
    "            loss = loss_fn(gabor, actual_rf)\n",
    "            loss.backward()\n",
    "            optimizer.step()\n",
    "            scheduler.step(loss)\n",
    "            \n",
    "#             if t % self.clipfreq == 0:\n",
    "#                 self.clip_params()\n",
    "            \n",
    "            if t % self.clipfreq == 0 and diagnostic_history is True:\n",
    "                history[int(np.ceil(t/self.clipfreq)),:] = np.array([float(loss.item()),\n",
    "                                                                     float(self.sigma.cpu().detach()),\n",
    "                                                                     float(self.theta.cpu().detach()),\n",
    "                                                                     float(self.Lambda.cpu().detach()),\n",
    "                                                                     float(self.psi.cpu().detach()),\n",
    "                                                                     float(self.gamma.cpu().detach()),\n",
    "                                                                     float(self.xoffset.cpu().detach()),\n",
    "                                                                     float(self.yoffset.cpu().detach())])\n",
    "                \n",
    "                \n",
    "        params = {'sigma':float(self.sigma.cpu().detach()), 'theta':float(self.theta.cpu().detach()),\n",
    "                  'lambda':float(self.Lambda.cpu().detach()), 'psi':float(self.psi.cpu().detach()),\n",
    "                  'gamma':float(self.gamma.cpu().detach()), 'xoffset':float(self.xoffset.cpu().detach()),\n",
    "                  'yoffset':float(self.yoffset.cpu().detach())}\n",
    "        \n",
    "        return gabor.cpu().detach().numpy(), params, history\n",
    "    "
   ]
  },
  {
   "cell_type": "code",
   "execution_count": 382,
   "metadata": {},
   "outputs": [],
   "source": [
    "test_params = {'sigma':4, 'theta':0, 'lambda':0.1, 'psi':2.1, 'gamma':2.5, 'xoffset':0, 'yoffset':0}"
   ]
  },
  {
   "cell_type": "code",
   "execution_count": 388,
   "metadata": {},
   "outputs": [],
   "source": [
    "model = GaborModel(init_params=test_params).to(device)\n",
    "fit1, params1 = model.fit(rf)"
   ]
  },
  {
   "cell_type": "code",
   "execution_count": 391,
   "metadata": {},
   "outputs": [
    {
     "data": {
      "text/plain": [
       "{'sigma': 3.999583656874225,\n",
       " 'theta': -0.000400021346159324,\n",
       " 'lambda': 1.0004024399464804,\n",
       " 'psi': 1.4530414833370102,\n",
       " 'gamma': 3.6305408747424237,\n",
       " 'xoffset': -0.3004000014671002,\n",
       " 'yoffset': -0.30040000326703886}"
      ]
     },
     "execution_count": 391,
     "metadata": {},
     "output_type": "execute_result"
    }
   ],
   "source": [
    "params1"
   ]
  },
  {
   "cell_type": "code",
   "execution_count": 390,
   "metadata": {},
   "outputs": [
    {
     "data": {
      "text/plain": [
       "<matplotlib.image.AxesImage at 0x7f6c74264ee0>"
      ]
     },
     "execution_count": 390,
     "metadata": {},
     "output_type": "execute_result"
    },
    {
     "data": {
      "image/png": "[encoded data removed]",
      "text/plain": [
       "<Figure size 432x288 with 1 Axes>"
      ]
     },
     "metadata": {
      "needs_background": "light"
     },
     "output_type": "display_data"
    }
   ],
   "source": [
    "plt.imshow(rf)"
   ]
  },
  {
   "cell_type": "code",
   "execution_count": 389,
   "metadata": {},
   "outputs": [
    {
     "data": {
      "text/plain": [
       "<matplotlib.image.AxesImage at 0x7f6c7448d610>"
      ]
     },
     "execution_count": 389,
     "metadata": {},
     "output_type": "execute_result"
    },
    {
     "data": {
      "image/png": "[encoded data removed]",
      "text/plain": [
       "<Figure size 432x288 with 1 Axes>"
      ]
     },
     "metadata": {
      "needs_background": "light"
     },
     "output_type": "display_data"
    }
   ],
   "source": [
    "plt.imshow(fit1)"
   ]
  },
  {
   "cell_type": "code",
   "execution_count": 396,
   "metadata": {},
   "outputs": [
    {
     "data": {
      "text/plain": [
       "OrderedDict([('sigma', tensor(3.9996, device='cuda:0', dtype=torch.float64)),\n",
       "             ('theta', tensor(-0.0004, device='cuda:0', dtype=torch.float64)),\n",
       "             ('Lambda', tensor(1.0004, device='cuda:0', dtype=torch.float64)),\n",
       "             ('psi', tensor(1.4530, device='cuda:0', dtype=torch.float64)),\n",
       "             ('gamma', tensor(3.6305, device='cuda:0', dtype=torch.float64)),\n",
       "             ('xoffset',\n",
       "              tensor(-0.3004, device='cuda:0', dtype=torch.float64)),\n",
       "             ('yoffset',\n",
       "              tensor(-0.3004, device='cuda:0', dtype=torch.float64))])"
      ]
     },
     "execution_count": 396,
     "metadata": {},
     "output_type": "execute_result"
    }
   ],
   "source": [
    "model.state_dict()"
   ]
  },
  {
   "cell_type": "code",
   "execution_count": 398,
   "metadata": {},
   "outputs": [],
   "source": [
    "optimizer = optim.Adam(model.parameters(), lr=lr)"
   ]
  },
  {
   "cell_type": "code",
   "execution_count": 399,
   "metadata": {},
   "outputs": [
    {
     "data": {
      "text/plain": [
       "{'state': {},\n",
       " 'param_groups': [{'lr': 0.005,\n",
       "   'betas': (0.9, 0.999),\n",
       "   'eps': 1e-08,\n",
       "   'weight_decay': 0,\n",
       "   'amsgrad': False,\n",
       "   'params': [0, 1, 2, 3, 4, 5, 6]}]}"
      ]
     },
     "execution_count": 399,
     "metadata": {},
     "output_type": "execute_result"
    }
   ],
   "source": [
    "optimizer.state_dict()"
   ]
  },
  {
   "cell_type": "code",
   "execution_count": 272,
   "metadata": {},
   "outputs": [],
   "source": [
    "model = GaborModel((60,80)).to(device)"
   ]
  },
  {
   "cell_type": "code",
   "execution_count": 277,
   "metadata": {},
   "outputs": [
    {
     "data": {
      "text/plain": [
       "<matplotlib.image.AxesImage at 0x7f6c745d8730>"
      ]
     },
     "execution_count": 277,
     "metadata": {},
     "output_type": "execute_result"
    },
    {
     "data": {
      "image/png": "[encoded data removed]",
      "text/plain": [
       "<Figure size 432x288 with 1 Axes>"
      ]
     },
     "metadata": {
      "needs_background": "light"
     },
     "output_type": "display_data"
    }
   ],
   "source": [
    "plt.imshow(model.generate_gabor().cpu().detach().numpy(), cmap='plasma')"
   ]
  },
  {
   "cell_type": "code",
   "execution_count": 53,
   "metadata": {},
   "outputs": [
    {
     "data": {
      "text/plain": [
       "(-0.5, 79.5, 59.5, -0.5)"
      ]
     },
     "execution_count": 53,
     "metadata": {},
     "output_type": "execute_result"
    },
    {
     "data": {
      "image/png": "[encoded data removed]",
      "text/plain": [
       "<Figure size 720x288 with 2 Axes>"
      ]
     },
     "metadata": {
      "needs_background": "light"
     },
     "output_type": "display_data"
    }
   ],
   "source": [
    "model = GaborModel((60,80)).to(device)\n",
    "plt.subplots(1,2,figsize=(10,4))\n",
    "plt.subplot(1,2,1)\n",
    "rf_range = np.max(np.abs(rf))\n",
    "plt.imshow(rf, cmap='seismic', vmin=-rf_range, vmax=rf_range)\n",
    "plt.axis('off')\n",
    "plt.subplot(1,2,2)\n",
    "fit, params, history = model.fit(rf, diagnostic_history=True)\n",
    "plt.imshow(fit, cmap='plasma')\n",
    "plt.tight_layout()\n",
    "plt.axis('off')"
   ]
  },
  {
   "cell_type": "code",
   "execution_count": 54,
   "metadata": {},
   "outputs": [
    {
     "data": {
      "text/plain": [
       "<matplotlib.legend.Legend at 0x7fe26f0954c0>"
      ]
     },
     "execution_count": 54,
     "metadata": {},
     "output_type": "execute_result"
    },
    {
     "data": {
      "image/png": "[encoded data removed]",
      "text/plain": [
       "<Figure size 576x576 with 1 Axes>"
      ]
     },
     "metadata": {
      "needs_background": "light"
     },
     "output_type": "display_data"
    }
   ],
   "source": [
    "plt.figure(figsize=(8,8))\n",
    "plt.plot(history[:500,1:])\n",
    "plt.legend(['sigma','theta','lambda','psi','gamma','x','y'])"
   ]
  },
  {
   "cell_type": "code",
   "execution_count": 275,
   "metadata": {},
   "outputs": [
    {
     "data": {
      "text/plain": [
       "{'sigma': Parameter containing:\n",
       " tensor([3.9996], device='cuda:0', dtype=torch.float64, requires_grad=True),\n",
       " 'theta': Parameter containing:\n",
       " tensor([-0.0004], device='cuda:0', dtype=torch.float64, requires_grad=True),\n",
       " 'lambda': Parameter containing:\n",
       " tensor([1.0004], device='cuda:0', dtype=torch.float64, requires_grad=True),\n",
       " 'psi': Parameter containing:\n",
       " tensor([2.1637], device='cuda:0', dtype=torch.float64, requires_grad=True),\n",
       " 'gamma': Parameter containing:\n",
       " tensor([2.5715], device='cuda:0', dtype=torch.float64, requires_grad=True),\n",
       " 'xoffset': Parameter containing:\n",
       " tensor([0.1287], device='cuda:0', dtype=torch.float64, requires_grad=True),\n",
       " 'yoffset': Parameter containing:\n",
       " tensor([-0.3000], device='cuda:0', dtype=torch.float64, requires_grad=True)}"
      ]
     },
     "execution_count": 275,
     "metadata": {},
     "output_type": "execute_result"
    }
   ],
   "source": [
    "params"
   ]
  },
  {
   "cell_type": "code",
   "execution_count": null,
   "metadata": {},
   "outputs": [],
   "source": []
  }
 ],
 "metadata": {
  "kernelspec": {
   "display_name": "Python [conda env:ephys1-gpu]",
   "language": "python",
   "name": "conda-env-ephys1-gpu-py"
  },
  "language_info": {
   "codemirror_mode": {
    "name": "ipython",
    "version": 3
   },
   "file_extension": ".py",
   "mimetype": "text/x-python",
   "name": "python",
   "nbconvert_exporter": "python",
   "pygments_lexer": "ipython3",
   "version": "3.8.12"
  }
 },
 "nbformat": 4,
 "nbformat_minor": 4
}
