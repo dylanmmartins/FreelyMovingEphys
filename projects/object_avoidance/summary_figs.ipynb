{
 "cells": [
  {
   "cell_type": "code",
   "execution_count": 1,
   "metadata": {},
   "outputs": [],
   "source": [
    "import sys\n",
    "sys.path.insert(0, '/home/niell_lab/Documents/github/FreelyMovingEphys/')\n",
    "import pandas as pd\n",
    "import xarray as xr\n",
    "from utils.format_data import *\n",
    "from utils.paths import find\n",
    "import os\n",
    "import matplotlib.pyplot as plt\n",
    "from scipy.interpolate import interp1d\n",
    "from matplotlib.backends.backend_pdf import PdfPages"
   ]
  },
  {
   "cell_type": "code",
   "execution_count": 2,
   "metadata": {},
   "outputs": [],
   "source": [
    "from utils.time import open_time"
   ]
  },
  {
   "cell_type": "code",
   "execution_count": 3,
   "metadata": {},
   "outputs": [],
   "source": [
    "recording_directory = '/home/niell_lab/data/object_avoidance/recordings/'"
   ]
  },
  {
   "cell_type": "code",
   "execution_count": 4,
   "metadata": {},
   "outputs": [],
   "source": [
    "task_h5s = [i for i in find('*.h5', recording_directory) if 'DLC' not in i]"
   ]
  },
  {
   "cell_type": "code",
   "execution_count": 5,
   "metadata": {},
   "outputs": [
    {
     "data": {
      "text/plain": [
       "['/home/niell_lab/data/object_avoidance/recordings/090221/G6CK3LT/oa/G6CK3LT_090221_oa.h5',\n",
       " '/home/niell_lab/data/object_avoidance/recordings/090321/G6CK3LT/oa/G6CK3LT_090321_oa.h5',\n",
       " '/home/niell_lab/data/object_avoidance/recordings/090321/G6CK3RT/oa/G6CK3RT_090321_oa.h5',\n",
       " '/home/niell_lab/data/object_avoidance/recordings/090721/G6CK3LT/oa/G6CK3LT_090721_oa.h5',\n",
       " '/home/niell_lab/data/object_avoidance/recordings/090721/G6CK3RT/oa/G6CK3RT_090721_oa.h5',\n",
       " '/home/niell_lab/data/object_avoidance/recordings/091321/G6CK3LT/oa/G6CK3LT_091321_oa.h5',\n",
       " '/home/niell_lab/data/object_avoidance/recordings/091321/G6CK3RT/oa1/G6CK3RT_091321_oa.h5',\n",
       " '/home/niell_lab/data/object_avoidance/recordings/091321/G6CK3RT/oa1/G6CK3RT_091321_oa1.h5',\n",
       " '/home/niell_lab/data/object_avoidance/recordings/090621/G6CK3LT/oa/G6CK3LT_090621_oa.h5',\n",
       " '/home/niell_lab/data/object_avoidance/recordings/090621/G6CK3RT/oa/G6CK3RT_090621_oa.h5',\n",
       " '/home/niell_lab/data/object_avoidance/recordings/090821/G6CK3LT/oa/G6CK3LT_090821_oa.h5',\n",
       " '/home/niell_lab/data/object_avoidance/recordings/090821/G6CK3RT/oa/G6CK3RT_090821_oa.h5',\n",
       " '/home/niell_lab/data/object_avoidance/recordings/090121/G6CK3LT/oa/G6CK3LT_090121_oa.h5',\n",
       " '/home/niell_lab/data/object_avoidance/recordings/090121/G6CK3RT/oa/G6CK3RT_090121_oa.h5',\n",
       " '/home/niell_lab/data/object_avoidance/recordings/090921/G6CK3LT/oa1/G6CK3LT_090921_oa.h5',\n",
       " '/home/niell_lab/data/object_avoidance/recordings/090921/G6CK3LT/oa1/G6CK3LT_090921_oa1.h5',\n",
       " '/home/niell_lab/data/object_avoidance/recordings/090921/G6CK3RT/oa1/G6CK3RT_090921_oa1.h5',\n",
       " '/home/niell_lab/data/object_avoidance/recordings/090921/G6CK3RT/oa1/G6CK3RT_090921_oa.h5']"
      ]
     },
     "execution_count": 5,
     "metadata": {},
     "output_type": "execute_result"
    }
   ],
   "source": [
    "task_h5s"
   ]
  },
  {
   "cell_type": "code",
   "execution_count": 109,
   "metadata": {},
   "outputs": [
    {
     "name": "stderr",
     "output_type": "stream",
     "text": [
      "/tmp/ipykernel_326273/1894181097.py:9: RuntimeWarning: invalid value encountered in greater\n",
      "  time_active.append(np.sum(row['speed']>5)/60)\n",
      "/home/niell_lab/anaconda3/envs/DLC-GPU1/lib/python3.8/site-packages/numpy/core/fromnumeric.py:87: RuntimeWarning: invalid value encountered in reduce\n",
      "  return ufunc.reduce(obj, axis, dtype, out, **passkwargs)\n",
      "/tmp/ipykernel_326273/1894181097.py:9: RuntimeWarning: invalid value encountered in greater\n",
      "  time_active.append(np.sum(row['speed']>5)/60)\n",
      "/home/niell_lab/anaconda3/envs/DLC-GPU1/lib/python3.8/site-packages/numpy/core/fromnumeric.py:87: RuntimeWarning: invalid value encountered in reduce\n",
      "  return ufunc.reduce(obj, axis, dtype, out, **passkwargs)\n",
      "/tmp/ipykernel_326273/1894181097.py:9: RuntimeWarning: invalid value encountered in greater\n",
      "  time_active.append(np.sum(row['speed']>5)/60)\n",
      "/home/niell_lab/anaconda3/envs/DLC-GPU1/lib/python3.8/site-packages/numpy/core/fromnumeric.py:87: RuntimeWarning: invalid value encountered in reduce\n",
      "  return ufunc.reduce(obj, axis, dtype, out, **passkwargs)\n",
      "/tmp/ipykernel_326273/1894181097.py:9: RuntimeWarning: invalid value encountered in greater\n",
      "  time_active.append(np.sum(row['speed']>5)/60)\n",
      "/home/niell_lab/anaconda3/envs/DLC-GPU1/lib/python3.8/site-packages/numpy/core/fromnumeric.py:87: RuntimeWarning: invalid value encountered in reduce\n",
      "  return ufunc.reduce(obj, axis, dtype, out, **passkwargs)\n",
      "/tmp/ipykernel_326273/1894181097.py:9: RuntimeWarning: invalid value encountered in greater\n",
      "  time_active.append(np.sum(row['speed']>5)/60)\n",
      "/home/niell_lab/anaconda3/envs/DLC-GPU1/lib/python3.8/site-packages/numpy/core/fromnumeric.py:87: RuntimeWarning: invalid value encountered in reduce\n",
      "  return ufunc.reduce(obj, axis, dtype, out, **passkwargs)\n",
      "/tmp/ipykernel_326273/1894181097.py:9: RuntimeWarning: invalid value encountered in greater\n",
      "  time_active.append(np.sum(row['speed']>5)/60)\n",
      "/home/niell_lab/anaconda3/envs/DLC-GPU1/lib/python3.8/site-packages/numpy/core/fromnumeric.py:87: RuntimeWarning: invalid value encountered in reduce\n",
      "  return ufunc.reduce(obj, axis, dtype, out, **passkwargs)\n",
      "/tmp/ipykernel_326273/1894181097.py:9: RuntimeWarning: invalid value encountered in greater\n",
      "  time_active.append(np.sum(row['speed']>5)/60)\n",
      "/home/niell_lab/anaconda3/envs/DLC-GPU1/lib/python3.8/site-packages/numpy/core/fromnumeric.py:87: RuntimeWarning: invalid value encountered in reduce\n",
      "  return ufunc.reduce(obj, axis, dtype, out, **passkwargs)\n",
      "/tmp/ipykernel_326273/1894181097.py:9: RuntimeWarning: invalid value encountered in greater\n",
      "  time_active.append(np.sum(row['speed']>5)/60)\n",
      "/home/niell_lab/anaconda3/envs/DLC-GPU1/lib/python3.8/site-packages/numpy/core/fromnumeric.py:87: RuntimeWarning: invalid value encountered in reduce\n",
      "  return ufunc.reduce(obj, axis, dtype, out, **passkwargs)\n",
      "/tmp/ipykernel_326273/1894181097.py:9: RuntimeWarning: invalid value encountered in greater\n",
      "  time_active.append(np.sum(row['speed']>5)/60)\n",
      "/home/niell_lab/anaconda3/envs/DLC-GPU1/lib/python3.8/site-packages/numpy/core/fromnumeric.py:87: RuntimeWarning: invalid value encountered in reduce\n",
      "  return ufunc.reduce(obj, axis, dtype, out, **passkwargs)\n",
      "/tmp/ipykernel_326273/1894181097.py:9: RuntimeWarning: invalid value encountered in greater\n",
      "  time_active.append(np.sum(row['speed']>5)/60)\n",
      "/home/niell_lab/anaconda3/envs/DLC-GPU1/lib/python3.8/site-packages/numpy/core/fromnumeric.py:87: RuntimeWarning: invalid value encountered in reduce\n",
      "  return ufunc.reduce(obj, axis, dtype, out, **passkwargs)\n",
      "/tmp/ipykernel_326273/1894181097.py:9: RuntimeWarning: invalid value encountered in greater\n",
      "  time_active.append(np.sum(row['speed']>5)/60)\n",
      "/home/niell_lab/anaconda3/envs/DLC-GPU1/lib/python3.8/site-packages/numpy/core/fromnumeric.py:87: RuntimeWarning: invalid value encountered in reduce\n",
      "  return ufunc.reduce(obj, axis, dtype, out, **passkwargs)\n",
      "/tmp/ipykernel_326273/1894181097.py:9: RuntimeWarning: invalid value encountered in greater\n",
      "  time_active.append(np.sum(row['speed']>5)/60)\n",
      "/home/niell_lab/anaconda3/envs/DLC-GPU1/lib/python3.8/site-packages/numpy/core/fromnumeric.py:87: RuntimeWarning: invalid value encountered in reduce\n",
      "  return ufunc.reduce(obj, axis, dtype, out, **passkwargs)\n",
      "/tmp/ipykernel_326273/1894181097.py:9: RuntimeWarning: invalid value encountered in greater\n",
      "  time_active.append(np.sum(row['speed']>5)/60)\n",
      "/home/niell_lab/anaconda3/envs/DLC-GPU1/lib/python3.8/site-packages/numpy/core/fromnumeric.py:87: RuntimeWarning: invalid value encountered in reduce\n",
      "  return ufunc.reduce(obj, axis, dtype, out, **passkwargs)\n",
      "/tmp/ipykernel_326273/1894181097.py:9: RuntimeWarning: invalid value encountered in greater\n",
      "  time_active.append(np.sum(row['speed']>5)/60)\n",
      "/home/niell_lab/anaconda3/envs/DLC-GPU1/lib/python3.8/site-packages/numpy/core/fromnumeric.py:87: RuntimeWarning: invalid value encountered in reduce\n",
      "  return ufunc.reduce(obj, axis, dtype, out, **passkwargs)\n",
      "/tmp/ipykernel_326273/1894181097.py:9: RuntimeWarning: invalid value encountered in greater\n",
      "  time_active.append(np.sum(row['speed']>5)/60)\n",
      "/home/niell_lab/anaconda3/envs/DLC-GPU1/lib/python3.8/site-packages/numpy/core/fromnumeric.py:87: RuntimeWarning: invalid value encountered in reduce\n",
      "  return ufunc.reduce(obj, axis, dtype, out, **passkwargs)\n",
      "/tmp/ipykernel_326273/1894181097.py:9: RuntimeWarning: invalid value encountered in greater\n",
      "  time_active.append(np.sum(row['speed']>5)/60)\n",
      "/home/niell_lab/anaconda3/envs/DLC-GPU1/lib/python3.8/site-packages/numpy/core/fromnumeric.py:87: RuntimeWarning: invalid value encountered in reduce\n",
      "  return ufunc.reduce(obj, axis, dtype, out, **passkwargs)\n",
      "/tmp/ipykernel_326273/1894181097.py:9: RuntimeWarning: invalid value encountered in greater\n",
      "  time_active.append(np.sum(row['speed']>5)/60)\n",
      "/home/niell_lab/anaconda3/envs/DLC-GPU1/lib/python3.8/site-packages/numpy/core/fromnumeric.py:87: RuntimeWarning: invalid value encountered in reduce\n",
      "  return ufunc.reduce(obj, axis, dtype, out, **passkwargs)\n",
      "/tmp/ipykernel_326273/1894181097.py:9: RuntimeWarning: invalid value encountered in greater\n",
      "  time_active.append(np.sum(row['speed']>5)/60)\n"
     ]
    }
   ],
   "source": [
    "pdf = PdfPages('/home/niell_lab/data/object_avoidance/recordings/speed_summary.pdf')\n",
    "for task_h5 in task_h5s:\n",
    "    df = pd.read_hdf(task_h5)\n",
    "    plt.subplots(2,3,figsize=(15,8))\n",
    "    median_speed = []; max_speed = []; time_active = []\n",
    "    for ind, row in df.iterrows():\n",
    "        median_speed.append(np.median(row['speed']))\n",
    "        max_speed.append(np.max(row['speed']))\n",
    "        time_active.append(np.sum(row['speed']>5)/60)\n",
    "    plt.subplot(2,3,1)\n",
    "    plt.title(os.path.split(task_h5)[1])\n",
    "    slow = df['speed'].iloc[np.nanargmin(median_speed)]\n",
    "    slowT = np.linspace(0,1,len(slow))\n",
    "    med = df['speed'].iloc[np.argsort(median_speed)[len(median_speed)//2]]\n",
    "    medT = np.linspace(0,1,len(med))\n",
    "    fast = df['speed'].iloc[np.nanargmax(median_speed)]\n",
    "    fastT = np.linspace(0,1,len(fast))\n",
    "    fake_time = np.linspace(0,1,100)\n",
    "    plt.plot(interp1d(slowT, slow, bounds_error=False)(fake_time))\n",
    "    plt.plot(interp1d(medT, med, bounds_error=False)(fake_time))\n",
    "    plt.plot(interp1d(fastT, fast, bounds_error=False)(fake_time))\n",
    "    plt.subplot(2,3,2)\n",
    "    plt.hist(median_speed); plt.xlabel('median speed (cm/sec)')\n",
    "    plt.subplot(2,3,3)\n",
    "    plt.hist(max_speed); plt.xlabel('max speed (cm/sec)')\n",
    "    plt.subplot(2,3,4)\n",
    "    plt.hist(time_active); plt.xlabel('time active (sec)')\n",
    "    plt.subplot(2,3,5)\n",
    "    plt.plot([i for i in max_speed if ~np.isnan(i)]); plt.xlabel('trial'); plt.ylabel('max speed (cm/sec)')\n",
    "    plt.subplot(2,3,6)\n",
    "#     plt.plot([i for i in time_active if ~np.isnan(i)]); plt.xlabel('trial'); plt.ylabel('time active (sec)')\n",
    "    plt.tight_layout()\n",
    "    pdf.savefig()\n",
    "    plt.close()\n",
    "pdf.close()"
   ]
  },
  {
   "cell_type": "code",
   "execution_count": 171,
   "metadata": {},
   "outputs": [
    {
     "data": {
      "text/plain": [
       "[<matplotlib.lines.Line2D at 0x7f314ce21400>]"
      ]
     },
     "execution_count": 171,
     "metadata": {},
     "output_type": "execute_result"
    },
    {
     "data": {
      "image/png": "[encoded data removed]",
      "text/plain": [
       "<Figure size 432x288 with 1 Axes>"
      ]
     },
     "metadata": {
      "needs_background": "light"
     },
     "output_type": "display_data"
    },
    {
     "data": {
      "image/png": "[encoded data removed]",
      "text/plain": [
       "<Figure size 432x288 with 1 Axes>"
      ]
     },
     "metadata": {
      "needs_background": "light"
     },
     "output_type": "display_data"
    }
   ],
   "source": [
    "plt.figure()\n",
    "plt.plot(slow)\n",
    "plt.figure()\n",
    "plt.plot(interp1d(slowT, slow, bounds_error=False)(fake_time))"
   ]
  },
  {
   "cell_type": "code",
   "execution_count": 110,
   "metadata": {},
   "outputs": [
    {
     "data": {
      "text/plain": [
       "array(['first_poke', 'second_poke', 'trail_timestamps', 'nose_x',\n",
       "       'nose_y', 'nose_likelihood', 'leftear_x', 'leftear_y',\n",
       "       'leftear_likelihood', 'rightear_x', 'rightear_y',\n",
       "       'rightear_likelihood', 'spine_x', 'spine_y', 'spine_likelihood',\n",
       "       'midspine_x', 'midspine_y', 'midspine_likelihood', 'tailbase_x',\n",
       "       'tailbase_y', 'tailbase_likelihood', 'midtail_x', 'midtail_y',\n",
       "       'midtail_likelihood', 'tailend_x', 'tailend_y',\n",
       "       'tailend_likelihood', 'arenaTL_x', 'arenaTL_y',\n",
       "       'arenaTL_likelihood', 'arenaTR_x', 'arenaTR_y',\n",
       "       'arenaTR_likelihood', 'arenaBL_x', 'arenaBL_y',\n",
       "       'arenaBL_likelihood', 'arenaBR_x', 'arenaBR_y',\n",
       "       'arenaBR_likelihood', 'obstaclewTL_x', 'obstaclewTL_y',\n",
       "       'obstaclewTL_likelihood', 'obstaclewTR_x', 'obstaclewTR_y',\n",
       "       'obstaclewTR_likelihood', 'obstaclewBR_x', 'obstaclewBR_y',\n",
       "       'obstaclewBR_likelihood', 'obstaclewBL_x', 'obstaclewBL_y',\n",
       "       'obstaclewBL_likelihood', 'obstaclebTL_x', 'obstaclebTL_y',\n",
       "       'obstaclebTL_likelihood', 'obstaclebTR_x', 'obstaclebTR_y',\n",
       "       'obstaclebTR_likelihood', 'obstaclebBR_x', 'obstaclebBR_y',\n",
       "       'obstaclebBR_likelihood', 'obstaclebBL_x', 'obstaclebBL_y',\n",
       "       'obstaclebBL_likelihood', 'leftportT_x', 'leftportT_y',\n",
       "       'leftportT_likelihood', 'leftportB_x', 'leftportB_y',\n",
       "       'leftportB_likelihood', 'rightportT_x', 'rightportT_y',\n",
       "       'rightportT_likelihood', 'rightportB_x', 'rightportB_y',\n",
       "       'rightportB_likelihood', 'len', 'animal', 'date', 'task',\n",
       "       'nose_x_cm', 'nose_y_cm', 'leftear_x_cm', 'leftear_y_cm',\n",
       "       'rightear_x_cm', 'rightear_y_cm', 'spine_x_cm', 'spine_y_cm',\n",
       "       'midspine_x_cm', 'midspine_y_cm', 'tailbase_x_cm', 'tailbase_y_cm',\n",
       "       'midtail_x_cm', 'midtail_y_cm', 'tailend_x_cm', 'tailend_y_cm',\n",
       "       'arenaTL_x_cm', 'arenaTL_y_cm', 'arenaTR_x_cm', 'arenaTR_y_cm',\n",
       "       'arenaBL_x_cm', 'arenaBL_y_cm', 'arenaBR_x_cm', 'arenaBR_y_cm',\n",
       "       'obstaclewTL_x_cm', 'obstaclewTL_y_cm', 'obstaclewTR_x_cm',\n",
       "       'obstaclewTR_y_cm', 'obstaclewBR_x_cm', 'obstaclewBR_y_cm',\n",
       "       'obstaclewBL_x_cm', 'obstaclewBL_y_cm', 'obstaclebTL_x_cm',\n",
       "       'obstaclebTL_y_cm', 'obstaclebTR_x_cm', 'obstaclebTR_y_cm',\n",
       "       'obstaclebBR_x_cm', 'obstaclebBR_y_cm', 'obstaclebBL_x_cm',\n",
       "       'obstaclebBL_y_cm', 'leftportT_x_cm', 'leftportT_y_cm',\n",
       "       'leftportB_x_cm', 'leftportB_y_cm', 'rightportT_x_cm',\n",
       "       'rightportT_y_cm', 'rightportB_x_cm', 'rightportB_y_cm',\n",
       "       'bobstacle_x', 'bobstacle_x_std', 'bobstacle_y', 'bobstacle_y_std',\n",
       "       'wobstacle_x', 'wobstacle_x_std', 'wobstacle_y', 'wobstacle_y_std',\n",
       "       'speed', 'obstacle_cluster'], dtype=object)"
      ]
     },
     "execution_count": 110,
     "metadata": {},
     "output_type": "execute_result"
    }
   ],
   "source": [
    "df.columns.values"
   ]
  },
  {
   "cell_type": "code",
   "execution_count": 7,
   "metadata": {},
   "outputs": [],
   "source": [
    "import numpy as np"
   ]
  },
  {
   "cell_type": "code",
   "execution_count": 9,
   "metadata": {},
   "outputs": [],
   "source": [
    "df = pd.read_hdf(task_h5s[-2])"
   ]
  },
  {
   "cell_type": "code",
   "execution_count": null,
   "metadata": {},
   "outputs": [],
   "source": []
  },
  {
   "cell_type": "code",
   "execution_count": 110,
   "metadata": {},
   "outputs": [],
   "source": [
    "def get_head_angle(df):\n",
    "    for ind, row in df.iterrows():\n",
    "        leftear_x = row['leftear_x_cm']\n",
    "        leftear_y = row['leftear_y_cm']\n",
    "        rightear_x = row['rightear_x_cm']\n",
    "        rightear_y = row['rightear_y_cm']\n",
    "        nose_x = row['nose_x_cm']\n",
    "        nose_y = row['nose_y_cm']\n",
    "        angs = []\n",
    "        for step in range(len(leftear_x)):\n",
    "            ang = (np.nanmean([leftear_y[step],rightear_y[step]])-nose_y[step])/(np.nanmean([leftear_x[step],rightear_x[step]])-nose_x[step])\n",
    "            angs.append(ang)\n",
    "        df.at[ind, 'head_angle'] = np.array(angs).astype(object)\n",
    "    return df"
   ]
  },
  {
   "cell_type": "code",
   "execution_count": 111,
   "metadata": {},
   "outputs": [
    {
     "name": "stderr",
     "output_type": "stream",
     "text": [
      "/tmp/ipykernel_346547/1362453808.py:11: RuntimeWarning: Mean of empty slice\n",
      "  ang = (np.nanmean([leftear_y[step],rightear_y[step]])-nose_y[step])/(np.nanmean([leftear_x[step],rightear_x[step]])-nose_x[step])\n"
     ]
    }
   ],
   "source": [
    "df = get_head_angle(df)"
   ]
  },
  {
   "cell_type": "code",
   "execution_count": 154,
   "metadata": {},
   "outputs": [],
   "source": [
    "def get_median_trace(df):\n",
    "    fake_time = np.linspace(0,1,100)\n",
    "    all_nose_positions = np.zeros([len(df), 2, 100])\n",
    "    count = 0\n",
    "    for ind, row in df.iterrows():\n",
    "        xT = np.linspace(0,1,len(row['nose_x'])); yT = np.linspace(0,1,len(row['nose_y']))\n",
    "        all_nose_positions[count,0,:] = interp1d(xT, row['nose_x_cm'], bounds_error=False)(fake_time)\n",
    "        all_nose_positions[count,1,:] = interp1d(yT, row['nose_y_cm'], bounds_error=False)(fake_time)\n",
    "        count += 1\n",
    "    median_trace = np.nanmedian(all_nose_positions, axis=0)\n",
    "    for ind, row in df.iterrows():\n",
    "        df.at[ind,'median_x_cm'] = median_trace[0,:].astype(object); df.at[ind,'median_y_cm'] = median_trace[1,:].astype(object)\n",
    "    return df"
   ]
  },
  {
   "cell_type": "code",
   "execution_count": 147,
   "metadata": {},
   "outputs": [],
   "source": [
    "df = get_median_trace(df)"
   ]
  },
  {
   "cell_type": "code",
   "execution_count": 155,
   "metadata": {},
   "outputs": [
    {
     "data": {
      "text/plain": [
       "[<matplotlib.lines.Line2D at 0x7f6f2ee94970>]"
      ]
     },
     "execution_count": 155,
     "metadata": {},
     "output_type": "execute_result"
    },
    {
     "data": {
      "image/png": "[encoded data removed]",
      "text/plain": [
       "<Figure size 432x288 with 1 Axes>"
      ]
     },
     "metadata": {
      "needs_background": "light"
     },
     "output_type": "display_data"
    }
   ],
   "source": [
    "plt.plot(get_median_trace(df[])['median_x_cm'].iloc[0], get_median_trace(df)['median_y_cm'].iloc[0])"
   ]
  },
  {
   "cell_type": "code",
   "execution_count": 197,
   "metadata": {},
   "outputs": [
    {
     "data": {
      "text/plain": [
       "array([ True, False,  True, False,  True, False,  True, False,  True,\n",
       "       False,  True, False,  True, False,  True, False,  True, False,\n",
       "        True, False,  True, False,  True, False,  True, False,  True,\n",
       "       False,  True, False,  True, False,  True, False,  True, False,\n",
       "        True, False,  True, False,  True, False,  True, False,  True,\n",
       "       False,  True, False,  True, False,  True, False,  True, False,\n",
       "        True, False,  True, False,  True, False,  True, False,  True,\n",
       "       False,  True, False,  True, False,  True, False,  True, False,\n",
       "        True, False,  True, False,  True, False,  True, False,  True,\n",
       "       False,  True, False,  True, False,  True, False,  True, False,\n",
       "        True, False,  True, False,  True, False,  True, False,  True,\n",
       "       False,  True,  True, False,  True, False,  True, False,  True,\n",
       "       False,  True, False,  True, False,  True, False,  True, False,\n",
       "       False, False,  True, False,  True, False,  True, False, False,\n",
       "        True,  True, False,  True, False,  True, False,  True, False,\n",
       "        True, False,  True, False,  True, False,  True, False, False])"
      ]
     },
     "execution_count": 197,
     "metadata": {},
     "output_type": "execute_result"
    }
   ],
   "source": [
    "df.index%2==0"
   ]
  },
  {
   "cell_type": "code",
   "execution_count": 152,
   "metadata": {},
   "outputs": [
    {
     "data": {
      "text/plain": [
       "array([28.431732557969617, 16.13873114685484, 28.544619360338142,\n",
       "       16.185954201978973, 3.7029708099076286, 3.56769531895732,\n",
       "       3.7392258869624646, 3.7437985782590815, 3.6337923875907894,\n",
       "       3.536399099834738, 3.5193102943385095, 3.3835997222831558,\n",
       "       3.375408773224166, 3.460630949715513, 3.3636485415520743,\n",
       "       3.3804080027682506, 3.3764606976237177, 3.3687553174812948,\n",
       "       3.377106188314046, 3.3897892024714382, 3.3644293429146694,\n",
       "       3.3494711232813135, 3.364020337896335, 3.3531653825696344,\n",
       "       3.3918268061993926, 3.397960673295035, 3.3683458107705375,\n",
       "       3.370941989956437, 3.363073782991905, 3.3633085826306166,\n",
       "       3.3753687732764845, 3.3721118315795167, 3.374609519765971,\n",
       "       3.3783358559458323, 3.3939907118073878, 3.604037740337838,\n",
       "       3.453171811699883, 3.548747772292095, 3.516901366702356,\n",
       "       4.08946684617019, 4.991724398814895, 5.610375615105726,\n",
       "       7.550303187463188, 20.921601206897183, 20.92834731645358,\n",
       "       21.76235368273512, 21.11758375646465, 20.94223730072402,\n",
       "       19.38532400187987, 8.577535100823184, 8.888559311650045,\n",
       "       15.169653156618976, 15.425945246699696, 13.667911010318385,\n",
       "       16.406283438379916, 15.767626331961871, 16.43530275840831,\n",
       "       17.822778840430438, 18.827063853829866, 18.94311205962129,\n",
       "       14.804033441418827, 17.357859965390308, 17.877744522295973,\n",
       "       17.12211444033574, 16.842619238249785, 16.676674502841053,\n",
       "       16.326058750137356, 15.443797036434338, 15.414096914370791,\n",
       "       15.39364521797308, 14.87669763568999, 14.570250004005146,\n",
       "       14.554147211576556, 14.231349963459792, 14.27131759044677,\n",
       "       14.994063365967033, 15.121599040953777, 16.025798804250606,\n",
       "       16.4669115134894, 17.060182753765968, 16.88366090311138,\n",
       "       17.02283613703087, 17.770441619436866, 19.346208220453505,\n",
       "       19.968345867508603, 19.68603999159653, 18.5437588146574,\n",
       "       17.37322093351488, 16.44643429687587, 23.19607062747789,\n",
       "       27.203460779701086, 28.25449174631583, 28.40312472541606,\n",
       "       28.459852290389552, 28.519827129457873, 28.536380612885758,\n",
       "       16.159659097810444, 3.5801845433099424, 3.7228574597736337,\n",
       "       3.713450895888534], dtype=object)"
      ]
     },
     "execution_count": 152,
     "metadata": {},
     "output_type": "execute_result"
    }
   ],
   "source": [
    "get_median_trace(df)['median_x_cm'].iloc[0]"
   ]
  },
  {
   "cell_type": "code",
   "execution_count": 153,
   "metadata": {},
   "outputs": [
    {
     "data": {
      "text/plain": [
       "array([28.431732557969617, 16.13873114685484, 28.544619360338142,\n",
       "       16.185954201978973, 3.7029708099076286, 3.56769531895732,\n",
       "       3.7392258869624646, 3.7437985782590815, 3.6337923875907894,\n",
       "       3.536399099834738, 3.5193102943385095, 3.3835997222831558,\n",
       "       3.375408773224166, 3.460630949715513, 3.3636485415520743,\n",
       "       3.3804080027682506, 3.3764606976237177, 3.3687553174812948,\n",
       "       3.377106188314046, 3.3897892024714382, 3.3644293429146694,\n",
       "       3.3494711232813135, 3.364020337896335, 3.3531653825696344,\n",
       "       3.3918268061993926, 3.397960673295035, 3.3683458107705375,\n",
       "       3.370941989956437, 3.363073782991905, 3.3633085826306166,\n",
       "       3.3753687732764845, 3.3721118315795167, 3.374609519765971,\n",
       "       3.3783358559458323, 3.3939907118073878, 3.604037740337838,\n",
       "       3.453171811699883, 3.548747772292095, 3.516901366702356,\n",
       "       4.08946684617019, 4.991724398814895, 5.610375615105726,\n",
       "       7.550303187463188, 20.921601206897183, 20.92834731645358,\n",
       "       21.76235368273512, 21.11758375646465, 20.94223730072402,\n",
       "       19.38532400187987, 8.577535100823184, 8.888559311650045,\n",
       "       15.169653156618976, 15.425945246699696, 13.667911010318385,\n",
       "       16.406283438379916, 15.767626331961871, 16.43530275840831,\n",
       "       17.822778840430438, 18.827063853829866, 18.94311205962129,\n",
       "       14.804033441418827, 17.357859965390308, 17.877744522295973,\n",
       "       17.12211444033574, 16.842619238249785, 16.676674502841053,\n",
       "       16.326058750137356, 15.443797036434338, 15.414096914370791,\n",
       "       15.39364521797308, 14.87669763568999, 14.570250004005146,\n",
       "       14.554147211576556, 14.231349963459792, 14.27131759044677,\n",
       "       14.994063365967033, 15.121599040953777, 16.025798804250606,\n",
       "       16.4669115134894, 17.060182753765968, 16.88366090311138,\n",
       "       17.02283613703087, 17.770441619436866, 19.346208220453505,\n",
       "       19.968345867508603, 19.68603999159653, 18.5437588146574,\n",
       "       17.37322093351488, 16.44643429687587, 23.19607062747789,\n",
       "       27.203460779701086, 28.25449174631583, 28.40312472541606,\n",
       "       28.459852290389552, 28.519827129457873, 28.536380612885758,\n",
       "       16.159659097810444, 3.5801845433099424, 3.7228574597736337,\n",
       "       3.713450895888534], dtype=object)"
      ]
     },
     "execution_count": 153,
     "metadata": {},
     "output_type": "execute_result"
    }
   ],
   "source": [
    "get_median_trace(df)['median_y_cm'].iloc[0]"
   ]
  },
  {
   "cell_type": "code",
   "execution_count": 10,
   "metadata": {},
   "outputs": [],
   "source": [
    "fake_time = np.linspace(0,1,100)\n",
    "all_nose_positions = np.zeros([len(df), 2, 100])\n",
    "count = 0\n",
    "for ind, row in df.iterrows():\n",
    "    xT = np.linspace(0,1,len(row['nose_x'])); yT = np.linspace(0,1,len(row['nose_y']))\n",
    "    all_nose_positions[count,0,:] = interp1d(xT, row['nose_x_cm'], bounds_error=False)(fake_time)\n",
    "    all_nose_positions[count,1,:] = interp1d(yT, row['nose_y_cm'], bounds_error=False)(fake_time)\n",
    "    count += 1\n",
    "median_trace = np.nanmedian(all_nose_positions, axis=0)\n",
    "df1['median_x_cm'] = median_trace[0,:]; df1['median_y_cm'] = median_trace[0,:]"
   ]
  },
  {
   "cell_type": "code",
   "execution_count": 12,
   "metadata": {},
   "outputs": [
    {
     "data": {
      "text/plain": [
       "(144, 2, 100)"
      ]
     },
     "execution_count": 12,
     "metadata": {},
     "output_type": "execute_result"
    }
   ],
   "source": [
    "np.shape(all_nose_positions)"
   ]
  },
  {
   "cell_type": "code",
   "execution_count": 16,
   "metadata": {},
   "outputs": [
    {
     "data": {
      "text/plain": [
       "array([[28.43173256, 16.13873115, 28.54461936, 16.1859542 ,  3.70297081,\n",
       "         3.56769532,  3.73922589,  3.74379858,  3.63379239,  3.5363991 ,\n",
       "         3.51931029,  3.38359972,  3.37540877,  3.46063095,  3.36364854,\n",
       "         3.380408  ,  3.3764607 ,  3.36875532,  3.37710619,  3.3897892 ,\n",
       "         3.36442934,  3.34947112,  3.36402034,  3.35316538,  3.39182681,\n",
       "         3.39796067,  3.36834581,  3.37094199,  3.36307378,  3.36330858,\n",
       "         3.37536877,  3.37211183,  3.37460952,  3.37833586,  3.39399071,\n",
       "         3.60403774,  3.45317181,  3.54874777,  3.51690137,  4.08946685,\n",
       "         4.9917244 ,  5.61037562,  7.55030319, 20.92160121, 20.92834732,\n",
       "        21.76235368, 21.11758376, 20.9422373 , 19.385324  ,  8.5775351 ,\n",
       "         8.88855931, 15.16965316, 15.42594525, 13.66791101, 16.40628344,\n",
       "        15.76762633, 16.43530276, 17.82277884, 18.82706385, 18.94311206,\n",
       "        14.80403344, 17.35785997, 17.87774452, 17.12211444, 16.84261924,\n",
       "        16.6766745 , 16.32605875, 15.44379704, 15.41409691, 15.39364522,\n",
       "        14.87669764, 14.57025   , 14.55414721, 14.23134996, 14.27131759,\n",
       "        14.99406337, 15.12159904, 16.0257988 , 16.46691151, 17.06018275,\n",
       "        16.8836609 , 17.02283614, 17.77044162, 19.34620822, 19.96834587,\n",
       "        19.68603999, 18.54375881, 17.37322093, 16.4464343 , 23.19607063,\n",
       "        27.20346078, 28.25449175, 28.40312473, 28.45985229, 28.51982713,\n",
       "        28.53638061, 16.1596591 ,  3.58018454,  3.72285746,  3.7134509 ],\n",
       "       [10.43652746, 10.53334578,  9.74674226, 10.45263269, 10.47191848,\n",
       "        10.492407  , 10.51147045, 10.53900022, 10.53056802, 10.57070307,\n",
       "        10.56843923, 10.59715339, 10.61401368, 10.61988216, 10.62741365,\n",
       "        10.60997757, 10.62912854, 10.59913351, 10.64102873, 10.60073337,\n",
       "        10.63221949, 10.66312142, 10.65591362, 10.65031292, 10.66209889,\n",
       "        10.65379288, 10.64558523, 10.68069263, 10.65114524, 10.64945387,\n",
       "        10.70119358, 10.70070773, 10.68952485, 10.67241722, 10.66619609,\n",
       "        10.67910962, 10.67730194, 10.67596778, 10.68412062, 10.67188085,\n",
       "        10.61047242, 10.61284174, 10.38270372, 10.28930816, 10.04135999,\n",
       "         9.88475022, 10.08369043,  9.89458848, 10.35400034, 10.64766479,\n",
       "        10.42955197,  9.92828663,  9.91219589,  9.87286303,  9.89461578,\n",
       "         9.85789309,  9.77186827,  9.76815887,  9.56895813,  9.67726316,\n",
       "         9.8369214 ,  9.6293547 ,  9.71911006,  9.73049391,  9.78428818,\n",
       "         9.89653442,  9.900884  , 10.07328397,  9.87625324, 10.02928631,\n",
       "        10.01869456,  9.87334334,  9.91017517,  9.9178016 ,  9.76335516,\n",
       "         9.83085972,  9.85577723,  9.89587057, 10.05457579, 10.20907123,\n",
       "        10.40954386, 10.41155782, 10.48726366, 10.44494404, 10.58526837,\n",
       "        10.55693316, 10.42105171, 10.49261925, 10.34220298, 10.24886148,\n",
       "        10.25119025, 10.14521906, 10.07958853, 10.10375991, 10.15257702,\n",
       "        10.26231232, 10.44016591, 10.5316311 , 10.5344868 , 10.56818444]])"
      ]
     },
     "execution_count": 16,
     "metadata": {},
     "output_type": "execute_result"
    }
   ],
   "source": [
    "median_trace = np.nanmedian(all_nose_positions, axis=0)\n",
    "median_trace"
   ]
  },
  {
   "cell_type": "code",
   "execution_count": 17,
   "metadata": {},
   "outputs": [
    {
     "data": {
      "text/plain": [
       "(2, 100)"
      ]
     },
     "execution_count": 17,
     "metadata": {},
     "output_type": "execute_result"
    }
   ],
   "source": [
    "np.shape(median_trace)"
   ]
  },
  {
   "cell_type": "code",
   "execution_count": 121,
   "metadata": {},
   "outputs": [
    {
     "data": {
      "text/plain": [
       "2      [-0.36636118848783916, -0.3567701580747283, -0...\n",
       "3      [-0.10513130410013764, -0.13449284000146972, -...\n",
       "4      [-0.3683619776346441, -0.48494011250763325, -0...\n",
       "5      [-0.21178297627246576, -0.24347501839519511, -...\n",
       "6      [-0.4956140245306518, -0.4752761936391149, -0....\n",
       "                             ...                        \n",
       "148    [-0.715732414650683, -0.5862546900747043, -0.5...\n",
       "151    [-0.18470481082327772, -0.1487458282180388, -0...\n",
       "152    [-0.7725173070014467, -0.7803152955791409, -0....\n",
       "153    [-0.15183659664220234, -0.17609232950780498, -...\n",
       "159    [-0.1502415990987545, -0.15493348637390528, -0...\n",
       "Name: head_angle, Length: 144, dtype: object"
      ]
     },
     "execution_count": 121,
     "metadata": {},
     "output_type": "execute_result"
    }
   ],
   "source": [
    "df['head_angle']"
   ]
  },
  {
   "cell_type": "code",
   "execution_count": 18,
   "metadata": {},
   "outputs": [],
   "source": [
    "def format_frames(vid_path):\n",
    "    # open the .avi file\n",
    "    vidread = cv2.VideoCapture(vid_path)\n",
    "    # empty array that is the target shape\n",
    "    # should be number of frames x downsampled height x downsampled width\n",
    "    all_frames = np.empty([int(vidread.get(cv2.CAP_PROP_FRAME_COUNT)),\n",
    "                        int(vidread.get(cv2.CAP_PROP_FRAME_HEIGHT)),\n",
    "                        int(vidread.get(cv2.CAP_PROP_FRAME_WIDTH))], dtype=np.uint8)\n",
    "    # iterate through each frame\n",
    "    for frame_num in tqdm(range(0,int(vidread.get(cv2.CAP_PROP_FRAME_COUNT)))):\n",
    "        # read the frame in and make sure it is read in correctly\n",
    "        ret, frame = vidread.read()\n",
    "        if not ret:\n",
    "            break\n",
    "        # convert to grayyscale\n",
    "        frame = cv2.cvtColor(frame, cv2.COLOR_BGR2GRAY)\n",
    "        # add the downsampled frame to all_frames as int8\n",
    "        all_frames[frame_num,:,:] = frame.astype(np.int8)\n",
    "    return all_frames"
   ]
  },
  {
   "cell_type": "code",
   "execution_count": 19,
   "metadata": {},
   "outputs": [
    {
     "name": "stderr",
     "output_type": "stream",
     "text": [
      "100%|███████████████████████████████████| 48452/48452 [00:27<00:00, 1730.78it/s]\n"
     ]
    }
   ],
   "source": [
    "vid = format_frames('/home/niell_lab/data/object_avoidance/recordings/090921/G6CK3RT/oa1/090921_G6CK3RT_control_Rig2_oa1_top1.avi')"
   ]
  },
  {
   "cell_type": "code",
   "execution_count": 20,
   "metadata": {},
   "outputs": [],
   "source": [
    "timestamps = open_time('/home/niell_lab/data/object_avoidance/recordings/090921/G6CK3RT/oa1/090921_G6CK3RT_control_Rig2_oa1_top1_BonsaiTS.csv')"
   ]
  },
  {
   "cell_type": "code",
   "execution_count": 206,
   "metadata": {},
   "outputs": [
    {
     "data": {
      "image/png": "[encoded data removed]",
      "text/plain": [
       "<Figure size 432x288 with 1 Axes>"
      ]
     },
     "metadata": {
      "needs_background": "light"
     },
     "output_type": "display_data"
    }
   ],
   "source": [
    "def get_row_for_timestamp(df, seek_timestamp):\n",
    "    for ind, row in df.iterrows():\n",
    "        if seek_timestamp in row['trail_timestamps']:\n",
    "            return row\n",
    "\n",
    "def plot_frame(vid_arr, timestamps, df, seek_frame):\n",
    "    seek_timestamp = timestamps[seek_frame]\n",
    "    row = get_row_for_timestamp(df, seek_timestamp)\n",
    "    row_time_index = np.where(row['trail_timestamps']==seek_timestamp)\n",
    "    current_ang = row['head_angle'][row_time_index][0]\n",
    "    x1 = row['nose_x'][row_time_index]\n",
    "    y1 = row['nose_y'][row_time_index]\n",
    "    x2 = x1+60 * np.cos(current_ang)\n",
    "    y2 = y1+60 * np.sin(current_ang)\n",
    "    frame = vid_arr[seek_frame,:,:]\n",
    "    plt.figure()\n",
    "    plt.imshow(frame, cmap='gray')\n",
    "    plt.plot((x1,x2), (y1,y2), '-')\n",
    "    row_time_index = row_time_index[0][0]\n",
    "    plt.plot(row['nose_x'][:row_time_index], row['nose_y'][:row_time_index],'r.')\n",
    "    plt.plot(row['leftear_x'][:row_time_index], row['leftear_y'][:row_time_index], 'g.')\n",
    "    plt.plot(row['rightear_x'][:row_time_index], row['rightear_y'][:row_time_index], 'g.')\n",
    "    plt.show()\n",
    "    \n",
    "plot_frame(vid, timestamps, df, 8298)"
   ]
  },
  {
   "cell_type": "code",
   "execution_count": 180,
   "metadata": {},
   "outputs": [],
   "source": [
    "def distance_from_nose(row, target):\n",
    "    x_dist = np.abs(row[target+'_x_cm'] - row['nose_x_cm'])\n",
    "    y_dist = np.abs(row[target+'_y_cm'] - row['nose_y_cm'])\n",
    "    length = len(x_dist)\n",
    "    dist = np.zeros([length])\n",
    "    for i in range(length):\n",
    "        dist[i] = np.sqrt(x_dist[i]**2 + y_dist[i]**2)\n",
    "    return dist"
   ]
  },
  {
   "cell_type": "code",
   "execution_count": 200,
   "metadata": {},
   "outputs": [
    {
     "data": {
      "text/plain": [
       "True"
      ]
     },
     "execution_count": 200,
     "metadata": {},
     "output_type": "execute_result"
    }
   ],
   "source": [
    "dist = distance_from_nose(df.iloc[0], 'leftportT')\n",
    "if np.nanmean(dist[:10]) > np.nanmean(dist[:-10]):\n",
    "    correct_direction = True\n",
    "correct_direction"
   ]
  },
  {
   "cell_type": "code",
   "execution_count": 187,
   "metadata": {},
   "outputs": [],
   "source": [
    "def angle_from_nose(row, target):\n",
    "    x_dist = np.abs(row[target+'_x_cm'] - row['nose_x_cm'])\n",
    "    y_dist = np.abs(row[target+'_y_cm'] - row['nose_y_cm'])\n",
    "    length = len(x_dist)\n",
    "    ang = np.zeros([length])\n",
    "    for i in range(length):\n",
    "        ang[i] = (y_dist[i]/x_dist[i])\n",
    "    return ang%(2*np.pi)"
   ]
  },
  {
   "cell_type": "code",
   "execution_count": 188,
   "metadata": {},
   "outputs": [
    {
     "name": "stderr",
     "output_type": "stream",
     "text": [
      "/tmp/ipykernel_346547/1662500509.py:8: RuntimeWarning: invalid value encountered in remainder\n",
      "  return ang%(2*np.pi)\n"
     ]
    },
    {
     "data": {
      "text/plain": [
       "[<matplotlib.lines.Line2D at 0x7f6f39630610>]"
      ]
     },
     "execution_count": 188,
     "metadata": {},
     "output_type": "execute_result"
    },
    {
     "data": {
      "image/png": "[encoded data removed]",
      "text/plain": [
       "<Figure size 432x288 with 1 Axes>"
      ]
     },
     "metadata": {
      "needs_background": "light"
     },
     "output_type": "display_data"
    }
   ],
   "source": [
    "plt.plot(np.rad2deg(angle_from_nose(df.iloc[0], 'leftportT')))"
   ]
  },
  {
   "cell_type": "code",
   "execution_count": 79,
   "metadata": {},
   "outputs": [],
   "source": [
    "a = -1.5736617858716084\n",
    "x1 = 512\n",
    "y1 = 173\n",
    "x2 = x1*np.sin(a)\n",
    "y2 = y1*np.cos(a)\n",
    "# plt.plot([x, y], [x*np.arccos(a), y*np.sin(a)], '-')"
   ]
  },
  {
   "cell_type": "code",
   "execution_count": null,
   "metadata": {},
   "outputs": [],
   "source": []
  },
  {
   "cell_type": "code",
   "execution_count": null,
   "metadata": {},
   "outputs": [],
   "source": []
  },
  {
   "cell_type": "code",
   "execution_count": 22,
   "metadata": {},
   "outputs": [
    {
     "name": "stdout",
     "output_type": "stream",
     "text": [
      "first_poke                                               55146.933964\n",
      "second_poke                                              55151.935667\n",
      "trail_timestamps    [55146.941337, 55146.95767, 55146.975475, 5514...\n",
      "nose_x              [57.40630340576172, 58.116050720214844, 58.682...\n",
      "nose_y              [188.2172393798828, 184.6667938232422, 184.449...\n",
      "                                          ...                        \n",
      "wobstacle_y                                                 12.551835\n",
      "wobstacle_y_std                                              0.037879\n",
      "speed               [2.4439901903433685, 1.7883466554213494, nan, ...\n",
      "obstacle_cluster                                                    2\n",
      "head_angle          [1.0733610796107746, 1.0909471724972652, 1.093...\n",
      "Name: 8, Length: 138, dtype: object\n"
     ]
    }
   ],
   "source": [
    "row = get_row_for_timestamp(df, 55150.642521)\n",
    "print(row)"
   ]
  },
  {
   "cell_type": "code",
   "execution_count": 155,
   "metadata": {},
   "outputs": [
    {
     "name": "stdout",
     "output_type": "stream",
     "text": [
      "44348.024384 44352.024089\n",
      "44364.295718 44368.530086\n",
      "44368.546508 44373.282252\n",
      "44373.298739 44379.36768\n",
      "44379.384371 44385.202995\n",
      "44385.219737 44388.820928\n",
      "44388.837619 44396.006656\n",
      "44404.492748 44408.078873\n",
      "44408.094246 44411.862246\n",
      "44411.877913 44415.379072\n",
      "44415.396377 44418.58016\n",
      "44418.597427 44421.932185\n",
      "44421.948019 44425.265932\n",
      "44425.282854 44430.118374\n",
      "44430.135014 44434.002982\n",
      "44434.018816 44437.370636\n",
      "44437.389785 44440.72206\n",
      "44440.738777 44444.205504\n",
      "44444.222246 44448.759756\n",
      "44448.773862 44452.242572\n",
      "44452.259328 44456.310617\n",
      "44456.32736 44459.628492\n",
      "44459.645184 44463.446451\n",
      "44463.462515 44467.864627\n",
      "44467.881292 44471.401817\n",
      "44471.415833 44476.267443\n",
      "44476.284147 44482.020889\n",
      "44482.036185 44486.771046\n",
      "44486.78784 44490.922483\n",
      "44490.940249 44494.373696\n",
      "44494.389862 44497.858355\n",
      "44497.874918 44501.642739\n",
      "44501.65952 44505.027302\n",
      "44505.044044 44508.361804\n",
      "44508.378547 44511.546214\n",
      "44511.562048 44515.764313\n",
      "44515.780953 44519.815667\n",
      "44519.832192 44523.316147\n",
      "44523.33326 44527.018086\n",
      "44527.036505 44530.45262\n",
      "44530.469312 44534.188492\n",
      "44534.203916 44537.838528\n",
      "44537.855142 44544.374131\n",
      "44544.390796 44549.142361\n",
      "44621.099686 44625.417433\n",
      "44625.434227 44630.302796\n",
      "44644.807692 44648.258585\n",
      "44648.275635 44652.826828\n",
      "44652.843852 44658.528832\n",
      "44681.370048 44684.822144\n",
      "44684.838809 44691.457651\n",
      "44691.474444 44697.659097\n",
      "44709.029388 44714.632294\n",
      "44714.648972 44719.20119\n",
      "44719.217049 44723.835404\n",
      "44723.852134 44728.170214\n",
      "44728.186982 44733.555443\n",
      "44733.573132 44739.540723\n",
      "44739.557388 44743.741516\n",
      "44743.758092 44747.393472\n",
      "44747.410483 44751.828377\n",
      "44751.844492 44756.38048\n",
      "44756.396672 44763.782361\n",
      "44763.798848 44767.083596\n",
      "44767.100275 44770.768115\n",
      "44770.78496 44773.718976\n",
      "44773.735884 44780.638425\n",
      "44780.654912 44784.288588\n",
      "44784.305267 44788.257408\n",
      "44788.27351 44793.109171\n",
      "44801.211545 44805.379353\n",
      "44805.395955 44808.765363\n",
      "44808.780326 44812.316569\n",
      "44812.331392 44816.200332\n",
      "44816.217126 44820.284134\n",
      "44820.300928 44825.122483\n",
      "44825.135782 44828.536972\n",
      "44828.553689 44833.505305\n",
      "44833.521996 44838.041932\n",
      "44838.057856 44841.859072\n",
      "44841.877222 44845.36032\n",
      "44845.37623 44850.061875\n",
      "44850.07863 44853.4464\n",
      "44853.46432 44857.131059\n",
      "44857.149068 44860.148646\n",
      "44860.165401 44863.465625\n",
      "44863.482304 44866.717683\n",
      "44866.733452 44870.286284\n",
      "44870.301337 44874.170201\n",
      "44874.186009 44881.639398\n",
      "44881.655398 44884.673792\n",
      "44884.689574 44889.175859\n"
     ]
    }
   ],
   "source": [
    "for ind, row in df.iterrows():\n",
    "    print(np.min(row['trail_timestamps']),np.max(row['trail_timestamps']))"
   ]
  },
  {
   "cell_type": "code",
   "execution_count": null,
   "metadata": {},
   "outputs": [],
   "source": [
    "def plot_frame(arr, df):\n",
    "    # read topdown video in\n",
    "    vidread = cv2.VideoCapture(vid_path)\n",
    "    width = int(vidread.get(cv2.CAP_PROP_FRAME_WIDTH))\n",
    "    height = int(vidread.get(cv2.CAP_PROP_FRAME_HEIGHT))\n",
    "    num_frames = int(vidread.get(cv2.CAP_PROP_FRAME_COUNT))\n",
    "    # setup the file to save out of this\n",
    "    fourcc = cv2.VideoWriter_fourcc(*'XVID')\n",
    "    out_vid = cv2.VideoWriter(savepath, fourcc, 60.0, (width, height))\n",
    "    for frame_num in tqdm(range(num_frames)):\n",
    "        ret, frame = vidread.read()\n",
    "        if not ret:\n",
    "            break\n",
    "            topdownTS = dlc_data.isel(frame=frame_num)\n",
    "                \n",
    "            td_pts_x = topdownTS.isel(point_loc=k).values\n",
    "            td_pts_y = topdownTS.isel(point_loc=k + 1).values\n",
    "            center_xy = (int(td_pts_x), int(td_pts_y))\n",
    "            frame = cv2.circle(frame, center_xy, 6, plot_color0, -1)\n",
    "\n",
    "            backX = topdownTS.sel(point_loc='nose_x').values\n",
    "            backY = topdownTS.sel(point_loc='nose_y').values\n",
    "            current_ang = head_ang.isel(frame=frame_num)\n",
    "            x1 = (backX * np.cos(float(current_ang))).astype(int)\n",
    "            y1 = (backY * np.sin(float(current_ang))).astype(int)\n",
    "            x2 = (backX + 30 * np.cos(float(current_ang))).astype(int)\n",
    "            y2 = (backY + 30 * np.sin(float(current_ang))).astype(int)\n",
    "            frame = cv2.line(frame, (x1,y1), (x2,y2), plot_color1, thickness=4)\n",
    "\n",
    "            out_vid.write(frame)\n",
    "\n",
    "    out_vid.release()"
   ]
  },
  {
   "cell_type": "code",
   "execution_count": null,
   "metadata": {},
   "outputs": [],
   "source": [
    "ind = 0\n",
    "row = df1.iloc[ind]\n",
    "\n",
    "vid_savepath = '/home/niell_lab/data/object_avoidance/demo/090921_G63CKLT_oa1_plot.avi'\n",
    "\n",
    "fourcc = cv2.VideoWriter_fourcc(*'XVID')\n",
    "out_vid = cv2.VideoWriter(vid_savepath, fourcc, 60.0, (np.size(vid_arr, 2), np.size(vid_arr, 1)), False)\n",
    "\n",
    "for seek_frame in tqmd(range(np.size(vid_arr,0))):\n",
    "    frame = plot_frame(vid_arr, timestamps, df, seek_frame, return_as_array=True)\n",
    "    out_vid.write(frame)\n",
    "out_vid.release()"
   ]
  }
 ],
 "metadata": {
  "kernelspec": {
   "display_name": "Python [conda env:DLC-GPU1]",
   "language": "python",
   "name": "conda-env-DLC-GPU1-py"
  },
  "language_info": {
   "codemirror_mode": {
    "name": "ipython",
    "version": 3
   },
   "file_extension": ".py",
   "mimetype": "text/x-python",
   "name": "python",
   "nbconvert_exporter": "python",
   "pygments_lexer": "ipython3",
   "version": "3.8.10"
  }
 },
 "nbformat": 4,
 "nbformat_minor": 4
}
