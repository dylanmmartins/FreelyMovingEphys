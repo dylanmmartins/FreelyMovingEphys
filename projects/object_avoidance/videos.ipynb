{
 "cells": [
  {
   "cell_type": "code",
   "execution_count": 1,
   "metadata": {},
   "outputs": [],
   "source": [
    "import sys\n",
    "sys.path.insert(0, '/home/niell_lab/Documents/github/FreelyMovingEphys/')\n",
    "import pandas as pd\n",
    "import xarray as xr\n",
    "from utils.format_data import *\n",
    "from utils.paths import find\n",
    "import matplotlib.pyplot as plt\n",
    "from project_analysis.object_avoidance.oa_utils import *\n",
    "from utils.time import open_time"
   ]
  },
  {
   "cell_type": "code",
   "execution_count": 2,
   "metadata": {},
   "outputs": [],
   "source": [
    "df = pd.read_hdf('/home/niell_lab/data/object_avoidance/recordings/090921/G6CK3LT/oa/G6CK3LT_090921_oa.h5')"
   ]
  },
  {
   "cell_type": "code",
   "execution_count": 5,
   "metadata": {},
   "outputs": [],
   "source": [
    "def get_head_angle(df):\n",
    "    for ind, row in df.iterrows():\n",
    "        leftear_x = row['leftear_x_cm']\n",
    "        leftear_y = row['leftear_y_cm']\n",
    "        rightear_x = row['rightear_x_cm']\n",
    "        rightear_y = row['rightear_y_cm']\n",
    "        nose_x = row['nose_x_cm']\n",
    "        nose_y = row['nose_y_cm']\n",
    "        angs = []\n",
    "        for step in range(len(leftear_x)):\n",
    "            ang = np.arctan2(np.mean([leftear_y[step],rightear_y[step]])-nose_y[step],np.mean([leftear_x[step],rightear_x[step]])-nose_x[step])\n",
    "            angs.append(ang)\n",
    "        df.at[ind, 'head_angle'] = np.array(angs).astype(object)\n",
    "    return df"
   ]
  },
  {
   "cell_type": "code",
   "execution_count": 6,
   "metadata": {},
   "outputs": [
    {
     "data": {
      "text/plain": [
       "2      [-0.1637574566082481, -0.1706875222899412, -0....\n",
       "3      [nan, nan, nan, nan, nan, nan, nan, nan, nan, ...\n",
       "4      [-0.3967255648333528, -0.26741613176982015, -0...\n",
       "5      [2.9505350586816457, 3.003417776783562, nan, n...\n",
       "6      [-0.3809451628750496, -0.410624319964813, -0.3...\n",
       "                             ...                        \n",
       "116    [-0.14307806006664436, -0.17707296967135858, -...\n",
       "117    [2.8545421932284913, 2.7892271554421866, 2.767...\n",
       "118    [-0.37406202423782337, -0.3808860217977883, -0...\n",
       "119    [nan, nan, nan, nan, nan, nan, nan, nan, nan, ...\n",
       "121    [2.8147079755144357, 2.80589749509767, 2.87260...\n",
       "Name: head_angle, Length: 114, dtype: object"
      ]
     },
     "execution_count": 6,
     "metadata": {},
     "output_type": "execute_result"
    }
   ],
   "source": [
    "df2 = get_head_angle(df)\n",
    "df2['head_angle']"
   ]
  },
  {
   "cell_type": "code",
   "execution_count": 7,
   "metadata": {},
   "outputs": [
    {
     "data": {
      "text/plain": [
       "[<matplotlib.lines.Line2D at 0x7f347d422460>]"
      ]
     },
     "execution_count": 7,
     "metadata": {},
     "output_type": "execute_result"
    },
    {
     "data": {
      "image/png": "[encoded data removed]",
      "text/plain": [
       "<Figure size 432x288 with 1 Axes>"
      ]
     },
     "metadata": {
      "needs_background": "light"
     },
     "output_type": "display_data"
    }
   ],
   "source": [
    "plt.plot(df2['head_angle'].iloc[0])"
   ]
  },
  {
   "cell_type": "code",
   "execution_count": null,
   "metadata": {},
   "outputs": [],
   "source": []
  },
  {
   "cell_type": "code",
   "execution_count": null,
   "metadata": {},
   "outputs": [],
   "source": [
    "plt.plot(df['head_angle'].iloc[3])"
   ]
  },
  {
   "cell_type": "code",
   "execution_count": null,
   "metadata": {},
   "outputs": [],
   "source": [
    "trial_path = '/home/niell_lab/data/object_avoidance/recordings/090921/G6CK3LT/oa/'"
   ]
  },
  {
   "cell_type": "code",
   "execution_count": null,
   "metadata": {},
   "outputs": [],
   "source": [
    "vid_savepath = '/home/niell_lab/Desktop/test.avi'\n",
    "vid_path = '/home/niell_lab/data/object_avoidance/recordings/090921/G6CK3LT/oa/090921_G6CK3LT_control_Rig2_oa_top1.avi'\n",
    "time_path = '/home/niell_lab/data/object_avoidance/recordings/090921/G6CK3LT/oa/090921_G6CK3LT_control_Rig2_oa_top1_BonsaiTS.csv'"
   ]
  },
  {
   "cell_type": "code",
   "execution_count": null,
   "metadata": {},
   "outputs": [],
   "source": [
    "vid_arr = format_frames_oa(vid_path)"
   ]
  },
  {
   "cell_type": "code",
   "execution_count": null,
   "metadata": {},
   "outputs": [],
   "source": [
    "plot_all_trials(vid_arr, open_time(time_path), df, vid_savepath)"
   ]
  },
  {
   "cell_type": "code",
   "execution_count": null,
   "metadata": {},
   "outputs": [],
   "source": [
    "plot_frame(vid_arr, open_time(time_path), df, 2500, return_as_array=False)"
   ]
  }
 ],
 "metadata": {
  "kernelspec": {
   "display_name": "Python [conda env:DLC-GPU1]",
   "language": "python",
   "name": "conda-env-DLC-GPU1-py"
  },
  "language_info": {
   "codemirror_mode": {
    "name": "ipython",
    "version": 3
   },
   "file_extension": ".py",
   "mimetype": "text/x-python",
   "name": "python",
   "nbconvert_exporter": "python",
   "pygments_lexer": "ipython3",
   "version": "3.8.10"
  }
 },
 "nbformat": 4,
 "nbformat_minor": 4
}
