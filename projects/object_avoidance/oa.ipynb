{
 "cells": [
  {
   "cell_type": "code",
   "execution_count": 1,
   "metadata": {},
   "outputs": [
    {
     "name": "stdout",
     "output_type": "stream",
     "text": [
      "DLC loaded in light mode; you cannot use any GUI (labeling, relabeling and standalone GUI)\n"
     ]
    }
   ],
   "source": [
    "import sys\n",
    "sys.path.insert(0, '/home/niell_lab/Documents/github/FreelyMovingEphys/')\n",
    "import warnings\n",
    "warnings.filterwarnings('ignore')\n",
    "from projects.object_avoidance.object_avoidance import AvoidanceSession\n",
    "import pandas as pd\n",
    "import matplotlib.pyplot as plt\n",
    "import numpy as np"
   ]
  },
  {
   "cell_type": "code",
   "execution_count": 2,
   "metadata": {},
   "outputs": [],
   "source": [
    "from src.utils.auxiliary import find_index_in_list"
   ]
  },
  {
   "cell_type": "code",
   "execution_count": 3,
   "metadata": {},
   "outputs": [],
   "source": [
    "df = pd.read_hdf('/home/niell_lab/data/object_avoidance/prelim_data/110421/G6H313RT/oa/G6H313RT_110421_oa.h5')"
   ]
  },
  {
   "cell_type": "code",
   "execution_count": 4,
   "metadata": {},
   "outputs": [],
   "source": [
    "all_timestamps = np.array([])\n",
    "for ind, row in df.iterrows():\n",
    "    all_timestamps = np.hstack([all_timestamps, row['trail_timestamps']])\n",
    "    "
   ]
  },
  {
   "cell_type": "code",
   "execution_count": 5,
   "metadata": {},
   "outputs": [],
   "source": [
    "all_timestamps = list(all_timestamps)"
   ]
  },
  {
   "cell_type": "code",
   "execution_count": 13,
   "metadata": {},
   "outputs": [],
   "source": [
    "trial = list(df['trail_timestamps'].iloc[5])"
   ]
  },
  {
   "cell_type": "code",
   "execution_count": 10,
   "metadata": {},
   "outputs": [
    {
     "data": {
      "text/plain": [
       "<generator object find_index_in_list at 0x7fc7efcae120>"
      ]
     },
     "execution_count": 10,
     "metadata": {},
     "output_type": "execute_result"
    }
   ],
   "source": [
    "output"
   ]
  },
  {
   "cell_type": "code",
   "execution_count": null,
   "metadata": {},
   "outputs": [],
   "source": [
    "all_timestamps.index(trial)"
   ]
  },
  {
   "cell_type": "code",
   "execution_count": 33,
   "metadata": {},
   "outputs": [],
   "source": [
    "ind = 15\n",
    "row = df.iloc[ind]"
   ]
  },
  {
   "cell_type": "code",
   "execution_count": 45,
   "metadata": {},
   "outputs": [
    {
     "data": {
      "text/plain": [
       "array(['first_poke', 'second_poke', 'trail_timestamps', 'nose_x',\n",
       "       'nose_y', 'nose_likelihood', 'leftear_x', 'leftear_y',\n",
       "       'leftear_likelihood', 'rightear_x', 'rightear_y',\n",
       "       'rightear_likelihood', 'spine_x', 'spine_y', 'spine_likelihood',\n",
       "       'midspine_x', 'midspine_y', 'midspine_likelihood', 'tailbase_x',\n",
       "       'tailbase_y', 'tailbase_likelihood', 'midtail_x', 'midtail_y',\n",
       "       'midtail_likelihood', 'tailend_x', 'tailend_y',\n",
       "       'tailend_likelihood', 'arenaTL_x', 'arenaTL_y',\n",
       "       'arenaTL_likelihood', 'arenaTR_x', 'arenaTR_y',\n",
       "       'arenaTR_likelihood', 'arenaBL_x', 'arenaBL_y',\n",
       "       'arenaBL_likelihood', 'arenaBR_x', 'arenaBR_y',\n",
       "       'arenaBR_likelihood', 'obstaclewTL_x', 'obstaclewTL_y',\n",
       "       'obstaclewTL_likelihood', 'obstaclewTR_x', 'obstaclewTR_y',\n",
       "       'obstaclewTR_likelihood', 'obstaclewBR_x', 'obstaclewBR_y',\n",
       "       'obstaclewBR_likelihood', 'obstaclewBL_x', 'obstaclewBL_y',\n",
       "       'obstaclewBL_likelihood', 'obstaclebTL_x', 'obstaclebTL_y',\n",
       "       'obstaclebTL_likelihood', 'obstaclebTR_x', 'obstaclebTR_y',\n",
       "       'obstaclebTR_likelihood', 'obstaclebBR_x', 'obstaclebBR_y',\n",
       "       'obstaclebBR_likelihood', 'obstaclebBL_x', 'obstaclebBL_y',\n",
       "       'obstaclebBL_likelihood', 'leftportT_x', 'leftportT_y',\n",
       "       'leftportT_likelihood', 'leftportB_x', 'leftportB_y',\n",
       "       'leftportB_likelihood', 'rightportT_x', 'rightportT_y',\n",
       "       'rightportT_likelihood', 'rightportB_x', 'rightportB_y',\n",
       "       'rightportB_likelihood', 'len', 'animal', 'date', 'task',\n",
       "       'nose_x_cm', 'nose_y_cm', 'leftear_x_cm', 'leftear_y_cm',\n",
       "       'rightear_x_cm', 'rightear_y_cm', 'spine_x_cm', 'spine_y_cm',\n",
       "       'midspine_x_cm', 'midspine_y_cm', 'tailbase_x_cm', 'tailbase_y_cm',\n",
       "       'midtail_x_cm', 'midtail_y_cm', 'tailend_x_cm', 'tailend_y_cm',\n",
       "       'arenaTL_x_cm', 'arenaTL_y_cm', 'arenaTR_x_cm', 'arenaTR_y_cm',\n",
       "       'arenaBL_x_cm', 'arenaBL_y_cm', 'arenaBR_x_cm', 'arenaBR_y_cm',\n",
       "       'obstaclewTL_x_cm', 'obstaclewTL_y_cm', 'obstaclewTR_x_cm',\n",
       "       'obstaclewTR_y_cm', 'obstaclewBR_x_cm', 'obstaclewBR_y_cm',\n",
       "       'obstaclewBL_x_cm', 'obstaclewBL_y_cm', 'obstaclebTL_x_cm',\n",
       "       'obstaclebTL_y_cm', 'obstaclebTR_x_cm', 'obstaclebTR_y_cm',\n",
       "       'obstaclebBR_x_cm', 'obstaclebBR_y_cm', 'obstaclebBL_x_cm',\n",
       "       'obstaclebBL_y_cm', 'leftportT_x_cm', 'leftportT_y_cm',\n",
       "       'leftportB_x_cm', 'leftportB_y_cm', 'rightportT_x_cm',\n",
       "       'rightportT_y_cm', 'rightportB_x_cm', 'rightportB_y_cm',\n",
       "       'head_angle', 'bobstacle_x_cm', 'bobstacle_x_std',\n",
       "       'bobstacle_y_cm', 'bobstacle_y_std', 'wobstacle_x_cm',\n",
       "       'wobstacle_x_std', 'wobstacle_y_cm', 'wobstacle_y_std', 'speed',\n",
       "       'obstacle_cluster', 'odd'], dtype=object)"
      ]
     },
     "execution_count": 45,
     "metadata": {},
     "output_type": "execute_result"
    }
   ],
   "source": [
    "row.index.values"
   ]
  },
  {
   "cell_type": "code",
   "execution_count": 51,
   "metadata": {},
   "outputs": [],
   "source": [
    "left_port = (np.mean([np.median(row['arenaTL_x']), np.median(row['arenaBL_x'])]),\n",
    "            np.mean([np.median(row['arenaTL_y']), np.median(row['arenaBL_y'])]))\n",
    "right_port = (np.mean([np.median(row['arenaTR_x']), np.median(row['arenaBR_x'])]),\n",
    "            np.mean([np.median(row['arenaTR_y']), np.median(row['arenaBR_y'])]))"
   ]
  },
  {
   "cell_type": "code",
   "execution_count": 54,
   "metadata": {},
   "outputs": [
    {
     "data": {
      "text/plain": [
       "(820,)"
      ]
     },
     "execution_count": 54,
     "metadata": {},
     "output_type": "execute_result"
    }
   ],
   "source": [
    "row['nose_x'].shape"
   ]
  },
  {
   "cell_type": "code",
   "execution_count": 59,
   "metadata": {},
   "outputs": [
    {
     "data": {
      "text/plain": [
       "True"
      ]
     },
     "execution_count": 59,
     "metadata": {},
     "output_type": "execute_result"
    }
   ],
   "source": [
    "left_to_right = np.abs(row['nose_x'][0] - left_port[0]) < np.abs(row['nose_x'][0] - right_port[0]) # starts at right side of arena\n",
    "left_to_right"
   ]
  },
  {
   "cell_type": "code",
   "execution_count": 34,
   "metadata": {},
   "outputs": [
    {
     "ename": "SyntaxError",
     "evalue": "invalid syntax (2803575540.py, line 1)",
     "output_type": "error",
     "traceback": [
      "\u001b[0;36m  Input \u001b[0;32mIn [34]\u001b[0;36m\u001b[0m\n\u001b[0;31m    if df['odd']\u001b[0m\n\u001b[0m                ^\u001b[0m\n\u001b[0;31mSyntaxError\u001b[0m\u001b[0;31m:\u001b[0m invalid syntax\n"
     ]
    }
   ],
   "source": [
    "if left_to_right is True:\n",
    "    "
   ]
  },
  {
   "cell_type": "code",
   "execution_count": 20,
   "metadata": {},
   "outputs": [],
   "source": [
    "\n",
    "port_x\n",
    "port_y\n",
    "dist = (row['nose_x_cm'] - row['wobstacle_x_cm'])**2 + (row['nose_y_cm'] - row['wobstacle_y_cm'])**2"
   ]
  },
  {
   "cell_type": "code",
   "execution_count": 23,
   "metadata": {},
   "outputs": [
    {
     "data": {
      "text/plain": [
       "array([nan, nan, nan, nan, nan, nan, nan, nan, nan, nan, nan, nan, nan,\n",
       "       nan, nan, nan, nan, nan, nan, nan, nan, nan, nan, nan, nan, nan,\n",
       "       nan, nan, nan, nan, nan, nan, nan, nan, nan, nan, nan, nan, nan,\n",
       "       nan, nan, nan, nan, nan, nan, nan, nan, nan, nan, nan, nan, nan,\n",
       "       nan, nan, nan, nan, nan, nan, nan, nan, nan, nan, nan, nan, nan,\n",
       "       nan, nan, nan, nan, nan, nan, nan, nan, nan, nan, nan, nan, nan,\n",
       "       nan, nan, nan, nan, nan, nan, nan, nan, nan, nan, nan, nan, nan,\n",
       "       nan, nan, nan, nan, nan, nan, nan, nan, nan, nan, nan, nan,\n",
       "       324.02738170450846, 325.832561766629, nan, nan, nan, nan, nan, nan,\n",
       "       nan, nan, nan, nan, nan, nan, nan, nan, nan, nan, nan,\n",
       "       321.613756790629, 322.22388473920205, nan, nan, nan, nan, nan, nan,\n",
       "       nan, nan, nan, nan, nan, nan, nan, 323.55395643266564,\n",
       "       323.87273661829903, nan, nan, nan, nan, nan, nan, nan, nan, nan,\n",
       "       nan, nan, nan, nan, nan, nan, nan, nan, nan, nan, nan, nan, nan,\n",
       "       nan, 322.27498494750614, 323.2785592591048, nan, nan, nan, nan,\n",
       "       nan, nan, nan, nan, nan, nan, 317.44351032603464, nan, nan, nan,\n",
       "       nan, nan, 250.17206415225826, 240.24651697657413,\n",
       "       230.40425761146872, 224.41774622111717, 216.81969297903132,\n",
       "       213.5346937379336, 209.86499864369713, 204.20011742283663,\n",
       "       199.5425442503366, 194.38560168304042, 190.9443743273783,\n",
       "       182.81638084295963, 176.59196984025812, 170.67306869369088,\n",
       "       162.967281516381, 158.4860249085738, 156.16737427549566,\n",
       "       153.21902824460162, 153.39830352378604, 152.5354333586551,\n",
       "       149.32553682098276, 146.4356586088388, 142.8280797177376,\n",
       "       138.22458855639607, 132.56401216696133, 125.47771551627883,\n",
       "       121.575955993524, 118.1663959229948, 112.84576260693028,\n",
       "       105.53564539726354, 99.79426268560454, 93.62744580455535,\n",
       "       84.77889675242326, 80.27299546131515, 73.65042993823138,\n",
       "       69.99481511389963, 67.89384031965443, 64.26751253061991,\n",
       "       59.670601049615, 57.116718786643986, 55.50538227136122,\n",
       "       54.16654152057081, 53.911651892847736, 53.122396603330564,\n",
       "       53.612188771231736, 54.44584174950066, 55.27870576899821,\n",
       "       56.523483360040686, 57.486621397203756, 58.81887155917838,\n",
       "       57.35375013171653, 61.113635289210144, 62.8201665901734,\n",
       "       61.59593093371647, 59.42652478786243, 59.64150105734445,\n",
       "       58.42013846791661, 55.22862654490196, 50.749908161306145,\n",
       "       46.49654613615015, 41.23581451483251, 36.29401191095932,\n",
       "       32.431511096284545, 28.922309131672396, 24.74991850545195,\n",
       "       21.05034180770235, 16.728293581739898, 13.657792246425501,\n",
       "       11.6043064666975, 10.027186913759545, 8.654918423470473,\n",
       "       7.124787882793979, 5.645035699408821, nan, nan, nan, nan, nan, nan,\n",
       "       nan, nan, nan, nan, nan, nan, nan, nan, nan, nan, nan, nan, nan,\n",
       "       nan, nan, nan, nan, nan, nan, nan, nan, nan, nan, nan, nan, nan,\n",
       "       nan, nan, nan, nan, nan, nan, nan, nan, nan, nan, nan, nan, nan,\n",
       "       nan, nan, nan, nan, nan, nan, nan, nan, nan, nan, nan, nan, nan,\n",
       "       nan, nan, nan, nan, nan, nan, nan, nan, nan, nan, nan, nan, nan,\n",
       "       nan, nan, nan, nan, nan, nan, nan, nan, nan, nan, nan, nan, nan,\n",
       "       nan, nan, nan, nan, nan, nan, nan, nan, nan, nan, nan, nan, nan,\n",
       "       nan, nan, nan, nan, nan, nan, nan, nan, 6.309395778633305,\n",
       "       6.389478527807253, 5.973513124383124, 4.541813866237953,\n",
       "       5.192590551133477, 5.689577143633759, 6.263583624035487,\n",
       "       6.803653542021935, nan, nan, 9.079212228410896, 8.841858595040927,\n",
       "       9.596251177758429, 9.415718069799114, 11.302736588664139,\n",
       "       13.192806264581304, 15.03110025177157, 17.983007762492456,\n",
       "       19.77483647890465, 22.509402460904948, 24.620475761037145,\n",
       "       26.50543308338579, 30.71697671921177, 34.686636837681256,\n",
       "       35.90432562078977, nan, 43.2135079790956, nan, nan, nan, nan, nan,\n",
       "       52.736232582007396, 53.69017103232977, 54.48515886173397,\n",
       "       56.7096887094179, 58.62245120019229, 59.37752728066303,\n",
       "       59.47931787433191, nan, 64.9389575801463, 64.3189752634631, nan,\n",
       "       nan, nan, 64.67881732919587, 64.3937202323746, 64.41796351264674,\n",
       "       63.51782644769077, 63.39657282345897, 64.1522313975106,\n",
       "       63.97026004930639, 63.835636162650516, 63.777709151821924,\n",
       "       62.501559581309294, 62.98827606333081, 63.37318242185868,\n",
       "       63.00515749312591, 63.38764762098529, 62.09338142935053, nan, nan,\n",
       "       nan, nan, nan, nan, nan, nan, nan, nan, nan, nan, nan, nan, nan,\n",
       "       nan, nan, nan, 61.568100192535745, 61.89077986073379,\n",
       "       62.3520844941243, 61.706004129252584, 61.00740477077004,\n",
       "       61.1878696001781, 61.46485973239559, 59.935041305222185,\n",
       "       60.108640948300724, 59.8541449443642, 60.146028428500735,\n",
       "       60.291818444244804, 60.9897662870348, 62.36384682567659,\n",
       "       62.09417438894867, 61.08752818053861, 61.09274349191677,\n",
       "       61.07242518916172, nan, nan, nan, nan, nan, nan, nan, nan, nan,\n",
       "       nan, nan], dtype=object)"
      ]
     },
     "execution_count": 23,
     "metadata": {},
     "output_type": "execute_result"
    }
   ],
   "source": [
    "dist"
   ]
  },
  {
   "cell_type": "code",
   "execution_count": null,
   "metadata": {},
   "outputs": [],
   "source": []
  }
 ],
 "metadata": {
  "kernelspec": {
   "display_name": "Python [conda env:ephys0]",
   "language": "python",
   "name": "conda-env-ephys0-py"
  },
  "language_info": {
   "codemirror_mode": {
    "name": "ipython",
    "version": 3
   },
   "file_extension": ".py",
   "mimetype": "text/x-python",
   "name": "python",
   "nbconvert_exporter": "python",
   "pygments_lexer": "ipython3",
   "version": "3.8.12"
  }
 },
 "nbformat": 4,
 "nbformat_minor": 4
}
