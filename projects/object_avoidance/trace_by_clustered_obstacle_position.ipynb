{
 "cells": [
  {
   "cell_type": "code",
   "execution_count": 1,
   "metadata": {},
   "outputs": [],
   "source": [
    "import sys\n",
    "sys.path.insert(0, '/home/niell_lab/Documents/github/FreelyMovingEphys/')\n",
    "import pandas as pd\n",
    "import xarray as xr\n",
    "from utils.format_data import *\n",
    "from utils.paths import find"
   ]
  },
  {
   "cell_type": "code",
   "execution_count": 2,
   "metadata": {},
   "outputs": [],
   "source": [
    "import matplotlib.pyplot as plt"
   ]
  },
  {
   "cell_type": "code",
   "execution_count": 3,
   "metadata": {},
   "outputs": [],
   "source": [
    "from pathlib import Path\n",
    "import os"
   ]
  },
  {
   "cell_type": "code",
   "execution_count": 4,
   "metadata": {},
   "outputs": [],
   "source": [
    "directory_path = '/home/niell_lab/data/object_avoidance/preliminary_data/recordings/'"
   ]
  },
  {
   "cell_type": "code",
   "execution_count": 5,
   "metadata": {},
   "outputs": [],
   "source": [
    "##Load Data\n",
    "# Dictionary of columns in data frame\n",
    "data_dict = {'date': [],\n",
    "             'animal': [],\n",
    "             'task': [],             \n",
    "             'poke1_ts':[],\n",
    "             'poke2_ts': [],\n",
    "#              'spout1_ts': [],\n",
    "#              'spout2_ts': [],\n",
    "             'top1_ts': [],\n",
    "             'poke1_t0':[],\n",
    "             'poke2_t0': [],\n",
    "#              'spout1_t0': [],\n",
    "#              'spout2_t0': [],\n",
    "             'top1_t0': []}\n",
    "# List of dates for analysis\n",
    "dates= ['091321']\n",
    "data_path = Path(directory_path).expanduser()\n",
    "all_paths = []\n",
    "#Populate Data Dict with meta data and timestamps   \n",
    "for date in dates:\n",
    "    for ani in os.listdir(data_path / date): \n",
    "        for task in os.listdir(data_path / date/ ani):\n",
    "            data_paths = list((data_path / date/ ani/ task).rglob('*.csv'))\n",
    "            if data_paths != []:\n",
    "                data_dict['date'].append(data_paths[1].name.split('_')[0])\n",
    "                data_dict['animal'].append(data_paths[1].name.split('_')[1])\n",
    "                data_dict['task'].append(data_paths[1].name.split('_')[4])\n",
    "            for ind, csv in enumerate(data_paths):\n",
    "                data_dict[data_paths[ind].name.split('_')[5] +'_ts'].append(open_time(csv))\n",
    "                data_dict[data_paths[ind].name.split('_')[5] +'_t0'].append(open_time(csv)[0])\n",
    "df = pd.DataFrame.from_dict(data_dict)"
   ]
  },
  {
   "cell_type": "code",
   "execution_count": 6,
   "metadata": {},
   "outputs": [
    {
     "data": {
      "text/html": [
       "<div>\n",
       "<style scoped>\n",
       "    .dataframe tbody tr th:only-of-type {\n",
       "        vertical-align: middle;\n",
       "    }\n",
       "\n",
       "    .dataframe tbody tr th {\n",
       "        vertical-align: top;\n",
       "    }\n",
       "\n",
       "    .dataframe thead th {\n",
       "        text-align: right;\n",
       "    }\n",
       "</style>\n",
       "<table border=\"1\" class=\"dataframe\">\n",
       "  <thead>\n",
       "    <tr style=\"text-align: right;\">\n",
       "      <th></th>\n",
       "      <th>date</th>\n",
       "      <th>animal</th>\n",
       "      <th>task</th>\n",
       "      <th>poke1_ts</th>\n",
       "      <th>poke2_ts</th>\n",
       "      <th>top1_ts</th>\n",
       "      <th>poke1_t0</th>\n",
       "      <th>poke2_t0</th>\n",
       "      <th>top1_t0</th>\n",
       "    </tr>\n",
       "  </thead>\n",
       "  <tbody>\n",
       "    <tr>\n",
       "      <th>0</th>\n",
       "      <td>091321</td>\n",
       "      <td>G6CK3LT</td>\n",
       "      <td>oa1</td>\n",
       "      <td>[52934.298393, 52990.381491, 53016.777728, 530...</td>\n",
       "      <td>[52981.832192, 53005.578726, 53024.982963, 530...</td>\n",
       "      <td>[52933.193843, 52933.210176, 52933.226854, 529...</td>\n",
       "      <td>52934.298393</td>\n",
       "      <td>52981.832192</td>\n",
       "      <td>52933.193843</td>\n",
       "    </tr>\n",
       "    <tr>\n",
       "      <th>1</th>\n",
       "      <td>091321</td>\n",
       "      <td>G6CK3LT</td>\n",
       "      <td>oa</td>\n",
       "      <td>[40616.381606, 40631.734707, 40650.458867, 406...</td>\n",
       "      <td>[40625.012492, 40644.019456, 40655.026278, 406...</td>\n",
       "      <td>[40615.302579, 40615.314419, 40615.331161, 406...</td>\n",
       "      <td>40616.381606</td>\n",
       "      <td>40625.012492</td>\n",
       "      <td>40615.302579</td>\n",
       "    </tr>\n",
       "    <tr>\n",
       "      <th>2</th>\n",
       "      <td>091321</td>\n",
       "      <td>G6CK3RT</td>\n",
       "      <td>oa1</td>\n",
       "      <td>[54534.562009, 54550.152524, 54564.743756, 545...</td>\n",
       "      <td>[54546.506483, 54556.169894, 54569.24142, 5458...</td>\n",
       "      <td>[54533.468108, 54533.481203, 54533.49751, 5453...</td>\n",
       "      <td>54534.562009</td>\n",
       "      <td>54546.506483</td>\n",
       "      <td>54533.468108</td>\n",
       "    </tr>\n",
       "    <tr>\n",
       "      <th>3</th>\n",
       "      <td>091321</td>\n",
       "      <td>G6CK3RT</td>\n",
       "      <td>oa</td>\n",
       "      <td>[39244.185574, 39278.754406, 39287.123302, 392...</td>\n",
       "      <td>[39273.736256, 39282.748403, 39292.11671, 3930...</td>\n",
       "      <td>[39243.078169, 39243.093222, 39243.109913, 392...</td>\n",
       "      <td>39244.185574</td>\n",
       "      <td>39273.736256</td>\n",
       "      <td>39243.078169</td>\n",
       "    </tr>\n",
       "  </tbody>\n",
       "</table>\n",
       "</div>"
      ],
      "text/plain": [
       "     date   animal task                                           poke1_ts  \\\n",
       "0  091321  G6CK3LT  oa1  [52934.298393, 52990.381491, 53016.777728, 530...   \n",
       "1  091321  G6CK3LT   oa  [40616.381606, 40631.734707, 40650.458867, 406...   \n",
       "2  091321  G6CK3RT  oa1  [54534.562009, 54550.152524, 54564.743756, 545...   \n",
       "3  091321  G6CK3RT   oa  [39244.185574, 39278.754406, 39287.123302, 392...   \n",
       "\n",
       "                                            poke2_ts  \\\n",
       "0  [52981.832192, 53005.578726, 53024.982963, 530...   \n",
       "1  [40625.012492, 40644.019456, 40655.026278, 406...   \n",
       "2  [54546.506483, 54556.169894, 54569.24142, 5458...   \n",
       "3  [39273.736256, 39282.748403, 39292.11671, 3930...   \n",
       "\n",
       "                                             top1_ts      poke1_t0  \\\n",
       "0  [52933.193843, 52933.210176, 52933.226854, 529...  52934.298393   \n",
       "1  [40615.302579, 40615.314419, 40615.331161, 406...  40616.381606   \n",
       "2  [54533.468108, 54533.481203, 54533.49751, 5453...  54534.562009   \n",
       "3  [39243.078169, 39243.093222, 39243.109913, 392...  39244.185574   \n",
       "\n",
       "       poke2_t0       top1_t0  \n",
       "0  52981.832192  52933.193843  \n",
       "1  40625.012492  40615.302579  \n",
       "2  54546.506483  54533.468108  \n",
       "3  39273.736256  39243.078169  "
      ]
     },
     "execution_count": 6,
     "metadata": {},
     "output_type": "execute_result"
    }
   ],
   "source": [
    "df"
   ]
  },
  {
   "cell_type": "code",
   "execution_count": 7,
   "metadata": {},
   "outputs": [
    {
     "data": {
      "text/plain": [
       "'/home/niell_lab/data/object_avoidance/preliminary_data/recordings/091321/G6CK3RT/oa1/091321_G6CK3RT_control_Rig2_oa1_top1DLC_resnet50_object_avoidanceAug31shuffle1_200000.h5'"
      ]
     },
     "execution_count": 7,
     "metadata": {},
     "output_type": "execute_result"
    }
   ],
   "source": [
    "dlc_h5 = find('*.h5', directory_path)[2]\n",
    "dlc_h5"
   ]
  },
  {
   "cell_type": "code",
   "execution_count": 8,
   "metadata": {},
   "outputs": [],
   "source": [
    "def filter_likelihood(da, thresh=0.99):\n",
    "    x_cols = [i for i in da.columns.values if '_x' in i and 'arena' not in i]\n",
    "    y_cols = [i for i in da.columns.values if '_y' in i]\n",
    "    l_cols = [i for i in da.columns.values if '_likelihood' in i]\n",
    "    for i in range(len(x_cols)):\n",
    "        x = da.loc[:,x_cols[i]]; y = da.loc[:,y_cols[i]]; l = da.loc[:,l_cols[i]]\n",
    "        x[l<thresh] = np.nan; y[l<thresh] = np.nan\n",
    "        da.loc[:,x_cols[i]] = x; da.loc[:,y_cols[i]] = y\n",
    "    return da"
   ]
  },
  {
   "cell_type": "code",
   "execution_count": 9,
   "metadata": {},
   "outputs": [],
   "source": [
    "row =  df.iloc[2]\n",
    "num_odd_trails = np.min([len(row['poke1_ts']), len(row['poke2_ts'])])\n",
    "df1 = pd.DataFrame([])\n",
    "dlc_positions_raw, dlc_labels = open_h5(dlc_h5)\n",
    "dlc_positions = filter_likelihood(dlc_positions_raw)\n",
    "count = -1\n",
    "for c in range(num_odd_trails):\n",
    "    # odd\n",
    "    count += 1\n",
    "    df1.at[count, 'first_poke'] = row['poke1_ts'][c]\n",
    "    df1.at[count, 'second_poke'] = row['poke2_ts'][c]\n",
    "    time = row['top1_ts']; time = time[time > df1.loc[count,'first_poke']]; time = time[time < df1.loc[count,'second_poke']]\n",
    "    df1.at[count, 'trail_timestamps'] = time.astype(object)\n",
    "    start_stop_inds = (int(np.where([row['top1_ts']==time[0]])[1]), int(np.where([row['top1_ts']==time[-1]])[1]))\n",
    "    for pos in dlc_positions:\n",
    "        df1.at[count, pos] = np.array(dlc_positions.loc[start_stop_inds[0]:start_stop_inds[1], pos]).astype(object)\n",
    "    df1.at[count, 'len'] = start_stop_inds[1] - start_stop_inds[0]\n",
    "    # even\n",
    "    count += 1\n",
    "    if c+1 < len(row['poke1_ts']):\n",
    "        df1.at[count, 'first_poke'] = row['poke2_ts'][c]\n",
    "        df1.at[count, 'second_poke'] = row['poke1_ts'][c+1]\n",
    "        time = row['top1_ts']; time = time[time > df1.loc[count,'first_poke']]; time = time[time < df1.loc[count,'second_poke']]\n",
    "        df1.at[count, 'trail_timestamps'] = time.astype(object)\n",
    "        start_stop_inds = (int(np.where([row['top1_ts']==time[0]])[1]), int(np.where([row['top1_ts']==time[-1]])[1]))\n",
    "        for pos in dlc_positions:\n",
    "            df1.at[count, pos] = np.array(dlc_positions.loc[start_stop_inds[0]:start_stop_inds[1], pos]).astype(object)\n",
    "        df1.at[count, 'len'] = start_stop_inds[1] - start_stop_inds[0]\n",
    "df1['animal'] = row['animal']; df1['date'] = row['date']; df1['task'] = row['task']"
   ]
  },
  {
   "cell_type": "code",
   "execution_count": 24,
   "metadata": {},
   "outputs": [],
   "source": [
    "dist_to_posts = np.median(df1['arenaTR_x'].iloc[0],0) - np.median(df1['arenaTL_x'].iloc[0],0)\n",
    "pxls2cm = dist_to_posts/30.48"
   ]
  },
  {
   "cell_type": "code",
   "execution_count": 25,
   "metadata": {},
   "outputs": [
    {
     "data": {
      "text/plain": [
       "17.778231966213916"
      ]
     },
     "execution_count": 25,
     "metadata": {},
     "output_type": "execute_result"
    }
   ],
   "source": [
    "pxls2cm"
   ]
  },
  {
   "cell_type": "code",
   "execution_count": 1,
   "metadata": {},
   "outputs": [],
   "source": [
    "pxls2cm = 17.778231966213916"
   ]
  },
  {
   "cell_type": "code",
   "execution_count": 3,
   "metadata": {},
   "outputs": [
    {
     "data": {
      "text/plain": [
       "33.299149270020095"
      ]
     },
     "execution_count": 3,
     "metadata": {},
     "output_type": "execute_result"
    }
   ],
   "source": [
    "592 / pxls2cm"
   ]
  },
  {
   "cell_type": "code",
   "execution_count": 126,
   "metadata": {},
   "outputs": [],
   "source": [
    "for ind, row in df2.iterrows():\n",
    "    df2.at[ind, 'speed'] = np.sqrt(list((np.diff(row['nose_x_cm'])/np.diff(row['trail_timestamps']))**2) + list((np.diff(row['nose_y_cm'])/np.diff(row['trail_timestamps']))**2)).astype(object)"
   ]
  },
  {
   "cell_type": "code",
   "execution_count": 94,
   "metadata": {},
   "outputs": [],
   "source": [
    "def smooth_convolve(y, box_pts=10):\n",
    "    \"\"\" Smooth values in an array using a convolutional window.\n",
    "\n",
    "    Parameters:\n",
    "    y (np.array): array to smooth\n",
    "    box_pts (int): window size to use for convolution\n",
    "    \n",
    "    Returns\n",
    "    y_smooth (np.array): smoothed y values\n",
    "    \"\"\"\n",
    "    box = np.ones(box_pts)/box_pts\n",
    "    y_smooth = np.convolve(y, box, mode='same')\n",
    "    return y_smooth"
   ]
  },
  {
   "cell_type": "code",
   "execution_count": 127,
   "metadata": {},
   "outputs": [
    {
     "data": {
      "text/plain": [
       "Text(0, 0.5, 'cm/sec')"
      ]
     },
     "execution_count": 127,
     "metadata": {},
     "output_type": "execute_result"
    },
    {
     "data": {
      "image/png": "[encoded data removed]",
      "text/plain": [
       "<Figure size 432x288 with 1 Axes>"
      ]
     },
     "metadata": {
      "needs_background": "light"
     },
     "output_type": "display_data"
    }
   ],
   "source": [
    "for i in range(5,8):\n",
    "    plt.plot(df2['speed'].iloc[i])\n",
    "plt.xlabel('frame')\n",
    "plt.ylabel('cm/sec')"
   ]
  },
  {
   "cell_type": "code",
   "execution_count": 125,
   "metadata": {},
   "outputs": [
    {
     "data": {
      "image/png": "[encoded data removed]",
      "text/plain": [
       "<Figure size 432x288 with 1 Axes>"
      ]
     },
     "metadata": {
      "needs_background": "light"
     },
     "output_type": "display_data"
    }
   ],
   "source": [
    "for a in range(5,8):\n",
    "    plt.plot(df2['nose_x_cm'].iloc[a], df2['nose_y_cm'].iloc[a])"
   ]
  },
  {
   "cell_type": "code",
   "execution_count": 118,
   "metadata": {},
   "outputs": [],
   "source": [
    "def convert_pxls_to_dist(da, pxls2cm):\n",
    "    x_cols = [i for i in da.columns.values if '_x' in i and 'arena' not in i]\n",
    "    y_cols = [i for i in da.columns.values if '_y' in i]\n",
    "    for i in range(len(x_cols)):\n",
    "        da[x_cols[i]+'_cm'] = da.loc[:,x_cols[i]]/pxls2cm\n",
    "        da[y_cols[i]+'_cm'] = da.loc[:,y_cols[i]]/pxls2cm\n",
    "    return da"
   ]
  },
  {
   "cell_type": "code",
   "execution_count": 119,
   "metadata": {},
   "outputs": [],
   "source": [
    "df2 = convert_pxls_to_dist(df1, pxls2cm)"
   ]
  },
  {
   "cell_type": "code",
   "execution_count": 11,
   "metadata": {},
   "outputs": [
    {
     "data": {
      "text/plain": [
       "[<matplotlib.lines.Line2D at 0x7f79ec4b6a30>]"
      ]
     },
     "execution_count": 11,
     "metadata": {},
     "output_type": "execute_result"
    },
    {
     "data": {
      "image/png": "[encoded data removed]",
      "text/plain": [
       "<Figure size 432x288 with 1 Axes>"
      ]
     },
     "metadata": {
      "needs_background": "light"
     },
     "output_type": "display_data"
    }
   ],
   "source": [
    "plt.plot(df1['arenaBR_likelihood'].iloc[0])"
   ]
  },
  {
   "cell_type": "code",
   "execution_count": 12,
   "metadata": {},
   "outputs": [
    {
     "name": "stderr",
     "output_type": "stream",
     "text": [
      "/home/niell_lab/anaconda3/envs/DLC-GPU1/lib/python3.8/site-packages/numpy/lib/nanfunctions.py:1664: RuntimeWarning: Degrees of freedom <= 0 for slice.\n",
      "  var = nanvar(a, axis=axis, dtype=dtype, out=out, ddof=ddof,\n"
     ]
    }
   ],
   "source": [
    "for ind, row in df1.iterrows():\n",
    "    for x in ['b','w']:\n",
    "        xvals = np.stack([row['obstacle'+x+'TL_x'], row['obstacle'+x+'TR_x'], row['obstacle'+x+'BL_x'], row['obstacle'+x+'BL_x']]).astype(float)\n",
    "        df1.at[ind, x+'obstacle_x'] = np.nanmean(xvals)\n",
    "        df1.at[ind, x+'obstacle_x_std'] = np.mean(np.nanstd(xvals, axis=1))\n",
    "        yvals = np.stack([row['obstaclewTL_y'], row['obstaclewTR_y'], row['obstaclewBL_y'], row['obstaclewBL_y']]).astype(float)\n",
    "        df1.at[ind, x+'obstacle_y'] = np.nanmean(yvals)\n",
    "        df1.at[ind, x+'obstacle_y_std'] = np.mean(np.nanstd(yvals, axis=1))"
   ]
  },
  {
   "cell_type": "code",
   "execution_count": 13,
   "metadata": {},
   "outputs": [
    {
     "data": {
      "text/plain": [
       "(array([131.,   9.,   5.,   0.,   1.,   2.,   2.,   1.,   1.,   1.,   0.,\n",
       "          0.,   0.,   0.,   0.,   0.,   0.,   0.,   0.,   1.,   0.,   0.,\n",
       "          0.,   0.,   1.]),\n",
       " array([ 176.  ,  257.64,  339.28,  420.92,  502.56,  584.2 ,  665.84,\n",
       "         747.48,  829.12,  910.76,  992.4 , 1074.04, 1155.68, 1237.32,\n",
       "        1318.96, 1400.6 , 1482.24, 1563.88, 1645.52, 1727.16, 1808.8 ,\n",
       "        1890.44, 1972.08, 2053.72, 2135.36, 2217.  ]),\n",
       " <a list of 25 Patch objects>)"
      ]
     },
     "execution_count": 13,
     "metadata": {},
     "output_type": "execute_result"
    },
    {
     "data": {
      "image/png": "[encoded data removed]",
      "text/plain": [
       "<Figure size 432x288 with 1 Axes>"
      ]
     },
     "metadata": {
      "needs_background": "light"
     },
     "output_type": "display_data"
    }
   ],
   "source": [
    "plt.hist(df1['len'], bins=25)"
   ]
  },
  {
   "cell_type": "code",
   "execution_count": 14,
   "metadata": {},
   "outputs": [
    {
     "data": {
      "text/html": [
       "<div>\n",
       "<style scoped>\n",
       "    .dataframe tbody tr th:only-of-type {\n",
       "        vertical-align: middle;\n",
       "    }\n",
       "\n",
       "    .dataframe tbody tr th {\n",
       "        vertical-align: top;\n",
       "    }\n",
       "\n",
       "    .dataframe thead th {\n",
       "        text-align: right;\n",
       "    }\n",
       "</style>\n",
       "<table border=\"1\" class=\"dataframe\">\n",
       "  <thead>\n",
       "    <tr style=\"text-align: right;\">\n",
       "      <th></th>\n",
       "      <th>first_poke</th>\n",
       "      <th>second_poke</th>\n",
       "      <th>trail_timestamps</th>\n",
       "      <th>nose_x</th>\n",
       "      <th>nose_y</th>\n",
       "      <th>nose_likelihood</th>\n",
       "      <th>leftear_x</th>\n",
       "      <th>leftear_y</th>\n",
       "      <th>leftear_likelihood</th>\n",
       "      <th>rightear_x</th>\n",
       "      <th>...</th>\n",
       "      <th>date</th>\n",
       "      <th>task</th>\n",
       "      <th>bobstacle_x</th>\n",
       "      <th>bobstacle_x_std</th>\n",
       "      <th>bobstacle_y</th>\n",
       "      <th>bobstacle_y_std</th>\n",
       "      <th>wobstacle_x</th>\n",
       "      <th>wobstacle_x_std</th>\n",
       "      <th>wobstacle_y</th>\n",
       "      <th>wobstacle_y_std</th>\n",
       "    </tr>\n",
       "  </thead>\n",
       "  <tbody>\n",
       "    <tr>\n",
       "      <th>1</th>\n",
       "      <td>54546.506483</td>\n",
       "      <td>54550.152524</td>\n",
       "      <td>[54546.518745, 54546.535692, 54546.553715, 545...</td>\n",
       "      <td>[508.521240234375, 509.52569580078125, 508.689...</td>\n",
       "      <td>[170.7389678955078, 170.43377685546875, 170.67...</td>\n",
       "      <td>[0.9993851184844971, 0.9990812540054321, 0.998...</td>\n",
       "      <td>[474.169677734375, 476.06878662109375, 476.842...</td>\n",
       "      <td>[168.24232482910156, 167.85397338867188, 167.9...</td>\n",
       "      <td>[0.9998559951782227, 0.9997975826263428, 0.999...</td>\n",
       "      <td>[490.4239501953125, 492.1776123046875, 491.517...</td>\n",
       "      <td>...</td>\n",
       "      <td>091321</td>\n",
       "      <td>oa1</td>\n",
       "      <td>343.543568</td>\n",
       "      <td>134.367565</td>\n",
       "      <td>150.684086</td>\n",
       "      <td>0.402770</td>\n",
       "      <td>273.825936</td>\n",
       "      <td>NaN</td>\n",
       "      <td>150.684086</td>\n",
       "      <td>0.402770</td>\n",
       "    </tr>\n",
       "    <tr>\n",
       "      <th>4</th>\n",
       "      <td>54564.743756</td>\n",
       "      <td>54569.241420</td>\n",
       "      <td>[54564.758054, 54564.775065, 54564.791513, 545...</td>\n",
       "      <td>[59.28833770751953, 59.00017166137695, 58.8556...</td>\n",
       "      <td>[188.36512756347656, 188.64283752441406, 188.1...</td>\n",
       "      <td>[0.9957120418548584, 0.9963630437850952, 0.996...</td>\n",
       "      <td>[85.06071472167969, 84.55770874023438, 83.8887...</td>\n",
       "      <td>[187.37356567382812, 186.99716186523438, 186.4...</td>\n",
       "      <td>[0.9999639987945557, 0.9999659061431885, 0.999...</td>\n",
       "      <td>[72.963623046875, 72.91352844238281, 72.787925...</td>\n",
       "      <td>...</td>\n",
       "      <td>091321</td>\n",
       "      <td>oa1</td>\n",
       "      <td>410.765950</td>\n",
       "      <td>102.406574</td>\n",
       "      <td>150.720349</td>\n",
       "      <td>0.793191</td>\n",
       "      <td>273.178340</td>\n",
       "      <td>NaN</td>\n",
       "      <td>150.720349</td>\n",
       "      <td>0.793191</td>\n",
       "    </tr>\n",
       "    <tr>\n",
       "      <th>7</th>\n",
       "      <td>54586.446016</td>\n",
       "      <td>54590.591462</td>\n",
       "      <td>[54586.45111, 54586.46551, 54586.482099, 54586...</td>\n",
       "      <td>[511.7579345703125, 511.9116516113281, 511.713...</td>\n",
       "      <td>[173.29556274414062, 173.1143035888672, 173.72...</td>\n",
       "      <td>[0.999687671661377, 0.9996317625045776, 0.9995...</td>\n",
       "      <td>[483.55419921875, 483.4398498535156, 482.38677...</td>\n",
       "      <td>[161.46018981933594, 162.52371215820312, 163.2...</td>\n",
       "      <td>[0.999932050704956, 0.9999192953109741, 0.9999...</td>\n",
       "      <td>[484.8330078125, 485.1925048828125, 485.040130...</td>\n",
       "      <td>...</td>\n",
       "      <td>091321</td>\n",
       "      <td>oa1</td>\n",
       "      <td>347.361316</td>\n",
       "      <td>141.147037</td>\n",
       "      <td>150.529365</td>\n",
       "      <td>0.795923</td>\n",
       "      <td>273.857713</td>\n",
       "      <td>NaN</td>\n",
       "      <td>150.529365</td>\n",
       "      <td>0.795923</td>\n",
       "    </tr>\n",
       "    <tr>\n",
       "      <th>8</th>\n",
       "      <td>54590.591462</td>\n",
       "      <td>54593.876736</td>\n",
       "      <td>[54590.600217, 54590.616857, 54590.633548, 545...</td>\n",
       "      <td>[59.80289077758789, 59.68534469604492, 59.4665...</td>\n",
       "      <td>[190.2515869140625, 189.78466796875, 189.36160...</td>\n",
       "      <td>[0.998357892036438, 0.9979526996612549, 0.9980...</td>\n",
       "      <td>[86.35167694091797, 85.71722412109375, 85.6759...</td>\n",
       "      <td>[188.02645874023438, 187.2926788330078, 187.09...</td>\n",
       "      <td>[0.9998998641967773, 0.9998962879180908, 0.999...</td>\n",
       "      <td>[76.59584045410156, 76.43264770507812, 76.4286...</td>\n",
       "      <td>...</td>\n",
       "      <td>091321</td>\n",
       "      <td>oa1</td>\n",
       "      <td>401.752251</td>\n",
       "      <td>108.720952</td>\n",
       "      <td>150.606633</td>\n",
       "      <td>0.686396</td>\n",
       "      <td>273.066621</td>\n",
       "      <td>NaN</td>\n",
       "      <td>150.606633</td>\n",
       "      <td>0.686396</td>\n",
       "    </tr>\n",
       "    <tr>\n",
       "      <th>9</th>\n",
       "      <td>54593.876736</td>\n",
       "      <td>54597.473228</td>\n",
       "      <td>[54593.884595, 54593.901312, 54593.918489, 545...</td>\n",
       "      <td>[509.9363098144531, 509.0841369628906, 508.622...</td>\n",
       "      <td>[169.7750701904297, 168.722412109375, 169.4945...</td>\n",
       "      <td>[0.9968910813331604, 0.9978808164596558, 0.996...</td>\n",
       "      <td>[475.6702575683594, 476.22528076171875, 479.06...</td>\n",
       "      <td>[167.55758666992188, 166.4513702392578, 167.33...</td>\n",
       "      <td>[0.9995647668838501, 0.9991363286972046, 0.999...</td>\n",
       "      <td>[494.03546142578125, 493.81072998046875, 493.5...</td>\n",
       "      <td>...</td>\n",
       "      <td>091321</td>\n",
       "      <td>oa1</td>\n",
       "      <td>385.493108</td>\n",
       "      <td>105.790545</td>\n",
       "      <td>150.518366</td>\n",
       "      <td>0.542638</td>\n",
       "      <td>273.747453</td>\n",
       "      <td>NaN</td>\n",
       "      <td>150.518366</td>\n",
       "      <td>0.542638</td>\n",
       "    </tr>\n",
       "    <tr>\n",
       "      <th>...</th>\n",
       "      <td>...</td>\n",
       "      <td>...</td>\n",
       "      <td>...</td>\n",
       "      <td>...</td>\n",
       "      <td>...</td>\n",
       "      <td>...</td>\n",
       "      <td>...</td>\n",
       "      <td>...</td>\n",
       "      <td>...</td>\n",
       "      <td>...</td>\n",
       "      <td>...</td>\n",
       "      <td>...</td>\n",
       "      <td>...</td>\n",
       "      <td>...</td>\n",
       "      <td>...</td>\n",
       "      <td>...</td>\n",
       "      <td>...</td>\n",
       "      <td>...</td>\n",
       "      <td>...</td>\n",
       "      <td>...</td>\n",
       "      <td>...</td>\n",
       "    </tr>\n",
       "    <tr>\n",
       "      <th>147</th>\n",
       "      <td>55156.527744</td>\n",
       "      <td>55160.489011</td>\n",
       "      <td>[55156.543872, 55156.560588, 55156.578176, 551...</td>\n",
       "      <td>[513.6608276367188, 513.762451171875, 514.6018...</td>\n",
       "      <td>[177.66246032714844, 176.81979370117188, 176.9...</td>\n",
       "      <td>[0.9994211196899414, 0.9994221329689026, 0.999...</td>\n",
       "      <td>[490.4061584472656, 489.1361999511719, 489.064...</td>\n",
       "      <td>[159.7598876953125, 158.19239807128906, 155.76...</td>\n",
       "      <td>[0.9998689293861389, 0.9998749494552612, 0.999...</td>\n",
       "      <td>[480.34979248046875, 480.68157958984375, 480.8...</td>\n",
       "      <td>...</td>\n",
       "      <td>091321</td>\n",
       "      <td>oa1</td>\n",
       "      <td>254.246621</td>\n",
       "      <td>173.584315</td>\n",
       "      <td>166.050044</td>\n",
       "      <td>0.719219</td>\n",
       "      <td>364.447144</td>\n",
       "      <td>NaN</td>\n",
       "      <td>166.050044</td>\n",
       "      <td>0.719219</td>\n",
       "    </tr>\n",
       "    <tr>\n",
       "      <th>148</th>\n",
       "      <td>55160.489011</td>\n",
       "      <td>55164.097881</td>\n",
       "      <td>[55160.496064, 55160.511872, 55160.528576, 551...</td>\n",
       "      <td>[58.70176315307617, 58.205718994140625, 58.738...</td>\n",
       "      <td>[191.0717315673828, 194.34246826171875, 194.18...</td>\n",
       "      <td>[0.9984011054039001, 0.9988560080528259, 0.998...</td>\n",
       "      <td>[85.49699401855469, 85.13862609863281, 84.6686...</td>\n",
       "      <td>[190.50320434570312, 189.89015197753906, 189.1...</td>\n",
       "      <td>[0.9999640583992004, 0.999977707862854, 0.9999...</td>\n",
       "      <td>[72.1750259399414, 70.05420684814453, 71.36499...</td>\n",
       "      <td>...</td>\n",
       "      <td>091321</td>\n",
       "      <td>oa1</td>\n",
       "      <td>361.247844</td>\n",
       "      <td>120.318230</td>\n",
       "      <td>166.663518</td>\n",
       "      <td>0.476089</td>\n",
       "      <td>364.464315</td>\n",
       "      <td>NaN</td>\n",
       "      <td>166.663518</td>\n",
       "      <td>0.476089</td>\n",
       "    </tr>\n",
       "    <tr>\n",
       "      <th>149</th>\n",
       "      <td>55164.097881</td>\n",
       "      <td>55168.300608</td>\n",
       "      <td>[55164.113433, 55164.129779, 55164.146496, 551...</td>\n",
       "      <td>[508.587158203125, 508.2152099609375, 507.9153...</td>\n",
       "      <td>[170.9015350341797, 171.18621826171875, 171.11...</td>\n",
       "      <td>[0.9978893995285034, 0.9947263598442078, 0.995...</td>\n",
       "      <td>[480.00640869140625, 480.9121398925781, 480.50...</td>\n",
       "      <td>[167.2646026611328, 167.60194396972656, 168.22...</td>\n",
       "      <td>[0.9995124340057373, 0.9995911121368408, 0.999...</td>\n",
       "      <td>[493.6488342285156, 494.1540832519531, 494.024...</td>\n",
       "      <td>...</td>\n",
       "      <td>091321</td>\n",
       "      <td>oa1</td>\n",
       "      <td>361.816827</td>\n",
       "      <td>98.140279</td>\n",
       "      <td>166.428782</td>\n",
       "      <td>0.794485</td>\n",
       "      <td>396.230323</td>\n",
       "      <td>NaN</td>\n",
       "      <td>166.428782</td>\n",
       "      <td>0.794485</td>\n",
       "    </tr>\n",
       "    <tr>\n",
       "      <th>151</th>\n",
       "      <td>55173.929177</td>\n",
       "      <td>55178.217523</td>\n",
       "      <td>[55173.934553, 55173.949824, 55173.966451, 551...</td>\n",
       "      <td>[509.5231018066406, 508.37921142578125, 508.80...</td>\n",
       "      <td>[170.7725067138672, 169.22940063476562, 170.47...</td>\n",
       "      <td>[0.9997409582138062, 0.9997127056121826, 0.999...</td>\n",
       "      <td>[475.27874755859375, 474.3879089355469, 474.94...</td>\n",
       "      <td>[166.03225708007812, 165.92230224609375, 165.9...</td>\n",
       "      <td>[0.9999667406082153, 0.9999630451202393, 0.999...</td>\n",
       "      <td>[487.10791015625, 486.49896240234375, 489.1454...</td>\n",
       "      <td>...</td>\n",
       "      <td>091321</td>\n",
       "      <td>oa1</td>\n",
       "      <td>371.180772</td>\n",
       "      <td>107.287565</td>\n",
       "      <td>166.483216</td>\n",
       "      <td>1.066536</td>\n",
       "      <td>407.259389</td>\n",
       "      <td>NaN</td>\n",
       "      <td>166.483216</td>\n",
       "      <td>1.066536</td>\n",
       "    </tr>\n",
       "    <tr>\n",
       "      <th>153</th>\n",
       "      <td>55194.037568</td>\n",
       "      <td>55198.162649</td>\n",
       "      <td>[55194.040243, 55194.056614, 55194.073241, 551...</td>\n",
       "      <td>[509.8612365722656, 508.243896484375, 508.5342...</td>\n",
       "      <td>[172.01206970214844, 171.96121215820312, 171.1...</td>\n",
       "      <td>[0.992084801197052, 0.9931142330169678, 0.9937...</td>\n",
       "      <td>[477.4706115722656, 476.93353271484375, 476.45...</td>\n",
       "      <td>[170.27842712402344, 169.35110473632812, 168.9...</td>\n",
       "      <td>[0.9993484020233154, 0.999305248260498, 0.9995...</td>\n",
       "      <td>[493.8353576660156, 493.7970275878906, 493.867...</td>\n",
       "      <td>...</td>\n",
       "      <td>091321</td>\n",
       "      <td>oa1</td>\n",
       "      <td>354.672389</td>\n",
       "      <td>96.042172</td>\n",
       "      <td>166.588962</td>\n",
       "      <td>0.712447</td>\n",
       "      <td>395.067408</td>\n",
       "      <td>NaN</td>\n",
       "      <td>166.588962</td>\n",
       "      <td>0.712447</td>\n",
       "    </tr>\n",
       "  </tbody>\n",
       "</table>\n",
       "<p>138 rows × 87 columns</p>\n",
       "</div>"
      ],
      "text/plain": [
       "       first_poke   second_poke  \\\n",
       "1    54546.506483  54550.152524   \n",
       "4    54564.743756  54569.241420   \n",
       "7    54586.446016  54590.591462   \n",
       "8    54590.591462  54593.876736   \n",
       "9    54593.876736  54597.473228   \n",
       "..            ...           ...   \n",
       "147  55156.527744  55160.489011   \n",
       "148  55160.489011  55164.097881   \n",
       "149  55164.097881  55168.300608   \n",
       "151  55173.929177  55178.217523   \n",
       "153  55194.037568  55198.162649   \n",
       "\n",
       "                                      trail_timestamps  \\\n",
       "1    [54546.518745, 54546.535692, 54546.553715, 545...   \n",
       "4    [54564.758054, 54564.775065, 54564.791513, 545...   \n",
       "7    [54586.45111, 54586.46551, 54586.482099, 54586...   \n",
       "8    [54590.600217, 54590.616857, 54590.633548, 545...   \n",
       "9    [54593.884595, 54593.901312, 54593.918489, 545...   \n",
       "..                                                 ...   \n",
       "147  [55156.543872, 55156.560588, 55156.578176, 551...   \n",
       "148  [55160.496064, 55160.511872, 55160.528576, 551...   \n",
       "149  [55164.113433, 55164.129779, 55164.146496, 551...   \n",
       "151  [55173.934553, 55173.949824, 55173.966451, 551...   \n",
       "153  [55194.040243, 55194.056614, 55194.073241, 551...   \n",
       "\n",
       "                                                nose_x  \\\n",
       "1    [508.521240234375, 509.52569580078125, 508.689...   \n",
       "4    [59.28833770751953, 59.00017166137695, 58.8556...   \n",
       "7    [511.7579345703125, 511.9116516113281, 511.713...   \n",
       "8    [59.80289077758789, 59.68534469604492, 59.4665...   \n",
       "9    [509.9363098144531, 509.0841369628906, 508.622...   \n",
       "..                                                 ...   \n",
       "147  [513.6608276367188, 513.762451171875, 514.6018...   \n",
       "148  [58.70176315307617, 58.205718994140625, 58.738...   \n",
       "149  [508.587158203125, 508.2152099609375, 507.9153...   \n",
       "151  [509.5231018066406, 508.37921142578125, 508.80...   \n",
       "153  [509.8612365722656, 508.243896484375, 508.5342...   \n",
       "\n",
       "                                                nose_y  \\\n",
       "1    [170.7389678955078, 170.43377685546875, 170.67...   \n",
       "4    [188.36512756347656, 188.64283752441406, 188.1...   \n",
       "7    [173.29556274414062, 173.1143035888672, 173.72...   \n",
       "8    [190.2515869140625, 189.78466796875, 189.36160...   \n",
       "9    [169.7750701904297, 168.722412109375, 169.4945...   \n",
       "..                                                 ...   \n",
       "147  [177.66246032714844, 176.81979370117188, 176.9...   \n",
       "148  [191.0717315673828, 194.34246826171875, 194.18...   \n",
       "149  [170.9015350341797, 171.18621826171875, 171.11...   \n",
       "151  [170.7725067138672, 169.22940063476562, 170.47...   \n",
       "153  [172.01206970214844, 171.96121215820312, 171.1...   \n",
       "\n",
       "                                       nose_likelihood  \\\n",
       "1    [0.9993851184844971, 0.9990812540054321, 0.998...   \n",
       "4    [0.9957120418548584, 0.9963630437850952, 0.996...   \n",
       "7    [0.999687671661377, 0.9996317625045776, 0.9995...   \n",
       "8    [0.998357892036438, 0.9979526996612549, 0.9980...   \n",
       "9    [0.9968910813331604, 0.9978808164596558, 0.996...   \n",
       "..                                                 ...   \n",
       "147  [0.9994211196899414, 0.9994221329689026, 0.999...   \n",
       "148  [0.9984011054039001, 0.9988560080528259, 0.998...   \n",
       "149  [0.9978893995285034, 0.9947263598442078, 0.995...   \n",
       "151  [0.9997409582138062, 0.9997127056121826, 0.999...   \n",
       "153  [0.992084801197052, 0.9931142330169678, 0.9937...   \n",
       "\n",
       "                                             leftear_x  \\\n",
       "1    [474.169677734375, 476.06878662109375, 476.842...   \n",
       "4    [85.06071472167969, 84.55770874023438, 83.8887...   \n",
       "7    [483.55419921875, 483.4398498535156, 482.38677...   \n",
       "8    [86.35167694091797, 85.71722412109375, 85.6759...   \n",
       "9    [475.6702575683594, 476.22528076171875, 479.06...   \n",
       "..                                                 ...   \n",
       "147  [490.4061584472656, 489.1361999511719, 489.064...   \n",
       "148  [85.49699401855469, 85.13862609863281, 84.6686...   \n",
       "149  [480.00640869140625, 480.9121398925781, 480.50...   \n",
       "151  [475.27874755859375, 474.3879089355469, 474.94...   \n",
       "153  [477.4706115722656, 476.93353271484375, 476.45...   \n",
       "\n",
       "                                             leftear_y  \\\n",
       "1    [168.24232482910156, 167.85397338867188, 167.9...   \n",
       "4    [187.37356567382812, 186.99716186523438, 186.4...   \n",
       "7    [161.46018981933594, 162.52371215820312, 163.2...   \n",
       "8    [188.02645874023438, 187.2926788330078, 187.09...   \n",
       "9    [167.55758666992188, 166.4513702392578, 167.33...   \n",
       "..                                                 ...   \n",
       "147  [159.7598876953125, 158.19239807128906, 155.76...   \n",
       "148  [190.50320434570312, 189.89015197753906, 189.1...   \n",
       "149  [167.2646026611328, 167.60194396972656, 168.22...   \n",
       "151  [166.03225708007812, 165.92230224609375, 165.9...   \n",
       "153  [170.27842712402344, 169.35110473632812, 168.9...   \n",
       "\n",
       "                                    leftear_likelihood  \\\n",
       "1    [0.9998559951782227, 0.9997975826263428, 0.999...   \n",
       "4    [0.9999639987945557, 0.9999659061431885, 0.999...   \n",
       "7    [0.999932050704956, 0.9999192953109741, 0.9999...   \n",
       "8    [0.9998998641967773, 0.9998962879180908, 0.999...   \n",
       "9    [0.9995647668838501, 0.9991363286972046, 0.999...   \n",
       "..                                                 ...   \n",
       "147  [0.9998689293861389, 0.9998749494552612, 0.999...   \n",
       "148  [0.9999640583992004, 0.999977707862854, 0.9999...   \n",
       "149  [0.9995124340057373, 0.9995911121368408, 0.999...   \n",
       "151  [0.9999667406082153, 0.9999630451202393, 0.999...   \n",
       "153  [0.9993484020233154, 0.999305248260498, 0.9995...   \n",
       "\n",
       "                                            rightear_x  ...    date task  \\\n",
       "1    [490.4239501953125, 492.1776123046875, 491.517...  ...  091321  oa1   \n",
       "4    [72.963623046875, 72.91352844238281, 72.787925...  ...  091321  oa1   \n",
       "7    [484.8330078125, 485.1925048828125, 485.040130...  ...  091321  oa1   \n",
       "8    [76.59584045410156, 76.43264770507812, 76.4286...  ...  091321  oa1   \n",
       "9    [494.03546142578125, 493.81072998046875, 493.5...  ...  091321  oa1   \n",
       "..                                                 ...  ...     ...  ...   \n",
       "147  [480.34979248046875, 480.68157958984375, 480.8...  ...  091321  oa1   \n",
       "148  [72.1750259399414, 70.05420684814453, 71.36499...  ...  091321  oa1   \n",
       "149  [493.6488342285156, 494.1540832519531, 494.024...  ...  091321  oa1   \n",
       "151  [487.10791015625, 486.49896240234375, 489.1454...  ...  091321  oa1   \n",
       "153  [493.8353576660156, 493.7970275878906, 493.867...  ...  091321  oa1   \n",
       "\n",
       "    bobstacle_x bobstacle_x_std bobstacle_y bobstacle_y_std wobstacle_x  \\\n",
       "1    343.543568      134.367565  150.684086        0.402770  273.825936   \n",
       "4    410.765950      102.406574  150.720349        0.793191  273.178340   \n",
       "7    347.361316      141.147037  150.529365        0.795923  273.857713   \n",
       "8    401.752251      108.720952  150.606633        0.686396  273.066621   \n",
       "9    385.493108      105.790545  150.518366        0.542638  273.747453   \n",
       "..          ...             ...         ...             ...         ...   \n",
       "147  254.246621      173.584315  166.050044        0.719219  364.447144   \n",
       "148  361.247844      120.318230  166.663518        0.476089  364.464315   \n",
       "149  361.816827       98.140279  166.428782        0.794485  396.230323   \n",
       "151  371.180772      107.287565  166.483216        1.066536  407.259389   \n",
       "153  354.672389       96.042172  166.588962        0.712447  395.067408   \n",
       "\n",
       "    wobstacle_x_std wobstacle_y wobstacle_y_std  \n",
       "1               NaN  150.684086        0.402770  \n",
       "4               NaN  150.720349        0.793191  \n",
       "7               NaN  150.529365        0.795923  \n",
       "8               NaN  150.606633        0.686396  \n",
       "9               NaN  150.518366        0.542638  \n",
       "..              ...         ...             ...  \n",
       "147             NaN  166.050044        0.719219  \n",
       "148             NaN  166.663518        0.476089  \n",
       "149             NaN  166.428782        0.794485  \n",
       "151             NaN  166.483216        1.066536  \n",
       "153             NaN  166.588962        0.712447  \n",
       "\n",
       "[138 rows x 87 columns]"
      ]
     },
     "execution_count": 14,
     "metadata": {},
     "output_type": "execute_result"
    }
   ],
   "source": [
    "df1 = df1[df1['len']<300]\n",
    "df1"
   ]
  },
  {
   "cell_type": "code",
   "execution_count": 16,
   "metadata": {},
   "outputs": [
    {
     "data": {
      "text/plain": [
       "array([[267.2178109 , 266.41645196, 267.29427339, 266.2923218 ,\n",
       "        267.12299852, 266.25983457, 267.05885187, 266.24983329,\n",
       "        267.17520614, 266.15362126, 267.1115617 , 266.04221032,\n",
       "        267.21508037, 266.5388077 , 267.09473308, 266.0818819 ,\n",
       "        267.19409252, 266.19340415, 267.15411513, 266.31647352,\n",
       "        267.06817141, 266.4559773 , 267.04723649, 266.19007231,\n",
       "        267.1274689 , 266.36713518, 267.10234348, 266.39508993,\n",
       "        267.28925594, 266.46427788, 266.98756799, 266.28205876,\n",
       "        267.07782183, 266.30282785, 267.12074908, 266.37505664,\n",
       "        267.0901317 , 266.3627492 , 267.09501851, 266.17348948,\n",
       "        267.08838139, 266.04658666, 267.81847151, 267.46518399,\n",
       "        267.06544445, 266.28859046, 267.09500319, 266.292432  ,\n",
       "        267.06576506, 266.13241466, 267.06192479, 266.65819085,\n",
       "        267.12326465, 266.04866206, 160.67072358, 161.81397955,\n",
       "        160.1066429 , 161.15636444, 160.3585213 , 162.20473767,\n",
       "        160.26352506, 160.54606314, 159.8440965 , 160.58141303,\n",
       "        160.36918398, 161.98717071, 160.13685934, 160.70264257,\n",
       "        160.32592091, 160.52231424, 160.42061477, 160.79607288,\n",
       "        160.39180228, 162.67456109, 160.45416167, 161.10588689,\n",
       "        160.20996327, 162.06825635, 160.1084367 , 160.57474943,\n",
       "        160.43888557, 161.96062389, 160.2967594 , 161.05656274,\n",
       "        159.72450869, 161.5618807 , 160.13156247, 162.41770283,\n",
       "        162.44269658, 160.64078338, 162.03048395, 160.56540389,\n",
       "        162.08420545, 160.62260043, 160.6110029 , 163.02814477,\n",
       "        160.43816978, 161.63882339, 159.93227441, 161.09046891,\n",
       "        160.1546684 , 161.68841083, 159.71746667, 162.04102212,\n",
       "        160.02633575, 160.96746428, 160.29200148, 161.20209427,\n",
       "        159.65349562, 163.0194738 , 159.81245095, 161.97154961,\n",
       "        159.67157337, 357.46526194, 357.54331682, 357.89716525,\n",
       "        357.50173081, 356.80931052, 357.73022574, 356.93297395,\n",
       "        357.65118529, 357.8291175 , 357.54565133, 357.98968542,\n",
       "        357.67984629, 357.36931828, 357.6658016 , 356.91769174,\n",
       "        357.65501752, 357.08311646, 357.65874561, 356.44652548,\n",
       "        357.45581718, 357.71718002, 357.68657894, 356.04653869,\n",
       "        357.55607507, 356.68186815],\n",
       "       [150.68408573, 150.72034883, 150.52936502, 150.60663348,\n",
       "        150.51836611, 150.75829457, 150.61327237, 150.73620395,\n",
       "        150.57247884, 150.50329863, 150.50704365, 150.69622309,\n",
       "        150.74303119, 150.96709293, 150.52534915, 151.12662837,\n",
       "        150.68621777, 150.58722606, 150.61540416, 150.9858221 ,\n",
       "        150.54121401, 150.97958933, 150.54579313, 151.09374938,\n",
       "        150.51809336, 150.92684607, 150.48393529, 150.61070707,\n",
       "        150.54240712, 150.83026196, 150.52956483, 151.0847178 ,\n",
       "        150.41059304, 150.96483406, 150.46855492, 150.85503856,\n",
       "        150.42670792, 151.03518529, 150.60911491, 150.74477835,\n",
       "        150.69077384, 150.98393848, 150.26962441, 150.35158853,\n",
       "        150.54792853, 151.02284798, 150.44549118, 150.90891475,\n",
       "        150.52912129, 150.98282319, 150.45516348, 150.87081088,\n",
       "        150.79206141, 151.09710105, 171.06074766, 166.28937187,\n",
       "        171.02453797, 168.50870969, 170.30808462, 166.2488076 ,\n",
       "        170.82204388, 171.40029132, 171.50841022, 170.81212362,\n",
       "        170.23854626, 166.53403864, 170.9125774 , 171.40628999,\n",
       "        170.49233824, 171.09182638, 170.14999375, 170.96713342,\n",
       "        170.99942115, 166.59219713, 170.19550967, 168.29351309,\n",
       "        171.30512637, 166.55799025, 170.80263647, 170.63247377,\n",
       "        169.94348214, 166.61166697, 170.33766015, 169.2698423 ,\n",
       "        171.31752795, 167.20240836, 170.55006749, 165.05241103,\n",
       "        166.63039695, 170.1761005 , 165.8980766 , 170.14229207,\n",
       "        166.35886989, 170.22327898, 171.42341726, 165.81733722,\n",
       "        170.46816876, 166.79055552, 170.88348062, 168.40673234,\n",
       "        170.74480926, 166.36672392, 171.70599137, 166.25379136,\n",
       "        171.0708514 , 170.97491004, 170.4783882 , 167.54197664,\n",
       "        171.84450153, 164.56648939, 171.69386053, 166.15027967,\n",
       "        171.9008966 , 167.02528859, 166.6115806 , 166.45107966,\n",
       "        166.55702969, 167.08949899, 166.69997075, 166.74343803,\n",
       "        166.38902515, 166.74918716, 166.55732655, 166.53884341,\n",
       "        166.78787792, 167.23144906, 166.81869908, 166.89079179,\n",
       "        166.69114213, 167.1105796 , 166.73219851, 166.64856497,\n",
       "        166.38678197, 166.05004373, 166.66351798, 166.42878176,\n",
       "        166.4832157 , 166.58896203]])"
      ]
     },
     "execution_count": 16,
     "metadata": {},
     "output_type": "execute_result"
    }
   ],
   "source": [
    "kmeans_input = np.stack([df1['wobstacle_x'].map(np.mean), df1['wobstacle_y'].map(np.mean)])\n",
    "kmeans_input"
   ]
  },
  {
   "cell_type": "code",
   "execution_count": 17,
   "metadata": {},
   "outputs": [],
   "source": [
    "from sklearn.cluster import KMeans"
   ]
  },
  {
   "cell_type": "code",
   "execution_count": 18,
   "metadata": {},
   "outputs": [],
   "source": [
    "labels = KMeans(n_clusters=3, random_state=0).fit(kmeans_input.T).labels_"
   ]
  },
  {
   "cell_type": "code",
   "execution_count": 19,
   "metadata": {},
   "outputs": [
    {
     "name": "stderr",
     "output_type": "stream",
     "text": [
      "/home/niell_lab/anaconda3/envs/DLC-GPU1/lib/python3.8/site-packages/pandas/core/frame.py:3607: SettingWithCopyWarning: \n",
      "A value is trying to be set on a copy of a slice from a DataFrame.\n",
      "Try using .loc[row_indexer,col_indexer] = value instead\n",
      "\n",
      "See the caveats in the documentation: https://pandas.pydata.org/pandas-docs/stable/user_guide/indexing.html#returning-a-view-versus-a-copy\n",
      "  self._set_item(key, value)\n"
     ]
    }
   ],
   "source": [
    "df1['obstacle_cluster'] = labels"
   ]
  },
  {
   "cell_type": "code",
   "execution_count": 20,
   "metadata": {},
   "outputs": [],
   "source": [
    "import matplotlib.colors as mcolors"
   ]
  },
  {
   "cell_type": "code",
   "execution_count": 21,
   "metadata": {},
   "outputs": [
    {
     "data": {
      "image/png": "[encoded data removed]",
      "text/plain": [
       "<Figure size 432x288 with 1 Axes>"
      ]
     },
     "metadata": {
      "needs_background": "light"
     },
     "output_type": "display_data"
    }
   ],
   "source": [
    "# plt.subplots(3,3,figsize=(9,9))\n",
    "for i in range(len(labels)):\n",
    "    label = labels[i]\n",
    "    c = list(mcolors.TABLEAU_COLORS)[label]\n",
    "    obstacles = kmeans_input[:,i]\n",
    "#     plt.subplot(3,3,label+1)\n",
    "    plt.plot(obstacles[0],obstacles[1],'*',color=c)\n",
    "    plt.ylim([0,356]); plt.xlim([0,592])"
   ]
  },
  {
   "cell_type": "code",
   "execution_count": 193,
   "metadata": {},
   "outputs": [
    {
     "name": "stdout",
     "output_type": "stream",
     "text": [
      "0 59\n",
      "1 65\n",
      "2 31\n"
     ]
    }
   ],
   "source": [
    "for l in range(3):\n",
    "    print(l, list(labels.flatten()).count(l))"
   ]
  },
  {
   "cell_type": "code",
   "execution_count": null,
   "metadata": {},
   "outputs": [],
   "source": []
  },
  {
   "cell_type": "code",
   "execution_count": 56,
   "metadata": {},
   "outputs": [
    {
     "name": "stderr",
     "output_type": "stream",
     "text": [
      "100%|█████████████████████████████████████████████| 9/9 [00:00<00:00, 25.66it/s]\n"
     ]
    },
    {
     "data": {
      "image/png": "[encoded data removed]",
      "text/plain": [
       "<Figure size 648x432 with 9 Axes>"
      ]
     },
     "metadata": {
      "needs_background": "light"
     },
     "output_type": "display_data"
    },
    {
     "name": "stderr",
     "output_type": "stream",
     "text": [
      "100%|█████████████████████████████████████████████| 9/9 [00:00<00:00, 19.56it/s]\n"
     ]
    },
    {
     "data": {
      "image/png": "[encoded data removed]",
      "text/plain": [
       "<Figure size 648x432 with 9 Axes>"
      ]
     },
     "metadata": {
      "needs_background": "light"
     },
     "output_type": "display_data"
    }
   ],
   "source": [
    "odd = df1[df1.index%2==0]\n",
    "even = df1[df1.index%2==1]\n",
    "direction_count = 0\n",
    "for direction_df in [odd, even]:\n",
    "    if direction_count == 0:\n",
    "        leftcolor='g'; rightcolor='b'\n",
    "    else:\n",
    "        leftcolor='b'; rightcolor='g'\n",
    "    plt.subplots(3,3,figsize=(9,6))\n",
    "    for c in tqdm(range(9)):\n",
    "        this_cluster = direction_df[direction_df['obstacle_cluster']==c].copy().reset_index()\n",
    "        plt.subplot(3,3,c+1)\n",
    "        plt.gca().set_aspect('equal', adjustable='box')\n",
    "        colors = plt.cm.magma(np.linspace(0,1,len(this_cluster)))\n",
    "        for ind, row in this_cluster.iterrows():\n",
    "            plt.plot([np.median(row['obstaclewTL_x'],0),\n",
    "                      np.median(row['obstaclewTR_x'],0),\n",
    "                      np.median(row['obstaclewBR_x'],0),\n",
    "                      np.median(row['obstaclewBL_x'],0),\n",
    "                      np.median(row['obstaclewTL_x'],0)],\n",
    "                     [np.median(row['obstaclewTL_y'],0),\n",
    "                      np.median(row['obstaclewTR_y'],0),\n",
    "                      np.median(row['obstaclewBR_y'],0),\n",
    "                      np.median(row['obstaclewBL_y'],0),\n",
    "                      np.median(row['obstaclewTL_y'],0)],'k-')\n",
    "            plt.plot([np.median(row['arenaTL_x'],0),\n",
    "                        np.median(row['arenaTR_x'],0),\n",
    "                        np.median(row['arenaBR_x'],0),\n",
    "                        np.median(row['arenaBL_x'],0),\n",
    "                        np.median(row['arenaTL_x'],0)],\n",
    "                        [np.median(row['arenaTL_y'],0),\n",
    "                        np.median(row['arenaTR_y'],0),\n",
    "                        np.median(row['arenaBR_y'],0),\n",
    "                        np.median(row['arenaBL_y'],0),\n",
    "                        np.median(row['arenaTL_y'],0)],'k-')\n",
    "            plt.plot(row['nose_x'],row['nose_y'], '-', color=colors[ind])\n",
    "            plt.plot(row['leftportT_x'], row['leftportT_y'],'.',color=leftcolor)\n",
    "            plt.plot(row['rightportT_x'], row['rightportT_y'],'.',color=rightcolor)\n",
    "        plt.ylim([356,0]); plt.xlim([0,592])\n",
    "    direction_count += 1\n",
    "    plt.tight_layout()\n",
    "    plt.show()"
   ]
  },
  {
   "cell_type": "code",
   "execution_count": 65,
   "metadata": {},
   "outputs": [
    {
     "data": {
      "text/plain": [
       "[509.8612365722656,\n",
       " 508.243896484375,\n",
       " 508.5342712402344,\n",
       " 510.3333435058594,\n",
       " 510.45745849609375,\n",
       " 510.48175048828125,\n",
       " 509.9639892578125,\n",
       " 509.9219970703125,\n",
       " nan,\n",
       " nan,\n",
       " nan,\n",
       " 509.0012512207031,\n",
       " 509.7183837890625,\n",
       " 509.96624755859375,\n",
       " nan,\n",
       " 508.3998718261719,\n",
       " 508.5962219238281,\n",
       " 507.95654296875,\n",
       " 508.26312255859375,\n",
       " nan,\n",
       " nan,\n",
       " nan,\n",
       " nan,\n",
       " 508.2222900390625,\n",
       " nan,\n",
       " nan,\n",
       " nan,\n",
       " nan,\n",
       " nan,\n",
       " 509.8148498535156,\n",
       " 509.9554138183594,\n",
       " nan,\n",
       " nan,\n",
       " nan,\n",
       " nan,\n",
       " nan,\n",
       " nan,\n",
       " nan,\n",
       " 509.322021484375,\n",
       " nan,\n",
       " nan,\n",
       " nan,\n",
       " 510.08343505859375,\n",
       " 510.41204833984375,\n",
       " 510.1670227050781,\n",
       " nan,\n",
       " nan,\n",
       " nan,\n",
       " nan,\n",
       " nan,\n",
       " 509.6179504394531,\n",
       " nan,\n",
       " 510.2076721191406,\n",
       " nan,\n",
       " nan,\n",
       " nan,\n",
       " 510.06585693359375,\n",
       " 510.07159423828125,\n",
       " nan,\n",
       " nan,\n",
       " nan,\n",
       " nan,\n",
       " nan,\n",
       " nan,\n",
       " nan,\n",
       " nan,\n",
       " nan,\n",
       " nan,\n",
       " 510.34771728515625,\n",
       " 510.42010498046875,\n",
       " 510.48309326171875,\n",
       " nan,\n",
       " nan,\n",
       " 510.5665588378906,\n",
       " nan,\n",
       " nan,\n",
       " nan,\n",
       " nan,\n",
       " nan,\n",
       " nan,\n",
       " nan,\n",
       " 509.68359375,\n",
       " nan,\n",
       " nan,\n",
       " nan,\n",
       " nan,\n",
       " nan,\n",
       " 509.31781005859375,\n",
       " 509.33331298828125,\n",
       " 510.2138977050781,\n",
       " nan,\n",
       " 510.2091064453125,\n",
       " 510.553955078125,\n",
       " 510.27838134765625,\n",
       " 510.2127380371094,\n",
       " 510.6375427246094,\n",
       " 510.6526184082031,\n",
       " 510.68048095703125,\n",
       " 510.7757568359375,\n",
       " 510.36114501953125,\n",
       " 510.7064208984375,\n",
       " 510.77801513671875,\n",
       " 510.2223205566406,\n",
       " 510.5146484375,\n",
       " 510.26043701171875,\n",
       " 509.5218200683594,\n",
       " 507.7770080566406,\n",
       " 507.11492919921875,\n",
       " 505.3901062011719,\n",
       " nan,\n",
       " 486.50445556640625,\n",
       " 478.0622253417969,\n",
       " 472.6732482910156,\n",
       " 465.5830383300781,\n",
       " 458.9231872558594,\n",
       " 452.7226257324219,\n",
       " 444.9457702636719,\n",
       " 440.0454406738281,\n",
       " 435.83612060546875,\n",
       " 431.6427917480469,\n",
       " 428.00640869140625,\n",
       " 424.3330078125,\n",
       " 422.0693359375,\n",
       " 421.8841552734375,\n",
       " 421.4331970214844,\n",
       " 419.9604797363281,\n",
       " 417.56683349609375,\n",
       " 414.0232849121094,\n",
       " 412.0484313964844,\n",
       " 408.4104919433594,\n",
       " 404.3408203125,\n",
       " 399.3963623046875,\n",
       " 398.0227966308594,\n",
       " 393.0408935546875,\n",
       " nan,\n",
       " nan,\n",
       " nan,\n",
       " nan,\n",
       " nan,\n",
       " nan,\n",
       " nan,\n",
       " nan,\n",
       " nan,\n",
       " nan,\n",
       " nan,\n",
       " nan,\n",
       " nan,\n",
       " nan,\n",
       " nan,\n",
       " nan,\n",
       " nan,\n",
       " nan,\n",
       " nan,\n",
       " nan,\n",
       " nan,\n",
       " 355.357177734375,\n",
       " 348.1111755371094,\n",
       " 337.1965026855469,\n",
       " 329.38128662109375,\n",
       " 322.1076354980469,\n",
       " 314.55645751953125,\n",
       " 311.0765075683594,\n",
       " 306.4355773925781,\n",
       " 302.9642639160156,\n",
       " 299.529052734375,\n",
       " 297.1446533203125,\n",
       " 295.637451171875,\n",
       " 294.69818115234375,\n",
       " 294.8609313964844,\n",
       " 294.2301330566406,\n",
       " 293.5416259765625,\n",
       " 294.42877197265625,\n",
       " 295.2415466308594,\n",
       " 295.02801513671875,\n",
       " 295.9565124511719,\n",
       " 295.74835205078125,\n",
       " 297.7185974121094,\n",
       " 298.5987243652344,\n",
       " 300.8199768066406,\n",
       " 304.4182434082031,\n",
       " 308.66107177734375,\n",
       " 310.3175048828125,\n",
       " 312.54736328125,\n",
       " 316.210205078125,\n",
       " 317.6690673828125,\n",
       " 319.2936096191406,\n",
       " 320.176513671875,\n",
       " 322.7446594238281,\n",
       " 323.57806396484375,\n",
       " 320.7449645996094,\n",
       " 321.0162353515625,\n",
       " 319.6988830566406,\n",
       " 317.5174560546875,\n",
       " 314.4649353027344,\n",
       " 313.8107604980469,\n",
       " 311.2206115722656,\n",
       " 311.4320373535156,\n",
       " 310.6625671386719,\n",
       " 310.4950866699219,\n",
       " 309.80255126953125,\n",
       " 308.89129638671875,\n",
       " 308.9432373046875,\n",
       " 308.8319396972656,\n",
       " 306.5583801269531,\n",
       " 306.5215759277344,\n",
       " 306.1671447753906,\n",
       " 306.8856201171875,\n",
       " 307.6012268066406,\n",
       " 305.5440979003906,\n",
       " 303.20672607421875,\n",
       " 300.3106384277344,\n",
       " 298.70379638671875,\n",
       " 295.9192810058594,\n",
       " 291.6202697753906,\n",
       " 282.047119140625,\n",
       " 270.6892395019531,\n",
       " 258.0779113769531,\n",
       " 245.14268493652344,\n",
       " 234.718505859375,\n",
       " 225.38223266601562,\n",
       " 213.67218017578125,\n",
       " 204.18247985839844,\n",
       " 195.74087524414062,\n",
       " 185.61473083496094,\n",
       " 176.27076721191406,\n",
       " 166.78225708007812,\n",
       " 158.9563751220703,\n",
       " 148.39141845703125,\n",
       " 139.05296325683594,\n",
       " 128.91534423828125,\n",
       " 120.15962219238281,\n",
       " 113.37098693847656,\n",
       " 104.35114288330078,\n",
       " 93.23536682128906,\n",
       " 83.59564971923828,\n",
       " 73.4218978881836,\n",
       " 69.517578125,\n",
       " nan,\n",
       " nan,\n",
       " nan,\n",
       " nan,\n",
       " 58.59224319458008,\n",
       " 58.32818603515625,\n",
       " 58.46333694458008,\n",
       " 61.229854583740234,\n",
       " 62.130313873291016,\n",
       " 60.834102630615234,\n",
       " 61.18436813354492]"
      ]
     },
     "execution_count": 65,
     "metadata": {},
     "output_type": "execute_result"
    }
   ],
   "source": [
    "row['nose_x'].tolist()"
   ]
  },
  {
   "cell_type": "code",
   "execution_count": 2,
   "metadata": {},
   "outputs": [],
   "source": [
    "import json\n",
    "with open('/home/niell_lab/data/object_avoidance/recordings/oa_metadata.json') as f:    \n",
    "    metadata = json.load(f)"
   ]
  },
  {
   "cell_type": "code",
   "execution_count": 5,
   "metadata": {},
   "outputs": [
    {
     "data": {
      "text/plain": [
       "['090121', '090221', '090321', '090621', '090721', '090821', '091321']"
      ]
     },
     "execution_count": 5,
     "metadata": {},
     "output_type": "execute_result"
    }
   ],
   "source": [
    "list(metadata['recordings'].keys())"
   ]
  },
  {
   "cell_type": "code",
   "execution_count": 6,
   "metadata": {},
   "outputs": [
    {
     "data": {
      "text/plain": [
       "9"
      ]
     },
     "execution_count": 6,
     "metadata": {},
     "output_type": "execute_result"
    }
   ],
   "source": [
    "metadata['recordings']['090221']"
   ]
  },
  {
   "cell_type": "code",
   "execution_count": null,
   "metadata": {},
   "outputs": [],
   "source": []
  }
 ],
 "metadata": {
  "kernelspec": {
   "display_name": "DLC-GPU1",
   "language": "python",
   "name": "dlc-gpu1"
  },
  "language_info": {
   "codemirror_mode": {
    "name": "ipython",
    "version": 3
   },
   "file_extension": ".py",
   "mimetype": "text/x-python",
   "name": "python",
   "nbconvert_exporter": "python",
   "pygments_lexer": "ipython3",
   "version": "3.8.5"
  }
 },
 "nbformat": 4,
 "nbformat_minor": 4
}
