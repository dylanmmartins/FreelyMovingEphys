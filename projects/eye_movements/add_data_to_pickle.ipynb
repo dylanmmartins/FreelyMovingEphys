{
 "cells": [
  {
   "cell_type": "code",
   "execution_count": 1,
   "id": "13cffa5e-d963-479a-b717-ea22565c1ac3",
   "metadata": {},
   "outputs": [],
   "source": [
    "import os, sys, json, pickle\n",
    "sys.path.insert(0, '/home/niell_lab/Documents/GitHub/FreelyMovingEphys/')\n",
    "import numpy as np\n",
    "import pandas as pd\n",
    "from scipy.interpolate import interp1d\n",
    "from scipy.stats import linregress\n",
    "import matplotlib.pyplot as plt\n",
    "from tqdm import tqdm\n",
    "from sklearn.neighbors import KernelDensity\n",
    "from src.utils.path import list_subdirs, find\n",
    "# from projects.ephys.addtl_headfixed import AddtlHF\n",
    "from src.utils.auxiliary import flatten_series\n",
    "from sklearn.cluster import KMeans\n",
    "from sklearn.decomposition import PCA\n",
    "from scipy.signal import find_peaks"
   ]
  },
  {
   "cell_type": "code",
   "execution_count": 2,
   "id": "b1d34cd6-ffd8-4cc9-973b-dbf4b2ad0944",
   "metadata": {},
   "outputs": [],
   "source": [
    "plasma_map = plt.cm.plasma(np.linspace(0,1,15))\n",
    "cat_cmap = {\n",
    "    'movement': plasma_map[12,:],\n",
    "    'early': plasma_map[10,:],\n",
    "    'late': plasma_map[8,:],\n",
    "    'biphasic': plasma_map[5,:],\n",
    "    'negative': plasma_map[2,:],\n",
    "    'unresponsive': 'dimgrey'\n",
    "}\n",
    "colors = {\n",
    "    'gaze': 'firebrick',\n",
    "    'comp': 'mediumblue',\n",
    "    'rc': 'indigo'\n",
    "}"
   ]
  },
  {
   "cell_type": "markdown",
   "id": "04db80b0-1efb-427c-b057-55c73e50785c",
   "metadata": {},
   "source": [
    "# Set paths"
   ]
  },
  {
   "cell_type": "code",
   "execution_count": null,
   "id": "5b3d9b68-e386-4b1d-adfe-169305b09884",
   "metadata": {},
   "outputs": [],
   "source": [
    "probe = 'DB_P128-D'\n",
    "new_dir = '/home/niell_lab/Data/freely_moving_ephys/ephys_recordings/032122/J599LT' # new animal directory\n",
    "existing_pickle = '/home/niell_lab/Data/freely_moving_ephys/batch_files/051322/ltdk_051322.pickle'"
   ]
  },
  {
   "cell_type": "markdown",
   "id": "0d127bcd-33ed-434b-adef-4f7a7c2068dc",
   "metadata": {},
   "source": [
    "# Create session dataframe"
   ]
  },
  {
   "cell_type": "code",
   "execution_count": null,
   "id": "48a35f13-f74c-4d54-9a52-979f4bab253f",
   "metadata": {},
   "outputs": [],
   "source": [
    "subdirs = list_subdirs(new_dir, givepath=True)\n",
    "usable_recordings = ['fm1','fm1_dark','fm_dark','hf1_wn','hf2_sparsenoiseflash','hf3_gratings','hf4_revchecker']\n",
    "subdirs = [p for p in subdirs if any(s in p for s in usable_recordings)]\n",
    "print(subdirs)"
   ]
  },
  {
   "cell_type": "code",
   "execution_count": null,
   "id": "6356d8b6-006c-4528-97ef-a5877cb9bfad",
   "metadata": {},
   "outputs": [],
   "source": [
    "df = pd.DataFrame([])\n",
    "for path in subdirs:\n",
    "    ephys_path = find('*_ephys_props.h5',path)[0]\n",
    "    print(ephys_path)\n",
    "    rec_data = pd.read_hdf(ephys_path)\n",
    "    rec_type = '_'.join(([col for col in rec_data.columns.values if 'contrast_tuning_bins' in col][0]).split('_')[:-3])\n",
    "    rec_data = rec_data.rename(columns={'spikeT':rec_type+'_spikeT',\n",
    "                                        'spikeTraw':rec_type+'_spikeTraw',\n",
    "                                        'rate':rec_type+'_rate',\n",
    "                                        'n_spikes':rec_type+'_n_spikes'})\n",
    "    # get column names\n",
    "    column_names = list(df.columns.values) + list(rec_data.columns.values)\n",
    "    # new columns for same unit within a session\n",
    "    df = pd.concat([df, rec_data],axis=1,ignore_index=True)\n",
    "    # add the list of column names from all sessions plus the current recording\n",
    "    df.columns = column_names\n",
    "    # remove duplicate columns (i.e. shared metadata)\n",
    "    df = df.loc[:,~df.columns.duplicated()]"
   ]
  },
  {
   "cell_type": "code",
   "execution_count": null,
   "id": "9fb812ff-9226-421f-894e-1a3a8ef72e3a",
   "metadata": {},
   "outputs": [],
   "source": [
    "ellipse_json_path = find('*fm_eyecameracalc_props.json', new_dir)[0]\n",
    "print(ellipse_json_path)\n",
    "with open(ellipse_json_path) as f:\n",
    "    ellipse_fit_params = json.load(f)\n",
    "df['best_ellipse_fit_m'] = ellipse_fit_params['regression_m']\n",
    "df['best_ellipse_fit_r'] = ellipse_fit_params['regression_r']\n",
    "\n",
    "df['original_session_path'] = new_dir\n",
    "df['probe_name'] = probe\n",
    "\n",
    "df['index'] = df.index.values\n",
    "df.reset_index(inplace=True)"
   ]
  },
  {
   "cell_type": "markdown",
   "id": "99de83dd-3103-4661-afc4-563d48f4fd11",
   "metadata": {},
   "source": [
    "# Fix gratings spatial frequencies"
   ]
  },
  {
   "cell_type": "code",
   "execution_count": null,
   "id": "0331babc-ab3d-4083-b335-87607bb96f9d",
   "metadata": {},
   "outputs": [],
   "source": [
    "for ind, row in df.iterrows():\n",
    "    tuning = row['Gt_ori_tuning_tf'].copy().astype(float)\n",
    "    new_tuning = np.roll(tuning, 1, axis=1)\n",
    "    df.at[ind, 'Gt_ori_tuning_tf'] = new_tuning.astype(object)"
   ]
  },
  {
   "cell_type": "markdown",
   "id": "6905b4d4-287c-44e7-babf-c3fef252c922",
   "metadata": {},
   "source": [
    "# Recalculate eye movement PSTH"
   ]
  },
  {
   "cell_type": "code",
   "execution_count": null,
   "id": "a24bb398-97bc-4ef4-9944-43d24b8d20d7",
   "metadata": {},
   "outputs": [],
   "source": [
    "def calc_kde_sdf(spikeT, eventT, bandwidth=10, resample_size=1, edgedrop=15, win=1000):\n",
    "    \"\"\"\n",
    "    bandwidth (in msec)\n",
    "    resample_size (msec)\n",
    "    edgedrop (msec to drop at the start and end of the window so eliminate artifacts of filtering)\n",
    "    win = 1000msec before and after\n",
    "    \"\"\"\n",
    "    # some conversions\n",
    "    bandwidth = bandwidth/1000 # msec to sec\n",
    "    resample_size = resample_size/1000 # msec to sec\n",
    "    win = win/1000 # msec to sec\n",
    "    edgedrop = edgedrop/1000\n",
    "    edgedrop_ind = int(edgedrop/resample_size)\n",
    "\n",
    "    # setup time bins\n",
    "    bins = np.arange(-win-edgedrop, win+edgedrop+resample_size, resample_size)\n",
    "\n",
    "    # get timestamp of spikes relative to events in eventT\n",
    "    sps = []\n",
    "    for i, t in enumerate(eventT):\n",
    "        sp = spikeT-t\n",
    "        sp = sp[(sp <= (win+edgedrop)) & (sp >= (-win-edgedrop))] # only keep spikes in this window\n",
    "        sps.extend(sp)\n",
    "    sps = np.array(sps) # all values in here are between -1 and 1\n",
    "\n",
    "    # kernel density estimation\n",
    "    kernel = KernelDensity(kernel='gaussian', bandwidth=bandwidth).fit(sps[:,np.newaxis])\n",
    "    density = kernel.score_samples(bins[:,np.newaxis])\n",
    "    sdf = np.exp(density)*(np.size(sps)/np.size(eventT)) # convert back to spike rate\n",
    "    sdf = sdf[edgedrop_ind:-edgedrop_ind]\n",
    "\n",
    "    return sdf\n",
    "\n",
    "def apply_win_to_comp_sacc(comp, gazeshift, win=0.25):\n",
    "    bad_comp = np.array([c for c in comp for g in gazeshift if ((g>(c-win)) & (g<(c+win)))])\n",
    "    comp_times = np.delete(comp, np.isin(comp, bad_comp))\n",
    "    return comp_times"
   ]
  },
  {
   "cell_type": "code",
   "execution_count": null,
   "id": "93285d32-9f2d-4f99-87d4-1bc4988bf4ec",
   "metadata": {},
   "outputs": [],
   "source": [
    "stims = ['FmLt', 'FmDk'] # 'FmDk'\n",
    "\n",
    "saccthresh = { # deg/sec\n",
    "    'head_moved': 60,\n",
    "    'gaze_stationary': 120,\n",
    "    'gaze_moved': 240\n",
    "}\n",
    "\n",
    "for stim in stims:\n",
    "    print('calculating movement times')\n",
    "    dHead = df[stim+'_dHead'].iloc[0]\n",
    "    dGaze = df[stim+'_dGaze'].iloc[0]\n",
    "    eyeT = df[stim+'_eyeT'].iloc[0][:-1]\n",
    "\n",
    "    gazeL = eyeT[(dHead > saccthresh['head_moved']) & (dGaze > saccthresh['gaze_moved'])]\n",
    "    gazeR = eyeT[(dHead < -saccthresh['head_moved']) & (dGaze < -saccthresh['gaze_moved'])]\n",
    "\n",
    "    compL = eyeT[(dHead > saccthresh['head_moved']) & (dGaze < saccthresh['gaze_stationary']) & (dGaze > -saccthresh['gaze_stationary'])]\n",
    "    compR = eyeT[(dHead < -saccthresh['head_moved']) & (dGaze > -saccthresh['gaze_stationary']) & (dGaze < saccthresh['gaze_stationary'])]\n",
    "\n",
    "    compL = apply_win_to_comp_sacc(compL, gazeL)\n",
    "    compR = apply_win_to_comp_sacc(compR, gazeR)\n",
    "\n",
    "    # SDFs\n",
    "    for ind in tqdm(df.index.values):\n",
    "        spikeT = df.loc[ind,stim+'_spikeT']\n",
    "\n",
    "        movements = [gazeL, gazeR, compL, compR]\n",
    "        movkeys = [stim+'_gazeshift_left_saccPSTH_dHead',\n",
    "                stim+'_gazeshift_right_saccPSTH_dHead',\n",
    "                stim+'_comp_left_saccPSTH_dHead',\n",
    "                stim+'_comp_right_saccPSTH_dHead']\n",
    "        timekeys = [stim+'_gazeshift_left_saccTimes_dHead',\n",
    "                stim+'_gazeshift_right_saccTimes_dHead',\n",
    "                stim+'_comp_left_saccTimes_dHead',\n",
    "                stim+'_comp_right_saccTimes_dHead']\n",
    "        for x in range(4):\n",
    "            movkey = movkeys[x]\n",
    "            timekey = timekeys[x]\n",
    "            eventT = movements[x]\n",
    "\n",
    "            # save the spike density function\n",
    "            sdf = calc_kde_sdf(spikeT, eventT)\n",
    "            df.at[ind, movkey] = sdf.astype(object)\n",
    "\n",
    "            # save the saccade times\n",
    "            df.at[ind, timekey] = eventT.astype(object)"
   ]
  },
  {
   "cell_type": "code",
   "execution_count": null,
   "id": "9240dd31-23be-4f40-80c2-a6652622a308",
   "metadata": {},
   "outputs": [],
   "source": [
    "df.to_hdf('/home/niell_lab/Desktop/temp_df_032122.h5', 'w')"
   ]
  },
  {
   "cell_type": "code",
   "execution_count": null,
   "id": "0a4cca8d-119f-45ae-b02e-4fdb44e3b319",
   "metadata": {},
   "outputs": [],
   "source": [
    "df = pd.read_hdf('/home/niell_lab/Desktop/temp_df_032122.h5')"
   ]
  },
  {
   "cell_type": "markdown",
   "id": "173a6a90-d56b-4891-bd03-7d02e24f50aa",
   "metadata": {},
   "source": [
    "# Head-fixed checkerboard and sparse noise"
   ]
  },
  {
   "cell_type": "markdown",
   "id": "fed83498-af4e-4854-be1b-a8e5bb664fb0",
   "metadata": {},
   "source": [
    "## Calculate"
   ]
  },
  {
   "cell_type": "code",
   "execution_count": null,
   "id": "c76342f3-0363-4c2d-9d31-619012903ece",
   "metadata": {},
   "outputs": [],
   "source": [
    "ahf = AddtlHF(new_dir)\n",
    "print('Sparse noise')\n",
    "ahf.calc_Sn_psth()\n",
    "print('Reversing checkerboard')\n",
    "ahf.calc_Rc_psth()\n",
    "ahf.save()"
   ]
  },
  {
   "cell_type": "code",
   "execution_count": null,
   "id": "e8a372c5-ac8d-4779-894e-b663d1d5efa2",
   "metadata": {},
   "outputs": [],
   "source": [
    "df = pd.read_hdf('/home/niell_lab/Desktop/temp_df_032022.h5')"
   ]
  },
  {
   "cell_type": "markdown",
   "id": "1eecdb6a-2ad5-43c1-88da-0974afeef6e7",
   "metadata": {},
   "source": [
    "## Add into dataset"
   ]
  },
  {
   "cell_type": "code",
   "execution_count": null,
   "id": "ee8e1a7c-a64b-4ea1-8c27-22442ee5e30b",
   "metadata": {},
   "outputs": [],
   "source": [
    "# set up and create empty columns\n",
    "dummy_psth = np.zeros([2001])*np.nan\n",
    "psth_series = pd.Series([])\n",
    "for i in range(len(df)):\n",
    "    psth_series[i] = dummy_psth.astype(object)\n",
    "for col in ['Rc_psth','Sn_on_all_psth','Sn_on_darkstim_psth','Sn_on_lightstim_psth',\n",
    "            'Sn_on_background_psth','Sn_off_all_psth','Sn_off_darkstim_psth',\n",
    "            'Sn_off_lightstim_psth','Sn_off_background_psth']:\n",
    "    df[col] = psth_series.copy().astype(object)\n",
    "dummy_vals = np.zeros([2])*np.nan\n",
    "dummy_series = pd.Series([])\n",
    "for i in range(len(df)):\n",
    "    dummy_series[i] = dummy_vals.astype(object)\n",
    "df['Wn_rf_on_cent'] = dummy_series.copy().astype(object)\n",
    "df['Wn_rf_off_cent'] = dummy_series.copy().astype(object)\n",
    "\n",
    "df['original_session_path']\n",
    "psth_files = find('addtlhf_props2.npz', new_dir)[0]\n",
    "print('reading '+psth_files)\n",
    "psth_data = np.load(psth_files)\n",
    "# reversing checkerboard\n",
    "rc_psth = psth_data['rc'] # shape is [unit#, time]\n",
    "# sparse noise\n",
    "sn_on_psth = psth_data['sn_on'] # shape is [unit#, time, all/l2d/d2l/only_global]\n",
    "sn_off_psth = psth_data['sn_off'] # shape is [unit#, time, all/l2d/d2l/only_global]\n",
    "# receptive field centers\n",
    "rf_xy = psth_data['rf'] # shape is [unit#, x/y]\n",
    "\n",
    "# just the current session\n",
    "for i, ind in enumerate(df.index.values):\n",
    "    df.at[ind, 'has_hfpsth'] = True\n",
    "    df.at[ind, 'Rc_psth'] = rc_psth[i,:]\n",
    "    df.at[ind, 'Wn_rf_on_cent'] = rf_xy[i,:2]\n",
    "    df.at[ind, 'Wn_rf_off_cent'] = rf_xy[i,2:]\n",
    "\n",
    "    df.at[ind, 'Sn_on_all_psth'] = sn_on_psth[i,:,0]\n",
    "    df.at[ind, 'Sn_on_darkstim_psth'] = sn_on_psth[i,:,1]\n",
    "    df.at[ind, 'Sn_on_lightstim_psth'] = sn_on_psth[i,:,2]\n",
    "    df.at[ind, 'Sn_on_background_psth'] = sn_on_psth[i,:,3]\n",
    "\n",
    "    df.at[ind, 'Sn_off_all_psth'] = sn_off_psth[i,:,0]\n",
    "    df.at[ind, 'Sn_off_darkstim_psth'] = sn_off_psth[i,:,1]\n",
    "    df.at[ind, 'Sn_off_lightstim_psth'] = sn_off_psth[i,:,2]\n",
    "    df.at[ind, 'Sn_off_background_psth'] = sn_off_psth[i,:,3]"
   ]
  },
  {
   "cell_type": "code",
   "execution_count": null,
   "id": "8c631ebb-3c85-4447-958c-58c9f075be0a",
   "metadata": {},
   "outputs": [],
   "source": [
    "df.to_hdf('/home/niell_lab/Desktop/temp_df_032022_v2.h5', 'w')"
   ]
  },
  {
   "cell_type": "markdown",
   "id": "1283e8bb-3592-40d7-8536-3a95ff5fae26",
   "metadata": {},
   "source": [
    "# Add into shared dataset"
   ]
  },
  {
   "cell_type": "code",
   "execution_count": null,
   "id": "08efd16d-63bb-4ffc-98a1-bd5be36fcb7c",
   "metadata": {},
   "outputs": [],
   "source": [
    "data = pd.read_pickle(existing_pickle)"
   ]
  },
  {
   "cell_type": "code",
   "execution_count": null,
   "id": "e2c8d1df-7cf6-43f6-8bf4-bc341d61351b",
   "metadata": {},
   "outputs": [],
   "source": [
    "data1 = pd.concat([data, df], axis=0)"
   ]
  },
  {
   "cell_type": "code",
   "execution_count": null,
   "id": "cd733de0-b9df-442b-b2fd-ccfa98808352",
   "metadata": {},
   "outputs": [],
   "source": [
    "data1.reset_index(inplace=True, drop=True)"
   ]
  },
  {
   "cell_type": "code",
   "execution_count": null,
   "id": "32ac804c-2f16-4e91-aef6-f24429eb6662",
   "metadata": {},
   "outputs": [],
   "source": [
    "data1.to_pickle('/home/niell_lab/Data/freely_moving_ephys/batch_files/ltdk_051822.pickle')"
   ]
  },
  {
   "cell_type": "markdown",
   "id": "4e846032-bef5-4ad0-857f-16de117d4a43",
   "metadata": {},
   "source": [
    "# Redo summary analysis"
   ]
  },
  {
   "cell_type": "code",
   "execution_count": 3,
   "id": "c5c85964-29f4-478c-9ab7-e5254d6770bd",
   "metadata": {},
   "outputs": [],
   "source": [
    "data = pd.read_pickle('/home/niell_lab/Data/freely_moving_ephys/batch_files/061522/hffm_061522.pickle')"
   ]
  },
  {
   "cell_type": "code",
   "execution_count": null,
   "id": "9df87e6e-a00c-4df2-9e2e-2e9b7c5fd49f",
   "metadata": {},
   "outputs": [],
   "source": [
    "data = pd.read_pickle('/home/niell_lab/Data/freely_moving_ephys/batch_files/061322/ltdk_061322.pickle')"
   ]
  },
  {
   "cell_type": "markdown",
   "id": "239472f9-fa34-4653-a627-e568c5249647",
   "metadata": {},
   "source": [
    "## remove recordings"
   ]
  },
  {
   "cell_type": "code",
   "execution_count": null,
   "id": "48ba856b-1086-41c8-94bc-de250a388482",
   "metadata": {},
   "outputs": [],
   "source": [
    "data['session'].unique()"
   ]
  },
  {
   "cell_type": "code",
   "execution_count": null,
   "id": "64e776ef-ec90-444c-aee2-5cf613a4ba15",
   "metadata": {},
   "outputs": [],
   "source": [
    "data = data[data['session']!='032122_J599LT_control_Rig2']"
   ]
  },
  {
   "cell_type": "code",
   "execution_count": null,
   "id": "2748d8b8-0369-4433-8628-2a69e6d0ffcb",
   "metadata": {},
   "outputs": [],
   "source": [
    "len(data.index.values)"
   ]
  },
  {
   "cell_type": "markdown",
   "id": "4a13883d-0bbb-465e-be3e-59f16c4e689a",
   "metadata": {},
   "source": [
    "## Putative cell type"
   ]
  },
  {
   "cell_type": "code",
   "execution_count": null,
   "id": "620d6a0c-9165-42d0-ab63-4ef20b37c9e0",
   "metadata": {},
   "outputs": [],
   "source": [
    "data['norm_waveform'] = data['waveform']\n",
    "for ind, row in data.iterrows():\n",
    "    if type(row['waveform']) == list:\n",
    "        starting_val = np.mean(row['waveform'][:6])\n",
    "        center_waveform = [i-starting_val for i in row['waveform']]\n",
    "        norm_waveform = center_waveform / -np.min(center_waveform)\n",
    "        data.at[ind, 'waveform_trough_width'] = len(norm_waveform[norm_waveform < -0.2])\n",
    "        data.at[ind, 'AHP'] = norm_waveform[27]\n",
    "        data.at[ind, 'waveform_peak'] = norm_waveform[18]\n",
    "        data.at[ind, 'norm_waveform'] = norm_waveform\n",
    "\n",
    "km_labels = KMeans(n_clusters=2).fit(list(data['norm_waveform'][data['waveform_peak'] < 0].to_numpy())).labels_\n",
    "# make inhibitory is always group 0\n",
    "# excitatory should always have a smaller mean waveform trough\n",
    "# if it's larger, flip the kmeans labels\n",
    "if np.mean(data['waveform_trough_width'][data['waveform_peak']<0][km_labels==0]) > np.mean(data['waveform_trough_width'][data['waveform_peak']<0][km_labels==1]):\n",
    "    km_labels = [0 if i==1 else 1 for i in km_labels]\n",
    "\n",
    "count = 0\n",
    "for ind, row in data.iterrows():\n",
    "    if row['waveform_peak'] < 0 and row['AHP'] < 0.7:\n",
    "        data.at[ind, 'waveform_km_label'] = km_labels[count]\n",
    "        count = count+1\n",
    "\n",
    "# make new column of strings for excitatory vs inhibitory clusters\n",
    "for ind, row in data.iterrows():\n",
    "    if row['waveform_km_label'] == 0:\n",
    "        data.at[ind, 'exc_or_inh'] = 'inh'\n",
    "    elif row['waveform_km_label'] == 1:\n",
    "        data.at[ind, 'exc_or_inh'] = 'exc'"
   ]
  },
  {
   "cell_type": "markdown",
   "id": "a6df3c4a-7b26-4f41-9ef4-12f8587e7e1a",
   "metadata": {},
   "source": [
    "## Eye/head movements"
   ]
  },
  {
   "cell_type": "code",
   "execution_count": 40,
   "id": "6c0b577a-cec2-4d77-9289-5fa0c5e3c17b",
   "metadata": {},
   "outputs": [],
   "source": [
    "def z_score(A):\n",
    "    return (np.max(np.abs(A))-np.mean(A)) / np.std(A)\n",
    "\n",
    "def psth_modind(psth):\n",
    "    # modulation in terms of spike rate\n",
    "    psth = psth.astype(float)\n",
    "    use = psth - np.mean(psth[0:800].copy())\n",
    "    mod = np.max(np.abs(use[1000:1250]))\n",
    "    return mod\n",
    "\n",
    "def calc_latency(psth):\n",
    "    # use norm PSTH\n",
    "    ind = np.argmax(psth[1000:1250])+1000 # was 1000:1170\n",
    "    peakT = psth_bins[ind]\n",
    "    val = psth[ind]\n",
    "    return peakT, val\n",
    "\n",
    "def get_direction_pref(left, right):\n",
    "    # use raw PSTH\n",
    "    \n",
    "    leftmod = psth_modind(left)\n",
    "    rightmod = psth_modind(right)\n",
    "\n",
    "    ind = np.argmax([leftmod, rightmod])\n",
    "    \n",
    "    pref = [left, right][ind]\n",
    "    nonpref = [left, right][1-ind]\n",
    "    \n",
    "    prefname = ['left','right'][ind]\n",
    "    nonprefname = ['left','right'][1-ind]\n",
    "    \n",
    "    return pref, nonpref, prefname, nonprefname\n",
    "\n",
    "def calc_psth_DSI(pref, nonpref):\n",
    "    # use pref\n",
    "    \n",
    "    prefmod = psth_modind(pref)\n",
    "    nonprefmod = psth_modind(nonpref)\n",
    "    \n",
    "    mod = (prefmod - nonprefmod) / (prefmod + nonprefmod)\n",
    "    \n",
    "    return mod\n",
    "    \n",
    "def normalize_psth(psth, raw_pref=None, baseline_val=None):\n",
    "    if raw_pref is None:\n",
    "        raw_pref = psth.copy()\n",
    "    if baseline_val is None:\n",
    "        baseline_val = np.mean(psth[0:800].astype(float))\n",
    "    norm_psth = (psth - baseline_val) / np.max(raw_pref[750:1250].astype(float)) # [1000:1250]\n",
    "    return norm_psth\n",
    "\n",
    "def normalize_gt_psth(psth, baseind=4, zeroind = 5):\n",
    "    baseline_val = np.nanmedian(psth[:5])\n",
    "    norm_psth = (psth - baseline_val) / np.nanmax(psth[5:14].astype(float))\n",
    "    return norm_psth\n",
    "\n",
    "def gt_modind(psth):\n",
    "    psth = psth.astype(float)\n",
    "    use = psth - np.mean(psth[1:5].copy())\n",
    "    mod = np.max(np.abs(use[5:8]))\n",
    "    return mod"
   ]
  },
  {
   "cell_type": "markdown",
   "id": "c5093b43-dcaa-4e9f-8c22-4215b6157092",
   "metadata": {},
   "source": [
    "### FmLt"
   ]
  },
  {
   "cell_type": "code",
   "execution_count": 41,
   "id": "47a17efd-2aac-4c9e-8a85-c328292ccfe9",
   "metadata": {},
   "outputs": [],
   "source": [
    "for ind, row in data.iterrows():\n",
    "    pref, nonpref, prefname, nonprefname = get_direction_pref(row['FmLt_gazeshift_left_saccPSTH_dHead1'], row['FmLt_gazeshift_right_saccPSTH_dHead1'])\n",
    "    data.at[ind,'pref_gazeshift_direction'] = prefname\n",
    "    data.at[ind,'nonpref_gazeshift_direction'] = nonprefname\n",
    "    data.at[ind,'gazeshift_DSI'] = calc_psth_DSI(pref, nonpref)\n",
    "    # norm gaze shifts\n",
    "    data.at[ind, 'pref_gazeshift_psth'] = normalize_psth(pref).astype(object)\n",
    "    data.at[ind, 'nonpref_gazeshift_psth'] = normalize_psth(nonpref, raw_pref=pref).astype(object)\n",
    "    # raw gaze shifts and comp\n",
    "    data.at[ind, 'pref_gazeshift_psth_raw'] = pref.copy().astype(object)\n",
    "    data.at[ind, 'nonpref_gazeshift_psth_raw'] = nonpref.copy().astype(object)\n",
    "    # compensatory\n",
    "    data.at[ind, 'pref_comp_psth_raw'] = row['FmLt_comp_{}_saccPSTH_dHead1'.format(prefname)].copy().astype(object)\n",
    "    data.at[ind, 'nonpref_comp_psth_raw'] = row['FmLt_comp_{}_saccPSTH_dHead1'.format(nonprefname)].copy().astype(object)\n",
    "    # raw comp\n",
    "    data.at[ind, 'pref_comp_psth'] = normalize_psth(row['FmLt_comp_{}_saccPSTH_dHead1'.format(prefname)], raw_pref=pref).astype(object)\n",
    "    data.at[ind, 'nonpref_comp_psth'] = normalize_psth(row['FmLt_comp_{}_saccPSTH_dHead1'.format(nonprefname)], raw_pref=pref).astype(object)"
   ]
  },
  {
   "cell_type": "markdown",
   "id": "825f386e-3680-4e3b-89bc-efa47226ce32",
   "metadata": {},
   "source": [
    "### Hf"
   ]
  },
  {
   "cell_type": "code",
   "execution_count": 42,
   "id": "3a053058-6cb9-446c-8179-1af75aaf8b74",
   "metadata": {},
   "outputs": [
    {
     "name": "stderr",
     "output_type": "stream",
     "text": [
      "/tmp/ipykernel_173545/2498140699.py:49: RuntimeWarning: invalid value encountered in true_divide\n",
      "  norm_psth = (psth - baseline_val) / np.max(raw_pref[750:1250].astype(float)) # [1000:1250]\n",
      "/tmp/ipykernel_173545/2498140699.py:54: RuntimeWarning: invalid value encountered in true_divide\n",
      "  norm_psth = (psth - baseline_val) / np.nanmax(psth[5:14].astype(float))\n"
     ]
    }
   ],
   "source": [
    "for ind, row in data.iterrows():\n",
    "    # reversing checkerboard\n",
    "    data.at[ind, 'norm_Rc_psth'] = normalize_psth(row['Rc_psth']).astype(object)\n",
    "    # gratings\n",
    "    data.at[ind, 'norm_gratings_psth'] = normalize_gt_psth(row['Gt_grating_psth']).astype(object)\n",
    "    # sparse noise\n",
    "    data.at[ind, 'norm_Sn_psth'] = normalize_psth(row['Sn_on_background_psth'], baseline_val=row['Sn_on_background_psth'][1000]).astype(object)"
   ]
  },
  {
   "cell_type": "markdown",
   "id": "4d06ec71-1212-4185-ab56-4639b82ba7ed",
   "metadata": {},
   "source": [
    "### FmDk"
   ]
  },
  {
   "cell_type": "code",
   "execution_count": null,
   "id": "7f0862ac-c3ac-4275-80fe-f957278273f8",
   "metadata": {},
   "outputs": [],
   "source": [
    "for ind, row in data.iterrows():\n",
    "    pref = row['FmDk_gazeshift_{}_saccPSTH_dHead1'.format(row['pref_gazeshift_direction'])]\n",
    "    # gaze shifts\n",
    "    data.at[ind, 'pref_dark_gazeshift_psth'] = normalize_psth(pref).astype(object)\n",
    "    data.at[ind, 'nonpref_dark_gazeshift_psth'] = normalize_psth(row['FmDk_gazeshift_{}_saccPSTH_dHead1'.format(row['nonpref_gazeshift_direction'])], raw_pref=pref).astype(object)\n",
    "    # compensatory\n",
    "    data.at[ind, 'pref_dark_comp_psth'] = normalize_psth(row['FmDk_comp_{}_saccPSTH_dHead1'.format(row['pref_gazeshift_direction'])], raw_pref=pref).astype(object)\n",
    "    data.at[ind, 'nonpref_dark_comp_psth'] = normalize_psth(row['FmDk_comp_{}_saccPSTH_dHead1'.format(row['nonpref_gazeshift_direction'])], raw_pref=pref).astype(object)\n",
    "    # raw gaze shifts\n",
    "    data.at[ind, 'pref_dark_gazeshift_psth_raw'] = row['FmDk_gazeshift_{}_saccPSTH_dHead1'.format(row['pref_gazeshift_direction'])].astype(object)\n",
    "    data.at[ind, 'nonpref_dark_gazeshift_psth_raw'] = row['FmDk_gazeshift_{}_saccPSTH_dHead1'.format(row['nonpref_gazeshift_direction'])].astype(object)\n",
    "    # compensatory\n",
    "    data.at[ind, 'pref_dark_comp_psth_raw'] = row['FmDk_comp_{}_saccPSTH_dHead1'.format(row['pref_gazeshift_direction'])].astype(object)\n",
    "    data.at[ind, 'nonpref_dark_comp_psth_raw'] = row['FmDk_comp_{}_saccPSTH_dHead1'.format(row['nonpref_gazeshift_direction'])].astype(object)"
   ]
  },
  {
   "cell_type": "markdown",
   "id": "a3babf83-f946-4854-8fb4-46aeafe0c332",
   "metadata": {
    "tags": []
   },
   "source": [
    "## Peak time"
   ]
  },
  {
   "cell_type": "code",
   "execution_count": 7,
   "id": "bd4b82ab-e7e6-4799-a33a-567bf3c8e2db",
   "metadata": {},
   "outputs": [],
   "source": [
    "psth_bins = np.arange(-1,1.001,1/1000)"
   ]
  },
  {
   "cell_type": "markdown",
   "id": "ce344d96-3f91-4db3-b374-11dce4f69fb1",
   "metadata": {},
   "source": [
    "### FmLt"
   ]
  },
  {
   "cell_type": "code",
   "execution_count": 43,
   "id": "4f5c81bb-1175-48f5-8b43-9cd632f52eb6",
   "metadata": {},
   "outputs": [],
   "source": [
    "for ind, row in data.iterrows():\n",
    "    raw_psth = row['pref_gazeshift_psth_raw']\n",
    "    norm_psth = row['pref_gazeshift_psth']\n",
    "    \n",
    "    peakT, peak_val = calc_latency(norm_psth)\n",
    "    \n",
    "    data.at[ind, 'FmLt_gazeshift_baseline'] = raw_psth[0:800].astype(object)\n",
    "    data.at[ind, 'FmLt_gazeshift_med_baseline'] = np.median(raw_psth[0:800])\n",
    "    data.at[ind, 'FmLt_gazeshift_peak_val'] = peak_val\n",
    "    data.at[ind, 'FmLt_gazeshift_peakT'] = peakT\n",
    "\n",
    "# for ind, row in data.iterrows():\n",
    "#     if row['FmLt_gazeshift_peakT']<0.033:\n",
    "#         data.at[ind, 'movement'] = True"
   ]
  },
  {
   "cell_type": "markdown",
   "id": "c85f95af-c92d-4947-acd2-c5cd20cf221e",
   "metadata": {},
   "source": [
    "### FmDk"
   ]
  },
  {
   "cell_type": "code",
   "execution_count": 44,
   "id": "c82facc8-4c09-4bcd-980b-6527ac42de5b",
   "metadata": {
    "scrolled": true,
    "tags": []
   },
   "outputs": [
    {
     "ename": "KeyError",
     "evalue": "'pref_dark_gazeshift_psth_raw'",
     "output_type": "error",
     "traceback": [
      "\u001b[0;31m---------------------------------------------------------------------------\u001b[0m",
      "\u001b[0;31mKeyError\u001b[0m                                  Traceback (most recent call last)",
      "File \u001b[0;32m~/anaconda3/envs/ephys0/lib/python3.8/site-packages/pandas/core/indexes/base.py:3621\u001b[0m, in \u001b[0;36mIndex.get_loc\u001b[0;34m(self, key, method, tolerance)\u001b[0m\n\u001b[1;32m   3620\u001b[0m \u001b[38;5;28;01mtry\u001b[39;00m:\n\u001b[0;32m-> 3621\u001b[0m     \u001b[38;5;28;01mreturn\u001b[39;00m \u001b[38;5;28;43mself\u001b[39;49m\u001b[38;5;241;43m.\u001b[39;49m\u001b[43m_engine\u001b[49m\u001b[38;5;241;43m.\u001b[39;49m\u001b[43mget_loc\u001b[49m\u001b[43m(\u001b[49m\u001b[43mcasted_key\u001b[49m\u001b[43m)\u001b[49m\n\u001b[1;32m   3622\u001b[0m \u001b[38;5;28;01mexcept\u001b[39;00m \u001b[38;5;167;01mKeyError\u001b[39;00m \u001b[38;5;28;01mas\u001b[39;00m err:\n",
      "File \u001b[0;32m~/anaconda3/envs/ephys0/lib/python3.8/site-packages/pandas/_libs/index.pyx:136\u001b[0m, in \u001b[0;36mpandas._libs.index.IndexEngine.get_loc\u001b[0;34m()\u001b[0m\n",
      "File \u001b[0;32m~/anaconda3/envs/ephys0/lib/python3.8/site-packages/pandas/_libs/index.pyx:163\u001b[0m, in \u001b[0;36mpandas._libs.index.IndexEngine.get_loc\u001b[0;34m()\u001b[0m\n",
      "File \u001b[0;32mpandas/_libs/hashtable_class_helper.pxi:5198\u001b[0m, in \u001b[0;36mpandas._libs.hashtable.PyObjectHashTable.get_item\u001b[0;34m()\u001b[0m\n",
      "File \u001b[0;32mpandas/_libs/hashtable_class_helper.pxi:5206\u001b[0m, in \u001b[0;36mpandas._libs.hashtable.PyObjectHashTable.get_item\u001b[0;34m()\u001b[0m\n",
      "\u001b[0;31mKeyError\u001b[0m: 'pref_dark_gazeshift_psth_raw'",
      "\nThe above exception was the direct cause of the following exception:\n",
      "\u001b[0;31mKeyError\u001b[0m                                  Traceback (most recent call last)",
      "Input \u001b[0;32mIn [44]\u001b[0m, in \u001b[0;36m<module>\u001b[0;34m\u001b[0m\n\u001b[1;32m      1\u001b[0m \u001b[38;5;28;01mfor\u001b[39;00m ind, row \u001b[38;5;129;01min\u001b[39;00m data\u001b[38;5;241m.\u001b[39miterrows():\n\u001b[0;32m----> 2\u001b[0m     raw_psth \u001b[38;5;241m=\u001b[39m \u001b[43mrow\u001b[49m\u001b[43m[\u001b[49m\u001b[38;5;124;43m'\u001b[39;49m\u001b[38;5;124;43mpref_dark_gazeshift_psth_raw\u001b[39;49m\u001b[38;5;124;43m'\u001b[39;49m\u001b[43m]\u001b[49m\n\u001b[1;32m      3\u001b[0m     norm_psth \u001b[38;5;241m=\u001b[39m row[\u001b[38;5;124m'\u001b[39m\u001b[38;5;124mpref_dark_gazeshift_psth\u001b[39m\u001b[38;5;124m'\u001b[39m]\n\u001b[1;32m      5\u001b[0m     peakT, peak_val \u001b[38;5;241m=\u001b[39m calc_latency(norm_psth)\n",
      "File \u001b[0;32m~/anaconda3/envs/ephys0/lib/python3.8/site-packages/pandas/core/series.py:959\u001b[0m, in \u001b[0;36mSeries.__getitem__\u001b[0;34m(self, key)\u001b[0m\n\u001b[1;32m    956\u001b[0m     \u001b[38;5;28;01mreturn\u001b[39;00m \u001b[38;5;28mself\u001b[39m\u001b[38;5;241m.\u001b[39m_values[key]\n\u001b[1;32m    958\u001b[0m \u001b[38;5;28;01melif\u001b[39;00m key_is_scalar:\n\u001b[0;32m--> 959\u001b[0m     \u001b[38;5;28;01mreturn\u001b[39;00m \u001b[38;5;28;43mself\u001b[39;49m\u001b[38;5;241;43m.\u001b[39;49m\u001b[43m_get_value\u001b[49m\u001b[43m(\u001b[49m\u001b[43mkey\u001b[49m\u001b[43m)\u001b[49m\n\u001b[1;32m    961\u001b[0m \u001b[38;5;28;01mif\u001b[39;00m is_hashable(key):\n\u001b[1;32m    962\u001b[0m     \u001b[38;5;66;03m# Otherwise index.get_value will raise InvalidIndexError\u001b[39;00m\n\u001b[1;32m    963\u001b[0m     \u001b[38;5;28;01mtry\u001b[39;00m:\n\u001b[1;32m    964\u001b[0m         \u001b[38;5;66;03m# For labels that don't resolve as scalars like tuples and frozensets\u001b[39;00m\n",
      "File \u001b[0;32m~/anaconda3/envs/ephys0/lib/python3.8/site-packages/pandas/core/series.py:1070\u001b[0m, in \u001b[0;36mSeries._get_value\u001b[0;34m(self, label, takeable)\u001b[0m\n\u001b[1;32m   1067\u001b[0m     \u001b[38;5;28;01mreturn\u001b[39;00m \u001b[38;5;28mself\u001b[39m\u001b[38;5;241m.\u001b[39m_values[label]\n\u001b[1;32m   1069\u001b[0m \u001b[38;5;66;03m# Similar to Index.get_value, but we do not fall back to positional\u001b[39;00m\n\u001b[0;32m-> 1070\u001b[0m loc \u001b[38;5;241m=\u001b[39m \u001b[38;5;28;43mself\u001b[39;49m\u001b[38;5;241;43m.\u001b[39;49m\u001b[43mindex\u001b[49m\u001b[38;5;241;43m.\u001b[39;49m\u001b[43mget_loc\u001b[49m\u001b[43m(\u001b[49m\u001b[43mlabel\u001b[49m\u001b[43m)\u001b[49m\n\u001b[1;32m   1071\u001b[0m \u001b[38;5;28;01mreturn\u001b[39;00m \u001b[38;5;28mself\u001b[39m\u001b[38;5;241m.\u001b[39mindex\u001b[38;5;241m.\u001b[39m_get_values_for_loc(\u001b[38;5;28mself\u001b[39m, loc, label)\n",
      "File \u001b[0;32m~/anaconda3/envs/ephys0/lib/python3.8/site-packages/pandas/core/indexes/base.py:3623\u001b[0m, in \u001b[0;36mIndex.get_loc\u001b[0;34m(self, key, method, tolerance)\u001b[0m\n\u001b[1;32m   3621\u001b[0m     \u001b[38;5;28;01mreturn\u001b[39;00m \u001b[38;5;28mself\u001b[39m\u001b[38;5;241m.\u001b[39m_engine\u001b[38;5;241m.\u001b[39mget_loc(casted_key)\n\u001b[1;32m   3622\u001b[0m \u001b[38;5;28;01mexcept\u001b[39;00m \u001b[38;5;167;01mKeyError\u001b[39;00m \u001b[38;5;28;01mas\u001b[39;00m err:\n\u001b[0;32m-> 3623\u001b[0m     \u001b[38;5;28;01mraise\u001b[39;00m \u001b[38;5;167;01mKeyError\u001b[39;00m(key) \u001b[38;5;28;01mfrom\u001b[39;00m \u001b[38;5;21;01merr\u001b[39;00m\n\u001b[1;32m   3624\u001b[0m \u001b[38;5;28;01mexcept\u001b[39;00m \u001b[38;5;167;01mTypeError\u001b[39;00m:\n\u001b[1;32m   3625\u001b[0m     \u001b[38;5;66;03m# If we have a listlike key, _check_indexing_error will raise\u001b[39;00m\n\u001b[1;32m   3626\u001b[0m     \u001b[38;5;66;03m#  InvalidIndexError. Otherwise we fall through and re-raise\u001b[39;00m\n\u001b[1;32m   3627\u001b[0m     \u001b[38;5;66;03m#  the TypeError.\u001b[39;00m\n\u001b[1;32m   3628\u001b[0m     \u001b[38;5;28mself\u001b[39m\u001b[38;5;241m.\u001b[39m_check_indexing_error(key)\n",
      "\u001b[0;31mKeyError\u001b[0m: 'pref_dark_gazeshift_psth_raw'"
     ]
    }
   ],
   "source": [
    "for ind, row in data.iterrows():\n",
    "    raw_psth = row['pref_dark_gazeshift_psth_raw']\n",
    "    norm_psth = row['pref_dark_gazeshift_psth']\n",
    "    \n",
    "    peakT, peak_val = calc_latency(norm_psth)\n",
    "    \n",
    "    data.at[ind, 'FmDk_gazeshift_baseline'] = raw_psth[0:800].astype(object)\n",
    "    data.at[ind, 'FmDk_gazeshift_med_baseline'] = np.median(raw_psth[0:800])\n",
    "    data.at[ind, 'FmDk_gazeshift_peak_val'] = peak_val\n",
    "    data.at[ind, 'FmDk_gazeshift_peakT'] = peakT"
   ]
  },
  {
   "cell_type": "markdown",
   "id": "900b5e39-f40d-4e63-a58a-9d0d3a231a21",
   "metadata": {
    "tags": []
   },
   "source": [
    "## Clustering"
   ]
  },
  {
   "cell_type": "markdown",
   "id": "b57e47ab-8ec3-4865-9077-33e6cc0af771",
   "metadata": {},
   "source": [
    "### Eliminate unresponsive cells before clustering"
   ]
  },
  {
   "cell_type": "code",
   "execution_count": 45,
   "id": "814aafbc-6707-4bc4-ab88-f2a81cbe7e50",
   "metadata": {},
   "outputs": [],
   "source": [
    "for ind, row in data.iterrows():\n",
    "    # firing rate\n",
    "    sec = row['FmLt_eyeT'][-1].astype(float) - row['FmLt_eyeT'][0].astype(float)\n",
    "    sp = len(row['FmLt_spikeT'])\n",
    "    fm_fr = sp/sec\n",
    "    data.at[ind, 'Fm_fr'] = fm_fr\n",
    "    \n",
    "    raw_psth = row['pref_gazeshift_psth_raw']\n",
    "    data.at[ind, 'raw_mod_at_pref_peak'] = psth_modind(raw_psth)\n",
    "    \n",
    "    norm_psth = row['pref_gazeshift_psth']\n",
    "    data.at[ind, 'norm_mod_at_pref_peak'] = psth_modind(norm_psth)"
   ]
  },
  {
   "cell_type": "code",
   "execution_count": 46,
   "id": "5caaa8d1-c698-4068-8123-47e62d163f4f",
   "metadata": {},
   "outputs": [
    {
     "name": "stdout",
     "output_type": "stream",
     "text": [
      "gaze 531\n"
     ]
    }
   ],
   "source": [
    "data['gazeshift_responsive'] = False\n",
    "for ind, row in data.iterrows():\n",
    "    if (row['raw_mod_at_pref_peak']>1) and (row['norm_mod_at_pref_peak']>0.1):\n",
    "        data.at[ind, 'gazeshift_responsive'] = True\n",
    "        # elif (row['FmLt_gazeshift_peakT']<.035):\n",
    "        #     data.at[ind, 'movement_responsive'] = True\n",
    "print('gaze', data['gazeshift_responsive'].sum())"
   ]
  },
  {
   "cell_type": "code",
   "execution_count": null,
   "id": "920ae5e7-313b-46d3-8e05-e2c1c00f7385",
   "metadata": {
    "scrolled": true,
    "tags": []
   },
   "outputs": [],
   "source": [
    "plt.subplots(5,5,figsize=(15,15))\n",
    "plot_inds = np.random.randint(0, len(data.index.values), size=25)\n",
    "for i, ind in enumerate(plot_inds):\n",
    "    if data.loc[ind,'gazeshift_responsive']==True:\n",
    "        color = 'b'\n",
    "    else:\n",
    "        color = 'r'\n",
    "    psth = data.loc[ind, 'FmLt_gazeshift_{}_saccPSTH_dHead1'.format(data.loc[ind, 'pref_gazeshift_direction'])]\n",
    "    plt.subplot(5,5,i+1)\n",
    "    plt.plot(psth_bins, psth, color=color)\n",
    "    plt.title('r={:.2f}, n={:.2f}'.format(data.loc[ind,'raw_mod_at_pref_peak'], data.loc[ind,'norm_mod_at_pref_peak']))\n",
    "    plt.xlim([-.5,.5]); plt.ylim([0, np.max(psth)*1.2])\n",
    "    \n",
    "plt.tight_layout()"
   ]
  },
  {
   "cell_type": "code",
   "execution_count": 47,
   "id": "5b1bcc5e-5637-4958-b3ff-0e0ca452b09b",
   "metadata": {},
   "outputs": [],
   "source": [
    "for i, ind in enumerate(data.index.values):\n",
    "    if data.loc[ind,'gazeshift_responsive']==True:\n",
    "        data.at[ind,'pref_gazeshift_psth_for_kmeans'] = data.loc[ind,'pref_gazeshift_psth'].copy().astype(object)\n",
    "    elif data.loc[ind,'gazeshift_responsive']==False:\n",
    "        data.at[ind,'pref_gazeshift_psth_for_kmeans'] = np.zeros([2001]).astype(object)\n",
    "        "
   ]
  },
  {
   "cell_type": "code",
   "execution_count": 48,
   "id": "8f0dc217-e3bb-4b89-b7d8-cef38c849ee8",
   "metadata": {},
   "outputs": [
    {
     "data": {
      "text/plain": [
       "(716, 350)"
      ]
     },
     "execution_count": 48,
     "metadata": {},
     "output_type": "execute_result"
    }
   ],
   "source": [
    "pca_input = flatten_series(data['pref_gazeshift_psth_for_kmeans'])[:,950:1300] # [data['gazeshift_responsive']]\n",
    "pca_input.shape"
   ]
  },
  {
   "cell_type": "code",
   "execution_count": 49,
   "id": "44ea7569-9acf-47e5-ab1c-a0bb981b8a14",
   "metadata": {},
   "outputs": [],
   "source": [
    "from scipy.stats import zscore"
   ]
  },
  {
   "cell_type": "markdown",
   "id": "7b140bbb-f3c6-49bd-a740-d03caf6e8a19",
   "metadata": {
    "jp-MarkdownHeadingCollapsed": true,
    "tags": []
   },
   "source": [
    "### try clustering w/ mixture of gaussians"
   ]
  },
  {
   "cell_type": "code",
   "execution_count": null,
   "id": "ddc85d56-70c5-4ceb-aee8-2f0416dce86b",
   "metadata": {},
   "outputs": [],
   "source": [
    "from sklearn.mixture import GaussianMixture"
   ]
  },
  {
   "cell_type": "code",
   "execution_count": null,
   "id": "73ca6c96-9d34-4142-810f-4c09fe89a36d",
   "metadata": {},
   "outputs": [],
   "source": [
    "# PCA\n",
    "pca = PCA(n_components=10)\n",
    "pca.fit(pca_input)\n",
    "explvar = pca.explained_variance_ratio_\n",
    "proj = pca.transform(pca_input)\n",
    "keep_pcas = int(np.argwhere(np.cumsum(explvar)>.95)[0])\n",
    "print('using best {} PCs'.format(keep_pcas))\n",
    "gproj = proj[:,:keep_pcas]\n",
    "\n",
    "# Cluster\n",
    "gm = GaussianMixture(n_components=4, max_iter=300, n_init=5)\n",
    "Z = gm.fit_predict(gproj)\n",
    "\n",
    "with open('/home/niell_lab/Desktop/dEye_PSTH_gm_model2.pickle', 'wb') as f:\n",
    "    pickle.dump(gm, f)\n",
    "with open('/home/niell_lab/Desktop/dEye_PSTH_pca_model2.pickle', 'wb') as f:\n",
    "    pickle.dump(pca, f)\n",
    "np.save(file='/home/niell_lab/Desktop/dEye_PSTH_pca2.npy', arr=proj)"
   ]
  },
  {
   "cell_type": "code",
   "execution_count": null,
   "id": "965bd556-6a44-4b85-90da-0d8101757c1e",
   "metadata": {},
   "outputs": [],
   "source": [
    "gproj.shape"
   ]
  },
  {
   "cell_type": "code",
   "execution_count": null,
   "id": "d84c2920-d860-44ed-bc68-1228b9f186a3",
   "metadata": {},
   "outputs": [],
   "source": [
    "log_prob = gm.score_samples(gproj)"
   ]
  },
  {
   "cell_type": "code",
   "execution_count": null,
   "id": "069ec0aa-d367-4f66-8c95-c3d4ef3339ed",
   "metadata": {},
   "outputs": [],
   "source": [
    "log_prob[inds].shape"
   ]
  },
  {
   "cell_type": "code",
   "execution_count": null,
   "id": "04705e6a-4168-4c05-85e6-7a307d140f8c",
   "metadata": {},
   "outputs": [],
   "source": [
    "(np.ones([len(inds)])*ki).astype(int).shape"
   ]
  },
  {
   "cell_type": "code",
   "execution_count": null,
   "id": "06d961f2-5a53-4c14-bf26-712998b1fd46",
   "metadata": {},
   "outputs": [],
   "source": [
    "np.abs(zscore(a))<3"
   ]
  },
  {
   "cell_type": "code",
   "execution_count": null,
   "id": "00b67aa1-d516-48f4-8fd5-0eed68bcad7e",
   "metadata": {},
   "outputs": [],
   "source": [
    "(np.ones([np.sum(use)])*ki).astype(int).shape"
   ]
  },
  {
   "cell_type": "code",
   "execution_count": null,
   "id": "f7fd8447-018f-40c6-94d0-1d08afca4ebc",
   "metadata": {},
   "outputs": [],
   "source": [
    "(vals[use]).shape"
   ]
  },
  {
   "cell_type": "code",
   "execution_count": null,
   "id": "8e72380d-590b-4bda-87cf-42b891f3848c",
   "metadata": {},
   "outputs": [],
   "source": [
    "good = np.zeros([len(Z)])\n",
    "\n",
    "fig, [ax0, ax1] = plt.subplots(1,2,figsize=(6.2,2.5), dpi=300)\n",
    "pca_plot_colors = [cat_cmap['early'],cat_cmap['late'],cat_cmap['biphasic'],cat_cmap['negative']]\n",
    "for ki, k in enumerate([3,0,2,1]):\n",
    "    inds = np.where(Z==k)[0]\n",
    "    vals = log_prob[inds]\n",
    "    use = np.abs(zscore(vals))<2.5\n",
    "    \n",
    "    good[inds[use]] = np.ones([np.sum(use)])\n",
    "    xvals1 = np.random.uniform(ki-0.2, ki+0.2, np.sum(use))\n",
    "    xvals2 = np.random.uniform(ki-0.2, ki+0.2, np.sum(~use))\n",
    "    \n",
    "    ax0.scatter(xvals1, vals[use], c=pca_plot_colors[ki], s=1)\n",
    "    ax0.scatter(xvals2, vals[~use], c='k', s=10, marker='x')\n",
    "    ax0.set_xticks(range(4), labels=['early','late','biphasic','negative'])\n",
    "    ax0.set_ylabel('log-likelihood')\n",
    "    \n",
    "    ax1.scatter(gproj[inds[use],0], gproj[inds[use],1], c=pca_plot_colors[ki], s=2)\n",
    "    ax1.set_xlabel('PC 1'); ax1.set_ylabel('PC 2')\n",
    "    \n",
    "fig.tight_layout()"
   ]
  },
  {
   "cell_type": "markdown",
   "id": "d91bb391-6b79-433d-bda1-0e2329a41645",
   "metadata": {},
   "source": [
    "### kmeans"
   ]
  },
  {
   "cell_type": "code",
   "execution_count": 51,
   "id": "0eca2905-45f1-4beb-8a55-df57657ba6b8",
   "metadata": {},
   "outputs": [
    {
     "name": "stdout",
     "output_type": "stream",
     "text": [
      "using best 4 PCs\n"
     ]
    }
   ],
   "source": [
    "n_pcas = 10\n",
    "\n",
    "pca = PCA(n_components=n_pcas)\n",
    "pca.fit(pca_input)\n",
    "\n",
    "explvar = pca.explained_variance_ratio_\n",
    "\n",
    "proj = pca.transform(pca_input)\n",
    "\n",
    "keep_pcas = int(np.argwhere(np.cumsum(explvar)>.95)[0])\n",
    "print('using best {} PCs'.format(keep_pcas))\n",
    "\n",
    "# need to eliminate a few outliers of the negative group with negative peaks around -1 to -1.5 norm. spike rate\n",
    "# they're only outliers in PC 0\n",
    "# use = zscore(proj[:,0])<3\n",
    "\n",
    "gproj = proj[:,:keep_pcas]\n",
    "\n",
    "km = KMeans(n_clusters=5)\n",
    "km.fit_predict(gproj)\n",
    "Z = km.labels_\n",
    "\n",
    "i2label = dict(zip(np.where(use)[0], Z))\n",
    "\n",
    "with open('/home/niell_lab/Desktop/dEye_PSTH_km_model1A-new.pickle', 'wb') as f:\n",
    "    pickle.dump(km, f)\n",
    "with open('/home/niell_lab/Desktop/dEye_PSTH_pca_model1A1-new.pickle', 'wb') as f:\n",
    "    pickle.dump(pca, f)\n",
    "np.save(file='/home/niell_lab/Desktop/dEye_PSTH_pca1-new.npy', arr=proj)"
   ]
  },
  {
   "cell_type": "code",
   "execution_count": 53,
   "id": "2f3cb85e-a5e0-4fc9-a956-0f2e391f7274",
   "metadata": {},
   "outputs": [
    {
     "data": {
      "text/plain": [
       "<matplotlib.collections.PathCollection at 0x7f4a4a5d5910>"
      ]
     },
     "execution_count": 53,
     "metadata": {},
     "output_type": "execute_result"
    },
    {
     "data": {
      "image/png": "[encoded data removed]",
      "text/plain": [
       "<Figure size 432x288 with 1 Axes>"
      ]
     },
     "metadata": {
      "needs_background": "light"
     },
     "output_type": "display_data"
    }
   ],
   "source": [
    "plt.scatter(proj[:,0], proj[:,1], c=Z)\n",
    "# plt.scatter(proj[~use,0], proj[~use,1], c='k')"
   ]
  },
  {
   "cell_type": "code",
   "execution_count": 54,
   "id": "a8b14835-d5e9-48b0-812f-ed4d3a0ba5c2",
   "metadata": {},
   "outputs": [
    {
     "data": {
      "image/png": "[encoded data removed]",
      "text/plain": [
       "<Figure size 1500x600 with 2 Axes>"
      ]
     },
     "metadata": {
      "needs_background": "light"
     },
     "output_type": "display_data"
    }
   ],
   "source": [
    "fig, [ax0,ax1] = plt.subplots(1,2,figsize=(5,2), dpi=300)\n",
    "for ind in np.argwhere(use==False).flatten():\n",
    "    ax0.plot(psth_bins, flatten_series(data['pref_gazeshift_psth'].copy())[ind,:], linewidth=1)\n",
    "    ax1.plot(psth_bins, flatten_series(data['pref_gazeshift_psth_raw'].copy())[ind,:], linewidth=1)\n",
    "    ax0.vlines(0,-1.3,.4,'k'); ax1.vlines(0,0,5,'k')\n",
    "    ax1.vlines(-0.2,0,5,'k')"
   ]
  },
  {
   "cell_type": "code",
   "execution_count": null,
   "id": "80cfedf2-c371-4bea-b6cd-cbb0eec8329f",
   "metadata": {},
   "outputs": [],
   "source": []
  },
  {
   "cell_type": "code",
   "execution_count": null,
   "id": "1768c333-be45-4879-9fa8-7ecce7493649",
   "metadata": {},
   "outputs": [],
   "source": [
    "plt.plot(np.cumsum(explvar))\n",
    "plt.vlines(keep_pcas, np.min(np.cumsum(explvar)), 1, 'k')"
   ]
  },
  {
   "cell_type": "markdown",
   "id": "487b1be9-c567-49e5-a275-72a974061ba8",
   "metadata": {},
   "source": [
    "### Add to the df"
   ]
  },
  {
   "cell_type": "code",
   "execution_count": null,
   "id": "c2f00049-8f25-4811-8a02-f6209e431b1a",
   "metadata": {
    "tags": []
   },
   "outputs": [],
   "source": [
    "data['gazecluster_ind'] = -1\n",
    "for i, ind in enumerate(data.index.values): # [data['gazeshift_responsive']==True]\n",
    "    if i in list(i2label.keys()):\n",
    "        data.at[ind, 'gazecluster_ind'] = i2label[i]"
   ]
  },
  {
   "cell_type": "code",
   "execution_count": null,
   "id": "3f9ded67-3fab-4076-afb7-6bf93c6045bf",
   "metadata": {},
   "outputs": [],
   "source": [
    "plt.subplots(2,3,figsize=(10,8))\n",
    "for n, name in enumerate(range(-1,5)):\n",
    "    plt.subplot(2,3,n+1)\n",
    "    plotvals = data['pref_gazeshift_psth'][data['gazecluster_ind']==name] # pref_gazeshift_psth\n",
    "    if len(plotvals.index.values)==0:\n",
    "        continue\n",
    "    cluster = flatten_series(plotvals)\n",
    "    for i in range(np.size(cluster,0)):\n",
    "        plt.plot(psth_bins, cluster[i,:], alpha=0.5)\n",
    "    plt.plot(psth_bins, np.median(cluster,0), 'k-', linewidth=3)\n",
    "    plt.title('{} (N={})'.format(name, len(plotvals)))\n",
    "    plt.xlim([-0.3,0.3])\n",
    "    plt.ylim([-1.5,1])\n",
    "plt.tight_layout()"
   ]
  },
  {
   "cell_type": "code",
   "execution_count": null,
   "id": "85df3c63-ac3d-49e2-8505-6f6711077d5a",
   "metadata": {},
   "outputs": [],
   "source": [
    "plt.figure(figsize=(3,4))\n",
    "plt.plot(psth_bins, np.median(flatten_series(data['pref_gazeshift_psth']),0))\n",
    "plt.ylim([-1.5,1])\n",
    "plt.xlim([-.3,.3])"
   ]
  },
  {
   "cell_type": "markdown",
   "id": "f6d139c3-dd8b-455b-adcf-330d863418dd",
   "metadata": {},
   "source": [
    "### For ltdk data"
   ]
  },
  {
   "cell_type": "code",
   "execution_count": null,
   "id": "a175a8e4-951f-4b65-ae4a-f3b1b728de5c",
   "metadata": {},
   "outputs": [],
   "source": [
    "keep_pcas = 4\n",
    "\n",
    "with open('/home/niell_lab/Desktop/dEye_PSTH_km_model1A1.pickle', 'rb') as f:\n",
    "    km = pickle.load(f)\n",
    "with open('/home/niell_lab/Desktop/dEye_PSTH_pca_model1A1.pickle', 'rb') as f:\n",
    "    pca = pickle.load(f)\n",
    "\n",
    "proj = pca.transform(pca_input)\n",
    "\n",
    "use = zscore(proj[:,0])<3\n",
    "gproj = proj[use,:keep_pcas]\n",
    "\n",
    "Z = km.predict(gproj)\n",
    "\n",
    "i2label = dict(zip(np.where(use)[0], Z))"
   ]
  },
  {
   "cell_type": "code",
   "execution_count": null,
   "id": "6db27eb2-0a1d-4a75-baaa-3e98be715917",
   "metadata": {
    "tags": []
   },
   "outputs": [],
   "source": [
    "data['gazecluster_ind'] = -1\n",
    "for i, ind in enumerate(data.index.values): # [data['gazeshift_responsive']==True]\n",
    "    if i in list(i2label.keys()):\n",
    "        data.at[ind, 'gazecluster_ind'] = i2label[i]"
   ]
  },
  {
   "cell_type": "code",
   "execution_count": null,
   "id": "e6d595a0-b9c1-42e3-a762-9de3bb82fdb9",
   "metadata": {},
   "outputs": [],
   "source": [
    "plt.subplots(2,3,figsize=(10,8))\n",
    "for n, name in enumerate(range(0,5)):\n",
    "    plt.subplot(2,3,n+1)\n",
    "    plotvals = data['pref_gazeshift_psth'][data['gazeshift_responsive']][data['gazecluster_ind']==name] # pref_gazeshift_psth\n",
    "    if len(plotvals.index.values)==0:\n",
    "        continue\n",
    "    cluster = flatten_series(plotvals)\n",
    "    for i in range(np.size(cluster,0)):\n",
    "        plt.plot(psth_bins, cluster[i,:], alpha=0.5)\n",
    "    plt.plot(psth_bins, np.median(cluster,0), 'k-', linewidth=3)\n",
    "    plt.title('{} (N={})'.format(name, len(plotvals)))\n",
    "    plt.xlim([-0.3,0.3])\n",
    "    plt.ylim([-1.5,1])\n",
    "plt.tight_layout()"
   ]
  },
  {
   "cell_type": "markdown",
   "id": "c22d3bb3-95f0-4ffe-9949-fe8bafadc6dd",
   "metadata": {},
   "source": [
    "## gratings"
   ]
  },
  {
   "cell_type": "code",
   "execution_count": null,
   "id": "ea4cfa24-d583-4a8a-af50-2fbbe641737f",
   "metadata": {},
   "outputs": [],
   "source": [
    "for ind, row in data.iterrows():\n",
    "    sec = row['Gt_eyeT'][-1].astype(float) - row['Gt_eyeT'][0].astype(float)\n",
    "    sp = len(row['Gt_spikeT'])\n",
    "    data.at[ind, 'Gt_fr'] = sp/sec\n",
    "    \n",
    "    data.at[ind, 'raw_mod_for_Gt'] = gt_modind(row['Gt_grating_psth'])\n",
    "    \n",
    "    data.at[ind, 'norm_mod_for_Gt'] = gt_modind(row['norm_gratings_psth'])\n",
    "    \n",
    "    # psth = row['Gt_grating_psth']\n",
    "    # baseline = np.median(psth[1:5].copy())\n",
    "    # peak = np.median(psth[5:14].copy())\n",
    "    # data.at[ind, 'raw_mod_for_Gt'] = peak - baseline\n",
    "    \n",
    "data['Gt_responsive'] = False\n",
    "for ind, row in data.iterrows():\n",
    "    if (row['raw_mod_for_Gt']>1) and (row['norm_mod_for_Gt']>0.1):\n",
    "        data.at[ind, 'Gt_responsive'] = True\n",
    "\n",
    "print(data['Gt_responsive'].sum())\n",
    "print(data['Gt_responsive'].sum()/len(data.index.values))"
   ]
  },
  {
   "cell_type": "markdown",
   "id": "75276502-db23-4652-8285-d2244629b2e6",
   "metadata": {},
   "source": [
    "### a few visualizations"
   ]
  },
  {
   "cell_type": "code",
   "execution_count": null,
   "id": "ec1a8f69-2026-4dd5-8227-23d3b0155cce",
   "metadata": {},
   "outputs": [],
   "source": [
    "from scipy import stats\n",
    "def running_median(panel, x, y, n_bins=7):\n",
    "    bins = np.linspace(np.min(x), np.max(x), n_bins)\n",
    "    bin_means, bin_edges, bin_number = stats.binned_statistic(x[~np.isnan(x) & ~np.isnan(y)], y[~np.isnan(x) & ~np.isnan(y)], statistic=np.median, bins=bins)\n",
    "    bin_std, _, _ = stats.binned_statistic(x[~np.isnan(x) & ~np.isnan(y)], y[~np.isnan(x) & ~np.isnan(y)], statistic=np.nanstd, bins=bins)\n",
    "    hist, _ = np.histogram(x[~np.isnan(x) & ~np.isnan(y)], bins=bins)\n",
    "    tuning_err = bin_std / np.sqrt(hist)\n",
    "    panel.plot(bin_edges[:-1] + (np.median(np.diff(bins))/2), bin_means, '-', color='k')\n",
    "    panel.fill_between(bin_edges[:-1] + (np.median(np.diff(bins))/2), bin_means-tuning_err, bin_means+tuning_err, color='k', alpha=0.2)"
   ]
  },
  {
   "cell_type": "code",
   "execution_count": null,
   "id": "d8413938-98a3-4ba2-a22d-6363c26bba1d",
   "metadata": {},
   "outputs": [],
   "source": [
    "plotdata = data[data['gazeshift_responsive']][data['Gt_responsive']].copy()\n",
    "\n",
    "fig, ax = plt.subplots(1,1, dpi=200, figsize=(3,2))\n",
    "cmaps = [cat_cmap['early'],cat_cmap['late'],cat_cmap['biphasic'],cat_cmap['negative']]\n",
    "for ki, k in enumerate([0,1,4,3]):\n",
    "    \n",
    "    sf_prefs = plotdata['sf_pref_cpd'][~pd.isnull(plotdata['sf_pref_cpd'])][~pd.isnull(plotdata['FmLt_gazeshift_peakT'])][plotdata['gazecluster_ind']==k].copy().to_numpy()\n",
    "    peak_times = plotdata['FmLt_gazeshift_peakT'][~pd.isnull(plotdata['sf_pref_cpd'])][~pd.isnull(plotdata['FmLt_gazeshift_peakT'])][plotdata['gazecluster_ind']==k].copy().to_numpy()\n",
    "    \n",
    "    ax.scatter(peak_times, sf_prefs, color=cmaps[ki], s=3)\n",
    "    \n",
    "sf_prefs = plotdata['sf_pref_cpd'][plotdata['gazecluster_ind']!=2][~pd.isnull(plotdata['sf_pref_cpd'])][~pd.isnull(plotdata['FmLt_gazeshift_peakT'])].copy().to_numpy()\n",
    "peak_times = plotdata['FmLt_gazeshift_peakT'][plotdata['gazecluster_ind']!=2][~pd.isnull(plotdata['sf_pref_cpd'])][~pd.isnull(plotdata['FmLt_gazeshift_peakT'])].copy().to_numpy()\n",
    "    \n",
    "running_median(ax, peak_times, sf_prefs, n_bins=7)\n",
    "\n",
    "# all_peakT = []\n",
    "# for i,x in enumerate(plotdata['sf_pref_cpd'][plotdata['gazecluster_ind']!=3]):\n",
    "#     all_peakT.append(psth_bins[np.argmax(x[startwin:endwin])+startwin])\n",
    "# all_peakT = np.array(all_peakT)\n",
    "    \n",
    "# sf_prefs = plotdata['sf_pref_cpd'][plotdata['gazecluster_ind']!=1].copy().to_numpy()\n",
    "\n",
    "ax.set_ylabel('spatial freq (cpd)')\n",
    "ax.set_xlabel('peak latency (sec)')\n",
    "\n",
    "# ax.set_xlim([0,.175])\n",
    "ax.set_xticks(np.linspace(0, 0.170, 7), labels=np.linspace(0, 170, 7).astype(int))\n",
    "\n",
    "ax.set_ylim([0,0.2])\n",
    "\n",
    "ax.vlines(0.033,0,.32,'k',linestyle='dashed', linewidth=1)\n",
    "# plt.hlines(.33,0.015, .2,'k',linestyle='dashed', linewidth=1)\n"
   ]
  },
  {
   "cell_type": "code",
   "execution_count": null,
   "id": "91ac5507-0fdf-40aa-9afc-d59bfb433a89",
   "metadata": {},
   "outputs": [],
   "source": [
    "startwin = 1015\n",
    "endwin = 1200\n",
    "print(endwin-startwin)\n",
    "plotdata = data[data['use']].copy()#[data1['use']].copy() #[data1['session']!='032022_J599LT_control_Rig2'].copy() # \n",
    "fig, ax = plt.subplots(1,1, dpi=300, figsize=(3,2))\n",
    "cmaps = [cat_cmap['early'],cat_cmap['late'],cat_cmap['biphasic'],cat_cmap['negative']]\n",
    "for ki, k in enumerate([0,2,4,1]):\n",
    "    sf_prefs = plotdata['gazeshift_dirselind'][plotdata['gazecluster_ind']==k].copy().to_numpy()\n",
    "    for i,x in enumerate(plotdata['pref_gazeshift_psth'][plotdata['gazecluster_ind']==k]): # gazecluster_ind\n",
    "        peakT = psth_bins[np.argmax(x[startwin:endwin])+startwin]\n",
    "\n",
    "        ax.plot(peakT, sf_prefs[i], '.', color=cmaps[ki], markersize=3)\n",
    "all_peakT = []\n",
    "for i,x in enumerate(plotdata['pref_gazeshift_psth'][plotdata['gazecluster_ind']!=3]):\n",
    "    all_peakT.append(psth_bins[np.argmax(x[startwin:endwin])+startwin])\n",
    "all_peakT = np.array(all_peakT)\n",
    "    \n",
    "sf_prefs = plotdata['gazeshift_dirselind'][plotdata['gazecluster_ind']!=3].copy().to_numpy()\n",
    "\n",
    "all_peakT = all_peakT[~np.isnan(sf_prefs)]\n",
    "sf_prefs = sf_prefs[~np.isnan(sf_prefs)]\n",
    "\n",
    "running_median(ax, all_peakT, sf_prefs, n_bins=14)\n",
    "# ax.set_ylim([0,0.2])\n",
    "ax.set_ylabel('gaze direction selectivity')\n",
    "ax.set_xlabel('peak latency (sec)')\n",
    "plt.vlines(0.035,0,.8,'k',linestyle='dashed', linewidth=1)\n",
    "plt.hlines(.33,0.015,.2,'k',linestyle='dashed', linewidth=1)\n"
   ]
  },
  {
   "cell_type": "markdown",
   "id": "d0b38ade-18c8-45cb-a4b1-8f2beb983a36",
   "metadata": {},
   "source": [
    "# dark modulation"
   ]
  },
  {
   "cell_type": "code",
   "execution_count": null,
   "id": "2babd319-1775-4aaf-a507-bc20119cf6b2",
   "metadata": {},
   "outputs": [],
   "source": [
    "for ind, row in data.iterrows():\n",
    "    norm_psth = row['pref_dark_gazeshift_psth'].copy().astype(float)\n",
    "    data.at[ind, 'norm_dark_modulation'] = psth_modind(norm_psth)\n",
    "    \n",
    "    raw_psth = row['FmDk_gazeshift_{}_saccPSTH_dHead'.format(row['pref_gazeshift_direction'])].copy().astype(float)\n",
    "    data.at[ind, 'dark_modulation'] = psth_modind(raw_psth)"
   ]
  },
  {
   "cell_type": "code",
   "execution_count": null,
   "id": "80bc31c1-e002-4906-b3da-93bdf4e55910",
   "metadata": {
    "scrolled": true,
    "tags": []
   },
   "outputs": [],
   "source": [
    "cmaps = [cat_cmap['early'],cat_cmap['late'],cat_cmap['biphasic'],cat_cmap['negative']]\n",
    "\n",
    "plotvals = data[data['gazeshift_responsive']][data['gazecluster_ind']!=4].copy()\n",
    "\n",
    "for ind in plotvals.index.values:\n",
    "    plt.plot(plotvals.loc[ind,'FmDk_gazeshift_peakT'], plotvals.loc[ind,'gazeshift_dirselind'], '.', color=cmaps[plotvals.loc[ind,'gazecluster_ind']])\n",
    "plt.xlabel('peakT'); plt.ylabel('direction selectivity')\n",
    "plt.vlines(.033, 0, 1, 'k')\n",
    "plt.hlines(0, 0.010, .170, 'k')"
   ]
  },
  {
   "cell_type": "code",
   "execution_count": null,
   "id": "2bf2fcd6-79f5-42db-8a4f-7e9479841386",
   "metadata": {},
   "outputs": [],
   "source": [
    "movement_inds = data[data['movcluster1']=='movement'].index.values"
   ]
  },
  {
   "cell_type": "code",
   "execution_count": null,
   "id": "a60ed07d-a63d-4101-a5ba-29ddba8ed35b",
   "metadata": {},
   "outputs": [],
   "source": [
    "ind = 292\n",
    "row = data.loc[ind].copy()\n",
    "\n",
    "fig, axs = plt.subplots(2,2,figsize=(3,3),dpi=200)\n",
    "\n",
    "light_pref = row['FmLt_gazeshift_{}_saccPSTH_dHead'.format(row['pref_gazeshift_direction'])]\n",
    "light_nonpref = row['FmLt_gazeshift_{}_saccPSTH_dHead'.format(row['nonpref_gazeshift_direction'])]\n",
    "\n",
    "dark_pref = row['FmDk_gazeshift_{}_saccPSTH_dHead'.format(row['pref_gazeshift_direction'])]\n",
    "dark_nonpref = row['FmDk_gazeshift_{}_saccPSTH_dHead'.format(row['nonpref_gazeshift_direction'])]\n",
    "\n",
    "axs[0,0].plot(psth_bins, light_pref, 'k')\n",
    "axs[0,1].plot(psth_bins, light_nonpref, 'k')\n",
    "axs[1,0].plot(psth_bins, dark_pref, 'k')\n",
    "axs[1,1].plot(psth_bins, dark_nonpref, 'k')\n",
    "\n",
    "axs[0,0].set_title('light pref')\n",
    "axs[0,1].set_title('light non-pref')\n",
    "axs[1,0].set_title('dark pref')\n",
    "axs[1,1].set_title('dark non-pref')\n",
    "\n",
    "for i in range(2):\n",
    "    for j in range(2):\n",
    "        axs[i,j].set_xlim([-0.3,0.3])\n",
    "        axs[i,j].set_ylim([0, np.max([light_pref, light_nonpref, dark_pref, dark_nonpref])*1.1])\n",
    "\n",
    "fig.tight_layout()"
   ]
  },
  {
   "cell_type": "code",
   "execution_count": null,
   "id": "d26184ef-c01a-48ed-88bb-eeb15cd24306",
   "metadata": {
    "tags": []
   },
   "outputs": [],
   "source": [
    "cmaps = [cat_cmap['early'],cat_cmap['late'],cat_cmap['biphasic'],cat_cmap['negative']]\n",
    "\n",
    "data['dark_responsive'] = False\n",
    "\n",
    "for ki, k in enumerate([0,4,1,2]):\n",
    "    \n",
    "    plotvals = data[data['gazeshift_responsive']][data['gazecluster_ind']==k].copy()\n",
    "\n",
    "    fig, [[ax0,ax1,ax2,ax3],[ax4,ax5,ax6,ax7]] = plt.subplots(2,4,figsize=(10,5), dpi=300)\n",
    "\n",
    "    for ind in plotvals.index.values:\n",
    "        row = plotvals.loc[ind].copy()\n",
    "        \n",
    "        fmt='.'; sz=2.5\n",
    "        \n",
    "        if (row['dark_modulation']>1) and (row['norm_dark_modulation']>0.1) and (row['FmDk_gazeshift_peakT']<=0.035): # (row['gazeshift_dirselind']>=.33) and\n",
    "            data.at[ind, 'dark_responsive'] = True\n",
    "            ax0.annotate(str(ind), xy=[row['dark_modulation'], row['norm_dark_modulation']], fontsize=6)\n",
    "            ax1.annotate(str(ind), xy=[row['dark_modulation'], row['FmDk_gazeshift_peakT']], fontsize=6)\n",
    "            ax2.annotate(str(ind), xy=[row['dark_modulation'], row['gazeshift_dirselind']], fontsize=6)\n",
    "            \n",
    "            ax3.annotate(str(ind), xy=[row['norm_dark_modulation'], row['FmDk_gazeshift_peakT']], fontsize=6)\n",
    "            ax4.annotate(str(ind), xy=[row['norm_dark_modulation'], row['gazeshift_dirselind']], fontsize=6)\n",
    "            \n",
    "            ax5.annotate(str(ind), xy=[row['FmDk_gazeshift_peakT'], row['gazeshift_dirselind']], fontsize=6)\n",
    "            \n",
    "            ax6.plot(psth_bins, row['pref_dark_gazeshift_psth'], alpha=0.5)\n",
    "            \n",
    "            c='g'\n",
    "            \n",
    "        else:\n",
    "            c=cmaps[ki]\n",
    "            \n",
    "        ax0.plot(row['dark_modulation'], row['norm_dark_modulation'],\n",
    "                fmt, color=c, markersize=sz)\n",
    "        ax1.plot(row['dark_modulation'], row['FmDk_gazeshift_peakT'],\n",
    "                fmt, color=c, markersize=sz)\n",
    "        ax2.plot(row['dark_modulation'], row['gazeshift_dirselind'],\n",
    "                fmt, color=c, markersize=sz)\n",
    "        ax3.plot(row['norm_dark_modulation'], row['FmDk_gazeshift_peakT'],\n",
    "                fmt, color=c, markersize=sz)\n",
    "        ax4.plot(row['norm_dark_modulation'], row['gazeshift_dirselind'],\n",
    "                fmt, color=c, markersize=sz)\n",
    "        ax5.plot(row['FmDk_gazeshift_peakT'], row['gazeshift_dirselind'],\n",
    "                fmt, color=c, markersize=sz)\n",
    "        \n",
    "        \n",
    "            \n",
    "\n",
    "    ax0.set_xlabel('modulation (sp/sec)'); ax0.set_ylabel('norm. modulation')\n",
    "    \n",
    "    ax1.set_xlabel('modulation (sp/sec)'); ax1.set_ylabel('latency')\n",
    "    \n",
    "    ax2.set_xlabel('modulation (sp/sec)'); ax2.set_ylabel('DSI')\n",
    "    \n",
    "    ax3.set_xlabel('norm. modulation'); ax3.set_ylabel('latency')\n",
    "    \n",
    "    ax4.set_xlabel('norm. modulation'); ax4.set_ylabel('DSI')\n",
    "    \n",
    "    ax5.set_xlabel('latency'); ax5.set_ylabel('DSI')\n",
    "\n",
    "    # (row['gazeshift_dirselind']>.33)\n",
    "    # [plotvals['gazeshift_dirselind']>.33]\n",
    "    \n",
    "    kname = ['early','late','biphasic','negative'][ki]\n",
    "    \n",
    "    use_for_med = plotvals['pref_dark_gazeshift_psth'][plotvals['dark_modulation']>1][plotvals['norm_dark_modulation']>0.1][data['FmDk_gazeshift_peakT']<=0.035]#[plotvals['gazeshift_dirselind']>=.33]\n",
    "    if len(use_for_med.index.values)>1:\n",
    "        all_psth = flatten_series(use_for_med)\n",
    "        ax6.plot(psth_bins, np.median(all_psth,0), 'k')\n",
    "    ax6.set_title('dark pref. gaze shift')\n",
    "\n",
    "    n_dark_resp = len(use_for_med.index.values)\n",
    "    ax6.set_xlim([-.3,.3])\n",
    "    \n",
    "    ax0.set_title('{} n={}/{}'.format(kname, n_dark_resp, len(plotvals.index.values)))\n",
    "    \n",
    "    ax7.axis('off')\n",
    "    \n",
    "    fig.tight_layout()\n",
    "\n",
    "    fig_label = 'modFr_lowLatency'\n",
    "    \n",
    "    fig.savefig('/home/niell_lab/Desktop/{}_{}_.png'.format(kname, fig_label))\n",
    "    \n",
    "# ax; ax.set_zlabel('')\n",
    "# ax.set_xlim([0,17])\n",
    "# ax.view_init(45, 80)"
   ]
  },
  {
   "cell_type": "code",
   "execution_count": null,
   "id": "a0a497ef-cbbc-4f0a-b219-d1cb63644bbe",
   "metadata": {},
   "outputs": [],
   "source": [
    "plotvals = data['pref_dark_gazeshift_psth'][data['norm_dark_modulation']>0.1][data['dark_modulation']>1].copy()\n",
    "\n",
    "fig, [ax0, ax1] = plt.subplots(2,1,figsize=(3,4), dpi=300)\n",
    "\n",
    "ax0.plot(psth_bins, np.median(flatten_series(plotvals[plotvals['gazecluster_ind']!=3]),0), label='dark mod')\n",
    "\n",
    "ax1.plot(psth_bins, np.median(flatten_series(plotvals[plotvals['gazecluster_ind']!=3][plotvals['gazeshift_dirselind']>.33]),0), label='dark mod & 2:1 DSI')\n"
   ]
  },
  {
   "cell_type": "code",
   "execution_count": null,
   "id": "fcdfa714-cf77-4191-b9cc-92e543556c75",
   "metadata": {},
   "outputs": [],
   "source": [
    "for ind in plotvals[plotvals['norm_dark_modulation']>0.1][plotvals['dark_modulation']>0.1].index.values:\n",
    "    plt.plot(psth_bins, plotvals.loc[ind, 'pref_gazeshift_psth'])\n",
    "plt.xlim([-.3,.4])"
   ]
  },
  {
   "cell_type": "code",
   "execution_count": null,
   "id": "79899bda-64a2-40bd-b505-3175e6638c71",
   "metadata": {},
   "outputs": [],
   "source": [
    "for x in plotvals['pref_gazeshift_psth'][data['gazeshift_dirselind']>.6]:\n",
    "    plt.plot(psth_bins, x)\n",
    "plt.xlim([-.3,.4])\n",
    "plt.vlines(0, 0, 1, 'k')"
   ]
  },
  {
   "cell_type": "markdown",
   "id": "cef37036-31d0-4b8f-abe5-a79859626942",
   "metadata": {},
   "source": [
    "### Name clusters"
   ]
  },
  {
   "cell_type": "code",
   "execution_count": null,
   "id": "c5cac3bf-e182-4078-a698-7facdfca1686",
   "metadata": {},
   "outputs": [],
   "source": [
    "np.min(np.median(flatten_series(data['pref_gazeshift_psth'][data['gazecluster_ind']==0]), axis=0))"
   ]
  },
  {
   "cell_type": "code",
   "execution_count": null,
   "id": "cf0cf7c9-1511-4257-b19a-62e34b52d524",
   "metadata": {},
   "outputs": [],
   "source": [
    "np.min(np.median(flatten_series(data['pref_gazeshift_psth'][data['gazecluster_ind']==2]), axis=0))"
   ]
  },
  {
   "cell_type": "code",
   "execution_count": null,
   "id": "792cffe0-e5c4-49c1-8cfb-0ac24cc8b98a",
   "metadata": {},
   "outputs": [],
   "source": [
    "for k in range(5):\n",
    "    med_response = np.median(flatten_series(data['pref_gazeshift_psth'][data['gazecluster_ind']==k]), axis=0)\n",
    "    plt.plot(psth_bins, med_response, label=k)\n",
    "plt.xlim(-0.2,0.4)\n",
    "plt.vlines(.07,-.5,.5 ,'k')\n",
    "plt.legend()"
   ]
  },
  {
   "cell_type": "code",
   "execution_count": null,
   "id": "05e49db4-26bf-496e-b6e0-e8c5fca165d9",
   "metadata": {},
   "outputs": [],
   "source": [
    "def label_movcluster(psth, el_bound=0.08):\n",
    "    \"\"\"\n",
    "    PSTH should be the neural response to eye movements\n",
    "    between -0.0625 and 0.3125 sec, where 0 is the moment\n",
    "    of the eye movement.\n",
    "    \"\"\"\n",
    "\n",
    "    # find peaks and troughs in PSTH\n",
    "    p, peak_props = find_peaks(psth, height=.30)\n",
    "    t, trough_props = find_peaks(-psth, height=.20)\n",
    "\n",
    "    # get the time index of the highest peaks\n",
    "    if len(p) > 1:\n",
    "        p = p[np.argmax(peak_props['peak_heights'])]\n",
    "    if len(t) > 1:\n",
    "        t = t[np.argmax(trough_props['peak_heights'])]\n",
    "    if p.size == 0:\n",
    "        p = np.nan\n",
    "    if t.size == 0:\n",
    "        t = np.nan\n",
    "    if ~np.isnan(p):\n",
    "        p = int(p)\n",
    "    if ~np.isnan(t):\n",
    "        t = int(t)\n",
    "\n",
    "    # some filtering to choose the best position for the peak\n",
    "    if ~np.isnan(p):\n",
    "        has_peak = True\n",
    "        peak_cent = p\n",
    "    else:\n",
    "        has_peak = False\n",
    "        peak_cent = None\n",
    "    if ~np.isnan(t):\n",
    "        has_trough = True\n",
    "        trough_cent = t\n",
    "    else:\n",
    "        has_trough = False\n",
    "        trough_cent = None\n",
    "\n",
    "    # now we decide which cluster each of these should be\n",
    "    el_bound_ind = np.argmin(np.abs(psth_bins-el_bound))\n",
    "    if has_peak and has_trough:\n",
    "        return 'biphasic'\n",
    "    elif has_trough and ~has_peak:\n",
    "        return 'negative'\n",
    "    elif peak_cent is not None and peak_cent <= el_bound_ind:\n",
    "        return 'early'\n",
    "    elif peak_cent is not None and peak_cent > el_bound_ind:\n",
    "        return 'late'\n",
    "    else:\n",
    "        return 'unresponsive'"
   ]
  },
  {
   "cell_type": "code",
   "execution_count": null,
   "id": "07986a9e-e0ea-4833-bd91-0cb7cbdf165e",
   "metadata": {},
   "outputs": [],
   "source": [
    "for ind, row in data.iterrows():\n",
    "    if row['gazecluster_ind'] == -1:\n",
    "        data.at[ind, 'gazecluster_ind'] = 0"
   ]
  },
  {
   "cell_type": "code",
   "execution_count": null,
   "id": "f5252810-b33f-446f-b762-d257c2192428",
   "metadata": {},
   "outputs": [],
   "source": [
    "cluster_to_cell_type = {}\n",
    "for l in range(5):\n",
    "    med_response = np.median(flatten_series(data['pref_gazeshift_psth'][data['gazecluster_ind']==l]), axis=0)\n",
    "    cluster_to_cell_type[l] = label_movcluster(med_response)\n",
    "data['gazecluster'] = 'unresponsive'\n",
    "for ind, row in data.iterrows():\n",
    "    if row['gazeshift_responsive']:\n",
    "        data.at[ind, 'gazecluster'] = cluster_to_cell_type[row['gazecluster_ind']]\n",
    "data['gazecluster'].value_counts()"
   ]
  },
  {
   "cell_type": "markdown",
   "id": "02a3a607-4cc3-4ee0-b39e-ff535ae40777",
   "metadata": {
    "tags": []
   },
   "source": [
    "# Only for HFFM"
   ]
  },
  {
   "cell_type": "markdown",
   "id": "d713c052-274b-4a71-b638-92fb413f170c",
   "metadata": {},
   "source": [
    "## Gratings"
   ]
  },
  {
   "cell_type": "code",
   "execution_count": null,
   "id": "cef07cc1-9327-46d1-9a4b-e699e4fd60a7",
   "metadata": {},
   "outputs": [],
   "source": [
    "for sf in ['low','mid','high']:\n",
    "    data['norm_ori_tuning_'+sf] = data['Gt_ori_tuning_tf'].copy().astype(object)\n",
    "for ind, row in data.iterrows():\n",
    "    orientations = np.nanmean(np.array(row['Gt_ori_tuning_tf'], dtype=np.float),2)\n",
    "    for sfnum in range(3):\n",
    "        sf = ['low','mid','high'][sfnum]\n",
    "        data.at[ind,'norm_ori_tuning_'+sf] = orientations[:,sfnum] - row['Gt_drift_spont']\n",
    "    mean_for_sf = np.array([np.mean(data.at[ind,'norm_ori_tuning_low']), np.mean(data.at[ind,'norm_ori_tuning_mid']), np.mean(data.at[ind,'norm_ori_tuning_high'])])\n",
    "    mean_for_sf[mean_for_sf<0] = 0\n",
    "    data.at[ind,'sf_pref'] = ((mean_for_sf[0]*1)+(mean_for_sf[1]*2)+(mean_for_sf[2]*3))/np.sum(mean_for_sf)\n",
    "\n",
    "data['osi_for_sf_pref'] = np.nan\n",
    "data['dsi_for_sf_pref'] = np.nan\n",
    "for ind, row in data.iterrows():\n",
    "    if ~np.isnan(row['sf_pref']):\n",
    "        best_sf_pref = int(np.round(row['sf_pref']))\n",
    "        data.at[ind, 'osi_for_sf_pref'] = row[(['Gt_osi_low','Gt_osi_mid','Gt_osi_high'][best_sf_pref-1])]\n",
    "        data.at[ind, 'dsi_for_sf_pref'] = row[(['Gt_dsi_low','Gt_dsi_mid','Gt_dsi_high'][best_sf_pref-1])]\n",
    "\n",
    "data['osi_for_sf_pref'][data['osi_for_sf_pref']<0] = 0\n",
    "data['dsi_for_sf_pref'][data['dsi_for_sf_pref']<0] = 0\n",
    "for ind, row in data.iterrows():\n",
    "    try:\n",
    "        mean_for_sf = np.array([np.mean(data.at[ind,'norm_ori_tuning_low']), np.mean(data.at[ind,'norm_ori_tuning_mid']), np.mean(data.at[ind,'norm_ori_tuning_high'])])\n",
    "        mean_for_sf[mean_for_sf<0] = 0\n",
    "        data.at[ind, 'Gt_evoked_rate'] = np.max(mean_for_sf) - row['Gt_drift_spont']\n",
    "    except:\n",
    "        pass\n",
    "\n",
    "for ind, row in data.iterrows():\n",
    "    if type(row['Gt_ori_tuning_tf']) != float:\n",
    "        tuning = np.nanmean(row['Gt_ori_tuning_tf'],1)\n",
    "        tuning = tuning - row['Gt_drift_spont']\n",
    "        tuning[tuning < 0] = 0\n",
    "        mean_for_tf = np.array([np.mean(tuning[:,0]), np.mean(tuning[:,1])])\n",
    "        tf_pref = ((mean_for_tf[0]*1)+(mean_for_tf[1]*2))/np.sum(mean_for_tf)\n",
    "        data.at[ind, 'tf_pref'] = tf_pref\n",
    "\n",
    "for ind, row in data.iterrows():\n",
    "    tf = 2 + (6 * (row['tf_pref']-1))\n",
    "    sf = 0.02 * 4 ** (row['sf_pref']-1)\n",
    "    data.at[ind,'tf_pref_cps'] = tf\n",
    "    data.at[ind,'sf_pref_cpd'] = sf\n",
    "    data.at[ind,'grat_speed_dps'] = tf / sf"
   ]
  },
  {
   "cell_type": "markdown",
   "id": "94110998-6176-4a89-b9d4-923a7b9854f6",
   "metadata": {
    "tags": []
   },
   "source": [
    "# Some light/dark calcs"
   ]
  },
  {
   "cell_type": "code",
   "execution_count": null,
   "id": "61ccb35b-4844-49a2-9a07-3a010687a80b",
   "metadata": {},
   "outputs": [],
   "source": [
    "model_dt = 0.025\n",
    "for ind, row in data.iterrows():\n",
    "    modelT = np.arange(0, np.nanmax(row['FmLt_eyeT']), model_dt)\n",
    "    \n",
    "    # timing is off sometimes... using eyeT instead of worldT to get maximum length\n",
    "    # and they can be different by a few frames\n",
    "    diff = len(modelT) - len(row['FmLt_rate'])\n",
    "    if diff>0: # modelT is longer\n",
    "        modelT = modelT[:-diff]\n",
    "    elif diff<0: # modelT is shorted\n",
    "        for i in range(np.abs(diff)):\n",
    "            modelT = np.append(modelT, modelT[-1]+model_dt)\n",
    "    model_gz = interp1d(row['FmLt_imuT'], row['FmLt_gyro_z'], bounds_error=False)(modelT)\n",
    "    model_active = np.convolve(np.abs(model_gz), np.ones(int(1/model_dt)), 'same') / len(np.ones(int(1/model_dt)))\n",
    "    data.at[ind, 'FmLt_model_active'] = model_active.astype(object)\n",
    "    data.at[ind, 'FmLt_modelT'] = modelT.astype(object)\n",
    "    \n",
    "    modelT = np.arange(0, np.nanmax(row['FmDk_eyeT']), model_dt)\n",
    "    diff = len(modelT) - len(row['FmDk_rate'])\n",
    "    if diff>0: # modelT is longer\n",
    "        modelT = modelT[:-diff]\n",
    "    elif diff<0: # modelT is shorted\n",
    "        for i in range(np.abs(diff)):\n",
    "            modelT = np.append(modelT, modelT[-1]+model_dt)\n",
    "    model_gz = interp1d(row['FmDk_imuT'], row['FmDk_gyro_z'], bounds_error=False)(modelT)\n",
    "    model_active = np.convolve(np.abs(model_gz), np.ones(int(1/model_dt)), 'same') / len(np.ones(int(1/model_dt)))\n",
    "    data.at[ind, 'FmDk_model_active'] = model_active.astype(object)\n",
    "    data.at[ind, 'FmDk_modelT'] = modelT.astype(object)"
   ]
  },
  {
   "cell_type": "code",
   "execution_count": null,
   "id": "70076d72-44bf-4799-a60b-43695188e4e5",
   "metadata": {},
   "outputs": [],
   "source": [
    "data['FmLt_fr'] = ((data['FmLt_rate'].apply(np.sum)*0.025) / data['FmLt_eyeT'].apply(np.nanmax)).to_numpy()\n",
    "data['FmDk_fr'] = ((data['FmDk_rate'].apply(np.sum)*0.025) / data['FmDk_eyeT'].apply(np.nanmax)).to_numpy()"
   ]
  },
  {
   "cell_type": "code",
   "execution_count": null,
   "id": "20f81880-16ce-4a77-835b-920188f6b2b7",
   "metadata": {},
   "outputs": [],
   "source": [
    "FmLt_fr = np.zeros([len(data.index.values)])\n",
    "FmDk_fr = np.zeros([len(data.index.values)])\n",
    "for ind, row in data.iterrows():\n",
    "    data.at[ind,'FmLt_active_fr'] = (np.sum(row['FmLt_rate'][row['FmLt_model_active']>40])) / np.size(row['FmLt_modelT'][row['FmLt_model_active']>40])\n",
    "    data.at[ind,'FmLt_inactive_fr'] = (np.sum(row['FmLt_rate'][row['FmLt_model_active']<40])) / np.size(row['FmLt_modelT'][row['FmLt_model_active']<40])\n",
    "    data.at[ind,'FmDk_active_fr'] = (np.sum(row['FmDk_rate'][row['FmDk_model_active']>40])) / np.size(row['FmDk_modelT'][row['FmDk_model_active']>40])\n",
    "    data.at[ind,'FmDk_inactive_fr'] = (np.sum(row['FmDk_rate'][row['FmDk_model_active']<40])) / np.size(row['FmDk_modelT'][row['FmDk_model_active']<40])"
   ]
  },
  {
   "cell_type": "markdown",
   "id": "8f5bd0b1-5d0b-4904-bdf1-34be95926746",
   "metadata": {},
   "source": [
    "## light/dark correlation"
   ]
  },
  {
   "cell_type": "code",
   "execution_count": null,
   "id": "bcbad501-87ca-4c75-9155-880d9fe29d1f",
   "metadata": {},
   "outputs": [],
   "source": [
    "for ind, row in data[['pref_dark_gazeshift_psth','pref_gazeshift_psth']].iterrows():\n",
    "    r = np.corrcoef(row['pref_gazeshift_psth'].astype(float)[1000:1250], row['pref_dark_gazeshift_psth'].astype(float)[1000:1250])\n",
    "    data.at[ind, 'gaze_ltdk_maxcc'] = r[0,1]"
   ]
  },
  {
   "cell_type": "markdown",
   "id": "4070f724-1a18-4aef-95e2-8793f232cdb4",
   "metadata": {},
   "source": [
    "# Head-fixed vs. gaze correlation"
   ]
  },
  {
   "cell_type": "code",
   "execution_count": null,
   "id": "f6dc2d1c-d27c-4e14-9e80-4a65c661113e",
   "metadata": {},
   "outputs": [],
   "source": [
    "for ind, row in data[['norm_Rc_psth','norm_Sn_psth','pref_gazeshift_psth']].iterrows():\n",
    "    if (np.sum(~np.isnan(row['norm_Rc_psth'].astype(float)[1000]))>0) and (np.sum(~np.isnan(row['pref_gazeshift_psth'].astype(float)))>0):\n",
    "        r = np.corrcoef(row['pref_gazeshift_psth'].astype(float)[1000:1250], row['norm_Rc_psth'].astype(float)[1000:1250])\n",
    "        data.at[ind, 'gaze_rc_maxcc'] = r[0,1]\n",
    "    if (np.sum(~np.isnan(row['norm_Sn_psth'].astype(float)))>0) and (np.sum(~np.isnan(row['pref_gazeshift_psth'].astype(float)))>0):\n",
    "        r = np.corrcoef(row['pref_gazeshift_psth'].astype(float)[1000:1250], row['norm_Sn_psth'].astype(float)[1000:1250])\n",
    "        data.at[ind, 'gaze_sn_maxcc'] = r[0,1]"
   ]
  },
  {
   "cell_type": "markdown",
   "id": "b120fc31-683c-401e-be8a-457a4086364a",
   "metadata": {},
   "source": [
    "# Save the dataset as a pickle"
   ]
  },
  {
   "cell_type": "code",
   "execution_count": null,
   "id": "85c7e592-27fd-4740-8435-967a38544fb5",
   "metadata": {},
   "outputs": [],
   "source": [
    "data.to_pickle('/home/niell_lab/Data/freely_moving_ephys/batch_files/061522/ltdk_061522.pickle')"
   ]
  },
  {
   "cell_type": "markdown",
   "id": "8737bcf3-4d9d-424a-b1a6-893cbadc7201",
   "metadata": {},
   "source": [
    "# Other"
   ]
  },
  {
   "cell_type": "code",
   "execution_count": null,
   "id": "9da66e0b-7653-4210-b528-bd6928d282ed",
   "metadata": {},
   "outputs": [],
   "source": [
    "fig1 = plt.figure(constrained_layout=True, figsize=(9,7.6), dpi=300)\n",
    "fig1spec = gridspec.GridSpec(nrows=5, ncols=3, figure=fig1, wspace=1.5, hspace=1.5)\n",
    "\n",
    "fig1Cspec = gridspec.GridSpecFromSubplotSpec(3,1,subplot_spec=fig1spec[0:2,1], wspace=0, hspace=0.01)\n",
    "ax_theta = fig1.add_subplot(fig1Cspec[0,0])\n",
    "ax_yaw = fig1.add_subplot(fig1Cspec[1,0])\n",
    "ax_gaze = fig1.add_subplot(fig1Cspec[2,0])\n",
    "\n",
    "fig1Dspec = gridspec.GridSpecFromSubplotSpec(1,1,subplot_spec=fig1spec[0:2,2], wspace=0, hspace=0)\n",
    "ax_dEyeHead = fig1.add_subplot(fig1Dspec[0,0])\n",
    "\n",
    "fig1E2Fspec = gridspec.GridSpecFromSubplotSpec(3,3,subplot_spec=fig1spec[2:,0:2], wspace=0.15, hspace=-.05)\n",
    "\n",
    "ax_pos_rasterG = fig1.add_subplot(fig1E2Fspec[0,0])\n",
    "ax_biph_rasterG = fig1.add_subplot(fig1E2Fspec[0,1])\n",
    "ax_neg_rasterG = fig1.add_subplot(fig1E2Fspec[0,2])\n",
    "\n",
    "ax_pos_rasterC = fig1.add_subplot(fig1E2Fspec[1,0])\n",
    "ax_biph_rasterC = fig1.add_subplot(fig1E2Fspec[1,1])\n",
    "ax_neg_rasterC = fig1.add_subplot(fig1E2Fspec[1,2])\n",
    "\n",
    "ax_pos_psth = fig1.add_subplot(fig1E2Fspec[2,0])\n",
    "ax_biph_psth = fig1.add_subplot(fig1E2Fspec[2,1])\n",
    "ax_neg_psth = fig1.add_subplot(fig1E2Fspec[2,2])\n",
    "\n",
    "fig1Gspec = gridspec.GridSpecFromSubplotSpec(2,1,subplot_spec=fig1spec[2:,2:], wspace=0.2, hspace=0.1)\n",
    "ax_ex_gaze = fig1.add_subplot(fig1Gspec[0,0])\n",
    "ax_ex_comp = fig1.add_subplot(fig1Gspec[1,0])\n",
    "\n",
    "start = 2090 #2100\n",
    "win = 60 # frames, not sec\n",
    "ex_units = [171,112,126]\n",
    "ex_units_direcprefs = ['left','left','right']\n",
    "\n",
    "ylim_val = 36\n",
    "theta_data = demo['FmLt_theta'][start:start+win]\n",
    "theta_data = theta_data - np.nanmean(theta_data)\n",
    "ax_theta.plot(theta_data, 'k-', linewidth=2, scaley=10)\n",
    "ax_theta.set_xlim([0,60]); ax_theta.set_xticks(ticks=np.linspace(0,60,5), labels=np.linspace(0,1,5))\n",
    "ax_theta.set_ylabel('theta (deg)')\n",
    "ax_theta.set_ylim([-ylim_val,ylim_val])\n",
    "ax_theta.axes.get_xaxis().set_visible(False)\n",
    "ax_theta.axes.spines.bottom.set_visible(False)\n",
    "\n",
    "pYaw = np.nancumsum(demo['FmLt_dHead'][start:start+win]*0.016)\n",
    "pYaw = pYaw - np.nanmean(pYaw)\n",
    "ax_yaw.plot(pYaw, 'k-', linewidth=2)\n",
    "ax_yaw.set_xlim([0,60])\n",
    "ax_yaw.set_xticks(ticks=np.linspace(0,60,5), labels=np.linspace(0,1,5))\n",
    "ax_yaw.set_ylabel('yaw (deg)')\n",
    "ax_yaw.axes.get_xaxis().set_visible(False)\n",
    "ax_yaw.axes.spines.bottom.set_visible(False)\n",
    "ax_yaw.set_ylim([-ylim_val,ylim_val])\n",
    "\n",
    "ax_gaze.plot(pYaw + theta_data, 'k-', linewidth=2)\n",
    "ax_gaze.set_xlim([0,60])\n",
    "ax_gaze.set_xticks(ticks=np.linspace(0,60,5), labels=np.linspace(0,1000,5).astype(int))\n",
    "ax_gaze.set_ylabel('gaze (deg)')\n",
    "ax_gaze.set_ylim([-ylim_val,ylim_val])\n",
    "ax_gaze.set_xlabel('time (msec)')\n",
    "\n",
    "for i in plotinds:\n",
    "    dGaze_i = np.abs(dHead_data[i]+dEye_data[i])\n",
    "    if eyeT[i] in gazemovs:\n",
    "        c = colors['gaze']\n",
    "    elif eyeT[i] in comp:\n",
    "        c = colors['comp']\n",
    "    elif (np.abs(dHead_data[i])<60) or ((dGaze_i<240) and (dGaze_i>120)):\n",
    "        c = 'dimgray'\n",
    "    else:\n",
    "        continue\n",
    "    ax_dEyeHead.plot(dHead_data[i], dEye_data[i], '.', color=c, markersize=2)\n",
    "\n",
    "ax_dEyeHead.set_aspect('equal','box')\n",
    "ax_dEyeHead.set_xlim([-600,600])\n",
    "ax_dEyeHead.set_ylim([-600,600])\n",
    "ax_dEyeHead.set_xlabel('head velocity (deg/sec)')\n",
    "ax_dEyeHead.set_ylabel('eye velocity (deg/sec)')\n",
    "ax_dEyeHead.plot([-500,500],[500,-500], linestyle='dashed', color='k', linewidth=1)\n",
    "# ax_dEyeHead.annotate('left', xy=[350,500], color='k')\n",
    "# ax_dEyeHead.annotate('right', xy=[-550,-500], color='k')\n",
    "# ax_dEyeHead.annotate('gaze shift', xy=[-620,470], color=colors['gaze'])\n",
    "# ax_dEyeHead.annotate('compensated', xy=[-620,550], color=colors['comp'])\n",
    "ax_dEyeHead.set_xticks(np.linspace(-600,600,5))\n",
    "ax_dEyeHead.set_yticks(np.linspace(-600,600,5))\n",
    "\n",
    "num_movements = 500\n",
    "raster_panelsG = [ax_pos_rasterG, ax_biph_rasterG, ax_neg_rasterG]\n",
    "raster_panelsC = [ax_pos_rasterC, ax_biph_rasterC, ax_neg_rasterC]\n",
    "sdf_panels = [ax_pos_psth, ax_biph_psth, ax_neg_psth]\n",
    "for i, u in enumerate(ex_units):\n",
    "    row = hffm.iloc[u]\n",
    "    rasterG = raster_panelsG[i]\n",
    "    rasterC = raster_panelsC[i]\n",
    "    sdf_panel = sdf_panels[i]\n",
    "    LR = ex_units_direcprefs[i]\n",
    "    \n",
    "    rasterG.set_title(['positive','biphasic','negative'][i])\n",
    "\n",
    "    gazeshifts = row['FmLt_gazeshift_{}_saccTimes_dHead'.format(LR)].copy()\n",
    "    compmovs = np.hstack([row['FmLt_comp_left_saccTimes_dHead'], row['FmLt_comp_right_saccTimes_dHead']])\n",
    "    \n",
    "    plot_gs = np.random.choice(gazeshifts, size=num_movements, replace=False)\n",
    "    plot_cp = np.random.choice(compmovs, size=num_movements, replace=False)\n",
    "\n",
    "    for n, s in enumerate(plot_gs):\n",
    "        sp = row['FmLt_spikeT']-s\n",
    "        sp = sp[np.abs(sp)<=0.5]\n",
    "        rasterG.plot(sp, np.ones(sp.size)*n, '|', color=colors['gaze'], markersize=0.25)\n",
    "\n",
    "    for n, s in enumerate(plot_cp):\n",
    "        sp = row['FmLt_spikeT']-s\n",
    "        sp = sp[np.abs(sp)<=0.5]\n",
    "        rasterC.plot(sp, np.ones(sp.size)*n, '|', color=colors['comp'], markersize=0.25)\n",
    "    \n",
    "    rasterG.set_ylim([num_movements, 0]); rasterC.set_ylim([num_movements,0])\n",
    "    rasterG.vlines(0, 0, num_movements, color='k', linewidth=1, linestyle='dashed')\n",
    "    rasterC.vlines(0, 0, num_movements, color='k', linewidth=1, linestyle='dashed')\n",
    "    if i == 0:\n",
    "        rasterG.set_ylabel('gaze shifts'); rasterC.set_ylabel('compensatory')\n",
    "        rasterG.set_yticks(np.linspace(0, 500, 3))\n",
    "        rasterC.set_yticks(np.linspace(0, 500, 3))\n",
    "    else:\n",
    "        rasterG.set_yticks(np.linspace(0, 500, 3),labels=[])\n",
    "        rasterC.set_yticks(np.linspace(0, 500, 3),labels=[])\n",
    "    rasterG.set_xticks([]); rasterC.set_xticks([])\n",
    "    rasterG.set_xlim([-.5,.5]); rasterC.set_xlim([-.5,.5])\n",
    "    rasterG.axes.spines.bottom.set_visible(False); rasterC.axes.spines.bottom.set_visible(False)\n",
    "    \n",
    "    sdf_panel.plot(psth_bins, row['FmLt_comp_{}_saccPSTH_dHead'.format(LR)], color=colors['comp'])\n",
    "    sdf_panel.plot(psth_bins, row['FmLt_gazeshift_{}_saccPSTH_dHead'.format(LR)], color=colors['gaze'])\n",
    "    max_fr = np.nanmax(row['FmLt_gazeshift_{}_saccPSTH_dHead'.format(LR)])*1.1\n",
    "    sdf_panel.set_ylim([0,max_fr])\n",
    "    sdf_panel.set_xticks(np.linspace(-.5,.5,3), labels=np.linspace(-500,500,3).astype(int))\n",
    "    sdf_panel.set_xlim([-.5,.5])\n",
    "    if i == 0:\n",
    "        sdf_panel.set_ylabel('spike rate (sp/sec)')\n",
    "    sdf_panel.set_xlabel('time (msec)')\n",
    "    sdf_panel.vlines(0, 0, max_fr, color='k', linewidth=1, linestyle='dashed')\n",
    "\n",
    "possible_inds = hffm['pref_comp_psth'][hffm['fr']>2].index.values\n",
    "np.random.seed(1)\n",
    "example_inds = np.sort(np.random.choice(possible_inds, size=50, replace=False))\n",
    "\n",
    "for ind in example_inds:\n",
    "    ax_ex_gaze.plot(psth_bins, hffm.loc[ind,'pref_gazeshift_psth'].astype(float), linewidth=1, alpha=0.3)\n",
    "    ax_ex_comp.plot(psth_bins, hffm.loc[ind,'pref_comp_psth'].astype(float), linewidth=1, alpha=0.3)\n",
    "ax_ex_gaze.set_xlim([-.5,.5])\n",
    "ax_ex_gaze.set_xticks(np.linspace(-.5,.5,3), labels=np.linspace(-500,500,3).astype(int))\n",
    "ax_ex_comp.set_xlim([-.5,.5])\n",
    "ax_ex_comp.set_xticks(np.linspace(-.5,.5,3), labels=np.linspace(-500,500,3).astype(int))\n",
    "ax_ex_gaze.set_ylim([-.7,1])\n",
    "ax_ex_comp.set_ylim([-.7,1])\n",
    "ax_ex_gaze.set_ylabel('norm. spike rate')\n",
    "ax_ex_comp.set_ylabel('norm. spike rate')\n",
    "ax_ex_comp.set_xlabel('time (msec)')\n",
    "ax_ex_gaze.set_xlabel('time (msec)')\n",
    "\n",
    "all_comp = flatten_series(hffm['pref_comp_psth'][hffm['gazecluster']!='unresponsive'][hffm['gazeshift_responsive']])\n",
    "all_gaze = flatten_series(hffm['pref_gazeshift_psth'][hffm['gazecluster']!='unresponsive'][hffm['gazeshift_responsive']])\n",
    "\n",
    "comp_mean = np.nanmedian(all_comp,0)\n",
    "comp_std = np.std(all_comp,0) / np.sqrt(np.size(all_comp))\n",
    "\n",
    "gaze_mean = np.nanmedian(all_gaze,0)\n",
    "gaze_std = np.std(all_gaze,0) / np.sqrt(np.size(all_gaze))\n",
    "ax_ex_comp.set_title('compensatory')\n",
    "ax_ex_gaze.set_title('gaze-shifting')\n",
    "ax_ex_comp.plot(psth_bins, comp_mean, color=colors['comp'], linewidth=3)\n",
    "ax_ex_gaze.plot(psth_bins, gaze_mean, color=colors['gaze'], linewidth=3)\n",
    "\n"
   ]
  }
 ],
 "metadata": {
  "kernelspec": {
   "display_name": "Python [conda env:ephys0]",
   "language": "python",
   "name": "conda-env-ephys0-py"
  },
  "language_info": {
   "codemirror_mode": {
    "name": "ipython",
    "version": 3
   },
   "file_extension": ".py",
   "mimetype": "text/x-python",
   "name": "python",
   "nbconvert_exporter": "python",
   "pygments_lexer": "ipython3",
   "version": "3.8.12"
  }
 },
 "nbformat": 4,
 "nbformat_minor": 5
}
