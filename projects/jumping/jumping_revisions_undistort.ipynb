{
 "cells": [
  {
   "cell_type": "code",
   "execution_count": 5,
   "metadata": {},
   "outputs": [],
   "source": [
    "import sys, os\n",
    "sys.path.insert(0, r'C:\\Users\\Niell Lab\\Documents\\GitHub\\FreelyMovingEphys-dmm')\n",
    "from src.run import Session\n",
    "from src.sidecam import Sidecam"
   ]
  },
  {
   "cell_type": "code",
   "execution_count": 6,
   "metadata": {},
   "outputs": [],
   "source": [
    "config_path = r'C:\\Users\\Niell Lab\\Desktop\\jump_cfg.yaml'\n",
    "date_directory = r'T:\\Phil\\jumping_revisions\\deeplabcut\\videos\\020322'"
   ]
  },
  {
   "cell_type": "code",
   "execution_count": 7,
   "metadata": {},
   "outputs": [
    {
     "data": {
      "text/plain": [
       "['T:\\\\Phil\\\\jumping_revisions\\\\deeplabcut\\\\videos\\\\020322\\\\PVCHA6LN',\n",
       " 'T:\\\\Phil\\\\jumping_revisions\\\\deeplabcut\\\\videos\\\\020322\\\\PVCHA6LT',\n",
       " 'T:\\\\Phil\\\\jumping_revisions\\\\deeplabcut\\\\videos\\\\020322\\\\PVCHA6RT',\n",
       " 'T:\\\\Phil\\\\jumping_revisions\\\\deeplabcut\\\\videos\\\\020322\\\\PVCHA6TT',\n",
       " 'T:\\\\Phil\\\\jumping_revisions\\\\deeplabcut\\\\videos\\\\020322\\\\PVCHA7LN',\n",
       " 'T:\\\\Phil\\\\jumping_revisions\\\\deeplabcut\\\\videos\\\\020322\\\\PVCHA7LT',\n",
       " 'T:\\\\Phil\\\\jumping_revisions\\\\deeplabcut\\\\videos\\\\020322\\\\PVCHA7RN',\n",
       " 'T:\\\\Phil\\\\jumping_revisions\\\\deeplabcut\\\\videos\\\\020322\\\\PVCHA7RT',\n",
       " 'T:\\\\Phil\\\\jumping_revisions\\\\deeplabcut\\\\videos\\\\020322\\\\PVCHA7TT']"
      ]
     },
     "execution_count": 7,
     "metadata": {},
     "output_type": "execute_result"
    }
   ],
   "source": [
    "# search subdirectories for the animal directories\n",
    "animal_directories = [os.path.join(date_directory, x) for x in next(os.walk(date_directory))[1]]\n",
    "animal_directories"
   ]
  },
  {
   "cell_type": "code",
   "execution_count": 8,
   "metadata": {
    "scrolled": true,
    "tags": []
   },
   "outputs": [
    {
     "name": "stdout",
     "output_type": "stream",
     "text": [
      "undistorting T:\\Phil\\jumping_revisions\\deeplabcut\\videos\\020322\\PVCHA6LN\\020322_PVCHA6LN_control_SIDE_0.avi\n",
      "saving to T:\\Phil\\jumping_revisions\\deeplabcut\\videos\\020322\\PVCHA6LN\\020322_PVCHA6LN_control_0_SIDEcalib.avi\n"
     ]
    },
    {
     "name": "stderr",
     "output_type": "stream",
     "text": [
      "100%|████████████████████████████████████████████████████████████████████████████████| 633/633 [00:21<00:00, 29.34it/s]\n"
     ]
    },
    {
     "name": "stdout",
     "output_type": "stream",
     "text": [
      "undistorting T:\\Phil\\jumping_revisions\\deeplabcut\\videos\\020322\\PVCHA6LN\\020322_PVCHA6LN_control_SIDE_1.avi\n",
      "saving to T:\\Phil\\jumping_revisions\\deeplabcut\\videos\\020322\\PVCHA6LN\\020322_PVCHA6LN_control_1_SIDEcalib.avi\n"
     ]
    },
    {
     "name": "stderr",
     "output_type": "stream",
     "text": [
      "100%|████████████████████████████████████████████████████████████████████████████████| 698/698 [00:23<00:00, 29.39it/s]\n"
     ]
    },
    {
     "name": "stdout",
     "output_type": "stream",
     "text": [
      "undistorting T:\\Phil\\jumping_revisions\\deeplabcut\\videos\\020322\\PVCHA6LN\\020322_PVCHA6LN_control_SIDE_10.avi\n",
      "saving to T:\\Phil\\jumping_revisions\\deeplabcut\\videos\\020322\\PVCHA6LN\\020322_PVCHA6LN_control_10_SIDEcalib.avi\n"
     ]
    },
    {
     "name": "stderr",
     "output_type": "stream",
     "text": [
      "100%|████████████████████████████████████████████████████████████████████████████████| 765/765 [00:26<00:00, 29.33it/s]\n"
     ]
    },
    {
     "name": "stdout",
     "output_type": "stream",
     "text": [
      "undistorting T:\\Phil\\jumping_revisions\\deeplabcut\\videos\\020322\\PVCHA6LN\\020322_PVCHA6LN_control_SIDE_11.avi\n",
      "saving to T:\\Phil\\jumping_revisions\\deeplabcut\\videos\\020322\\PVCHA6LN\\020322_PVCHA6LN_control_11_SIDEcalib.avi\n"
     ]
    },
    {
     "name": "stderr",
     "output_type": "stream",
     "text": [
      "100%|████████████████████████████████████████████████████████████████████████████████| 180/180 [00:06<00:00, 29.06it/s]\n"
     ]
    },
    {
     "name": "stdout",
     "output_type": "stream",
     "text": [
      "undistorting T:\\Phil\\jumping_revisions\\deeplabcut\\videos\\020322\\PVCHA6LN\\020322_PVCHA6LN_control_SIDE_12.avi\n",
      "saving to T:\\Phil\\jumping_revisions\\deeplabcut\\videos\\020322\\PVCHA6LN\\020322_PVCHA6LN_control_12_SIDEcalib.avi\n"
     ]
    },
    {
     "name": "stderr",
     "output_type": "stream",
     "text": [
      "100%|████████████████████████████████████████████████████████████████████████████████| 459/459 [00:15<00:00, 29.47it/s]\n"
     ]
    },
    {
     "name": "stdout",
     "output_type": "stream",
     "text": [
      "undistorting T:\\Phil\\jumping_revisions\\deeplabcut\\videos\\020322\\PVCHA6LN\\020322_PVCHA6LN_control_SIDE_13.avi\n",
      "saving to T:\\Phil\\jumping_revisions\\deeplabcut\\videos\\020322\\PVCHA6LN\\020322_PVCHA6LN_control_13_SIDEcalib.avi\n"
     ]
    },
    {
     "name": "stderr",
     "output_type": "stream",
     "text": [
      "100%|████████████████████████████████████████████████████████████████████████████████| 663/663 [00:22<00:00, 29.55it/s]\n"
     ]
    },
    {
     "name": "stdout",
     "output_type": "stream",
     "text": [
      "undistorting T:\\Phil\\jumping_revisions\\deeplabcut\\videos\\020322\\PVCHA6LN\\020322_PVCHA6LN_control_SIDE_14.avi\n",
      "saving to T:\\Phil\\jumping_revisions\\deeplabcut\\videos\\020322\\PVCHA6LN\\020322_PVCHA6LN_control_14_SIDEcalib.avi\n"
     ]
    },
    {
     "name": "stderr",
     "output_type": "stream",
     "text": [
      "100%|████████████████████████████████████████████████████████████████████████████████| 622/622 [00:21<00:00, 29.58it/s]\n"
     ]
    },
    {
     "name": "stdout",
     "output_type": "stream",
     "text": [
      "undistorting T:\\Phil\\jumping_revisions\\deeplabcut\\videos\\020322\\PVCHA6LN\\020322_PVCHA6LN_control_SIDE_15.avi\n",
      "saving to T:\\Phil\\jumping_revisions\\deeplabcut\\videos\\020322\\PVCHA6LN\\020322_PVCHA6LN_control_15_SIDEcalib.avi\n"
     ]
    },
    {
     "name": "stderr",
     "output_type": "stream",
     "text": [
      "100%|████████████████████████████████████████████████████████████████████████████████| 526/526 [00:17<00:00, 29.62it/s]\n"
     ]
    },
    {
     "name": "stdout",
     "output_type": "stream",
     "text": [
      "undistorting T:\\Phil\\jumping_revisions\\deeplabcut\\videos\\020322\\PVCHA6LN\\020322_PVCHA6LN_control_SIDE_16.avi\n",
      "saving to T:\\Phil\\jumping_revisions\\deeplabcut\\videos\\020322\\PVCHA6LN\\020322_PVCHA6LN_control_16_SIDEcalib.avi\n"
     ]
    },
    {
     "name": "stderr",
     "output_type": "stream",
     "text": [
      "100%|████████████████████████████████████████████████████████████████████████████████| 440/440 [00:14<00:00, 29.50it/s]\n"
     ]
    },
    {
     "name": "stdout",
     "output_type": "stream",
     "text": [
      "undistorting T:\\Phil\\jumping_revisions\\deeplabcut\\videos\\020322\\PVCHA6LN\\020322_PVCHA6LN_control_SIDE_17.avi\n",
      "saving to T:\\Phil\\jumping_revisions\\deeplabcut\\videos\\020322\\PVCHA6LN\\020322_PVCHA6LN_control_17_SIDEcalib.avi\n"
     ]
    },
    {
     "name": "stderr",
     "output_type": "stream",
     "text": [
      "100%|██████████████████████████████████████████████████████████████████████████████| 1357/1357 [00:45<00:00, 29.56it/s]\n"
     ]
    },
    {
     "name": "stdout",
     "output_type": "stream",
     "text": [
      "undistorting T:\\Phil\\jumping_revisions\\deeplabcut\\videos\\020322\\PVCHA6LN\\020322_PVCHA6LN_control_SIDE_18.avi\n",
      "saving to T:\\Phil\\jumping_revisions\\deeplabcut\\videos\\020322\\PVCHA6LN\\020322_PVCHA6LN_control_18_SIDEcalib.avi\n"
     ]
    },
    {
     "name": "stderr",
     "output_type": "stream",
     "text": [
      "100%|████████████████████████████████████████████████████████████████████████████████| 221/221 [00:07<00:00, 29.32it/s]\n"
     ]
    },
    {
     "name": "stdout",
     "output_type": "stream",
     "text": [
      "undistorting T:\\Phil\\jumping_revisions\\deeplabcut\\videos\\020322\\PVCHA6LN\\020322_PVCHA6LN_control_SIDE_19.avi\n",
      "saving to T:\\Phil\\jumping_revisions\\deeplabcut\\videos\\020322\\PVCHA6LN\\020322_PVCHA6LN_control_19_SIDEcalib.avi\n"
     ]
    },
    {
     "name": "stderr",
     "output_type": "stream",
     "text": [
      "100%|████████████████████████████████████████████████████████████████████████████████| 397/397 [00:13<00:00, 29.58it/s]\n"
     ]
    },
    {
     "name": "stdout",
     "output_type": "stream",
     "text": [
      "undistorting T:\\Phil\\jumping_revisions\\deeplabcut\\videos\\020322\\PVCHA6LN\\020322_PVCHA6LN_control_SIDE_2.avi\n",
      "saving to T:\\Phil\\jumping_revisions\\deeplabcut\\videos\\020322\\PVCHA6LN\\020322_PVCHA6LN_control_2_SIDEcalib.avi\n"
     ]
    },
    {
     "name": "stderr",
     "output_type": "stream",
     "text": [
      "100%|████████████████████████████████████████████████████████████████████████████████| 379/379 [00:12<00:00, 29.51it/s]\n"
     ]
    },
    {
     "name": "stdout",
     "output_type": "stream",
     "text": [
      "undistorting T:\\Phil\\jumping_revisions\\deeplabcut\\videos\\020322\\PVCHA6LN\\020322_PVCHA6LN_control_SIDE_20.avi\n",
      "saving to T:\\Phil\\jumping_revisions\\deeplabcut\\videos\\020322\\PVCHA6LN\\020322_PVCHA6LN_control_20_SIDEcalib.avi\n"
     ]
    },
    {
     "name": "stderr",
     "output_type": "stream",
     "text": [
      "100%|████████████████████████████████████████████████████████████████████████████████| 574/574 [00:19<00:00, 29.61it/s]\n"
     ]
    },
    {
     "name": "stdout",
     "output_type": "stream",
     "text": [
      "undistorting T:\\Phil\\jumping_revisions\\deeplabcut\\videos\\020322\\PVCHA6LN\\020322_PVCHA6LN_control_SIDE_21.avi\n",
      "saving to T:\\Phil\\jumping_revisions\\deeplabcut\\videos\\020322\\PVCHA6LN\\020322_PVCHA6LN_control_21_SIDEcalib.avi\n"
     ]
    },
    {
     "name": "stderr",
     "output_type": "stream",
     "text": [
      "100%|████████████████████████████████████████████████████████████████████████████████| 351/351 [00:11<00:00, 29.51it/s]\n"
     ]
    },
    {
     "name": "stdout",
     "output_type": "stream",
     "text": [
      "undistorting T:\\Phil\\jumping_revisions\\deeplabcut\\videos\\020322\\PVCHA6LN\\020322_PVCHA6LN_control_SIDE_22.avi\n",
      "saving to T:\\Phil\\jumping_revisions\\deeplabcut\\videos\\020322\\PVCHA6LN\\020322_PVCHA6LN_control_22_SIDEcalib.avi\n"
     ]
    },
    {
     "name": "stderr",
     "output_type": "stream",
     "text": [
      "100%|████████████████████████████████████████████████████████████████████████████████| 496/496 [00:16<00:00, 29.64it/s]\n"
     ]
    },
    {
     "name": "stdout",
     "output_type": "stream",
     "text": [
      "undistorting T:\\Phil\\jumping_revisions\\deeplabcut\\videos\\020322\\PVCHA6LN\\020322_PVCHA6LN_control_SIDE_23.avi\n",
      "saving to T:\\Phil\\jumping_revisions\\deeplabcut\\videos\\020322\\PVCHA6LN\\020322_PVCHA6LN_control_23_SIDEcalib.avi\n"
     ]
    },
    {
     "name": "stderr",
     "output_type": "stream",
     "text": [
      "100%|████████████████████████████████████████████████████████████████████████████████| 358/358 [00:12<00:00, 29.42it/s]\n"
     ]
    },
    {
     "name": "stdout",
     "output_type": "stream",
     "text": [
      "undistorting T:\\Phil\\jumping_revisions\\deeplabcut\\videos\\020322\\PVCHA6LN\\020322_PVCHA6LN_control_SIDE_24.avi\n",
      "saving to T:\\Phil\\jumping_revisions\\deeplabcut\\videos\\020322\\PVCHA6LN\\020322_PVCHA6LN_control_24_SIDEcalib.avi\n"
     ]
    },
    {
     "name": "stderr",
     "output_type": "stream",
     "text": [
      "100%|████████████████████████████████████████████████████████████████████████████████| 414/414 [00:14<00:00, 29.52it/s]\n"
     ]
    },
    {
     "name": "stdout",
     "output_type": "stream",
     "text": [
      "undistorting T:\\Phil\\jumping_revisions\\deeplabcut\\videos\\020322\\PVCHA6LN\\020322_PVCHA6LN_control_SIDE_25.avi\n",
      "saving to T:\\Phil\\jumping_revisions\\deeplabcut\\videos\\020322\\PVCHA6LN\\020322_PVCHA6LN_control_25_SIDEcalib.avi\n"
     ]
    },
    {
     "name": "stderr",
     "output_type": "stream",
     "text": [
      "100%|████████████████████████████████████████████████████████████████████████████████| 415/415 [00:14<00:00, 29.56it/s]\n"
     ]
    },
    {
     "name": "stdout",
     "output_type": "stream",
     "text": [
      "undistorting T:\\Phil\\jumping_revisions\\deeplabcut\\videos\\020322\\PVCHA6LN\\020322_PVCHA6LN_control_SIDE_26.avi\n",
      "saving to T:\\Phil\\jumping_revisions\\deeplabcut\\videos\\020322\\PVCHA6LN\\020322_PVCHA6LN_control_26_SIDEcalib.avi\n"
     ]
    },
    {
     "name": "stderr",
     "output_type": "stream",
     "text": [
      "100%|████████████████████████████████████████████████████████████████████████████████| 963/963 [00:32<00:00, 29.62it/s]\n"
     ]
    },
    {
     "name": "stdout",
     "output_type": "stream",
     "text": [
      "undistorting T:\\Phil\\jumping_revisions\\deeplabcut\\videos\\020322\\PVCHA6LN\\020322_PVCHA6LN_control_SIDE_27.avi\n",
      "saving to T:\\Phil\\jumping_revisions\\deeplabcut\\videos\\020322\\PVCHA6LN\\020322_PVCHA6LN_control_27_SIDEcalib.avi\n"
     ]
    },
    {
     "name": "stderr",
     "output_type": "stream",
     "text": [
      "100%|████████████████████████████████████████████████████████████████████████████████| 321/321 [00:10<00:00, 29.54it/s]\n"
     ]
    },
    {
     "name": "stdout",
     "output_type": "stream",
     "text": [
      "undistorting T:\\Phil\\jumping_revisions\\deeplabcut\\videos\\020322\\PVCHA6LN\\020322_PVCHA6LN_control_SIDE_28.avi\n",
      "saving to T:\\Phil\\jumping_revisions\\deeplabcut\\videos\\020322\\PVCHA6LN\\020322_PVCHA6LN_control_28_SIDEcalib.avi\n"
     ]
    },
    {
     "name": "stderr",
     "output_type": "stream",
     "text": [
      "100%|████████████████████████████████████████████████████████████████████████████████| 317/317 [00:10<00:00, 29.19it/s]\n"
     ]
    },
    {
     "name": "stdout",
     "output_type": "stream",
     "text": [
      "undistorting T:\\Phil\\jumping_revisions\\deeplabcut\\videos\\020322\\PVCHA6LN\\020322_PVCHA6LN_control_SIDE_29.avi\n",
      "saving to T:\\Phil\\jumping_revisions\\deeplabcut\\videos\\020322\\PVCHA6LN\\020322_PVCHA6LN_control_29_SIDEcalib.avi\n"
     ]
    },
    {
     "name": "stderr",
     "output_type": "stream",
     "text": [
      "100%|████████████████████████████████████████████████████████████████████████████████| 528/528 [00:17<00:00, 29.63it/s]\n"
     ]
    },
    {
     "name": "stdout",
     "output_type": "stream",
     "text": [
      "undistorting T:\\Phil\\jumping_revisions\\deeplabcut\\videos\\020322\\PVCHA6LN\\020322_PVCHA6LN_control_SIDE_3.avi\n",
      "saving to T:\\Phil\\jumping_revisions\\deeplabcut\\videos\\020322\\PVCHA6LN\\020322_PVCHA6LN_control_3_SIDEcalib.avi\n"
     ]
    },
    {
     "name": "stderr",
     "output_type": "stream",
     "text": [
      "100%|████████████████████████████████████████████████████████████████████████████████| 566/566 [00:19<00:00, 29.52it/s]\n"
     ]
    },
    {
     "name": "stdout",
     "output_type": "stream",
     "text": [
      "undistorting T:\\Phil\\jumping_revisions\\deeplabcut\\videos\\020322\\PVCHA6LN\\020322_PVCHA6LN_control_SIDE_30.avi\n",
      "saving to T:\\Phil\\jumping_revisions\\deeplabcut\\videos\\020322\\PVCHA6LN\\020322_PVCHA6LN_control_30_SIDEcalib.avi\n"
     ]
    },
    {
     "name": "stderr",
     "output_type": "stream",
     "text": [
      "100%|██████████████████████████████████████████████████████████████████████████████| 1200/1200 [00:40<00:00, 29.58it/s]\n"
     ]
    },
    {
     "name": "stdout",
     "output_type": "stream",
     "text": [
      "undistorting T:\\Phil\\jumping_revisions\\deeplabcut\\videos\\020322\\PVCHA6LN\\020322_PVCHA6LN_control_SIDE_31.avi\n",
      "saving to T:\\Phil\\jumping_revisions\\deeplabcut\\videos\\020322\\PVCHA6LN\\020322_PVCHA6LN_control_31_SIDEcalib.avi\n"
     ]
    },
    {
     "name": "stderr",
     "output_type": "stream",
     "text": [
      "100%|████████████████████████████████████████████████████████████████████████████████| 448/448 [00:15<00:00, 29.54it/s]\n"
     ]
    },
    {
     "name": "stdout",
     "output_type": "stream",
     "text": [
      "undistorting T:\\Phil\\jumping_revisions\\deeplabcut\\videos\\020322\\PVCHA6LN\\020322_PVCHA6LN_control_SIDE_32.avi\n",
      "saving to T:\\Phil\\jumping_revisions\\deeplabcut\\videos\\020322\\PVCHA6LN\\020322_PVCHA6LN_control_32_SIDEcalib.avi\n"
     ]
    },
    {
     "name": "stderr",
     "output_type": "stream",
     "text": [
      "100%|████████████████████████████████████████████████████████████████████████████████| 496/496 [00:16<00:00, 29.25it/s]\n"
     ]
    },
    {
     "name": "stdout",
     "output_type": "stream",
     "text": [
      "undistorting T:\\Phil\\jumping_revisions\\deeplabcut\\videos\\020322\\PVCHA6LN\\020322_PVCHA6LN_control_SIDE_33.avi\n",
      "saving to T:\\Phil\\jumping_revisions\\deeplabcut\\videos\\020322\\PVCHA6LN\\020322_PVCHA6LN_control_33_SIDEcalib.avi\n"
     ]
    },
    {
     "name": "stderr",
     "output_type": "stream",
     "text": [
      "100%|████████████████████████████████████████████████████████████████████████████████| 755/755 [00:25<00:00, 29.28it/s]\n"
     ]
    },
    {
     "name": "stdout",
     "output_type": "stream",
     "text": [
      "undistorting T:\\Phil\\jumping_revisions\\deeplabcut\\videos\\020322\\PVCHA6LN\\020322_PVCHA6LN_control_SIDE_34.avi\n",
      "saving to T:\\Phil\\jumping_revisions\\deeplabcut\\videos\\020322\\PVCHA6LN\\020322_PVCHA6LN_control_34_SIDEcalib.avi\n"
     ]
    },
    {
     "name": "stderr",
     "output_type": "stream",
     "text": [
      "100%|████████████████████████████████████████████████████████████████████████████████| 480/480 [00:16<00:00, 29.24it/s]\n"
     ]
    },
    {
     "name": "stdout",
     "output_type": "stream",
     "text": [
      "undistorting T:\\Phil\\jumping_revisions\\deeplabcut\\videos\\020322\\PVCHA6LN\\020322_PVCHA6LN_control_SIDE_35.avi\n",
      "saving to T:\\Phil\\jumping_revisions\\deeplabcut\\videos\\020322\\PVCHA6LN\\020322_PVCHA6LN_control_35_SIDEcalib.avi\n"
     ]
    },
    {
     "name": "stderr",
     "output_type": "stream",
     "text": [
      "100%|████████████████████████████████████████████████████████████████████████████████| 520/520 [00:17<00:00, 29.50it/s]\n"
     ]
    },
    {
     "name": "stdout",
     "output_type": "stream",
     "text": [
      "undistorting T:\\Phil\\jumping_revisions\\deeplabcut\\videos\\020322\\PVCHA6LN\\020322_PVCHA6LN_control_SIDE_36.avi\n",
      "saving to T:\\Phil\\jumping_revisions\\deeplabcut\\videos\\020322\\PVCHA6LN\\020322_PVCHA6LN_control_36_SIDEcalib.avi\n"
     ]
    },
    {
     "name": "stderr",
     "output_type": "stream",
     "text": [
      "100%|████████████████████████████████████████████████████████████████████████████████| 411/411 [00:13<00:00, 29.61it/s]\n"
     ]
    },
    {
     "name": "stdout",
     "output_type": "stream",
     "text": [
      "undistorting T:\\Phil\\jumping_revisions\\deeplabcut\\videos\\020322\\PVCHA6LN\\020322_PVCHA6LN_control_SIDE_37.avi\n",
      "saving to T:\\Phil\\jumping_revisions\\deeplabcut\\videos\\020322\\PVCHA6LN\\020322_PVCHA6LN_control_37_SIDEcalib.avi\n"
     ]
    },
    {
     "name": "stderr",
     "output_type": "stream",
     "text": [
      "100%|████████████████████████████████████████████████████████████████████████████████| 428/428 [00:14<00:00, 29.50it/s]\n"
     ]
    },
    {
     "name": "stdout",
     "output_type": "stream",
     "text": [
      "undistorting T:\\Phil\\jumping_revisions\\deeplabcut\\videos\\020322\\PVCHA6LN\\020322_PVCHA6LN_control_SIDE_38.avi\n",
      "saving to T:\\Phil\\jumping_revisions\\deeplabcut\\videos\\020322\\PVCHA6LN\\020322_PVCHA6LN_control_38_SIDEcalib.avi\n"
     ]
    },
    {
     "name": "stderr",
     "output_type": "stream",
     "text": [
      "100%|████████████████████████████████████████████████████████████████████████████████| 521/521 [00:17<00:00, 29.60it/s]\n"
     ]
    },
    {
     "name": "stdout",
     "output_type": "stream",
     "text": [
      "undistorting T:\\Phil\\jumping_revisions\\deeplabcut\\videos\\020322\\PVCHA6LN\\020322_PVCHA6LN_control_SIDE_39.avi\n",
      "saving to T:\\Phil\\jumping_revisions\\deeplabcut\\videos\\020322\\PVCHA6LN\\020322_PVCHA6LN_control_39_SIDEcalib.avi\n"
     ]
    },
    {
     "name": "stderr",
     "output_type": "stream",
     "text": [
      "100%|████████████████████████████████████████████████████████████████████████████████| 559/559 [00:18<00:00, 29.57it/s]\n"
     ]
    },
    {
     "name": "stdout",
     "output_type": "stream",
     "text": [
      "undistorting T:\\Phil\\jumping_revisions\\deeplabcut\\videos\\020322\\PVCHA6LN\\020322_PVCHA6LN_control_SIDE_4.avi\n",
      "saving to T:\\Phil\\jumping_revisions\\deeplabcut\\videos\\020322\\PVCHA6LN\\020322_PVCHA6LN_control_4_SIDEcalib.avi\n"
     ]
    },
    {
     "name": "stderr",
     "output_type": "stream",
     "text": [
      "100%|████████████████████████████████████████████████████████████████████████████████| 382/382 [00:12<00:00, 29.49it/s]\n"
     ]
    },
    {
     "name": "stdout",
     "output_type": "stream",
     "text": [
      "undistorting T:\\Phil\\jumping_revisions\\deeplabcut\\videos\\020322\\PVCHA6LN\\020322_PVCHA6LN_control_SIDE_40.avi\n",
      "saving to T:\\Phil\\jumping_revisions\\deeplabcut\\videos\\020322\\PVCHA6LN\\020322_PVCHA6LN_control_40_SIDEcalib.avi\n"
     ]
    },
    {
     "name": "stderr",
     "output_type": "stream",
     "text": [
      "100%|████████████████████████████████████████████████████████████████████████████████| 569/569 [00:19<00:00, 29.58it/s]\n"
     ]
    },
    {
     "name": "stdout",
     "output_type": "stream",
     "text": [
      "undistorting T:\\Phil\\jumping_revisions\\deeplabcut\\videos\\020322\\PVCHA6LN\\020322_PVCHA6LN_control_SIDE_41.avi\n",
      "saving to T:\\Phil\\jumping_revisions\\deeplabcut\\videos\\020322\\PVCHA6LN\\020322_PVCHA6LN_control_41_SIDEcalib.avi\n"
     ]
    },
    {
     "name": "stderr",
     "output_type": "stream",
     "text": [
      "100%|██████████████████████████████████████████████████████████████████████████████| 1044/1044 [00:35<00:00, 29.71it/s]\n"
     ]
    },
    {
     "name": "stdout",
     "output_type": "stream",
     "text": [
      "undistorting T:\\Phil\\jumping_revisions\\deeplabcut\\videos\\020322\\PVCHA6LN\\020322_PVCHA6LN_control_SIDE_42.avi\n",
      "saving to T:\\Phil\\jumping_revisions\\deeplabcut\\videos\\020322\\PVCHA6LN\\020322_PVCHA6LN_control_42_SIDEcalib.avi\n"
     ]
    },
    {
     "name": "stderr",
     "output_type": "stream",
     "text": [
      "100%|████████████████████████████████████████████████████████████████████████████████| 440/440 [00:14<00:00, 29.60it/s]\n"
     ]
    },
    {
     "name": "stdout",
     "output_type": "stream",
     "text": [
      "undistorting T:\\Phil\\jumping_revisions\\deeplabcut\\videos\\020322\\PVCHA6LN\\020322_PVCHA6LN_control_SIDE_43.avi\n",
      "saving to T:\\Phil\\jumping_revisions\\deeplabcut\\videos\\020322\\PVCHA6LN\\020322_PVCHA6LN_control_43_SIDEcalib.avi\n"
     ]
    },
    {
     "name": "stderr",
     "output_type": "stream",
     "text": [
      "100%|████████████████████████████████████████████████████████████████████████████████| 639/639 [00:21<00:00, 29.57it/s]\n"
     ]
    },
    {
     "name": "stdout",
     "output_type": "stream",
     "text": [
      "undistorting T:\\Phil\\jumping_revisions\\deeplabcut\\videos\\020322\\PVCHA6LN\\020322_PVCHA6LN_control_SIDE_44.avi\n",
      "saving to T:\\Phil\\jumping_revisions\\deeplabcut\\videos\\020322\\PVCHA6LN\\020322_PVCHA6LN_control_44_SIDEcalib.avi\n"
     ]
    },
    {
     "name": "stderr",
     "output_type": "stream",
     "text": [
      "100%|████████████████████████████████████████████████████████████████████████████████| 587/587 [00:19<00:00, 29.65it/s]\n"
     ]
    },
    {
     "name": "stdout",
     "output_type": "stream",
     "text": [
      "undistorting T:\\Phil\\jumping_revisions\\deeplabcut\\videos\\020322\\PVCHA6LN\\020322_PVCHA6LN_control_SIDE_5.avi\n",
      "saving to T:\\Phil\\jumping_revisions\\deeplabcut\\videos\\020322\\PVCHA6LN\\020322_PVCHA6LN_control_5_SIDEcalib.avi\n"
     ]
    },
    {
     "name": "stderr",
     "output_type": "stream",
     "text": [
      "100%|████████████████████████████████████████████████████████████████████████████████| 641/641 [00:21<00:00, 29.54it/s]\n"
     ]
    },
    {
     "name": "stdout",
     "output_type": "stream",
     "text": [
      "undistorting T:\\Phil\\jumping_revisions\\deeplabcut\\videos\\020322\\PVCHA6LN\\020322_PVCHA6LN_control_SIDE_6.avi\n",
      "saving to T:\\Phil\\jumping_revisions\\deeplabcut\\videos\\020322\\PVCHA6LN\\020322_PVCHA6LN_control_6_SIDEcalib.avi\n"
     ]
    },
    {
     "name": "stderr",
     "output_type": "stream",
     "text": [
      "100%|████████████████████████████████████████████████████████████████████████████████| 522/522 [00:17<00:00, 29.56it/s]\n"
     ]
    },
    {
     "name": "stdout",
     "output_type": "stream",
     "text": [
      "undistorting T:\\Phil\\jumping_revisions\\deeplabcut\\videos\\020322\\PVCHA6LN\\020322_PVCHA6LN_control_SIDE_7.avi\n",
      "saving to T:\\Phil\\jumping_revisions\\deeplabcut\\videos\\020322\\PVCHA6LN\\020322_PVCHA6LN_control_7_SIDEcalib.avi\n"
     ]
    },
    {
     "name": "stderr",
     "output_type": "stream",
     "text": [
      "100%|████████████████████████████████████████████████████████████████████████████████| 773/773 [00:26<00:00, 29.62it/s]\n"
     ]
    },
    {
     "name": "stdout",
     "output_type": "stream",
     "text": [
      "undistorting T:\\Phil\\jumping_revisions\\deeplabcut\\videos\\020322\\PVCHA6LN\\020322_PVCHA6LN_control_SIDE_8.avi\n",
      "saving to T:\\Phil\\jumping_revisions\\deeplabcut\\videos\\020322\\PVCHA6LN\\020322_PVCHA6LN_control_8_SIDEcalib.avi\n"
     ]
    },
    {
     "name": "stderr",
     "output_type": "stream",
     "text": [
      "100%|████████████████████████████████████████████████████████████████████████████████| 838/838 [00:28<00:00, 29.59it/s]\n"
     ]
    },
    {
     "name": "stdout",
     "output_type": "stream",
     "text": [
      "undistorting T:\\Phil\\jumping_revisions\\deeplabcut\\videos\\020322\\PVCHA6LN\\020322_PVCHA6LN_control_SIDE_9.avi\n",
      "saving to T:\\Phil\\jumping_revisions\\deeplabcut\\videos\\020322\\PVCHA6LN\\020322_PVCHA6LN_control_9_SIDEcalib.avi\n"
     ]
    },
    {
     "name": "stderr",
     "output_type": "stream",
     "text": [
      "100%|████████████████████████████████████████████████████████████████████████████████| 466/466 [00:15<00:00, 29.49it/s]\n"
     ]
    },
    {
     "name": "stdout",
     "output_type": "stream",
     "text": [
      "undistorting T:\\Phil\\jumping_revisions\\deeplabcut\\videos\\020322\\PVCHA6LT\\020322_PVCHA6LT_control_SIDE_0.avi\n",
      "saving to T:\\Phil\\jumping_revisions\\deeplabcut\\videos\\020322\\PVCHA6LT\\020322_PVCHA6LT_control_0_SIDEcalib.avi\n"
     ]
    },
    {
     "name": "stderr",
     "output_type": "stream",
     "text": [
      "100%|████████████████████████████████████████████████████████████████████████████████| 725/725 [00:24<00:00, 29.55it/s]\n"
     ]
    },
    {
     "name": "stdout",
     "output_type": "stream",
     "text": [
      "undistorting T:\\Phil\\jumping_revisions\\deeplabcut\\videos\\020322\\PVCHA6LT\\020322_PVCHA6LT_control_SIDE_1.avi\n",
      "saving to T:\\Phil\\jumping_revisions\\deeplabcut\\videos\\020322\\PVCHA6LT\\020322_PVCHA6LT_control_1_SIDEcalib.avi\n"
     ]
    },
    {
     "name": "stderr",
     "output_type": "stream",
     "text": [
      "100%|████████████████████████████████████████████████████████████████████████████████| 397/397 [00:13<00:00, 29.57it/s]\n"
     ]
    },
    {
     "name": "stdout",
     "output_type": "stream",
     "text": [
      "undistorting T:\\Phil\\jumping_revisions\\deeplabcut\\videos\\020322\\PVCHA6LT\\020322_PVCHA6LT_control_SIDE_10.avi\n",
      "saving to T:\\Phil\\jumping_revisions\\deeplabcut\\videos\\020322\\PVCHA6LT\\020322_PVCHA6LT_control_10_SIDEcalib.avi\n"
     ]
    },
    {
     "name": "stderr",
     "output_type": "stream",
     "text": [
      "100%|████████████████████████████████████████████████████████████████████████████████| 321/321 [00:10<00:00, 29.49it/s]\n"
     ]
    },
    {
     "name": "stdout",
     "output_type": "stream",
     "text": [
      "undistorting T:\\Phil\\jumping_revisions\\deeplabcut\\videos\\020322\\PVCHA6LT\\020322_PVCHA6LT_control_SIDE_11.avi\n",
      "saving to T:\\Phil\\jumping_revisions\\deeplabcut\\videos\\020322\\PVCHA6LT\\020322_PVCHA6LT_control_11_SIDEcalib.avi\n"
     ]
    },
    {
     "name": "stderr",
     "output_type": "stream",
     "text": [
      "100%|████████████████████████████████████████████████████████████████████████████████| 331/331 [00:11<00:00, 29.45it/s]\n"
     ]
    },
    {
     "name": "stdout",
     "output_type": "stream",
     "text": [
      "undistorting T:\\Phil\\jumping_revisions\\deeplabcut\\videos\\020322\\PVCHA6LT\\020322_PVCHA6LT_control_SIDE_12.avi\n",
      "saving to T:\\Phil\\jumping_revisions\\deeplabcut\\videos\\020322\\PVCHA6LT\\020322_PVCHA6LT_control_12_SIDEcalib.avi\n"
     ]
    },
    {
     "name": "stderr",
     "output_type": "stream",
     "text": [
      "100%|████████████████████████████████████████████████████████████████████████████████| 365/365 [00:12<00:00, 29.48it/s]\n"
     ]
    },
    {
     "name": "stdout",
     "output_type": "stream",
     "text": [
      "undistorting T:\\Phil\\jumping_revisions\\deeplabcut\\videos\\020322\\PVCHA6LT\\020322_PVCHA6LT_control_SIDE_13.avi\n",
      "saving to T:\\Phil\\jumping_revisions\\deeplabcut\\videos\\020322\\PVCHA6LT\\020322_PVCHA6LT_control_13_SIDEcalib.avi\n"
     ]
    },
    {
     "name": "stderr",
     "output_type": "stream",
     "text": [
      "100%|████████████████████████████████████████████████████████████████████████████████| 543/543 [00:18<00:00, 29.62it/s]\n"
     ]
    },
    {
     "name": "stdout",
     "output_type": "stream",
     "text": [
      "undistorting T:\\Phil\\jumping_revisions\\deeplabcut\\videos\\020322\\PVCHA6LT\\020322_PVCHA6LT_control_SIDE_14.avi\n",
      "saving to T:\\Phil\\jumping_revisions\\deeplabcut\\videos\\020322\\PVCHA6LT\\020322_PVCHA6LT_control_14_SIDEcalib.avi\n"
     ]
    },
    {
     "name": "stderr",
     "output_type": "stream",
     "text": [
      "100%|████████████████████████████████████████████████████████████████████████████████| 793/793 [00:26<00:00, 29.62it/s]\n"
     ]
    },
    {
     "name": "stdout",
     "output_type": "stream",
     "text": [
      "undistorting T:\\Phil\\jumping_revisions\\deeplabcut\\videos\\020322\\PVCHA6LT\\020322_PVCHA6LT_control_SIDE_15.avi\n",
      "saving to T:\\Phil\\jumping_revisions\\deeplabcut\\videos\\020322\\PVCHA6LT\\020322_PVCHA6LT_control_15_SIDEcalib.avi\n"
     ]
    },
    {
     "name": "stderr",
     "output_type": "stream",
     "text": [
      "100%|████████████████████████████████████████████████████████████████████████████████| 269/269 [00:09<00:00, 29.51it/s]\n"
     ]
    },
    {
     "name": "stdout",
     "output_type": "stream",
     "text": [
      "undistorting T:\\Phil\\jumping_revisions\\deeplabcut\\videos\\020322\\PVCHA6LT\\020322_PVCHA6LT_control_SIDE_16.avi\n",
      "saving to T:\\Phil\\jumping_revisions\\deeplabcut\\videos\\020322\\PVCHA6LT\\020322_PVCHA6LT_control_16_SIDEcalib.avi\n"
     ]
    },
    {
     "name": "stderr",
     "output_type": "stream",
     "text": [
      "100%|██████████████████████████████████████████████████████████████████████████████| 1302/1302 [00:43<00:00, 29.60it/s]\n"
     ]
    },
    {
     "name": "stdout",
     "output_type": "stream",
     "text": [
      "undistorting T:\\Phil\\jumping_revisions\\deeplabcut\\videos\\020322\\PVCHA6LT\\020322_PVCHA6LT_control_SIDE_17.avi\n",
      "saving to T:\\Phil\\jumping_revisions\\deeplabcut\\videos\\020322\\PVCHA6LT\\020322_PVCHA6LT_control_17_SIDEcalib.avi\n"
     ]
    },
    {
     "name": "stderr",
     "output_type": "stream",
     "text": [
      "100%|████████████████████████████████████████████████████████████████████████████████| 385/385 [00:13<00:00, 29.52it/s]\n"
     ]
    },
    {
     "name": "stdout",
     "output_type": "stream",
     "text": [
      "undistorting T:\\Phil\\jumping_revisions\\deeplabcut\\videos\\020322\\PVCHA6LT\\020322_PVCHA6LT_control_SIDE_18.avi\n",
      "saving to T:\\Phil\\jumping_revisions\\deeplabcut\\videos\\020322\\PVCHA6LT\\020322_PVCHA6LT_control_18_SIDEcalib.avi\n"
     ]
    },
    {
     "name": "stderr",
     "output_type": "stream",
     "text": [
      "100%|████████████████████████████████████████████████████████████████████████████████| 297/297 [00:10<00:00, 29.46it/s]\n"
     ]
    },
    {
     "name": "stdout",
     "output_type": "stream",
     "text": [
      "undistorting T:\\Phil\\jumping_revisions\\deeplabcut\\videos\\020322\\PVCHA6LT\\020322_PVCHA6LT_control_SIDE_19.avi\n",
      "saving to T:\\Phil\\jumping_revisions\\deeplabcut\\videos\\020322\\PVCHA6LT\\020322_PVCHA6LT_control_19_SIDEcalib.avi\n"
     ]
    },
    {
     "name": "stderr",
     "output_type": "stream",
     "text": [
      "100%|████████████████████████████████████████████████████████████████████████████████| 473/473 [00:16<00:00, 29.55it/s]\n"
     ]
    },
    {
     "name": "stdout",
     "output_type": "stream",
     "text": [
      "undistorting T:\\Phil\\jumping_revisions\\deeplabcut\\videos\\020322\\PVCHA6LT\\020322_PVCHA6LT_control_SIDE_2.avi\n",
      "saving to T:\\Phil\\jumping_revisions\\deeplabcut\\videos\\020322\\PVCHA6LT\\020322_PVCHA6LT_control_2_SIDEcalib.avi\n"
     ]
    },
    {
     "name": "stderr",
     "output_type": "stream",
     "text": [
      "100%|████████████████████████████████████████████████████████████████████████████████| 343/343 [00:11<00:00, 29.46it/s]\n"
     ]
    },
    {
     "name": "stdout",
     "output_type": "stream",
     "text": [
      "undistorting T:\\Phil\\jumping_revisions\\deeplabcut\\videos\\020322\\PVCHA6LT\\020322_PVCHA6LT_control_SIDE_20.avi\n",
      "saving to T:\\Phil\\jumping_revisions\\deeplabcut\\videos\\020322\\PVCHA6LT\\020322_PVCHA6LT_control_20_SIDEcalib.avi\n"
     ]
    },
    {
     "name": "stderr",
     "output_type": "stream",
     "text": [
      "100%|████████████████████████████████████████████████████████████████████████████████| 349/349 [00:11<00:00, 29.47it/s]\n"
     ]
    },
    {
     "name": "stdout",
     "output_type": "stream",
     "text": [
      "undistorting T:\\Phil\\jumping_revisions\\deeplabcut\\videos\\020322\\PVCHA6LT\\020322_PVCHA6LT_control_SIDE_21.avi\n",
      "saving to T:\\Phil\\jumping_revisions\\deeplabcut\\videos\\020322\\PVCHA6LT\\020322_PVCHA6LT_control_21_SIDEcalib.avi\n"
     ]
    },
    {
     "name": "stderr",
     "output_type": "stream",
     "text": [
      "100%|████████████████████████████████████████████████████████████████████████████████| 377/377 [00:12<00:00, 29.54it/s]\n"
     ]
    },
    {
     "name": "stdout",
     "output_type": "stream",
     "text": [
      "undistorting T:\\Phil\\jumping_revisions\\deeplabcut\\videos\\020322\\PVCHA6LT\\020322_PVCHA6LT_control_SIDE_22.avi\n",
      "saving to T:\\Phil\\jumping_revisions\\deeplabcut\\videos\\020322\\PVCHA6LT\\020322_PVCHA6LT_control_22_SIDEcalib.avi\n"
     ]
    },
    {
     "name": "stderr",
     "output_type": "stream",
     "text": [
      "100%|████████████████████████████████████████████████████████████████████████████████| 287/287 [00:09<00:00, 29.55it/s]\n"
     ]
    },
    {
     "name": "stdout",
     "output_type": "stream",
     "text": [
      "undistorting T:\\Phil\\jumping_revisions\\deeplabcut\\videos\\020322\\PVCHA6LT\\020322_PVCHA6LT_control_SIDE_23.avi\n",
      "saving to T:\\Phil\\jumping_revisions\\deeplabcut\\videos\\020322\\PVCHA6LT\\020322_PVCHA6LT_control_23_SIDEcalib.avi\n"
     ]
    },
    {
     "name": "stderr",
     "output_type": "stream",
     "text": [
      "100%|████████████████████████████████████████████████████████████████████████████████| 332/332 [00:11<00:00, 29.51it/s]\n"
     ]
    },
    {
     "name": "stdout",
     "output_type": "stream",
     "text": [
      "undistorting T:\\Phil\\jumping_revisions\\deeplabcut\\videos\\020322\\PVCHA6LT\\020322_PVCHA6LT_control_SIDE_24.avi\n",
      "saving to T:\\Phil\\jumping_revisions\\deeplabcut\\videos\\020322\\PVCHA6LT\\020322_PVCHA6LT_control_24_SIDEcalib.avi\n"
     ]
    },
    {
     "name": "stderr",
     "output_type": "stream",
     "text": [
      "100%|████████████████████████████████████████████████████████████████████████████████| 319/319 [00:10<00:00, 29.42it/s]\n"
     ]
    },
    {
     "name": "stdout",
     "output_type": "stream",
     "text": [
      "undistorting T:\\Phil\\jumping_revisions\\deeplabcut\\videos\\020322\\PVCHA6LT\\020322_PVCHA6LT_control_SIDE_25.avi\n",
      "saving to T:\\Phil\\jumping_revisions\\deeplabcut\\videos\\020322\\PVCHA6LT\\020322_PVCHA6LT_control_25_SIDEcalib.avi\n"
     ]
    },
    {
     "name": "stderr",
     "output_type": "stream",
     "text": [
      "100%|████████████████████████████████████████████████████████████████████████████████| 294/294 [00:09<00:00, 29.41it/s]\n"
     ]
    },
    {
     "name": "stdout",
     "output_type": "stream",
     "text": [
      "undistorting T:\\Phil\\jumping_revisions\\deeplabcut\\videos\\020322\\PVCHA6LT\\020322_PVCHA6LT_control_SIDE_26.avi\n",
      "saving to T:\\Phil\\jumping_revisions\\deeplabcut\\videos\\020322\\PVCHA6LT\\020322_PVCHA6LT_control_26_SIDEcalib.avi\n"
     ]
    },
    {
     "name": "stderr",
     "output_type": "stream",
     "text": [
      "100%|████████████████████████████████████████████████████████████████████████████████| 920/920 [00:31<00:00, 29.66it/s]\n"
     ]
    },
    {
     "name": "stdout",
     "output_type": "stream",
     "text": [
      "undistorting T:\\Phil\\jumping_revisions\\deeplabcut\\videos\\020322\\PVCHA6LT\\020322_PVCHA6LT_control_SIDE_27.avi\n",
      "saving to T:\\Phil\\jumping_revisions\\deeplabcut\\videos\\020322\\PVCHA6LT\\020322_PVCHA6LT_control_27_SIDEcalib.avi\n"
     ]
    },
    {
     "name": "stderr",
     "output_type": "stream",
     "text": [
      "100%|████████████████████████████████████████████████████████████████████████████████| 310/310 [00:10<00:00, 29.40it/s]\n"
     ]
    },
    {
     "name": "stdout",
     "output_type": "stream",
     "text": [
      "undistorting T:\\Phil\\jumping_revisions\\deeplabcut\\videos\\020322\\PVCHA6LT\\020322_PVCHA6LT_control_SIDE_28.avi\n",
      "saving to T:\\Phil\\jumping_revisions\\deeplabcut\\videos\\020322\\PVCHA6LT\\020322_PVCHA6LT_control_28_SIDEcalib.avi\n"
     ]
    },
    {
     "name": "stderr",
     "output_type": "stream",
     "text": [
      "100%|████████████████████████████████████████████████████████████████████████████████| 720/720 [00:24<00:00, 29.55it/s]\n"
     ]
    },
    {
     "name": "stdout",
     "output_type": "stream",
     "text": [
      "undistorting T:\\Phil\\jumping_revisions\\deeplabcut\\videos\\020322\\PVCHA6LT\\020322_PVCHA6LT_control_SIDE_29.avi\n",
      "saving to T:\\Phil\\jumping_revisions\\deeplabcut\\videos\\020322\\PVCHA6LT\\020322_PVCHA6LT_control_29_SIDEcalib.avi\n"
     ]
    },
    {
     "name": "stderr",
     "output_type": "stream",
     "text": [
      "100%|████████████████████████████████████████████████████████████████████████████████| 293/293 [00:09<00:00, 29.42it/s]\n"
     ]
    },
    {
     "name": "stdout",
     "output_type": "stream",
     "text": [
      "undistorting T:\\Phil\\jumping_revisions\\deeplabcut\\videos\\020322\\PVCHA6LT\\020322_PVCHA6LT_control_SIDE_3.avi\n",
      "saving to T:\\Phil\\jumping_revisions\\deeplabcut\\videos\\020322\\PVCHA6LT\\020322_PVCHA6LT_control_3_SIDEcalib.avi\n"
     ]
    },
    {
     "name": "stderr",
     "output_type": "stream",
     "text": [
      "100%|████████████████████████████████████████████████████████████████████████████████| 760/760 [00:25<00:00, 29.68it/s]\n"
     ]
    },
    {
     "name": "stdout",
     "output_type": "stream",
     "text": [
      "undistorting T:\\Phil\\jumping_revisions\\deeplabcut\\videos\\020322\\PVCHA6LT\\020322_PVCHA6LT_control_SIDE_30.avi\n",
      "saving to T:\\Phil\\jumping_revisions\\deeplabcut\\videos\\020322\\PVCHA6LT\\020322_PVCHA6LT_control_30_SIDEcalib.avi\n"
     ]
    },
    {
     "name": "stderr",
     "output_type": "stream",
     "text": [
      "100%|██████████████████████████████████████████████████████████████████████████████| 1256/1256 [00:42<00:00, 29.71it/s]\n"
     ]
    },
    {
     "name": "stdout",
     "output_type": "stream",
     "text": [
      "undistorting T:\\Phil\\jumping_revisions\\deeplabcut\\videos\\020322\\PVCHA6LT\\020322_PVCHA6LT_control_SIDE_31.avi\n",
      "saving to T:\\Phil\\jumping_revisions\\deeplabcut\\videos\\020322\\PVCHA6LT\\020322_PVCHA6LT_control_31_SIDEcalib.avi\n"
     ]
    },
    {
     "name": "stderr",
     "output_type": "stream",
     "text": [
      "100%|████████████████████████████████████████████████████████████████████████████████| 564/564 [00:19<00:00, 29.58it/s]\n"
     ]
    },
    {
     "name": "stdout",
     "output_type": "stream",
     "text": [
      "undistorting T:\\Phil\\jumping_revisions\\deeplabcut\\videos\\020322\\PVCHA6LT\\020322_PVCHA6LT_control_SIDE_32.avi\n",
      "saving to T:\\Phil\\jumping_revisions\\deeplabcut\\videos\\020322\\PVCHA6LT\\020322_PVCHA6LT_control_32_SIDEcalib.avi\n"
     ]
    },
    {
     "name": "stderr",
     "output_type": "stream",
     "text": [
      "100%|████████████████████████████████████████████████████████████████████████████████| 330/330 [00:11<00:00, 29.54it/s]\n"
     ]
    },
    {
     "name": "stdout",
     "output_type": "stream",
     "text": [
      "undistorting T:\\Phil\\jumping_revisions\\deeplabcut\\videos\\020322\\PVCHA6LT\\020322_PVCHA6LT_control_SIDE_33.avi\n",
      "saving to T:\\Phil\\jumping_revisions\\deeplabcut\\videos\\020322\\PVCHA6LT\\020322_PVCHA6LT_control_33_SIDEcalib.avi\n"
     ]
    },
    {
     "name": "stderr",
     "output_type": "stream",
     "text": [
      "100%|████████████████████████████████████████████████████████████████████████████████| 428/428 [00:14<00:00, 29.55it/s]\n"
     ]
    },
    {
     "name": "stdout",
     "output_type": "stream",
     "text": [
      "undistorting T:\\Phil\\jumping_revisions\\deeplabcut\\videos\\020322\\PVCHA6LT\\020322_PVCHA6LT_control_SIDE_34.avi\n",
      "saving to T:\\Phil\\jumping_revisions\\deeplabcut\\videos\\020322\\PVCHA6LT\\020322_PVCHA6LT_control_34_SIDEcalib.avi\n"
     ]
    },
    {
     "name": "stderr",
     "output_type": "stream",
     "text": [
      "100%|██████████████████████████████████████████████████████████████████████████████| 1712/1712 [00:57<00:00, 29.65it/s]\n"
     ]
    },
    {
     "name": "stdout",
     "output_type": "stream",
     "text": [
      "undistorting T:\\Phil\\jumping_revisions\\deeplabcut\\videos\\020322\\PVCHA6LT\\020322_PVCHA6LT_control_SIDE_35.avi\n",
      "saving to T:\\Phil\\jumping_revisions\\deeplabcut\\videos\\020322\\PVCHA6LT\\020322_PVCHA6LT_control_35_SIDEcalib.avi\n"
     ]
    },
    {
     "name": "stderr",
     "output_type": "stream",
     "text": [
      "100%|████████████████████████████████████████████████████████████████████████████████| 283/283 [00:09<00:00, 29.42it/s]\n"
     ]
    },
    {
     "name": "stdout",
     "output_type": "stream",
     "text": [
      "undistorting T:\\Phil\\jumping_revisions\\deeplabcut\\videos\\020322\\PVCHA6LT\\020322_PVCHA6LT_control_SIDE_36.avi\n",
      "saving to T:\\Phil\\jumping_revisions\\deeplabcut\\videos\\020322\\PVCHA6LT\\020322_PVCHA6LT_control_36_SIDEcalib.avi\n"
     ]
    },
    {
     "name": "stderr",
     "output_type": "stream",
     "text": [
      "100%|████████████████████████████████████████████████████████████████████████████████| 341/341 [00:11<00:00, 29.48it/s]\n"
     ]
    },
    {
     "name": "stdout",
     "output_type": "stream",
     "text": [
      "undistorting T:\\Phil\\jumping_revisions\\deeplabcut\\videos\\020322\\PVCHA6LT\\020322_PVCHA6LT_control_SIDE_37.avi\n",
      "saving to T:\\Phil\\jumping_revisions\\deeplabcut\\videos\\020322\\PVCHA6LT\\020322_PVCHA6LT_control_37_SIDEcalib.avi\n"
     ]
    },
    {
     "name": "stderr",
     "output_type": "stream",
     "text": [
      "100%|████████████████████████████████████████████████████████████████████████████████| 308/308 [00:10<00:00, 29.36it/s]\n"
     ]
    },
    {
     "name": "stdout",
     "output_type": "stream",
     "text": [
      "undistorting T:\\Phil\\jumping_revisions\\deeplabcut\\videos\\020322\\PVCHA6LT\\020322_PVCHA6LT_control_SIDE_4.avi\n",
      "saving to T:\\Phil\\jumping_revisions\\deeplabcut\\videos\\020322\\PVCHA6LT\\020322_PVCHA6LT_control_4_SIDEcalib.avi\n"
     ]
    },
    {
     "name": "stderr",
     "output_type": "stream",
     "text": [
      "100%|████████████████████████████████████████████████████████████████████████████████| 575/575 [00:19<00:00, 29.55it/s]\n"
     ]
    },
    {
     "name": "stdout",
     "output_type": "stream",
     "text": [
      "undistorting T:\\Phil\\jumping_revisions\\deeplabcut\\videos\\020322\\PVCHA6LT\\020322_PVCHA6LT_control_SIDE_5.avi\n",
      "saving to T:\\Phil\\jumping_revisions\\deeplabcut\\videos\\020322\\PVCHA6LT\\020322_PVCHA6LT_control_5_SIDEcalib.avi\n"
     ]
    },
    {
     "name": "stderr",
     "output_type": "stream",
     "text": [
      "100%|████████████████████████████████████████████████████████████████████████████████| 393/393 [00:13<00:00, 29.46it/s]\n"
     ]
    },
    {
     "name": "stdout",
     "output_type": "stream",
     "text": [
      "undistorting T:\\Phil\\jumping_revisions\\deeplabcut\\videos\\020322\\PVCHA6LT\\020322_PVCHA6LT_control_SIDE_6.avi\n",
      "saving to T:\\Phil\\jumping_revisions\\deeplabcut\\videos\\020322\\PVCHA6LT\\020322_PVCHA6LT_control_6_SIDEcalib.avi\n"
     ]
    },
    {
     "name": "stderr",
     "output_type": "stream",
     "text": [
      "100%|████████████████████████████████████████████████████████████████████████████████| 835/835 [00:28<00:00, 29.65it/s]\n"
     ]
    },
    {
     "name": "stdout",
     "output_type": "stream",
     "text": [
      "undistorting T:\\Phil\\jumping_revisions\\deeplabcut\\videos\\020322\\PVCHA6LT\\020322_PVCHA6LT_control_SIDE_7.avi\n",
      "saving to T:\\Phil\\jumping_revisions\\deeplabcut\\videos\\020322\\PVCHA6LT\\020322_PVCHA6LT_control_7_SIDEcalib.avi\n"
     ]
    },
    {
     "name": "stderr",
     "output_type": "stream",
     "text": [
      "100%|████████████████████████████████████████████████████████████████████████████████| 310/310 [00:10<00:00, 29.54it/s]\n"
     ]
    },
    {
     "name": "stdout",
     "output_type": "stream",
     "text": [
      "undistorting T:\\Phil\\jumping_revisions\\deeplabcut\\videos\\020322\\PVCHA6LT\\020322_PVCHA6LT_control_SIDE_8.avi\n",
      "saving to T:\\Phil\\jumping_revisions\\deeplabcut\\videos\\020322\\PVCHA6LT\\020322_PVCHA6LT_control_8_SIDEcalib.avi\n"
     ]
    },
    {
     "name": "stderr",
     "output_type": "stream",
     "text": [
      "100%|████████████████████████████████████████████████████████████████████████████████| 457/457 [00:15<00:00, 29.59it/s]\n"
     ]
    },
    {
     "name": "stdout",
     "output_type": "stream",
     "text": [
      "undistorting T:\\Phil\\jumping_revisions\\deeplabcut\\videos\\020322\\PVCHA6LT\\020322_PVCHA6LT_control_SIDE_9.avi\n",
      "saving to T:\\Phil\\jumping_revisions\\deeplabcut\\videos\\020322\\PVCHA6LT\\020322_PVCHA6LT_control_9_SIDEcalib.avi\n"
     ]
    },
    {
     "name": "stderr",
     "output_type": "stream",
     "text": [
      "100%|████████████████████████████████████████████████████████████████████████████████| 325/325 [00:11<00:00, 29.44it/s]\n"
     ]
    },
    {
     "name": "stdout",
     "output_type": "stream",
     "text": [
      "undistorting T:\\Phil\\jumping_revisions\\deeplabcut\\videos\\020322\\PVCHA6RT\\020322_PVCHA6RT_control_SIDE_0.avi\n",
      "saving to T:\\Phil\\jumping_revisions\\deeplabcut\\videos\\020322\\PVCHA6RT\\020322_PVCHA6RT_control_0_SIDEcalib.avi\n"
     ]
    },
    {
     "name": "stderr",
     "output_type": "stream",
     "text": [
      "100%|████████████████████████████████████████████████████████████████████████████████| 693/693 [00:23<00:00, 29.56it/s]\n"
     ]
    },
    {
     "name": "stdout",
     "output_type": "stream",
     "text": [
      "undistorting T:\\Phil\\jumping_revisions\\deeplabcut\\videos\\020322\\PVCHA6RT\\020322_PVCHA6RT_control_SIDE_1.avi\n",
      "saving to T:\\Phil\\jumping_revisions\\deeplabcut\\videos\\020322\\PVCHA6RT\\020322_PVCHA6RT_control_1_SIDEcalib.avi\n"
     ]
    },
    {
     "name": "stderr",
     "output_type": "stream",
     "text": [
      "100%|████████████████████████████████████████████████████████████████████████████████| 610/610 [00:20<00:00, 29.56it/s]\n"
     ]
    },
    {
     "name": "stdout",
     "output_type": "stream",
     "text": [
      "undistorting T:\\Phil\\jumping_revisions\\deeplabcut\\videos\\020322\\PVCHA6RT\\020322_PVCHA6RT_control_SIDE_10.avi\n",
      "saving to T:\\Phil\\jumping_revisions\\deeplabcut\\videos\\020322\\PVCHA6RT\\020322_PVCHA6RT_control_10_SIDEcalib.avi\n"
     ]
    },
    {
     "name": "stderr",
     "output_type": "stream",
     "text": [
      "100%|████████████████████████████████████████████████████████████████████████████████| 618/618 [00:20<00:00, 29.63it/s]\n"
     ]
    },
    {
     "name": "stdout",
     "output_type": "stream",
     "text": [
      "undistorting T:\\Phil\\jumping_revisions\\deeplabcut\\videos\\020322\\PVCHA6RT\\020322_PVCHA6RT_control_SIDE_11.avi\n",
      "saving to T:\\Phil\\jumping_revisions\\deeplabcut\\videos\\020322\\PVCHA6RT\\020322_PVCHA6RT_control_11_SIDEcalib.avi\n"
     ]
    },
    {
     "name": "stderr",
     "output_type": "stream",
     "text": [
      "100%|████████████████████████████████████████████████████████████████████████████████| 535/535 [00:18<00:00, 29.22it/s]\n"
     ]
    },
    {
     "name": "stdout",
     "output_type": "stream",
     "text": [
      "undistorting T:\\Phil\\jumping_revisions\\deeplabcut\\videos\\020322\\PVCHA6RT\\020322_PVCHA6RT_control_SIDE_12.avi\n",
      "saving to T:\\Phil\\jumping_revisions\\deeplabcut\\videos\\020322\\PVCHA6RT\\020322_PVCHA6RT_control_12_SIDEcalib.avi\n"
     ]
    },
    {
     "name": "stderr",
     "output_type": "stream",
     "text": [
      "100%|████████████████████████████████████████████████████████████████████████████████| 419/419 [00:14<00:00, 28.09it/s]\n"
     ]
    },
    {
     "name": "stdout",
     "output_type": "stream",
     "text": [
      "undistorting T:\\Phil\\jumping_revisions\\deeplabcut\\videos\\020322\\PVCHA6RT\\020322_PVCHA6RT_control_SIDE_13.avi\n",
      "saving to T:\\Phil\\jumping_revisions\\deeplabcut\\videos\\020322\\PVCHA6RT\\020322_PVCHA6RT_control_13_SIDEcalib.avi\n"
     ]
    },
    {
     "name": "stderr",
     "output_type": "stream",
     "text": [
      "100%|████████████████████████████████████████████████████████████████████████████████| 628/628 [00:25<00:00, 24.94it/s]\n"
     ]
    },
    {
     "name": "stdout",
     "output_type": "stream",
     "text": [
      "undistorting T:\\Phil\\jumping_revisions\\deeplabcut\\videos\\020322\\PVCHA6RT\\020322_PVCHA6RT_control_SIDE_14.avi\n",
      "saving to T:\\Phil\\jumping_revisions\\deeplabcut\\videos\\020322\\PVCHA6RT\\020322_PVCHA6RT_control_14_SIDEcalib.avi\n"
     ]
    },
    {
     "name": "stderr",
     "output_type": "stream",
     "text": [
      "100%|████████████████████████████████████████████████████████████████████████████████| 643/643 [00:23<00:00, 27.88it/s]\n"
     ]
    },
    {
     "name": "stdout",
     "output_type": "stream",
     "text": [
      "undistorting T:\\Phil\\jumping_revisions\\deeplabcut\\videos\\020322\\PVCHA6RT\\020322_PVCHA6RT_control_SIDE_15.avi\n",
      "saving to T:\\Phil\\jumping_revisions\\deeplabcut\\videos\\020322\\PVCHA6RT\\020322_PVCHA6RT_control_15_SIDEcalib.avi\n"
     ]
    },
    {
     "name": "stderr",
     "output_type": "stream",
     "text": [
      "100%|████████████████████████████████████████████████████████████████████████████████| 382/382 [00:13<00:00, 29.09it/s]\n"
     ]
    },
    {
     "name": "stdout",
     "output_type": "stream",
     "text": [
      "undistorting T:\\Phil\\jumping_revisions\\deeplabcut\\videos\\020322\\PVCHA6RT\\020322_PVCHA6RT_control_SIDE_16.avi\n",
      "saving to T:\\Phil\\jumping_revisions\\deeplabcut\\videos\\020322\\PVCHA6RT\\020322_PVCHA6RT_control_16_SIDEcalib.avi\n"
     ]
    },
    {
     "name": "stderr",
     "output_type": "stream",
     "text": [
      "100%|████████████████████████████████████████████████████████████████████████████████| 355/355 [00:12<00:00, 29.19it/s]\n"
     ]
    },
    {
     "name": "stdout",
     "output_type": "stream",
     "text": [
      "undistorting T:\\Phil\\jumping_revisions\\deeplabcut\\videos\\020322\\PVCHA6RT\\020322_PVCHA6RT_control_SIDE_17.avi\n",
      "saving to T:\\Phil\\jumping_revisions\\deeplabcut\\videos\\020322\\PVCHA6RT\\020322_PVCHA6RT_control_17_SIDEcalib.avi\n"
     ]
    },
    {
     "name": "stderr",
     "output_type": "stream",
     "text": [
      "100%|████████████████████████████████████████████████████████████████████████████████| 550/550 [00:18<00:00, 29.23it/s]\n"
     ]
    },
    {
     "name": "stdout",
     "output_type": "stream",
     "text": [
      "undistorting T:\\Phil\\jumping_revisions\\deeplabcut\\videos\\020322\\PVCHA6RT\\020322_PVCHA6RT_control_SIDE_18.avi\n",
      "saving to T:\\Phil\\jumping_revisions\\deeplabcut\\videos\\020322\\PVCHA6RT\\020322_PVCHA6RT_control_18_SIDEcalib.avi\n"
     ]
    },
    {
     "name": "stderr",
     "output_type": "stream",
     "text": [
      "100%|████████████████████████████████████████████████████████████████████████████████| 407/407 [00:13<00:00, 29.53it/s]\n"
     ]
    },
    {
     "name": "stdout",
     "output_type": "stream",
     "text": [
      "undistorting T:\\Phil\\jumping_revisions\\deeplabcut\\videos\\020322\\PVCHA6RT\\020322_PVCHA6RT_control_SIDE_19.avi\n",
      "saving to T:\\Phil\\jumping_revisions\\deeplabcut\\videos\\020322\\PVCHA6RT\\020322_PVCHA6RT_control_19_SIDEcalib.avi\n"
     ]
    },
    {
     "name": "stderr",
     "output_type": "stream",
     "text": [
      "100%|████████████████████████████████████████████████████████████████████████████████| 855/855 [00:29<00:00, 29.25it/s]\n"
     ]
    },
    {
     "name": "stdout",
     "output_type": "stream",
     "text": [
      "undistorting T:\\Phil\\jumping_revisions\\deeplabcut\\videos\\020322\\PVCHA6RT\\020322_PVCHA6RT_control_SIDE_2.avi\n",
      "saving to T:\\Phil\\jumping_revisions\\deeplabcut\\videos\\020322\\PVCHA6RT\\020322_PVCHA6RT_control_2_SIDEcalib.avi\n"
     ]
    },
    {
     "name": "stderr",
     "output_type": "stream",
     "text": [
      "100%|██████████████████████████████████████████████████████████████████████████████| 1327/1327 [00:45<00:00, 29.24it/s]\n"
     ]
    },
    {
     "name": "stdout",
     "output_type": "stream",
     "text": [
      "undistorting T:\\Phil\\jumping_revisions\\deeplabcut\\videos\\020322\\PVCHA6RT\\020322_PVCHA6RT_control_SIDE_20.avi\n",
      "saving to T:\\Phil\\jumping_revisions\\deeplabcut\\videos\\020322\\PVCHA6RT\\020322_PVCHA6RT_control_20_SIDEcalib.avi\n"
     ]
    },
    {
     "name": "stderr",
     "output_type": "stream",
     "text": [
      "100%|████████████████████████████████████████████████████████████████████████████████| 414/414 [00:14<00:00, 28.86it/s]\n"
     ]
    },
    {
     "name": "stdout",
     "output_type": "stream",
     "text": [
      "undistorting T:\\Phil\\jumping_revisions\\deeplabcut\\videos\\020322\\PVCHA6RT\\020322_PVCHA6RT_control_SIDE_21.avi\n",
      "saving to T:\\Phil\\jumping_revisions\\deeplabcut\\videos\\020322\\PVCHA6RT\\020322_PVCHA6RT_control_21_SIDEcalib.avi\n"
     ]
    },
    {
     "name": "stderr",
     "output_type": "stream",
     "text": [
      "100%|████████████████████████████████████████████████████████████████████████████████| 476/476 [00:16<00:00, 29.12it/s]\n"
     ]
    },
    {
     "name": "stdout",
     "output_type": "stream",
     "text": [
      "undistorting T:\\Phil\\jumping_revisions\\deeplabcut\\videos\\020322\\PVCHA6RT\\020322_PVCHA6RT_control_SIDE_22.avi\n",
      "saving to T:\\Phil\\jumping_revisions\\deeplabcut\\videos\\020322\\PVCHA6RT\\020322_PVCHA6RT_control_22_SIDEcalib.avi\n"
     ]
    },
    {
     "name": "stderr",
     "output_type": "stream",
     "text": [
      "100%|████████████████████████████████████████████████████████████████████████████████| 408/408 [00:13<00:00, 29.54it/s]\n"
     ]
    },
    {
     "name": "stdout",
     "output_type": "stream",
     "text": [
      "undistorting T:\\Phil\\jumping_revisions\\deeplabcut\\videos\\020322\\PVCHA6RT\\020322_PVCHA6RT_control_SIDE_23.avi\n",
      "saving to T:\\Phil\\jumping_revisions\\deeplabcut\\videos\\020322\\PVCHA6RT\\020322_PVCHA6RT_control_23_SIDEcalib.avi\n"
     ]
    },
    {
     "name": "stderr",
     "output_type": "stream",
     "text": [
      "100%|████████████████████████████████████████████████████████████████████████████████| 476/476 [00:16<00:00, 29.49it/s]\n"
     ]
    },
    {
     "name": "stdout",
     "output_type": "stream",
     "text": [
      "undistorting T:\\Phil\\jumping_revisions\\deeplabcut\\videos\\020322\\PVCHA6RT\\020322_PVCHA6RT_control_SIDE_24.avi\n",
      "saving to T:\\Phil\\jumping_revisions\\deeplabcut\\videos\\020322\\PVCHA6RT\\020322_PVCHA6RT_control_24_SIDEcalib.avi\n"
     ]
    },
    {
     "name": "stderr",
     "output_type": "stream",
     "text": [
      "100%|████████████████████████████████████████████████████████████████████████████████| 434/434 [00:14<00:00, 29.42it/s]\n"
     ]
    },
    {
     "name": "stdout",
     "output_type": "stream",
     "text": [
      "undistorting T:\\Phil\\jumping_revisions\\deeplabcut\\videos\\020322\\PVCHA6RT\\020322_PVCHA6RT_control_SIDE_25.avi\n",
      "saving to T:\\Phil\\jumping_revisions\\deeplabcut\\videos\\020322\\PVCHA6RT\\020322_PVCHA6RT_control_25_SIDEcalib.avi\n"
     ]
    },
    {
     "name": "stderr",
     "output_type": "stream",
     "text": [
      "100%|████████████████████████████████████████████████████████████████████████████████| 798/798 [00:26<00:00, 29.59it/s]\n"
     ]
    },
    {
     "name": "stdout",
     "output_type": "stream",
     "text": [
      "undistorting T:\\Phil\\jumping_revisions\\deeplabcut\\videos\\020322\\PVCHA6RT\\020322_PVCHA6RT_control_SIDE_26.avi\n",
      "saving to T:\\Phil\\jumping_revisions\\deeplabcut\\videos\\020322\\PVCHA6RT\\020322_PVCHA6RT_control_26_SIDEcalib.avi\n"
     ]
    },
    {
     "name": "stderr",
     "output_type": "stream",
     "text": [
      "100%|████████████████████████████████████████████████████████████████████████████████| 354/354 [00:12<00:00, 29.46it/s]\n"
     ]
    },
    {
     "name": "stdout",
     "output_type": "stream",
     "text": [
      "undistorting T:\\Phil\\jumping_revisions\\deeplabcut\\videos\\020322\\PVCHA6RT\\020322_PVCHA6RT_control_SIDE_27.avi\n",
      "saving to T:\\Phil\\jumping_revisions\\deeplabcut\\videos\\020322\\PVCHA6RT\\020322_PVCHA6RT_control_27_SIDEcalib.avi\n"
     ]
    },
    {
     "name": "stderr",
     "output_type": "stream",
     "text": [
      "100%|████████████████████████████████████████████████████████████████████████████████| 433/433 [00:14<00:00, 29.17it/s]\n"
     ]
    },
    {
     "name": "stdout",
     "output_type": "stream",
     "text": [
      "undistorting T:\\Phil\\jumping_revisions\\deeplabcut\\videos\\020322\\PVCHA6RT\\020322_PVCHA6RT_control_SIDE_3.avi\n",
      "saving to T:\\Phil\\jumping_revisions\\deeplabcut\\videos\\020322\\PVCHA6RT\\020322_PVCHA6RT_control_3_SIDEcalib.avi\n"
     ]
    },
    {
     "name": "stderr",
     "output_type": "stream",
     "text": [
      "100%|████████████████████████████████████████████████████████████████████████████████| 621/621 [00:21<00:00, 29.29it/s]\n"
     ]
    },
    {
     "name": "stdout",
     "output_type": "stream",
     "text": [
      "undistorting T:\\Phil\\jumping_revisions\\deeplabcut\\videos\\020322\\PVCHA6RT\\020322_PVCHA6RT_control_SIDE_4.avi\n",
      "saving to T:\\Phil\\jumping_revisions\\deeplabcut\\videos\\020322\\PVCHA6RT\\020322_PVCHA6RT_control_4_SIDEcalib.avi\n"
     ]
    },
    {
     "name": "stderr",
     "output_type": "stream",
     "text": [
      "100%|████████████████████████████████████████████████████████████████████████████████| 501/501 [00:16<00:00, 29.50it/s]\n"
     ]
    },
    {
     "name": "stdout",
     "output_type": "stream",
     "text": [
      "undistorting T:\\Phil\\jumping_revisions\\deeplabcut\\videos\\020322\\PVCHA6RT\\020322_PVCHA6RT_control_SIDE_5.avi\n",
      "saving to T:\\Phil\\jumping_revisions\\deeplabcut\\videos\\020322\\PVCHA6RT\\020322_PVCHA6RT_control_5_SIDEcalib.avi\n"
     ]
    },
    {
     "name": "stderr",
     "output_type": "stream",
     "text": [
      "100%|████████████████████████████████████████████████████████████████████████████████| 502/502 [00:17<00:00, 29.50it/s]\n"
     ]
    },
    {
     "name": "stdout",
     "output_type": "stream",
     "text": [
      "undistorting T:\\Phil\\jumping_revisions\\deeplabcut\\videos\\020322\\PVCHA6RT\\020322_PVCHA6RT_control_SIDE_6.avi\n",
      "saving to T:\\Phil\\jumping_revisions\\deeplabcut\\videos\\020322\\PVCHA6RT\\020322_PVCHA6RT_control_6_SIDEcalib.avi\n"
     ]
    },
    {
     "name": "stderr",
     "output_type": "stream",
     "text": [
      "100%|██████████████████████████████████████████████████████████████████████████████| 1274/1274 [00:43<00:00, 29.54it/s]\n"
     ]
    },
    {
     "name": "stdout",
     "output_type": "stream",
     "text": [
      "undistorting T:\\Phil\\jumping_revisions\\deeplabcut\\videos\\020322\\PVCHA6RT\\020322_PVCHA6RT_control_SIDE_7.avi\n",
      "saving to T:\\Phil\\jumping_revisions\\deeplabcut\\videos\\020322\\PVCHA6RT\\020322_PVCHA6RT_control_7_SIDEcalib.avi\n"
     ]
    },
    {
     "name": "stderr",
     "output_type": "stream",
     "text": [
      "100%|████████████████████████████████████████████████████████████████████████████████| 666/666 [00:22<00:00, 29.48it/s]\n"
     ]
    },
    {
     "name": "stdout",
     "output_type": "stream",
     "text": [
      "undistorting T:\\Phil\\jumping_revisions\\deeplabcut\\videos\\020322\\PVCHA6RT\\020322_PVCHA6RT_control_SIDE_8.avi\n",
      "saving to T:\\Phil\\jumping_revisions\\deeplabcut\\videos\\020322\\PVCHA6RT\\020322_PVCHA6RT_control_8_SIDEcalib.avi\n"
     ]
    },
    {
     "name": "stderr",
     "output_type": "stream",
     "text": [
      "100%|████████████████████████████████████████████████████████████████████████████████| 435/435 [00:14<00:00, 29.23it/s]\n"
     ]
    },
    {
     "name": "stdout",
     "output_type": "stream",
     "text": [
      "undistorting T:\\Phil\\jumping_revisions\\deeplabcut\\videos\\020322\\PVCHA6RT\\020322_PVCHA6RT_control_SIDE_9.avi\n",
      "saving to T:\\Phil\\jumping_revisions\\deeplabcut\\videos\\020322\\PVCHA6RT\\020322_PVCHA6RT_control_9_SIDEcalib.avi\n"
     ]
    },
    {
     "name": "stderr",
     "output_type": "stream",
     "text": [
      "100%|████████████████████████████████████████████████████████████████████████████████| 570/570 [00:19<00:00, 29.37it/s]\n"
     ]
    },
    {
     "name": "stdout",
     "output_type": "stream",
     "text": [
      "undistorting T:\\Phil\\jumping_revisions\\deeplabcut\\videos\\020322\\PVCHA6TT\\020322_PVCHA6TT_control_SIDE_0.avi\n",
      "saving to T:\\Phil\\jumping_revisions\\deeplabcut\\videos\\020322\\PVCHA6TT\\020322_PVCHA6TT_control_0_SIDEcalib.avi\n"
     ]
    },
    {
     "name": "stderr",
     "output_type": "stream",
     "text": [
      "100%|████████████████████████████████████████████████████████████████████████████████| 289/289 [00:09<00:00, 29.31it/s]\n"
     ]
    },
    {
     "name": "stdout",
     "output_type": "stream",
     "text": [
      "undistorting T:\\Phil\\jumping_revisions\\deeplabcut\\videos\\020322\\PVCHA6TT\\020322_PVCHA6TT_control_SIDE_1.avi\n",
      "saving to T:\\Phil\\jumping_revisions\\deeplabcut\\videos\\020322\\PVCHA6TT\\020322_PVCHA6TT_control_1_SIDEcalib.avi\n"
     ]
    },
    {
     "name": "stderr",
     "output_type": "stream",
     "text": [
      "100%|████████████████████████████████████████████████████████████████████████████████| 303/303 [00:10<00:00, 29.16it/s]\n"
     ]
    },
    {
     "name": "stdout",
     "output_type": "stream",
     "text": [
      "undistorting T:\\Phil\\jumping_revisions\\deeplabcut\\videos\\020322\\PVCHA6TT\\020322_PVCHA6TT_control_SIDE_10.avi\n",
      "saving to T:\\Phil\\jumping_revisions\\deeplabcut\\videos\\020322\\PVCHA6TT\\020322_PVCHA6TT_control_10_SIDEcalib.avi\n"
     ]
    },
    {
     "name": "stderr",
     "output_type": "stream",
     "text": [
      "100%|████████████████████████████████████████████████████████████████████████████████| 290/290 [00:09<00:00, 29.37it/s]\n"
     ]
    },
    {
     "name": "stdout",
     "output_type": "stream",
     "text": [
      "undistorting T:\\Phil\\jumping_revisions\\deeplabcut\\videos\\020322\\PVCHA6TT\\020322_PVCHA6TT_control_SIDE_11.avi\n",
      "saving to T:\\Phil\\jumping_revisions\\deeplabcut\\videos\\020322\\PVCHA6TT\\020322_PVCHA6TT_control_11_SIDEcalib.avi\n"
     ]
    },
    {
     "name": "stderr",
     "output_type": "stream",
     "text": [
      "100%|████████████████████████████████████████████████████████████████████████████████| 641/641 [00:21<00:00, 29.60it/s]\n"
     ]
    },
    {
     "name": "stdout",
     "output_type": "stream",
     "text": [
      "undistorting T:\\Phil\\jumping_revisions\\deeplabcut\\videos\\020322\\PVCHA6TT\\020322_PVCHA6TT_control_SIDE_12.avi\n",
      "saving to T:\\Phil\\jumping_revisions\\deeplabcut\\videos\\020322\\PVCHA6TT\\020322_PVCHA6TT_control_12_SIDEcalib.avi\n"
     ]
    },
    {
     "name": "stderr",
     "output_type": "stream",
     "text": [
      "100%|████████████████████████████████████████████████████████████████████████████████| 217/217 [00:07<00:00, 28.87it/s]\n"
     ]
    },
    {
     "name": "stdout",
     "output_type": "stream",
     "text": [
      "undistorting T:\\Phil\\jumping_revisions\\deeplabcut\\videos\\020322\\PVCHA6TT\\020322_PVCHA6TT_control_SIDE_13.avi\n",
      "saving to T:\\Phil\\jumping_revisions\\deeplabcut\\videos\\020322\\PVCHA6TT\\020322_PVCHA6TT_control_13_SIDEcalib.avi\n"
     ]
    },
    {
     "name": "stderr",
     "output_type": "stream",
     "text": [
      "100%|████████████████████████████████████████████████████████████████████████████████| 395/395 [00:13<00:00, 29.40it/s]\n"
     ]
    },
    {
     "name": "stdout",
     "output_type": "stream",
     "text": [
      "undistorting T:\\Phil\\jumping_revisions\\deeplabcut\\videos\\020322\\PVCHA6TT\\020322_PVCHA6TT_control_SIDE_14.avi\n",
      "saving to T:\\Phil\\jumping_revisions\\deeplabcut\\videos\\020322\\PVCHA6TT\\020322_PVCHA6TT_control_14_SIDEcalib.avi\n"
     ]
    },
    {
     "name": "stderr",
     "output_type": "stream",
     "text": [
      "100%|████████████████████████████████████████████████████████████████████████████████| 322/322 [00:11<00:00, 29.03it/s]\n"
     ]
    },
    {
     "name": "stdout",
     "output_type": "stream",
     "text": [
      "undistorting T:\\Phil\\jumping_revisions\\deeplabcut\\videos\\020322\\PVCHA6TT\\020322_PVCHA6TT_control_SIDE_15.avi\n",
      "saving to T:\\Phil\\jumping_revisions\\deeplabcut\\videos\\020322\\PVCHA6TT\\020322_PVCHA6TT_control_15_SIDEcalib.avi\n"
     ]
    },
    {
     "name": "stderr",
     "output_type": "stream",
     "text": [
      "100%|████████████████████████████████████████████████████████████████████████████████| 313/313 [00:10<00:00, 29.37it/s]\n"
     ]
    },
    {
     "name": "stdout",
     "output_type": "stream",
     "text": [
      "undistorting T:\\Phil\\jumping_revisions\\deeplabcut\\videos\\020322\\PVCHA6TT\\020322_PVCHA6TT_control_SIDE_16.avi\n",
      "saving to T:\\Phil\\jumping_revisions\\deeplabcut\\videos\\020322\\PVCHA6TT\\020322_PVCHA6TT_control_16_SIDEcalib.avi\n"
     ]
    },
    {
     "name": "stderr",
     "output_type": "stream",
     "text": [
      "100%|████████████████████████████████████████████████████████████████████████████████| 599/599 [00:20<00:00, 29.47it/s]\n"
     ]
    },
    {
     "name": "stdout",
     "output_type": "stream",
     "text": [
      "undistorting T:\\Phil\\jumping_revisions\\deeplabcut\\videos\\020322\\PVCHA6TT\\020322_PVCHA6TT_control_SIDE_17.avi\n",
      "saving to T:\\Phil\\jumping_revisions\\deeplabcut\\videos\\020322\\PVCHA6TT\\020322_PVCHA6TT_control_17_SIDEcalib.avi\n"
     ]
    },
    {
     "name": "stderr",
     "output_type": "stream",
     "text": [
      "100%|████████████████████████████████████████████████████████████████████████████████| 316/316 [00:10<00:00, 29.37it/s]\n"
     ]
    },
    {
     "name": "stdout",
     "output_type": "stream",
     "text": [
      "undistorting T:\\Phil\\jumping_revisions\\deeplabcut\\videos\\020322\\PVCHA6TT\\020322_PVCHA6TT_control_SIDE_18.avi\n",
      "saving to T:\\Phil\\jumping_revisions\\deeplabcut\\videos\\020322\\PVCHA6TT\\020322_PVCHA6TT_control_18_SIDEcalib.avi\n"
     ]
    },
    {
     "name": "stderr",
     "output_type": "stream",
     "text": [
      "100%|████████████████████████████████████████████████████████████████████████████████| 233/233 [00:07<00:00, 29.24it/s]\n"
     ]
    },
    {
     "name": "stdout",
     "output_type": "stream",
     "text": [
      "undistorting T:\\Phil\\jumping_revisions\\deeplabcut\\videos\\020322\\PVCHA6TT\\020322_PVCHA6TT_control_SIDE_19.avi\n",
      "saving to T:\\Phil\\jumping_revisions\\deeplabcut\\videos\\020322\\PVCHA6TT\\020322_PVCHA6TT_control_19_SIDEcalib.avi\n"
     ]
    },
    {
     "name": "stderr",
     "output_type": "stream",
     "text": [
      "100%|████████████████████████████████████████████████████████████████████████████████| 353/353 [00:12<00:00, 29.38it/s]\n"
     ]
    },
    {
     "name": "stdout",
     "output_type": "stream",
     "text": [
      "undistorting T:\\Phil\\jumping_revisions\\deeplabcut\\videos\\020322\\PVCHA6TT\\020322_PVCHA6TT_control_SIDE_2.avi\n",
      "saving to T:\\Phil\\jumping_revisions\\deeplabcut\\videos\\020322\\PVCHA6TT\\020322_PVCHA6TT_control_2_SIDEcalib.avi\n"
     ]
    },
    {
     "name": "stderr",
     "output_type": "stream",
     "text": [
      "100%|████████████████████████████████████████████████████████████████████████████████| 494/494 [00:16<00:00, 29.46it/s]\n"
     ]
    },
    {
     "name": "stdout",
     "output_type": "stream",
     "text": [
      "undistorting T:\\Phil\\jumping_revisions\\deeplabcut\\videos\\020322\\PVCHA6TT\\020322_PVCHA6TT_control_SIDE_20.avi\n",
      "saving to T:\\Phil\\jumping_revisions\\deeplabcut\\videos\\020322\\PVCHA6TT\\020322_PVCHA6TT_control_20_SIDEcalib.avi\n"
     ]
    },
    {
     "name": "stderr",
     "output_type": "stream",
     "text": [
      "100%|████████████████████████████████████████████████████████████████████████████████| 314/314 [00:10<00:00, 29.42it/s]\n"
     ]
    },
    {
     "name": "stdout",
     "output_type": "stream",
     "text": [
      "undistorting T:\\Phil\\jumping_revisions\\deeplabcut\\videos\\020322\\PVCHA6TT\\020322_PVCHA6TT_control_SIDE_21.avi\n",
      "saving to T:\\Phil\\jumping_revisions\\deeplabcut\\videos\\020322\\PVCHA6TT\\020322_PVCHA6TT_control_21_SIDEcalib.avi\n"
     ]
    },
    {
     "name": "stderr",
     "output_type": "stream",
     "text": [
      "100%|████████████████████████████████████████████████████████████████████████████████| 593/593 [00:20<00:00, 29.51it/s]\n"
     ]
    },
    {
     "name": "stdout",
     "output_type": "stream",
     "text": [
      "undistorting T:\\Phil\\jumping_revisions\\deeplabcut\\videos\\020322\\PVCHA6TT\\020322_PVCHA6TT_control_SIDE_22.avi\n",
      "saving to T:\\Phil\\jumping_revisions\\deeplabcut\\videos\\020322\\PVCHA6TT\\020322_PVCHA6TT_control_22_SIDEcalib.avi\n"
     ]
    },
    {
     "name": "stderr",
     "output_type": "stream",
     "text": [
      "100%|████████████████████████████████████████████████████████████████████████████████| 368/368 [00:12<00:00, 29.42it/s]\n"
     ]
    },
    {
     "name": "stdout",
     "output_type": "stream",
     "text": [
      "undistorting T:\\Phil\\jumping_revisions\\deeplabcut\\videos\\020322\\PVCHA6TT\\020322_PVCHA6TT_control_SIDE_23.avi\n",
      "saving to T:\\Phil\\jumping_revisions\\deeplabcut\\videos\\020322\\PVCHA6TT\\020322_PVCHA6TT_control_23_SIDEcalib.avi\n"
     ]
    },
    {
     "name": "stderr",
     "output_type": "stream",
     "text": [
      "100%|████████████████████████████████████████████████████████████████████████████████| 239/239 [00:08<00:00, 29.30it/s]\n"
     ]
    },
    {
     "name": "stdout",
     "output_type": "stream",
     "text": [
      "undistorting T:\\Phil\\jumping_revisions\\deeplabcut\\videos\\020322\\PVCHA6TT\\020322_PVCHA6TT_control_SIDE_24.avi\n",
      "saving to T:\\Phil\\jumping_revisions\\deeplabcut\\videos\\020322\\PVCHA6TT\\020322_PVCHA6TT_control_24_SIDEcalib.avi\n"
     ]
    },
    {
     "name": "stderr",
     "output_type": "stream",
     "text": [
      "100%|████████████████████████████████████████████████████████████████████████████████| 431/431 [00:14<00:00, 29.34it/s]\n"
     ]
    },
    {
     "name": "stdout",
     "output_type": "stream",
     "text": [
      "undistorting T:\\Phil\\jumping_revisions\\deeplabcut\\videos\\020322\\PVCHA6TT\\020322_PVCHA6TT_control_SIDE_25.avi\n",
      "saving to T:\\Phil\\jumping_revisions\\deeplabcut\\videos\\020322\\PVCHA6TT\\020322_PVCHA6TT_control_25_SIDEcalib.avi\n"
     ]
    },
    {
     "name": "stderr",
     "output_type": "stream",
     "text": [
      "100%|████████████████████████████████████████████████████████████████████████████████| 336/336 [00:11<00:00, 29.35it/s]\n"
     ]
    },
    {
     "name": "stdout",
     "output_type": "stream",
     "text": [
      "undistorting T:\\Phil\\jumping_revisions\\deeplabcut\\videos\\020322\\PVCHA6TT\\020322_PVCHA6TT_control_SIDE_26.avi\n",
      "saving to T:\\Phil\\jumping_revisions\\deeplabcut\\videos\\020322\\PVCHA6TT\\020322_PVCHA6TT_control_26_SIDEcalib.avi\n"
     ]
    },
    {
     "name": "stderr",
     "output_type": "stream",
     "text": [
      "100%|████████████████████████████████████████████████████████████████████████████████| 253/253 [00:08<00:00, 29.39it/s]\n"
     ]
    },
    {
     "name": "stdout",
     "output_type": "stream",
     "text": [
      "undistorting T:\\Phil\\jumping_revisions\\deeplabcut\\videos\\020322\\PVCHA6TT\\020322_PVCHA6TT_control_SIDE_27.avi\n",
      "saving to T:\\Phil\\jumping_revisions\\deeplabcut\\videos\\020322\\PVCHA6TT\\020322_PVCHA6TT_control_27_SIDEcalib.avi\n"
     ]
    },
    {
     "name": "stderr",
     "output_type": "stream",
     "text": [
      "100%|████████████████████████████████████████████████████████████████████████████████| 353/353 [00:11<00:00, 29.42it/s]\n"
     ]
    },
    {
     "name": "stdout",
     "output_type": "stream",
     "text": [
      "undistorting T:\\Phil\\jumping_revisions\\deeplabcut\\videos\\020322\\PVCHA6TT\\020322_PVCHA6TT_control_SIDE_28.avi\n",
      "saving to T:\\Phil\\jumping_revisions\\deeplabcut\\videos\\020322\\PVCHA6TT\\020322_PVCHA6TT_control_28_SIDEcalib.avi\n"
     ]
    },
    {
     "name": "stderr",
     "output_type": "stream",
     "text": [
      "100%|████████████████████████████████████████████████████████████████████████████████| 293/293 [00:10<00:00, 29.25it/s]\n"
     ]
    },
    {
     "name": "stdout",
     "output_type": "stream",
     "text": [
      "undistorting T:\\Phil\\jumping_revisions\\deeplabcut\\videos\\020322\\PVCHA6TT\\020322_PVCHA6TT_control_SIDE_29.avi\n",
      "saving to T:\\Phil\\jumping_revisions\\deeplabcut\\videos\\020322\\PVCHA6TT\\020322_PVCHA6TT_control_29_SIDEcalib.avi\n"
     ]
    },
    {
     "name": "stderr",
     "output_type": "stream",
     "text": [
      "100%|████████████████████████████████████████████████████████████████████████████████| 605/605 [00:20<00:00, 29.47it/s]\n"
     ]
    },
    {
     "name": "stdout",
     "output_type": "stream",
     "text": [
      "undistorting T:\\Phil\\jumping_revisions\\deeplabcut\\videos\\020322\\PVCHA6TT\\020322_PVCHA6TT_control_SIDE_3.avi\n",
      "saving to T:\\Phil\\jumping_revisions\\deeplabcut\\videos\\020322\\PVCHA6TT\\020322_PVCHA6TT_control_3_SIDEcalib.avi\n"
     ]
    },
    {
     "name": "stderr",
     "output_type": "stream",
     "text": [
      "100%|████████████████████████████████████████████████████████████████████████████████| 387/387 [00:13<00:00, 29.38it/s]\n"
     ]
    },
    {
     "name": "stdout",
     "output_type": "stream",
     "text": [
      "undistorting T:\\Phil\\jumping_revisions\\deeplabcut\\videos\\020322\\PVCHA6TT\\020322_PVCHA6TT_control_SIDE_30.avi\n",
      "saving to T:\\Phil\\jumping_revisions\\deeplabcut\\videos\\020322\\PVCHA6TT\\020322_PVCHA6TT_control_30_SIDEcalib.avi\n"
     ]
    },
    {
     "name": "stderr",
     "output_type": "stream",
     "text": [
      "100%|████████████████████████████████████████████████████████████████████████████████| 365/365 [00:12<00:00, 29.40it/s]\n"
     ]
    },
    {
     "name": "stdout",
     "output_type": "stream",
     "text": [
      "undistorting T:\\Phil\\jumping_revisions\\deeplabcut\\videos\\020322\\PVCHA6TT\\020322_PVCHA6TT_control_SIDE_31.avi\n",
      "saving to T:\\Phil\\jumping_revisions\\deeplabcut\\videos\\020322\\PVCHA6TT\\020322_PVCHA6TT_control_31_SIDEcalib.avi\n"
     ]
    },
    {
     "name": "stderr",
     "output_type": "stream",
     "text": [
      "100%|████████████████████████████████████████████████████████████████████████████████| 289/289 [00:09<00:00, 29.04it/s]\n"
     ]
    },
    {
     "name": "stdout",
     "output_type": "stream",
     "text": [
      "undistorting T:\\Phil\\jumping_revisions\\deeplabcut\\videos\\020322\\PVCHA6TT\\020322_PVCHA6TT_control_SIDE_32.avi\n",
      "saving to T:\\Phil\\jumping_revisions\\deeplabcut\\videos\\020322\\PVCHA6TT\\020322_PVCHA6TT_control_32_SIDEcalib.avi\n"
     ]
    },
    {
     "name": "stderr",
     "output_type": "stream",
     "text": [
      "100%|████████████████████████████████████████████████████████████████████████████████| 232/232 [00:08<00:00, 28.94it/s]\n"
     ]
    },
    {
     "name": "stdout",
     "output_type": "stream",
     "text": [
      "undistorting T:\\Phil\\jumping_revisions\\deeplabcut\\videos\\020322\\PVCHA6TT\\020322_PVCHA6TT_control_SIDE_33.avi\n",
      "saving to T:\\Phil\\jumping_revisions\\deeplabcut\\videos\\020322\\PVCHA6TT\\020322_PVCHA6TT_control_33_SIDEcalib.avi\n"
     ]
    },
    {
     "name": "stderr",
     "output_type": "stream",
     "text": [
      "100%|████████████████████████████████████████████████████████████████████████████████| 349/349 [00:11<00:00, 29.43it/s]\n"
     ]
    },
    {
     "name": "stdout",
     "output_type": "stream",
     "text": [
      "undistorting T:\\Phil\\jumping_revisions\\deeplabcut\\videos\\020322\\PVCHA6TT\\020322_PVCHA6TT_control_SIDE_34.avi\n",
      "saving to T:\\Phil\\jumping_revisions\\deeplabcut\\videos\\020322\\PVCHA6TT\\020322_PVCHA6TT_control_34_SIDEcalib.avi\n"
     ]
    },
    {
     "name": "stderr",
     "output_type": "stream",
     "text": [
      "100%|████████████████████████████████████████████████████████████████████████████████| 440/440 [00:14<00:00, 29.46it/s]\n"
     ]
    },
    {
     "name": "stdout",
     "output_type": "stream",
     "text": [
      "undistorting T:\\Phil\\jumping_revisions\\deeplabcut\\videos\\020322\\PVCHA6TT\\020322_PVCHA6TT_control_SIDE_35.avi\n",
      "saving to T:\\Phil\\jumping_revisions\\deeplabcut\\videos\\020322\\PVCHA6TT\\020322_PVCHA6TT_control_35_SIDEcalib.avi\n"
     ]
    },
    {
     "name": "stderr",
     "output_type": "stream",
     "text": [
      "100%|████████████████████████████████████████████████████████████████████████████████| 442/442 [00:14<00:00, 29.47it/s]\n"
     ]
    },
    {
     "name": "stdout",
     "output_type": "stream",
     "text": [
      "undistorting T:\\Phil\\jumping_revisions\\deeplabcut\\videos\\020322\\PVCHA6TT\\020322_PVCHA6TT_control_SIDE_36.avi\n",
      "saving to T:\\Phil\\jumping_revisions\\deeplabcut\\videos\\020322\\PVCHA6TT\\020322_PVCHA6TT_control_36_SIDEcalib.avi\n"
     ]
    },
    {
     "name": "stderr",
     "output_type": "stream",
     "text": [
      "100%|████████████████████████████████████████████████████████████████████████████████| 262/262 [00:08<00:00, 29.37it/s]\n"
     ]
    },
    {
     "name": "stdout",
     "output_type": "stream",
     "text": [
      "undistorting T:\\Phil\\jumping_revisions\\deeplabcut\\videos\\020322\\PVCHA6TT\\020322_PVCHA6TT_control_SIDE_37.avi\n",
      "saving to T:\\Phil\\jumping_revisions\\deeplabcut\\videos\\020322\\PVCHA6TT\\020322_PVCHA6TT_control_37_SIDEcalib.avi\n"
     ]
    },
    {
     "name": "stderr",
     "output_type": "stream",
     "text": [
      "100%|████████████████████████████████████████████████████████████████████████████████| 241/241 [00:08<00:00, 29.32it/s]\n"
     ]
    },
    {
     "name": "stdout",
     "output_type": "stream",
     "text": [
      "undistorting T:\\Phil\\jumping_revisions\\deeplabcut\\videos\\020322\\PVCHA6TT\\020322_PVCHA6TT_control_SIDE_38.avi\n",
      "saving to T:\\Phil\\jumping_revisions\\deeplabcut\\videos\\020322\\PVCHA6TT\\020322_PVCHA6TT_control_38_SIDEcalib.avi\n"
     ]
    },
    {
     "name": "stderr",
     "output_type": "stream",
     "text": [
      "100%|████████████████████████████████████████████████████████████████████████████████| 310/310 [00:10<00:00, 29.35it/s]\n"
     ]
    },
    {
     "name": "stdout",
     "output_type": "stream",
     "text": [
      "undistorting T:\\Phil\\jumping_revisions\\deeplabcut\\videos\\020322\\PVCHA6TT\\020322_PVCHA6TT_control_SIDE_39.avi\n",
      "saving to T:\\Phil\\jumping_revisions\\deeplabcut\\videos\\020322\\PVCHA6TT\\020322_PVCHA6TT_control_39_SIDEcalib.avi\n"
     ]
    },
    {
     "name": "stderr",
     "output_type": "stream",
     "text": [
      "100%|████████████████████████████████████████████████████████████████████████████████| 265/265 [00:09<00:00, 29.39it/s]\n"
     ]
    },
    {
     "name": "stdout",
     "output_type": "stream",
     "text": [
      "undistorting T:\\Phil\\jumping_revisions\\deeplabcut\\videos\\020322\\PVCHA6TT\\020322_PVCHA6TT_control_SIDE_4.avi\n",
      "saving to T:\\Phil\\jumping_revisions\\deeplabcut\\videos\\020322\\PVCHA6TT\\020322_PVCHA6TT_control_4_SIDEcalib.avi\n"
     ]
    },
    {
     "name": "stderr",
     "output_type": "stream",
     "text": [
      "100%|████████████████████████████████████████████████████████████████████████████████| 324/324 [00:11<00:00, 29.37it/s]\n"
     ]
    },
    {
     "name": "stdout",
     "output_type": "stream",
     "text": [
      "undistorting T:\\Phil\\jumping_revisions\\deeplabcut\\videos\\020322\\PVCHA6TT\\020322_PVCHA6TT_control_SIDE_40.avi\n",
      "saving to T:\\Phil\\jumping_revisions\\deeplabcut\\videos\\020322\\PVCHA6TT\\020322_PVCHA6TT_control_40_SIDEcalib.avi\n"
     ]
    },
    {
     "name": "stderr",
     "output_type": "stream",
     "text": [
      "100%|████████████████████████████████████████████████████████████████████████████████| 299/299 [00:10<00:00, 29.39it/s]\n"
     ]
    },
    {
     "name": "stdout",
     "output_type": "stream",
     "text": [
      "undistorting T:\\Phil\\jumping_revisions\\deeplabcut\\videos\\020322\\PVCHA6TT\\020322_PVCHA6TT_control_SIDE_41.avi\n",
      "saving to T:\\Phil\\jumping_revisions\\deeplabcut\\videos\\020322\\PVCHA6TT\\020322_PVCHA6TT_control_41_SIDEcalib.avi\n"
     ]
    },
    {
     "name": "stderr",
     "output_type": "stream",
     "text": [
      "100%|████████████████████████████████████████████████████████████████████████████████| 336/336 [00:11<00:00, 29.02it/s]\n"
     ]
    },
    {
     "name": "stdout",
     "output_type": "stream",
     "text": [
      "undistorting T:\\Phil\\jumping_revisions\\deeplabcut\\videos\\020322\\PVCHA6TT\\020322_PVCHA6TT_control_SIDE_42.avi\n",
      "saving to T:\\Phil\\jumping_revisions\\deeplabcut\\videos\\020322\\PVCHA6TT\\020322_PVCHA6TT_control_42_SIDEcalib.avi\n"
     ]
    },
    {
     "name": "stderr",
     "output_type": "stream",
     "text": [
      "100%|████████████████████████████████████████████████████████████████████████████████| 255/255 [00:08<00:00, 29.33it/s]\n"
     ]
    },
    {
     "name": "stdout",
     "output_type": "stream",
     "text": [
      "undistorting T:\\Phil\\jumping_revisions\\deeplabcut\\videos\\020322\\PVCHA6TT\\020322_PVCHA6TT_control_SIDE_43.avi\n",
      "saving to T:\\Phil\\jumping_revisions\\deeplabcut\\videos\\020322\\PVCHA6TT\\020322_PVCHA6TT_control_43_SIDEcalib.avi\n"
     ]
    },
    {
     "name": "stderr",
     "output_type": "stream",
     "text": [
      "100%|████████████████████████████████████████████████████████████████████████████████| 371/371 [00:12<00:00, 29.35it/s]\n"
     ]
    },
    {
     "name": "stdout",
     "output_type": "stream",
     "text": [
      "undistorting T:\\Phil\\jumping_revisions\\deeplabcut\\videos\\020322\\PVCHA6TT\\020322_PVCHA6TT_control_SIDE_44.avi\n",
      "saving to T:\\Phil\\jumping_revisions\\deeplabcut\\videos\\020322\\PVCHA6TT\\020322_PVCHA6TT_control_44_SIDEcalib.avi\n"
     ]
    },
    {
     "name": "stderr",
     "output_type": "stream",
     "text": [
      "100%|████████████████████████████████████████████████████████████████████████████████| 386/386 [00:13<00:00, 29.44it/s]\n"
     ]
    },
    {
     "name": "stdout",
     "output_type": "stream",
     "text": [
      "undistorting T:\\Phil\\jumping_revisions\\deeplabcut\\videos\\020322\\PVCHA6TT\\020322_PVCHA6TT_control_SIDE_45.avi\n",
      "saving to T:\\Phil\\jumping_revisions\\deeplabcut\\videos\\020322\\PVCHA6TT\\020322_PVCHA6TT_control_45_SIDEcalib.avi\n"
     ]
    },
    {
     "name": "stderr",
     "output_type": "stream",
     "text": [
      "100%|████████████████████████████████████████████████████████████████████████████████| 265/265 [00:09<00:00, 29.39it/s]\n"
     ]
    },
    {
     "name": "stdout",
     "output_type": "stream",
     "text": [
      "undistorting T:\\Phil\\jumping_revisions\\deeplabcut\\videos\\020322\\PVCHA6TT\\020322_PVCHA6TT_control_SIDE_46.avi\n",
      "saving to T:\\Phil\\jumping_revisions\\deeplabcut\\videos\\020322\\PVCHA6TT\\020322_PVCHA6TT_control_46_SIDEcalib.avi\n"
     ]
    },
    {
     "name": "stderr",
     "output_type": "stream",
     "text": [
      "100%|████████████████████████████████████████████████████████████████████████████████| 319/319 [00:10<00:00, 29.38it/s]\n"
     ]
    },
    {
     "name": "stdout",
     "output_type": "stream",
     "text": [
      "undistorting T:\\Phil\\jumping_revisions\\deeplabcut\\videos\\020322\\PVCHA6TT\\020322_PVCHA6TT_control_SIDE_47.avi\n",
      "saving to T:\\Phil\\jumping_revisions\\deeplabcut\\videos\\020322\\PVCHA6TT\\020322_PVCHA6TT_control_47_SIDEcalib.avi\n"
     ]
    },
    {
     "name": "stderr",
     "output_type": "stream",
     "text": [
      "100%|████████████████████████████████████████████████████████████████████████████████| 345/345 [00:11<00:00, 29.40it/s]\n"
     ]
    },
    {
     "name": "stdout",
     "output_type": "stream",
     "text": [
      "undistorting T:\\Phil\\jumping_revisions\\deeplabcut\\videos\\020322\\PVCHA6TT\\020322_PVCHA6TT_control_SIDE_48.avi\n",
      "saving to T:\\Phil\\jumping_revisions\\deeplabcut\\videos\\020322\\PVCHA6TT\\020322_PVCHA6TT_control_48_SIDEcalib.avi\n"
     ]
    },
    {
     "name": "stderr",
     "output_type": "stream",
     "text": [
      "100%|████████████████████████████████████████████████████████████████████████████████| 636/636 [00:21<00:00, 29.25it/s]\n"
     ]
    },
    {
     "name": "stdout",
     "output_type": "stream",
     "text": [
      "undistorting T:\\Phil\\jumping_revisions\\deeplabcut\\videos\\020322\\PVCHA6TT\\020322_PVCHA6TT_control_SIDE_49.avi\n",
      "saving to T:\\Phil\\jumping_revisions\\deeplabcut\\videos\\020322\\PVCHA6TT\\020322_PVCHA6TT_control_49_SIDEcalib.avi\n"
     ]
    },
    {
     "name": "stderr",
     "output_type": "stream",
     "text": [
      "100%|████████████████████████████████████████████████████████████████████████████████| 601/601 [00:20<00:00, 29.42it/s]\n"
     ]
    },
    {
     "name": "stdout",
     "output_type": "stream",
     "text": [
      "undistorting T:\\Phil\\jumping_revisions\\deeplabcut\\videos\\020322\\PVCHA6TT\\020322_PVCHA6TT_control_SIDE_5.avi\n",
      "saving to T:\\Phil\\jumping_revisions\\deeplabcut\\videos\\020322\\PVCHA6TT\\020322_PVCHA6TT_control_5_SIDEcalib.avi\n"
     ]
    },
    {
     "name": "stderr",
     "output_type": "stream",
     "text": [
      "100%|████████████████████████████████████████████████████████████████████████████████| 363/363 [00:12<00:00, 29.01it/s]\n"
     ]
    },
    {
     "name": "stdout",
     "output_type": "stream",
     "text": [
      "undistorting T:\\Phil\\jumping_revisions\\deeplabcut\\videos\\020322\\PVCHA6TT\\020322_PVCHA6TT_control_SIDE_6.avi\n",
      "saving to T:\\Phil\\jumping_revisions\\deeplabcut\\videos\\020322\\PVCHA6TT\\020322_PVCHA6TT_control_6_SIDEcalib.avi\n"
     ]
    },
    {
     "name": "stderr",
     "output_type": "stream",
     "text": [
      "100%|████████████████████████████████████████████████████████████████████████████████| 196/196 [00:06<00:00, 28.98it/s]\n"
     ]
    },
    {
     "name": "stdout",
     "output_type": "stream",
     "text": [
      "undistorting T:\\Phil\\jumping_revisions\\deeplabcut\\videos\\020322\\PVCHA6TT\\020322_PVCHA6TT_control_SIDE_7.avi\n",
      "saving to T:\\Phil\\jumping_revisions\\deeplabcut\\videos\\020322\\PVCHA6TT\\020322_PVCHA6TT_control_7_SIDEcalib.avi\n"
     ]
    },
    {
     "name": "stderr",
     "output_type": "stream",
     "text": [
      "100%|████████████████████████████████████████████████████████████████████████████████| 333/333 [00:11<00:00, 29.13it/s]\n"
     ]
    },
    {
     "name": "stdout",
     "output_type": "stream",
     "text": [
      "undistorting T:\\Phil\\jumping_revisions\\deeplabcut\\videos\\020322\\PVCHA6TT\\020322_PVCHA6TT_control_SIDE_8.avi\n",
      "saving to T:\\Phil\\jumping_revisions\\deeplabcut\\videos\\020322\\PVCHA6TT\\020322_PVCHA6TT_control_8_SIDEcalib.avi\n"
     ]
    },
    {
     "name": "stderr",
     "output_type": "stream",
     "text": [
      "100%|████████████████████████████████████████████████████████████████████████████████| 445/445 [00:15<00:00, 28.91it/s]\n"
     ]
    },
    {
     "name": "stdout",
     "output_type": "stream",
     "text": [
      "undistorting T:\\Phil\\jumping_revisions\\deeplabcut\\videos\\020322\\PVCHA6TT\\020322_PVCHA6TT_control_SIDE_9.avi\n",
      "saving to T:\\Phil\\jumping_revisions\\deeplabcut\\videos\\020322\\PVCHA6TT\\020322_PVCHA6TT_control_9_SIDEcalib.avi\n"
     ]
    },
    {
     "name": "stderr",
     "output_type": "stream",
     "text": [
      "100%|████████████████████████████████████████████████████████████████████████████████| 419/419 [00:14<00:00, 28.94it/s]\n"
     ]
    },
    {
     "name": "stdout",
     "output_type": "stream",
     "text": [
      "undistorting T:\\Phil\\jumping_revisions\\deeplabcut\\videos\\020322\\PVCHA7LN\\020322_PVCHA7LN_control_SIDE_0.avi\n",
      "saving to T:\\Phil\\jumping_revisions\\deeplabcut\\videos\\020322\\PVCHA7LN\\020322_PVCHA7LN_control_0_SIDEcalib.avi\n"
     ]
    },
    {
     "name": "stderr",
     "output_type": "stream",
     "text": [
      "100%|████████████████████████████████████████████████████████████████████████████████| 368/368 [00:12<00:00, 29.24it/s]\n"
     ]
    },
    {
     "name": "stdout",
     "output_type": "stream",
     "text": [
      "undistorting T:\\Phil\\jumping_revisions\\deeplabcut\\videos\\020322\\PVCHA7LN\\020322_PVCHA7LN_control_SIDE_1.avi\n",
      "saving to T:\\Phil\\jumping_revisions\\deeplabcut\\videos\\020322\\PVCHA7LN\\020322_PVCHA7LN_control_1_SIDEcalib.avi\n"
     ]
    },
    {
     "name": "stderr",
     "output_type": "stream",
     "text": [
      "100%|████████████████████████████████████████████████████████████████████████████████| 424/424 [00:14<00:00, 29.34it/s]\n"
     ]
    },
    {
     "name": "stdout",
     "output_type": "stream",
     "text": [
      "undistorting T:\\Phil\\jumping_revisions\\deeplabcut\\videos\\020322\\PVCHA7LN\\020322_PVCHA7LN_control_SIDE_10.avi\n",
      "saving to T:\\Phil\\jumping_revisions\\deeplabcut\\videos\\020322\\PVCHA7LN\\020322_PVCHA7LN_control_10_SIDEcalib.avi\n"
     ]
    },
    {
     "name": "stderr",
     "output_type": "stream",
     "text": [
      "100%|████████████████████████████████████████████████████████████████████████████████| 283/283 [00:09<00:00, 29.28it/s]\n"
     ]
    },
    {
     "name": "stdout",
     "output_type": "stream",
     "text": [
      "undistorting T:\\Phil\\jumping_revisions\\deeplabcut\\videos\\020322\\PVCHA7LN\\020322_PVCHA7LN_control_SIDE_11.avi\n",
      "saving to T:\\Phil\\jumping_revisions\\deeplabcut\\videos\\020322\\PVCHA7LN\\020322_PVCHA7LN_control_11_SIDEcalib.avi\n"
     ]
    },
    {
     "name": "stderr",
     "output_type": "stream",
     "text": [
      "100%|████████████████████████████████████████████████████████████████████████████████| 503/503 [00:17<00:00, 29.18it/s]\n"
     ]
    },
    {
     "name": "stdout",
     "output_type": "stream",
     "text": [
      "undistorting T:\\Phil\\jumping_revisions\\deeplabcut\\videos\\020322\\PVCHA7LN\\020322_PVCHA7LN_control_SIDE_12.avi\n",
      "saving to T:\\Phil\\jumping_revisions\\deeplabcut\\videos\\020322\\PVCHA7LN\\020322_PVCHA7LN_control_12_SIDEcalib.avi\n"
     ]
    },
    {
     "name": "stderr",
     "output_type": "stream",
     "text": [
      "100%|████████████████████████████████████████████████████████████████████████████████| 314/314 [00:10<00:00, 29.25it/s]\n"
     ]
    },
    {
     "name": "stdout",
     "output_type": "stream",
     "text": [
      "undistorting T:\\Phil\\jumping_revisions\\deeplabcut\\videos\\020322\\PVCHA7LN\\020322_PVCHA7LN_control_SIDE_13.avi\n",
      "saving to T:\\Phil\\jumping_revisions\\deeplabcut\\videos\\020322\\PVCHA7LN\\020322_PVCHA7LN_control_13_SIDEcalib.avi\n"
     ]
    },
    {
     "name": "stderr",
     "output_type": "stream",
     "text": [
      "100%|████████████████████████████████████████████████████████████████████████████████| 350/350 [00:12<00:00, 28.73it/s]\n"
     ]
    },
    {
     "name": "stdout",
     "output_type": "stream",
     "text": [
      "undistorting T:\\Phil\\jumping_revisions\\deeplabcut\\videos\\020322\\PVCHA7LN\\020322_PVCHA7LN_control_SIDE_14.avi\n",
      "saving to T:\\Phil\\jumping_revisions\\deeplabcut\\videos\\020322\\PVCHA7LN\\020322_PVCHA7LN_control_14_SIDEcalib.avi\n"
     ]
    },
    {
     "name": "stderr",
     "output_type": "stream",
     "text": [
      "100%|████████████████████████████████████████████████████████████████████████████████| 265/265 [00:09<00:00, 29.09it/s]\n"
     ]
    },
    {
     "name": "stdout",
     "output_type": "stream",
     "text": [
      "undistorting T:\\Phil\\jumping_revisions\\deeplabcut\\videos\\020322\\PVCHA7LN\\020322_PVCHA7LN_control_SIDE_15.avi\n",
      "saving to T:\\Phil\\jumping_revisions\\deeplabcut\\videos\\020322\\PVCHA7LN\\020322_PVCHA7LN_control_15_SIDEcalib.avi\n"
     ]
    },
    {
     "name": "stderr",
     "output_type": "stream",
     "text": [
      "100%|████████████████████████████████████████████████████████████████████████████████| 237/237 [00:08<00:00, 28.89it/s]\n"
     ]
    },
    {
     "name": "stdout",
     "output_type": "stream",
     "text": [
      "undistorting T:\\Phil\\jumping_revisions\\deeplabcut\\videos\\020322\\PVCHA7LN\\020322_PVCHA7LN_control_SIDE_16.avi\n",
      "saving to T:\\Phil\\jumping_revisions\\deeplabcut\\videos\\020322\\PVCHA7LN\\020322_PVCHA7LN_control_16_SIDEcalib.avi\n"
     ]
    },
    {
     "name": "stderr",
     "output_type": "stream",
     "text": [
      "100%|██████████████████████████████████████████████████████████████████████████████| 1021/1021 [00:34<00:00, 29.21it/s]\n"
     ]
    },
    {
     "name": "stdout",
     "output_type": "stream",
     "text": [
      "undistorting T:\\Phil\\jumping_revisions\\deeplabcut\\videos\\020322\\PVCHA7LN\\020322_PVCHA7LN_control_SIDE_17.avi\n",
      "saving to T:\\Phil\\jumping_revisions\\deeplabcut\\videos\\020322\\PVCHA7LN\\020322_PVCHA7LN_control_17_SIDEcalib.avi\n"
     ]
    },
    {
     "name": "stderr",
     "output_type": "stream",
     "text": [
      "100%|████████████████████████████████████████████████████████████████████████████████| 479/479 [00:16<00:00, 29.14it/s]\n"
     ]
    },
    {
     "name": "stdout",
     "output_type": "stream",
     "text": [
      "undistorting T:\\Phil\\jumping_revisions\\deeplabcut\\videos\\020322\\PVCHA7LN\\020322_PVCHA7LN_control_SIDE_18.avi\n",
      "saving to T:\\Phil\\jumping_revisions\\deeplabcut\\videos\\020322\\PVCHA7LN\\020322_PVCHA7LN_control_18_SIDEcalib.avi\n"
     ]
    },
    {
     "name": "stderr",
     "output_type": "stream",
     "text": [
      "100%|████████████████████████████████████████████████████████████████████████████████| 412/412 [00:14<00:00, 29.10it/s]\n"
     ]
    },
    {
     "name": "stdout",
     "output_type": "stream",
     "text": [
      "undistorting T:\\Phil\\jumping_revisions\\deeplabcut\\videos\\020322\\PVCHA7LN\\020322_PVCHA7LN_control_SIDE_19.avi\n",
      "saving to T:\\Phil\\jumping_revisions\\deeplabcut\\videos\\020322\\PVCHA7LN\\020322_PVCHA7LN_control_19_SIDEcalib.avi\n"
     ]
    },
    {
     "name": "stderr",
     "output_type": "stream",
     "text": [
      "100%|████████████████████████████████████████████████████████████████████████████████| 389/389 [00:13<00:00, 29.08it/s]\n"
     ]
    },
    {
     "name": "stdout",
     "output_type": "stream",
     "text": [
      "undistorting T:\\Phil\\jumping_revisions\\deeplabcut\\videos\\020322\\PVCHA7LN\\020322_PVCHA7LN_control_SIDE_2.avi\n",
      "saving to T:\\Phil\\jumping_revisions\\deeplabcut\\videos\\020322\\PVCHA7LN\\020322_PVCHA7LN_control_2_SIDEcalib.avi\n"
     ]
    },
    {
     "name": "stderr",
     "output_type": "stream",
     "text": [
      "100%|████████████████████████████████████████████████████████████████████████████████| 333/333 [00:11<00:00, 29.21it/s]\n"
     ]
    },
    {
     "name": "stdout",
     "output_type": "stream",
     "text": [
      "undistorting T:\\Phil\\jumping_revisions\\deeplabcut\\videos\\020322\\PVCHA7LN\\020322_PVCHA7LN_control_SIDE_20.avi\n",
      "saving to T:\\Phil\\jumping_revisions\\deeplabcut\\videos\\020322\\PVCHA7LN\\020322_PVCHA7LN_control_20_SIDEcalib.avi\n"
     ]
    },
    {
     "name": "stderr",
     "output_type": "stream",
     "text": [
      "100%|████████████████████████████████████████████████████████████████████████████████| 287/287 [00:09<00:00, 29.24it/s]\n"
     ]
    },
    {
     "name": "stdout",
     "output_type": "stream",
     "text": [
      "undistorting T:\\Phil\\jumping_revisions\\deeplabcut\\videos\\020322\\PVCHA7LN\\020322_PVCHA7LN_control_SIDE_21.avi\n",
      "saving to T:\\Phil\\jumping_revisions\\deeplabcut\\videos\\020322\\PVCHA7LN\\020322_PVCHA7LN_control_21_SIDEcalib.avi\n"
     ]
    },
    {
     "name": "stderr",
     "output_type": "stream",
     "text": [
      "100%|████████████████████████████████████████████████████████████████████████████████| 349/349 [00:11<00:00, 29.29it/s]\n"
     ]
    },
    {
     "name": "stdout",
     "output_type": "stream",
     "text": [
      "undistorting T:\\Phil\\jumping_revisions\\deeplabcut\\videos\\020322\\PVCHA7LN\\020322_PVCHA7LN_control_SIDE_22.avi\n",
      "saving to T:\\Phil\\jumping_revisions\\deeplabcut\\videos\\020322\\PVCHA7LN\\020322_PVCHA7LN_control_22_SIDEcalib.avi\n"
     ]
    },
    {
     "name": "stderr",
     "output_type": "stream",
     "text": [
      "100%|████████████████████████████████████████████████████████████████████████████████| 289/289 [00:09<00:00, 29.07it/s]\n"
     ]
    },
    {
     "name": "stdout",
     "output_type": "stream",
     "text": [
      "undistorting T:\\Phil\\jumping_revisions\\deeplabcut\\videos\\020322\\PVCHA7LN\\020322_PVCHA7LN_control_SIDE_23.avi\n",
      "saving to T:\\Phil\\jumping_revisions\\deeplabcut\\videos\\020322\\PVCHA7LN\\020322_PVCHA7LN_control_23_SIDEcalib.avi\n"
     ]
    },
    {
     "name": "stderr",
     "output_type": "stream",
     "text": [
      "100%|████████████████████████████████████████████████████████████████████████████████| 325/325 [00:11<00:00, 29.30it/s]\n"
     ]
    },
    {
     "name": "stdout",
     "output_type": "stream",
     "text": [
      "undistorting T:\\Phil\\jumping_revisions\\deeplabcut\\videos\\020322\\PVCHA7LN\\020322_PVCHA7LN_control_SIDE_24.avi\n",
      "saving to T:\\Phil\\jumping_revisions\\deeplabcut\\videos\\020322\\PVCHA7LN\\020322_PVCHA7LN_control_24_SIDEcalib.avi\n"
     ]
    },
    {
     "name": "stderr",
     "output_type": "stream",
     "text": [
      "100%|████████████████████████████████████████████████████████████████████████████████| 270/270 [00:09<00:00, 29.32it/s]\n"
     ]
    },
    {
     "name": "stdout",
     "output_type": "stream",
     "text": [
      "undistorting T:\\Phil\\jumping_revisions\\deeplabcut\\videos\\020322\\PVCHA7LN\\020322_PVCHA7LN_control_SIDE_25.avi\n",
      "saving to T:\\Phil\\jumping_revisions\\deeplabcut\\videos\\020322\\PVCHA7LN\\020322_PVCHA7LN_control_25_SIDEcalib.avi\n"
     ]
    },
    {
     "name": "stderr",
     "output_type": "stream",
     "text": [
      "100%|████████████████████████████████████████████████████████████████████████████████| 337/337 [00:11<00:00, 29.12it/s]\n"
     ]
    },
    {
     "name": "stdout",
     "output_type": "stream",
     "text": [
      "undistorting T:\\Phil\\jumping_revisions\\deeplabcut\\videos\\020322\\PVCHA7LN\\020322_PVCHA7LN_control_SIDE_26.avi\n",
      "saving to T:\\Phil\\jumping_revisions\\deeplabcut\\videos\\020322\\PVCHA7LN\\020322_PVCHA7LN_control_26_SIDEcalib.avi\n"
     ]
    },
    {
     "name": "stderr",
     "output_type": "stream",
     "text": [
      "100%|████████████████████████████████████████████████████████████████████████████████| 381/381 [00:13<00:00, 29.18it/s]\n"
     ]
    },
    {
     "name": "stdout",
     "output_type": "stream",
     "text": [
      "undistorting T:\\Phil\\jumping_revisions\\deeplabcut\\videos\\020322\\PVCHA7LN\\020322_PVCHA7LN_control_SIDE_27.avi\n",
      "saving to T:\\Phil\\jumping_revisions\\deeplabcut\\videos\\020322\\PVCHA7LN\\020322_PVCHA7LN_control_27_SIDEcalib.avi\n"
     ]
    },
    {
     "name": "stderr",
     "output_type": "stream",
     "text": [
      "100%|████████████████████████████████████████████████████████████████████████████████| 342/342 [00:11<00:00, 29.15it/s]\n"
     ]
    },
    {
     "name": "stdout",
     "output_type": "stream",
     "text": [
      "undistorting T:\\Phil\\jumping_revisions\\deeplabcut\\videos\\020322\\PVCHA7LN\\020322_PVCHA7LN_control_SIDE_28.avi\n",
      "saving to T:\\Phil\\jumping_revisions\\deeplabcut\\videos\\020322\\PVCHA7LN\\020322_PVCHA7LN_control_28_SIDEcalib.avi\n"
     ]
    },
    {
     "name": "stderr",
     "output_type": "stream",
     "text": [
      "100%|████████████████████████████████████████████████████████████████████████████████| 791/791 [00:27<00:00, 29.24it/s]\n"
     ]
    },
    {
     "name": "stdout",
     "output_type": "stream",
     "text": [
      "undistorting T:\\Phil\\jumping_revisions\\deeplabcut\\videos\\020322\\PVCHA7LN\\020322_PVCHA7LN_control_SIDE_29.avi\n",
      "saving to T:\\Phil\\jumping_revisions\\deeplabcut\\videos\\020322\\PVCHA7LN\\020322_PVCHA7LN_control_29_SIDEcalib.avi\n"
     ]
    },
    {
     "name": "stderr",
     "output_type": "stream",
     "text": [
      "100%|████████████████████████████████████████████████████████████████████████████████| 341/341 [00:11<00:00, 29.15it/s]\n"
     ]
    },
    {
     "name": "stdout",
     "output_type": "stream",
     "text": [
      "undistorting T:\\Phil\\jumping_revisions\\deeplabcut\\videos\\020322\\PVCHA7LN\\020322_PVCHA7LN_control_SIDE_3.avi\n",
      "saving to T:\\Phil\\jumping_revisions\\deeplabcut\\videos\\020322\\PVCHA7LN\\020322_PVCHA7LN_control_3_SIDEcalib.avi\n"
     ]
    },
    {
     "name": "stderr",
     "output_type": "stream",
     "text": [
      "100%|████████████████████████████████████████████████████████████████████████████████| 339/339 [00:11<00:00, 29.16it/s]\n"
     ]
    },
    {
     "name": "stdout",
     "output_type": "stream",
     "text": [
      "undistorting T:\\Phil\\jumping_revisions\\deeplabcut\\videos\\020322\\PVCHA7LN\\020322_PVCHA7LN_control_SIDE_30.avi\n",
      "saving to T:\\Phil\\jumping_revisions\\deeplabcut\\videos\\020322\\PVCHA7LN\\020322_PVCHA7LN_control_30_SIDEcalib.avi\n"
     ]
    },
    {
     "name": "stderr",
     "output_type": "stream",
     "text": [
      "100%|████████████████████████████████████████████████████████████████████████████████| 354/354 [00:12<00:00, 29.27it/s]\n"
     ]
    },
    {
     "name": "stdout",
     "output_type": "stream",
     "text": [
      "undistorting T:\\Phil\\jumping_revisions\\deeplabcut\\videos\\020322\\PVCHA7LN\\020322_PVCHA7LN_control_SIDE_31.avi\n",
      "saving to T:\\Phil\\jumping_revisions\\deeplabcut\\videos\\020322\\PVCHA7LN\\020322_PVCHA7LN_control_31_SIDEcalib.avi\n"
     ]
    },
    {
     "name": "stderr",
     "output_type": "stream",
     "text": [
      "100%|████████████████████████████████████████████████████████████████████████████████| 410/410 [00:13<00:00, 29.38it/s]\n"
     ]
    },
    {
     "name": "stdout",
     "output_type": "stream",
     "text": [
      "undistorting T:\\Phil\\jumping_revisions\\deeplabcut\\videos\\020322\\PVCHA7LN\\020322_PVCHA7LN_control_SIDE_32.avi\n",
      "saving to T:\\Phil\\jumping_revisions\\deeplabcut\\videos\\020322\\PVCHA7LN\\020322_PVCHA7LN_control_32_SIDEcalib.avi\n"
     ]
    },
    {
     "name": "stderr",
     "output_type": "stream",
     "text": [
      "100%|████████████████████████████████████████████████████████████████████████████████| 324/324 [00:10<00:00, 29.46it/s]\n"
     ]
    },
    {
     "name": "stdout",
     "output_type": "stream",
     "text": [
      "undistorting T:\\Phil\\jumping_revisions\\deeplabcut\\videos\\020322\\PVCHA7LN\\020322_PVCHA7LN_control_SIDE_33.avi\n",
      "saving to T:\\Phil\\jumping_revisions\\deeplabcut\\videos\\020322\\PVCHA7LN\\020322_PVCHA7LN_control_33_SIDEcalib.avi\n"
     ]
    },
    {
     "name": "stderr",
     "output_type": "stream",
     "text": [
      "100%|████████████████████████████████████████████████████████████████████████████████| 436/436 [00:14<00:00, 29.42it/s]\n"
     ]
    },
    {
     "name": "stdout",
     "output_type": "stream",
     "text": [
      "undistorting T:\\Phil\\jumping_revisions\\deeplabcut\\videos\\020322\\PVCHA7LN\\020322_PVCHA7LN_control_SIDE_34.avi\n",
      "saving to T:\\Phil\\jumping_revisions\\deeplabcut\\videos\\020322\\PVCHA7LN\\020322_PVCHA7LN_control_34_SIDEcalib.avi\n"
     ]
    },
    {
     "name": "stderr",
     "output_type": "stream",
     "text": [
      "100%|████████████████████████████████████████████████████████████████████████████████| 415/415 [00:14<00:00, 29.19it/s]\n"
     ]
    },
    {
     "name": "stdout",
     "output_type": "stream",
     "text": [
      "undistorting T:\\Phil\\jumping_revisions\\deeplabcut\\videos\\020322\\PVCHA7LN\\020322_PVCHA7LN_control_SIDE_35.avi\n",
      "saving to T:\\Phil\\jumping_revisions\\deeplabcut\\videos\\020322\\PVCHA7LN\\020322_PVCHA7LN_control_35_SIDEcalib.avi\n"
     ]
    },
    {
     "name": "stderr",
     "output_type": "stream",
     "text": [
      "100%|████████████████████████████████████████████████████████████████████████████████| 417/417 [00:14<00:00, 29.33it/s]\n"
     ]
    },
    {
     "name": "stdout",
     "output_type": "stream",
     "text": [
      "undistorting T:\\Phil\\jumping_revisions\\deeplabcut\\videos\\020322\\PVCHA7LN\\020322_PVCHA7LN_control_SIDE_36.avi\n",
      "saving to T:\\Phil\\jumping_revisions\\deeplabcut\\videos\\020322\\PVCHA7LN\\020322_PVCHA7LN_control_36_SIDEcalib.avi\n"
     ]
    },
    {
     "name": "stderr",
     "output_type": "stream",
     "text": [
      "100%|████████████████████████████████████████████████████████████████████████████████| 512/512 [00:17<00:00, 29.39it/s]\n"
     ]
    },
    {
     "name": "stdout",
     "output_type": "stream",
     "text": [
      "undistorting T:\\Phil\\jumping_revisions\\deeplabcut\\videos\\020322\\PVCHA7LN\\020322_PVCHA7LN_control_SIDE_37.avi\n",
      "saving to T:\\Phil\\jumping_revisions\\deeplabcut\\videos\\020322\\PVCHA7LN\\020322_PVCHA7LN_control_37_SIDEcalib.avi\n"
     ]
    },
    {
     "name": "stderr",
     "output_type": "stream",
     "text": [
      "100%|████████████████████████████████████████████████████████████████████████████████| 359/359 [00:12<00:00, 29.23it/s]\n"
     ]
    },
    {
     "name": "stdout",
     "output_type": "stream",
     "text": [
      "undistorting T:\\Phil\\jumping_revisions\\deeplabcut\\videos\\020322\\PVCHA7LN\\020322_PVCHA7LN_control_SIDE_38.avi\n",
      "saving to T:\\Phil\\jumping_revisions\\deeplabcut\\videos\\020322\\PVCHA7LN\\020322_PVCHA7LN_control_38_SIDEcalib.avi\n"
     ]
    },
    {
     "name": "stderr",
     "output_type": "stream",
     "text": [
      "100%|████████████████████████████████████████████████████████████████████████████████| 350/350 [00:11<00:00, 29.26it/s]\n"
     ]
    },
    {
     "name": "stdout",
     "output_type": "stream",
     "text": [
      "undistorting T:\\Phil\\jumping_revisions\\deeplabcut\\videos\\020322\\PVCHA7LN\\020322_PVCHA7LN_control_SIDE_39.avi\n",
      "saving to T:\\Phil\\jumping_revisions\\deeplabcut\\videos\\020322\\PVCHA7LN\\020322_PVCHA7LN_control_39_SIDEcalib.avi\n"
     ]
    },
    {
     "name": "stderr",
     "output_type": "stream",
     "text": [
      "100%|████████████████████████████████████████████████████████████████████████████████| 495/495 [00:16<00:00, 29.36it/s]\n"
     ]
    },
    {
     "name": "stdout",
     "output_type": "stream",
     "text": [
      "undistorting T:\\Phil\\jumping_revisions\\deeplabcut\\videos\\020322\\PVCHA7LN\\020322_PVCHA7LN_control_SIDE_4.avi\n",
      "saving to T:\\Phil\\jumping_revisions\\deeplabcut\\videos\\020322\\PVCHA7LN\\020322_PVCHA7LN_control_4_SIDEcalib.avi\n"
     ]
    },
    {
     "name": "stderr",
     "output_type": "stream",
     "text": [
      "100%|████████████████████████████████████████████████████████████████████████████████| 338/338 [00:11<00:00, 29.32it/s]\n"
     ]
    },
    {
     "name": "stdout",
     "output_type": "stream",
     "text": [
      "undistorting T:\\Phil\\jumping_revisions\\deeplabcut\\videos\\020322\\PVCHA7LN\\020322_PVCHA7LN_control_SIDE_40.avi\n",
      "saving to T:\\Phil\\jumping_revisions\\deeplabcut\\videos\\020322\\PVCHA7LN\\020322_PVCHA7LN_control_40_SIDEcalib.avi\n"
     ]
    },
    {
     "name": "stderr",
     "output_type": "stream",
     "text": [
      "100%|████████████████████████████████████████████████████████████████████████████████| 294/294 [00:10<00:00, 29.22it/s]\n"
     ]
    },
    {
     "name": "stdout",
     "output_type": "stream",
     "text": [
      "undistorting T:\\Phil\\jumping_revisions\\deeplabcut\\videos\\020322\\PVCHA7LN\\020322_PVCHA7LN_control_SIDE_41.avi\n",
      "saving to T:\\Phil\\jumping_revisions\\deeplabcut\\videos\\020322\\PVCHA7LN\\020322_PVCHA7LN_control_41_SIDEcalib.avi\n"
     ]
    },
    {
     "name": "stderr",
     "output_type": "stream",
     "text": [
      "100%|████████████████████████████████████████████████████████████████████████████████| 570/570 [00:19<00:00, 29.44it/s]\n"
     ]
    },
    {
     "name": "stdout",
     "output_type": "stream",
     "text": [
      "undistorting T:\\Phil\\jumping_revisions\\deeplabcut\\videos\\020322\\PVCHA7LN\\020322_PVCHA7LN_control_SIDE_42.avi\n",
      "saving to T:\\Phil\\jumping_revisions\\deeplabcut\\videos\\020322\\PVCHA7LN\\020322_PVCHA7LN_control_42_SIDEcalib.avi\n"
     ]
    },
    {
     "name": "stderr",
     "output_type": "stream",
     "text": [
      "100%|████████████████████████████████████████████████████████████████████████████████| 489/489 [00:16<00:00, 29.42it/s]\n"
     ]
    },
    {
     "name": "stdout",
     "output_type": "stream",
     "text": [
      "undistorting T:\\Phil\\jumping_revisions\\deeplabcut\\videos\\020322\\PVCHA7LN\\020322_PVCHA7LN_control_SIDE_43.avi\n",
      "saving to T:\\Phil\\jumping_revisions\\deeplabcut\\videos\\020322\\PVCHA7LN\\020322_PVCHA7LN_control_43_SIDEcalib.avi\n"
     ]
    },
    {
     "name": "stderr",
     "output_type": "stream",
     "text": [
      "100%|████████████████████████████████████████████████████████████████████████████████| 311/311 [00:10<00:00, 29.31it/s]\n"
     ]
    },
    {
     "name": "stdout",
     "output_type": "stream",
     "text": [
      "undistorting T:\\Phil\\jumping_revisions\\deeplabcut\\videos\\020322\\PVCHA7LN\\020322_PVCHA7LN_control_SIDE_44.avi\n",
      "saving to T:\\Phil\\jumping_revisions\\deeplabcut\\videos\\020322\\PVCHA7LN\\020322_PVCHA7LN_control_44_SIDEcalib.avi\n"
     ]
    },
    {
     "name": "stderr",
     "output_type": "stream",
     "text": [
      "100%|████████████████████████████████████████████████████████████████████████████████| 343/343 [00:11<00:00, 29.35it/s]\n"
     ]
    },
    {
     "name": "stdout",
     "output_type": "stream",
     "text": [
      "undistorting T:\\Phil\\jumping_revisions\\deeplabcut\\videos\\020322\\PVCHA7LN\\020322_PVCHA7LN_control_SIDE_45.avi\n",
      "saving to T:\\Phil\\jumping_revisions\\deeplabcut\\videos\\020322\\PVCHA7LN\\020322_PVCHA7LN_control_45_SIDEcalib.avi\n"
     ]
    },
    {
     "name": "stderr",
     "output_type": "stream",
     "text": [
      "100%|██████████████████████████████████████████████████████████████████████████████| 1652/1652 [00:56<00:00, 29.17it/s]\n"
     ]
    },
    {
     "name": "stdout",
     "output_type": "stream",
     "text": [
      "undistorting T:\\Phil\\jumping_revisions\\deeplabcut\\videos\\020322\\PVCHA7LN\\020322_PVCHA7LN_control_SIDE_46.avi\n",
      "saving to T:\\Phil\\jumping_revisions\\deeplabcut\\videos\\020322\\PVCHA7LN\\020322_PVCHA7LN_control_46_SIDEcalib.avi\n"
     ]
    },
    {
     "name": "stderr",
     "output_type": "stream",
     "text": [
      "100%|████████████████████████████████████████████████████████████████████████████████| 346/346 [00:11<00:00, 28.93it/s]\n"
     ]
    },
    {
     "name": "stdout",
     "output_type": "stream",
     "text": [
      "undistorting T:\\Phil\\jumping_revisions\\deeplabcut\\videos\\020322\\PVCHA7LN\\020322_PVCHA7LN_control_SIDE_47.avi\n",
      "saving to T:\\Phil\\jumping_revisions\\deeplabcut\\videos\\020322\\PVCHA7LN\\020322_PVCHA7LN_control_47_SIDEcalib.avi\n"
     ]
    },
    {
     "name": "stderr",
     "output_type": "stream",
     "text": [
      "100%|████████████████████████████████████████████████████████████████████████████████| 502/502 [00:17<00:00, 29.23it/s]\n"
     ]
    },
    {
     "name": "stdout",
     "output_type": "stream",
     "text": [
      "undistorting T:\\Phil\\jumping_revisions\\deeplabcut\\videos\\020322\\PVCHA7LN\\020322_PVCHA7LN_control_SIDE_48.avi\n",
      "saving to T:\\Phil\\jumping_revisions\\deeplabcut\\videos\\020322\\PVCHA7LN\\020322_PVCHA7LN_control_48_SIDEcalib.avi\n"
     ]
    },
    {
     "name": "stderr",
     "output_type": "stream",
     "text": [
      "100%|████████████████████████████████████████████████████████████████████████████████| 425/425 [00:14<00:00, 29.02it/s]\n"
     ]
    },
    {
     "name": "stdout",
     "output_type": "stream",
     "text": [
      "undistorting T:\\Phil\\jumping_revisions\\deeplabcut\\videos\\020322\\PVCHA7LN\\020322_PVCHA7LN_control_SIDE_49.avi\n",
      "saving to T:\\Phil\\jumping_revisions\\deeplabcut\\videos\\020322\\PVCHA7LN\\020322_PVCHA7LN_control_49_SIDEcalib.avi\n"
     ]
    },
    {
     "name": "stderr",
     "output_type": "stream",
     "text": [
      "100%|████████████████████████████████████████████████████████████████████████████████| 392/392 [00:13<00:00, 29.07it/s]\n"
     ]
    },
    {
     "name": "stdout",
     "output_type": "stream",
     "text": [
      "undistorting T:\\Phil\\jumping_revisions\\deeplabcut\\videos\\020322\\PVCHA7LN\\020322_PVCHA7LN_control_SIDE_5.avi\n",
      "saving to T:\\Phil\\jumping_revisions\\deeplabcut\\videos\\020322\\PVCHA7LN\\020322_PVCHA7LN_control_5_SIDEcalib.avi\n"
     ]
    },
    {
     "name": "stderr",
     "output_type": "stream",
     "text": [
      "100%|████████████████████████████████████████████████████████████████████████████████| 448/448 [00:15<00:00, 29.16it/s]\n"
     ]
    },
    {
     "name": "stdout",
     "output_type": "stream",
     "text": [
      "undistorting T:\\Phil\\jumping_revisions\\deeplabcut\\videos\\020322\\PVCHA7LN\\020322_PVCHA7LN_control_SIDE_6.avi\n",
      "saving to T:\\Phil\\jumping_revisions\\deeplabcut\\videos\\020322\\PVCHA7LN\\020322_PVCHA7LN_control_6_SIDEcalib.avi\n"
     ]
    },
    {
     "name": "stderr",
     "output_type": "stream",
     "text": [
      "100%|████████████████████████████████████████████████████████████████████████████████| 249/249 [00:08<00:00, 28.77it/s]\n"
     ]
    },
    {
     "name": "stdout",
     "output_type": "stream",
     "text": [
      "undistorting T:\\Phil\\jumping_revisions\\deeplabcut\\videos\\020322\\PVCHA7LN\\020322_PVCHA7LN_control_SIDE_7.avi\n",
      "saving to T:\\Phil\\jumping_revisions\\deeplabcut\\videos\\020322\\PVCHA7LN\\020322_PVCHA7LN_control_7_SIDEcalib.avi\n"
     ]
    },
    {
     "name": "stderr",
     "output_type": "stream",
     "text": [
      "100%|████████████████████████████████████████████████████████████████████████████████| 480/480 [00:16<00:00, 29.20it/s]\n"
     ]
    },
    {
     "name": "stdout",
     "output_type": "stream",
     "text": [
      "undistorting T:\\Phil\\jumping_revisions\\deeplabcut\\videos\\020322\\PVCHA7LN\\020322_PVCHA7LN_control_SIDE_8.avi\n",
      "saving to T:\\Phil\\jumping_revisions\\deeplabcut\\videos\\020322\\PVCHA7LN\\020322_PVCHA7LN_control_8_SIDEcalib.avi\n"
     ]
    },
    {
     "name": "stderr",
     "output_type": "stream",
     "text": [
      "100%|████████████████████████████████████████████████████████████████████████████████| 367/367 [00:12<00:00, 29.29it/s]\n"
     ]
    },
    {
     "name": "stdout",
     "output_type": "stream",
     "text": [
      "undistorting T:\\Phil\\jumping_revisions\\deeplabcut\\videos\\020322\\PVCHA7LN\\020322_PVCHA7LN_control_SIDE_9.avi\n",
      "saving to T:\\Phil\\jumping_revisions\\deeplabcut\\videos\\020322\\PVCHA7LN\\020322_PVCHA7LN_control_9_SIDEcalib.avi\n"
     ]
    },
    {
     "name": "stderr",
     "output_type": "stream",
     "text": [
      "100%|████████████████████████████████████████████████████████████████████████████████| 284/284 [00:09<00:00, 29.32it/s]\n"
     ]
    },
    {
     "name": "stdout",
     "output_type": "stream",
     "text": [
      "undistorting T:\\Phil\\jumping_revisions\\deeplabcut\\videos\\020322\\PVCHA7LT\\020322_PVCHA7LT_control_SIDE_0.avi\n",
      "saving to T:\\Phil\\jumping_revisions\\deeplabcut\\videos\\020322\\PVCHA7LT\\020322_PVCHA7LT_control_0_SIDEcalib.avi\n"
     ]
    },
    {
     "name": "stderr",
     "output_type": "stream",
     "text": [
      "100%|████████████████████████████████████████████████████████████████████████████████| 525/525 [00:17<00:00, 29.32it/s]\n"
     ]
    },
    {
     "name": "stdout",
     "output_type": "stream",
     "text": [
      "undistorting T:\\Phil\\jumping_revisions\\deeplabcut\\videos\\020322\\PVCHA7LT\\020322_PVCHA7LT_control_SIDE_1.avi\n",
      "saving to T:\\Phil\\jumping_revisions\\deeplabcut\\videos\\020322\\PVCHA7LT\\020322_PVCHA7LT_control_1_SIDEcalib.avi\n"
     ]
    },
    {
     "name": "stderr",
     "output_type": "stream",
     "text": [
      "100%|████████████████████████████████████████████████████████████████████████████████| 372/372 [00:12<00:00, 28.97it/s]\n"
     ]
    },
    {
     "name": "stdout",
     "output_type": "stream",
     "text": [
      "undistorting T:\\Phil\\jumping_revisions\\deeplabcut\\videos\\020322\\PVCHA7LT\\020322_PVCHA7LT_control_SIDE_10.avi\n",
      "saving to T:\\Phil\\jumping_revisions\\deeplabcut\\videos\\020322\\PVCHA7LT\\020322_PVCHA7LT_control_10_SIDEcalib.avi\n"
     ]
    },
    {
     "name": "stderr",
     "output_type": "stream",
     "text": [
      "100%|████████████████████████████████████████████████████████████████████████████████| 739/739 [00:25<00:00, 29.28it/s]\n"
     ]
    },
    {
     "name": "stdout",
     "output_type": "stream",
     "text": [
      "undistorting T:\\Phil\\jumping_revisions\\deeplabcut\\videos\\020322\\PVCHA7LT\\020322_PVCHA7LT_control_SIDE_11.avi\n",
      "saving to T:\\Phil\\jumping_revisions\\deeplabcut\\videos\\020322\\PVCHA7LT\\020322_PVCHA7LT_control_11_SIDEcalib.avi\n"
     ]
    },
    {
     "name": "stderr",
     "output_type": "stream",
     "text": [
      "100%|████████████████████████████████████████████████████████████████████████████████| 581/581 [00:19<00:00, 29.09it/s]\n"
     ]
    },
    {
     "name": "stdout",
     "output_type": "stream",
     "text": [
      "undistorting T:\\Phil\\jumping_revisions\\deeplabcut\\videos\\020322\\PVCHA7LT\\020322_PVCHA7LT_control_SIDE_12.avi\n",
      "saving to T:\\Phil\\jumping_revisions\\deeplabcut\\videos\\020322\\PVCHA7LT\\020322_PVCHA7LT_control_12_SIDEcalib.avi\n"
     ]
    },
    {
     "name": "stderr",
     "output_type": "stream",
     "text": [
      "100%|████████████████████████████████████████████████████████████████████████████████| 420/420 [00:14<00:00, 28.99it/s]\n"
     ]
    },
    {
     "name": "stdout",
     "output_type": "stream",
     "text": [
      "undistorting T:\\Phil\\jumping_revisions\\deeplabcut\\videos\\020322\\PVCHA7LT\\020322_PVCHA7LT_control_SIDE_13.avi\n",
      "saving to T:\\Phil\\jumping_revisions\\deeplabcut\\videos\\020322\\PVCHA7LT\\020322_PVCHA7LT_control_13_SIDEcalib.avi\n"
     ]
    },
    {
     "name": "stderr",
     "output_type": "stream",
     "text": [
      "100%|████████████████████████████████████████████████████████████████████████████████| 490/490 [00:16<00:00, 29.26it/s]\n"
     ]
    },
    {
     "name": "stdout",
     "output_type": "stream",
     "text": [
      "undistorting T:\\Phil\\jumping_revisions\\deeplabcut\\videos\\020322\\PVCHA7LT\\020322_PVCHA7LT_control_SIDE_14.avi\n",
      "saving to T:\\Phil\\jumping_revisions\\deeplabcut\\videos\\020322\\PVCHA7LT\\020322_PVCHA7LT_control_14_SIDEcalib.avi\n"
     ]
    },
    {
     "name": "stderr",
     "output_type": "stream",
     "text": [
      "100%|████████████████████████████████████████████████████████████████████████████████| 412/412 [00:13<00:00, 29.46it/s]\n"
     ]
    },
    {
     "name": "stdout",
     "output_type": "stream",
     "text": [
      "undistorting T:\\Phil\\jumping_revisions\\deeplabcut\\videos\\020322\\PVCHA7LT\\020322_PVCHA7LT_control_SIDE_15.avi\n",
      "saving to T:\\Phil\\jumping_revisions\\deeplabcut\\videos\\020322\\PVCHA7LT\\020322_PVCHA7LT_control_15_SIDEcalib.avi\n"
     ]
    },
    {
     "name": "stderr",
     "output_type": "stream",
     "text": [
      "100%|████████████████████████████████████████████████████████████████████████████████| 368/368 [00:12<00:00, 29.43it/s]\n"
     ]
    },
    {
     "name": "stdout",
     "output_type": "stream",
     "text": [
      "undistorting T:\\Phil\\jumping_revisions\\deeplabcut\\videos\\020322\\PVCHA7LT\\020322_PVCHA7LT_control_SIDE_16.avi\n",
      "saving to T:\\Phil\\jumping_revisions\\deeplabcut\\videos\\020322\\PVCHA7LT\\020322_PVCHA7LT_control_16_SIDEcalib.avi\n"
     ]
    },
    {
     "name": "stderr",
     "output_type": "stream",
     "text": [
      "100%|████████████████████████████████████████████████████████████████████████████████| 497/497 [00:16<00:00, 29.32it/s]\n"
     ]
    },
    {
     "name": "stdout",
     "output_type": "stream",
     "text": [
      "undistorting T:\\Phil\\jumping_revisions\\deeplabcut\\videos\\020322\\PVCHA7LT\\020322_PVCHA7LT_control_SIDE_17.avi\n",
      "saving to T:\\Phil\\jumping_revisions\\deeplabcut\\videos\\020322\\PVCHA7LT\\020322_PVCHA7LT_control_17_SIDEcalib.avi\n"
     ]
    },
    {
     "name": "stderr",
     "output_type": "stream",
     "text": [
      "100%|████████████████████████████████████████████████████████████████████████████████| 295/295 [00:10<00:00, 29.21it/s]\n"
     ]
    },
    {
     "name": "stdout",
     "output_type": "stream",
     "text": [
      "undistorting T:\\Phil\\jumping_revisions\\deeplabcut\\videos\\020322\\PVCHA7LT\\020322_PVCHA7LT_control_SIDE_18.avi\n",
      "saving to T:\\Phil\\jumping_revisions\\deeplabcut\\videos\\020322\\PVCHA7LT\\020322_PVCHA7LT_control_18_SIDEcalib.avi\n"
     ]
    },
    {
     "name": "stderr",
     "output_type": "stream",
     "text": [
      "100%|████████████████████████████████████████████████████████████████████████████████| 325/325 [00:11<00:00, 29.27it/s]\n"
     ]
    },
    {
     "name": "stdout",
     "output_type": "stream",
     "text": [
      "undistorting T:\\Phil\\jumping_revisions\\deeplabcut\\videos\\020322\\PVCHA7LT\\020322_PVCHA7LT_control_SIDE_19.avi\n",
      "saving to T:\\Phil\\jumping_revisions\\deeplabcut\\videos\\020322\\PVCHA7LT\\020322_PVCHA7LT_control_19_SIDEcalib.avi\n"
     ]
    },
    {
     "name": "stderr",
     "output_type": "stream",
     "text": [
      "100%|████████████████████████████████████████████████████████████████████████████████| 399/399 [00:13<00:00, 29.20it/s]\n"
     ]
    },
    {
     "name": "stdout",
     "output_type": "stream",
     "text": [
      "undistorting T:\\Phil\\jumping_revisions\\deeplabcut\\videos\\020322\\PVCHA7LT\\020322_PVCHA7LT_control_SIDE_2.avi\n",
      "saving to T:\\Phil\\jumping_revisions\\deeplabcut\\videos\\020322\\PVCHA7LT\\020322_PVCHA7LT_control_2_SIDEcalib.avi\n"
     ]
    },
    {
     "name": "stderr",
     "output_type": "stream",
     "text": [
      "100%|████████████████████████████████████████████████████████████████████████████████| 412/412 [00:14<00:00, 29.05it/s]\n"
     ]
    },
    {
     "name": "stdout",
     "output_type": "stream",
     "text": [
      "undistorting T:\\Phil\\jumping_revisions\\deeplabcut\\videos\\020322\\PVCHA7LT\\020322_PVCHA7LT_control_SIDE_20.avi\n",
      "saving to T:\\Phil\\jumping_revisions\\deeplabcut\\videos\\020322\\PVCHA7LT\\020322_PVCHA7LT_control_20_SIDEcalib.avi\n"
     ]
    },
    {
     "name": "stderr",
     "output_type": "stream",
     "text": [
      "100%|████████████████████████████████████████████████████████████████████████████████| 385/385 [00:13<00:00, 29.20it/s]\n"
     ]
    },
    {
     "name": "stdout",
     "output_type": "stream",
     "text": [
      "undistorting T:\\Phil\\jumping_revisions\\deeplabcut\\videos\\020322\\PVCHA7LT\\020322_PVCHA7LT_control_SIDE_21.avi\n",
      "saving to T:\\Phil\\jumping_revisions\\deeplabcut\\videos\\020322\\PVCHA7LT\\020322_PVCHA7LT_control_21_SIDEcalib.avi\n"
     ]
    },
    {
     "name": "stderr",
     "output_type": "stream",
     "text": [
      "100%|████████████████████████████████████████████████████████████████████████████████| 567/567 [00:19<00:00, 29.42it/s]\n"
     ]
    },
    {
     "name": "stdout",
     "output_type": "stream",
     "text": [
      "undistorting T:\\Phil\\jumping_revisions\\deeplabcut\\videos\\020322\\PVCHA7LT\\020322_PVCHA7LT_control_SIDE_22.avi\n",
      "saving to T:\\Phil\\jumping_revisions\\deeplabcut\\videos\\020322\\PVCHA7LT\\020322_PVCHA7LT_control_22_SIDEcalib.avi\n"
     ]
    },
    {
     "name": "stderr",
     "output_type": "stream",
     "text": [
      "100%|████████████████████████████████████████████████████████████████████████████████| 468/468 [00:16<00:00, 29.23it/s]\n"
     ]
    },
    {
     "name": "stdout",
     "output_type": "stream",
     "text": [
      "undistorting T:\\Phil\\jumping_revisions\\deeplabcut\\videos\\020322\\PVCHA7LT\\020322_PVCHA7LT_control_SIDE_23.avi\n",
      "saving to T:\\Phil\\jumping_revisions\\deeplabcut\\videos\\020322\\PVCHA7LT\\020322_PVCHA7LT_control_23_SIDEcalib.avi\n"
     ]
    },
    {
     "name": "stderr",
     "output_type": "stream",
     "text": [
      "100%|████████████████████████████████████████████████████████████████████████████████| 533/533 [00:18<00:00, 29.15it/s]\n"
     ]
    },
    {
     "name": "stdout",
     "output_type": "stream",
     "text": [
      "undistorting T:\\Phil\\jumping_revisions\\deeplabcut\\videos\\020322\\PVCHA7LT\\020322_PVCHA7LT_control_SIDE_24.avi\n",
      "saving to T:\\Phil\\jumping_revisions\\deeplabcut\\videos\\020322\\PVCHA7LT\\020322_PVCHA7LT_control_24_SIDEcalib.avi\n"
     ]
    },
    {
     "name": "stderr",
     "output_type": "stream",
     "text": [
      "100%|████████████████████████████████████████████████████████████████████████████████| 812/812 [00:27<00:00, 29.12it/s]\n"
     ]
    },
    {
     "name": "stdout",
     "output_type": "stream",
     "text": [
      "undistorting T:\\Phil\\jumping_revisions\\deeplabcut\\videos\\020322\\PVCHA7LT\\020322_PVCHA7LT_control_SIDE_25.avi\n",
      "saving to T:\\Phil\\jumping_revisions\\deeplabcut\\videos\\020322\\PVCHA7LT\\020322_PVCHA7LT_control_25_SIDEcalib.avi\n"
     ]
    },
    {
     "name": "stderr",
     "output_type": "stream",
     "text": [
      "100%|████████████████████████████████████████████████████████████████████████████████| 669/669 [00:22<00:00, 29.25it/s]\n"
     ]
    },
    {
     "name": "stdout",
     "output_type": "stream",
     "text": [
      "undistorting T:\\Phil\\jumping_revisions\\deeplabcut\\videos\\020322\\PVCHA7LT\\020322_PVCHA7LT_control_SIDE_26.avi\n",
      "saving to T:\\Phil\\jumping_revisions\\deeplabcut\\videos\\020322\\PVCHA7LT\\020322_PVCHA7LT_control_26_SIDEcalib.avi\n"
     ]
    },
    {
     "name": "stderr",
     "output_type": "stream",
     "text": [
      "100%|████████████████████████████████████████████████████████████████████████████████| 415/415 [00:14<00:00, 28.97it/s]\n"
     ]
    },
    {
     "name": "stdout",
     "output_type": "stream",
     "text": [
      "undistorting T:\\Phil\\jumping_revisions\\deeplabcut\\videos\\020322\\PVCHA7LT\\020322_PVCHA7LT_control_SIDE_27.avi\n",
      "saving to T:\\Phil\\jumping_revisions\\deeplabcut\\videos\\020322\\PVCHA7LT\\020322_PVCHA7LT_control_27_SIDEcalib.avi\n"
     ]
    },
    {
     "name": "stderr",
     "output_type": "stream",
     "text": [
      "100%|████████████████████████████████████████████████████████████████████████████████| 476/476 [00:16<00:00, 29.21it/s]\n"
     ]
    },
    {
     "name": "stdout",
     "output_type": "stream",
     "text": [
      "undistorting T:\\Phil\\jumping_revisions\\deeplabcut\\videos\\020322\\PVCHA7LT\\020322_PVCHA7LT_control_SIDE_28.avi\n",
      "saving to T:\\Phil\\jumping_revisions\\deeplabcut\\videos\\020322\\PVCHA7LT\\020322_PVCHA7LT_control_28_SIDEcalib.avi\n"
     ]
    },
    {
     "name": "stderr",
     "output_type": "stream",
     "text": [
      "100%|████████████████████████████████████████████████████████████████████████████████| 693/693 [00:23<00:00, 29.38it/s]\n"
     ]
    },
    {
     "name": "stdout",
     "output_type": "stream",
     "text": [
      "undistorting T:\\Phil\\jumping_revisions\\deeplabcut\\videos\\020322\\PVCHA7LT\\020322_PVCHA7LT_control_SIDE_29.avi\n",
      "saving to T:\\Phil\\jumping_revisions\\deeplabcut\\videos\\020322\\PVCHA7LT\\020322_PVCHA7LT_control_29_SIDEcalib.avi\n"
     ]
    },
    {
     "name": "stderr",
     "output_type": "stream",
     "text": [
      "100%|████████████████████████████████████████████████████████████████████████████████| 532/532 [00:18<00:00, 29.19it/s]\n"
     ]
    },
    {
     "name": "stdout",
     "output_type": "stream",
     "text": [
      "undistorting T:\\Phil\\jumping_revisions\\deeplabcut\\videos\\020322\\PVCHA7LT\\020322_PVCHA7LT_control_SIDE_3.avi\n",
      "saving to T:\\Phil\\jumping_revisions\\deeplabcut\\videos\\020322\\PVCHA7LT\\020322_PVCHA7LT_control_3_SIDEcalib.avi\n"
     ]
    },
    {
     "name": "stderr",
     "output_type": "stream",
     "text": [
      "100%|████████████████████████████████████████████████████████████████████████████████| 554/554 [00:18<00:00, 29.36it/s]\n"
     ]
    },
    {
     "name": "stdout",
     "output_type": "stream",
     "text": [
      "undistorting T:\\Phil\\jumping_revisions\\deeplabcut\\videos\\020322\\PVCHA7LT\\020322_PVCHA7LT_control_SIDE_30.avi\n",
      "saving to T:\\Phil\\jumping_revisions\\deeplabcut\\videos\\020322\\PVCHA7LT\\020322_PVCHA7LT_control_30_SIDEcalib.avi\n"
     ]
    },
    {
     "name": "stderr",
     "output_type": "stream",
     "text": [
      "100%|████████████████████████████████████████████████████████████████████████████████| 613/613 [00:20<00:00, 29.39it/s]\n"
     ]
    },
    {
     "name": "stdout",
     "output_type": "stream",
     "text": [
      "undistorting T:\\Phil\\jumping_revisions\\deeplabcut\\videos\\020322\\PVCHA7LT\\020322_PVCHA7LT_control_SIDE_31.avi\n",
      "saving to T:\\Phil\\jumping_revisions\\deeplabcut\\videos\\020322\\PVCHA7LT\\020322_PVCHA7LT_control_31_SIDEcalib.avi\n"
     ]
    },
    {
     "name": "stderr",
     "output_type": "stream",
     "text": [
      "100%|████████████████████████████████████████████████████████████████████████████████| 780/780 [00:26<00:00, 29.21it/s]\n"
     ]
    },
    {
     "name": "stdout",
     "output_type": "stream",
     "text": [
      "undistorting T:\\Phil\\jumping_revisions\\deeplabcut\\videos\\020322\\PVCHA7LT\\020322_PVCHA7LT_control_SIDE_32.avi\n",
      "saving to T:\\Phil\\jumping_revisions\\deeplabcut\\videos\\020322\\PVCHA7LT\\020322_PVCHA7LT_control_32_SIDEcalib.avi\n"
     ]
    },
    {
     "name": "stderr",
     "output_type": "stream",
     "text": [
      "100%|████████████████████████████████████████████████████████████████████████████████| 455/455 [00:15<00:00, 29.18it/s]\n"
     ]
    },
    {
     "name": "stdout",
     "output_type": "stream",
     "text": [
      "undistorting T:\\Phil\\jumping_revisions\\deeplabcut\\videos\\020322\\PVCHA7LT\\020322_PVCHA7LT_control_SIDE_33.avi\n",
      "saving to T:\\Phil\\jumping_revisions\\deeplabcut\\videos\\020322\\PVCHA7LT\\020322_PVCHA7LT_control_33_SIDEcalib.avi\n"
     ]
    },
    {
     "name": "stderr",
     "output_type": "stream",
     "text": [
      "100%|████████████████████████████████████████████████████████████████████████████████| 364/364 [00:12<00:00, 29.27it/s]\n"
     ]
    },
    {
     "name": "stdout",
     "output_type": "stream",
     "text": [
      "undistorting T:\\Phil\\jumping_revisions\\deeplabcut\\videos\\020322\\PVCHA7LT\\020322_PVCHA7LT_control_SIDE_34.avi\n",
      "saving to T:\\Phil\\jumping_revisions\\deeplabcut\\videos\\020322\\PVCHA7LT\\020322_PVCHA7LT_control_34_SIDEcalib.avi\n"
     ]
    },
    {
     "name": "stderr",
     "output_type": "stream",
     "text": [
      "100%|████████████████████████████████████████████████████████████████████████████████| 496/496 [00:16<00:00, 29.31it/s]\n"
     ]
    },
    {
     "name": "stdout",
     "output_type": "stream",
     "text": [
      "undistorting T:\\Phil\\jumping_revisions\\deeplabcut\\videos\\020322\\PVCHA7LT\\020322_PVCHA7LT_control_SIDE_35.avi\n",
      "saving to T:\\Phil\\jumping_revisions\\deeplabcut\\videos\\020322\\PVCHA7LT\\020322_PVCHA7LT_control_35_SIDEcalib.avi\n"
     ]
    },
    {
     "name": "stderr",
     "output_type": "stream",
     "text": [
      "100%|████████████████████████████████████████████████████████████████████████████████| 453/453 [00:15<00:00, 29.20it/s]\n"
     ]
    },
    {
     "name": "stdout",
     "output_type": "stream",
     "text": [
      "undistorting T:\\Phil\\jumping_revisions\\deeplabcut\\videos\\020322\\PVCHA7LT\\020322_PVCHA7LT_control_SIDE_36.avi\n",
      "saving to T:\\Phil\\jumping_revisions\\deeplabcut\\videos\\020322\\PVCHA7LT\\020322_PVCHA7LT_control_36_SIDEcalib.avi\n"
     ]
    },
    {
     "name": "stderr",
     "output_type": "stream",
     "text": [
      "100%|████████████████████████████████████████████████████████████████████████████████| 529/529 [00:18<00:00, 29.20it/s]\n"
     ]
    },
    {
     "name": "stdout",
     "output_type": "stream",
     "text": [
      "undistorting T:\\Phil\\jumping_revisions\\deeplabcut\\videos\\020322\\PVCHA7LT\\020322_PVCHA7LT_control_SIDE_37.avi\n",
      "saving to T:\\Phil\\jumping_revisions\\deeplabcut\\videos\\020322\\PVCHA7LT\\020322_PVCHA7LT_control_37_SIDEcalib.avi\n"
     ]
    },
    {
     "name": "stderr",
     "output_type": "stream",
     "text": [
      "100%|██████████████████████████████████████████████████████████████████████████████| 1080/1080 [00:36<00:00, 29.28it/s]\n"
     ]
    },
    {
     "name": "stdout",
     "output_type": "stream",
     "text": [
      "undistorting T:\\Phil\\jumping_revisions\\deeplabcut\\videos\\020322\\PVCHA7LT\\020322_PVCHA7LT_control_SIDE_38.avi\n",
      "saving to T:\\Phil\\jumping_revisions\\deeplabcut\\videos\\020322\\PVCHA7LT\\020322_PVCHA7LT_control_38_SIDEcalib.avi\n"
     ]
    },
    {
     "name": "stderr",
     "output_type": "stream",
     "text": [
      "100%|████████████████████████████████████████████████████████████████████████████████| 371/371 [00:12<00:00, 29.16it/s]\n"
     ]
    },
    {
     "name": "stdout",
     "output_type": "stream",
     "text": [
      "undistorting T:\\Phil\\jumping_revisions\\deeplabcut\\videos\\020322\\PVCHA7LT\\020322_PVCHA7LT_control_SIDE_39.avi\n",
      "saving to T:\\Phil\\jumping_revisions\\deeplabcut\\videos\\020322\\PVCHA7LT\\020322_PVCHA7LT_control_39_SIDEcalib.avi\n"
     ]
    },
    {
     "name": "stderr",
     "output_type": "stream",
     "text": [
      "100%|████████████████████████████████████████████████████████████████████████████████| 552/552 [00:18<00:00, 29.25it/s]\n"
     ]
    },
    {
     "name": "stdout",
     "output_type": "stream",
     "text": [
      "undistorting T:\\Phil\\jumping_revisions\\deeplabcut\\videos\\020322\\PVCHA7LT\\020322_PVCHA7LT_control_SIDE_4.avi\n",
      "saving to T:\\Phil\\jumping_revisions\\deeplabcut\\videos\\020322\\PVCHA7LT\\020322_PVCHA7LT_control_4_SIDEcalib.avi\n"
     ]
    },
    {
     "name": "stderr",
     "output_type": "stream",
     "text": [
      "100%|████████████████████████████████████████████████████████████████████████████████| 556/556 [00:18<00:00, 29.32it/s]\n"
     ]
    },
    {
     "name": "stdout",
     "output_type": "stream",
     "text": [
      "undistorting T:\\Phil\\jumping_revisions\\deeplabcut\\videos\\020322\\PVCHA7LT\\020322_PVCHA7LT_control_SIDE_40.avi\n",
      "saving to T:\\Phil\\jumping_revisions\\deeplabcut\\videos\\020322\\PVCHA7LT\\020322_PVCHA7LT_control_40_SIDEcalib.avi\n"
     ]
    },
    {
     "name": "stderr",
     "output_type": "stream",
     "text": [
      "100%|████████████████████████████████████████████████████████████████████████████████| 763/763 [00:26<00:00, 29.23it/s]\n"
     ]
    },
    {
     "name": "stdout",
     "output_type": "stream",
     "text": [
      "undistorting T:\\Phil\\jumping_revisions\\deeplabcut\\videos\\020322\\PVCHA7LT\\020322_PVCHA7LT_control_SIDE_41.avi\n",
      "saving to T:\\Phil\\jumping_revisions\\deeplabcut\\videos\\020322\\PVCHA7LT\\020322_PVCHA7LT_control_41_SIDEcalib.avi\n"
     ]
    },
    {
     "name": "stderr",
     "output_type": "stream",
     "text": [
      "100%|████████████████████████████████████████████████████████████████████████████████| 460/460 [00:15<00:00, 29.35it/s]\n"
     ]
    },
    {
     "name": "stdout",
     "output_type": "stream",
     "text": [
      "undistorting T:\\Phil\\jumping_revisions\\deeplabcut\\videos\\020322\\PVCHA7LT\\020322_PVCHA7LT_control_SIDE_42.avi\n",
      "saving to T:\\Phil\\jumping_revisions\\deeplabcut\\videos\\020322\\PVCHA7LT\\020322_PVCHA7LT_control_42_SIDEcalib.avi\n"
     ]
    },
    {
     "name": "stderr",
     "output_type": "stream",
     "text": [
      "100%|████████████████████████████████████████████████████████████████████████████████| 435/435 [00:14<00:00, 29.34it/s]\n"
     ]
    },
    {
     "name": "stdout",
     "output_type": "stream",
     "text": [
      "undistorting T:\\Phil\\jumping_revisions\\deeplabcut\\videos\\020322\\PVCHA7LT\\020322_PVCHA7LT_control_SIDE_43.avi\n",
      "saving to T:\\Phil\\jumping_revisions\\deeplabcut\\videos\\020322\\PVCHA7LT\\020322_PVCHA7LT_control_43_SIDEcalib.avi\n"
     ]
    },
    {
     "name": "stderr",
     "output_type": "stream",
     "text": [
      "100%|████████████████████████████████████████████████████████████████████████████████| 623/623 [00:21<00:00, 29.21it/s]\n"
     ]
    },
    {
     "name": "stdout",
     "output_type": "stream",
     "text": [
      "undistorting T:\\Phil\\jumping_revisions\\deeplabcut\\videos\\020322\\PVCHA7LT\\020322_PVCHA7LT_control_SIDE_44.avi\n",
      "saving to T:\\Phil\\jumping_revisions\\deeplabcut\\videos\\020322\\PVCHA7LT\\020322_PVCHA7LT_control_44_SIDEcalib.avi\n"
     ]
    },
    {
     "name": "stderr",
     "output_type": "stream",
     "text": [
      "100%|████████████████████████████████████████████████████████████████████████████████| 866/866 [00:29<00:00, 29.36it/s]\n"
     ]
    },
    {
     "name": "stdout",
     "output_type": "stream",
     "text": [
      "undistorting T:\\Phil\\jumping_revisions\\deeplabcut\\videos\\020322\\PVCHA7LT\\020322_PVCHA7LT_control_SIDE_45.avi\n",
      "saving to T:\\Phil\\jumping_revisions\\deeplabcut\\videos\\020322\\PVCHA7LT\\020322_PVCHA7LT_control_45_SIDEcalib.avi\n"
     ]
    },
    {
     "name": "stderr",
     "output_type": "stream",
     "text": [
      "100%|████████████████████████████████████████████████████████████████████████████████| 473/473 [00:16<00:00, 29.19it/s]\n"
     ]
    },
    {
     "name": "stdout",
     "output_type": "stream",
     "text": [
      "undistorting T:\\Phil\\jumping_revisions\\deeplabcut\\videos\\020322\\PVCHA7LT\\020322_PVCHA7LT_control_SIDE_46.avi\n",
      "saving to T:\\Phil\\jumping_revisions\\deeplabcut\\videos\\020322\\PVCHA7LT\\020322_PVCHA7LT_control_46_SIDEcalib.avi\n"
     ]
    },
    {
     "name": "stderr",
     "output_type": "stream",
     "text": [
      "100%|████████████████████████████████████████████████████████████████████████████████| 413/413 [00:14<00:00, 29.27it/s]\n"
     ]
    },
    {
     "name": "stdout",
     "output_type": "stream",
     "text": [
      "undistorting T:\\Phil\\jumping_revisions\\deeplabcut\\videos\\020322\\PVCHA7LT\\020322_PVCHA7LT_control_SIDE_47.avi\n",
      "saving to T:\\Phil\\jumping_revisions\\deeplabcut\\videos\\020322\\PVCHA7LT\\020322_PVCHA7LT_control_47_SIDEcalib.avi\n"
     ]
    },
    {
     "name": "stderr",
     "output_type": "stream",
     "text": [
      "100%|██████████████████████████████████████████████████████████████████████████████| 1428/1428 [00:48<00:00, 29.19it/s]\n"
     ]
    },
    {
     "name": "stdout",
     "output_type": "stream",
     "text": [
      "undistorting T:\\Phil\\jumping_revisions\\deeplabcut\\videos\\020322\\PVCHA7LT\\020322_PVCHA7LT_control_SIDE_48.avi\n",
      "saving to T:\\Phil\\jumping_revisions\\deeplabcut\\videos\\020322\\PVCHA7LT\\020322_PVCHA7LT_control_48_SIDEcalib.avi\n"
     ]
    },
    {
     "name": "stderr",
     "output_type": "stream",
     "text": [
      "100%|████████████████████████████████████████████████████████████████████████████████| 436/436 [00:14<00:00, 29.10it/s]\n"
     ]
    },
    {
     "name": "stdout",
     "output_type": "stream",
     "text": [
      "undistorting T:\\Phil\\jumping_revisions\\deeplabcut\\videos\\020322\\PVCHA7LT\\020322_PVCHA7LT_control_SIDE_49.avi\n",
      "saving to T:\\Phil\\jumping_revisions\\deeplabcut\\videos\\020322\\PVCHA7LT\\020322_PVCHA7LT_control_49_SIDEcalib.avi\n"
     ]
    },
    {
     "name": "stderr",
     "output_type": "stream",
     "text": [
      "100%|████████████████████████████████████████████████████████████████████████████████| 651/651 [00:22<00:00, 29.03it/s]\n"
     ]
    },
    {
     "name": "stdout",
     "output_type": "stream",
     "text": [
      "undistorting T:\\Phil\\jumping_revisions\\deeplabcut\\videos\\020322\\PVCHA7LT\\020322_PVCHA7LT_control_SIDE_5.avi\n",
      "saving to T:\\Phil\\jumping_revisions\\deeplabcut\\videos\\020322\\PVCHA7LT\\020322_PVCHA7LT_control_5_SIDEcalib.avi\n"
     ]
    },
    {
     "name": "stderr",
     "output_type": "stream",
     "text": [
      "100%|████████████████████████████████████████████████████████████████████████████████| 780/780 [00:26<00:00, 29.35it/s]\n"
     ]
    },
    {
     "name": "stdout",
     "output_type": "stream",
     "text": [
      "undistorting T:\\Phil\\jumping_revisions\\deeplabcut\\videos\\020322\\PVCHA7LT\\020322_PVCHA7LT_control_SIDE_6.avi\n",
      "saving to T:\\Phil\\jumping_revisions\\deeplabcut\\videos\\020322\\PVCHA7LT\\020322_PVCHA7LT_control_6_SIDEcalib.avi\n"
     ]
    },
    {
     "name": "stderr",
     "output_type": "stream",
     "text": [
      "100%|████████████████████████████████████████████████████████████████████████████████| 353/353 [00:12<00:00, 29.29it/s]\n"
     ]
    },
    {
     "name": "stdout",
     "output_type": "stream",
     "text": [
      "undistorting T:\\Phil\\jumping_revisions\\deeplabcut\\videos\\020322\\PVCHA7LT\\020322_PVCHA7LT_control_SIDE_7.avi\n",
      "saving to T:\\Phil\\jumping_revisions\\deeplabcut\\videos\\020322\\PVCHA7LT\\020322_PVCHA7LT_control_7_SIDEcalib.avi\n"
     ]
    },
    {
     "name": "stderr",
     "output_type": "stream",
     "text": [
      "100%|████████████████████████████████████████████████████████████████████████████████| 497/497 [00:16<00:00, 29.31it/s]\n"
     ]
    },
    {
     "name": "stdout",
     "output_type": "stream",
     "text": [
      "undistorting T:\\Phil\\jumping_revisions\\deeplabcut\\videos\\020322\\PVCHA7LT\\020322_PVCHA7LT_control_SIDE_8.avi\n",
      "saving to T:\\Phil\\jumping_revisions\\deeplabcut\\videos\\020322\\PVCHA7LT\\020322_PVCHA7LT_control_8_SIDEcalib.avi\n"
     ]
    },
    {
     "name": "stderr",
     "output_type": "stream",
     "text": [
      "100%|████████████████████████████████████████████████████████████████████████████████| 426/426 [00:14<00:00, 29.29it/s]\n"
     ]
    },
    {
     "name": "stdout",
     "output_type": "stream",
     "text": [
      "undistorting T:\\Phil\\jumping_revisions\\deeplabcut\\videos\\020322\\PVCHA7LT\\020322_PVCHA7LT_control_SIDE_9.avi\n",
      "saving to T:\\Phil\\jumping_revisions\\deeplabcut\\videos\\020322\\PVCHA7LT\\020322_PVCHA7LT_control_9_SIDEcalib.avi\n"
     ]
    },
    {
     "name": "stderr",
     "output_type": "stream",
     "text": [
      "100%|████████████████████████████████████████████████████████████████████████████████| 413/413 [00:14<00:00, 29.07it/s]\n"
     ]
    },
    {
     "name": "stdout",
     "output_type": "stream",
     "text": [
      "undistorting T:\\Phil\\jumping_revisions\\deeplabcut\\videos\\020322\\PVCHA7RN\\020322_PVCHA7RN_control_SIDE_0.avi\n",
      "saving to T:\\Phil\\jumping_revisions\\deeplabcut\\videos\\020322\\PVCHA7RN\\020322_PVCHA7RN_control_0_SIDEcalib.avi\n"
     ]
    },
    {
     "name": "stderr",
     "output_type": "stream",
     "text": [
      "100%|████████████████████████████████████████████████████████████████████████████████| 459/459 [00:15<00:00, 29.28it/s]\n"
     ]
    },
    {
     "name": "stdout",
     "output_type": "stream",
     "text": [
      "undistorting T:\\Phil\\jumping_revisions\\deeplabcut\\videos\\020322\\PVCHA7RN\\020322_PVCHA7RN_control_SIDE_1.avi\n",
      "saving to T:\\Phil\\jumping_revisions\\deeplabcut\\videos\\020322\\PVCHA7RN\\020322_PVCHA7RN_control_1_SIDEcalib.avi\n"
     ]
    },
    {
     "name": "stderr",
     "output_type": "stream",
     "text": [
      "100%|████████████████████████████████████████████████████████████████████████████████| 590/590 [00:20<00:00, 29.39it/s]\n"
     ]
    },
    {
     "name": "stdout",
     "output_type": "stream",
     "text": [
      "undistorting T:\\Phil\\jumping_revisions\\deeplabcut\\videos\\020322\\PVCHA7RN\\020322_PVCHA7RN_control_SIDE_10.avi\n",
      "saving to T:\\Phil\\jumping_revisions\\deeplabcut\\videos\\020322\\PVCHA7RN\\020322_PVCHA7RN_control_10_SIDEcalib.avi\n"
     ]
    },
    {
     "name": "stderr",
     "output_type": "stream",
     "text": [
      "100%|████████████████████████████████████████████████████████████████████████████████| 347/347 [00:11<00:00, 29.22it/s]\n"
     ]
    },
    {
     "name": "stdout",
     "output_type": "stream",
     "text": [
      "undistorting T:\\Phil\\jumping_revisions\\deeplabcut\\videos\\020322\\PVCHA7RN\\020322_PVCHA7RN_control_SIDE_11.avi\n",
      "saving to T:\\Phil\\jumping_revisions\\deeplabcut\\videos\\020322\\PVCHA7RN\\020322_PVCHA7RN_control_11_SIDEcalib.avi\n"
     ]
    },
    {
     "name": "stderr",
     "output_type": "stream",
     "text": [
      "100%|████████████████████████████████████████████████████████████████████████████████| 349/349 [00:11<00:00, 29.09it/s]\n"
     ]
    },
    {
     "name": "stdout",
     "output_type": "stream",
     "text": [
      "undistorting T:\\Phil\\jumping_revisions\\deeplabcut\\videos\\020322\\PVCHA7RN\\020322_PVCHA7RN_control_SIDE_12.avi\n",
      "saving to T:\\Phil\\jumping_revisions\\deeplabcut\\videos\\020322\\PVCHA7RN\\020322_PVCHA7RN_control_12_SIDEcalib.avi\n"
     ]
    },
    {
     "name": "stderr",
     "output_type": "stream",
     "text": [
      "100%|████████████████████████████████████████████████████████████████████████████████| 336/336 [00:11<00:00, 29.33it/s]\n"
     ]
    },
    {
     "name": "stdout",
     "output_type": "stream",
     "text": [
      "undistorting T:\\Phil\\jumping_revisions\\deeplabcut\\videos\\020322\\PVCHA7RN\\020322_PVCHA7RN_control_SIDE_13.avi\n",
      "saving to T:\\Phil\\jumping_revisions\\deeplabcut\\videos\\020322\\PVCHA7RN\\020322_PVCHA7RN_control_13_SIDEcalib.avi\n"
     ]
    },
    {
     "name": "stderr",
     "output_type": "stream",
     "text": [
      "100%|████████████████████████████████████████████████████████████████████████████████| 356/356 [00:12<00:00, 29.10it/s]\n"
     ]
    },
    {
     "name": "stdout",
     "output_type": "stream",
     "text": [
      "undistorting T:\\Phil\\jumping_revisions\\deeplabcut\\videos\\020322\\PVCHA7RN\\020322_PVCHA7RN_control_SIDE_14.avi\n",
      "saving to T:\\Phil\\jumping_revisions\\deeplabcut\\videos\\020322\\PVCHA7RN\\020322_PVCHA7RN_control_14_SIDEcalib.avi\n"
     ]
    },
    {
     "name": "stderr",
     "output_type": "stream",
     "text": [
      "100%|████████████████████████████████████████████████████████████████████████████████| 276/276 [00:09<00:00, 29.20it/s]\n"
     ]
    },
    {
     "name": "stdout",
     "output_type": "stream",
     "text": [
      "undistorting T:\\Phil\\jumping_revisions\\deeplabcut\\videos\\020322\\PVCHA7RN\\020322_PVCHA7RN_control_SIDE_15.avi\n",
      "saving to T:\\Phil\\jumping_revisions\\deeplabcut\\videos\\020322\\PVCHA7RN\\020322_PVCHA7RN_control_15_SIDEcalib.avi\n"
     ]
    },
    {
     "name": "stderr",
     "output_type": "stream",
     "text": [
      "100%|████████████████████████████████████████████████████████████████████████████████| 520/520 [00:17<00:00, 29.27it/s]\n"
     ]
    },
    {
     "name": "stdout",
     "output_type": "stream",
     "text": [
      "undistorting T:\\Phil\\jumping_revisions\\deeplabcut\\videos\\020322\\PVCHA7RN\\020322_PVCHA7RN_control_SIDE_16.avi\n",
      "saving to T:\\Phil\\jumping_revisions\\deeplabcut\\videos\\020322\\PVCHA7RN\\020322_PVCHA7RN_control_16_SIDEcalib.avi\n"
     ]
    },
    {
     "name": "stderr",
     "output_type": "stream",
     "text": [
      "100%|████████████████████████████████████████████████████████████████████████████████| 281/281 [00:09<00:00, 28.80it/s]\n"
     ]
    },
    {
     "name": "stdout",
     "output_type": "stream",
     "text": [
      "undistorting T:\\Phil\\jumping_revisions\\deeplabcut\\videos\\020322\\PVCHA7RN\\020322_PVCHA7RN_control_SIDE_17.avi\n",
      "saving to T:\\Phil\\jumping_revisions\\deeplabcut\\videos\\020322\\PVCHA7RN\\020322_PVCHA7RN_control_17_SIDEcalib.avi\n"
     ]
    },
    {
     "name": "stderr",
     "output_type": "stream",
     "text": [
      "100%|████████████████████████████████████████████████████████████████████████████████| 333/333 [00:11<00:00, 29.19it/s]\n"
     ]
    },
    {
     "name": "stdout",
     "output_type": "stream",
     "text": [
      "undistorting T:\\Phil\\jumping_revisions\\deeplabcut\\videos\\020322\\PVCHA7RN\\020322_PVCHA7RN_control_SIDE_18.avi\n",
      "saving to T:\\Phil\\jumping_revisions\\deeplabcut\\videos\\020322\\PVCHA7RN\\020322_PVCHA7RN_control_18_SIDEcalib.avi\n"
     ]
    },
    {
     "name": "stderr",
     "output_type": "stream",
     "text": [
      "100%|██████████████████████████████████████████████████████████████████████████████| 1882/1882 [01:03<00:00, 29.50it/s]\n"
     ]
    },
    {
     "name": "stdout",
     "output_type": "stream",
     "text": [
      "undistorting T:\\Phil\\jumping_revisions\\deeplabcut\\videos\\020322\\PVCHA7RN\\020322_PVCHA7RN_control_SIDE_19.avi\n",
      "saving to T:\\Phil\\jumping_revisions\\deeplabcut\\videos\\020322\\PVCHA7RN\\020322_PVCHA7RN_control_19_SIDEcalib.avi\n"
     ]
    },
    {
     "name": "stderr",
     "output_type": "stream",
     "text": [
      "100%|████████████████████████████████████████████████████████████████████████████████| 353/353 [00:12<00:00, 28.82it/s]\n"
     ]
    },
    {
     "name": "stdout",
     "output_type": "stream",
     "text": [
      "undistorting T:\\Phil\\jumping_revisions\\deeplabcut\\videos\\020322\\PVCHA7RN\\020322_PVCHA7RN_control_SIDE_2.avi\n",
      "saving to T:\\Phil\\jumping_revisions\\deeplabcut\\videos\\020322\\PVCHA7RN\\020322_PVCHA7RN_control_2_SIDEcalib.avi\n"
     ]
    },
    {
     "name": "stderr",
     "output_type": "stream",
     "text": [
      "100%|████████████████████████████████████████████████████████████████████████████████| 390/390 [00:13<00:00, 29.31it/s]\n"
     ]
    },
    {
     "name": "stdout",
     "output_type": "stream",
     "text": [
      "undistorting T:\\Phil\\jumping_revisions\\deeplabcut\\videos\\020322\\PVCHA7RN\\020322_PVCHA7RN_control_SIDE_20.avi\n",
      "saving to T:\\Phil\\jumping_revisions\\deeplabcut\\videos\\020322\\PVCHA7RN\\020322_PVCHA7RN_control_20_SIDEcalib.avi\n"
     ]
    },
    {
     "name": "stderr",
     "output_type": "stream",
     "text": [
      "100%|████████████████████████████████████████████████████████████████████████████████| 618/618 [00:21<00:00, 29.20it/s]\n"
     ]
    },
    {
     "name": "stdout",
     "output_type": "stream",
     "text": [
      "undistorting T:\\Phil\\jumping_revisions\\deeplabcut\\videos\\020322\\PVCHA7RN\\020322_PVCHA7RN_control_SIDE_21.avi\n",
      "saving to T:\\Phil\\jumping_revisions\\deeplabcut\\videos\\020322\\PVCHA7RN\\020322_PVCHA7RN_control_21_SIDEcalib.avi\n"
     ]
    },
    {
     "name": "stderr",
     "output_type": "stream",
     "text": [
      "100%|████████████████████████████████████████████████████████████████████████████████| 796/796 [00:27<00:00, 29.26it/s]\n"
     ]
    },
    {
     "name": "stdout",
     "output_type": "stream",
     "text": [
      "undistorting T:\\Phil\\jumping_revisions\\deeplabcut\\videos\\020322\\PVCHA7RN\\020322_PVCHA7RN_control_SIDE_22.avi\n",
      "saving to T:\\Phil\\jumping_revisions\\deeplabcut\\videos\\020322\\PVCHA7RN\\020322_PVCHA7RN_control_22_SIDEcalib.avi\n"
     ]
    },
    {
     "name": "stderr",
     "output_type": "stream",
     "text": [
      "100%|████████████████████████████████████████████████████████████████████████████████| 895/895 [00:30<00:00, 29.31it/s]\n"
     ]
    },
    {
     "name": "stdout",
     "output_type": "stream",
     "text": [
      "undistorting T:\\Phil\\jumping_revisions\\deeplabcut\\videos\\020322\\PVCHA7RN\\020322_PVCHA7RN_control_SIDE_23.avi\n",
      "saving to T:\\Phil\\jumping_revisions\\deeplabcut\\videos\\020322\\PVCHA7RN\\020322_PVCHA7RN_control_23_SIDEcalib.avi\n"
     ]
    },
    {
     "name": "stderr",
     "output_type": "stream",
     "text": [
      "100%|████████████████████████████████████████████████████████████████████████████████| 443/443 [00:15<00:00, 29.16it/s]\n"
     ]
    },
    {
     "name": "stdout",
     "output_type": "stream",
     "text": [
      "undistorting T:\\Phil\\jumping_revisions\\deeplabcut\\videos\\020322\\PVCHA7RN\\020322_PVCHA7RN_control_SIDE_24.avi\n",
      "saving to T:\\Phil\\jumping_revisions\\deeplabcut\\videos\\020322\\PVCHA7RN\\020322_PVCHA7RN_control_24_SIDEcalib.avi\n"
     ]
    },
    {
     "name": "stderr",
     "output_type": "stream",
     "text": [
      "100%|████████████████████████████████████████████████████████████████████████████████| 993/993 [00:33<00:00, 29.27it/s]\n"
     ]
    },
    {
     "name": "stdout",
     "output_type": "stream",
     "text": [
      "undistorting T:\\Phil\\jumping_revisions\\deeplabcut\\videos\\020322\\PVCHA7RN\\020322_PVCHA7RN_control_SIDE_25.avi\n",
      "saving to T:\\Phil\\jumping_revisions\\deeplabcut\\videos\\020322\\PVCHA7RN\\020322_PVCHA7RN_control_25_SIDEcalib.avi\n"
     ]
    },
    {
     "name": "stderr",
     "output_type": "stream",
     "text": [
      "100%|████████████████████████████████████████████████████████████████████████████████| 370/370 [00:12<00:00, 28.96it/s]\n"
     ]
    },
    {
     "name": "stdout",
     "output_type": "stream",
     "text": [
      "undistorting T:\\Phil\\jumping_revisions\\deeplabcut\\videos\\020322\\PVCHA7RN\\020322_PVCHA7RN_control_SIDE_26.avi\n",
      "saving to T:\\Phil\\jumping_revisions\\deeplabcut\\videos\\020322\\PVCHA7RN\\020322_PVCHA7RN_control_26_SIDEcalib.avi\n"
     ]
    },
    {
     "name": "stderr",
     "output_type": "stream",
     "text": [
      "100%|████████████████████████████████████████████████████████████████████████████████| 425/425 [00:14<00:00, 29.14it/s]\n"
     ]
    },
    {
     "name": "stdout",
     "output_type": "stream",
     "text": [
      "undistorting T:\\Phil\\jumping_revisions\\deeplabcut\\videos\\020322\\PVCHA7RN\\020322_PVCHA7RN_control_SIDE_27.avi\n",
      "saving to T:\\Phil\\jumping_revisions\\deeplabcut\\videos\\020322\\PVCHA7RN\\020322_PVCHA7RN_control_27_SIDEcalib.avi\n"
     ]
    },
    {
     "name": "stderr",
     "output_type": "stream",
     "text": [
      "100%|████████████████████████████████████████████████████████████████████████████████| 386/386 [00:13<00:00, 29.11it/s]\n"
     ]
    },
    {
     "name": "stdout",
     "output_type": "stream",
     "text": [
      "undistorting T:\\Phil\\jumping_revisions\\deeplabcut\\videos\\020322\\PVCHA7RN\\020322_PVCHA7RN_control_SIDE_28.avi\n",
      "saving to T:\\Phil\\jumping_revisions\\deeplabcut\\videos\\020322\\PVCHA7RN\\020322_PVCHA7RN_control_28_SIDEcalib.avi\n"
     ]
    },
    {
     "name": "stderr",
     "output_type": "stream",
     "text": [
      "100%|████████████████████████████████████████████████████████████████████████████████| 355/355 [00:12<00:00, 29.09it/s]\n"
     ]
    },
    {
     "name": "stdout",
     "output_type": "stream",
     "text": [
      "undistorting T:\\Phil\\jumping_revisions\\deeplabcut\\videos\\020322\\PVCHA7RN\\020322_PVCHA7RN_control_SIDE_29.avi\n",
      "saving to T:\\Phil\\jumping_revisions\\deeplabcut\\videos\\020322\\PVCHA7RN\\020322_PVCHA7RN_control_29_SIDEcalib.avi\n"
     ]
    },
    {
     "name": "stderr",
     "output_type": "stream",
     "text": [
      "100%|████████████████████████████████████████████████████████████████████████████████| 575/575 [00:19<00:00, 29.37it/s]\n"
     ]
    },
    {
     "name": "stdout",
     "output_type": "stream",
     "text": [
      "undistorting T:\\Phil\\jumping_revisions\\deeplabcut\\videos\\020322\\PVCHA7RN\\020322_PVCHA7RN_control_SIDE_3.avi\n",
      "saving to T:\\Phil\\jumping_revisions\\deeplabcut\\videos\\020322\\PVCHA7RN\\020322_PVCHA7RN_control_3_SIDEcalib.avi\n"
     ]
    },
    {
     "name": "stderr",
     "output_type": "stream",
     "text": [
      "100%|████████████████████████████████████████████████████████████████████████████████| 331/331 [00:11<00:00, 29.10it/s]\n"
     ]
    },
    {
     "name": "stdout",
     "output_type": "stream",
     "text": [
      "undistorting T:\\Phil\\jumping_revisions\\deeplabcut\\videos\\020322\\PVCHA7RN\\020322_PVCHA7RN_control_SIDE_30.avi\n",
      "saving to T:\\Phil\\jumping_revisions\\deeplabcut\\videos\\020322\\PVCHA7RN\\020322_PVCHA7RN_control_30_SIDEcalib.avi\n"
     ]
    },
    {
     "name": "stderr",
     "output_type": "stream",
     "text": [
      "100%|████████████████████████████████████████████████████████████████████████████████| 513/513 [00:17<00:00, 29.39it/s]\n"
     ]
    },
    {
     "name": "stdout",
     "output_type": "stream",
     "text": [
      "undistorting T:\\Phil\\jumping_revisions\\deeplabcut\\videos\\020322\\PVCHA7RN\\020322_PVCHA7RN_control_SIDE_31.avi\n",
      "saving to T:\\Phil\\jumping_revisions\\deeplabcut\\videos\\020322\\PVCHA7RN\\020322_PVCHA7RN_control_31_SIDEcalib.avi\n"
     ]
    },
    {
     "name": "stderr",
     "output_type": "stream",
     "text": [
      "100%|████████████████████████████████████████████████████████████████████████████████| 697/697 [00:23<00:00, 29.27it/s]\n"
     ]
    },
    {
     "name": "stdout",
     "output_type": "stream",
     "text": [
      "undistorting T:\\Phil\\jumping_revisions\\deeplabcut\\videos\\020322\\PVCHA7RN\\020322_PVCHA7RN_control_SIDE_32.avi\n",
      "saving to T:\\Phil\\jumping_revisions\\deeplabcut\\videos\\020322\\PVCHA7RN\\020322_PVCHA7RN_control_32_SIDEcalib.avi\n"
     ]
    },
    {
     "name": "stderr",
     "output_type": "stream",
     "text": [
      "100%|████████████████████████████████████████████████████████████████████████████████| 276/276 [00:09<00:00, 28.74it/s]\n"
     ]
    },
    {
     "name": "stdout",
     "output_type": "stream",
     "text": [
      "undistorting T:\\Phil\\jumping_revisions\\deeplabcut\\videos\\020322\\PVCHA7RN\\020322_PVCHA7RN_control_SIDE_33.avi\n",
      "saving to T:\\Phil\\jumping_revisions\\deeplabcut\\videos\\020322\\PVCHA7RN\\020322_PVCHA7RN_control_33_SIDEcalib.avi\n"
     ]
    },
    {
     "name": "stderr",
     "output_type": "stream",
     "text": [
      "100%|████████████████████████████████████████████████████████████████████████████████| 553/553 [00:18<00:00, 29.32it/s]\n"
     ]
    },
    {
     "name": "stdout",
     "output_type": "stream",
     "text": [
      "undistorting T:\\Phil\\jumping_revisions\\deeplabcut\\videos\\020322\\PVCHA7RN\\020322_PVCHA7RN_control_SIDE_34.avi\n",
      "saving to T:\\Phil\\jumping_revisions\\deeplabcut\\videos\\020322\\PVCHA7RN\\020322_PVCHA7RN_control_34_SIDEcalib.avi\n"
     ]
    },
    {
     "name": "stderr",
     "output_type": "stream",
     "text": [
      "100%|████████████████████████████████████████████████████████████████████████████████| 364/364 [00:12<00:00, 29.19it/s]\n"
     ]
    },
    {
     "name": "stdout",
     "output_type": "stream",
     "text": [
      "undistorting T:\\Phil\\jumping_revisions\\deeplabcut\\videos\\020322\\PVCHA7RN\\020322_PVCHA7RN_control_SIDE_35.avi\n",
      "saving to T:\\Phil\\jumping_revisions\\deeplabcut\\videos\\020322\\PVCHA7RN\\020322_PVCHA7RN_control_35_SIDEcalib.avi\n"
     ]
    },
    {
     "name": "stderr",
     "output_type": "stream",
     "text": [
      "100%|████████████████████████████████████████████████████████████████████████████████| 602/602 [00:20<00:00, 29.48it/s]\n"
     ]
    },
    {
     "name": "stdout",
     "output_type": "stream",
     "text": [
      "undistorting T:\\Phil\\jumping_revisions\\deeplabcut\\videos\\020322\\PVCHA7RN\\020322_PVCHA7RN_control_SIDE_36.avi\n",
      "saving to T:\\Phil\\jumping_revisions\\deeplabcut\\videos\\020322\\PVCHA7RN\\020322_PVCHA7RN_control_36_SIDEcalib.avi\n"
     ]
    },
    {
     "name": "stderr",
     "output_type": "stream",
     "text": [
      "100%|████████████████████████████████████████████████████████████████████████████████| 693/693 [00:23<00:00, 29.33it/s]\n"
     ]
    },
    {
     "name": "stdout",
     "output_type": "stream",
     "text": [
      "undistorting T:\\Phil\\jumping_revisions\\deeplabcut\\videos\\020322\\PVCHA7RN\\020322_PVCHA7RN_control_SIDE_37.avi\n",
      "saving to T:\\Phil\\jumping_revisions\\deeplabcut\\videos\\020322\\PVCHA7RN\\020322_PVCHA7RN_control_37_SIDEcalib.avi\n"
     ]
    },
    {
     "name": "stderr",
     "output_type": "stream",
     "text": [
      "100%|████████████████████████████████████████████████████████████████████████████████| 492/492 [00:16<00:00, 29.15it/s]\n"
     ]
    },
    {
     "name": "stdout",
     "output_type": "stream",
     "text": [
      "undistorting T:\\Phil\\jumping_revisions\\deeplabcut\\videos\\020322\\PVCHA7RN\\020322_PVCHA7RN_control_SIDE_38.avi\n",
      "saving to T:\\Phil\\jumping_revisions\\deeplabcut\\videos\\020322\\PVCHA7RN\\020322_PVCHA7RN_control_38_SIDEcalib.avi\n"
     ]
    },
    {
     "name": "stderr",
     "output_type": "stream",
     "text": [
      "100%|████████████████████████████████████████████████████████████████████████████████| 396/396 [00:13<00:00, 29.21it/s]\n"
     ]
    },
    {
     "name": "stdout",
     "output_type": "stream",
     "text": [
      "undistorting T:\\Phil\\jumping_revisions\\deeplabcut\\videos\\020322\\PVCHA7RN\\020322_PVCHA7RN_control_SIDE_39.avi\n",
      "saving to T:\\Phil\\jumping_revisions\\deeplabcut\\videos\\020322\\PVCHA7RN\\020322_PVCHA7RN_control_39_SIDEcalib.avi\n"
     ]
    },
    {
     "name": "stderr",
     "output_type": "stream",
     "text": [
      "100%|████████████████████████████████████████████████████████████████████████████████| 793/793 [00:27<00:00, 29.06it/s]\n"
     ]
    },
    {
     "name": "stdout",
     "output_type": "stream",
     "text": [
      "undistorting T:\\Phil\\jumping_revisions\\deeplabcut\\videos\\020322\\PVCHA7RN\\020322_PVCHA7RN_control_SIDE_4.avi\n",
      "saving to T:\\Phil\\jumping_revisions\\deeplabcut\\videos\\020322\\PVCHA7RN\\020322_PVCHA7RN_control_4_SIDEcalib.avi\n"
     ]
    },
    {
     "name": "stderr",
     "output_type": "stream",
     "text": [
      "100%|████████████████████████████████████████████████████████████████████████████████| 219/219 [00:07<00:00, 28.82it/s]\n"
     ]
    },
    {
     "name": "stdout",
     "output_type": "stream",
     "text": [
      "undistorting T:\\Phil\\jumping_revisions\\deeplabcut\\videos\\020322\\PVCHA7RN\\020322_PVCHA7RN_control_SIDE_40.avi\n",
      "saving to T:\\Phil\\jumping_revisions\\deeplabcut\\videos\\020322\\PVCHA7RN\\020322_PVCHA7RN_control_40_SIDEcalib.avi\n"
     ]
    },
    {
     "name": "stderr",
     "output_type": "stream",
     "text": [
      "100%|██████████████████████████████████████████████████████████████████████████████| 1639/1639 [00:56<00:00, 29.22it/s]\n"
     ]
    },
    {
     "name": "stdout",
     "output_type": "stream",
     "text": [
      "undistorting T:\\Phil\\jumping_revisions\\deeplabcut\\videos\\020322\\PVCHA7RN\\020322_PVCHA7RN_control_SIDE_41.avi\n",
      "saving to T:\\Phil\\jumping_revisions\\deeplabcut\\videos\\020322\\PVCHA7RN\\020322_PVCHA7RN_control_41_SIDEcalib.avi\n"
     ]
    },
    {
     "name": "stderr",
     "output_type": "stream",
     "text": [
      "100%|████████████████████████████████████████████████████████████████████████████████| 274/274 [00:09<00:00, 29.03it/s]\n"
     ]
    },
    {
     "name": "stdout",
     "output_type": "stream",
     "text": [
      "undistorting T:\\Phil\\jumping_revisions\\deeplabcut\\videos\\020322\\PVCHA7RN\\020322_PVCHA7RN_control_SIDE_42.avi\n",
      "saving to T:\\Phil\\jumping_revisions\\deeplabcut\\videos\\020322\\PVCHA7RN\\020322_PVCHA7RN_control_42_SIDEcalib.avi\n"
     ]
    },
    {
     "name": "stderr",
     "output_type": "stream",
     "text": [
      "100%|████████████████████████████████████████████████████████████████████████████████| 935/935 [00:32<00:00, 29.13it/s]\n"
     ]
    },
    {
     "name": "stdout",
     "output_type": "stream",
     "text": [
      "undistorting T:\\Phil\\jumping_revisions\\deeplabcut\\videos\\020322\\PVCHA7RN\\020322_PVCHA7RN_control_SIDE_43.avi\n",
      "saving to T:\\Phil\\jumping_revisions\\deeplabcut\\videos\\020322\\PVCHA7RN\\020322_PVCHA7RN_control_43_SIDEcalib.avi\n"
     ]
    },
    {
     "name": "stderr",
     "output_type": "stream",
     "text": [
      "100%|████████████████████████████████████████████████████████████████████████████████| 329/329 [00:11<00:00, 29.24it/s]\n"
     ]
    },
    {
     "name": "stdout",
     "output_type": "stream",
     "text": [
      "undistorting T:\\Phil\\jumping_revisions\\deeplabcut\\videos\\020322\\PVCHA7RN\\020322_PVCHA7RN_control_SIDE_44.avi\n",
      "saving to T:\\Phil\\jumping_revisions\\deeplabcut\\videos\\020322\\PVCHA7RN\\020322_PVCHA7RN_control_44_SIDEcalib.avi\n"
     ]
    },
    {
     "name": "stderr",
     "output_type": "stream",
     "text": [
      "100%|████████████████████████████████████████████████████████████████████████████████| 290/290 [00:09<00:00, 29.10it/s]\n"
     ]
    },
    {
     "name": "stdout",
     "output_type": "stream",
     "text": [
      "undistorting T:\\Phil\\jumping_revisions\\deeplabcut\\videos\\020322\\PVCHA7RN\\020322_PVCHA7RN_control_SIDE_45.avi\n",
      "saving to T:\\Phil\\jumping_revisions\\deeplabcut\\videos\\020322\\PVCHA7RN\\020322_PVCHA7RN_control_45_SIDEcalib.avi\n"
     ]
    },
    {
     "name": "stderr",
     "output_type": "stream",
     "text": [
      "100%|████████████████████████████████████████████████████████████████████████████████| 469/469 [00:16<00:00, 29.08it/s]\n"
     ]
    },
    {
     "name": "stdout",
     "output_type": "stream",
     "text": [
      "undistorting T:\\Phil\\jumping_revisions\\deeplabcut\\videos\\020322\\PVCHA7RN\\020322_PVCHA7RN_control_SIDE_46.avi\n",
      "saving to T:\\Phil\\jumping_revisions\\deeplabcut\\videos\\020322\\PVCHA7RN\\020322_PVCHA7RN_control_46_SIDEcalib.avi\n"
     ]
    },
    {
     "name": "stderr",
     "output_type": "stream",
     "text": [
      "100%|████████████████████████████████████████████████████████████████████████████████| 369/369 [00:12<00:00, 29.43it/s]\n"
     ]
    },
    {
     "name": "stdout",
     "output_type": "stream",
     "text": [
      "undistorting T:\\Phil\\jumping_revisions\\deeplabcut\\videos\\020322\\PVCHA7RN\\020322_PVCHA7RN_control_SIDE_47.avi\n",
      "saving to T:\\Phil\\jumping_revisions\\deeplabcut\\videos\\020322\\PVCHA7RN\\020322_PVCHA7RN_control_47_SIDEcalib.avi\n"
     ]
    },
    {
     "name": "stderr",
     "output_type": "stream",
     "text": [
      "100%|████████████████████████████████████████████████████████████████████████████████| 526/526 [00:17<00:00, 29.48it/s]\n"
     ]
    },
    {
     "name": "stdout",
     "output_type": "stream",
     "text": [
      "undistorting T:\\Phil\\jumping_revisions\\deeplabcut\\videos\\020322\\PVCHA7RN\\020322_PVCHA7RN_control_SIDE_48.avi\n",
      "saving to T:\\Phil\\jumping_revisions\\deeplabcut\\videos\\020322\\PVCHA7RN\\020322_PVCHA7RN_control_48_SIDEcalib.avi\n"
     ]
    },
    {
     "name": "stderr",
     "output_type": "stream",
     "text": [
      "100%|████████████████████████████████████████████████████████████████████████████████| 701/701 [00:23<00:00, 29.50it/s]\n"
     ]
    },
    {
     "name": "stdout",
     "output_type": "stream",
     "text": [
      "undistorting T:\\Phil\\jumping_revisions\\deeplabcut\\videos\\020322\\PVCHA7RN\\020322_PVCHA7RN_control_SIDE_49.avi\n",
      "saving to T:\\Phil\\jumping_revisions\\deeplabcut\\videos\\020322\\PVCHA7RN\\020322_PVCHA7RN_control_49_SIDEcalib.avi\n"
     ]
    },
    {
     "name": "stderr",
     "output_type": "stream",
     "text": [
      "100%|████████████████████████████████████████████████████████████████████████████████| 673/673 [00:22<00:00, 29.54it/s]\n"
     ]
    },
    {
     "name": "stdout",
     "output_type": "stream",
     "text": [
      "undistorting T:\\Phil\\jumping_revisions\\deeplabcut\\videos\\020322\\PVCHA7RN\\020322_PVCHA7RN_control_SIDE_5.avi\n",
      "saving to T:\\Phil\\jumping_revisions\\deeplabcut\\videos\\020322\\PVCHA7RN\\020322_PVCHA7RN_control_5_SIDEcalib.avi\n"
     ]
    },
    {
     "name": "stderr",
     "output_type": "stream",
     "text": [
      "100%|████████████████████████████████████████████████████████████████████████████████| 314/314 [00:10<00:00, 29.28it/s]\n"
     ]
    },
    {
     "name": "stdout",
     "output_type": "stream",
     "text": [
      "undistorting T:\\Phil\\jumping_revisions\\deeplabcut\\videos\\020322\\PVCHA7RN\\020322_PVCHA7RN_control_SIDE_6.avi\n",
      "saving to T:\\Phil\\jumping_revisions\\deeplabcut\\videos\\020322\\PVCHA7RN\\020322_PVCHA7RN_control_6_SIDEcalib.avi\n"
     ]
    },
    {
     "name": "stderr",
     "output_type": "stream",
     "text": [
      "100%|████████████████████████████████████████████████████████████████████████████████| 421/421 [00:14<00:00, 29.27it/s]\n"
     ]
    },
    {
     "name": "stdout",
     "output_type": "stream",
     "text": [
      "undistorting T:\\Phil\\jumping_revisions\\deeplabcut\\videos\\020322\\PVCHA7RN\\020322_PVCHA7RN_control_SIDE_7.avi\n",
      "saving to T:\\Phil\\jumping_revisions\\deeplabcut\\videos\\020322\\PVCHA7RN\\020322_PVCHA7RN_control_7_SIDEcalib.avi\n"
     ]
    },
    {
     "name": "stderr",
     "output_type": "stream",
     "text": [
      "100%|████████████████████████████████████████████████████████████████████████████████| 243/243 [00:08<00:00, 29.46it/s]\n"
     ]
    },
    {
     "name": "stdout",
     "output_type": "stream",
     "text": [
      "undistorting T:\\Phil\\jumping_revisions\\deeplabcut\\videos\\020322\\PVCHA7RN\\020322_PVCHA7RN_control_SIDE_8.avi\n",
      "saving to T:\\Phil\\jumping_revisions\\deeplabcut\\videos\\020322\\PVCHA7RN\\020322_PVCHA7RN_control_8_SIDEcalib.avi\n"
     ]
    },
    {
     "name": "stderr",
     "output_type": "stream",
     "text": [
      "100%|████████████████████████████████████████████████████████████████████████████████| 522/522 [00:17<00:00, 29.51it/s]\n"
     ]
    },
    {
     "name": "stdout",
     "output_type": "stream",
     "text": [
      "undistorting T:\\Phil\\jumping_revisions\\deeplabcut\\videos\\020322\\PVCHA7RN\\020322_PVCHA7RN_control_SIDE_9.avi\n",
      "saving to T:\\Phil\\jumping_revisions\\deeplabcut\\videos\\020322\\PVCHA7RN\\020322_PVCHA7RN_control_9_SIDEcalib.avi\n"
     ]
    },
    {
     "name": "stderr",
     "output_type": "stream",
     "text": [
      "100%|████████████████████████████████████████████████████████████████████████████████| 321/321 [00:10<00:00, 29.48it/s]\n"
     ]
    },
    {
     "name": "stdout",
     "output_type": "stream",
     "text": [
      "undistorting T:\\Phil\\jumping_revisions\\deeplabcut\\videos\\020322\\PVCHA7RT\\020322_PVCHA7RT_control_SIDE_0.avi\n",
      "saving to T:\\Phil\\jumping_revisions\\deeplabcut\\videos\\020322\\PVCHA7RT\\020322_PVCHA7RT_control_0_SIDEcalib.avi\n"
     ]
    },
    {
     "name": "stderr",
     "output_type": "stream",
     "text": [
      "100%|████████████████████████████████████████████████████████████████████████████████| 237/237 [00:08<00:00, 29.23it/s]\n"
     ]
    },
    {
     "name": "stdout",
     "output_type": "stream",
     "text": [
      "undistorting T:\\Phil\\jumping_revisions\\deeplabcut\\videos\\020322\\PVCHA7RT\\020322_PVCHA7RT_control_SIDE_1.avi\n",
      "saving to T:\\Phil\\jumping_revisions\\deeplabcut\\videos\\020322\\PVCHA7RT\\020322_PVCHA7RT_control_1_SIDEcalib.avi\n"
     ]
    },
    {
     "name": "stderr",
     "output_type": "stream",
     "text": [
      "100%|████████████████████████████████████████████████████████████████████████████████| 450/450 [00:15<00:00, 29.50it/s]\n"
     ]
    },
    {
     "name": "stdout",
     "output_type": "stream",
     "text": [
      "undistorting T:\\Phil\\jumping_revisions\\deeplabcut\\videos\\020322\\PVCHA7RT\\020322_PVCHA7RT_control_SIDE_10.avi\n",
      "saving to T:\\Phil\\jumping_revisions\\deeplabcut\\videos\\020322\\PVCHA7RT\\020322_PVCHA7RT_control_10_SIDEcalib.avi\n"
     ]
    },
    {
     "name": "stderr",
     "output_type": "stream",
     "text": [
      "100%|████████████████████████████████████████████████████████████████████████████████| 645/645 [00:21<00:00, 29.44it/s]\n"
     ]
    },
    {
     "name": "stdout",
     "output_type": "stream",
     "text": [
      "undistorting T:\\Phil\\jumping_revisions\\deeplabcut\\videos\\020322\\PVCHA7RT\\020322_PVCHA7RT_control_SIDE_11.avi\n",
      "saving to T:\\Phil\\jumping_revisions\\deeplabcut\\videos\\020322\\PVCHA7RT\\020322_PVCHA7RT_control_11_SIDEcalib.avi\n"
     ]
    },
    {
     "name": "stderr",
     "output_type": "stream",
     "text": [
      "100%|████████████████████████████████████████████████████████████████████████████████| 539/539 [00:18<00:00, 29.30it/s]\n"
     ]
    },
    {
     "name": "stdout",
     "output_type": "stream",
     "text": [
      "undistorting T:\\Phil\\jumping_revisions\\deeplabcut\\videos\\020322\\PVCHA7RT\\020322_PVCHA7RT_control_SIDE_12.avi\n",
      "saving to T:\\Phil\\jumping_revisions\\deeplabcut\\videos\\020322\\PVCHA7RT\\020322_PVCHA7RT_control_12_SIDEcalib.avi\n"
     ]
    },
    {
     "name": "stderr",
     "output_type": "stream",
     "text": [
      "100%|████████████████████████████████████████████████████████████████████████████████| 507/507 [00:17<00:00, 29.45it/s]\n"
     ]
    },
    {
     "name": "stdout",
     "output_type": "stream",
     "text": [
      "undistorting T:\\Phil\\jumping_revisions\\deeplabcut\\videos\\020322\\PVCHA7RT\\020322_PVCHA7RT_control_SIDE_13.avi\n",
      "saving to T:\\Phil\\jumping_revisions\\deeplabcut\\videos\\020322\\PVCHA7RT\\020322_PVCHA7RT_control_13_SIDEcalib.avi\n"
     ]
    },
    {
     "name": "stderr",
     "output_type": "stream",
     "text": [
      "100%|████████████████████████████████████████████████████████████████████████████████| 363/363 [00:12<00:00, 29.45it/s]\n"
     ]
    },
    {
     "name": "stdout",
     "output_type": "stream",
     "text": [
      "undistorting T:\\Phil\\jumping_revisions\\deeplabcut\\videos\\020322\\PVCHA7RT\\020322_PVCHA7RT_control_SIDE_14.avi\n",
      "saving to T:\\Phil\\jumping_revisions\\deeplabcut\\videos\\020322\\PVCHA7RT\\020322_PVCHA7RT_control_14_SIDEcalib.avi\n"
     ]
    },
    {
     "name": "stderr",
     "output_type": "stream",
     "text": [
      "100%|████████████████████████████████████████████████████████████████████████████████| 519/519 [00:17<00:00, 29.44it/s]\n"
     ]
    },
    {
     "name": "stdout",
     "output_type": "stream",
     "text": [
      "undistorting T:\\Phil\\jumping_revisions\\deeplabcut\\videos\\020322\\PVCHA7RT\\020322_PVCHA7RT_control_SIDE_15.avi\n",
      "saving to T:\\Phil\\jumping_revisions\\deeplabcut\\videos\\020322\\PVCHA7RT\\020322_PVCHA7RT_control_15_SIDEcalib.avi\n"
     ]
    },
    {
     "name": "stderr",
     "output_type": "stream",
     "text": [
      "100%|████████████████████████████████████████████████████████████████████████████████| 656/656 [00:22<00:00, 29.60it/s]\n"
     ]
    },
    {
     "name": "stdout",
     "output_type": "stream",
     "text": [
      "undistorting T:\\Phil\\jumping_revisions\\deeplabcut\\videos\\020322\\PVCHA7RT\\020322_PVCHA7RT_control_SIDE_16.avi\n",
      "saving to T:\\Phil\\jumping_revisions\\deeplabcut\\videos\\020322\\PVCHA7RT\\020322_PVCHA7RT_control_16_SIDEcalib.avi\n"
     ]
    },
    {
     "name": "stderr",
     "output_type": "stream",
     "text": [
      "100%|████████████████████████████████████████████████████████████████████████████████| 697/697 [00:23<00:00, 29.56it/s]\n"
     ]
    },
    {
     "name": "stdout",
     "output_type": "stream",
     "text": [
      "undistorting T:\\Phil\\jumping_revisions\\deeplabcut\\videos\\020322\\PVCHA7RT\\020322_PVCHA7RT_control_SIDE_17.avi\n",
      "saving to T:\\Phil\\jumping_revisions\\deeplabcut\\videos\\020322\\PVCHA7RT\\020322_PVCHA7RT_control_17_SIDEcalib.avi\n"
     ]
    },
    {
     "name": "stderr",
     "output_type": "stream",
     "text": [
      "100%|████████████████████████████████████████████████████████████████████████████████| 695/695 [00:23<00:00, 29.29it/s]\n"
     ]
    },
    {
     "name": "stdout",
     "output_type": "stream",
     "text": [
      "undistorting T:\\Phil\\jumping_revisions\\deeplabcut\\videos\\020322\\PVCHA7RT\\020322_PVCHA7RT_control_SIDE_18.avi\n",
      "saving to T:\\Phil\\jumping_revisions\\deeplabcut\\videos\\020322\\PVCHA7RT\\020322_PVCHA7RT_control_18_SIDEcalib.avi\n"
     ]
    },
    {
     "name": "stderr",
     "output_type": "stream",
     "text": [
      "100%|██████████████████████████████████████████████████████████████████████████████| 1740/1740 [00:58<00:00, 29.60it/s]\n"
     ]
    },
    {
     "name": "stdout",
     "output_type": "stream",
     "text": [
      "undistorting T:\\Phil\\jumping_revisions\\deeplabcut\\videos\\020322\\PVCHA7RT\\020322_PVCHA7RT_control_SIDE_19.avi\n",
      "saving to T:\\Phil\\jumping_revisions\\deeplabcut\\videos\\020322\\PVCHA7RT\\020322_PVCHA7RT_control_19_SIDEcalib.avi\n"
     ]
    },
    {
     "name": "stderr",
     "output_type": "stream",
     "text": [
      "100%|████████████████████████████████████████████████████████████████████████████████| 939/939 [00:31<00:00, 29.66it/s]\n"
     ]
    },
    {
     "name": "stdout",
     "output_type": "stream",
     "text": [
      "undistorting T:\\Phil\\jumping_revisions\\deeplabcut\\videos\\020322\\PVCHA7RT\\020322_PVCHA7RT_control_SIDE_2.avi\n",
      "saving to T:\\Phil\\jumping_revisions\\deeplabcut\\videos\\020322\\PVCHA7RT\\020322_PVCHA7RT_control_2_SIDEcalib.avi\n"
     ]
    },
    {
     "name": "stderr",
     "output_type": "stream",
     "text": [
      "100%|████████████████████████████████████████████████████████████████████████████████| 391/391 [00:13<00:00, 29.49it/s]\n"
     ]
    },
    {
     "name": "stdout",
     "output_type": "stream",
     "text": [
      "undistorting T:\\Phil\\jumping_revisions\\deeplabcut\\videos\\020322\\PVCHA7RT\\020322_PVCHA7RT_control_SIDE_20.avi\n",
      "saving to T:\\Phil\\jumping_revisions\\deeplabcut\\videos\\020322\\PVCHA7RT\\020322_PVCHA7RT_control_20_SIDEcalib.avi\n"
     ]
    },
    {
     "name": "stderr",
     "output_type": "stream",
     "text": [
      "100%|████████████████████████████████████████████████████████████████████████████████| 570/570 [00:19<00:00, 29.42it/s]\n"
     ]
    },
    {
     "name": "stdout",
     "output_type": "stream",
     "text": [
      "undistorting T:\\Phil\\jumping_revisions\\deeplabcut\\videos\\020322\\PVCHA7RT\\020322_PVCHA7RT_control_SIDE_21.avi\n",
      "saving to T:\\Phil\\jumping_revisions\\deeplabcut\\videos\\020322\\PVCHA7RT\\020322_PVCHA7RT_control_21_SIDEcalib.avi\n"
     ]
    },
    {
     "name": "stderr",
     "output_type": "stream",
     "text": [
      "100%|████████████████████████████████████████████████████████████████████████████████| 644/644 [00:21<00:00, 29.48it/s]\n"
     ]
    },
    {
     "name": "stdout",
     "output_type": "stream",
     "text": [
      "undistorting T:\\Phil\\jumping_revisions\\deeplabcut\\videos\\020322\\PVCHA7RT\\020322_PVCHA7RT_control_SIDE_22.avi\n",
      "saving to T:\\Phil\\jumping_revisions\\deeplabcut\\videos\\020322\\PVCHA7RT\\020322_PVCHA7RT_control_22_SIDEcalib.avi\n"
     ]
    },
    {
     "name": "stderr",
     "output_type": "stream",
     "text": [
      "100%|████████████████████████████████████████████████████████████████████████████████| 607/607 [00:20<00:00, 29.60it/s]\n"
     ]
    },
    {
     "name": "stdout",
     "output_type": "stream",
     "text": [
      "undistorting T:\\Phil\\jumping_revisions\\deeplabcut\\videos\\020322\\PVCHA7RT\\020322_PVCHA7RT_control_SIDE_23.avi\n",
      "saving to T:\\Phil\\jumping_revisions\\deeplabcut\\videos\\020322\\PVCHA7RT\\020322_PVCHA7RT_control_23_SIDEcalib.avi\n"
     ]
    },
    {
     "name": "stderr",
     "output_type": "stream",
     "text": [
      "100%|████████████████████████████████████████████████████████████████████████████████| 615/615 [00:20<00:00, 29.63it/s]\n"
     ]
    },
    {
     "name": "stdout",
     "output_type": "stream",
     "text": [
      "undistorting T:\\Phil\\jumping_revisions\\deeplabcut\\videos\\020322\\PVCHA7RT\\020322_PVCHA7RT_control_SIDE_24.avi\n",
      "saving to T:\\Phil\\jumping_revisions\\deeplabcut\\videos\\020322\\PVCHA7RT\\020322_PVCHA7RT_control_24_SIDEcalib.avi\n"
     ]
    },
    {
     "name": "stderr",
     "output_type": "stream",
     "text": [
      "100%|████████████████████████████████████████████████████████████████████████████████| 617/617 [00:20<00:00, 29.56it/s]\n"
     ]
    },
    {
     "name": "stdout",
     "output_type": "stream",
     "text": [
      "undistorting T:\\Phil\\jumping_revisions\\deeplabcut\\videos\\020322\\PVCHA7RT\\020322_PVCHA7RT_control_SIDE_25.avi\n",
      "saving to T:\\Phil\\jumping_revisions\\deeplabcut\\videos\\020322\\PVCHA7RT\\020322_PVCHA7RT_control_25_SIDEcalib.avi\n"
     ]
    },
    {
     "name": "stderr",
     "output_type": "stream",
     "text": [
      "100%|██████████████████████████████████████████████████████████████████████████████| 1047/1047 [00:35<00:00, 29.59it/s]\n"
     ]
    },
    {
     "name": "stdout",
     "output_type": "stream",
     "text": [
      "undistorting T:\\Phil\\jumping_revisions\\deeplabcut\\videos\\020322\\PVCHA7RT\\020322_PVCHA7RT_control_SIDE_26.avi\n",
      "saving to T:\\Phil\\jumping_revisions\\deeplabcut\\videos\\020322\\PVCHA7RT\\020322_PVCHA7RT_control_26_SIDEcalib.avi\n"
     ]
    },
    {
     "name": "stderr",
     "output_type": "stream",
     "text": [
      "100%|████████████████████████████████████████████████████████████████████████████████| 498/498 [00:17<00:00, 29.20it/s]\n"
     ]
    },
    {
     "name": "stdout",
     "output_type": "stream",
     "text": [
      "undistorting T:\\Phil\\jumping_revisions\\deeplabcut\\videos\\020322\\PVCHA7RT\\020322_PVCHA7RT_control_SIDE_27.avi\n",
      "saving to T:\\Phil\\jumping_revisions\\deeplabcut\\videos\\020322\\PVCHA7RT\\020322_PVCHA7RT_control_27_SIDEcalib.avi\n"
     ]
    },
    {
     "name": "stderr",
     "output_type": "stream",
     "text": [
      "100%|████████████████████████████████████████████████████████████████████████████████| 644/644 [00:21<00:00, 29.52it/s]\n"
     ]
    },
    {
     "name": "stdout",
     "output_type": "stream",
     "text": [
      "undistorting T:\\Phil\\jumping_revisions\\deeplabcut\\videos\\020322\\PVCHA7RT\\020322_PVCHA7RT_control_SIDE_28.avi\n",
      "saving to T:\\Phil\\jumping_revisions\\deeplabcut\\videos\\020322\\PVCHA7RT\\020322_PVCHA7RT_control_28_SIDEcalib.avi\n"
     ]
    },
    {
     "name": "stderr",
     "output_type": "stream",
     "text": [
      "100%|████████████████████████████████████████████████████████████████████████████████| 643/643 [00:21<00:00, 29.56it/s]\n"
     ]
    },
    {
     "name": "stdout",
     "output_type": "stream",
     "text": [
      "undistorting T:\\Phil\\jumping_revisions\\deeplabcut\\videos\\020322\\PVCHA7RT\\020322_PVCHA7RT_control_SIDE_29.avi\n",
      "saving to T:\\Phil\\jumping_revisions\\deeplabcut\\videos\\020322\\PVCHA7RT\\020322_PVCHA7RT_control_29_SIDEcalib.avi\n"
     ]
    },
    {
     "name": "stderr",
     "output_type": "stream",
     "text": [
      "100%|████████████████████████████████████████████████████████████████████████████████| 647/647 [00:21<00:00, 29.58it/s]\n"
     ]
    },
    {
     "name": "stdout",
     "output_type": "stream",
     "text": [
      "undistorting T:\\Phil\\jumping_revisions\\deeplabcut\\videos\\020322\\PVCHA7RT\\020322_PVCHA7RT_control_SIDE_3.avi\n",
      "saving to T:\\Phil\\jumping_revisions\\deeplabcut\\videos\\020322\\PVCHA7RT\\020322_PVCHA7RT_control_3_SIDEcalib.avi\n"
     ]
    },
    {
     "name": "stderr",
     "output_type": "stream",
     "text": [
      "100%|██████████████████████████████████████████████████████████████████████████████| 1904/1904 [01:04<00:00, 29.53it/s]\n"
     ]
    },
    {
     "name": "stdout",
     "output_type": "stream",
     "text": [
      "undistorting T:\\Phil\\jumping_revisions\\deeplabcut\\videos\\020322\\PVCHA7RT\\020322_PVCHA7RT_control_SIDE_30.avi\n",
      "saving to T:\\Phil\\jumping_revisions\\deeplabcut\\videos\\020322\\PVCHA7RT\\020322_PVCHA7RT_control_30_SIDEcalib.avi\n"
     ]
    },
    {
     "name": "stderr",
     "output_type": "stream",
     "text": [
      "100%|████████████████████████████████████████████████████████████████████████████████| 596/596 [00:20<00:00, 29.50it/s]\n"
     ]
    },
    {
     "name": "stdout",
     "output_type": "stream",
     "text": [
      "undistorting T:\\Phil\\jumping_revisions\\deeplabcut\\videos\\020322\\PVCHA7RT\\020322_PVCHA7RT_control_SIDE_31.avi\n",
      "saving to T:\\Phil\\jumping_revisions\\deeplabcut\\videos\\020322\\PVCHA7RT\\020322_PVCHA7RT_control_31_SIDEcalib.avi\n"
     ]
    },
    {
     "name": "stderr",
     "output_type": "stream",
     "text": [
      "100%|████████████████████████████████████████████████████████████████████████████████| 788/788 [00:26<00:00, 29.49it/s]\n"
     ]
    },
    {
     "name": "stdout",
     "output_type": "stream",
     "text": [
      "undistorting T:\\Phil\\jumping_revisions\\deeplabcut\\videos\\020322\\PVCHA7RT\\020322_PVCHA7RT_control_SIDE_4.avi\n",
      "saving to T:\\Phil\\jumping_revisions\\deeplabcut\\videos\\020322\\PVCHA7RT\\020322_PVCHA7RT_control_4_SIDEcalib.avi\n"
     ]
    },
    {
     "name": "stderr",
     "output_type": "stream",
     "text": [
      "100%|████████████████████████████████████████████████████████████████████████████████| 461/461 [00:15<00:00, 29.42it/s]\n"
     ]
    },
    {
     "name": "stdout",
     "output_type": "stream",
     "text": [
      "undistorting T:\\Phil\\jumping_revisions\\deeplabcut\\videos\\020322\\PVCHA7RT\\020322_PVCHA7RT_control_SIDE_5.avi\n",
      "saving to T:\\Phil\\jumping_revisions\\deeplabcut\\videos\\020322\\PVCHA7RT\\020322_PVCHA7RT_control_5_SIDEcalib.avi\n"
     ]
    },
    {
     "name": "stderr",
     "output_type": "stream",
     "text": [
      "100%|████████████████████████████████████████████████████████████████████████████████| 479/479 [00:16<00:00, 29.55it/s]\n"
     ]
    },
    {
     "name": "stdout",
     "output_type": "stream",
     "text": [
      "undistorting T:\\Phil\\jumping_revisions\\deeplabcut\\videos\\020322\\PVCHA7RT\\020322_PVCHA7RT_control_SIDE_6.avi\n",
      "saving to T:\\Phil\\jumping_revisions\\deeplabcut\\videos\\020322\\PVCHA7RT\\020322_PVCHA7RT_control_6_SIDEcalib.avi\n"
     ]
    },
    {
     "name": "stderr",
     "output_type": "stream",
     "text": [
      "100%|████████████████████████████████████████████████████████████████████████████████| 365/365 [00:12<00:00, 29.38it/s]\n"
     ]
    },
    {
     "name": "stdout",
     "output_type": "stream",
     "text": [
      "undistorting T:\\Phil\\jumping_revisions\\deeplabcut\\videos\\020322\\PVCHA7RT\\020322_PVCHA7RT_control_SIDE_7.avi\n",
      "saving to T:\\Phil\\jumping_revisions\\deeplabcut\\videos\\020322\\PVCHA7RT\\020322_PVCHA7RT_control_7_SIDEcalib.avi\n"
     ]
    },
    {
     "name": "stderr",
     "output_type": "stream",
     "text": [
      "100%|████████████████████████████████████████████████████████████████████████████████| 543/543 [00:18<00:00, 29.33it/s]\n"
     ]
    },
    {
     "name": "stdout",
     "output_type": "stream",
     "text": [
      "undistorting T:\\Phil\\jumping_revisions\\deeplabcut\\videos\\020322\\PVCHA7RT\\020322_PVCHA7RT_control_SIDE_8.avi\n",
      "saving to T:\\Phil\\jumping_revisions\\deeplabcut\\videos\\020322\\PVCHA7RT\\020322_PVCHA7RT_control_8_SIDEcalib.avi\n"
     ]
    },
    {
     "name": "stderr",
     "output_type": "stream",
     "text": [
      "100%|██████████████████████████████████████████████████████████████████████████████| 1611/1611 [00:54<00:00, 29.64it/s]\n"
     ]
    },
    {
     "name": "stdout",
     "output_type": "stream",
     "text": [
      "undistorting T:\\Phil\\jumping_revisions\\deeplabcut\\videos\\020322\\PVCHA7RT\\020322_PVCHA7RT_control_SIDE_9.avi\n",
      "saving to T:\\Phil\\jumping_revisions\\deeplabcut\\videos\\020322\\PVCHA7RT\\020322_PVCHA7RT_control_9_SIDEcalib.avi\n"
     ]
    },
    {
     "name": "stderr",
     "output_type": "stream",
     "text": [
      "100%|████████████████████████████████████████████████████████████████████████████████| 479/479 [00:16<00:00, 29.51it/s]\n"
     ]
    },
    {
     "name": "stdout",
     "output_type": "stream",
     "text": [
      "undistorting T:\\Phil\\jumping_revisions\\deeplabcut\\videos\\020322\\PVCHA7TT\\020322_PVCHA7TT_control_SIDE_0.avi\n",
      "saving to T:\\Phil\\jumping_revisions\\deeplabcut\\videos\\020322\\PVCHA7TT\\020322_PVCHA7TT_control_0_SIDEcalib.avi\n"
     ]
    },
    {
     "name": "stderr",
     "output_type": "stream",
     "text": [
      "100%|████████████████████████████████████████████████████████████████████████████████| 706/706 [00:23<00:00, 29.58it/s]\n"
     ]
    },
    {
     "name": "stdout",
     "output_type": "stream",
     "text": [
      "undistorting T:\\Phil\\jumping_revisions\\deeplabcut\\videos\\020322\\PVCHA7TT\\020322_PVCHA7TT_control_SIDE_1.avi\n",
      "saving to T:\\Phil\\jumping_revisions\\deeplabcut\\videos\\020322\\PVCHA7TT\\020322_PVCHA7TT_control_1_SIDEcalib.avi\n"
     ]
    },
    {
     "name": "stderr",
     "output_type": "stream",
     "text": [
      "100%|████████████████████████████████████████████████████████████████████████████████| 952/952 [00:32<00:00, 29.49it/s]\n"
     ]
    },
    {
     "name": "stdout",
     "output_type": "stream",
     "text": [
      "undistorting T:\\Phil\\jumping_revisions\\deeplabcut\\videos\\020322\\PVCHA7TT\\020322_PVCHA7TT_control_SIDE_10.avi\n",
      "saving to T:\\Phil\\jumping_revisions\\deeplabcut\\videos\\020322\\PVCHA7TT\\020322_PVCHA7TT_control_10_SIDEcalib.avi\n"
     ]
    },
    {
     "name": "stderr",
     "output_type": "stream",
     "text": [
      "100%|████████████████████████████████████████████████████████████████████████████████| 492/492 [00:16<00:00, 29.58it/s]\n"
     ]
    },
    {
     "name": "stdout",
     "output_type": "stream",
     "text": [
      "undistorting T:\\Phil\\jumping_revisions\\deeplabcut\\videos\\020322\\PVCHA7TT\\020322_PVCHA7TT_control_SIDE_11.avi\n",
      "saving to T:\\Phil\\jumping_revisions\\deeplabcut\\videos\\020322\\PVCHA7TT\\020322_PVCHA7TT_control_11_SIDEcalib.avi\n"
     ]
    },
    {
     "name": "stderr",
     "output_type": "stream",
     "text": [
      "100%|████████████████████████████████████████████████████████████████████████████████| 469/469 [00:15<00:00, 29.46it/s]\n"
     ]
    },
    {
     "name": "stdout",
     "output_type": "stream",
     "text": [
      "undistorting T:\\Phil\\jumping_revisions\\deeplabcut\\videos\\020322\\PVCHA7TT\\020322_PVCHA7TT_control_SIDE_12.avi\n",
      "saving to T:\\Phil\\jumping_revisions\\deeplabcut\\videos\\020322\\PVCHA7TT\\020322_PVCHA7TT_control_12_SIDEcalib.avi\n"
     ]
    },
    {
     "name": "stderr",
     "output_type": "stream",
     "text": [
      "100%|██████████████████████████████████████████████████████████████████████████████| 1646/1646 [00:55<00:00, 29.57it/s]\n"
     ]
    },
    {
     "name": "stdout",
     "output_type": "stream",
     "text": [
      "undistorting T:\\Phil\\jumping_revisions\\deeplabcut\\videos\\020322\\PVCHA7TT\\020322_PVCHA7TT_control_SIDE_13.avi\n",
      "saving to T:\\Phil\\jumping_revisions\\deeplabcut\\videos\\020322\\PVCHA7TT\\020322_PVCHA7TT_control_13_SIDEcalib.avi\n"
     ]
    },
    {
     "name": "stderr",
     "output_type": "stream",
     "text": [
      "100%|████████████████████████████████████████████████████████████████████████████████| 620/620 [00:21<00:00, 29.43it/s]\n"
     ]
    },
    {
     "name": "stdout",
     "output_type": "stream",
     "text": [
      "undistorting T:\\Phil\\jumping_revisions\\deeplabcut\\videos\\020322\\PVCHA7TT\\020322_PVCHA7TT_control_SIDE_14.avi\n",
      "saving to T:\\Phil\\jumping_revisions\\deeplabcut\\videos\\020322\\PVCHA7TT\\020322_PVCHA7TT_control_14_SIDEcalib.avi\n"
     ]
    },
    {
     "name": "stderr",
     "output_type": "stream",
     "text": [
      "100%|████████████████████████████████████████████████████████████████████████████████| 373/373 [00:12<00:00, 29.38it/s]\n"
     ]
    },
    {
     "name": "stdout",
     "output_type": "stream",
     "text": [
      "undistorting T:\\Phil\\jumping_revisions\\deeplabcut\\videos\\020322\\PVCHA7TT\\020322_PVCHA7TT_control_SIDE_15.avi\n",
      "saving to T:\\Phil\\jumping_revisions\\deeplabcut\\videos\\020322\\PVCHA7TT\\020322_PVCHA7TT_control_15_SIDEcalib.avi\n"
     ]
    },
    {
     "name": "stderr",
     "output_type": "stream",
     "text": [
      "100%|████████████████████████████████████████████████████████████████████████████████| 633/633 [00:21<00:00, 29.53it/s]\n"
     ]
    },
    {
     "name": "stdout",
     "output_type": "stream",
     "text": [
      "undistorting T:\\Phil\\jumping_revisions\\deeplabcut\\videos\\020322\\PVCHA7TT\\020322_PVCHA7TT_control_SIDE_16.avi\n",
      "saving to T:\\Phil\\jumping_revisions\\deeplabcut\\videos\\020322\\PVCHA7TT\\020322_PVCHA7TT_control_16_SIDEcalib.avi\n"
     ]
    },
    {
     "name": "stderr",
     "output_type": "stream",
     "text": [
      "100%|████████████████████████████████████████████████████████████████████████████████| 420/420 [00:14<00:00, 29.45it/s]\n"
     ]
    },
    {
     "name": "stdout",
     "output_type": "stream",
     "text": [
      "undistorting T:\\Phil\\jumping_revisions\\deeplabcut\\videos\\020322\\PVCHA7TT\\020322_PVCHA7TT_control_SIDE_17.avi\n",
      "saving to T:\\Phil\\jumping_revisions\\deeplabcut\\videos\\020322\\PVCHA7TT\\020322_PVCHA7TT_control_17_SIDEcalib.avi\n"
     ]
    },
    {
     "name": "stderr",
     "output_type": "stream",
     "text": [
      "100%|████████████████████████████████████████████████████████████████████████████████| 414/414 [00:14<00:00, 29.50it/s]\n"
     ]
    },
    {
     "name": "stdout",
     "output_type": "stream",
     "text": [
      "undistorting T:\\Phil\\jumping_revisions\\deeplabcut\\videos\\020322\\PVCHA7TT\\020322_PVCHA7TT_control_SIDE_18.avi\n",
      "saving to T:\\Phil\\jumping_revisions\\deeplabcut\\videos\\020322\\PVCHA7TT\\020322_PVCHA7TT_control_18_SIDEcalib.avi\n"
     ]
    },
    {
     "name": "stderr",
     "output_type": "stream",
     "text": [
      "100%|████████████████████████████████████████████████████████████████████████████████| 455/455 [00:15<00:00, 29.51it/s]\n"
     ]
    },
    {
     "name": "stdout",
     "output_type": "stream",
     "text": [
      "undistorting T:\\Phil\\jumping_revisions\\deeplabcut\\videos\\020322\\PVCHA7TT\\020322_PVCHA7TT_control_SIDE_19.avi\n",
      "saving to T:\\Phil\\jumping_revisions\\deeplabcut\\videos\\020322\\PVCHA7TT\\020322_PVCHA7TT_control_19_SIDEcalib.avi\n"
     ]
    },
    {
     "name": "stderr",
     "output_type": "stream",
     "text": [
      "100%|████████████████████████████████████████████████████████████████████████████████| 397/397 [00:13<00:00, 29.54it/s]\n"
     ]
    },
    {
     "name": "stdout",
     "output_type": "stream",
     "text": [
      "undistorting T:\\Phil\\jumping_revisions\\deeplabcut\\videos\\020322\\PVCHA7TT\\020322_PVCHA7TT_control_SIDE_2.avi\n",
      "saving to T:\\Phil\\jumping_revisions\\deeplabcut\\videos\\020322\\PVCHA7TT\\020322_PVCHA7TT_control_2_SIDEcalib.avi\n"
     ]
    },
    {
     "name": "stderr",
     "output_type": "stream",
     "text": [
      "100%|████████████████████████████████████████████████████████████████████████████████| 632/632 [00:21<00:00, 29.48it/s]\n"
     ]
    },
    {
     "name": "stdout",
     "output_type": "stream",
     "text": [
      "undistorting T:\\Phil\\jumping_revisions\\deeplabcut\\videos\\020322\\PVCHA7TT\\020322_PVCHA7TT_control_SIDE_20.avi\n",
      "saving to T:\\Phil\\jumping_revisions\\deeplabcut\\videos\\020322\\PVCHA7TT\\020322_PVCHA7TT_control_20_SIDEcalib.avi\n"
     ]
    },
    {
     "name": "stderr",
     "output_type": "stream",
     "text": [
      "100%|██████████████████████████████████████████████████████████████████████████████| 1229/1229 [00:41<00:00, 29.58it/s]\n"
     ]
    },
    {
     "name": "stdout",
     "output_type": "stream",
     "text": [
      "undistorting T:\\Phil\\jumping_revisions\\deeplabcut\\videos\\020322\\PVCHA7TT\\020322_PVCHA7TT_control_SIDE_21.avi\n",
      "saving to T:\\Phil\\jumping_revisions\\deeplabcut\\videos\\020322\\PVCHA7TT\\020322_PVCHA7TT_control_21_SIDEcalib.avi\n"
     ]
    },
    {
     "name": "stderr",
     "output_type": "stream",
     "text": [
      "100%|████████████████████████████████████████████████████████████████████████████████| 434/434 [00:14<00:00, 29.32it/s]\n"
     ]
    },
    {
     "name": "stdout",
     "output_type": "stream",
     "text": [
      "undistorting T:\\Phil\\jumping_revisions\\deeplabcut\\videos\\020322\\PVCHA7TT\\020322_PVCHA7TT_control_SIDE_22.avi\n",
      "saving to T:\\Phil\\jumping_revisions\\deeplabcut\\videos\\020322\\PVCHA7TT\\020322_PVCHA7TT_control_22_SIDEcalib.avi\n"
     ]
    },
    {
     "name": "stderr",
     "output_type": "stream",
     "text": [
      "100%|████████████████████████████████████████████████████████████████████████████████| 569/569 [00:19<00:00, 29.27it/s]\n"
     ]
    },
    {
     "name": "stdout",
     "output_type": "stream",
     "text": [
      "undistorting T:\\Phil\\jumping_revisions\\deeplabcut\\videos\\020322\\PVCHA7TT\\020322_PVCHA7TT_control_SIDE_23.avi\n",
      "saving to T:\\Phil\\jumping_revisions\\deeplabcut\\videos\\020322\\PVCHA7TT\\020322_PVCHA7TT_control_23_SIDEcalib.avi\n"
     ]
    },
    {
     "name": "stderr",
     "output_type": "stream",
     "text": [
      "100%|████████████████████████████████████████████████████████████████████████████████| 481/481 [00:16<00:00, 29.48it/s]\n"
     ]
    },
    {
     "name": "stdout",
     "output_type": "stream",
     "text": [
      "undistorting T:\\Phil\\jumping_revisions\\deeplabcut\\videos\\020322\\PVCHA7TT\\020322_PVCHA7TT_control_SIDE_24.avi\n",
      "saving to T:\\Phil\\jumping_revisions\\deeplabcut\\videos\\020322\\PVCHA7TT\\020322_PVCHA7TT_control_24_SIDEcalib.avi\n"
     ]
    },
    {
     "name": "stderr",
     "output_type": "stream",
     "text": [
      "100%|████████████████████████████████████████████████████████████████████████████████| 464/464 [00:15<00:00, 29.58it/s]\n"
     ]
    },
    {
     "name": "stdout",
     "output_type": "stream",
     "text": [
      "undistorting T:\\Phil\\jumping_revisions\\deeplabcut\\videos\\020322\\PVCHA7TT\\020322_PVCHA7TT_control_SIDE_25.avi\n",
      "saving to T:\\Phil\\jumping_revisions\\deeplabcut\\videos\\020322\\PVCHA7TT\\020322_PVCHA7TT_control_25_SIDEcalib.avi\n"
     ]
    },
    {
     "name": "stderr",
     "output_type": "stream",
     "text": [
      "100%|████████████████████████████████████████████████████████████████████████████████| 655/655 [00:22<00:00, 29.12it/s]\n"
     ]
    },
    {
     "name": "stdout",
     "output_type": "stream",
     "text": [
      "undistorting T:\\Phil\\jumping_revisions\\deeplabcut\\videos\\020322\\PVCHA7TT\\020322_PVCHA7TT_control_SIDE_26.avi\n",
      "saving to T:\\Phil\\jumping_revisions\\deeplabcut\\videos\\020322\\PVCHA7TT\\020322_PVCHA7TT_control_26_SIDEcalib.avi\n"
     ]
    },
    {
     "name": "stderr",
     "output_type": "stream",
     "text": [
      "100%|██████████████████████████████████████████████████████████████████████████████| 1213/1213 [00:41<00:00, 29.24it/s]\n"
     ]
    },
    {
     "name": "stdout",
     "output_type": "stream",
     "text": [
      "undistorting T:\\Phil\\jumping_revisions\\deeplabcut\\videos\\020322\\PVCHA7TT\\020322_PVCHA7TT_control_SIDE_27.avi\n",
      "saving to T:\\Phil\\jumping_revisions\\deeplabcut\\videos\\020322\\PVCHA7TT\\020322_PVCHA7TT_control_27_SIDEcalib.avi\n"
     ]
    },
    {
     "name": "stderr",
     "output_type": "stream",
     "text": [
      "100%|████████████████████████████████████████████████████████████████████████████████| 401/401 [00:13<00:00, 28.70it/s]\n"
     ]
    },
    {
     "name": "stdout",
     "output_type": "stream",
     "text": [
      "undistorting T:\\Phil\\jumping_revisions\\deeplabcut\\videos\\020322\\PVCHA7TT\\020322_PVCHA7TT_control_SIDE_28.avi\n",
      "saving to T:\\Phil\\jumping_revisions\\deeplabcut\\videos\\020322\\PVCHA7TT\\020322_PVCHA7TT_control_28_SIDEcalib.avi\n"
     ]
    },
    {
     "name": "stderr",
     "output_type": "stream",
     "text": [
      "100%|████████████████████████████████████████████████████████████████████████████████| 421/421 [00:14<00:00, 29.20it/s]\n"
     ]
    },
    {
     "name": "stdout",
     "output_type": "stream",
     "text": [
      "undistorting T:\\Phil\\jumping_revisions\\deeplabcut\\videos\\020322\\PVCHA7TT\\020322_PVCHA7TT_control_SIDE_29.avi\n",
      "saving to T:\\Phil\\jumping_revisions\\deeplabcut\\videos\\020322\\PVCHA7TT\\020322_PVCHA7TT_control_29_SIDEcalib.avi\n"
     ]
    },
    {
     "name": "stderr",
     "output_type": "stream",
     "text": [
      "100%|████████████████████████████████████████████████████████████████████████████████| 489/489 [00:16<00:00, 29.42it/s]\n"
     ]
    },
    {
     "name": "stdout",
     "output_type": "stream",
     "text": [
      "undistorting T:\\Phil\\jumping_revisions\\deeplabcut\\videos\\020322\\PVCHA7TT\\020322_PVCHA7TT_control_SIDE_3.avi\n",
      "saving to T:\\Phil\\jumping_revisions\\deeplabcut\\videos\\020322\\PVCHA7TT\\020322_PVCHA7TT_control_3_SIDEcalib.avi\n"
     ]
    },
    {
     "name": "stderr",
     "output_type": "stream",
     "text": [
      "100%|████████████████████████████████████████████████████████████████████████████████| 500/500 [00:17<00:00, 29.21it/s]\n"
     ]
    },
    {
     "name": "stdout",
     "output_type": "stream",
     "text": [
      "undistorting T:\\Phil\\jumping_revisions\\deeplabcut\\videos\\020322\\PVCHA7TT\\020322_PVCHA7TT_control_SIDE_30.avi\n",
      "saving to T:\\Phil\\jumping_revisions\\deeplabcut\\videos\\020322\\PVCHA7TT\\020322_PVCHA7TT_control_30_SIDEcalib.avi\n"
     ]
    },
    {
     "name": "stderr",
     "output_type": "stream",
     "text": [
      "100%|████████████████████████████████████████████████████████████████████████████████| 702/702 [00:23<00:00, 29.39it/s]\n"
     ]
    },
    {
     "name": "stdout",
     "output_type": "stream",
     "text": [
      "undistorting T:\\Phil\\jumping_revisions\\deeplabcut\\videos\\020322\\PVCHA7TT\\020322_PVCHA7TT_control_SIDE_31.avi\n",
      "saving to T:\\Phil\\jumping_revisions\\deeplabcut\\videos\\020322\\PVCHA7TT\\020322_PVCHA7TT_control_31_SIDEcalib.avi\n"
     ]
    },
    {
     "name": "stderr",
     "output_type": "stream",
     "text": [
      "100%|████████████████████████████████████████████████████████████████████████████████| 507/507 [00:17<00:00, 29.05it/s]\n"
     ]
    },
    {
     "name": "stdout",
     "output_type": "stream",
     "text": [
      "undistorting T:\\Phil\\jumping_revisions\\deeplabcut\\videos\\020322\\PVCHA7TT\\020322_PVCHA7TT_control_SIDE_32.avi\n",
      "saving to T:\\Phil\\jumping_revisions\\deeplabcut\\videos\\020322\\PVCHA7TT\\020322_PVCHA7TT_control_32_SIDEcalib.avi\n"
     ]
    },
    {
     "name": "stderr",
     "output_type": "stream",
     "text": [
      "100%|████████████████████████████████████████████████████████████████████████████████| 745/745 [00:25<00:00, 29.53it/s]\n"
     ]
    },
    {
     "name": "stdout",
     "output_type": "stream",
     "text": [
      "undistorting T:\\Phil\\jumping_revisions\\deeplabcut\\videos\\020322\\PVCHA7TT\\020322_PVCHA7TT_control_SIDE_33.avi\n",
      "saving to T:\\Phil\\jumping_revisions\\deeplabcut\\videos\\020322\\PVCHA7TT\\020322_PVCHA7TT_control_33_SIDEcalib.avi\n"
     ]
    },
    {
     "name": "stderr",
     "output_type": "stream",
     "text": [
      "100%|██████████████████████████████████████████████████████████████████████████████| 1168/1168 [00:39<00:00, 29.52it/s]\n"
     ]
    },
    {
     "name": "stdout",
     "output_type": "stream",
     "text": [
      "undistorting T:\\Phil\\jumping_revisions\\deeplabcut\\videos\\020322\\PVCHA7TT\\020322_PVCHA7TT_control_SIDE_34.avi\n",
      "saving to T:\\Phil\\jumping_revisions\\deeplabcut\\videos\\020322\\PVCHA7TT\\020322_PVCHA7TT_control_34_SIDEcalib.avi\n"
     ]
    },
    {
     "name": "stderr",
     "output_type": "stream",
     "text": [
      "100%|██████████████████████████████████████████████████████████████████████████████| 1044/1044 [00:35<00:00, 29.16it/s]\n"
     ]
    },
    {
     "name": "stdout",
     "output_type": "stream",
     "text": [
      "undistorting T:\\Phil\\jumping_revisions\\deeplabcut\\videos\\020322\\PVCHA7TT\\020322_PVCHA7TT_control_SIDE_35.avi\n",
      "saving to T:\\Phil\\jumping_revisions\\deeplabcut\\videos\\020322\\PVCHA7TT\\020322_PVCHA7TT_control_35_SIDEcalib.avi\n"
     ]
    },
    {
     "name": "stderr",
     "output_type": "stream",
     "text": [
      "100%|████████████████████████████████████████████████████████████████████████████████| 543/543 [00:18<00:00, 29.52it/s]\n"
     ]
    },
    {
     "name": "stdout",
     "output_type": "stream",
     "text": [
      "undistorting T:\\Phil\\jumping_revisions\\deeplabcut\\videos\\020322\\PVCHA7TT\\020322_PVCHA7TT_control_SIDE_36.avi\n",
      "saving to T:\\Phil\\jumping_revisions\\deeplabcut\\videos\\020322\\PVCHA7TT\\020322_PVCHA7TT_control_36_SIDEcalib.avi\n"
     ]
    },
    {
     "name": "stderr",
     "output_type": "stream",
     "text": [
      "100%|████████████████████████████████████████████████████████████████████████████████| 546/546 [00:18<00:00, 29.54it/s]\n"
     ]
    },
    {
     "name": "stdout",
     "output_type": "stream",
     "text": [
      "undistorting T:\\Phil\\jumping_revisions\\deeplabcut\\videos\\020322\\PVCHA7TT\\020322_PVCHA7TT_control_SIDE_37.avi\n",
      "saving to T:\\Phil\\jumping_revisions\\deeplabcut\\videos\\020322\\PVCHA7TT\\020322_PVCHA7TT_control_37_SIDEcalib.avi\n"
     ]
    },
    {
     "name": "stderr",
     "output_type": "stream",
     "text": [
      "100%|████████████████████████████████████████████████████████████████████████████████| 667/667 [00:22<00:00, 29.51it/s]\n"
     ]
    },
    {
     "name": "stdout",
     "output_type": "stream",
     "text": [
      "undistorting T:\\Phil\\jumping_revisions\\deeplabcut\\videos\\020322\\PVCHA7TT\\020322_PVCHA7TT_control_SIDE_38.avi\n",
      "saving to T:\\Phil\\jumping_revisions\\deeplabcut\\videos\\020322\\PVCHA7TT\\020322_PVCHA7TT_control_38_SIDEcalib.avi\n"
     ]
    },
    {
     "name": "stderr",
     "output_type": "stream",
     "text": [
      "100%|████████████████████████████████████████████████████████████████████████████████| 609/609 [00:20<00:00, 29.48it/s]\n"
     ]
    },
    {
     "name": "stdout",
     "output_type": "stream",
     "text": [
      "undistorting T:\\Phil\\jumping_revisions\\deeplabcut\\videos\\020322\\PVCHA7TT\\020322_PVCHA7TT_control_SIDE_39.avi\n",
      "saving to T:\\Phil\\jumping_revisions\\deeplabcut\\videos\\020322\\PVCHA7TT\\020322_PVCHA7TT_control_39_SIDEcalib.avi\n"
     ]
    },
    {
     "name": "stderr",
     "output_type": "stream",
     "text": [
      "100%|████████████████████████████████████████████████████████████████████████████████| 447/447 [00:15<00:00, 29.49it/s]\n"
     ]
    },
    {
     "name": "stdout",
     "output_type": "stream",
     "text": [
      "undistorting T:\\Phil\\jumping_revisions\\deeplabcut\\videos\\020322\\PVCHA7TT\\020322_PVCHA7TT_control_SIDE_4.avi\n",
      "saving to T:\\Phil\\jumping_revisions\\deeplabcut\\videos\\020322\\PVCHA7TT\\020322_PVCHA7TT_control_4_SIDEcalib.avi\n"
     ]
    },
    {
     "name": "stderr",
     "output_type": "stream",
     "text": [
      "100%|████████████████████████████████████████████████████████████████████████████████| 567/567 [00:19<00:00, 29.31it/s]\n"
     ]
    },
    {
     "name": "stdout",
     "output_type": "stream",
     "text": [
      "undistorting T:\\Phil\\jumping_revisions\\deeplabcut\\videos\\020322\\PVCHA7TT\\020322_PVCHA7TT_control_SIDE_40.avi\n",
      "saving to T:\\Phil\\jumping_revisions\\deeplabcut\\videos\\020322\\PVCHA7TT\\020322_PVCHA7TT_control_40_SIDEcalib.avi\n"
     ]
    },
    {
     "name": "stderr",
     "output_type": "stream",
     "text": [
      "100%|████████████████████████████████████████████████████████████████████████████████| 563/563 [00:19<00:00, 29.38it/s]\n"
     ]
    },
    {
     "name": "stdout",
     "output_type": "stream",
     "text": [
      "undistorting T:\\Phil\\jumping_revisions\\deeplabcut\\videos\\020322\\PVCHA7TT\\020322_PVCHA7TT_control_SIDE_41.avi\n",
      "saving to T:\\Phil\\jumping_revisions\\deeplabcut\\videos\\020322\\PVCHA7TT\\020322_PVCHA7TT_control_41_SIDEcalib.avi\n"
     ]
    },
    {
     "name": "stderr",
     "output_type": "stream",
     "text": [
      "100%|████████████████████████████████████████████████████████████████████████████████| 601/601 [00:20<00:00, 29.55it/s]\n"
     ]
    },
    {
     "name": "stdout",
     "output_type": "stream",
     "text": [
      "undistorting T:\\Phil\\jumping_revisions\\deeplabcut\\videos\\020322\\PVCHA7TT\\020322_PVCHA7TT_control_SIDE_5.avi\n",
      "saving to T:\\Phil\\jumping_revisions\\deeplabcut\\videos\\020322\\PVCHA7TT\\020322_PVCHA7TT_control_5_SIDEcalib.avi\n"
     ]
    },
    {
     "name": "stderr",
     "output_type": "stream",
     "text": [
      "100%|████████████████████████████████████████████████████████████████████████████████| 754/754 [00:25<00:00, 29.52it/s]\n"
     ]
    },
    {
     "name": "stdout",
     "output_type": "stream",
     "text": [
      "undistorting T:\\Phil\\jumping_revisions\\deeplabcut\\videos\\020322\\PVCHA7TT\\020322_PVCHA7TT_control_SIDE_6.avi\n",
      "saving to T:\\Phil\\jumping_revisions\\deeplabcut\\videos\\020322\\PVCHA7TT\\020322_PVCHA7TT_control_6_SIDEcalib.avi\n"
     ]
    },
    {
     "name": "stderr",
     "output_type": "stream",
     "text": [
      "100%|████████████████████████████████████████████████████████████████████████████████| 548/548 [00:18<00:00, 29.53it/s]\n"
     ]
    },
    {
     "name": "stdout",
     "output_type": "stream",
     "text": [
      "undistorting T:\\Phil\\jumping_revisions\\deeplabcut\\videos\\020322\\PVCHA7TT\\020322_PVCHA7TT_control_SIDE_7.avi\n",
      "saving to T:\\Phil\\jumping_revisions\\deeplabcut\\videos\\020322\\PVCHA7TT\\020322_PVCHA7TT_control_7_SIDEcalib.avi\n"
     ]
    },
    {
     "name": "stderr",
     "output_type": "stream",
     "text": [
      "100%|████████████████████████████████████████████████████████████████████████████████| 478/478 [00:16<00:00, 29.51it/s]\n"
     ]
    },
    {
     "name": "stdout",
     "output_type": "stream",
     "text": [
      "undistorting T:\\Phil\\jumping_revisions\\deeplabcut\\videos\\020322\\PVCHA7TT\\020322_PVCHA7TT_control_SIDE_8.avi\n",
      "saving to T:\\Phil\\jumping_revisions\\deeplabcut\\videos\\020322\\PVCHA7TT\\020322_PVCHA7TT_control_8_SIDEcalib.avi\n"
     ]
    },
    {
     "name": "stderr",
     "output_type": "stream",
     "text": [
      "100%|████████████████████████████████████████████████████████████████████████████████| 496/496 [00:16<00:00, 29.23it/s]\n"
     ]
    },
    {
     "name": "stdout",
     "output_type": "stream",
     "text": [
      "undistorting T:\\Phil\\jumping_revisions\\deeplabcut\\videos\\020322\\PVCHA7TT\\020322_PVCHA7TT_control_SIDE_9.avi\n",
      "saving to T:\\Phil\\jumping_revisions\\deeplabcut\\videos\\020322\\PVCHA7TT\\020322_PVCHA7TT_control_9_SIDEcalib.avi\n"
     ]
    },
    {
     "name": "stderr",
     "output_type": "stream",
     "text": [
      "100%|████████████████████████████████████████████████████████████████████████████████| 573/573 [00:19<00:00, 29.43it/s]\n"
     ]
    }
   ],
   "source": [
    "for animal_directory in animal_directories:\n",
    "    sess = Session(config_path)\n",
    "    sess.config['animal_directory'] = animal_directory\n",
    "    sc = Sidecam(sess.config, None, None, 'SIDE')\n",
    "    sc.undistort(mtxkey='sidecam_mtx', readcamkey='SIDE', savecamkey='_SIDEcalib.avi', checkervid='sidecam_checkerboard')"
   ]
  },
  {
   "cell_type": "code",
   "execution_count": null,
   "metadata": {},
   "outputs": [],
   "source": []
  }
 ],
 "metadata": {
  "kernelspec": {
   "display_name": "Python [conda env:ephys1-gpu] *",
   "language": "python",
   "name": "conda-env-ephys1-gpu-py"
  },
  "language_info": {
   "codemirror_mode": {
    "name": "ipython",
    "version": 3
   },
   "file_extension": ".py",
   "mimetype": "text/x-python",
   "name": "python",
   "nbconvert_exporter": "python",
   "pygments_lexer": "ipython3",
   "version": "3.8.12"
  }
 },
 "nbformat": 4,
 "nbformat_minor": 4
}
