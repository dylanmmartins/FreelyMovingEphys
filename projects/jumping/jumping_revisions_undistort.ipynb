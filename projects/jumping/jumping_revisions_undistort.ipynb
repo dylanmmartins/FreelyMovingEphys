{
 "cells": [
  {
   "cell_type": "code",
   "execution_count": 1,
   "metadata": {},
   "outputs": [],
   "source": [
    "import sys, os\n",
    "sys.path.insert(0, r'C:\\Users\\Niell Lab\\Documents\\GitHub\\FreelyMovingEphys-dmm')\n",
    "from src.run import Session\n",
    "from src.sidecam import Sidecam"
   ]
  },
  {
   "cell_type": "code",
   "execution_count": 2,
   "metadata": {},
   "outputs": [],
   "source": [
    "config_path = r'C:\\Users\\Niell Lab\\Desktop\\jump_cfg.yaml'\n",
    "date_directory = r'T:\\Phil\\jumping_revisions\\deeplabcut\\videos\\020722'"
   ]
  },
  {
   "cell_type": "code",
   "execution_count": 3,
   "metadata": {},
   "outputs": [
    {
     "data": {
      "text/plain": [
       "['T:\\\\Phil\\\\jumping_revisions\\\\deeplabcut\\\\videos\\\\020722\\\\PVCHA6LN',\n",
       " 'T:\\\\Phil\\\\jumping_revisions\\\\deeplabcut\\\\videos\\\\020722\\\\PVCHA6LT',\n",
       " 'T:\\\\Phil\\\\jumping_revisions\\\\deeplabcut\\\\videos\\\\020722\\\\PVCHA6RT',\n",
       " 'T:\\\\Phil\\\\jumping_revisions\\\\deeplabcut\\\\videos\\\\020722\\\\PVCHA7LN',\n",
       " 'T:\\\\Phil\\\\jumping_revisions\\\\deeplabcut\\\\videos\\\\020722\\\\PVCHA7LT',\n",
       " 'T:\\\\Phil\\\\jumping_revisions\\\\deeplabcut\\\\videos\\\\020722\\\\PVCHA7RN',\n",
       " 'T:\\\\Phil\\\\jumping_revisions\\\\deeplabcut\\\\videos\\\\020722\\\\PVCHA7RT',\n",
       " 'T:\\\\Phil\\\\jumping_revisions\\\\deeplabcut\\\\videos\\\\020722\\\\PVCHA7TT']"
      ]
     },
     "execution_count": 3,
     "metadata": {},
     "output_type": "execute_result"
    }
   ],
   "source": [
    "# search subdirectories for the animal directories\n",
    "animal_directories = [os.path.join(date_directory, x) for x in next(os.walk(date_directory))[1]]\n",
    "animal_directories"
   ]
  },
  {
   "cell_type": "code",
   "execution_count": 4,
   "metadata": {
    "scrolled": true,
    "tags": []
   },
   "outputs": [
    {
     "name": "stdout",
     "output_type": "stream",
     "text": [
      "undistorting T:\\Phil\\jumping_revisions\\deeplabcut\\videos\\020722\\PVCHA6LN\\020722_PVCHA6LN_control_SIDE_0.avi\n",
      "saving to T:\\Phil\\jumping_revisions\\deeplabcut\\videos\\020722\\PVCHA6LN\\020722_PVCHA6LN_control_0_SIDEcalib.avi\n"
     ]
    },
    {
     "name": "stderr",
     "output_type": "stream",
     "text": [
      "100%|████████████████████████████████████████████████████████████████████████████████| 239/239 [00:08<00:00, 28.49it/s]\n"
     ]
    },
    {
     "name": "stdout",
     "output_type": "stream",
     "text": [
      "undistorting T:\\Phil\\jumping_revisions\\deeplabcut\\videos\\020722\\PVCHA6LN\\020722_PVCHA6LN_control_SIDE_1.avi\n",
      "saving to T:\\Phil\\jumping_revisions\\deeplabcut\\videos\\020722\\PVCHA6LN\\020722_PVCHA6LN_control_1_SIDEcalib.avi\n"
     ]
    },
    {
     "name": "stderr",
     "output_type": "stream",
     "text": [
      "100%|████████████████████████████████████████████████████████████████████████████████| 222/222 [00:07<00:00, 28.47it/s]\n"
     ]
    },
    {
     "name": "stdout",
     "output_type": "stream",
     "text": [
      "undistorting T:\\Phil\\jumping_revisions\\deeplabcut\\videos\\020722\\PVCHA6LN\\020722_PVCHA6LN_control_SIDE_10.avi\n",
      "saving to T:\\Phil\\jumping_revisions\\deeplabcut\\videos\\020722\\PVCHA6LN\\020722_PVCHA6LN_control_10_SIDEcalib.avi\n"
     ]
    },
    {
     "name": "stderr",
     "output_type": "stream",
     "text": [
      "100%|████████████████████████████████████████████████████████████████████████████████| 206/206 [00:07<00:00, 28.60it/s]\n"
     ]
    },
    {
     "name": "stdout",
     "output_type": "stream",
     "text": [
      "undistorting T:\\Phil\\jumping_revisions\\deeplabcut\\videos\\020722\\PVCHA6LN\\020722_PVCHA6LN_control_SIDE_11.avi\n",
      "saving to T:\\Phil\\jumping_revisions\\deeplabcut\\videos\\020722\\PVCHA6LN\\020722_PVCHA6LN_control_11_SIDEcalib.avi\n"
     ]
    },
    {
     "name": "stderr",
     "output_type": "stream",
     "text": [
      "100%|████████████████████████████████████████████████████████████████████████████████| 317/317 [00:11<00:00, 28.73it/s]\n"
     ]
    },
    {
     "name": "stdout",
     "output_type": "stream",
     "text": [
      "undistorting T:\\Phil\\jumping_revisions\\deeplabcut\\videos\\020722\\PVCHA6LN\\020722_PVCHA6LN_control_SIDE_12.avi\n",
      "saving to T:\\Phil\\jumping_revisions\\deeplabcut\\videos\\020722\\PVCHA6LN\\020722_PVCHA6LN_control_12_SIDEcalib.avi\n"
     ]
    },
    {
     "name": "stderr",
     "output_type": "stream",
     "text": [
      "100%|████████████████████████████████████████████████████████████████████████████████| 261/261 [00:09<00:00, 28.60it/s]\n"
     ]
    },
    {
     "name": "stdout",
     "output_type": "stream",
     "text": [
      "undistorting T:\\Phil\\jumping_revisions\\deeplabcut\\videos\\020722\\PVCHA6LN\\020722_PVCHA6LN_control_SIDE_13.avi\n",
      "saving to T:\\Phil\\jumping_revisions\\deeplabcut\\videos\\020722\\PVCHA6LN\\020722_PVCHA6LN_control_13_SIDEcalib.avi\n"
     ]
    },
    {
     "name": "stderr",
     "output_type": "stream",
     "text": [
      "100%|████████████████████████████████████████████████████████████████████████████████| 271/271 [00:09<00:00, 28.57it/s]\n"
     ]
    },
    {
     "name": "stdout",
     "output_type": "stream",
     "text": [
      "undistorting T:\\Phil\\jumping_revisions\\deeplabcut\\videos\\020722\\PVCHA6LN\\020722_PVCHA6LN_control_SIDE_14.avi\n",
      "saving to T:\\Phil\\jumping_revisions\\deeplabcut\\videos\\020722\\PVCHA6LN\\020722_PVCHA6LN_control_14_SIDEcalib.avi\n"
     ]
    },
    {
     "name": "stderr",
     "output_type": "stream",
     "text": [
      "100%|████████████████████████████████████████████████████████████████████████████████| 208/208 [00:07<00:00, 28.62it/s]\n"
     ]
    },
    {
     "name": "stdout",
     "output_type": "stream",
     "text": [
      "undistorting T:\\Phil\\jumping_revisions\\deeplabcut\\videos\\020722\\PVCHA6LN\\020722_PVCHA6LN_control_SIDE_15.avi\n",
      "saving to T:\\Phil\\jumping_revisions\\deeplabcut\\videos\\020722\\PVCHA6LN\\020722_PVCHA6LN_control_15_SIDEcalib.avi\n"
     ]
    },
    {
     "name": "stderr",
     "output_type": "stream",
     "text": [
      "100%|████████████████████████████████████████████████████████████████████████████████| 310/310 [00:10<00:00, 28.74it/s]\n"
     ]
    },
    {
     "name": "stdout",
     "output_type": "stream",
     "text": [
      "undistorting T:\\Phil\\jumping_revisions\\deeplabcut\\videos\\020722\\PVCHA6LN\\020722_PVCHA6LN_control_SIDE_16.avi\n",
      "saving to T:\\Phil\\jumping_revisions\\deeplabcut\\videos\\020722\\PVCHA6LN\\020722_PVCHA6LN_control_16_SIDEcalib.avi\n"
     ]
    },
    {
     "name": "stderr",
     "output_type": "stream",
     "text": [
      "100%|████████████████████████████████████████████████████████████████████████████████| 248/248 [00:08<00:00, 28.70it/s]\n"
     ]
    },
    {
     "name": "stdout",
     "output_type": "stream",
     "text": [
      "undistorting T:\\Phil\\jumping_revisions\\deeplabcut\\videos\\020722\\PVCHA6LN\\020722_PVCHA6LN_control_SIDE_17.avi\n",
      "saving to T:\\Phil\\jumping_revisions\\deeplabcut\\videos\\020722\\PVCHA6LN\\020722_PVCHA6LN_control_17_SIDEcalib.avi\n"
     ]
    },
    {
     "name": "stderr",
     "output_type": "stream",
     "text": [
      "100%|████████████████████████████████████████████████████████████████████████████████| 250/250 [00:08<00:00, 28.70it/s]\n"
     ]
    },
    {
     "name": "stdout",
     "output_type": "stream",
     "text": [
      "undistorting T:\\Phil\\jumping_revisions\\deeplabcut\\videos\\020722\\PVCHA6LN\\020722_PVCHA6LN_control_SIDE_18.avi\n",
      "saving to T:\\Phil\\jumping_revisions\\deeplabcut\\videos\\020722\\PVCHA6LN\\020722_PVCHA6LN_control_18_SIDEcalib.avi\n"
     ]
    },
    {
     "name": "stderr",
     "output_type": "stream",
     "text": [
      "100%|████████████████████████████████████████████████████████████████████████████████| 384/384 [00:13<00:00, 28.79it/s]\n"
     ]
    },
    {
     "name": "stdout",
     "output_type": "stream",
     "text": [
      "undistorting T:\\Phil\\jumping_revisions\\deeplabcut\\videos\\020722\\PVCHA6LN\\020722_PVCHA6LN_control_SIDE_19.avi\n",
      "saving to T:\\Phil\\jumping_revisions\\deeplabcut\\videos\\020722\\PVCHA6LN\\020722_PVCHA6LN_control_19_SIDEcalib.avi\n"
     ]
    },
    {
     "name": "stderr",
     "output_type": "stream",
     "text": [
      "100%|████████████████████████████████████████████████████████████████████████████████| 292/292 [00:10<00:00, 28.73it/s]\n"
     ]
    },
    {
     "name": "stdout",
     "output_type": "stream",
     "text": [
      "undistorting T:\\Phil\\jumping_revisions\\deeplabcut\\videos\\020722\\PVCHA6LN\\020722_PVCHA6LN_control_SIDE_2.avi\n",
      "saving to T:\\Phil\\jumping_revisions\\deeplabcut\\videos\\020722\\PVCHA6LN\\020722_PVCHA6LN_control_2_SIDEcalib.avi\n"
     ]
    },
    {
     "name": "stderr",
     "output_type": "stream",
     "text": [
      "100%|████████████████████████████████████████████████████████████████████████████████| 241/241 [00:08<00:00, 28.57it/s]\n"
     ]
    },
    {
     "name": "stdout",
     "output_type": "stream",
     "text": [
      "undistorting T:\\Phil\\jumping_revisions\\deeplabcut\\videos\\020722\\PVCHA6LN\\020722_PVCHA6LN_control_SIDE_20.avi\n",
      "saving to T:\\Phil\\jumping_revisions\\deeplabcut\\videos\\020722\\PVCHA6LN\\020722_PVCHA6LN_control_20_SIDEcalib.avi\n"
     ]
    },
    {
     "name": "stderr",
     "output_type": "stream",
     "text": [
      "100%|████████████████████████████████████████████████████████████████████████████████| 247/247 [00:08<00:00, 28.64it/s]\n"
     ]
    },
    {
     "name": "stdout",
     "output_type": "stream",
     "text": [
      "undistorting T:\\Phil\\jumping_revisions\\deeplabcut\\videos\\020722\\PVCHA6LN\\020722_PVCHA6LN_control_SIDE_21.avi\n",
      "saving to T:\\Phil\\jumping_revisions\\deeplabcut\\videos\\020722\\PVCHA6LN\\020722_PVCHA6LN_control_21_SIDEcalib.avi\n"
     ]
    },
    {
     "name": "stderr",
     "output_type": "stream",
     "text": [
      "100%|████████████████████████████████████████████████████████████████████████████████| 302/302 [00:10<00:00, 28.71it/s]\n"
     ]
    },
    {
     "name": "stdout",
     "output_type": "stream",
     "text": [
      "undistorting T:\\Phil\\jumping_revisions\\deeplabcut\\videos\\020722\\PVCHA6LN\\020722_PVCHA6LN_control_SIDE_22.avi\n",
      "saving to T:\\Phil\\jumping_revisions\\deeplabcut\\videos\\020722\\PVCHA6LN\\020722_PVCHA6LN_control_22_SIDEcalib.avi\n"
     ]
    },
    {
     "name": "stderr",
     "output_type": "stream",
     "text": [
      "100%|████████████████████████████████████████████████████████████████████████████████| 224/224 [00:07<00:00, 28.68it/s]\n"
     ]
    },
    {
     "name": "stdout",
     "output_type": "stream",
     "text": [
      "undistorting T:\\Phil\\jumping_revisions\\deeplabcut\\videos\\020722\\PVCHA6LN\\020722_PVCHA6LN_control_SIDE_23.avi\n",
      "saving to T:\\Phil\\jumping_revisions\\deeplabcut\\videos\\020722\\PVCHA6LN\\020722_PVCHA6LN_control_23_SIDEcalib.avi\n"
     ]
    },
    {
     "name": "stderr",
     "output_type": "stream",
     "text": [
      "100%|████████████████████████████████████████████████████████████████████████████████| 220/220 [00:07<00:00, 28.65it/s]\n"
     ]
    },
    {
     "name": "stdout",
     "output_type": "stream",
     "text": [
      "undistorting T:\\Phil\\jumping_revisions\\deeplabcut\\videos\\020722\\PVCHA6LN\\020722_PVCHA6LN_control_SIDE_24.avi\n",
      "saving to T:\\Phil\\jumping_revisions\\deeplabcut\\videos\\020722\\PVCHA6LN\\020722_PVCHA6LN_control_24_SIDEcalib.avi\n"
     ]
    },
    {
     "name": "stderr",
     "output_type": "stream",
     "text": [
      "100%|████████████████████████████████████████████████████████████████████████████████| 263/263 [00:09<00:00, 28.75it/s]\n"
     ]
    },
    {
     "name": "stdout",
     "output_type": "stream",
     "text": [
      "undistorting T:\\Phil\\jumping_revisions\\deeplabcut\\videos\\020722\\PVCHA6LN\\020722_PVCHA6LN_control_SIDE_25.avi\n",
      "saving to T:\\Phil\\jumping_revisions\\deeplabcut\\videos\\020722\\PVCHA6LN\\020722_PVCHA6LN_control_25_SIDEcalib.avi\n"
     ]
    },
    {
     "name": "stderr",
     "output_type": "stream",
     "text": [
      "100%|████████████████████████████████████████████████████████████████████████████████| 261/261 [00:09<00:00, 28.73it/s]\n"
     ]
    },
    {
     "name": "stdout",
     "output_type": "stream",
     "text": [
      "undistorting T:\\Phil\\jumping_revisions\\deeplabcut\\videos\\020722\\PVCHA6LN\\020722_PVCHA6LN_control_SIDE_26.avi\n",
      "saving to T:\\Phil\\jumping_revisions\\deeplabcut\\videos\\020722\\PVCHA6LN\\020722_PVCHA6LN_control_26_SIDEcalib.avi\n"
     ]
    },
    {
     "name": "stderr",
     "output_type": "stream",
     "text": [
      "100%|████████████████████████████████████████████████████████████████████████████████| 243/243 [00:08<00:00, 28.76it/s]\n"
     ]
    },
    {
     "name": "stdout",
     "output_type": "stream",
     "text": [
      "undistorting T:\\Phil\\jumping_revisions\\deeplabcut\\videos\\020722\\PVCHA6LN\\020722_PVCHA6LN_control_SIDE_27.avi\n",
      "saving to T:\\Phil\\jumping_revisions\\deeplabcut\\videos\\020722\\PVCHA6LN\\020722_PVCHA6LN_control_27_SIDEcalib.avi\n"
     ]
    },
    {
     "name": "stderr",
     "output_type": "stream",
     "text": [
      "100%|████████████████████████████████████████████████████████████████████████████████| 317/317 [00:11<00:00, 28.40it/s]\n"
     ]
    },
    {
     "name": "stdout",
     "output_type": "stream",
     "text": [
      "undistorting T:\\Phil\\jumping_revisions\\deeplabcut\\videos\\020722\\PVCHA6LN\\020722_PVCHA6LN_control_SIDE_28.avi\n",
      "saving to T:\\Phil\\jumping_revisions\\deeplabcut\\videos\\020722\\PVCHA6LN\\020722_PVCHA6LN_control_28_SIDEcalib.avi\n"
     ]
    },
    {
     "name": "stderr",
     "output_type": "stream",
     "text": [
      "100%|████████████████████████████████████████████████████████████████████████████████| 228/228 [00:07<00:00, 28.75it/s]\n"
     ]
    },
    {
     "name": "stdout",
     "output_type": "stream",
     "text": [
      "undistorting T:\\Phil\\jumping_revisions\\deeplabcut\\videos\\020722\\PVCHA6LN\\020722_PVCHA6LN_control_SIDE_29.avi\n",
      "saving to T:\\Phil\\jumping_revisions\\deeplabcut\\videos\\020722\\PVCHA6LN\\020722_PVCHA6LN_control_29_SIDEcalib.avi\n"
     ]
    },
    {
     "name": "stderr",
     "output_type": "stream",
     "text": [
      "100%|████████████████████████████████████████████████████████████████████████████████| 253/253 [00:08<00:00, 28.74it/s]\n"
     ]
    },
    {
     "name": "stdout",
     "output_type": "stream",
     "text": [
      "undistorting T:\\Phil\\jumping_revisions\\deeplabcut\\videos\\020722\\PVCHA6LN\\020722_PVCHA6LN_control_SIDE_3.avi\n",
      "saving to T:\\Phil\\jumping_revisions\\deeplabcut\\videos\\020722\\PVCHA6LN\\020722_PVCHA6LN_control_3_SIDEcalib.avi\n"
     ]
    },
    {
     "name": "stderr",
     "output_type": "stream",
     "text": [
      "100%|████████████████████████████████████████████████████████████████████████████████| 232/232 [00:08<00:00, 28.62it/s]\n"
     ]
    },
    {
     "name": "stdout",
     "output_type": "stream",
     "text": [
      "undistorting T:\\Phil\\jumping_revisions\\deeplabcut\\videos\\020722\\PVCHA6LN\\020722_PVCHA6LN_control_SIDE_30.avi\n",
      "saving to T:\\Phil\\jumping_revisions\\deeplabcut\\videos\\020722\\PVCHA6LN\\020722_PVCHA6LN_control_30_SIDEcalib.avi\n"
     ]
    },
    {
     "name": "stderr",
     "output_type": "stream",
     "text": [
      "100%|████████████████████████████████████████████████████████████████████████████████| 284/284 [00:09<00:00, 28.73it/s]\n"
     ]
    },
    {
     "name": "stdout",
     "output_type": "stream",
     "text": [
      "undistorting T:\\Phil\\jumping_revisions\\deeplabcut\\videos\\020722\\PVCHA6LN\\020722_PVCHA6LN_control_SIDE_31.avi\n",
      "saving to T:\\Phil\\jumping_revisions\\deeplabcut\\videos\\020722\\PVCHA6LN\\020722_PVCHA6LN_control_31_SIDEcalib.avi\n"
     ]
    },
    {
     "name": "stderr",
     "output_type": "stream",
     "text": [
      "100%|████████████████████████████████████████████████████████████████████████████████| 274/274 [00:09<00:00, 28.69it/s]\n"
     ]
    },
    {
     "name": "stdout",
     "output_type": "stream",
     "text": [
      "undistorting T:\\Phil\\jumping_revisions\\deeplabcut\\videos\\020722\\PVCHA6LN\\020722_PVCHA6LN_control_SIDE_32.avi\n",
      "saving to T:\\Phil\\jumping_revisions\\deeplabcut\\videos\\020722\\PVCHA6LN\\020722_PVCHA6LN_control_32_SIDEcalib.avi\n"
     ]
    },
    {
     "name": "stderr",
     "output_type": "stream",
     "text": [
      "100%|████████████████████████████████████████████████████████████████████████████████| 298/298 [00:10<00:00, 28.75it/s]\n"
     ]
    },
    {
     "name": "stdout",
     "output_type": "stream",
     "text": [
      "undistorting T:\\Phil\\jumping_revisions\\deeplabcut\\videos\\020722\\PVCHA6LN\\020722_PVCHA6LN_control_SIDE_33.avi\n",
      "saving to T:\\Phil\\jumping_revisions\\deeplabcut\\videos\\020722\\PVCHA6LN\\020722_PVCHA6LN_control_33_SIDEcalib.avi\n"
     ]
    },
    {
     "name": "stderr",
     "output_type": "stream",
     "text": [
      "100%|████████████████████████████████████████████████████████████████████████████████| 237/237 [00:08<00:00, 28.78it/s]\n"
     ]
    },
    {
     "name": "stdout",
     "output_type": "stream",
     "text": [
      "undistorting T:\\Phil\\jumping_revisions\\deeplabcut\\videos\\020722\\PVCHA6LN\\020722_PVCHA6LN_control_SIDE_34.avi\n",
      "saving to T:\\Phil\\jumping_revisions\\deeplabcut\\videos\\020722\\PVCHA6LN\\020722_PVCHA6LN_control_34_SIDEcalib.avi\n"
     ]
    },
    {
     "name": "stderr",
     "output_type": "stream",
     "text": [
      "100%|████████████████████████████████████████████████████████████████████████████████| 292/292 [00:10<00:00, 28.77it/s]\n"
     ]
    },
    {
     "name": "stdout",
     "output_type": "stream",
     "text": [
      "undistorting T:\\Phil\\jumping_revisions\\deeplabcut\\videos\\020722\\PVCHA6LN\\020722_PVCHA6LN_control_SIDE_35.avi\n",
      "saving to T:\\Phil\\jumping_revisions\\deeplabcut\\videos\\020722\\PVCHA6LN\\020722_PVCHA6LN_control_35_SIDEcalib.avi\n"
     ]
    },
    {
     "name": "stderr",
     "output_type": "stream",
     "text": [
      "100%|████████████████████████████████████████████████████████████████████████████████| 284/284 [00:09<00:00, 28.76it/s]\n"
     ]
    },
    {
     "name": "stdout",
     "output_type": "stream",
     "text": [
      "undistorting T:\\Phil\\jumping_revisions\\deeplabcut\\videos\\020722\\PVCHA6LN\\020722_PVCHA6LN_control_SIDE_36.avi\n",
      "saving to T:\\Phil\\jumping_revisions\\deeplabcut\\videos\\020722\\PVCHA6LN\\020722_PVCHA6LN_control_36_SIDEcalib.avi\n"
     ]
    },
    {
     "name": "stderr",
     "output_type": "stream",
     "text": [
      "100%|████████████████████████████████████████████████████████████████████████████████| 274/274 [00:09<00:00, 28.81it/s]\n"
     ]
    },
    {
     "name": "stdout",
     "output_type": "stream",
     "text": [
      "undistorting T:\\Phil\\jumping_revisions\\deeplabcut\\videos\\020722\\PVCHA6LN\\020722_PVCHA6LN_control_SIDE_37.avi\n",
      "saving to T:\\Phil\\jumping_revisions\\deeplabcut\\videos\\020722\\PVCHA6LN\\020722_PVCHA6LN_control_37_SIDEcalib.avi\n"
     ]
    },
    {
     "name": "stderr",
     "output_type": "stream",
     "text": [
      "100%|████████████████████████████████████████████████████████████████████████████████| 287/287 [00:09<00:00, 28.72it/s]\n"
     ]
    },
    {
     "name": "stdout",
     "output_type": "stream",
     "text": [
      "undistorting T:\\Phil\\jumping_revisions\\deeplabcut\\videos\\020722\\PVCHA6LN\\020722_PVCHA6LN_control_SIDE_38.avi\n",
      "saving to T:\\Phil\\jumping_revisions\\deeplabcut\\videos\\020722\\PVCHA6LN\\020722_PVCHA6LN_control_38_SIDEcalib.avi\n"
     ]
    },
    {
     "name": "stderr",
     "output_type": "stream",
     "text": [
      "100%|████████████████████████████████████████████████████████████████████████████████| 270/270 [00:09<00:00, 28.80it/s]\n"
     ]
    },
    {
     "name": "stdout",
     "output_type": "stream",
     "text": [
      "undistorting T:\\Phil\\jumping_revisions\\deeplabcut\\videos\\020722\\PVCHA6LN\\020722_PVCHA6LN_control_SIDE_39.avi\n",
      "saving to T:\\Phil\\jumping_revisions\\deeplabcut\\videos\\020722\\PVCHA6LN\\020722_PVCHA6LN_control_39_SIDEcalib.avi\n"
     ]
    },
    {
     "name": "stderr",
     "output_type": "stream",
     "text": [
      "100%|████████████████████████████████████████████████████████████████████████████████| 311/311 [00:10<00:00, 28.77it/s]\n"
     ]
    },
    {
     "name": "stdout",
     "output_type": "stream",
     "text": [
      "undistorting T:\\Phil\\jumping_revisions\\deeplabcut\\videos\\020722\\PVCHA6LN\\020722_PVCHA6LN_control_SIDE_4.avi\n",
      "saving to T:\\Phil\\jumping_revisions\\deeplabcut\\videos\\020722\\PVCHA6LN\\020722_PVCHA6LN_control_4_SIDEcalib.avi\n"
     ]
    },
    {
     "name": "stderr",
     "output_type": "stream",
     "text": [
      "100%|████████████████████████████████████████████████████████████████████████████████| 246/246 [00:08<00:00, 28.72it/s]\n"
     ]
    },
    {
     "name": "stdout",
     "output_type": "stream",
     "text": [
      "undistorting T:\\Phil\\jumping_revisions\\deeplabcut\\videos\\020722\\PVCHA6LN\\020722_PVCHA6LN_control_SIDE_40.avi\n",
      "saving to T:\\Phil\\jumping_revisions\\deeplabcut\\videos\\020722\\PVCHA6LN\\020722_PVCHA6LN_control_40_SIDEcalib.avi\n"
     ]
    },
    {
     "name": "stderr",
     "output_type": "stream",
     "text": [
      "100%|████████████████████████████████████████████████████████████████████████████████| 249/249 [00:08<00:00, 28.78it/s]\n"
     ]
    },
    {
     "name": "stdout",
     "output_type": "stream",
     "text": [
      "undistorting T:\\Phil\\jumping_revisions\\deeplabcut\\videos\\020722\\PVCHA6LN\\020722_PVCHA6LN_control_SIDE_41.avi\n",
      "saving to T:\\Phil\\jumping_revisions\\deeplabcut\\videos\\020722\\PVCHA6LN\\020722_PVCHA6LN_control_41_SIDEcalib.avi\n"
     ]
    },
    {
     "name": "stderr",
     "output_type": "stream",
     "text": [
      "100%|████████████████████████████████████████████████████████████████████████████████| 336/336 [00:11<00:00, 28.78it/s]\n"
     ]
    },
    {
     "name": "stdout",
     "output_type": "stream",
     "text": [
      "undistorting T:\\Phil\\jumping_revisions\\deeplabcut\\videos\\020722\\PVCHA6LN\\020722_PVCHA6LN_control_SIDE_42.avi\n",
      "saving to T:\\Phil\\jumping_revisions\\deeplabcut\\videos\\020722\\PVCHA6LN\\020722_PVCHA6LN_control_42_SIDEcalib.avi\n"
     ]
    },
    {
     "name": "stderr",
     "output_type": "stream",
     "text": [
      "100%|████████████████████████████████████████████████████████████████████████████████| 431/431 [00:14<00:00, 28.78it/s]\n"
     ]
    },
    {
     "name": "stdout",
     "output_type": "stream",
     "text": [
      "undistorting T:\\Phil\\jumping_revisions\\deeplabcut\\videos\\020722\\PVCHA6LN\\020722_PVCHA6LN_control_SIDE_43.avi\n",
      "saving to T:\\Phil\\jumping_revisions\\deeplabcut\\videos\\020722\\PVCHA6LN\\020722_PVCHA6LN_control_43_SIDEcalib.avi\n"
     ]
    },
    {
     "name": "stderr",
     "output_type": "stream",
     "text": [
      "100%|████████████████████████████████████████████████████████████████████████████████| 272/272 [00:09<00:00, 28.72it/s]\n"
     ]
    },
    {
     "name": "stdout",
     "output_type": "stream",
     "text": [
      "undistorting T:\\Phil\\jumping_revisions\\deeplabcut\\videos\\020722\\PVCHA6LN\\020722_PVCHA6LN_control_SIDE_44.avi\n",
      "saving to T:\\Phil\\jumping_revisions\\deeplabcut\\videos\\020722\\PVCHA6LN\\020722_PVCHA6LN_control_44_SIDEcalib.avi\n"
     ]
    },
    {
     "name": "stderr",
     "output_type": "stream",
     "text": [
      "100%|████████████████████████████████████████████████████████████████████████████████| 421/421 [00:14<00:00, 28.83it/s]\n"
     ]
    },
    {
     "name": "stdout",
     "output_type": "stream",
     "text": [
      "undistorting T:\\Phil\\jumping_revisions\\deeplabcut\\videos\\020722\\PVCHA6LN\\020722_PVCHA6LN_control_SIDE_45.avi\n",
      "saving to T:\\Phil\\jumping_revisions\\deeplabcut\\videos\\020722\\PVCHA6LN\\020722_PVCHA6LN_control_45_SIDEcalib.avi\n"
     ]
    },
    {
     "name": "stderr",
     "output_type": "stream",
     "text": [
      "100%|████████████████████████████████████████████████████████████████████████████████| 285/285 [00:09<00:00, 28.75it/s]\n"
     ]
    },
    {
     "name": "stdout",
     "output_type": "stream",
     "text": [
      "undistorting T:\\Phil\\jumping_revisions\\deeplabcut\\videos\\020722\\PVCHA6LN\\020722_PVCHA6LN_control_SIDE_46.avi\n",
      "saving to T:\\Phil\\jumping_revisions\\deeplabcut\\videos\\020722\\PVCHA6LN\\020722_PVCHA6LN_control_46_SIDEcalib.avi\n"
     ]
    },
    {
     "name": "stderr",
     "output_type": "stream",
     "text": [
      "100%|████████████████████████████████████████████████████████████████████████████████| 311/311 [00:10<00:00, 28.76it/s]\n"
     ]
    },
    {
     "name": "stdout",
     "output_type": "stream",
     "text": [
      "undistorting T:\\Phil\\jumping_revisions\\deeplabcut\\videos\\020722\\PVCHA6LN\\020722_PVCHA6LN_control_SIDE_47.avi\n",
      "saving to T:\\Phil\\jumping_revisions\\deeplabcut\\videos\\020722\\PVCHA6LN\\020722_PVCHA6LN_control_47_SIDEcalib.avi\n"
     ]
    },
    {
     "name": "stderr",
     "output_type": "stream",
     "text": [
      "100%|████████████████████████████████████████████████████████████████████████████████| 250/250 [00:08<00:00, 28.72it/s]\n"
     ]
    },
    {
     "name": "stdout",
     "output_type": "stream",
     "text": [
      "undistorting T:\\Phil\\jumping_revisions\\deeplabcut\\videos\\020722\\PVCHA6LN\\020722_PVCHA6LN_control_SIDE_48.avi\n",
      "saving to T:\\Phil\\jumping_revisions\\deeplabcut\\videos\\020722\\PVCHA6LN\\020722_PVCHA6LN_control_48_SIDEcalib.avi\n"
     ]
    },
    {
     "name": "stderr",
     "output_type": "stream",
     "text": [
      "100%|████████████████████████████████████████████████████████████████████████████████| 264/264 [00:09<00:00, 28.71it/s]\n"
     ]
    },
    {
     "name": "stdout",
     "output_type": "stream",
     "text": [
      "undistorting T:\\Phil\\jumping_revisions\\deeplabcut\\videos\\020722\\PVCHA6LN\\020722_PVCHA6LN_control_SIDE_49.avi\n",
      "saving to T:\\Phil\\jumping_revisions\\deeplabcut\\videos\\020722\\PVCHA6LN\\020722_PVCHA6LN_control_49_SIDEcalib.avi\n"
     ]
    },
    {
     "name": "stderr",
     "output_type": "stream",
     "text": [
      "100%|████████████████████████████████████████████████████████████████████████████████| 232/232 [00:08<00:00, 28.75it/s]\n"
     ]
    },
    {
     "name": "stdout",
     "output_type": "stream",
     "text": [
      "undistorting T:\\Phil\\jumping_revisions\\deeplabcut\\videos\\020722\\PVCHA6LN\\020722_PVCHA6LN_control_SIDE_5.avi\n",
      "saving to T:\\Phil\\jumping_revisions\\deeplabcut\\videos\\020722\\PVCHA6LN\\020722_PVCHA6LN_control_5_SIDEcalib.avi\n"
     ]
    },
    {
     "name": "stderr",
     "output_type": "stream",
     "text": [
      "100%|████████████████████████████████████████████████████████████████████████████████| 210/210 [00:07<00:00, 28.74it/s]\n"
     ]
    },
    {
     "name": "stdout",
     "output_type": "stream",
     "text": [
      "undistorting T:\\Phil\\jumping_revisions\\deeplabcut\\videos\\020722\\PVCHA6LN\\020722_PVCHA6LN_control_SIDE_6.avi\n",
      "saving to T:\\Phil\\jumping_revisions\\deeplabcut\\videos\\020722\\PVCHA6LN\\020722_PVCHA6LN_control_6_SIDEcalib.avi\n"
     ]
    },
    {
     "name": "stderr",
     "output_type": "stream",
     "text": [
      "100%|████████████████████████████████████████████████████████████████████████████████| 386/386 [00:13<00:00, 28.77it/s]\n"
     ]
    },
    {
     "name": "stdout",
     "output_type": "stream",
     "text": [
      "undistorting T:\\Phil\\jumping_revisions\\deeplabcut\\videos\\020722\\PVCHA6LN\\020722_PVCHA6LN_control_SIDE_7.avi\n",
      "saving to T:\\Phil\\jumping_revisions\\deeplabcut\\videos\\020722\\PVCHA6LN\\020722_PVCHA6LN_control_7_SIDEcalib.avi\n"
     ]
    },
    {
     "name": "stderr",
     "output_type": "stream",
     "text": [
      "100%|████████████████████████████████████████████████████████████████████████████████| 291/291 [00:10<00:00, 28.76it/s]\n"
     ]
    },
    {
     "name": "stdout",
     "output_type": "stream",
     "text": [
      "undistorting T:\\Phil\\jumping_revisions\\deeplabcut\\videos\\020722\\PVCHA6LN\\020722_PVCHA6LN_control_SIDE_8.avi\n",
      "saving to T:\\Phil\\jumping_revisions\\deeplabcut\\videos\\020722\\PVCHA6LN\\020722_PVCHA6LN_control_8_SIDEcalib.avi\n"
     ]
    },
    {
     "name": "stderr",
     "output_type": "stream",
     "text": [
      "100%|████████████████████████████████████████████████████████████████████████████████| 341/341 [00:11<00:00, 28.84it/s]\n"
     ]
    },
    {
     "name": "stdout",
     "output_type": "stream",
     "text": [
      "undistorting T:\\Phil\\jumping_revisions\\deeplabcut\\videos\\020722\\PVCHA6LN\\020722_PVCHA6LN_control_SIDE_9.avi\n",
      "saving to T:\\Phil\\jumping_revisions\\deeplabcut\\videos\\020722\\PVCHA6LN\\020722_PVCHA6LN_control_9_SIDEcalib.avi\n"
     ]
    },
    {
     "name": "stderr",
     "output_type": "stream",
     "text": [
      "100%|████████████████████████████████████████████████████████████████████████████████| 250/250 [00:08<00:00, 28.77it/s]\n"
     ]
    },
    {
     "name": "stdout",
     "output_type": "stream",
     "text": [
      "undistorting T:\\Phil\\jumping_revisions\\deeplabcut\\videos\\020722\\PVCHA6LT\\020722_PVCHA6LT_control_SIDE_0.avi\n",
      "saving to T:\\Phil\\jumping_revisions\\deeplabcut\\videos\\020722\\PVCHA6LT\\020722_PVCHA6LT_control_0_SIDEcalib.avi\n"
     ]
    },
    {
     "name": "stderr",
     "output_type": "stream",
     "text": [
      "100%|████████████████████████████████████████████████████████████████████████████████| 398/398 [00:13<00:00, 28.94it/s]\n"
     ]
    },
    {
     "name": "stdout",
     "output_type": "stream",
     "text": [
      "undistorting T:\\Phil\\jumping_revisions\\deeplabcut\\videos\\020722\\PVCHA6LT\\020722_PVCHA6LT_control_SIDE_1.avi\n",
      "saving to T:\\Phil\\jumping_revisions\\deeplabcut\\videos\\020722\\PVCHA6LT\\020722_PVCHA6LT_control_1_SIDEcalib.avi\n"
     ]
    },
    {
     "name": "stderr",
     "output_type": "stream",
     "text": [
      "100%|████████████████████████████████████████████████████████████████████████████████| 440/440 [00:15<00:00, 28.85it/s]\n"
     ]
    },
    {
     "name": "stdout",
     "output_type": "stream",
     "text": [
      "undistorting T:\\Phil\\jumping_revisions\\deeplabcut\\videos\\020722\\PVCHA6LT\\020722_PVCHA6LT_control_SIDE_10.avi\n",
      "saving to T:\\Phil\\jumping_revisions\\deeplabcut\\videos\\020722\\PVCHA6LT\\020722_PVCHA6LT_control_10_SIDEcalib.avi\n"
     ]
    },
    {
     "name": "stderr",
     "output_type": "stream",
     "text": [
      "100%|██████████████████████████████████████████████████████████████████████████████| 1073/1073 [00:37<00:00, 28.92it/s]\n"
     ]
    },
    {
     "name": "stdout",
     "output_type": "stream",
     "text": [
      "undistorting T:\\Phil\\jumping_revisions\\deeplabcut\\videos\\020722\\PVCHA6LT\\020722_PVCHA6LT_control_SIDE_11.avi\n",
      "saving to T:\\Phil\\jumping_revisions\\deeplabcut\\videos\\020722\\PVCHA6LT\\020722_PVCHA6LT_control_11_SIDEcalib.avi\n"
     ]
    },
    {
     "name": "stderr",
     "output_type": "stream",
     "text": [
      "100%|████████████████████████████████████████████████████████████████████████████████| 798/798 [00:27<00:00, 28.93it/s]\n"
     ]
    },
    {
     "name": "stdout",
     "output_type": "stream",
     "text": [
      "undistorting T:\\Phil\\jumping_revisions\\deeplabcut\\videos\\020722\\PVCHA6LT\\020722_PVCHA6LT_control_SIDE_12.avi\n",
      "saving to T:\\Phil\\jumping_revisions\\deeplabcut\\videos\\020722\\PVCHA6LT\\020722_PVCHA6LT_control_12_SIDEcalib.avi\n"
     ]
    },
    {
     "name": "stderr",
     "output_type": "stream",
     "text": [
      "100%|████████████████████████████████████████████████████████████████████████████████| 905/905 [00:31<00:00, 28.93it/s]\n"
     ]
    },
    {
     "name": "stdout",
     "output_type": "stream",
     "text": [
      "undistorting T:\\Phil\\jumping_revisions\\deeplabcut\\videos\\020722\\PVCHA6LT\\020722_PVCHA6LT_control_SIDE_13.avi\n",
      "saving to T:\\Phil\\jumping_revisions\\deeplabcut\\videos\\020722\\PVCHA6LT\\020722_PVCHA6LT_control_13_SIDEcalib.avi\n"
     ]
    },
    {
     "name": "stderr",
     "output_type": "stream",
     "text": [
      "100%|████████████████████████████████████████████████████████████████████████████████| 879/879 [00:30<00:00, 28.94it/s]\n"
     ]
    },
    {
     "name": "stdout",
     "output_type": "stream",
     "text": [
      "undistorting T:\\Phil\\jumping_revisions\\deeplabcut\\videos\\020722\\PVCHA6LT\\020722_PVCHA6LT_control_SIDE_14.avi\n",
      "saving to T:\\Phil\\jumping_revisions\\deeplabcut\\videos\\020722\\PVCHA6LT\\020722_PVCHA6LT_control_14_SIDEcalib.avi\n"
     ]
    },
    {
     "name": "stderr",
     "output_type": "stream",
     "text": [
      "100%|██████████████████████████████████████████████████████████████████████████████| 5346/5346 [03:03<00:00, 29.10it/s]\n"
     ]
    },
    {
     "name": "stdout",
     "output_type": "stream",
     "text": [
      "undistorting T:\\Phil\\jumping_revisions\\deeplabcut\\videos\\020722\\PVCHA6LT\\020722_PVCHA6LT_control_SIDE_15.avi\n",
      "saving to T:\\Phil\\jumping_revisions\\deeplabcut\\videos\\020722\\PVCHA6LT\\020722_PVCHA6LT_control_15_SIDEcalib.avi\n"
     ]
    },
    {
     "name": "stderr",
     "output_type": "stream",
     "text": [
      "100%|████████████████████████████████████████████████████████████████████████████████| 748/748 [00:30<00:00, 24.88it/s]\n"
     ]
    },
    {
     "name": "stdout",
     "output_type": "stream",
     "text": [
      "undistorting T:\\Phil\\jumping_revisions\\deeplabcut\\videos\\020722\\PVCHA6LT\\020722_PVCHA6LT_control_SIDE_2.avi\n",
      "saving to T:\\Phil\\jumping_revisions\\deeplabcut\\videos\\020722\\PVCHA6LT\\020722_PVCHA6LT_control_2_SIDEcalib.avi\n"
     ]
    },
    {
     "name": "stderr",
     "output_type": "stream",
     "text": [
      "100%|██████████████████████████████████████████████████████████████████████████████| 1082/1082 [00:37<00:00, 29.04it/s]\n"
     ]
    },
    {
     "name": "stdout",
     "output_type": "stream",
     "text": [
      "undistorting T:\\Phil\\jumping_revisions\\deeplabcut\\videos\\020722\\PVCHA6LT\\020722_PVCHA6LT_control_SIDE_3.avi\n",
      "saving to T:\\Phil\\jumping_revisions\\deeplabcut\\videos\\020722\\PVCHA6LT\\020722_PVCHA6LT_control_3_SIDEcalib.avi\n"
     ]
    },
    {
     "name": "stderr",
     "output_type": "stream",
     "text": [
      "100%|████████████████████████████████████████████████████████████████████████████████| 507/507 [00:19<00:00, 25.65it/s]\n"
     ]
    },
    {
     "name": "stdout",
     "output_type": "stream",
     "text": [
      "undistorting T:\\Phil\\jumping_revisions\\deeplabcut\\videos\\020722\\PVCHA6LT\\020722_PVCHA6LT_control_SIDE_4.avi\n",
      "saving to T:\\Phil\\jumping_revisions\\deeplabcut\\videos\\020722\\PVCHA6LT\\020722_PVCHA6LT_control_4_SIDEcalib.avi\n"
     ]
    },
    {
     "name": "stderr",
     "output_type": "stream",
     "text": [
      "100%|████████████████████████████████████████████████████████████████████████████████| 665/665 [00:23<00:00, 28.87it/s]\n"
     ]
    },
    {
     "name": "stdout",
     "output_type": "stream",
     "text": [
      "undistorting T:\\Phil\\jumping_revisions\\deeplabcut\\videos\\020722\\PVCHA6LT\\020722_PVCHA6LT_control_SIDE_5.avi\n",
      "saving to T:\\Phil\\jumping_revisions\\deeplabcut\\videos\\020722\\PVCHA6LT\\020722_PVCHA6LT_control_5_SIDEcalib.avi\n"
     ]
    },
    {
     "name": "stderr",
     "output_type": "stream",
     "text": [
      "100%|████████████████████████████████████████████████████████████████████████████████| 476/476 [00:19<00:00, 24.83it/s]\n"
     ]
    },
    {
     "name": "stdout",
     "output_type": "stream",
     "text": [
      "undistorting T:\\Phil\\jumping_revisions\\deeplabcut\\videos\\020722\\PVCHA6LT\\020722_PVCHA6LT_control_SIDE_6.avi\n",
      "saving to T:\\Phil\\jumping_revisions\\deeplabcut\\videos\\020722\\PVCHA6LT\\020722_PVCHA6LT_control_6_SIDEcalib.avi\n"
     ]
    },
    {
     "name": "stderr",
     "output_type": "stream",
     "text": [
      "100%|████████████████████████████████████████████████████████████████████████████████| 506/506 [00:17<00:00, 28.87it/s]\n"
     ]
    },
    {
     "name": "stdout",
     "output_type": "stream",
     "text": [
      "undistorting T:\\Phil\\jumping_revisions\\deeplabcut\\videos\\020722\\PVCHA6LT\\020722_PVCHA6LT_control_SIDE_7.avi\n",
      "saving to T:\\Phil\\jumping_revisions\\deeplabcut\\videos\\020722\\PVCHA6LT\\020722_PVCHA6LT_control_7_SIDEcalib.avi\n"
     ]
    },
    {
     "name": "stderr",
     "output_type": "stream",
     "text": [
      "100%|██████████████████████████████████████████████████████████████████████████████| 1523/1523 [01:01<00:00, 24.80it/s]\n"
     ]
    },
    {
     "name": "stdout",
     "output_type": "stream",
     "text": [
      "undistorting T:\\Phil\\jumping_revisions\\deeplabcut\\videos\\020722\\PVCHA6LT\\020722_PVCHA6LT_control_SIDE_8.avi\n",
      "saving to T:\\Phil\\jumping_revisions\\deeplabcut\\videos\\020722\\PVCHA6LT\\020722_PVCHA6LT_control_8_SIDEcalib.avi\n"
     ]
    },
    {
     "name": "stderr",
     "output_type": "stream",
     "text": [
      "100%|██████████████████████████████████████████████████████████████████████████████| 1643/1643 [00:56<00:00, 28.95it/s]\n"
     ]
    },
    {
     "name": "stdout",
     "output_type": "stream",
     "text": [
      "undistorting T:\\Phil\\jumping_revisions\\deeplabcut\\videos\\020722\\PVCHA6LT\\020722_PVCHA6LT_control_SIDE_9.avi\n",
      "saving to T:\\Phil\\jumping_revisions\\deeplabcut\\videos\\020722\\PVCHA6LT\\020722_PVCHA6LT_control_9_SIDEcalib.avi\n"
     ]
    },
    {
     "name": "stderr",
     "output_type": "stream",
     "text": [
      "100%|████████████████████████████████████████████████████████████████████████████████| 884/884 [00:35<00:00, 25.05it/s]\n"
     ]
    },
    {
     "name": "stdout",
     "output_type": "stream",
     "text": [
      "undistorting T:\\Phil\\jumping_revisions\\deeplabcut\\videos\\020722\\PVCHA6RT\\020722_PVCHA6RT_control_SIDE_0.avi\n",
      "saving to T:\\Phil\\jumping_revisions\\deeplabcut\\videos\\020722\\PVCHA6RT\\020722_PVCHA6RT_control_0_SIDEcalib.avi\n"
     ]
    },
    {
     "name": "stderr",
     "output_type": "stream",
     "text": [
      "100%|██████████████████████████████████████████████████████████████████████████████| 1007/1007 [00:34<00:00, 29.01it/s]\n"
     ]
    },
    {
     "name": "stdout",
     "output_type": "stream",
     "text": [
      "undistorting T:\\Phil\\jumping_revisions\\deeplabcut\\videos\\020722\\PVCHA6RT\\020722_PVCHA6RT_control_SIDE_1.avi\n",
      "saving to T:\\Phil\\jumping_revisions\\deeplabcut\\videos\\020722\\PVCHA6RT\\020722_PVCHA6RT_control_1_SIDEcalib.avi\n"
     ]
    },
    {
     "name": "stderr",
     "output_type": "stream",
     "text": [
      "100%|████████████████████████████████████████████████████████████████████████████████| 807/807 [00:27<00:00, 28.95it/s]\n"
     ]
    },
    {
     "name": "stdout",
     "output_type": "stream",
     "text": [
      "undistorting T:\\Phil\\jumping_revisions\\deeplabcut\\videos\\020722\\PVCHA6RT\\020722_PVCHA6RT_control_SIDE_10.avi\n",
      "saving to T:\\Phil\\jumping_revisions\\deeplabcut\\videos\\020722\\PVCHA6RT\\020722_PVCHA6RT_control_10_SIDEcalib.avi\n"
     ]
    },
    {
     "name": "stderr",
     "output_type": "stream",
     "text": [
      "100%|████████████████████████████████████████████████████████████████████████████████| 411/411 [00:14<00:00, 28.78it/s]\n"
     ]
    },
    {
     "name": "stdout",
     "output_type": "stream",
     "text": [
      "undistorting T:\\Phil\\jumping_revisions\\deeplabcut\\videos\\020722\\PVCHA6RT\\020722_PVCHA6RT_control_SIDE_11.avi\n",
      "saving to T:\\Phil\\jumping_revisions\\deeplabcut\\videos\\020722\\PVCHA6RT\\020722_PVCHA6RT_control_11_SIDEcalib.avi\n"
     ]
    },
    {
     "name": "stderr",
     "output_type": "stream",
     "text": [
      "100%|████████████████████████████████████████████████████████████████████████████████| 292/292 [00:10<00:00, 28.79it/s]\n"
     ]
    },
    {
     "name": "stdout",
     "output_type": "stream",
     "text": [
      "undistorting T:\\Phil\\jumping_revisions\\deeplabcut\\videos\\020722\\PVCHA6RT\\020722_PVCHA6RT_control_SIDE_12.avi\n",
      "saving to T:\\Phil\\jumping_revisions\\deeplabcut\\videos\\020722\\PVCHA6RT\\020722_PVCHA6RT_control_12_SIDEcalib.avi\n"
     ]
    },
    {
     "name": "stderr",
     "output_type": "stream",
     "text": [
      "100%|████████████████████████████████████████████████████████████████████████████████| 391/391 [00:13<00:00, 28.89it/s]\n"
     ]
    },
    {
     "name": "stdout",
     "output_type": "stream",
     "text": [
      "undistorting T:\\Phil\\jumping_revisions\\deeplabcut\\videos\\020722\\PVCHA6RT\\020722_PVCHA6RT_control_SIDE_13.avi\n",
      "saving to T:\\Phil\\jumping_revisions\\deeplabcut\\videos\\020722\\PVCHA6RT\\020722_PVCHA6RT_control_13_SIDEcalib.avi\n"
     ]
    },
    {
     "name": "stderr",
     "output_type": "stream",
     "text": [
      "100%|████████████████████████████████████████████████████████████████████████████████| 518/518 [00:17<00:00, 28.94it/s]\n"
     ]
    },
    {
     "name": "stdout",
     "output_type": "stream",
     "text": [
      "undistorting T:\\Phil\\jumping_revisions\\deeplabcut\\videos\\020722\\PVCHA6RT\\020722_PVCHA6RT_control_SIDE_14.avi\n",
      "saving to T:\\Phil\\jumping_revisions\\deeplabcut\\videos\\020722\\PVCHA6RT\\020722_PVCHA6RT_control_14_SIDEcalib.avi\n"
     ]
    },
    {
     "name": "stderr",
     "output_type": "stream",
     "text": [
      "100%|████████████████████████████████████████████████████████████████████████████████| 657/657 [00:22<00:00, 28.93it/s]\n"
     ]
    },
    {
     "name": "stdout",
     "output_type": "stream",
     "text": [
      "undistorting T:\\Phil\\jumping_revisions\\deeplabcut\\videos\\020722\\PVCHA6RT\\020722_PVCHA6RT_control_SIDE_15.avi\n",
      "saving to T:\\Phil\\jumping_revisions\\deeplabcut\\videos\\020722\\PVCHA6RT\\020722_PVCHA6RT_control_15_SIDEcalib.avi\n"
     ]
    },
    {
     "name": "stderr",
     "output_type": "stream",
     "text": [
      "100%|████████████████████████████████████████████████████████████████████████████████| 363/363 [00:12<00:00, 28.86it/s]\n"
     ]
    },
    {
     "name": "stdout",
     "output_type": "stream",
     "text": [
      "undistorting T:\\Phil\\jumping_revisions\\deeplabcut\\videos\\020722\\PVCHA6RT\\020722_PVCHA6RT_control_SIDE_16.avi\n",
      "saving to T:\\Phil\\jumping_revisions\\deeplabcut\\videos\\020722\\PVCHA6RT\\020722_PVCHA6RT_control_16_SIDEcalib.avi\n"
     ]
    },
    {
     "name": "stderr",
     "output_type": "stream",
     "text": [
      "100%|████████████████████████████████████████████████████████████████████████████████| 479/479 [00:16<00:00, 28.90it/s]\n"
     ]
    },
    {
     "name": "stdout",
     "output_type": "stream",
     "text": [
      "undistorting T:\\Phil\\jumping_revisions\\deeplabcut\\videos\\020722\\PVCHA6RT\\020722_PVCHA6RT_control_SIDE_17.avi\n",
      "saving to T:\\Phil\\jumping_revisions\\deeplabcut\\videos\\020722\\PVCHA6RT\\020722_PVCHA6RT_control_17_SIDEcalib.avi\n"
     ]
    },
    {
     "name": "stderr",
     "output_type": "stream",
     "text": [
      "100%|████████████████████████████████████████████████████████████████████████████████| 313/313 [00:10<00:00, 28.86it/s]\n"
     ]
    },
    {
     "name": "stdout",
     "output_type": "stream",
     "text": [
      "undistorting T:\\Phil\\jumping_revisions\\deeplabcut\\videos\\020722\\PVCHA6RT\\020722_PVCHA6RT_control_SIDE_18.avi\n",
      "saving to T:\\Phil\\jumping_revisions\\deeplabcut\\videos\\020722\\PVCHA6RT\\020722_PVCHA6RT_control_18_SIDEcalib.avi\n"
     ]
    },
    {
     "name": "stderr",
     "output_type": "stream",
     "text": [
      "100%|████████████████████████████████████████████████████████████████████████████████| 594/594 [00:20<00:00, 28.87it/s]\n"
     ]
    },
    {
     "name": "stdout",
     "output_type": "stream",
     "text": [
      "undistorting T:\\Phil\\jumping_revisions\\deeplabcut\\videos\\020722\\PVCHA6RT\\020722_PVCHA6RT_control_SIDE_19.avi\n",
      "saving to T:\\Phil\\jumping_revisions\\deeplabcut\\videos\\020722\\PVCHA6RT\\020722_PVCHA6RT_control_19_SIDEcalib.avi\n"
     ]
    },
    {
     "name": "stderr",
     "output_type": "stream",
     "text": [
      "100%|████████████████████████████████████████████████████████████████████████████████| 918/918 [00:31<00:00, 29.00it/s]\n"
     ]
    },
    {
     "name": "stdout",
     "output_type": "stream",
     "text": [
      "undistorting T:\\Phil\\jumping_revisions\\deeplabcut\\videos\\020722\\PVCHA6RT\\020722_PVCHA6RT_control_SIDE_2.avi\n",
      "saving to T:\\Phil\\jumping_revisions\\deeplabcut\\videos\\020722\\PVCHA6RT\\020722_PVCHA6RT_control_2_SIDEcalib.avi\n"
     ]
    },
    {
     "name": "stderr",
     "output_type": "stream",
     "text": [
      "100%|████████████████████████████████████████████████████████████████████████████████| 751/751 [00:25<00:00, 28.92it/s]\n"
     ]
    },
    {
     "name": "stdout",
     "output_type": "stream",
     "text": [
      "undistorting T:\\Phil\\jumping_revisions\\deeplabcut\\videos\\020722\\PVCHA6RT\\020722_PVCHA6RT_control_SIDE_20.avi\n",
      "saving to T:\\Phil\\jumping_revisions\\deeplabcut\\videos\\020722\\PVCHA6RT\\020722_PVCHA6RT_control_20_SIDEcalib.avi\n"
     ]
    },
    {
     "name": "stderr",
     "output_type": "stream",
     "text": [
      "100%|████████████████████████████████████████████████████████████████████████████████| 297/297 [00:10<00:00, 28.89it/s]\n"
     ]
    },
    {
     "name": "stdout",
     "output_type": "stream",
     "text": [
      "undistorting T:\\Phil\\jumping_revisions\\deeplabcut\\videos\\020722\\PVCHA6RT\\020722_PVCHA6RT_control_SIDE_21.avi\n",
      "saving to T:\\Phil\\jumping_revisions\\deeplabcut\\videos\\020722\\PVCHA6RT\\020722_PVCHA6RT_control_21_SIDEcalib.avi\n"
     ]
    },
    {
     "name": "stderr",
     "output_type": "stream",
     "text": [
      "100%|████████████████████████████████████████████████████████████████████████████████| 394/394 [00:14<00:00, 27.14it/s]\n"
     ]
    },
    {
     "name": "stdout",
     "output_type": "stream",
     "text": [
      "undistorting T:\\Phil\\jumping_revisions\\deeplabcut\\videos\\020722\\PVCHA6RT\\020722_PVCHA6RT_control_SIDE_22.avi\n",
      "saving to T:\\Phil\\jumping_revisions\\deeplabcut\\videos\\020722\\PVCHA6RT\\020722_PVCHA6RT_control_22_SIDEcalib.avi\n"
     ]
    },
    {
     "name": "stderr",
     "output_type": "stream",
     "text": [
      "100%|████████████████████████████████████████████████████████████████████████████████| 280/280 [00:09<00:00, 28.74it/s]\n"
     ]
    },
    {
     "name": "stdout",
     "output_type": "stream",
     "text": [
      "undistorting T:\\Phil\\jumping_revisions\\deeplabcut\\videos\\020722\\PVCHA6RT\\020722_PVCHA6RT_control_SIDE_23.avi\n",
      "saving to T:\\Phil\\jumping_revisions\\deeplabcut\\videos\\020722\\PVCHA6RT\\020722_PVCHA6RT_control_23_SIDEcalib.avi\n"
     ]
    },
    {
     "name": "stderr",
     "output_type": "stream",
     "text": [
      "100%|████████████████████████████████████████████████████████████████████████████████| 324/324 [00:12<00:00, 26.82it/s]\n"
     ]
    },
    {
     "name": "stdout",
     "output_type": "stream",
     "text": [
      "undistorting T:\\Phil\\jumping_revisions\\deeplabcut\\videos\\020722\\PVCHA6RT\\020722_PVCHA6RT_control_SIDE_24.avi\n",
      "saving to T:\\Phil\\jumping_revisions\\deeplabcut\\videos\\020722\\PVCHA6RT\\020722_PVCHA6RT_control_24_SIDEcalib.avi\n"
     ]
    },
    {
     "name": "stderr",
     "output_type": "stream",
     "text": [
      "100%|████████████████████████████████████████████████████████████████████████████████| 291/291 [00:10<00:00, 28.81it/s]\n"
     ]
    },
    {
     "name": "stdout",
     "output_type": "stream",
     "text": [
      "undistorting T:\\Phil\\jumping_revisions\\deeplabcut\\videos\\020722\\PVCHA6RT\\020722_PVCHA6RT_control_SIDE_25.avi\n",
      "saving to T:\\Phil\\jumping_revisions\\deeplabcut\\videos\\020722\\PVCHA6RT\\020722_PVCHA6RT_control_25_SIDEcalib.avi\n"
     ]
    },
    {
     "name": "stderr",
     "output_type": "stream",
     "text": [
      "100%|████████████████████████████████████████████████████████████████████████████████| 402/402 [00:15<00:00, 26.70it/s]\n"
     ]
    },
    {
     "name": "stdout",
     "output_type": "stream",
     "text": [
      "undistorting T:\\Phil\\jumping_revisions\\deeplabcut\\videos\\020722\\PVCHA6RT\\020722_PVCHA6RT_control_SIDE_26.avi\n",
      "saving to T:\\Phil\\jumping_revisions\\deeplabcut\\videos\\020722\\PVCHA6RT\\020722_PVCHA6RT_control_26_SIDEcalib.avi\n"
     ]
    },
    {
     "name": "stderr",
     "output_type": "stream",
     "text": [
      "100%|████████████████████████████████████████████████████████████████████████████████| 357/357 [00:12<00:00, 27.96it/s]\n"
     ]
    },
    {
     "name": "stdout",
     "output_type": "stream",
     "text": [
      "undistorting T:\\Phil\\jumping_revisions\\deeplabcut\\videos\\020722\\PVCHA6RT\\020722_PVCHA6RT_control_SIDE_27.avi\n",
      "saving to T:\\Phil\\jumping_revisions\\deeplabcut\\videos\\020722\\PVCHA6RT\\020722_PVCHA6RT_control_27_SIDEcalib.avi\n"
     ]
    },
    {
     "name": "stderr",
     "output_type": "stream",
     "text": [
      "100%|████████████████████████████████████████████████████████████████████████████████| 327/327 [00:12<00:00, 25.69it/s]\n"
     ]
    },
    {
     "name": "stdout",
     "output_type": "stream",
     "text": [
      "undistorting T:\\Phil\\jumping_revisions\\deeplabcut\\videos\\020722\\PVCHA6RT\\020722_PVCHA6RT_control_SIDE_28.avi\n",
      "saving to T:\\Phil\\jumping_revisions\\deeplabcut\\videos\\020722\\PVCHA6RT\\020722_PVCHA6RT_control_28_SIDEcalib.avi\n"
     ]
    },
    {
     "name": "stderr",
     "output_type": "stream",
     "text": [
      "100%|████████████████████████████████████████████████████████████████████████████████| 306/306 [00:10<00:00, 28.88it/s]\n"
     ]
    },
    {
     "name": "stdout",
     "output_type": "stream",
     "text": [
      "undistorting T:\\Phil\\jumping_revisions\\deeplabcut\\videos\\020722\\PVCHA6RT\\020722_PVCHA6RT_control_SIDE_29.avi\n",
      "saving to T:\\Phil\\jumping_revisions\\deeplabcut\\videos\\020722\\PVCHA6RT\\020722_PVCHA6RT_control_29_SIDEcalib.avi\n"
     ]
    },
    {
     "name": "stderr",
     "output_type": "stream",
     "text": [
      "100%|████████████████████████████████████████████████████████████████████████████████| 734/734 [00:29<00:00, 24.98it/s]\n"
     ]
    },
    {
     "name": "stdout",
     "output_type": "stream",
     "text": [
      "undistorting T:\\Phil\\jumping_revisions\\deeplabcut\\videos\\020722\\PVCHA6RT\\020722_PVCHA6RT_control_SIDE_3.avi\n",
      "saving to T:\\Phil\\jumping_revisions\\deeplabcut\\videos\\020722\\PVCHA6RT\\020722_PVCHA6RT_control_3_SIDEcalib.avi\n"
     ]
    },
    {
     "name": "stderr",
     "output_type": "stream",
     "text": [
      "100%|████████████████████████████████████████████████████████████████████████████████| 358/358 [00:12<00:00, 28.90it/s]\n"
     ]
    },
    {
     "name": "stdout",
     "output_type": "stream",
     "text": [
      "undistorting T:\\Phil\\jumping_revisions\\deeplabcut\\videos\\020722\\PVCHA6RT\\020722_PVCHA6RT_control_SIDE_30.avi\n",
      "saving to T:\\Phil\\jumping_revisions\\deeplabcut\\videos\\020722\\PVCHA6RT\\020722_PVCHA6RT_control_30_SIDEcalib.avi\n"
     ]
    },
    {
     "name": "stderr",
     "output_type": "stream",
     "text": [
      "100%|████████████████████████████████████████████████████████████████████████████████| 375/375 [00:13<00:00, 28.84it/s]\n"
     ]
    },
    {
     "name": "stdout",
     "output_type": "stream",
     "text": [
      "undistorting T:\\Phil\\jumping_revisions\\deeplabcut\\videos\\020722\\PVCHA6RT\\020722_PVCHA6RT_control_SIDE_31.avi\n",
      "saving to T:\\Phil\\jumping_revisions\\deeplabcut\\videos\\020722\\PVCHA6RT\\020722_PVCHA6RT_control_31_SIDEcalib.avi\n"
     ]
    },
    {
     "name": "stderr",
     "output_type": "stream",
     "text": [
      "100%|████████████████████████████████████████████████████████████████████████████████| 381/381 [00:14<00:00, 25.89it/s]\n"
     ]
    },
    {
     "name": "stdout",
     "output_type": "stream",
     "text": [
      "undistorting T:\\Phil\\jumping_revisions\\deeplabcut\\videos\\020722\\PVCHA6RT\\020722_PVCHA6RT_control_SIDE_4.avi\n",
      "saving to T:\\Phil\\jumping_revisions\\deeplabcut\\videos\\020722\\PVCHA6RT\\020722_PVCHA6RT_control_4_SIDEcalib.avi\n"
     ]
    },
    {
     "name": "stderr",
     "output_type": "stream",
     "text": [
      "100%|████████████████████████████████████████████████████████████████████████████████| 846/846 [00:29<00:00, 28.98it/s]\n"
     ]
    },
    {
     "name": "stdout",
     "output_type": "stream",
     "text": [
      "undistorting T:\\Phil\\jumping_revisions\\deeplabcut\\videos\\020722\\PVCHA6RT\\020722_PVCHA6RT_control_SIDE_5.avi\n",
      "saving to T:\\Phil\\jumping_revisions\\deeplabcut\\videos\\020722\\PVCHA6RT\\020722_PVCHA6RT_control_5_SIDEcalib.avi\n"
     ]
    },
    {
     "name": "stderr",
     "output_type": "stream",
     "text": [
      "100%|████████████████████████████████████████████████████████████████████████████████| 361/361 [00:13<00:00, 25.99it/s]\n"
     ]
    },
    {
     "name": "stdout",
     "output_type": "stream",
     "text": [
      "undistorting T:\\Phil\\jumping_revisions\\deeplabcut\\videos\\020722\\PVCHA6RT\\020722_PVCHA6RT_control_SIDE_6.avi\n",
      "saving to T:\\Phil\\jumping_revisions\\deeplabcut\\videos\\020722\\PVCHA6RT\\020722_PVCHA6RT_control_6_SIDEcalib.avi\n"
     ]
    },
    {
     "name": "stderr",
     "output_type": "stream",
     "text": [
      "100%|████████████████████████████████████████████████████████████████████████████████| 307/307 [00:10<00:00, 28.91it/s]\n"
     ]
    },
    {
     "name": "stdout",
     "output_type": "stream",
     "text": [
      "undistorting T:\\Phil\\jumping_revisions\\deeplabcut\\videos\\020722\\PVCHA6RT\\020722_PVCHA6RT_control_SIDE_7.avi\n",
      "saving to T:\\Phil\\jumping_revisions\\deeplabcut\\videos\\020722\\PVCHA6RT\\020722_PVCHA6RT_control_7_SIDEcalib.avi\n"
     ]
    },
    {
     "name": "stderr",
     "output_type": "stream",
     "text": [
      "100%|████████████████████████████████████████████████████████████████████████████████| 361/361 [00:14<00:00, 25.39it/s]\n"
     ]
    },
    {
     "name": "stdout",
     "output_type": "stream",
     "text": [
      "undistorting T:\\Phil\\jumping_revisions\\deeplabcut\\videos\\020722\\PVCHA6RT\\020722_PVCHA6RT_control_SIDE_8.avi\n",
      "saving to T:\\Phil\\jumping_revisions\\deeplabcut\\videos\\020722\\PVCHA6RT\\020722_PVCHA6RT_control_8_SIDEcalib.avi\n"
     ]
    },
    {
     "name": "stderr",
     "output_type": "stream",
     "text": [
      "100%|████████████████████████████████████████████████████████████████████████████████| 469/469 [00:16<00:00, 28.97it/s]\n"
     ]
    },
    {
     "name": "stdout",
     "output_type": "stream",
     "text": [
      "undistorting T:\\Phil\\jumping_revisions\\deeplabcut\\videos\\020722\\PVCHA6RT\\020722_PVCHA6RT_control_SIDE_9.avi\n",
      "saving to T:\\Phil\\jumping_revisions\\deeplabcut\\videos\\020722\\PVCHA6RT\\020722_PVCHA6RT_control_9_SIDEcalib.avi\n"
     ]
    },
    {
     "name": "stderr",
     "output_type": "stream",
     "text": [
      "100%|████████████████████████████████████████████████████████████████████████████████| 653/653 [00:25<00:00, 26.00it/s]\n"
     ]
    },
    {
     "name": "stdout",
     "output_type": "stream",
     "text": [
      "undistorting T:\\Phil\\jumping_revisions\\deeplabcut\\videos\\020722\\PVCHA7LN\\020722_PVCHA7LN_control_SIDE_0.avi\n",
      "saving to T:\\Phil\\jumping_revisions\\deeplabcut\\videos\\020722\\PVCHA7LN\\020722_PVCHA7LN_control_0_SIDEcalib.avi\n"
     ]
    },
    {
     "name": "stderr",
     "output_type": "stream",
     "text": [
      "100%|████████████████████████████████████████████████████████████████████████████████| 488/488 [00:16<00:00, 28.90it/s]\n"
     ]
    },
    {
     "name": "stdout",
     "output_type": "stream",
     "text": [
      "undistorting T:\\Phil\\jumping_revisions\\deeplabcut\\videos\\020722\\PVCHA7LN\\020722_PVCHA7LN_control_SIDE_1.avi\n",
      "saving to T:\\Phil\\jumping_revisions\\deeplabcut\\videos\\020722\\PVCHA7LN\\020722_PVCHA7LN_control_1_SIDEcalib.avi\n"
     ]
    },
    {
     "name": "stderr",
     "output_type": "stream",
     "text": [
      "100%|████████████████████████████████████████████████████████████████████████████████| 504/504 [00:17<00:00, 28.93it/s]\n"
     ]
    },
    {
     "name": "stdout",
     "output_type": "stream",
     "text": [
      "undistorting T:\\Phil\\jumping_revisions\\deeplabcut\\videos\\020722\\PVCHA7LN\\020722_PVCHA7LN_control_SIDE_10.avi\n",
      "saving to T:\\Phil\\jumping_revisions\\deeplabcut\\videos\\020722\\PVCHA7LN\\020722_PVCHA7LN_control_10_SIDEcalib.avi\n"
     ]
    },
    {
     "name": "stderr",
     "output_type": "stream",
     "text": [
      "100%|████████████████████████████████████████████████████████████████████████████████| 630/630 [00:21<00:00, 28.98it/s]\n"
     ]
    },
    {
     "name": "stdout",
     "output_type": "stream",
     "text": [
      "undistorting T:\\Phil\\jumping_revisions\\deeplabcut\\videos\\020722\\PVCHA7LN\\020722_PVCHA7LN_control_SIDE_11.avi\n",
      "saving to T:\\Phil\\jumping_revisions\\deeplabcut\\videos\\020722\\PVCHA7LN\\020722_PVCHA7LN_control_11_SIDEcalib.avi\n"
     ]
    },
    {
     "name": "stderr",
     "output_type": "stream",
     "text": [
      "100%|████████████████████████████████████████████████████████████████████████████████| 645/645 [00:22<00:00, 29.02it/s]\n"
     ]
    },
    {
     "name": "stdout",
     "output_type": "stream",
     "text": [
      "undistorting T:\\Phil\\jumping_revisions\\deeplabcut\\videos\\020722\\PVCHA7LN\\020722_PVCHA7LN_control_SIDE_12.avi\n",
      "saving to T:\\Phil\\jumping_revisions\\deeplabcut\\videos\\020722\\PVCHA7LN\\020722_PVCHA7LN_control_12_SIDEcalib.avi\n"
     ]
    },
    {
     "name": "stderr",
     "output_type": "stream",
     "text": [
      "100%|████████████████████████████████████████████████████████████████████████████████| 310/310 [00:10<00:00, 28.84it/s]\n"
     ]
    },
    {
     "name": "stdout",
     "output_type": "stream",
     "text": [
      "undistorting T:\\Phil\\jumping_revisions\\deeplabcut\\videos\\020722\\PVCHA7LN\\020722_PVCHA7LN_control_SIDE_13.avi\n",
      "saving to T:\\Phil\\jumping_revisions\\deeplabcut\\videos\\020722\\PVCHA7LN\\020722_PVCHA7LN_control_13_SIDEcalib.avi\n"
     ]
    },
    {
     "name": "stderr",
     "output_type": "stream",
     "text": [
      "100%|████████████████████████████████████████████████████████████████████████████████| 302/302 [00:10<00:00, 28.85it/s]\n"
     ]
    },
    {
     "name": "stdout",
     "output_type": "stream",
     "text": [
      "undistorting T:\\Phil\\jumping_revisions\\deeplabcut\\videos\\020722\\PVCHA7LN\\020722_PVCHA7LN_control_SIDE_14.avi\n",
      "saving to T:\\Phil\\jumping_revisions\\deeplabcut\\videos\\020722\\PVCHA7LN\\020722_PVCHA7LN_control_14_SIDEcalib.avi\n"
     ]
    },
    {
     "name": "stderr",
     "output_type": "stream",
     "text": [
      "100%|████████████████████████████████████████████████████████████████████████████████| 307/307 [00:10<00:00, 28.88it/s]\n"
     ]
    },
    {
     "name": "stdout",
     "output_type": "stream",
     "text": [
      "undistorting T:\\Phil\\jumping_revisions\\deeplabcut\\videos\\020722\\PVCHA7LN\\020722_PVCHA7LN_control_SIDE_15.avi\n",
      "saving to T:\\Phil\\jumping_revisions\\deeplabcut\\videos\\020722\\PVCHA7LN\\020722_PVCHA7LN_control_15_SIDEcalib.avi\n"
     ]
    },
    {
     "name": "stderr",
     "output_type": "stream",
     "text": [
      "100%|████████████████████████████████████████████████████████████████████████████████| 492/492 [00:16<00:00, 28.95it/s]\n"
     ]
    },
    {
     "name": "stdout",
     "output_type": "stream",
     "text": [
      "undistorting T:\\Phil\\jumping_revisions\\deeplabcut\\videos\\020722\\PVCHA7LN\\020722_PVCHA7LN_control_SIDE_16.avi\n",
      "saving to T:\\Phil\\jumping_revisions\\deeplabcut\\videos\\020722\\PVCHA7LN\\020722_PVCHA7LN_control_16_SIDEcalib.avi\n"
     ]
    },
    {
     "name": "stderr",
     "output_type": "stream",
     "text": [
      "100%|████████████████████████████████████████████████████████████████████████████████| 490/490 [00:16<00:00, 29.00it/s]\n"
     ]
    },
    {
     "name": "stdout",
     "output_type": "stream",
     "text": [
      "undistorting T:\\Phil\\jumping_revisions\\deeplabcut\\videos\\020722\\PVCHA7LN\\020722_PVCHA7LN_control_SIDE_17.avi\n",
      "saving to T:\\Phil\\jumping_revisions\\deeplabcut\\videos\\020722\\PVCHA7LN\\020722_PVCHA7LN_control_17_SIDEcalib.avi\n"
     ]
    },
    {
     "name": "stderr",
     "output_type": "stream",
     "text": [
      "100%|████████████████████████████████████████████████████████████████████████████████| 412/412 [00:14<00:00, 28.89it/s]\n"
     ]
    },
    {
     "name": "stdout",
     "output_type": "stream",
     "text": [
      "undistorting T:\\Phil\\jumping_revisions\\deeplabcut\\videos\\020722\\PVCHA7LN\\020722_PVCHA7LN_control_SIDE_18.avi\n",
      "saving to T:\\Phil\\jumping_revisions\\deeplabcut\\videos\\020722\\PVCHA7LN\\020722_PVCHA7LN_control_18_SIDEcalib.avi\n"
     ]
    },
    {
     "name": "stderr",
     "output_type": "stream",
     "text": [
      "100%|████████████████████████████████████████████████████████████████████████████████| 413/413 [00:14<00:00, 28.93it/s]\n"
     ]
    },
    {
     "name": "stdout",
     "output_type": "stream",
     "text": [
      "undistorting T:\\Phil\\jumping_revisions\\deeplabcut\\videos\\020722\\PVCHA7LN\\020722_PVCHA7LN_control_SIDE_19.avi\n",
      "saving to T:\\Phil\\jumping_revisions\\deeplabcut\\videos\\020722\\PVCHA7LN\\020722_PVCHA7LN_control_19_SIDEcalib.avi\n"
     ]
    },
    {
     "name": "stderr",
     "output_type": "stream",
     "text": [
      "100%|████████████████████████████████████████████████████████████████████████████████| 581/581 [00:20<00:00, 28.95it/s]\n"
     ]
    },
    {
     "name": "stdout",
     "output_type": "stream",
     "text": [
      "undistorting T:\\Phil\\jumping_revisions\\deeplabcut\\videos\\020722\\PVCHA7LN\\020722_PVCHA7LN_control_SIDE_2.avi\n",
      "saving to T:\\Phil\\jumping_revisions\\deeplabcut\\videos\\020722\\PVCHA7LN\\020722_PVCHA7LN_control_2_SIDEcalib.avi\n"
     ]
    },
    {
     "name": "stderr",
     "output_type": "stream",
     "text": [
      "100%|████████████████████████████████████████████████████████████████████████████████| 604/604 [00:20<00:00, 28.94it/s]\n"
     ]
    },
    {
     "name": "stdout",
     "output_type": "stream",
     "text": [
      "undistorting T:\\Phil\\jumping_revisions\\deeplabcut\\videos\\020722\\PVCHA7LN\\020722_PVCHA7LN_control_SIDE_20.avi\n",
      "saving to T:\\Phil\\jumping_revisions\\deeplabcut\\videos\\020722\\PVCHA7LN\\020722_PVCHA7LN_control_20_SIDEcalib.avi\n"
     ]
    },
    {
     "name": "stderr",
     "output_type": "stream",
     "text": [
      "100%|████████████████████████████████████████████████████████████████████████████████| 457/457 [00:15<00:00, 28.90it/s]\n"
     ]
    },
    {
     "name": "stdout",
     "output_type": "stream",
     "text": [
      "undistorting T:\\Phil\\jumping_revisions\\deeplabcut\\videos\\020722\\PVCHA7LN\\020722_PVCHA7LN_control_SIDE_21.avi\n",
      "saving to T:\\Phil\\jumping_revisions\\deeplabcut\\videos\\020722\\PVCHA7LN\\020722_PVCHA7LN_control_21_SIDEcalib.avi\n"
     ]
    },
    {
     "name": "stderr",
     "output_type": "stream",
     "text": [
      "100%|████████████████████████████████████████████████████████████████████████████████| 410/410 [00:15<00:00, 26.38it/s]\n"
     ]
    },
    {
     "name": "stdout",
     "output_type": "stream",
     "text": [
      "undistorting T:\\Phil\\jumping_revisions\\deeplabcut\\videos\\020722\\PVCHA7LN\\020722_PVCHA7LN_control_SIDE_22.avi\n",
      "saving to T:\\Phil\\jumping_revisions\\deeplabcut\\videos\\020722\\PVCHA7LN\\020722_PVCHA7LN_control_22_SIDEcalib.avi\n"
     ]
    },
    {
     "name": "stderr",
     "output_type": "stream",
     "text": [
      "100%|████████████████████████████████████████████████████████████████████████████████| 328/328 [00:11<00:00, 28.81it/s]\n"
     ]
    },
    {
     "name": "stdout",
     "output_type": "stream",
     "text": [
      "undistorting T:\\Phil\\jumping_revisions\\deeplabcut\\videos\\020722\\PVCHA7LN\\020722_PVCHA7LN_control_SIDE_23.avi\n",
      "saving to T:\\Phil\\jumping_revisions\\deeplabcut\\videos\\020722\\PVCHA7LN\\020722_PVCHA7LN_control_23_SIDEcalib.avi\n"
     ]
    },
    {
     "name": "stderr",
     "output_type": "stream",
     "text": [
      "100%|████████████████████████████████████████████████████████████████████████████████| 376/376 [00:13<00:00, 27.04it/s]\n"
     ]
    },
    {
     "name": "stdout",
     "output_type": "stream",
     "text": [
      "undistorting T:\\Phil\\jumping_revisions\\deeplabcut\\videos\\020722\\PVCHA7LN\\020722_PVCHA7LN_control_SIDE_24.avi\n",
      "saving to T:\\Phil\\jumping_revisions\\deeplabcut\\videos\\020722\\PVCHA7LN\\020722_PVCHA7LN_control_24_SIDEcalib.avi\n"
     ]
    },
    {
     "name": "stderr",
     "output_type": "stream",
     "text": [
      "100%|████████████████████████████████████████████████████████████████████████████████| 847/847 [00:29<00:00, 28.97it/s]\n"
     ]
    },
    {
     "name": "stdout",
     "output_type": "stream",
     "text": [
      "undistorting T:\\Phil\\jumping_revisions\\deeplabcut\\videos\\020722\\PVCHA7LN\\020722_PVCHA7LN_control_SIDE_25.avi\n",
      "saving to T:\\Phil\\jumping_revisions\\deeplabcut\\videos\\020722\\PVCHA7LN\\020722_PVCHA7LN_control_25_SIDEcalib.avi\n"
     ]
    },
    {
     "name": "stderr",
     "output_type": "stream",
     "text": [
      "100%|████████████████████████████████████████████████████████████████████████████████| 418/418 [00:15<00:00, 26.98it/s]\n"
     ]
    },
    {
     "name": "stdout",
     "output_type": "stream",
     "text": [
      "undistorting T:\\Phil\\jumping_revisions\\deeplabcut\\videos\\020722\\PVCHA7LN\\020722_PVCHA7LN_control_SIDE_26.avi\n",
      "saving to T:\\Phil\\jumping_revisions\\deeplabcut\\videos\\020722\\PVCHA7LN\\020722_PVCHA7LN_control_26_SIDEcalib.avi\n"
     ]
    },
    {
     "name": "stderr",
     "output_type": "stream",
     "text": [
      "100%|████████████████████████████████████████████████████████████████████████████████| 326/326 [00:11<00:00, 28.82it/s]\n"
     ]
    },
    {
     "name": "stdout",
     "output_type": "stream",
     "text": [
      "undistorting T:\\Phil\\jumping_revisions\\deeplabcut\\videos\\020722\\PVCHA7LN\\020722_PVCHA7LN_control_SIDE_27.avi\n",
      "saving to T:\\Phil\\jumping_revisions\\deeplabcut\\videos\\020722\\PVCHA7LN\\020722_PVCHA7LN_control_27_SIDEcalib.avi\n"
     ]
    },
    {
     "name": "stderr",
     "output_type": "stream",
     "text": [
      "100%|████████████████████████████████████████████████████████████████████████████████| 867/867 [00:33<00:00, 26.03it/s]\n"
     ]
    },
    {
     "name": "stdout",
     "output_type": "stream",
     "text": [
      "undistorting T:\\Phil\\jumping_revisions\\deeplabcut\\videos\\020722\\PVCHA7LN\\020722_PVCHA7LN_control_SIDE_28.avi\n",
      "saving to T:\\Phil\\jumping_revisions\\deeplabcut\\videos\\020722\\PVCHA7LN\\020722_PVCHA7LN_control_28_SIDEcalib.avi\n"
     ]
    },
    {
     "name": "stderr",
     "output_type": "stream",
     "text": [
      "100%|████████████████████████████████████████████████████████████████████████████████| 357/357 [00:12<00:00, 28.86it/s]\n"
     ]
    },
    {
     "name": "stdout",
     "output_type": "stream",
     "text": [
      "undistorting T:\\Phil\\jumping_revisions\\deeplabcut\\videos\\020722\\PVCHA7LN\\020722_PVCHA7LN_control_SIDE_29.avi\n",
      "saving to T:\\Phil\\jumping_revisions\\deeplabcut\\videos\\020722\\PVCHA7LN\\020722_PVCHA7LN_control_29_SIDEcalib.avi\n"
     ]
    },
    {
     "name": "stderr",
     "output_type": "stream",
     "text": [
      "100%|████████████████████████████████████████████████████████████████████████████████| 311/311 [00:12<00:00, 25.85it/s]\n"
     ]
    },
    {
     "name": "stdout",
     "output_type": "stream",
     "text": [
      "undistorting T:\\Phil\\jumping_revisions\\deeplabcut\\videos\\020722\\PVCHA7LN\\020722_PVCHA7LN_control_SIDE_3.avi\n",
      "saving to T:\\Phil\\jumping_revisions\\deeplabcut\\videos\\020722\\PVCHA7LN\\020722_PVCHA7LN_control_3_SIDEcalib.avi\n"
     ]
    },
    {
     "name": "stderr",
     "output_type": "stream",
     "text": [
      "100%|████████████████████████████████████████████████████████████████████████████████| 258/258 [00:08<00:00, 28.80it/s]\n"
     ]
    },
    {
     "name": "stdout",
     "output_type": "stream",
     "text": [
      "undistorting T:\\Phil\\jumping_revisions\\deeplabcut\\videos\\020722\\PVCHA7LN\\020722_PVCHA7LN_control_SIDE_30.avi\n",
      "saving to T:\\Phil\\jumping_revisions\\deeplabcut\\videos\\020722\\PVCHA7LN\\020722_PVCHA7LN_control_30_SIDEcalib.avi\n"
     ]
    },
    {
     "name": "stderr",
     "output_type": "stream",
     "text": [
      "100%|████████████████████████████████████████████████████████████████████████████████| 421/421 [00:14<00:00, 28.90it/s]\n"
     ]
    },
    {
     "name": "stdout",
     "output_type": "stream",
     "text": [
      "undistorting T:\\Phil\\jumping_revisions\\deeplabcut\\videos\\020722\\PVCHA7LN\\020722_PVCHA7LN_control_SIDE_31.avi\n",
      "saving to T:\\Phil\\jumping_revisions\\deeplabcut\\videos\\020722\\PVCHA7LN\\020722_PVCHA7LN_control_31_SIDEcalib.avi\n"
     ]
    },
    {
     "name": "stderr",
     "output_type": "stream",
     "text": [
      "100%|████████████████████████████████████████████████████████████████████████████████| 401/401 [00:15<00:00, 26.42it/s]\n"
     ]
    },
    {
     "name": "stdout",
     "output_type": "stream",
     "text": [
      "undistorting T:\\Phil\\jumping_revisions\\deeplabcut\\videos\\020722\\PVCHA7LN\\020722_PVCHA7LN_control_SIDE_32.avi\n",
      "saving to T:\\Phil\\jumping_revisions\\deeplabcut\\videos\\020722\\PVCHA7LN\\020722_PVCHA7LN_control_32_SIDEcalib.avi\n"
     ]
    },
    {
     "name": "stderr",
     "output_type": "stream",
     "text": [
      "100%|████████████████████████████████████████████████████████████████████████████████| 389/389 [00:13<00:00, 28.88it/s]\n"
     ]
    },
    {
     "name": "stdout",
     "output_type": "stream",
     "text": [
      "undistorting T:\\Phil\\jumping_revisions\\deeplabcut\\videos\\020722\\PVCHA7LN\\020722_PVCHA7LN_control_SIDE_33.avi\n",
      "saving to T:\\Phil\\jumping_revisions\\deeplabcut\\videos\\020722\\PVCHA7LN\\020722_PVCHA7LN_control_33_SIDEcalib.avi\n"
     ]
    },
    {
     "name": "stderr",
     "output_type": "stream",
     "text": [
      "100%|████████████████████████████████████████████████████████████████████████████████| 402/402 [00:14<00:00, 26.92it/s]\n"
     ]
    },
    {
     "name": "stdout",
     "output_type": "stream",
     "text": [
      "undistorting T:\\Phil\\jumping_revisions\\deeplabcut\\videos\\020722\\PVCHA7LN\\020722_PVCHA7LN_control_SIDE_34.avi\n",
      "saving to T:\\Phil\\jumping_revisions\\deeplabcut\\videos\\020722\\PVCHA7LN\\020722_PVCHA7LN_control_34_SIDEcalib.avi\n"
     ]
    },
    {
     "name": "stderr",
     "output_type": "stream",
     "text": [
      "100%|████████████████████████████████████████████████████████████████████████████████| 346/346 [00:11<00:00, 28.92it/s]\n"
     ]
    },
    {
     "name": "stdout",
     "output_type": "stream",
     "text": [
      "undistorting T:\\Phil\\jumping_revisions\\deeplabcut\\videos\\020722\\PVCHA7LN\\020722_PVCHA7LN_control_SIDE_35.avi\n",
      "saving to T:\\Phil\\jumping_revisions\\deeplabcut\\videos\\020722\\PVCHA7LN\\020722_PVCHA7LN_control_35_SIDEcalib.avi\n"
     ]
    },
    {
     "name": "stderr",
     "output_type": "stream",
     "text": [
      "100%|████████████████████████████████████████████████████████████████████████████████| 313/313 [00:12<00:00, 26.02it/s]\n"
     ]
    },
    {
     "name": "stdout",
     "output_type": "stream",
     "text": [
      "undistorting T:\\Phil\\jumping_revisions\\deeplabcut\\videos\\020722\\PVCHA7LN\\020722_PVCHA7LN_control_SIDE_36.avi\n",
      "saving to T:\\Phil\\jumping_revisions\\deeplabcut\\videos\\020722\\PVCHA7LN\\020722_PVCHA7LN_control_36_SIDEcalib.avi\n"
     ]
    },
    {
     "name": "stderr",
     "output_type": "stream",
     "text": [
      "100%|████████████████████████████████████████████████████████████████████████████████| 432/432 [00:14<00:00, 28.90it/s]\n"
     ]
    },
    {
     "name": "stdout",
     "output_type": "stream",
     "text": [
      "undistorting T:\\Phil\\jumping_revisions\\deeplabcut\\videos\\020722\\PVCHA7LN\\020722_PVCHA7LN_control_SIDE_37.avi\n",
      "saving to T:\\Phil\\jumping_revisions\\deeplabcut\\videos\\020722\\PVCHA7LN\\020722_PVCHA7LN_control_37_SIDEcalib.avi\n"
     ]
    },
    {
     "name": "stderr",
     "output_type": "stream",
     "text": [
      "100%|████████████████████████████████████████████████████████████████████████████████| 363/363 [00:14<00:00, 25.78it/s]\n"
     ]
    },
    {
     "name": "stdout",
     "output_type": "stream",
     "text": [
      "undistorting T:\\Phil\\jumping_revisions\\deeplabcut\\videos\\020722\\PVCHA7LN\\020722_PVCHA7LN_control_SIDE_38.avi\n",
      "saving to T:\\Phil\\jumping_revisions\\deeplabcut\\videos\\020722\\PVCHA7LN\\020722_PVCHA7LN_control_38_SIDEcalib.avi\n"
     ]
    },
    {
     "name": "stderr",
     "output_type": "stream",
     "text": [
      "100%|████████████████████████████████████████████████████████████████████████████████| 329/329 [00:11<00:00, 28.87it/s]\n"
     ]
    },
    {
     "name": "stdout",
     "output_type": "stream",
     "text": [
      "undistorting T:\\Phil\\jumping_revisions\\deeplabcut\\videos\\020722\\PVCHA7LN\\020722_PVCHA7LN_control_SIDE_39.avi\n",
      "saving to T:\\Phil\\jumping_revisions\\deeplabcut\\videos\\020722\\PVCHA7LN\\020722_PVCHA7LN_control_39_SIDEcalib.avi\n"
     ]
    },
    {
     "name": "stderr",
     "output_type": "stream",
     "text": [
      "100%|████████████████████████████████████████████████████████████████████████████████| 663/663 [00:26<00:00, 24.99it/s]\n"
     ]
    },
    {
     "name": "stdout",
     "output_type": "stream",
     "text": [
      "undistorting T:\\Phil\\jumping_revisions\\deeplabcut\\videos\\020722\\PVCHA7LN\\020722_PVCHA7LN_control_SIDE_4.avi\n",
      "saving to T:\\Phil\\jumping_revisions\\deeplabcut\\videos\\020722\\PVCHA7LN\\020722_PVCHA7LN_control_4_SIDEcalib.avi\n"
     ]
    },
    {
     "name": "stderr",
     "output_type": "stream",
     "text": [
      "100%|████████████████████████████████████████████████████████████████████████████████| 301/301 [00:10<00:00, 28.91it/s]\n"
     ]
    },
    {
     "name": "stdout",
     "output_type": "stream",
     "text": [
      "undistorting T:\\Phil\\jumping_revisions\\deeplabcut\\videos\\020722\\PVCHA7LN\\020722_PVCHA7LN_control_SIDE_40.avi\n",
      "saving to T:\\Phil\\jumping_revisions\\deeplabcut\\videos\\020722\\PVCHA7LN\\020722_PVCHA7LN_control_40_SIDEcalib.avi\n"
     ]
    },
    {
     "name": "stderr",
     "output_type": "stream",
     "text": [
      "100%|████████████████████████████████████████████████████████████████████████████████| 394/394 [00:13<00:00, 28.85it/s]\n"
     ]
    },
    {
     "name": "stdout",
     "output_type": "stream",
     "text": [
      "undistorting T:\\Phil\\jumping_revisions\\deeplabcut\\videos\\020722\\PVCHA7LN\\020722_PVCHA7LN_control_SIDE_41.avi\n",
      "saving to T:\\Phil\\jumping_revisions\\deeplabcut\\videos\\020722\\PVCHA7LN\\020722_PVCHA7LN_control_41_SIDEcalib.avi\n"
     ]
    },
    {
     "name": "stderr",
     "output_type": "stream",
     "text": [
      "100%|████████████████████████████████████████████████████████████████████████████████| 467/467 [00:18<00:00, 24.83it/s]\n"
     ]
    },
    {
     "name": "stdout",
     "output_type": "stream",
     "text": [
      "undistorting T:\\Phil\\jumping_revisions\\deeplabcut\\videos\\020722\\PVCHA7LN\\020722_PVCHA7LN_control_SIDE_42.avi\n",
      "saving to T:\\Phil\\jumping_revisions\\deeplabcut\\videos\\020722\\PVCHA7LN\\020722_PVCHA7LN_control_42_SIDEcalib.avi\n"
     ]
    },
    {
     "name": "stderr",
     "output_type": "stream",
     "text": [
      "100%|████████████████████████████████████████████████████████████████████████████████| 306/306 [00:10<00:00, 28.61it/s]\n"
     ]
    },
    {
     "name": "stdout",
     "output_type": "stream",
     "text": [
      "undistorting T:\\Phil\\jumping_revisions\\deeplabcut\\videos\\020722\\PVCHA7LN\\020722_PVCHA7LN_control_SIDE_43.avi\n",
      "saving to T:\\Phil\\jumping_revisions\\deeplabcut\\videos\\020722\\PVCHA7LN\\020722_PVCHA7LN_control_43_SIDEcalib.avi\n"
     ]
    },
    {
     "name": "stderr",
     "output_type": "stream",
     "text": [
      "100%|████████████████████████████████████████████████████████████████████████████████| 356/356 [00:13<00:00, 25.64it/s]\n"
     ]
    },
    {
     "name": "stdout",
     "output_type": "stream",
     "text": [
      "undistorting T:\\Phil\\jumping_revisions\\deeplabcut\\videos\\020722\\PVCHA7LN\\020722_PVCHA7LN_control_SIDE_44.avi\n",
      "saving to T:\\Phil\\jumping_revisions\\deeplabcut\\videos\\020722\\PVCHA7LN\\020722_PVCHA7LN_control_44_SIDEcalib.avi\n"
     ]
    },
    {
     "name": "stderr",
     "output_type": "stream",
     "text": [
      "100%|████████████████████████████████████████████████████████████████████████████████| 456/456 [00:15<00:00, 28.91it/s]\n"
     ]
    },
    {
     "name": "stdout",
     "output_type": "stream",
     "text": [
      "undistorting T:\\Phil\\jumping_revisions\\deeplabcut\\videos\\020722\\PVCHA7LN\\020722_PVCHA7LN_control_SIDE_45.avi\n",
      "saving to T:\\Phil\\jumping_revisions\\deeplabcut\\videos\\020722\\PVCHA7LN\\020722_PVCHA7LN_control_45_SIDEcalib.avi\n"
     ]
    },
    {
     "name": "stderr",
     "output_type": "stream",
     "text": [
      "100%|████████████████████████████████████████████████████████████████████████████████| 317/317 [00:12<00:00, 24.82it/s]\n"
     ]
    },
    {
     "name": "stdout",
     "output_type": "stream",
     "text": [
      "undistorting T:\\Phil\\jumping_revisions\\deeplabcut\\videos\\020722\\PVCHA7LN\\020722_PVCHA7LN_control_SIDE_46.avi\n",
      "saving to T:\\Phil\\jumping_revisions\\deeplabcut\\videos\\020722\\PVCHA7LN\\020722_PVCHA7LN_control_46_SIDEcalib.avi\n"
     ]
    },
    {
     "name": "stderr",
     "output_type": "stream",
     "text": [
      "100%|████████████████████████████████████████████████████████████████████████████████| 331/331 [00:11<00:00, 28.95it/s]\n"
     ]
    },
    {
     "name": "stdout",
     "output_type": "stream",
     "text": [
      "undistorting T:\\Phil\\jumping_revisions\\deeplabcut\\videos\\020722\\PVCHA7LN\\020722_PVCHA7LN_control_SIDE_47.avi\n",
      "saving to T:\\Phil\\jumping_revisions\\deeplabcut\\videos\\020722\\PVCHA7LN\\020722_PVCHA7LN_control_47_SIDEcalib.avi\n"
     ]
    },
    {
     "name": "stderr",
     "output_type": "stream",
     "text": [
      "100%|████████████████████████████████████████████████████████████████████████████████| 493/493 [00:19<00:00, 25.07it/s]\n"
     ]
    },
    {
     "name": "stdout",
     "output_type": "stream",
     "text": [
      "undistorting T:\\Phil\\jumping_revisions\\deeplabcut\\videos\\020722\\PVCHA7LN\\020722_PVCHA7LN_control_SIDE_48.avi\n",
      "saving to T:\\Phil\\jumping_revisions\\deeplabcut\\videos\\020722\\PVCHA7LN\\020722_PVCHA7LN_control_48_SIDEcalib.avi\n"
     ]
    },
    {
     "name": "stderr",
     "output_type": "stream",
     "text": [
      "100%|████████████████████████████████████████████████████████████████████████████████| 608/608 [00:21<00:00, 28.91it/s]\n"
     ]
    },
    {
     "name": "stdout",
     "output_type": "stream",
     "text": [
      "undistorting T:\\Phil\\jumping_revisions\\deeplabcut\\videos\\020722\\PVCHA7LN\\020722_PVCHA7LN_control_SIDE_49.avi\n",
      "saving to T:\\Phil\\jumping_revisions\\deeplabcut\\videos\\020722\\PVCHA7LN\\020722_PVCHA7LN_control_49_SIDEcalib.avi\n"
     ]
    },
    {
     "name": "stderr",
     "output_type": "stream",
     "text": [
      "100%|██████████████████████████████████████████████████████████████████████████████| 1416/1416 [00:56<00:00, 25.24it/s]\n"
     ]
    },
    {
     "name": "stdout",
     "output_type": "stream",
     "text": [
      "undistorting T:\\Phil\\jumping_revisions\\deeplabcut\\videos\\020722\\PVCHA7LN\\020722_PVCHA7LN_control_SIDE_5.avi\n",
      "saving to T:\\Phil\\jumping_revisions\\deeplabcut\\videos\\020722\\PVCHA7LN\\020722_PVCHA7LN_control_5_SIDEcalib.avi\n"
     ]
    },
    {
     "name": "stderr",
     "output_type": "stream",
     "text": [
      "100%|████████████████████████████████████████████████████████████████████████████████| 414/414 [00:14<00:00, 28.80it/s]\n"
     ]
    },
    {
     "name": "stdout",
     "output_type": "stream",
     "text": [
      "undistorting T:\\Phil\\jumping_revisions\\deeplabcut\\videos\\020722\\PVCHA7LN\\020722_PVCHA7LN_control_SIDE_6.avi\n",
      "saving to T:\\Phil\\jumping_revisions\\deeplabcut\\videos\\020722\\PVCHA7LN\\020722_PVCHA7LN_control_6_SIDEcalib.avi\n"
     ]
    },
    {
     "name": "stderr",
     "output_type": "stream",
     "text": [
      "100%|████████████████████████████████████████████████████████████████████████████████| 281/281 [00:09<00:00, 28.80it/s]\n"
     ]
    },
    {
     "name": "stdout",
     "output_type": "stream",
     "text": [
      "undistorting T:\\Phil\\jumping_revisions\\deeplabcut\\videos\\020722\\PVCHA7LN\\020722_PVCHA7LN_control_SIDE_7.avi\n",
      "saving to T:\\Phil\\jumping_revisions\\deeplabcut\\videos\\020722\\PVCHA7LN\\020722_PVCHA7LN_control_7_SIDEcalib.avi\n"
     ]
    },
    {
     "name": "stderr",
     "output_type": "stream",
     "text": [
      "100%|████████████████████████████████████████████████████████████████████████████████| 313/313 [00:11<00:00, 26.36it/s]\n"
     ]
    },
    {
     "name": "stdout",
     "output_type": "stream",
     "text": [
      "undistorting T:\\Phil\\jumping_revisions\\deeplabcut\\videos\\020722\\PVCHA7LN\\020722_PVCHA7LN_control_SIDE_8.avi\n",
      "saving to T:\\Phil\\jumping_revisions\\deeplabcut\\videos\\020722\\PVCHA7LN\\020722_PVCHA7LN_control_8_SIDEcalib.avi\n"
     ]
    },
    {
     "name": "stderr",
     "output_type": "stream",
     "text": [
      "100%|████████████████████████████████████████████████████████████████████████████████| 352/352 [00:12<00:00, 28.88it/s]\n"
     ]
    },
    {
     "name": "stdout",
     "output_type": "stream",
     "text": [
      "undistorting T:\\Phil\\jumping_revisions\\deeplabcut\\videos\\020722\\PVCHA7LN\\020722_PVCHA7LN_control_SIDE_9.avi\n",
      "saving to T:\\Phil\\jumping_revisions\\deeplabcut\\videos\\020722\\PVCHA7LN\\020722_PVCHA7LN_control_9_SIDEcalib.avi\n"
     ]
    },
    {
     "name": "stderr",
     "output_type": "stream",
     "text": [
      "100%|████████████████████████████████████████████████████████████████████████████████| 319/319 [00:11<00:00, 26.80it/s]\n"
     ]
    },
    {
     "name": "stdout",
     "output_type": "stream",
     "text": [
      "undistorting T:\\Phil\\jumping_revisions\\deeplabcut\\videos\\020722\\PVCHA7LT\\020722_PVCHA7LT_control_SIDE_0.avi\n",
      "saving to T:\\Phil\\jumping_revisions\\deeplabcut\\videos\\020722\\PVCHA7LT\\020722_PVCHA7LT_control_0_SIDEcalib.avi\n"
     ]
    },
    {
     "name": "stderr",
     "output_type": "stream",
     "text": [
      "100%|████████████████████████████████████████████████████████████████████████████████| 330/330 [00:11<00:00, 28.78it/s]\n"
     ]
    },
    {
     "name": "stdout",
     "output_type": "stream",
     "text": [
      "undistorting T:\\Phil\\jumping_revisions\\deeplabcut\\videos\\020722\\PVCHA7LT\\020722_PVCHA7LT_control_SIDE_1.avi\n",
      "saving to T:\\Phil\\jumping_revisions\\deeplabcut\\videos\\020722\\PVCHA7LT\\020722_PVCHA7LT_control_1_SIDEcalib.avi\n"
     ]
    },
    {
     "name": "stderr",
     "output_type": "stream",
     "text": [
      "100%|████████████████████████████████████████████████████████████████████████████████| 307/307 [00:10<00:00, 28.75it/s]\n"
     ]
    },
    {
     "name": "stdout",
     "output_type": "stream",
     "text": [
      "undistorting T:\\Phil\\jumping_revisions\\deeplabcut\\videos\\020722\\PVCHA7LT\\020722_PVCHA7LT_control_SIDE_10.avi\n",
      "saving to T:\\Phil\\jumping_revisions\\deeplabcut\\videos\\020722\\PVCHA7LT\\020722_PVCHA7LT_control_10_SIDEcalib.avi\n"
     ]
    },
    {
     "name": "stderr",
     "output_type": "stream",
     "text": [
      "100%|████████████████████████████████████████████████████████████████████████████████| 276/276 [00:09<00:00, 28.59it/s]\n"
     ]
    },
    {
     "name": "stdout",
     "output_type": "stream",
     "text": [
      "undistorting T:\\Phil\\jumping_revisions\\deeplabcut\\videos\\020722\\PVCHA7LT\\020722_PVCHA7LT_control_SIDE_11.avi\n",
      "saving to T:\\Phil\\jumping_revisions\\deeplabcut\\videos\\020722\\PVCHA7LT\\020722_PVCHA7LT_control_11_SIDEcalib.avi\n"
     ]
    },
    {
     "name": "stderr",
     "output_type": "stream",
     "text": [
      "100%|████████████████████████████████████████████████████████████████████████████████| 284/284 [00:09<00:00, 28.72it/s]\n"
     ]
    },
    {
     "name": "stdout",
     "output_type": "stream",
     "text": [
      "undistorting T:\\Phil\\jumping_revisions\\deeplabcut\\videos\\020722\\PVCHA7LT\\020722_PVCHA7LT_control_SIDE_12.avi\n",
      "saving to T:\\Phil\\jumping_revisions\\deeplabcut\\videos\\020722\\PVCHA7LT\\020722_PVCHA7LT_control_12_SIDEcalib.avi\n"
     ]
    },
    {
     "name": "stderr",
     "output_type": "stream",
     "text": [
      "100%|████████████████████████████████████████████████████████████████████████████████| 298/298 [00:10<00:00, 28.66it/s]\n"
     ]
    },
    {
     "name": "stdout",
     "output_type": "stream",
     "text": [
      "undistorting T:\\Phil\\jumping_revisions\\deeplabcut\\videos\\020722\\PVCHA7LT\\020722_PVCHA7LT_control_SIDE_13.avi\n",
      "saving to T:\\Phil\\jumping_revisions\\deeplabcut\\videos\\020722\\PVCHA7LT\\020722_PVCHA7LT_control_13_SIDEcalib.avi\n"
     ]
    },
    {
     "name": "stderr",
     "output_type": "stream",
     "text": [
      "100%|████████████████████████████████████████████████████████████████████████████████| 373/373 [00:12<00:00, 28.76it/s]\n"
     ]
    },
    {
     "name": "stdout",
     "output_type": "stream",
     "text": [
      "undistorting T:\\Phil\\jumping_revisions\\deeplabcut\\videos\\020722\\PVCHA7LT\\020722_PVCHA7LT_control_SIDE_14.avi\n",
      "saving to T:\\Phil\\jumping_revisions\\deeplabcut\\videos\\020722\\PVCHA7LT\\020722_PVCHA7LT_control_14_SIDEcalib.avi\n"
     ]
    },
    {
     "name": "stderr",
     "output_type": "stream",
     "text": [
      "100%|████████████████████████████████████████████████████████████████████████████████| 267/267 [00:09<00:00, 28.77it/s]\n"
     ]
    },
    {
     "name": "stdout",
     "output_type": "stream",
     "text": [
      "undistorting T:\\Phil\\jumping_revisions\\deeplabcut\\videos\\020722\\PVCHA7LT\\020722_PVCHA7LT_control_SIDE_15.avi\n",
      "saving to T:\\Phil\\jumping_revisions\\deeplabcut\\videos\\020722\\PVCHA7LT\\020722_PVCHA7LT_control_15_SIDEcalib.avi\n"
     ]
    },
    {
     "name": "stderr",
     "output_type": "stream",
     "text": [
      "100%|████████████████████████████████████████████████████████████████████████████████| 292/292 [00:10<00:00, 28.74it/s]\n"
     ]
    },
    {
     "name": "stdout",
     "output_type": "stream",
     "text": [
      "undistorting T:\\Phil\\jumping_revisions\\deeplabcut\\videos\\020722\\PVCHA7LT\\020722_PVCHA7LT_control_SIDE_16.avi\n",
      "saving to T:\\Phil\\jumping_revisions\\deeplabcut\\videos\\020722\\PVCHA7LT\\020722_PVCHA7LT_control_16_SIDEcalib.avi\n"
     ]
    },
    {
     "name": "stderr",
     "output_type": "stream",
     "text": [
      "100%|████████████████████████████████████████████████████████████████████████████████| 268/268 [00:09<00:00, 28.78it/s]\n"
     ]
    },
    {
     "name": "stdout",
     "output_type": "stream",
     "text": [
      "undistorting T:\\Phil\\jumping_revisions\\deeplabcut\\videos\\020722\\PVCHA7LT\\020722_PVCHA7LT_control_SIDE_17.avi\n",
      "saving to T:\\Phil\\jumping_revisions\\deeplabcut\\videos\\020722\\PVCHA7LT\\020722_PVCHA7LT_control_17_SIDEcalib.avi\n"
     ]
    },
    {
     "name": "stderr",
     "output_type": "stream",
     "text": [
      "100%|████████████████████████████████████████████████████████████████████████████████| 248/248 [00:08<00:00, 28.73it/s]\n"
     ]
    },
    {
     "name": "stdout",
     "output_type": "stream",
     "text": [
      "undistorting T:\\Phil\\jumping_revisions\\deeplabcut\\videos\\020722\\PVCHA7LT\\020722_PVCHA7LT_control_SIDE_18.avi\n",
      "saving to T:\\Phil\\jumping_revisions\\deeplabcut\\videos\\020722\\PVCHA7LT\\020722_PVCHA7LT_control_18_SIDEcalib.avi\n"
     ]
    },
    {
     "name": "stderr",
     "output_type": "stream",
     "text": [
      "100%|████████████████████████████████████████████████████████████████████████████████| 476/476 [00:16<00:00, 28.73it/s]\n"
     ]
    },
    {
     "name": "stdout",
     "output_type": "stream",
     "text": [
      "undistorting T:\\Phil\\jumping_revisions\\deeplabcut\\videos\\020722\\PVCHA7LT\\020722_PVCHA7LT_control_SIDE_19.avi\n",
      "saving to T:\\Phil\\jumping_revisions\\deeplabcut\\videos\\020722\\PVCHA7LT\\020722_PVCHA7LT_control_19_SIDEcalib.avi\n"
     ]
    },
    {
     "name": "stderr",
     "output_type": "stream",
     "text": [
      "100%|████████████████████████████████████████████████████████████████████████████████| 311/311 [00:10<00:00, 28.72it/s]\n"
     ]
    },
    {
     "name": "stdout",
     "output_type": "stream",
     "text": [
      "undistorting T:\\Phil\\jumping_revisions\\deeplabcut\\videos\\020722\\PVCHA7LT\\020722_PVCHA7LT_control_SIDE_2.avi\n",
      "saving to T:\\Phil\\jumping_revisions\\deeplabcut\\videos\\020722\\PVCHA7LT\\020722_PVCHA7LT_control_2_SIDEcalib.avi\n"
     ]
    },
    {
     "name": "stderr",
     "output_type": "stream",
     "text": [
      "100%|████████████████████████████████████████████████████████████████████████████████| 362/362 [00:12<00:00, 28.80it/s]\n"
     ]
    },
    {
     "name": "stdout",
     "output_type": "stream",
     "text": [
      "undistorting T:\\Phil\\jumping_revisions\\deeplabcut\\videos\\020722\\PVCHA7LT\\020722_PVCHA7LT_control_SIDE_20.avi\n",
      "saving to T:\\Phil\\jumping_revisions\\deeplabcut\\videos\\020722\\PVCHA7LT\\020722_PVCHA7LT_control_20_SIDEcalib.avi\n"
     ]
    },
    {
     "name": "stderr",
     "output_type": "stream",
     "text": [
      "100%|████████████████████████████████████████████████████████████████████████████████| 264/264 [00:09<00:00, 28.61it/s]\n"
     ]
    },
    {
     "name": "stdout",
     "output_type": "stream",
     "text": [
      "undistorting T:\\Phil\\jumping_revisions\\deeplabcut\\videos\\020722\\PVCHA7LT\\020722_PVCHA7LT_control_SIDE_21.avi\n",
      "saving to T:\\Phil\\jumping_revisions\\deeplabcut\\videos\\020722\\PVCHA7LT\\020722_PVCHA7LT_control_21_SIDEcalib.avi\n"
     ]
    },
    {
     "name": "stderr",
     "output_type": "stream",
     "text": [
      "100%|████████████████████████████████████████████████████████████████████████████████| 280/280 [00:11<00:00, 24.73it/s]\n"
     ]
    },
    {
     "name": "stdout",
     "output_type": "stream",
     "text": [
      "undistorting T:\\Phil\\jumping_revisions\\deeplabcut\\videos\\020722\\PVCHA7LT\\020722_PVCHA7LT_control_SIDE_22.avi\n",
      "saving to T:\\Phil\\jumping_revisions\\deeplabcut\\videos\\020722\\PVCHA7LT\\020722_PVCHA7LT_control_22_SIDEcalib.avi\n"
     ]
    },
    {
     "name": "stderr",
     "output_type": "stream",
     "text": [
      "100%|████████████████████████████████████████████████████████████████████████████████| 503/503 [00:17<00:00, 28.76it/s]\n"
     ]
    },
    {
     "name": "stdout",
     "output_type": "stream",
     "text": [
      "undistorting T:\\Phil\\jumping_revisions\\deeplabcut\\videos\\020722\\PVCHA7LT\\020722_PVCHA7LT_control_SIDE_23.avi\n",
      "saving to T:\\Phil\\jumping_revisions\\deeplabcut\\videos\\020722\\PVCHA7LT\\020722_PVCHA7LT_control_23_SIDEcalib.avi\n"
     ]
    },
    {
     "name": "stderr",
     "output_type": "stream",
     "text": [
      "100%|████████████████████████████████████████████████████████████████████████████████| 331/331 [00:12<00:00, 25.51it/s]\n"
     ]
    },
    {
     "name": "stdout",
     "output_type": "stream",
     "text": [
      "undistorting T:\\Phil\\jumping_revisions\\deeplabcut\\videos\\020722\\PVCHA7LT\\020722_PVCHA7LT_control_SIDE_24.avi\n",
      "saving to T:\\Phil\\jumping_revisions\\deeplabcut\\videos\\020722\\PVCHA7LT\\020722_PVCHA7LT_control_24_SIDEcalib.avi\n"
     ]
    },
    {
     "name": "stderr",
     "output_type": "stream",
     "text": [
      "100%|████████████████████████████████████████████████████████████████████████████████| 336/336 [00:11<00:00, 28.78it/s]\n"
     ]
    },
    {
     "name": "stdout",
     "output_type": "stream",
     "text": [
      "undistorting T:\\Phil\\jumping_revisions\\deeplabcut\\videos\\020722\\PVCHA7LT\\020722_PVCHA7LT_control_SIDE_25.avi\n",
      "saving to T:\\Phil\\jumping_revisions\\deeplabcut\\videos\\020722\\PVCHA7LT\\020722_PVCHA7LT_control_25_SIDEcalib.avi\n"
     ]
    },
    {
     "name": "stderr",
     "output_type": "stream",
     "text": [
      "100%|████████████████████████████████████████████████████████████████████████████████| 296/296 [00:11<00:00, 24.74it/s]\n"
     ]
    },
    {
     "name": "stdout",
     "output_type": "stream",
     "text": [
      "undistorting T:\\Phil\\jumping_revisions\\deeplabcut\\videos\\020722\\PVCHA7LT\\020722_PVCHA7LT_control_SIDE_26.avi\n",
      "saving to T:\\Phil\\jumping_revisions\\deeplabcut\\videos\\020722\\PVCHA7LT\\020722_PVCHA7LT_control_26_SIDEcalib.avi\n"
     ]
    },
    {
     "name": "stderr",
     "output_type": "stream",
     "text": [
      "100%|████████████████████████████████████████████████████████████████████████████████| 301/301 [00:10<00:00, 28.77it/s]\n"
     ]
    },
    {
     "name": "stdout",
     "output_type": "stream",
     "text": [
      "undistorting T:\\Phil\\jumping_revisions\\deeplabcut\\videos\\020722\\PVCHA7LT\\020722_PVCHA7LT_control_SIDE_27.avi\n",
      "saving to T:\\Phil\\jumping_revisions\\deeplabcut\\videos\\020722\\PVCHA7LT\\020722_PVCHA7LT_control_27_SIDEcalib.avi\n"
     ]
    },
    {
     "name": "stderr",
     "output_type": "stream",
     "text": [
      "100%|████████████████████████████████████████████████████████████████████████████████| 303/303 [00:12<00:00, 24.85it/s]\n"
     ]
    },
    {
     "name": "stdout",
     "output_type": "stream",
     "text": [
      "undistorting T:\\Phil\\jumping_revisions\\deeplabcut\\videos\\020722\\PVCHA7LT\\020722_PVCHA7LT_control_SIDE_28.avi\n",
      "saving to T:\\Phil\\jumping_revisions\\deeplabcut\\videos\\020722\\PVCHA7LT\\020722_PVCHA7LT_control_28_SIDEcalib.avi\n"
     ]
    },
    {
     "name": "stderr",
     "output_type": "stream",
     "text": [
      "100%|████████████████████████████████████████████████████████████████████████████████| 338/338 [00:11<00:00, 28.80it/s]\n"
     ]
    },
    {
     "name": "stdout",
     "output_type": "stream",
     "text": [
      "undistorting T:\\Phil\\jumping_revisions\\deeplabcut\\videos\\020722\\PVCHA7LT\\020722_PVCHA7LT_control_SIDE_29.avi\n",
      "saving to T:\\Phil\\jumping_revisions\\deeplabcut\\videos\\020722\\PVCHA7LT\\020722_PVCHA7LT_control_29_SIDEcalib.avi\n"
     ]
    },
    {
     "name": "stderr",
     "output_type": "stream",
     "text": [
      "100%|████████████████████████████████████████████████████████████████████████████████| 373/373 [00:15<00:00, 24.82it/s]\n"
     ]
    },
    {
     "name": "stdout",
     "output_type": "stream",
     "text": [
      "undistorting T:\\Phil\\jumping_revisions\\deeplabcut\\videos\\020722\\PVCHA7LT\\020722_PVCHA7LT_control_SIDE_3.avi\n",
      "saving to T:\\Phil\\jumping_revisions\\deeplabcut\\videos\\020722\\PVCHA7LT\\020722_PVCHA7LT_control_3_SIDEcalib.avi\n"
     ]
    },
    {
     "name": "stderr",
     "output_type": "stream",
     "text": [
      "100%|████████████████████████████████████████████████████████████████████████████████| 283/283 [00:09<00:00, 28.79it/s]\n"
     ]
    },
    {
     "name": "stdout",
     "output_type": "stream",
     "text": [
      "undistorting T:\\Phil\\jumping_revisions\\deeplabcut\\videos\\020722\\PVCHA7LT\\020722_PVCHA7LT_control_SIDE_30.avi\n",
      "saving to T:\\Phil\\jumping_revisions\\deeplabcut\\videos\\020722\\PVCHA7LT\\020722_PVCHA7LT_control_30_SIDEcalib.avi\n"
     ]
    },
    {
     "name": "stderr",
     "output_type": "stream",
     "text": [
      "100%|████████████████████████████████████████████████████████████████████████████████| 281/281 [00:09<00:00, 28.74it/s]\n"
     ]
    },
    {
     "name": "stdout",
     "output_type": "stream",
     "text": [
      "undistorting T:\\Phil\\jumping_revisions\\deeplabcut\\videos\\020722\\PVCHA7LT\\020722_PVCHA7LT_control_SIDE_31.avi\n",
      "saving to T:\\Phil\\jumping_revisions\\deeplabcut\\videos\\020722\\PVCHA7LT\\020722_PVCHA7LT_control_31_SIDEcalib.avi\n"
     ]
    },
    {
     "name": "stderr",
     "output_type": "stream",
     "text": [
      "100%|████████████████████████████████████████████████████████████████████████████████| 245/245 [00:09<00:00, 24.68it/s]\n"
     ]
    },
    {
     "name": "stdout",
     "output_type": "stream",
     "text": [
      "undistorting T:\\Phil\\jumping_revisions\\deeplabcut\\videos\\020722\\PVCHA7LT\\020722_PVCHA7LT_control_SIDE_32.avi\n",
      "saving to T:\\Phil\\jumping_revisions\\deeplabcut\\videos\\020722\\PVCHA7LT\\020722_PVCHA7LT_control_32_SIDEcalib.avi\n"
     ]
    },
    {
     "name": "stderr",
     "output_type": "stream",
     "text": [
      "100%|████████████████████████████████████████████████████████████████████████████████| 242/242 [00:08<00:00, 28.67it/s]\n"
     ]
    },
    {
     "name": "stdout",
     "output_type": "stream",
     "text": [
      "undistorting T:\\Phil\\jumping_revisions\\deeplabcut\\videos\\020722\\PVCHA7LT\\020722_PVCHA7LT_control_SIDE_33.avi\n",
      "saving to T:\\Phil\\jumping_revisions\\deeplabcut\\videos\\020722\\PVCHA7LT\\020722_PVCHA7LT_control_33_SIDEcalib.avi\n"
     ]
    },
    {
     "name": "stderr",
     "output_type": "stream",
     "text": [
      "100%|████████████████████████████████████████████████████████████████████████████████| 271/271 [00:10<00:00, 25.52it/s]\n"
     ]
    },
    {
     "name": "stdout",
     "output_type": "stream",
     "text": [
      "undistorting T:\\Phil\\jumping_revisions\\deeplabcut\\videos\\020722\\PVCHA7LT\\020722_PVCHA7LT_control_SIDE_34.avi\n",
      "saving to T:\\Phil\\jumping_revisions\\deeplabcut\\videos\\020722\\PVCHA7LT\\020722_PVCHA7LT_control_34_SIDEcalib.avi\n"
     ]
    },
    {
     "name": "stderr",
     "output_type": "stream",
     "text": [
      "100%|████████████████████████████████████████████████████████████████████████████████| 300/300 [00:10<00:00, 28.74it/s]\n"
     ]
    },
    {
     "name": "stdout",
     "output_type": "stream",
     "text": [
      "undistorting T:\\Phil\\jumping_revisions\\deeplabcut\\videos\\020722\\PVCHA7LT\\020722_PVCHA7LT_control_SIDE_35.avi\n",
      "saving to T:\\Phil\\jumping_revisions\\deeplabcut\\videos\\020722\\PVCHA7LT\\020722_PVCHA7LT_control_35_SIDEcalib.avi\n"
     ]
    },
    {
     "name": "stderr",
     "output_type": "stream",
     "text": [
      "100%|████████████████████████████████████████████████████████████████████████████████| 252/252 [00:09<00:00, 25.38it/s]\n"
     ]
    },
    {
     "name": "stdout",
     "output_type": "stream",
     "text": [
      "undistorting T:\\Phil\\jumping_revisions\\deeplabcut\\videos\\020722\\PVCHA7LT\\020722_PVCHA7LT_control_SIDE_36.avi\n",
      "saving to T:\\Phil\\jumping_revisions\\deeplabcut\\videos\\020722\\PVCHA7LT\\020722_PVCHA7LT_control_36_SIDEcalib.avi\n"
     ]
    },
    {
     "name": "stderr",
     "output_type": "stream",
     "text": [
      "100%|████████████████████████████████████████████████████████████████████████████████| 325/325 [00:11<00:00, 28.79it/s]\n"
     ]
    },
    {
     "name": "stdout",
     "output_type": "stream",
     "text": [
      "undistorting T:\\Phil\\jumping_revisions\\deeplabcut\\videos\\020722\\PVCHA7LT\\020722_PVCHA7LT_control_SIDE_37.avi\n",
      "saving to T:\\Phil\\jumping_revisions\\deeplabcut\\videos\\020722\\PVCHA7LT\\020722_PVCHA7LT_control_37_SIDEcalib.avi\n"
     ]
    },
    {
     "name": "stderr",
     "output_type": "stream",
     "text": [
      "100%|████████████████████████████████████████████████████████████████████████████████| 224/224 [00:09<00:00, 24.53it/s]\n"
     ]
    },
    {
     "name": "stdout",
     "output_type": "stream",
     "text": [
      "undistorting T:\\Phil\\jumping_revisions\\deeplabcut\\videos\\020722\\PVCHA7LT\\020722_PVCHA7LT_control_SIDE_38.avi\n",
      "saving to T:\\Phil\\jumping_revisions\\deeplabcut\\videos\\020722\\PVCHA7LT\\020722_PVCHA7LT_control_38_SIDEcalib.avi\n"
     ]
    },
    {
     "name": "stderr",
     "output_type": "stream",
     "text": [
      "100%|████████████████████████████████████████████████████████████████████████████████| 238/238 [00:08<00:00, 28.74it/s]\n"
     ]
    },
    {
     "name": "stdout",
     "output_type": "stream",
     "text": [
      "undistorting T:\\Phil\\jumping_revisions\\deeplabcut\\videos\\020722\\PVCHA7LT\\020722_PVCHA7LT_control_SIDE_39.avi\n",
      "saving to T:\\Phil\\jumping_revisions\\deeplabcut\\videos\\020722\\PVCHA7LT\\020722_PVCHA7LT_control_39_SIDEcalib.avi\n"
     ]
    },
    {
     "name": "stderr",
     "output_type": "stream",
     "text": [
      "100%|████████████████████████████████████████████████████████████████████████████████| 265/265 [00:10<00:00, 24.99it/s]\n"
     ]
    },
    {
     "name": "stdout",
     "output_type": "stream",
     "text": [
      "undistorting T:\\Phil\\jumping_revisions\\deeplabcut\\videos\\020722\\PVCHA7LT\\020722_PVCHA7LT_control_SIDE_4.avi\n",
      "saving to T:\\Phil\\jumping_revisions\\deeplabcut\\videos\\020722\\PVCHA7LT\\020722_PVCHA7LT_control_4_SIDEcalib.avi\n"
     ]
    },
    {
     "name": "stderr",
     "output_type": "stream",
     "text": [
      "100%|████████████████████████████████████████████████████████████████████████████████| 240/240 [00:08<00:00, 28.82it/s]\n"
     ]
    },
    {
     "name": "stdout",
     "output_type": "stream",
     "text": [
      "undistorting T:\\Phil\\jumping_revisions\\deeplabcut\\videos\\020722\\PVCHA7LT\\020722_PVCHA7LT_control_SIDE_40.avi\n",
      "saving to T:\\Phil\\jumping_revisions\\deeplabcut\\videos\\020722\\PVCHA7LT\\020722_PVCHA7LT_control_40_SIDEcalib.avi\n"
     ]
    },
    {
     "name": "stderr",
     "output_type": "stream",
     "text": [
      "100%|████████████████████████████████████████████████████████████████████████████████| 299/299 [00:10<00:00, 28.68it/s]\n"
     ]
    },
    {
     "name": "stdout",
     "output_type": "stream",
     "text": [
      "undistorting T:\\Phil\\jumping_revisions\\deeplabcut\\videos\\020722\\PVCHA7LT\\020722_PVCHA7LT_control_SIDE_41.avi\n",
      "saving to T:\\Phil\\jumping_revisions\\deeplabcut\\videos\\020722\\PVCHA7LT\\020722_PVCHA7LT_control_41_SIDEcalib.avi\n"
     ]
    },
    {
     "name": "stderr",
     "output_type": "stream",
     "text": [
      "100%|████████████████████████████████████████████████████████████████████████████████| 223/223 [00:08<00:00, 27.16it/s]\n"
     ]
    },
    {
     "name": "stdout",
     "output_type": "stream",
     "text": [
      "undistorting T:\\Phil\\jumping_revisions\\deeplabcut\\videos\\020722\\PVCHA7LT\\020722_PVCHA7LT_control_SIDE_42.avi\n",
      "saving to T:\\Phil\\jumping_revisions\\deeplabcut\\videos\\020722\\PVCHA7LT\\020722_PVCHA7LT_control_42_SIDEcalib.avi\n"
     ]
    },
    {
     "name": "stderr",
     "output_type": "stream",
     "text": [
      "100%|████████████████████████████████████████████████████████████████████████████████| 349/349 [00:12<00:00, 28.71it/s]\n"
     ]
    },
    {
     "name": "stdout",
     "output_type": "stream",
     "text": [
      "undistorting T:\\Phil\\jumping_revisions\\deeplabcut\\videos\\020722\\PVCHA7LT\\020722_PVCHA7LT_control_SIDE_43.avi\n",
      "saving to T:\\Phil\\jumping_revisions\\deeplabcut\\videos\\020722\\PVCHA7LT\\020722_PVCHA7LT_control_43_SIDEcalib.avi\n"
     ]
    },
    {
     "name": "stderr",
     "output_type": "stream",
     "text": [
      "100%|████████████████████████████████████████████████████████████████████████████████| 235/235 [00:09<00:00, 25.47it/s]\n"
     ]
    },
    {
     "name": "stdout",
     "output_type": "stream",
     "text": [
      "undistorting T:\\Phil\\jumping_revisions\\deeplabcut\\videos\\020722\\PVCHA7LT\\020722_PVCHA7LT_control_SIDE_44.avi\n",
      "saving to T:\\Phil\\jumping_revisions\\deeplabcut\\videos\\020722\\PVCHA7LT\\020722_PVCHA7LT_control_44_SIDEcalib.avi\n"
     ]
    },
    {
     "name": "stderr",
     "output_type": "stream",
     "text": [
      "100%|████████████████████████████████████████████████████████████████████████████████| 354/354 [00:12<00:00, 28.78it/s]\n"
     ]
    },
    {
     "name": "stdout",
     "output_type": "stream",
     "text": [
      "undistorting T:\\Phil\\jumping_revisions\\deeplabcut\\videos\\020722\\PVCHA7LT\\020722_PVCHA7LT_control_SIDE_45.avi\n",
      "saving to T:\\Phil\\jumping_revisions\\deeplabcut\\videos\\020722\\PVCHA7LT\\020722_PVCHA7LT_control_45_SIDEcalib.avi\n"
     ]
    },
    {
     "name": "stderr",
     "output_type": "stream",
     "text": [
      "100%|████████████████████████████████████████████████████████████████████████████████| 292/292 [00:11<00:00, 25.78it/s]\n"
     ]
    },
    {
     "name": "stdout",
     "output_type": "stream",
     "text": [
      "undistorting T:\\Phil\\jumping_revisions\\deeplabcut\\videos\\020722\\PVCHA7LT\\020722_PVCHA7LT_control_SIDE_46.avi\n",
      "saving to T:\\Phil\\jumping_revisions\\deeplabcut\\videos\\020722\\PVCHA7LT\\020722_PVCHA7LT_control_46_SIDEcalib.avi\n"
     ]
    },
    {
     "name": "stderr",
     "output_type": "stream",
     "text": [
      "100%|████████████████████████████████████████████████████████████████████████████████| 288/288 [00:10<00:00, 28.79it/s]\n"
     ]
    },
    {
     "name": "stdout",
     "output_type": "stream",
     "text": [
      "undistorting T:\\Phil\\jumping_revisions\\deeplabcut\\videos\\020722\\PVCHA7LT\\020722_PVCHA7LT_control_SIDE_47.avi\n",
      "saving to T:\\Phil\\jumping_revisions\\deeplabcut\\videos\\020722\\PVCHA7LT\\020722_PVCHA7LT_control_47_SIDEcalib.avi\n"
     ]
    },
    {
     "name": "stderr",
     "output_type": "stream",
     "text": [
      "100%|████████████████████████████████████████████████████████████████████████████████| 233/233 [00:09<00:00, 25.68it/s]\n"
     ]
    },
    {
     "name": "stdout",
     "output_type": "stream",
     "text": [
      "undistorting T:\\Phil\\jumping_revisions\\deeplabcut\\videos\\020722\\PVCHA7LT\\020722_PVCHA7LT_control_SIDE_48.avi\n",
      "saving to T:\\Phil\\jumping_revisions\\deeplabcut\\videos\\020722\\PVCHA7LT\\020722_PVCHA7LT_control_48_SIDEcalib.avi\n"
     ]
    },
    {
     "name": "stderr",
     "output_type": "stream",
     "text": [
      "100%|████████████████████████████████████████████████████████████████████████████████| 288/288 [00:10<00:00, 28.78it/s]\n"
     ]
    },
    {
     "name": "stdout",
     "output_type": "stream",
     "text": [
      "undistorting T:\\Phil\\jumping_revisions\\deeplabcut\\videos\\020722\\PVCHA7LT\\020722_PVCHA7LT_control_SIDE_49.avi\n",
      "saving to T:\\Phil\\jumping_revisions\\deeplabcut\\videos\\020722\\PVCHA7LT\\020722_PVCHA7LT_control_49_SIDEcalib.avi\n"
     ]
    },
    {
     "name": "stderr",
     "output_type": "stream",
     "text": [
      "100%|████████████████████████████████████████████████████████████████████████████████| 263/263 [00:10<00:00, 24.82it/s]\n"
     ]
    },
    {
     "name": "stdout",
     "output_type": "stream",
     "text": [
      "undistorting T:\\Phil\\jumping_revisions\\deeplabcut\\videos\\020722\\PVCHA7LT\\020722_PVCHA7LT_control_SIDE_5.avi\n",
      "saving to T:\\Phil\\jumping_revisions\\deeplabcut\\videos\\020722\\PVCHA7LT\\020722_PVCHA7LT_control_5_SIDEcalib.avi\n"
     ]
    },
    {
     "name": "stderr",
     "output_type": "stream",
     "text": [
      "100%|████████████████████████████████████████████████████████████████████████████████| 559/559 [00:19<00:00, 28.68it/s]\n"
     ]
    },
    {
     "name": "stdout",
     "output_type": "stream",
     "text": [
      "undistorting T:\\Phil\\jumping_revisions\\deeplabcut\\videos\\020722\\PVCHA7LT\\020722_PVCHA7LT_control_SIDE_6.avi\n",
      "saving to T:\\Phil\\jumping_revisions\\deeplabcut\\videos\\020722\\PVCHA7LT\\020722_PVCHA7LT_control_6_SIDEcalib.avi\n"
     ]
    },
    {
     "name": "stderr",
     "output_type": "stream",
     "text": [
      "100%|████████████████████████████████████████████████████████████████████████████████| 333/333 [00:11<00:00, 28.56it/s]\n"
     ]
    },
    {
     "name": "stdout",
     "output_type": "stream",
     "text": [
      "undistorting T:\\Phil\\jumping_revisions\\deeplabcut\\videos\\020722\\PVCHA7LT\\020722_PVCHA7LT_control_SIDE_7.avi\n",
      "saving to T:\\Phil\\jumping_revisions\\deeplabcut\\videos\\020722\\PVCHA7LT\\020722_PVCHA7LT_control_7_SIDEcalib.avi\n"
     ]
    },
    {
     "name": "stderr",
     "output_type": "stream",
     "text": [
      "100%|████████████████████████████████████████████████████████████████████████████████| 390/390 [00:15<00:00, 24.77it/s]\n"
     ]
    },
    {
     "name": "stdout",
     "output_type": "stream",
     "text": [
      "undistorting T:\\Phil\\jumping_revisions\\deeplabcut\\videos\\020722\\PVCHA7LT\\020722_PVCHA7LT_control_SIDE_8.avi\n",
      "saving to T:\\Phil\\jumping_revisions\\deeplabcut\\videos\\020722\\PVCHA7LT\\020722_PVCHA7LT_control_8_SIDEcalib.avi\n"
     ]
    },
    {
     "name": "stderr",
     "output_type": "stream",
     "text": [
      "100%|████████████████████████████████████████████████████████████████████████████████| 371/371 [00:12<00:00, 28.74it/s]\n"
     ]
    },
    {
     "name": "stdout",
     "output_type": "stream",
     "text": [
      "undistorting T:\\Phil\\jumping_revisions\\deeplabcut\\videos\\020722\\PVCHA7LT\\020722_PVCHA7LT_control_SIDE_9.avi\n",
      "saving to T:\\Phil\\jumping_revisions\\deeplabcut\\videos\\020722\\PVCHA7LT\\020722_PVCHA7LT_control_9_SIDEcalib.avi\n"
     ]
    },
    {
     "name": "stderr",
     "output_type": "stream",
     "text": [
      "100%|████████████████████████████████████████████████████████████████████████████████| 277/277 [00:10<00:00, 25.57it/s]\n"
     ]
    },
    {
     "name": "stdout",
     "output_type": "stream",
     "text": [
      "undistorting T:\\Phil\\jumping_revisions\\deeplabcut\\videos\\020722\\PVCHA7RN\\020722_PVCHA7RN_control_SIDE_0.avi\n",
      "saving to T:\\Phil\\jumping_revisions\\deeplabcut\\videos\\020722\\PVCHA7RN\\020722_PVCHA7RN_control_0_SIDEcalib.avi\n"
     ]
    },
    {
     "name": "stderr",
     "output_type": "stream",
     "text": [
      "100%|████████████████████████████████████████████████████████████████████████████████| 326/326 [00:11<00:00, 28.84it/s]\n"
     ]
    },
    {
     "name": "stdout",
     "output_type": "stream",
     "text": [
      "undistorting T:\\Phil\\jumping_revisions\\deeplabcut\\videos\\020722\\PVCHA7RN\\020722_PVCHA7RN_control_SIDE_1.avi\n",
      "saving to T:\\Phil\\jumping_revisions\\deeplabcut\\videos\\020722\\PVCHA7RN\\020722_PVCHA7RN_control_1_SIDEcalib.avi\n"
     ]
    },
    {
     "name": "stderr",
     "output_type": "stream",
     "text": [
      "100%|████████████████████████████████████████████████████████████████████████████████| 522/522 [00:18<00:00, 28.70it/s]\n"
     ]
    },
    {
     "name": "stdout",
     "output_type": "stream",
     "text": [
      "undistorting T:\\Phil\\jumping_revisions\\deeplabcut\\videos\\020722\\PVCHA7RN\\020722_PVCHA7RN_control_SIDE_10.avi\n",
      "saving to T:\\Phil\\jumping_revisions\\deeplabcut\\videos\\020722\\PVCHA7RN\\020722_PVCHA7RN_control_10_SIDEcalib.avi\n"
     ]
    },
    {
     "name": "stderr",
     "output_type": "stream",
     "text": [
      "100%|████████████████████████████████████████████████████████████████████████████████| 441/441 [00:15<00:00, 28.75it/s]\n"
     ]
    },
    {
     "name": "stdout",
     "output_type": "stream",
     "text": [
      "undistorting T:\\Phil\\jumping_revisions\\deeplabcut\\videos\\020722\\PVCHA7RN\\020722_PVCHA7RN_control_SIDE_11.avi\n",
      "saving to T:\\Phil\\jumping_revisions\\deeplabcut\\videos\\020722\\PVCHA7RN\\020722_PVCHA7RN_control_11_SIDEcalib.avi\n"
     ]
    },
    {
     "name": "stderr",
     "output_type": "stream",
     "text": [
      "100%|████████████████████████████████████████████████████████████████████████████████| 364/364 [00:12<00:00, 28.76it/s]\n"
     ]
    },
    {
     "name": "stdout",
     "output_type": "stream",
     "text": [
      "undistorting T:\\Phil\\jumping_revisions\\deeplabcut\\videos\\020722\\PVCHA7RN\\020722_PVCHA7RN_control_SIDE_12.avi\n",
      "saving to T:\\Phil\\jumping_revisions\\deeplabcut\\videos\\020722\\PVCHA7RN\\020722_PVCHA7RN_control_12_SIDEcalib.avi\n"
     ]
    },
    {
     "name": "stderr",
     "output_type": "stream",
     "text": [
      "100%|████████████████████████████████████████████████████████████████████████████████| 302/302 [00:10<00:00, 28.74it/s]\n"
     ]
    },
    {
     "name": "stdout",
     "output_type": "stream",
     "text": [
      "undistorting T:\\Phil\\jumping_revisions\\deeplabcut\\videos\\020722\\PVCHA7RN\\020722_PVCHA7RN_control_SIDE_13.avi\n",
      "saving to T:\\Phil\\jumping_revisions\\deeplabcut\\videos\\020722\\PVCHA7RN\\020722_PVCHA7RN_control_13_SIDEcalib.avi\n"
     ]
    },
    {
     "name": "stderr",
     "output_type": "stream",
     "text": [
      "100%|████████████████████████████████████████████████████████████████████████████████| 391/391 [00:13<00:00, 28.60it/s]\n"
     ]
    },
    {
     "name": "stdout",
     "output_type": "stream",
     "text": [
      "undistorting T:\\Phil\\jumping_revisions\\deeplabcut\\videos\\020722\\PVCHA7RN\\020722_PVCHA7RN_control_SIDE_14.avi\n",
      "saving to T:\\Phil\\jumping_revisions\\deeplabcut\\videos\\020722\\PVCHA7RN\\020722_PVCHA7RN_control_14_SIDEcalib.avi\n"
     ]
    },
    {
     "name": "stderr",
     "output_type": "stream",
     "text": [
      "100%|████████████████████████████████████████████████████████████████████████████████| 263/263 [00:09<00:00, 28.73it/s]\n"
     ]
    },
    {
     "name": "stdout",
     "output_type": "stream",
     "text": [
      "undistorting T:\\Phil\\jumping_revisions\\deeplabcut\\videos\\020722\\PVCHA7RN\\020722_PVCHA7RN_control_SIDE_15.avi\n",
      "saving to T:\\Phil\\jumping_revisions\\deeplabcut\\videos\\020722\\PVCHA7RN\\020722_PVCHA7RN_control_15_SIDEcalib.avi\n"
     ]
    },
    {
     "name": "stderr",
     "output_type": "stream",
     "text": [
      "100%|████████████████████████████████████████████████████████████████████████████████| 352/352 [00:12<00:00, 28.72it/s]\n"
     ]
    },
    {
     "name": "stdout",
     "output_type": "stream",
     "text": [
      "undistorting T:\\Phil\\jumping_revisions\\deeplabcut\\videos\\020722\\PVCHA7RN\\020722_PVCHA7RN_control_SIDE_16.avi\n",
      "saving to T:\\Phil\\jumping_revisions\\deeplabcut\\videos\\020722\\PVCHA7RN\\020722_PVCHA7RN_control_16_SIDEcalib.avi\n"
     ]
    },
    {
     "name": "stderr",
     "output_type": "stream",
     "text": [
      "100%|████████████████████████████████████████████████████████████████████████████████| 277/277 [00:09<00:00, 28.63it/s]\n"
     ]
    },
    {
     "name": "stdout",
     "output_type": "stream",
     "text": [
      "undistorting T:\\Phil\\jumping_revisions\\deeplabcut\\videos\\020722\\PVCHA7RN\\020722_PVCHA7RN_control_SIDE_17.avi\n",
      "saving to T:\\Phil\\jumping_revisions\\deeplabcut\\videos\\020722\\PVCHA7RN\\020722_PVCHA7RN_control_17_SIDEcalib.avi\n"
     ]
    },
    {
     "name": "stderr",
     "output_type": "stream",
     "text": [
      "100%|████████████████████████████████████████████████████████████████████████████████| 262/262 [00:09<00:00, 28.84it/s]\n"
     ]
    },
    {
     "name": "stdout",
     "output_type": "stream",
     "text": [
      "undistorting T:\\Phil\\jumping_revisions\\deeplabcut\\videos\\020722\\PVCHA7RN\\020722_PVCHA7RN_control_SIDE_18.avi\n",
      "saving to T:\\Phil\\jumping_revisions\\deeplabcut\\videos\\020722\\PVCHA7RN\\020722_PVCHA7RN_control_18_SIDEcalib.avi\n"
     ]
    },
    {
     "name": "stderr",
     "output_type": "stream",
     "text": [
      "100%|████████████████████████████████████████████████████████████████████████████████| 267/267 [00:09<00:00, 28.77it/s]\n"
     ]
    },
    {
     "name": "stdout",
     "output_type": "stream",
     "text": [
      "undistorting T:\\Phil\\jumping_revisions\\deeplabcut\\videos\\020722\\PVCHA7RN\\020722_PVCHA7RN_control_SIDE_19.avi\n",
      "saving to T:\\Phil\\jumping_revisions\\deeplabcut\\videos\\020722\\PVCHA7RN\\020722_PVCHA7RN_control_19_SIDEcalib.avi\n"
     ]
    },
    {
     "name": "stderr",
     "output_type": "stream",
     "text": [
      "100%|████████████████████████████████████████████████████████████████████████████████| 331/331 [00:11<00:00, 28.72it/s]\n"
     ]
    },
    {
     "name": "stdout",
     "output_type": "stream",
     "text": [
      "undistorting T:\\Phil\\jumping_revisions\\deeplabcut\\videos\\020722\\PVCHA7RN\\020722_PVCHA7RN_control_SIDE_2.avi\n",
      "saving to T:\\Phil\\jumping_revisions\\deeplabcut\\videos\\020722\\PVCHA7RN\\020722_PVCHA7RN_control_2_SIDEcalib.avi\n"
     ]
    },
    {
     "name": "stderr",
     "output_type": "stream",
     "text": [
      "100%|████████████████████████████████████████████████████████████████████████████████| 332/332 [00:11<00:00, 28.73it/s]\n"
     ]
    },
    {
     "name": "stdout",
     "output_type": "stream",
     "text": [
      "undistorting T:\\Phil\\jumping_revisions\\deeplabcut\\videos\\020722\\PVCHA7RN\\020722_PVCHA7RN_control_SIDE_20.avi\n",
      "saving to T:\\Phil\\jumping_revisions\\deeplabcut\\videos\\020722\\PVCHA7RN\\020722_PVCHA7RN_control_20_SIDEcalib.avi\n"
     ]
    },
    {
     "name": "stderr",
     "output_type": "stream",
     "text": [
      "100%|████████████████████████████████████████████████████████████████████████████████| 275/275 [00:09<00:00, 28.76it/s]\n"
     ]
    },
    {
     "name": "stdout",
     "output_type": "stream",
     "text": [
      "undistorting T:\\Phil\\jumping_revisions\\deeplabcut\\videos\\020722\\PVCHA7RN\\020722_PVCHA7RN_control_SIDE_21.avi\n",
      "saving to T:\\Phil\\jumping_revisions\\deeplabcut\\videos\\020722\\PVCHA7RN\\020722_PVCHA7RN_control_21_SIDEcalib.avi\n"
     ]
    },
    {
     "name": "stderr",
     "output_type": "stream",
     "text": [
      "100%|████████████████████████████████████████████████████████████████████████████████| 894/894 [00:34<00:00, 25.93it/s]\n"
     ]
    },
    {
     "name": "stdout",
     "output_type": "stream",
     "text": [
      "undistorting T:\\Phil\\jumping_revisions\\deeplabcut\\videos\\020722\\PVCHA7RN\\020722_PVCHA7RN_control_SIDE_22.avi\n",
      "saving to T:\\Phil\\jumping_revisions\\deeplabcut\\videos\\020722\\PVCHA7RN\\020722_PVCHA7RN_control_22_SIDEcalib.avi\n"
     ]
    },
    {
     "name": "stderr",
     "output_type": "stream",
     "text": [
      "100%|████████████████████████████████████████████████████████████████████████████████| 245/245 [00:08<00:00, 28.64it/s]\n"
     ]
    },
    {
     "name": "stdout",
     "output_type": "stream",
     "text": [
      "undistorting T:\\Phil\\jumping_revisions\\deeplabcut\\videos\\020722\\PVCHA7RN\\020722_PVCHA7RN_control_SIDE_23.avi\n",
      "saving to T:\\Phil\\jumping_revisions\\deeplabcut\\videos\\020722\\PVCHA7RN\\020722_PVCHA7RN_control_23_SIDEcalib.avi\n"
     ]
    },
    {
     "name": "stderr",
     "output_type": "stream",
     "text": [
      "100%|████████████████████████████████████████████████████████████████████████████████| 506/506 [00:20<00:00, 25.25it/s]\n"
     ]
    },
    {
     "name": "stdout",
     "output_type": "stream",
     "text": [
      "undistorting T:\\Phil\\jumping_revisions\\deeplabcut\\videos\\020722\\PVCHA7RN\\020722_PVCHA7RN_control_SIDE_24.avi\n",
      "saving to T:\\Phil\\jumping_revisions\\deeplabcut\\videos\\020722\\PVCHA7RN\\020722_PVCHA7RN_control_24_SIDEcalib.avi\n"
     ]
    },
    {
     "name": "stderr",
     "output_type": "stream",
     "text": [
      "100%|████████████████████████████████████████████████████████████████████████████████| 347/347 [00:12<00:00, 28.72it/s]\n"
     ]
    },
    {
     "name": "stdout",
     "output_type": "stream",
     "text": [
      "undistorting T:\\Phil\\jumping_revisions\\deeplabcut\\videos\\020722\\PVCHA7RN\\020722_PVCHA7RN_control_SIDE_25.avi\n",
      "saving to T:\\Phil\\jumping_revisions\\deeplabcut\\videos\\020722\\PVCHA7RN\\020722_PVCHA7RN_control_25_SIDEcalib.avi\n"
     ]
    },
    {
     "name": "stderr",
     "output_type": "stream",
     "text": [
      "100%|████████████████████████████████████████████████████████████████████████████████| 580/580 [00:22<00:00, 25.38it/s]\n"
     ]
    },
    {
     "name": "stdout",
     "output_type": "stream",
     "text": [
      "undistorting T:\\Phil\\jumping_revisions\\deeplabcut\\videos\\020722\\PVCHA7RN\\020722_PVCHA7RN_control_SIDE_26.avi\n",
      "saving to T:\\Phil\\jumping_revisions\\deeplabcut\\videos\\020722\\PVCHA7RN\\020722_PVCHA7RN_control_26_SIDEcalib.avi\n"
     ]
    },
    {
     "name": "stderr",
     "output_type": "stream",
     "text": [
      "100%|████████████████████████████████████████████████████████████████████████████████| 493/493 [00:17<00:00, 28.90it/s]\n"
     ]
    },
    {
     "name": "stdout",
     "output_type": "stream",
     "text": [
      "undistorting T:\\Phil\\jumping_revisions\\deeplabcut\\videos\\020722\\PVCHA7RN\\020722_PVCHA7RN_control_SIDE_27.avi\n",
      "saving to T:\\Phil\\jumping_revisions\\deeplabcut\\videos\\020722\\PVCHA7RN\\020722_PVCHA7RN_control_27_SIDEcalib.avi\n"
     ]
    },
    {
     "name": "stderr",
     "output_type": "stream",
     "text": [
      "100%|██████████████████████████████████████████████████████████████████████████████| 1819/1819 [01:10<00:00, 25.98it/s]\n"
     ]
    },
    {
     "name": "stdout",
     "output_type": "stream",
     "text": [
      "undistorting T:\\Phil\\jumping_revisions\\deeplabcut\\videos\\020722\\PVCHA7RN\\020722_PVCHA7RN_control_SIDE_28.avi\n",
      "saving to T:\\Phil\\jumping_revisions\\deeplabcut\\videos\\020722\\PVCHA7RN\\020722_PVCHA7RN_control_28_SIDEcalib.avi\n"
     ]
    },
    {
     "name": "stderr",
     "output_type": "stream",
     "text": [
      "100%|████████████████████████████████████████████████████████████████████████████████| 259/259 [00:09<00:00, 28.64it/s]\n"
     ]
    },
    {
     "name": "stdout",
     "output_type": "stream",
     "text": [
      "undistorting T:\\Phil\\jumping_revisions\\deeplabcut\\videos\\020722\\PVCHA7RN\\020722_PVCHA7RN_control_SIDE_29.avi\n",
      "saving to T:\\Phil\\jumping_revisions\\deeplabcut\\videos\\020722\\PVCHA7RN\\020722_PVCHA7RN_control_29_SIDEcalib.avi\n"
     ]
    },
    {
     "name": "stderr",
     "output_type": "stream",
     "text": [
      "100%|████████████████████████████████████████████████████████████████████████████████| 342/342 [00:13<00:00, 24.98it/s]\n"
     ]
    },
    {
     "name": "stdout",
     "output_type": "stream",
     "text": [
      "undistorting T:\\Phil\\jumping_revisions\\deeplabcut\\videos\\020722\\PVCHA7RN\\020722_PVCHA7RN_control_SIDE_3.avi\n",
      "saving to T:\\Phil\\jumping_revisions\\deeplabcut\\videos\\020722\\PVCHA7RN\\020722_PVCHA7RN_control_3_SIDEcalib.avi\n"
     ]
    },
    {
     "name": "stderr",
     "output_type": "stream",
     "text": [
      "100%|████████████████████████████████████████████████████████████████████████████████| 405/405 [00:14<00:00, 28.75it/s]\n"
     ]
    },
    {
     "name": "stdout",
     "output_type": "stream",
     "text": [
      "undistorting T:\\Phil\\jumping_revisions\\deeplabcut\\videos\\020722\\PVCHA7RN\\020722_PVCHA7RN_control_SIDE_30.avi\n",
      "saving to T:\\Phil\\jumping_revisions\\deeplabcut\\videos\\020722\\PVCHA7RN\\020722_PVCHA7RN_control_30_SIDEcalib.avi\n"
     ]
    },
    {
     "name": "stderr",
     "output_type": "stream",
     "text": [
      "100%|████████████████████████████████████████████████████████████████████████████████| 297/297 [00:10<00:00, 28.77it/s]\n"
     ]
    },
    {
     "name": "stdout",
     "output_type": "stream",
     "text": [
      "undistorting T:\\Phil\\jumping_revisions\\deeplabcut\\videos\\020722\\PVCHA7RN\\020722_PVCHA7RN_control_SIDE_31.avi\n",
      "saving to T:\\Phil\\jumping_revisions\\deeplabcut\\videos\\020722\\PVCHA7RN\\020722_PVCHA7RN_control_31_SIDEcalib.avi\n"
     ]
    },
    {
     "name": "stderr",
     "output_type": "stream",
     "text": [
      "100%|████████████████████████████████████████████████████████████████████████████████| 326/326 [00:12<00:00, 26.30it/s]\n"
     ]
    },
    {
     "name": "stdout",
     "output_type": "stream",
     "text": [
      "undistorting T:\\Phil\\jumping_revisions\\deeplabcut\\videos\\020722\\PVCHA7RN\\020722_PVCHA7RN_control_SIDE_32.avi\n",
      "saving to T:\\Phil\\jumping_revisions\\deeplabcut\\videos\\020722\\PVCHA7RN\\020722_PVCHA7RN_control_32_SIDEcalib.avi\n"
     ]
    },
    {
     "name": "stderr",
     "output_type": "stream",
     "text": [
      "100%|████████████████████████████████████████████████████████████████████████████████| 394/394 [00:13<00:00, 28.78it/s]\n"
     ]
    },
    {
     "name": "stdout",
     "output_type": "stream",
     "text": [
      "undistorting T:\\Phil\\jumping_revisions\\deeplabcut\\videos\\020722\\PVCHA7RN\\020722_PVCHA7RN_control_SIDE_33.avi\n",
      "saving to T:\\Phil\\jumping_revisions\\deeplabcut\\videos\\020722\\PVCHA7RN\\020722_PVCHA7RN_control_33_SIDEcalib.avi\n"
     ]
    },
    {
     "name": "stderr",
     "output_type": "stream",
     "text": [
      "100%|████████████████████████████████████████████████████████████████████████████████| 321/321 [00:12<00:00, 25.52it/s]\n"
     ]
    },
    {
     "name": "stdout",
     "output_type": "stream",
     "text": [
      "undistorting T:\\Phil\\jumping_revisions\\deeplabcut\\videos\\020722\\PVCHA7RN\\020722_PVCHA7RN_control_SIDE_34.avi\n",
      "saving to T:\\Phil\\jumping_revisions\\deeplabcut\\videos\\020722\\PVCHA7RN\\020722_PVCHA7RN_control_34_SIDEcalib.avi\n"
     ]
    },
    {
     "name": "stderr",
     "output_type": "stream",
     "text": [
      "100%|████████████████████████████████████████████████████████████████████████████████| 315/315 [00:11<00:00, 28.60it/s]\n"
     ]
    },
    {
     "name": "stdout",
     "output_type": "stream",
     "text": [
      "undistorting T:\\Phil\\jumping_revisions\\deeplabcut\\videos\\020722\\PVCHA7RN\\020722_PVCHA7RN_control_SIDE_35.avi\n",
      "saving to T:\\Phil\\jumping_revisions\\deeplabcut\\videos\\020722\\PVCHA7RN\\020722_PVCHA7RN_control_35_SIDEcalib.avi\n"
     ]
    },
    {
     "name": "stderr",
     "output_type": "stream",
     "text": [
      "100%|████████████████████████████████████████████████████████████████████████████████| 611/611 [00:24<00:00, 25.41it/s]\n"
     ]
    },
    {
     "name": "stdout",
     "output_type": "stream",
     "text": [
      "undistorting T:\\Phil\\jumping_revisions\\deeplabcut\\videos\\020722\\PVCHA7RN\\020722_PVCHA7RN_control_SIDE_36.avi\n",
      "saving to T:\\Phil\\jumping_revisions\\deeplabcut\\videos\\020722\\PVCHA7RN\\020722_PVCHA7RN_control_36_SIDEcalib.avi\n"
     ]
    },
    {
     "name": "stderr",
     "output_type": "stream",
     "text": [
      "100%|████████████████████████████████████████████████████████████████████████████████| 287/287 [00:09<00:00, 28.76it/s]\n"
     ]
    },
    {
     "name": "stdout",
     "output_type": "stream",
     "text": [
      "undistorting T:\\Phil\\jumping_revisions\\deeplabcut\\videos\\020722\\PVCHA7RN\\020722_PVCHA7RN_control_SIDE_37.avi\n",
      "saving to T:\\Phil\\jumping_revisions\\deeplabcut\\videos\\020722\\PVCHA7RN\\020722_PVCHA7RN_control_37_SIDEcalib.avi\n"
     ]
    },
    {
     "name": "stderr",
     "output_type": "stream",
     "text": [
      "100%|████████████████████████████████████████████████████████████████████████████████| 208/208 [00:08<00:00, 25.70it/s]\n"
     ]
    },
    {
     "name": "stdout",
     "output_type": "stream",
     "text": [
      "undistorting T:\\Phil\\jumping_revisions\\deeplabcut\\videos\\020722\\PVCHA7RN\\020722_PVCHA7RN_control_SIDE_38.avi\n",
      "saving to T:\\Phil\\jumping_revisions\\deeplabcut\\videos\\020722\\PVCHA7RN\\020722_PVCHA7RN_control_38_SIDEcalib.avi\n"
     ]
    },
    {
     "name": "stderr",
     "output_type": "stream",
     "text": [
      "100%|████████████████████████████████████████████████████████████████████████████████| 510/510 [00:17<00:00, 28.78it/s]\n"
     ]
    },
    {
     "name": "stdout",
     "output_type": "stream",
     "text": [
      "undistorting T:\\Phil\\jumping_revisions\\deeplabcut\\videos\\020722\\PVCHA7RN\\020722_PVCHA7RN_control_SIDE_39.avi\n",
      "saving to T:\\Phil\\jumping_revisions\\deeplabcut\\videos\\020722\\PVCHA7RN\\020722_PVCHA7RN_control_39_SIDEcalib.avi\n"
     ]
    },
    {
     "name": "stderr",
     "output_type": "stream",
     "text": [
      "100%|████████████████████████████████████████████████████████████████████████████████| 361/361 [00:14<00:00, 25.76it/s]\n"
     ]
    },
    {
     "name": "stdout",
     "output_type": "stream",
     "text": [
      "undistorting T:\\Phil\\jumping_revisions\\deeplabcut\\videos\\020722\\PVCHA7RN\\020722_PVCHA7RN_control_SIDE_4.avi\n",
      "saving to T:\\Phil\\jumping_revisions\\deeplabcut\\videos\\020722\\PVCHA7RN\\020722_PVCHA7RN_control_4_SIDEcalib.avi\n"
     ]
    },
    {
     "name": "stderr",
     "output_type": "stream",
     "text": [
      "100%|████████████████████████████████████████████████████████████████████████████████| 547/547 [00:19<00:00, 28.70it/s]\n"
     ]
    },
    {
     "name": "stdout",
     "output_type": "stream",
     "text": [
      "undistorting T:\\Phil\\jumping_revisions\\deeplabcut\\videos\\020722\\PVCHA7RN\\020722_PVCHA7RN_control_SIDE_40.avi\n",
      "saving to T:\\Phil\\jumping_revisions\\deeplabcut\\videos\\020722\\PVCHA7RN\\020722_PVCHA7RN_control_40_SIDEcalib.avi\n"
     ]
    },
    {
     "name": "stderr",
     "output_type": "stream",
     "text": [
      "100%|████████████████████████████████████████████████████████████████████████████████| 476/476 [00:16<00:00, 28.80it/s]\n"
     ]
    },
    {
     "name": "stdout",
     "output_type": "stream",
     "text": [
      "undistorting T:\\Phil\\jumping_revisions\\deeplabcut\\videos\\020722\\PVCHA7RN\\020722_PVCHA7RN_control_SIDE_41.avi\n",
      "saving to T:\\Phil\\jumping_revisions\\deeplabcut\\videos\\020722\\PVCHA7RN\\020722_PVCHA7RN_control_41_SIDEcalib.avi\n"
     ]
    },
    {
     "name": "stderr",
     "output_type": "stream",
     "text": [
      "100%|████████████████████████████████████████████████████████████████████████████████| 596/596 [00:24<00:00, 24.77it/s]\n"
     ]
    },
    {
     "name": "stdout",
     "output_type": "stream",
     "text": [
      "undistorting T:\\Phil\\jumping_revisions\\deeplabcut\\videos\\020722\\PVCHA7RN\\020722_PVCHA7RN_control_SIDE_42.avi\n",
      "saving to T:\\Phil\\jumping_revisions\\deeplabcut\\videos\\020722\\PVCHA7RN\\020722_PVCHA7RN_control_42_SIDEcalib.avi\n"
     ]
    },
    {
     "name": "stderr",
     "output_type": "stream",
     "text": [
      "100%|████████████████████████████████████████████████████████████████████████████████| 345/345 [00:11<00:00, 28.84it/s]\n"
     ]
    },
    {
     "name": "stdout",
     "output_type": "stream",
     "text": [
      "undistorting T:\\Phil\\jumping_revisions\\deeplabcut\\videos\\020722\\PVCHA7RN\\020722_PVCHA7RN_control_SIDE_43.avi\n",
      "saving to T:\\Phil\\jumping_revisions\\deeplabcut\\videos\\020722\\PVCHA7RN\\020722_PVCHA7RN_control_43_SIDEcalib.avi\n"
     ]
    },
    {
     "name": "stderr",
     "output_type": "stream",
     "text": [
      "100%|████████████████████████████████████████████████████████████████████████████████| 283/283 [00:11<00:00, 23.92it/s]\n"
     ]
    },
    {
     "name": "stdout",
     "output_type": "stream",
     "text": [
      "undistorting T:\\Phil\\jumping_revisions\\deeplabcut\\videos\\020722\\PVCHA7RN\\020722_PVCHA7RN_control_SIDE_44.avi\n",
      "saving to T:\\Phil\\jumping_revisions\\deeplabcut\\videos\\020722\\PVCHA7RN\\020722_PVCHA7RN_control_44_SIDEcalib.avi\n"
     ]
    },
    {
     "name": "stderr",
     "output_type": "stream",
     "text": [
      "100%|████████████████████████████████████████████████████████████████████████████████| 370/370 [00:12<00:00, 28.75it/s]\n"
     ]
    },
    {
     "name": "stdout",
     "output_type": "stream",
     "text": [
      "undistorting T:\\Phil\\jumping_revisions\\deeplabcut\\videos\\020722\\PVCHA7RN\\020722_PVCHA7RN_control_SIDE_45.avi\n",
      "saving to T:\\Phil\\jumping_revisions\\deeplabcut\\videos\\020722\\PVCHA7RN\\020722_PVCHA7RN_control_45_SIDEcalib.avi\n"
     ]
    },
    {
     "name": "stderr",
     "output_type": "stream",
     "text": [
      "100%|████████████████████████████████████████████████████████████████████████████████| 364/364 [00:14<00:00, 24.82it/s]\n"
     ]
    },
    {
     "name": "stdout",
     "output_type": "stream",
     "text": [
      "undistorting T:\\Phil\\jumping_revisions\\deeplabcut\\videos\\020722\\PVCHA7RN\\020722_PVCHA7RN_control_SIDE_46.avi\n",
      "saving to T:\\Phil\\jumping_revisions\\deeplabcut\\videos\\020722\\PVCHA7RN\\020722_PVCHA7RN_control_46_SIDEcalib.avi\n"
     ]
    },
    {
     "name": "stderr",
     "output_type": "stream",
     "text": [
      "100%|████████████████████████████████████████████████████████████████████████████████| 264/264 [00:09<00:00, 28.74it/s]\n"
     ]
    },
    {
     "name": "stdout",
     "output_type": "stream",
     "text": [
      "undistorting T:\\Phil\\jumping_revisions\\deeplabcut\\videos\\020722\\PVCHA7RN\\020722_PVCHA7RN_control_SIDE_47.avi\n",
      "saving to T:\\Phil\\jumping_revisions\\deeplabcut\\videos\\020722\\PVCHA7RN\\020722_PVCHA7RN_control_47_SIDEcalib.avi\n"
     ]
    },
    {
     "name": "stderr",
     "output_type": "stream",
     "text": [
      "100%|████████████████████████████████████████████████████████████████████████████████| 340/340 [00:13<00:00, 24.62it/s]\n"
     ]
    },
    {
     "name": "stdout",
     "output_type": "stream",
     "text": [
      "undistorting T:\\Phil\\jumping_revisions\\deeplabcut\\videos\\020722\\PVCHA7RN\\020722_PVCHA7RN_control_SIDE_48.avi\n",
      "saving to T:\\Phil\\jumping_revisions\\deeplabcut\\videos\\020722\\PVCHA7RN\\020722_PVCHA7RN_control_48_SIDEcalib.avi\n"
     ]
    },
    {
     "name": "stderr",
     "output_type": "stream",
     "text": [
      "100%|████████████████████████████████████████████████████████████████████████████████| 300/300 [00:10<00:00, 28.80it/s]\n"
     ]
    },
    {
     "name": "stdout",
     "output_type": "stream",
     "text": [
      "undistorting T:\\Phil\\jumping_revisions\\deeplabcut\\videos\\020722\\PVCHA7RN\\020722_PVCHA7RN_control_SIDE_49.avi\n",
      "saving to T:\\Phil\\jumping_revisions\\deeplabcut\\videos\\020722\\PVCHA7RN\\020722_PVCHA7RN_control_49_SIDEcalib.avi\n"
     ]
    },
    {
     "name": "stderr",
     "output_type": "stream",
     "text": [
      "100%|████████████████████████████████████████████████████████████████████████████████| 312/312 [00:12<00:00, 24.93it/s]\n"
     ]
    },
    {
     "name": "stdout",
     "output_type": "stream",
     "text": [
      "undistorting T:\\Phil\\jumping_revisions\\deeplabcut\\videos\\020722\\PVCHA7RN\\020722_PVCHA7RN_control_SIDE_5.avi\n",
      "saving to T:\\Phil\\jumping_revisions\\deeplabcut\\videos\\020722\\PVCHA7RN\\020722_PVCHA7RN_control_5_SIDEcalib.avi\n"
     ]
    },
    {
     "name": "stderr",
     "output_type": "stream",
     "text": [
      "100%|████████████████████████████████████████████████████████████████████████████████| 436/436 [00:15<00:00, 28.69it/s]\n"
     ]
    },
    {
     "name": "stdout",
     "output_type": "stream",
     "text": [
      "undistorting T:\\Phil\\jumping_revisions\\deeplabcut\\videos\\020722\\PVCHA7RN\\020722_PVCHA7RN_control_SIDE_6.avi\n",
      "saving to T:\\Phil\\jumping_revisions\\deeplabcut\\videos\\020722\\PVCHA7RN\\020722_PVCHA7RN_control_6_SIDEcalib.avi\n"
     ]
    },
    {
     "name": "stderr",
     "output_type": "stream",
     "text": [
      "100%|████████████████████████████████████████████████████████████████████████████████| 603/603 [00:20<00:00, 28.80it/s]\n"
     ]
    },
    {
     "name": "stdout",
     "output_type": "stream",
     "text": [
      "undistorting T:\\Phil\\jumping_revisions\\deeplabcut\\videos\\020722\\PVCHA7RN\\020722_PVCHA7RN_control_SIDE_7.avi\n",
      "saving to T:\\Phil\\jumping_revisions\\deeplabcut\\videos\\020722\\PVCHA7RN\\020722_PVCHA7RN_control_7_SIDEcalib.avi\n"
     ]
    },
    {
     "name": "stderr",
     "output_type": "stream",
     "text": [
      "100%|████████████████████████████████████████████████████████████████████████████████| 534/534 [00:20<00:00, 26.21it/s]\n"
     ]
    },
    {
     "name": "stdout",
     "output_type": "stream",
     "text": [
      "undistorting T:\\Phil\\jumping_revisions\\deeplabcut\\videos\\020722\\PVCHA7RN\\020722_PVCHA7RN_control_SIDE_8.avi\n",
      "saving to T:\\Phil\\jumping_revisions\\deeplabcut\\videos\\020722\\PVCHA7RN\\020722_PVCHA7RN_control_8_SIDEcalib.avi\n"
     ]
    },
    {
     "name": "stderr",
     "output_type": "stream",
     "text": [
      "100%|████████████████████████████████████████████████████████████████████████████████| 762/762 [00:26<00:00, 28.92it/s]\n"
     ]
    },
    {
     "name": "stdout",
     "output_type": "stream",
     "text": [
      "undistorting T:\\Phil\\jumping_revisions\\deeplabcut\\videos\\020722\\PVCHA7RN\\020722_PVCHA7RN_control_SIDE_9.avi\n",
      "saving to T:\\Phil\\jumping_revisions\\deeplabcut\\videos\\020722\\PVCHA7RN\\020722_PVCHA7RN_control_9_SIDEcalib.avi\n"
     ]
    },
    {
     "name": "stderr",
     "output_type": "stream",
     "text": [
      "100%|████████████████████████████████████████████████████████████████████████████████| 257/257 [00:09<00:00, 26.98it/s]\n"
     ]
    },
    {
     "name": "stdout",
     "output_type": "stream",
     "text": [
      "undistorting T:\\Phil\\jumping_revisions\\deeplabcut\\videos\\020722\\PVCHA7RT\\020722_PVCHA7RT_control_SIDE_0.avi\n",
      "saving to T:\\Phil\\jumping_revisions\\deeplabcut\\videos\\020722\\PVCHA7RT\\020722_PVCHA7RT_control_0_SIDEcalib.avi\n"
     ]
    },
    {
     "name": "stderr",
     "output_type": "stream",
     "text": [
      "100%|████████████████████████████████████████████████████████████████████████████████| 622/622 [00:21<00:00, 28.59it/s]\n"
     ]
    },
    {
     "name": "stdout",
     "output_type": "stream",
     "text": [
      "undistorting T:\\Phil\\jumping_revisions\\deeplabcut\\videos\\020722\\PVCHA7RT\\020722_PVCHA7RT_control_SIDE_1.avi\n",
      "saving to T:\\Phil\\jumping_revisions\\deeplabcut\\videos\\020722\\PVCHA7RT\\020722_PVCHA7RT_control_1_SIDEcalib.avi\n"
     ]
    },
    {
     "name": "stderr",
     "output_type": "stream",
     "text": [
      "100%|████████████████████████████████████████████████████████████████████████████████| 494/494 [00:17<00:00, 28.58it/s]\n"
     ]
    },
    {
     "name": "stdout",
     "output_type": "stream",
     "text": [
      "undistorting T:\\Phil\\jumping_revisions\\deeplabcut\\videos\\020722\\PVCHA7RT\\020722_PVCHA7RT_control_SIDE_10.avi\n",
      "saving to T:\\Phil\\jumping_revisions\\deeplabcut\\videos\\020722\\PVCHA7RT\\020722_PVCHA7RT_control_10_SIDEcalib.avi\n"
     ]
    },
    {
     "name": "stderr",
     "output_type": "stream",
     "text": [
      "100%|████████████████████████████████████████████████████████████████████████████████| 394/394 [00:13<00:00, 28.62it/s]\n"
     ]
    },
    {
     "name": "stdout",
     "output_type": "stream",
     "text": [
      "undistorting T:\\Phil\\jumping_revisions\\deeplabcut\\videos\\020722\\PVCHA7RT\\020722_PVCHA7RT_control_SIDE_11.avi\n",
      "saving to T:\\Phil\\jumping_revisions\\deeplabcut\\videos\\020722\\PVCHA7RT\\020722_PVCHA7RT_control_11_SIDEcalib.avi\n"
     ]
    },
    {
     "name": "stderr",
     "output_type": "stream",
     "text": [
      "100%|████████████████████████████████████████████████████████████████████████████████| 401/401 [00:13<00:00, 28.80it/s]\n"
     ]
    },
    {
     "name": "stdout",
     "output_type": "stream",
     "text": [
      "undistorting T:\\Phil\\jumping_revisions\\deeplabcut\\videos\\020722\\PVCHA7RT\\020722_PVCHA7RT_control_SIDE_12.avi\n",
      "saving to T:\\Phil\\jumping_revisions\\deeplabcut\\videos\\020722\\PVCHA7RT\\020722_PVCHA7RT_control_12_SIDEcalib.avi\n"
     ]
    },
    {
     "name": "stderr",
     "output_type": "stream",
     "text": [
      "100%|████████████████████████████████████████████████████████████████████████████████| 373/373 [00:12<00:00, 28.83it/s]\n"
     ]
    },
    {
     "name": "stdout",
     "output_type": "stream",
     "text": [
      "undistorting T:\\Phil\\jumping_revisions\\deeplabcut\\videos\\020722\\PVCHA7RT\\020722_PVCHA7RT_control_SIDE_13.avi\n",
      "saving to T:\\Phil\\jumping_revisions\\deeplabcut\\videos\\020722\\PVCHA7RT\\020722_PVCHA7RT_control_13_SIDEcalib.avi\n"
     ]
    },
    {
     "name": "stderr",
     "output_type": "stream",
     "text": [
      "100%|████████████████████████████████████████████████████████████████████████████████| 389/389 [00:13<00:00, 28.80it/s]\n"
     ]
    },
    {
     "name": "stdout",
     "output_type": "stream",
     "text": [
      "undistorting T:\\Phil\\jumping_revisions\\deeplabcut\\videos\\020722\\PVCHA7RT\\020722_PVCHA7RT_control_SIDE_14.avi\n",
      "saving to T:\\Phil\\jumping_revisions\\deeplabcut\\videos\\020722\\PVCHA7RT\\020722_PVCHA7RT_control_14_SIDEcalib.avi\n"
     ]
    },
    {
     "name": "stderr",
     "output_type": "stream",
     "text": [
      "100%|████████████████████████████████████████████████████████████████████████████████| 526/526 [00:18<00:00, 28.85it/s]\n"
     ]
    },
    {
     "name": "stdout",
     "output_type": "stream",
     "text": [
      "undistorting T:\\Phil\\jumping_revisions\\deeplabcut\\videos\\020722\\PVCHA7RT\\020722_PVCHA7RT_control_SIDE_15.avi\n",
      "saving to T:\\Phil\\jumping_revisions\\deeplabcut\\videos\\020722\\PVCHA7RT\\020722_PVCHA7RT_control_15_SIDEcalib.avi\n"
     ]
    },
    {
     "name": "stderr",
     "output_type": "stream",
     "text": [
      "100%|████████████████████████████████████████████████████████████████████████████████| 872/872 [00:30<00:00, 28.98it/s]\n"
     ]
    },
    {
     "name": "stdout",
     "output_type": "stream",
     "text": [
      "undistorting T:\\Phil\\jumping_revisions\\deeplabcut\\videos\\020722\\PVCHA7RT\\020722_PVCHA7RT_control_SIDE_16.avi\n",
      "saving to T:\\Phil\\jumping_revisions\\deeplabcut\\videos\\020722\\PVCHA7RT\\020722_PVCHA7RT_control_16_SIDEcalib.avi\n"
     ]
    },
    {
     "name": "stderr",
     "output_type": "stream",
     "text": [
      "100%|████████████████████████████████████████████████████████████████████████████████| 439/439 [00:15<00:00, 28.67it/s]\n"
     ]
    },
    {
     "name": "stdout",
     "output_type": "stream",
     "text": [
      "undistorting T:\\Phil\\jumping_revisions\\deeplabcut\\videos\\020722\\PVCHA7RT\\020722_PVCHA7RT_control_SIDE_17.avi\n",
      "saving to T:\\Phil\\jumping_revisions\\deeplabcut\\videos\\020722\\PVCHA7RT\\020722_PVCHA7RT_control_17_SIDEcalib.avi\n"
     ]
    },
    {
     "name": "stderr",
     "output_type": "stream",
     "text": [
      "100%|████████████████████████████████████████████████████████████████████████████████| 327/327 [00:11<00:00, 28.80it/s]\n"
     ]
    },
    {
     "name": "stdout",
     "output_type": "stream",
     "text": [
      "undistorting T:\\Phil\\jumping_revisions\\deeplabcut\\videos\\020722\\PVCHA7RT\\020722_PVCHA7RT_control_SIDE_18.avi\n",
      "saving to T:\\Phil\\jumping_revisions\\deeplabcut\\videos\\020722\\PVCHA7RT\\020722_PVCHA7RT_control_18_SIDEcalib.avi\n"
     ]
    },
    {
     "name": "stderr",
     "output_type": "stream",
     "text": [
      "100%|████████████████████████████████████████████████████████████████████████████████| 484/484 [00:16<00:00, 28.87it/s]\n"
     ]
    },
    {
     "name": "stdout",
     "output_type": "stream",
     "text": [
      "undistorting T:\\Phil\\jumping_revisions\\deeplabcut\\videos\\020722\\PVCHA7RT\\020722_PVCHA7RT_control_SIDE_19.avi\n",
      "saving to T:\\Phil\\jumping_revisions\\deeplabcut\\videos\\020722\\PVCHA7RT\\020722_PVCHA7RT_control_19_SIDEcalib.avi\n"
     ]
    },
    {
     "name": "stderr",
     "output_type": "stream",
     "text": [
      "100%|████████████████████████████████████████████████████████████████████████████████| 505/505 [00:17<00:00, 28.91it/s]\n"
     ]
    },
    {
     "name": "stdout",
     "output_type": "stream",
     "text": [
      "undistorting T:\\Phil\\jumping_revisions\\deeplabcut\\videos\\020722\\PVCHA7RT\\020722_PVCHA7RT_control_SIDE_2.avi\n",
      "saving to T:\\Phil\\jumping_revisions\\deeplabcut\\videos\\020722\\PVCHA7RT\\020722_PVCHA7RT_control_2_SIDEcalib.avi\n"
     ]
    },
    {
     "name": "stderr",
     "output_type": "stream",
     "text": [
      "100%|████████████████████████████████████████████████████████████████████████████████| 421/421 [00:14<00:00, 28.65it/s]\n"
     ]
    },
    {
     "name": "stdout",
     "output_type": "stream",
     "text": [
      "undistorting T:\\Phil\\jumping_revisions\\deeplabcut\\videos\\020722\\PVCHA7RT\\020722_PVCHA7RT_control_SIDE_20.avi\n",
      "saving to T:\\Phil\\jumping_revisions\\deeplabcut\\videos\\020722\\PVCHA7RT\\020722_PVCHA7RT_control_20_SIDEcalib.avi\n"
     ]
    },
    {
     "name": "stderr",
     "output_type": "stream",
     "text": [
      "100%|██████████████████████████████████████████████████████████████████████████████| 1112/1112 [00:38<00:00, 28.88it/s]\n"
     ]
    },
    {
     "name": "stdout",
     "output_type": "stream",
     "text": [
      "undistorting T:\\Phil\\jumping_revisions\\deeplabcut\\videos\\020722\\PVCHA7RT\\020722_PVCHA7RT_control_SIDE_21.avi\n",
      "saving to T:\\Phil\\jumping_revisions\\deeplabcut\\videos\\020722\\PVCHA7RT\\020722_PVCHA7RT_control_21_SIDEcalib.avi\n"
     ]
    },
    {
     "name": "stderr",
     "output_type": "stream",
     "text": [
      "100%|████████████████████████████████████████████████████████████████████████████████| 489/489 [00:17<00:00, 27.35it/s]\n"
     ]
    },
    {
     "name": "stdout",
     "output_type": "stream",
     "text": [
      "undistorting T:\\Phil\\jumping_revisions\\deeplabcut\\videos\\020722\\PVCHA7RT\\020722_PVCHA7RT_control_SIDE_22.avi\n",
      "saving to T:\\Phil\\jumping_revisions\\deeplabcut\\videos\\020722\\PVCHA7RT\\020722_PVCHA7RT_control_22_SIDEcalib.avi\n"
     ]
    },
    {
     "name": "stderr",
     "output_type": "stream",
     "text": [
      "100%|████████████████████████████████████████████████████████████████████████████████| 452/452 [00:15<00:00, 28.83it/s]\n"
     ]
    },
    {
     "name": "stdout",
     "output_type": "stream",
     "text": [
      "undistorting T:\\Phil\\jumping_revisions\\deeplabcut\\videos\\020722\\PVCHA7RT\\020722_PVCHA7RT_control_SIDE_23.avi\n",
      "saving to T:\\Phil\\jumping_revisions\\deeplabcut\\videos\\020722\\PVCHA7RT\\020722_PVCHA7RT_control_23_SIDEcalib.avi\n"
     ]
    },
    {
     "name": "stderr",
     "output_type": "stream",
     "text": [
      "100%|████████████████████████████████████████████████████████████████████████████████| 484/484 [00:17<00:00, 27.09it/s]\n"
     ]
    },
    {
     "name": "stdout",
     "output_type": "stream",
     "text": [
      "undistorting T:\\Phil\\jumping_revisions\\deeplabcut\\videos\\020722\\PVCHA7RT\\020722_PVCHA7RT_control_SIDE_24.avi\n",
      "saving to T:\\Phil\\jumping_revisions\\deeplabcut\\videos\\020722\\PVCHA7RT\\020722_PVCHA7RT_control_24_SIDEcalib.avi\n"
     ]
    },
    {
     "name": "stderr",
     "output_type": "stream",
     "text": [
      "100%|████████████████████████████████████████████████████████████████████████████████| 811/811 [00:28<00:00, 28.88it/s]\n"
     ]
    },
    {
     "name": "stdout",
     "output_type": "stream",
     "text": [
      "undistorting T:\\Phil\\jumping_revisions\\deeplabcut\\videos\\020722\\PVCHA7RT\\020722_PVCHA7RT_control_SIDE_25.avi\n",
      "saving to T:\\Phil\\jumping_revisions\\deeplabcut\\videos\\020722\\PVCHA7RT\\020722_PVCHA7RT_control_25_SIDEcalib.avi\n"
     ]
    },
    {
     "name": "stderr",
     "output_type": "stream",
     "text": [
      "100%|████████████████████████████████████████████████████████████████████████████████| 432/432 [00:16<00:00, 26.00it/s]\n"
     ]
    },
    {
     "name": "stdout",
     "output_type": "stream",
     "text": [
      "undistorting T:\\Phil\\jumping_revisions\\deeplabcut\\videos\\020722\\PVCHA7RT\\020722_PVCHA7RT_control_SIDE_26.avi\n",
      "saving to T:\\Phil\\jumping_revisions\\deeplabcut\\videos\\020722\\PVCHA7RT\\020722_PVCHA7RT_control_26_SIDEcalib.avi\n"
     ]
    },
    {
     "name": "stderr",
     "output_type": "stream",
     "text": [
      "100%|████████████████████████████████████████████████████████████████████████████████| 430/430 [00:14<00:00, 28.84it/s]\n"
     ]
    },
    {
     "name": "stdout",
     "output_type": "stream",
     "text": [
      "undistorting T:\\Phil\\jumping_revisions\\deeplabcut\\videos\\020722\\PVCHA7RT\\020722_PVCHA7RT_control_SIDE_27.avi\n",
      "saving to T:\\Phil\\jumping_revisions\\deeplabcut\\videos\\020722\\PVCHA7RT\\020722_PVCHA7RT_control_27_SIDEcalib.avi\n"
     ]
    },
    {
     "name": "stderr",
     "output_type": "stream",
     "text": [
      "100%|████████████████████████████████████████████████████████████████████████████████| 599/599 [00:23<00:00, 25.94it/s]\n"
     ]
    },
    {
     "name": "stdout",
     "output_type": "stream",
     "text": [
      "undistorting T:\\Phil\\jumping_revisions\\deeplabcut\\videos\\020722\\PVCHA7RT\\020722_PVCHA7RT_control_SIDE_28.avi\n",
      "saving to T:\\Phil\\jumping_revisions\\deeplabcut\\videos\\020722\\PVCHA7RT\\020722_PVCHA7RT_control_28_SIDEcalib.avi\n"
     ]
    },
    {
     "name": "stderr",
     "output_type": "stream",
     "text": [
      "100%|████████████████████████████████████████████████████████████████████████████████| 390/390 [00:13<00:00, 28.65it/s]\n"
     ]
    },
    {
     "name": "stdout",
     "output_type": "stream",
     "text": [
      "undistorting T:\\Phil\\jumping_revisions\\deeplabcut\\videos\\020722\\PVCHA7RT\\020722_PVCHA7RT_control_SIDE_29.avi\n",
      "saving to T:\\Phil\\jumping_revisions\\deeplabcut\\videos\\020722\\PVCHA7RT\\020722_PVCHA7RT_control_29_SIDEcalib.avi\n"
     ]
    },
    {
     "name": "stderr",
     "output_type": "stream",
     "text": [
      "100%|██████████████████████████████████████████████████████████████████████████████| 1031/1031 [00:39<00:00, 25.95it/s]\n"
     ]
    },
    {
     "name": "stdout",
     "output_type": "stream",
     "text": [
      "undistorting T:\\Phil\\jumping_revisions\\deeplabcut\\videos\\020722\\PVCHA7RT\\020722_PVCHA7RT_control_SIDE_3.avi\n",
      "saving to T:\\Phil\\jumping_revisions\\deeplabcut\\videos\\020722\\PVCHA7RT\\020722_PVCHA7RT_control_3_SIDEcalib.avi\n"
     ]
    },
    {
     "name": "stderr",
     "output_type": "stream",
     "text": [
      "100%|████████████████████████████████████████████████████████████████████████████████| 332/332 [00:11<00:00, 28.67it/s]\n"
     ]
    },
    {
     "name": "stdout",
     "output_type": "stream",
     "text": [
      "undistorting T:\\Phil\\jumping_revisions\\deeplabcut\\videos\\020722\\PVCHA7RT\\020722_PVCHA7RT_control_SIDE_30.avi\n",
      "saving to T:\\Phil\\jumping_revisions\\deeplabcut\\videos\\020722\\PVCHA7RT\\020722_PVCHA7RT_control_30_SIDEcalib.avi\n"
     ]
    },
    {
     "name": "stderr",
     "output_type": "stream",
     "text": [
      "100%|████████████████████████████████████████████████████████████████████████████████| 614/614 [00:21<00:00, 29.01it/s]\n"
     ]
    },
    {
     "name": "stdout",
     "output_type": "stream",
     "text": [
      "undistorting T:\\Phil\\jumping_revisions\\deeplabcut\\videos\\020722\\PVCHA7RT\\020722_PVCHA7RT_control_SIDE_31.avi\n",
      "saving to T:\\Phil\\jumping_revisions\\deeplabcut\\videos\\020722\\PVCHA7RT\\020722_PVCHA7RT_control_31_SIDEcalib.avi\n"
     ]
    },
    {
     "name": "stderr",
     "output_type": "stream",
     "text": [
      "100%|████████████████████████████████████████████████████████████████████████████████| 761/761 [00:28<00:00, 26.45it/s]\n"
     ]
    },
    {
     "name": "stdout",
     "output_type": "stream",
     "text": [
      "undistorting T:\\Phil\\jumping_revisions\\deeplabcut\\videos\\020722\\PVCHA7RT\\020722_PVCHA7RT_control_SIDE_32.avi\n",
      "saving to T:\\Phil\\jumping_revisions\\deeplabcut\\videos\\020722\\PVCHA7RT\\020722_PVCHA7RT_control_32_SIDEcalib.avi\n"
     ]
    },
    {
     "name": "stderr",
     "output_type": "stream",
     "text": [
      "100%|████████████████████████████████████████████████████████████████████████████████| 693/693 [00:24<00:00, 28.78it/s]\n"
     ]
    },
    {
     "name": "stdout",
     "output_type": "stream",
     "text": [
      "undistorting T:\\Phil\\jumping_revisions\\deeplabcut\\videos\\020722\\PVCHA7RT\\020722_PVCHA7RT_control_SIDE_33.avi\n",
      "saving to T:\\Phil\\jumping_revisions\\deeplabcut\\videos\\020722\\PVCHA7RT\\020722_PVCHA7RT_control_33_SIDEcalib.avi\n"
     ]
    },
    {
     "name": "stderr",
     "output_type": "stream",
     "text": [
      "100%|██████████████████████████████████████████████████████████████████████████████| 1237/1237 [00:45<00:00, 26.94it/s]\n"
     ]
    },
    {
     "name": "stdout",
     "output_type": "stream",
     "text": [
      "undistorting T:\\Phil\\jumping_revisions\\deeplabcut\\videos\\020722\\PVCHA7RT\\020722_PVCHA7RT_control_SIDE_34.avi\n",
      "saving to T:\\Phil\\jumping_revisions\\deeplabcut\\videos\\020722\\PVCHA7RT\\020722_PVCHA7RT_control_34_SIDEcalib.avi\n"
     ]
    },
    {
     "name": "stderr",
     "output_type": "stream",
     "text": [
      "100%|████████████████████████████████████████████████████████████████████████████████| 390/390 [00:13<00:00, 28.87it/s]\n"
     ]
    },
    {
     "name": "stdout",
     "output_type": "stream",
     "text": [
      "undistorting T:\\Phil\\jumping_revisions\\deeplabcut\\videos\\020722\\PVCHA7RT\\020722_PVCHA7RT_control_SIDE_35.avi\n",
      "saving to T:\\Phil\\jumping_revisions\\deeplabcut\\videos\\020722\\PVCHA7RT\\020722_PVCHA7RT_control_35_SIDEcalib.avi\n"
     ]
    },
    {
     "name": "stderr",
     "output_type": "stream",
     "text": [
      "100%|████████████████████████████████████████████████████████████████████████████████| 681/681 [00:26<00:00, 25.86it/s]\n"
     ]
    },
    {
     "name": "stdout",
     "output_type": "stream",
     "text": [
      "undistorting T:\\Phil\\jumping_revisions\\deeplabcut\\videos\\020722\\PVCHA7RT\\020722_PVCHA7RT_control_SIDE_36.avi\n",
      "saving to T:\\Phil\\jumping_revisions\\deeplabcut\\videos\\020722\\PVCHA7RT\\020722_PVCHA7RT_control_36_SIDEcalib.avi\n"
     ]
    },
    {
     "name": "stderr",
     "output_type": "stream",
     "text": [
      "100%|████████████████████████████████████████████████████████████████████████████████| 625/625 [00:21<00:00, 28.77it/s]\n"
     ]
    },
    {
     "name": "stdout",
     "output_type": "stream",
     "text": [
      "undistorting T:\\Phil\\jumping_revisions\\deeplabcut\\videos\\020722\\PVCHA7RT\\020722_PVCHA7RT_control_SIDE_37.avi\n",
      "saving to T:\\Phil\\jumping_revisions\\deeplabcut\\videos\\020722\\PVCHA7RT\\020722_PVCHA7RT_control_37_SIDEcalib.avi\n"
     ]
    },
    {
     "name": "stderr",
     "output_type": "stream",
     "text": [
      "100%|████████████████████████████████████████████████████████████████████████████████| 697/697 [00:27<00:00, 25.75it/s]\n"
     ]
    },
    {
     "name": "stdout",
     "output_type": "stream",
     "text": [
      "undistorting T:\\Phil\\jumping_revisions\\deeplabcut\\videos\\020722\\PVCHA7RT\\020722_PVCHA7RT_control_SIDE_38.avi\n",
      "saving to T:\\Phil\\jumping_revisions\\deeplabcut\\videos\\020722\\PVCHA7RT\\020722_PVCHA7RT_control_38_SIDEcalib.avi\n"
     ]
    },
    {
     "name": "stderr",
     "output_type": "stream",
     "text": [
      "100%|████████████████████████████████████████████████████████████████████████████████| 365/365 [00:12<00:00, 28.88it/s]\n"
     ]
    },
    {
     "name": "stdout",
     "output_type": "stream",
     "text": [
      "undistorting T:\\Phil\\jumping_revisions\\deeplabcut\\videos\\020722\\PVCHA7RT\\020722_PVCHA7RT_control_SIDE_39.avi\n",
      "saving to T:\\Phil\\jumping_revisions\\deeplabcut\\videos\\020722\\PVCHA7RT\\020722_PVCHA7RT_control_39_SIDEcalib.avi\n"
     ]
    },
    {
     "name": "stderr",
     "output_type": "stream",
     "text": [
      "100%|████████████████████████████████████████████████████████████████████████████████| 504/504 [00:19<00:00, 25.99it/s]\n"
     ]
    },
    {
     "name": "stdout",
     "output_type": "stream",
     "text": [
      "undistorting T:\\Phil\\jumping_revisions\\deeplabcut\\videos\\020722\\PVCHA7RT\\020722_PVCHA7RT_control_SIDE_4.avi\n",
      "saving to T:\\Phil\\jumping_revisions\\deeplabcut\\videos\\020722\\PVCHA7RT\\020722_PVCHA7RT_control_4_SIDEcalib.avi\n"
     ]
    },
    {
     "name": "stderr",
     "output_type": "stream",
     "text": [
      "100%|██████████████████████████████████████████████████████████████████████████████| 1119/1119 [00:38<00:00, 28.94it/s]\n"
     ]
    },
    {
     "name": "stdout",
     "output_type": "stream",
     "text": [
      "undistorting T:\\Phil\\jumping_revisions\\deeplabcut\\videos\\020722\\PVCHA7RT\\020722_PVCHA7RT_control_SIDE_40.avi\n",
      "saving to T:\\Phil\\jumping_revisions\\deeplabcut\\videos\\020722\\PVCHA7RT\\020722_PVCHA7RT_control_40_SIDEcalib.avi\n"
     ]
    },
    {
     "name": "stderr",
     "output_type": "stream",
     "text": [
      "100%|████████████████████████████████████████████████████████████████████████████████| 520/520 [00:17<00:00, 28.96it/s]\n"
     ]
    },
    {
     "name": "stdout",
     "output_type": "stream",
     "text": [
      "undistorting T:\\Phil\\jumping_revisions\\deeplabcut\\videos\\020722\\PVCHA7RT\\020722_PVCHA7RT_control_SIDE_41.avi\n",
      "saving to T:\\Phil\\jumping_revisions\\deeplabcut\\videos\\020722\\PVCHA7RT\\020722_PVCHA7RT_control_41_SIDEcalib.avi\n"
     ]
    },
    {
     "name": "stderr",
     "output_type": "stream",
     "text": [
      "100%|████████████████████████████████████████████████████████████████████████████████| 694/694 [00:26<00:00, 26.54it/s]\n"
     ]
    },
    {
     "name": "stdout",
     "output_type": "stream",
     "text": [
      "undistorting T:\\Phil\\jumping_revisions\\deeplabcut\\videos\\020722\\PVCHA7RT\\020722_PVCHA7RT_control_SIDE_42.avi\n",
      "saving to T:\\Phil\\jumping_revisions\\deeplabcut\\videos\\020722\\PVCHA7RT\\020722_PVCHA7RT_control_42_SIDEcalib.avi\n"
     ]
    },
    {
     "name": "stderr",
     "output_type": "stream",
     "text": [
      "100%|████████████████████████████████████████████████████████████████████████████████| 452/452 [00:15<00:00, 28.85it/s]\n"
     ]
    },
    {
     "name": "stdout",
     "output_type": "stream",
     "text": [
      "undistorting T:\\Phil\\jumping_revisions\\deeplabcut\\videos\\020722\\PVCHA7RT\\020722_PVCHA7RT_control_SIDE_43.avi\n",
      "saving to T:\\Phil\\jumping_revisions\\deeplabcut\\videos\\020722\\PVCHA7RT\\020722_PVCHA7RT_control_43_SIDEcalib.avi\n"
     ]
    },
    {
     "name": "stderr",
     "output_type": "stream",
     "text": [
      "100%|████████████████████████████████████████████████████████████████████████████████| 473/473 [00:17<00:00, 27.20it/s]\n"
     ]
    },
    {
     "name": "stdout",
     "output_type": "stream",
     "text": [
      "undistorting T:\\Phil\\jumping_revisions\\deeplabcut\\videos\\020722\\PVCHA7RT\\020722_PVCHA7RT_control_SIDE_5.avi\n",
      "saving to T:\\Phil\\jumping_revisions\\deeplabcut\\videos\\020722\\PVCHA7RT\\020722_PVCHA7RT_control_5_SIDEcalib.avi\n"
     ]
    },
    {
     "name": "stderr",
     "output_type": "stream",
     "text": [
      "100%|████████████████████████████████████████████████████████████████████████████████| 547/547 [00:18<00:00, 28.87it/s]\n"
     ]
    },
    {
     "name": "stdout",
     "output_type": "stream",
     "text": [
      "undistorting T:\\Phil\\jumping_revisions\\deeplabcut\\videos\\020722\\PVCHA7RT\\020722_PVCHA7RT_control_SIDE_6.avi\n",
      "saving to T:\\Phil\\jumping_revisions\\deeplabcut\\videos\\020722\\PVCHA7RT\\020722_PVCHA7RT_control_6_SIDEcalib.avi\n"
     ]
    },
    {
     "name": "stderr",
     "output_type": "stream",
     "text": [
      "100%|████████████████████████████████████████████████████████████████████████████████| 475/475 [00:17<00:00, 27.03it/s]\n"
     ]
    },
    {
     "name": "stdout",
     "output_type": "stream",
     "text": [
      "undistorting T:\\Phil\\jumping_revisions\\deeplabcut\\videos\\020722\\PVCHA7RT\\020722_PVCHA7RT_control_SIDE_7.avi\n",
      "saving to T:\\Phil\\jumping_revisions\\deeplabcut\\videos\\020722\\PVCHA7RT\\020722_PVCHA7RT_control_7_SIDEcalib.avi\n"
     ]
    },
    {
     "name": "stderr",
     "output_type": "stream",
     "text": [
      "100%|████████████████████████████████████████████████████████████████████████████████| 669/669 [00:23<00:00, 28.98it/s]\n"
     ]
    },
    {
     "name": "stdout",
     "output_type": "stream",
     "text": [
      "undistorting T:\\Phil\\jumping_revisions\\deeplabcut\\videos\\020722\\PVCHA7RT\\020722_PVCHA7RT_control_SIDE_8.avi\n",
      "saving to T:\\Phil\\jumping_revisions\\deeplabcut\\videos\\020722\\PVCHA7RT\\020722_PVCHA7RT_control_8_SIDEcalib.avi\n"
     ]
    },
    {
     "name": "stderr",
     "output_type": "stream",
     "text": [
      "100%|████████████████████████████████████████████████████████████████████████████████| 493/493 [00:18<00:00, 26.11it/s]\n"
     ]
    },
    {
     "name": "stdout",
     "output_type": "stream",
     "text": [
      "undistorting T:\\Phil\\jumping_revisions\\deeplabcut\\videos\\020722\\PVCHA7RT\\020722_PVCHA7RT_control_SIDE_9.avi\n",
      "saving to T:\\Phil\\jumping_revisions\\deeplabcut\\videos\\020722\\PVCHA7RT\\020722_PVCHA7RT_control_9_SIDEcalib.avi\n"
     ]
    },
    {
     "name": "stderr",
     "output_type": "stream",
     "text": [
      "100%|████████████████████████████████████████████████████████████████████████████████| 564/564 [00:19<00:00, 28.76it/s]\n"
     ]
    },
    {
     "name": "stdout",
     "output_type": "stream",
     "text": [
      "undistorting T:\\Phil\\jumping_revisions\\deeplabcut\\videos\\020722\\PVCHA7TT\\020722_PVCHA7TT_control_SIDE_0.avi\n",
      "saving to T:\\Phil\\jumping_revisions\\deeplabcut\\videos\\020722\\PVCHA7TT\\020722_PVCHA7TT_control_0_SIDEcalib.avi\n"
     ]
    },
    {
     "name": "stderr",
     "output_type": "stream",
     "text": [
      "100%|████████████████████████████████████████████████████████████████████████████████| 403/403 [00:13<00:00, 28.85it/s]\n"
     ]
    },
    {
     "name": "stdout",
     "output_type": "stream",
     "text": [
      "undistorting T:\\Phil\\jumping_revisions\\deeplabcut\\videos\\020722\\PVCHA7TT\\020722_PVCHA7TT_control_SIDE_1.avi\n",
      "saving to T:\\Phil\\jumping_revisions\\deeplabcut\\videos\\020722\\PVCHA7TT\\020722_PVCHA7TT_control_1_SIDEcalib.avi\n"
     ]
    },
    {
     "name": "stderr",
     "output_type": "stream",
     "text": [
      "100%|████████████████████████████████████████████████████████████████████████████████| 428/428 [00:16<00:00, 26.47it/s]\n"
     ]
    },
    {
     "name": "stdout",
     "output_type": "stream",
     "text": [
      "undistorting T:\\Phil\\jumping_revisions\\deeplabcut\\videos\\020722\\PVCHA7TT\\020722_PVCHA7TT_control_SIDE_10.avi\n",
      "saving to T:\\Phil\\jumping_revisions\\deeplabcut\\videos\\020722\\PVCHA7TT\\020722_PVCHA7TT_control_10_SIDEcalib.avi\n"
     ]
    },
    {
     "name": "stderr",
     "output_type": "stream",
     "text": [
      "100%|████████████████████████████████████████████████████████████████████████████████| 773/773 [00:26<00:00, 28.93it/s]\n"
     ]
    },
    {
     "name": "stdout",
     "output_type": "stream",
     "text": [
      "undistorting T:\\Phil\\jumping_revisions\\deeplabcut\\videos\\020722\\PVCHA7TT\\020722_PVCHA7TT_control_SIDE_11.avi\n",
      "saving to T:\\Phil\\jumping_revisions\\deeplabcut\\videos\\020722\\PVCHA7TT\\020722_PVCHA7TT_control_11_SIDEcalib.avi\n"
     ]
    },
    {
     "name": "stderr",
     "output_type": "stream",
     "text": [
      "100%|████████████████████████████████████████████████████████████████████████████████| 628/628 [00:24<00:00, 25.95it/s]\n"
     ]
    },
    {
     "name": "stdout",
     "output_type": "stream",
     "text": [
      "undistorting T:\\Phil\\jumping_revisions\\deeplabcut\\videos\\020722\\PVCHA7TT\\020722_PVCHA7TT_control_SIDE_12.avi\n",
      "saving to T:\\Phil\\jumping_revisions\\deeplabcut\\videos\\020722\\PVCHA7TT\\020722_PVCHA7TT_control_12_SIDEcalib.avi\n"
     ]
    },
    {
     "name": "stderr",
     "output_type": "stream",
     "text": [
      "100%|████████████████████████████████████████████████████████████████████████████████| 434/434 [00:15<00:00, 28.70it/s]\n"
     ]
    },
    {
     "name": "stdout",
     "output_type": "stream",
     "text": [
      "undistorting T:\\Phil\\jumping_revisions\\deeplabcut\\videos\\020722\\PVCHA7TT\\020722_PVCHA7TT_control_SIDE_13.avi\n",
      "saving to T:\\Phil\\jumping_revisions\\deeplabcut\\videos\\020722\\PVCHA7TT\\020722_PVCHA7TT_control_13_SIDEcalib.avi\n"
     ]
    },
    {
     "name": "stderr",
     "output_type": "stream",
     "text": [
      "100%|████████████████████████████████████████████████████████████████████████████████| 488/488 [00:19<00:00, 25.52it/s]\n"
     ]
    },
    {
     "name": "stdout",
     "output_type": "stream",
     "text": [
      "undistorting T:\\Phil\\jumping_revisions\\deeplabcut\\videos\\020722\\PVCHA7TT\\020722_PVCHA7TT_control_SIDE_14.avi\n",
      "saving to T:\\Phil\\jumping_revisions\\deeplabcut\\videos\\020722\\PVCHA7TT\\020722_PVCHA7TT_control_14_SIDEcalib.avi\n"
     ]
    },
    {
     "name": "stderr",
     "output_type": "stream",
     "text": [
      "100%|████████████████████████████████████████████████████████████████████████████████| 546/546 [00:18<00:00, 28.95it/s]\n"
     ]
    },
    {
     "name": "stdout",
     "output_type": "stream",
     "text": [
      "undistorting T:\\Phil\\jumping_revisions\\deeplabcut\\videos\\020722\\PVCHA7TT\\020722_PVCHA7TT_control_SIDE_15.avi\n",
      "saving to T:\\Phil\\jumping_revisions\\deeplabcut\\videos\\020722\\PVCHA7TT\\020722_PVCHA7TT_control_15_SIDEcalib.avi\n"
     ]
    },
    {
     "name": "stderr",
     "output_type": "stream",
     "text": [
      "100%|████████████████████████████████████████████████████████████████████████████████| 702/702 [00:27<00:00, 25.97it/s]\n"
     ]
    },
    {
     "name": "stdout",
     "output_type": "stream",
     "text": [
      "undistorting T:\\Phil\\jumping_revisions\\deeplabcut\\videos\\020722\\PVCHA7TT\\020722_PVCHA7TT_control_SIDE_16.avi\n",
      "saving to T:\\Phil\\jumping_revisions\\deeplabcut\\videos\\020722\\PVCHA7TT\\020722_PVCHA7TT_control_16_SIDEcalib.avi\n"
     ]
    },
    {
     "name": "stderr",
     "output_type": "stream",
     "text": [
      "100%|████████████████████████████████████████████████████████████████████████████████| 435/435 [00:15<00:00, 28.78it/s]\n"
     ]
    },
    {
     "name": "stdout",
     "output_type": "stream",
     "text": [
      "undistorting T:\\Phil\\jumping_revisions\\deeplabcut\\videos\\020722\\PVCHA7TT\\020722_PVCHA7TT_control_SIDE_17.avi\n",
      "saving to T:\\Phil\\jumping_revisions\\deeplabcut\\videos\\020722\\PVCHA7TT\\020722_PVCHA7TT_control_17_SIDEcalib.avi\n"
     ]
    },
    {
     "name": "stderr",
     "output_type": "stream",
     "text": [
      "100%|████████████████████████████████████████████████████████████████████████████████| 505/505 [00:20<00:00, 25.11it/s]\n"
     ]
    },
    {
     "name": "stdout",
     "output_type": "stream",
     "text": [
      "undistorting T:\\Phil\\jumping_revisions\\deeplabcut\\videos\\020722\\PVCHA7TT\\020722_PVCHA7TT_control_SIDE_18.avi\n",
      "saving to T:\\Phil\\jumping_revisions\\deeplabcut\\videos\\020722\\PVCHA7TT\\020722_PVCHA7TT_control_18_SIDEcalib.avi\n"
     ]
    },
    {
     "name": "stderr",
     "output_type": "stream",
     "text": [
      "100%|████████████████████████████████████████████████████████████████████████████████| 441/441 [00:15<00:00, 28.77it/s]\n"
     ]
    },
    {
     "name": "stdout",
     "output_type": "stream",
     "text": [
      "undistorting T:\\Phil\\jumping_revisions\\deeplabcut\\videos\\020722\\PVCHA7TT\\020722_PVCHA7TT_control_SIDE_19.avi\n",
      "saving to T:\\Phil\\jumping_revisions\\deeplabcut\\videos\\020722\\PVCHA7TT\\020722_PVCHA7TT_control_19_SIDEcalib.avi\n"
     ]
    },
    {
     "name": "stderr",
     "output_type": "stream",
     "text": [
      "100%|████████████████████████████████████████████████████████████████████████████████| 571/571 [00:19<00:00, 28.85it/s]\n"
     ]
    },
    {
     "name": "stdout",
     "output_type": "stream",
     "text": [
      "undistorting T:\\Phil\\jumping_revisions\\deeplabcut\\videos\\020722\\PVCHA7TT\\020722_PVCHA7TT_control_SIDE_2.avi\n",
      "saving to T:\\Phil\\jumping_revisions\\deeplabcut\\videos\\020722\\PVCHA7TT\\020722_PVCHA7TT_control_2_SIDEcalib.avi\n"
     ]
    },
    {
     "name": "stderr",
     "output_type": "stream",
     "text": [
      "100%|████████████████████████████████████████████████████████████████████████████████| 726/726 [00:27<00:00, 25.94it/s]\n"
     ]
    },
    {
     "name": "stdout",
     "output_type": "stream",
     "text": [
      "undistorting T:\\Phil\\jumping_revisions\\deeplabcut\\videos\\020722\\PVCHA7TT\\020722_PVCHA7TT_control_SIDE_20.avi\n",
      "saving to T:\\Phil\\jumping_revisions\\deeplabcut\\videos\\020722\\PVCHA7TT\\020722_PVCHA7TT_control_20_SIDEcalib.avi\n"
     ]
    },
    {
     "name": "stderr",
     "output_type": "stream",
     "text": [
      "100%|████████████████████████████████████████████████████████████████████████████████| 598/598 [00:20<00:00, 28.89it/s]\n"
     ]
    },
    {
     "name": "stdout",
     "output_type": "stream",
     "text": [
      "undistorting T:\\Phil\\jumping_revisions\\deeplabcut\\videos\\020722\\PVCHA7TT\\020722_PVCHA7TT_control_SIDE_21.avi\n",
      "saving to T:\\Phil\\jumping_revisions\\deeplabcut\\videos\\020722\\PVCHA7TT\\020722_PVCHA7TT_control_21_SIDEcalib.avi\n"
     ]
    },
    {
     "name": "stderr",
     "output_type": "stream",
     "text": [
      "100%|████████████████████████████████████████████████████████████████████████████████| 427/427 [00:16<00:00, 25.91it/s]\n"
     ]
    },
    {
     "name": "stdout",
     "output_type": "stream",
     "text": [
      "undistorting T:\\Phil\\jumping_revisions\\deeplabcut\\videos\\020722\\PVCHA7TT\\020722_PVCHA7TT_control_SIDE_22.avi\n",
      "saving to T:\\Phil\\jumping_revisions\\deeplabcut\\videos\\020722\\PVCHA7TT\\020722_PVCHA7TT_control_22_SIDEcalib.avi\n"
     ]
    },
    {
     "name": "stderr",
     "output_type": "stream",
     "text": [
      "100%|████████████████████████████████████████████████████████████████████████████████| 483/483 [00:16<00:00, 28.86it/s]\n"
     ]
    },
    {
     "name": "stdout",
     "output_type": "stream",
     "text": [
      "undistorting T:\\Phil\\jumping_revisions\\deeplabcut\\videos\\020722\\PVCHA7TT\\020722_PVCHA7TT_control_SIDE_23.avi\n",
      "saving to T:\\Phil\\jumping_revisions\\deeplabcut\\videos\\020722\\PVCHA7TT\\020722_PVCHA7TT_control_23_SIDEcalib.avi\n"
     ]
    },
    {
     "name": "stderr",
     "output_type": "stream",
     "text": [
      "100%|██████████████████████████████████████████████████████████████████████████████| 1288/1288 [00:50<00:00, 25.61it/s]\n"
     ]
    },
    {
     "name": "stdout",
     "output_type": "stream",
     "text": [
      "undistorting T:\\Phil\\jumping_revisions\\deeplabcut\\videos\\020722\\PVCHA7TT\\020722_PVCHA7TT_control_SIDE_24.avi\n",
      "saving to T:\\Phil\\jumping_revisions\\deeplabcut\\videos\\020722\\PVCHA7TT\\020722_PVCHA7TT_control_24_SIDEcalib.avi\n"
     ]
    },
    {
     "name": "stderr",
     "output_type": "stream",
     "text": [
      "100%|████████████████████████████████████████████████████████████████████████████████| 439/439 [00:15<00:00, 28.85it/s]\n"
     ]
    },
    {
     "name": "stdout",
     "output_type": "stream",
     "text": [
      "undistorting T:\\Phil\\jumping_revisions\\deeplabcut\\videos\\020722\\PVCHA7TT\\020722_PVCHA7TT_control_SIDE_25.avi\n",
      "saving to T:\\Phil\\jumping_revisions\\deeplabcut\\videos\\020722\\PVCHA7TT\\020722_PVCHA7TT_control_25_SIDEcalib.avi\n"
     ]
    },
    {
     "name": "stderr",
     "output_type": "stream",
     "text": [
      "100%|████████████████████████████████████████████████████████████████████████████████| 843/843 [00:32<00:00, 25.79it/s]\n"
     ]
    },
    {
     "name": "stdout",
     "output_type": "stream",
     "text": [
      "undistorting T:\\Phil\\jumping_revisions\\deeplabcut\\videos\\020722\\PVCHA7TT\\020722_PVCHA7TT_control_SIDE_26.avi\n",
      "saving to T:\\Phil\\jumping_revisions\\deeplabcut\\videos\\020722\\PVCHA7TT\\020722_PVCHA7TT_control_26_SIDEcalib.avi\n"
     ]
    },
    {
     "name": "stderr",
     "output_type": "stream",
     "text": [
      "100%|████████████████████████████████████████████████████████████████████████████████| 632/632 [00:21<00:00, 28.94it/s]\n"
     ]
    },
    {
     "name": "stdout",
     "output_type": "stream",
     "text": [
      "undistorting T:\\Phil\\jumping_revisions\\deeplabcut\\videos\\020722\\PVCHA7TT\\020722_PVCHA7TT_control_SIDE_27.avi\n",
      "saving to T:\\Phil\\jumping_revisions\\deeplabcut\\videos\\020722\\PVCHA7TT\\020722_PVCHA7TT_control_27_SIDEcalib.avi\n"
     ]
    },
    {
     "name": "stderr",
     "output_type": "stream",
     "text": [
      "100%|████████████████████████████████████████████████████████████████████████████████| 577/577 [00:23<00:00, 25.01it/s]\n"
     ]
    },
    {
     "name": "stdout",
     "output_type": "stream",
     "text": [
      "undistorting T:\\Phil\\jumping_revisions\\deeplabcut\\videos\\020722\\PVCHA7TT\\020722_PVCHA7TT_control_SIDE_28.avi\n",
      "saving to T:\\Phil\\jumping_revisions\\deeplabcut\\videos\\020722\\PVCHA7TT\\020722_PVCHA7TT_control_28_SIDEcalib.avi\n"
     ]
    },
    {
     "name": "stderr",
     "output_type": "stream",
     "text": [
      "100%|████████████████████████████████████████████████████████████████████████████████| 747/747 [00:25<00:00, 28.87it/s]\n"
     ]
    },
    {
     "name": "stdout",
     "output_type": "stream",
     "text": [
      "undistorting T:\\Phil\\jumping_revisions\\deeplabcut\\videos\\020722\\PVCHA7TT\\020722_PVCHA7TT_control_SIDE_29.avi\n",
      "saving to T:\\Phil\\jumping_revisions\\deeplabcut\\videos\\020722\\PVCHA7TT\\020722_PVCHA7TT_control_29_SIDEcalib.avi\n"
     ]
    },
    {
     "name": "stderr",
     "output_type": "stream",
     "text": [
      "100%|████████████████████████████████████████████████████████████████████████████████| 726/726 [00:25<00:00, 28.86it/s]\n"
     ]
    },
    {
     "name": "stdout",
     "output_type": "stream",
     "text": [
      "undistorting T:\\Phil\\jumping_revisions\\deeplabcut\\videos\\020722\\PVCHA7TT\\020722_PVCHA7TT_control_SIDE_3.avi\n",
      "saving to T:\\Phil\\jumping_revisions\\deeplabcut\\videos\\020722\\PVCHA7TT\\020722_PVCHA7TT_control_3_SIDEcalib.avi\n"
     ]
    },
    {
     "name": "stderr",
     "output_type": "stream",
     "text": [
      "100%|████████████████████████████████████████████████████████████████████████████████| 977/977 [00:36<00:00, 26.45it/s]\n"
     ]
    },
    {
     "name": "stdout",
     "output_type": "stream",
     "text": [
      "undistorting T:\\Phil\\jumping_revisions\\deeplabcut\\videos\\020722\\PVCHA7TT\\020722_PVCHA7TT_control_SIDE_30.avi\n",
      "saving to T:\\Phil\\jumping_revisions\\deeplabcut\\videos\\020722\\PVCHA7TT\\020722_PVCHA7TT_control_30_SIDEcalib.avi\n"
     ]
    },
    {
     "name": "stderr",
     "output_type": "stream",
     "text": [
      "100%|████████████████████████████████████████████████████████████████████████████████| 470/470 [00:16<00:00, 28.87it/s]\n"
     ]
    },
    {
     "name": "stdout",
     "output_type": "stream",
     "text": [
      "undistorting T:\\Phil\\jumping_revisions\\deeplabcut\\videos\\020722\\PVCHA7TT\\020722_PVCHA7TT_control_SIDE_31.avi\n",
      "saving to T:\\Phil\\jumping_revisions\\deeplabcut\\videos\\020722\\PVCHA7TT\\020722_PVCHA7TT_control_31_SIDEcalib.avi\n"
     ]
    },
    {
     "name": "stderr",
     "output_type": "stream",
     "text": [
      "100%|████████████████████████████████████████████████████████████████████████████████| 444/444 [00:16<00:00, 27.16it/s]\n"
     ]
    },
    {
     "name": "stdout",
     "output_type": "stream",
     "text": [
      "undistorting T:\\Phil\\jumping_revisions\\deeplabcut\\videos\\020722\\PVCHA7TT\\020722_PVCHA7TT_control_SIDE_32.avi\n",
      "saving to T:\\Phil\\jumping_revisions\\deeplabcut\\videos\\020722\\PVCHA7TT\\020722_PVCHA7TT_control_32_SIDEcalib.avi\n"
     ]
    },
    {
     "name": "stderr",
     "output_type": "stream",
     "text": [
      "100%|████████████████████████████████████████████████████████████████████████████████| 733/733 [00:25<00:00, 28.90it/s]\n"
     ]
    },
    {
     "name": "stdout",
     "output_type": "stream",
     "text": [
      "undistorting T:\\Phil\\jumping_revisions\\deeplabcut\\videos\\020722\\PVCHA7TT\\020722_PVCHA7TT_control_SIDE_33.avi\n",
      "saving to T:\\Phil\\jumping_revisions\\deeplabcut\\videos\\020722\\PVCHA7TT\\020722_PVCHA7TT_control_33_SIDEcalib.avi\n"
     ]
    },
    {
     "name": "stderr",
     "output_type": "stream",
     "text": [
      "100%|████████████████████████████████████████████████████████████████████████████████| 466/466 [00:17<00:00, 27.09it/s]\n"
     ]
    },
    {
     "name": "stdout",
     "output_type": "stream",
     "text": [
      "undistorting T:\\Phil\\jumping_revisions\\deeplabcut\\videos\\020722\\PVCHA7TT\\020722_PVCHA7TT_control_SIDE_34.avi\n",
      "saving to T:\\Phil\\jumping_revisions\\deeplabcut\\videos\\020722\\PVCHA7TT\\020722_PVCHA7TT_control_34_SIDEcalib.avi\n"
     ]
    },
    {
     "name": "stderr",
     "output_type": "stream",
     "text": [
      "100%|████████████████████████████████████████████████████████████████████████████████| 539/539 [00:18<00:00, 28.87it/s]\n"
     ]
    },
    {
     "name": "stdout",
     "output_type": "stream",
     "text": [
      "undistorting T:\\Phil\\jumping_revisions\\deeplabcut\\videos\\020722\\PVCHA7TT\\020722_PVCHA7TT_control_SIDE_35.avi\n",
      "saving to T:\\Phil\\jumping_revisions\\deeplabcut\\videos\\020722\\PVCHA7TT\\020722_PVCHA7TT_control_35_SIDEcalib.avi\n"
     ]
    },
    {
     "name": "stderr",
     "output_type": "stream",
     "text": [
      "100%|████████████████████████████████████████████████████████████████████████████████| 516/516 [00:19<00:00, 25.98it/s]\n"
     ]
    },
    {
     "name": "stdout",
     "output_type": "stream",
     "text": [
      "undistorting T:\\Phil\\jumping_revisions\\deeplabcut\\videos\\020722\\PVCHA7TT\\020722_PVCHA7TT_control_SIDE_36.avi\n",
      "saving to T:\\Phil\\jumping_revisions\\deeplabcut\\videos\\020722\\PVCHA7TT\\020722_PVCHA7TT_control_36_SIDEcalib.avi\n"
     ]
    },
    {
     "name": "stderr",
     "output_type": "stream",
     "text": [
      "100%|██████████████████████████████████████████████████████████████████████████████| 1134/1134 [00:39<00:00, 28.90it/s]\n"
     ]
    },
    {
     "name": "stdout",
     "output_type": "stream",
     "text": [
      "undistorting T:\\Phil\\jumping_revisions\\deeplabcut\\videos\\020722\\PVCHA7TT\\020722_PVCHA7TT_control_SIDE_37.avi\n",
      "saving to T:\\Phil\\jumping_revisions\\deeplabcut\\videos\\020722\\PVCHA7TT\\020722_PVCHA7TT_control_37_SIDEcalib.avi\n"
     ]
    },
    {
     "name": "stderr",
     "output_type": "stream",
     "text": [
      "100%|████████████████████████████████████████████████████████████████████████████████| 639/639 [00:25<00:00, 25.17it/s]\n"
     ]
    },
    {
     "name": "stdout",
     "output_type": "stream",
     "text": [
      "undistorting T:\\Phil\\jumping_revisions\\deeplabcut\\videos\\020722\\PVCHA7TT\\020722_PVCHA7TT_control_SIDE_38.avi\n",
      "saving to T:\\Phil\\jumping_revisions\\deeplabcut\\videos\\020722\\PVCHA7TT\\020722_PVCHA7TT_control_38_SIDEcalib.avi\n"
     ]
    },
    {
     "name": "stderr",
     "output_type": "stream",
     "text": [
      "100%|████████████████████████████████████████████████████████████████████████████████| 536/536 [00:18<00:00, 28.96it/s]\n"
     ]
    },
    {
     "name": "stdout",
     "output_type": "stream",
     "text": [
      "undistorting T:\\Phil\\jumping_revisions\\deeplabcut\\videos\\020722\\PVCHA7TT\\020722_PVCHA7TT_control_SIDE_39.avi\n",
      "saving to T:\\Phil\\jumping_revisions\\deeplabcut\\videos\\020722\\PVCHA7TT\\020722_PVCHA7TT_control_39_SIDEcalib.avi\n"
     ]
    },
    {
     "name": "stderr",
     "output_type": "stream",
     "text": [
      "100%|████████████████████████████████████████████████████████████████████████████████| 477/477 [00:16<00:00, 28.86it/s]\n"
     ]
    },
    {
     "name": "stdout",
     "output_type": "stream",
     "text": [
      "undistorting T:\\Phil\\jumping_revisions\\deeplabcut\\videos\\020722\\PVCHA7TT\\020722_PVCHA7TT_control_SIDE_4.avi\n",
      "saving to T:\\Phil\\jumping_revisions\\deeplabcut\\videos\\020722\\PVCHA7TT\\020722_PVCHA7TT_control_4_SIDEcalib.avi\n"
     ]
    },
    {
     "name": "stderr",
     "output_type": "stream",
     "text": [
      "100%|████████████████████████████████████████████████████████████████████████████████| 851/851 [00:34<00:00, 24.84it/s]\n"
     ]
    },
    {
     "name": "stdout",
     "output_type": "stream",
     "text": [
      "undistorting T:\\Phil\\jumping_revisions\\deeplabcut\\videos\\020722\\PVCHA7TT\\020722_PVCHA7TT_control_SIDE_40.avi\n",
      "saving to T:\\Phil\\jumping_revisions\\deeplabcut\\videos\\020722\\PVCHA7TT\\020722_PVCHA7TT_control_40_SIDEcalib.avi\n"
     ]
    },
    {
     "name": "stderr",
     "output_type": "stream",
     "text": [
      "100%|████████████████████████████████████████████████████████████████████████████████| 993/993 [00:34<00:00, 28.88it/s]\n"
     ]
    },
    {
     "name": "stdout",
     "output_type": "stream",
     "text": [
      "undistorting T:\\Phil\\jumping_revisions\\deeplabcut\\videos\\020722\\PVCHA7TT\\020722_PVCHA7TT_control_SIDE_41.avi\n",
      "saving to T:\\Phil\\jumping_revisions\\deeplabcut\\videos\\020722\\PVCHA7TT\\020722_PVCHA7TT_control_41_SIDEcalib.avi\n"
     ]
    },
    {
     "name": "stderr",
     "output_type": "stream",
     "text": [
      "100%|████████████████████████████████████████████████████████████████████████████████| 466/466 [00:18<00:00, 25.68it/s]\n"
     ]
    },
    {
     "name": "stdout",
     "output_type": "stream",
     "text": [
      "undistorting T:\\Phil\\jumping_revisions\\deeplabcut\\videos\\020722\\PVCHA7TT\\020722_PVCHA7TT_control_SIDE_5.avi\n",
      "saving to T:\\Phil\\jumping_revisions\\deeplabcut\\videos\\020722\\PVCHA7TT\\020722_PVCHA7TT_control_5_SIDEcalib.avi\n"
     ]
    },
    {
     "name": "stderr",
     "output_type": "stream",
     "text": [
      "100%|████████████████████████████████████████████████████████████████████████████████| 542/542 [00:18<00:00, 28.91it/s]\n"
     ]
    },
    {
     "name": "stdout",
     "output_type": "stream",
     "text": [
      "undistorting T:\\Phil\\jumping_revisions\\deeplabcut\\videos\\020722\\PVCHA7TT\\020722_PVCHA7TT_control_SIDE_6.avi\n",
      "saving to T:\\Phil\\jumping_revisions\\deeplabcut\\videos\\020722\\PVCHA7TT\\020722_PVCHA7TT_control_6_SIDEcalib.avi\n"
     ]
    },
    {
     "name": "stderr",
     "output_type": "stream",
     "text": [
      "100%|████████████████████████████████████████████████████████████████████████████████| 419/419 [00:16<00:00, 26.02it/s]\n"
     ]
    },
    {
     "name": "stdout",
     "output_type": "stream",
     "text": [
      "undistorting T:\\Phil\\jumping_revisions\\deeplabcut\\videos\\020722\\PVCHA7TT\\020722_PVCHA7TT_control_SIDE_7.avi\n",
      "saving to T:\\Phil\\jumping_revisions\\deeplabcut\\videos\\020722\\PVCHA7TT\\020722_PVCHA7TT_control_7_SIDEcalib.avi\n"
     ]
    },
    {
     "name": "stderr",
     "output_type": "stream",
     "text": [
      "100%|████████████████████████████████████████████████████████████████████████████████| 443/443 [00:15<00:00, 28.86it/s]\n"
     ]
    },
    {
     "name": "stdout",
     "output_type": "stream",
     "text": [
      "undistorting T:\\Phil\\jumping_revisions\\deeplabcut\\videos\\020722\\PVCHA7TT\\020722_PVCHA7TT_control_SIDE_8.avi\n",
      "saving to T:\\Phil\\jumping_revisions\\deeplabcut\\videos\\020722\\PVCHA7TT\\020722_PVCHA7TT_control_8_SIDEcalib.avi\n"
     ]
    },
    {
     "name": "stderr",
     "output_type": "stream",
     "text": [
      "100%|████████████████████████████████████████████████████████████████████████████████| 516/516 [00:19<00:00, 26.01it/s]\n"
     ]
    },
    {
     "name": "stdout",
     "output_type": "stream",
     "text": [
      "undistorting T:\\Phil\\jumping_revisions\\deeplabcut\\videos\\020722\\PVCHA7TT\\020722_PVCHA7TT_control_SIDE_9.avi\n",
      "saving to T:\\Phil\\jumping_revisions\\deeplabcut\\videos\\020722\\PVCHA7TT\\020722_PVCHA7TT_control_9_SIDEcalib.avi\n"
     ]
    },
    {
     "name": "stderr",
     "output_type": "stream",
     "text": [
      "100%|████████████████████████████████████████████████████████████████████████████████| 438/438 [00:15<00:00, 28.93it/s]\n"
     ]
    }
   ],
   "source": [
    "for animal_directory in animal_directories:\n",
    "    sess = Session(config_path)\n",
    "    sess.config['animal_directory'] = animal_directory\n",
    "    sc = Sidecam(sess.config, None, None, 'SIDE')\n",
    "    sc.undistort(mtxkey='sidecam_mtx', readcamkey='SIDE', savecamkey='_SIDEcalib.avi', checkervid='sidecam_checkerboard')"
   ]
  },
  {
   "cell_type": "code",
   "execution_count": null,
   "metadata": {},
   "outputs": [],
   "source": []
  }
 ],
 "metadata": {
  "kernelspec": {
   "display_name": "Python [conda env:ephys1-gpu] *",
   "language": "python",
   "name": "conda-env-ephys1-gpu-py"
  },
  "language_info": {
   "codemirror_mode": {
    "name": "ipython",
    "version": 3
   },
   "file_extension": ".py",
   "mimetype": "text/x-python",
   "name": "python",
   "nbconvert_exporter": "python",
   "pygments_lexer": "ipython3",
   "version": "3.8.12"
  }
 },
 "nbformat": 4,
 "nbformat_minor": 4
}
