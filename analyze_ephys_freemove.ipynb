{
 "cells": [
  {
   "cell_type": "code",
   "execution_count": 24,
   "metadata": {},
   "outputs": [
    {
     "name": "stdout",
     "output_type": "stream",
     "text": [
      "t:\\freely_moving_ephys\\ephys_recordings\\101420\\G6H28P6LT\\fm1\n"
     ]
    }
   ],
   "source": [
    "cd t:\\freely_moving_ephys\\ephys_recordings\\101420\\G6H28P6LT\\fm1"
   ]
  },
  {
   "cell_type": "code",
   "execution_count": 25,
   "metadata": {
    "scrolled": false
   },
   "outputs": [],
   "source": [
    "#cd \\\\niell-v2-w7\\freely_moving_ephys\\ephys_recordings\\092820\\J524RT\\outputs_Oct07a\n"
   ]
  },
  {
   "cell_type": "code",
   "execution_count": 26,
   "metadata": {
    "scrolled": true
   },
   "outputs": [
    {
     "name": "stdout",
     "output_type": "stream",
     "text": [
      " Volume in drive T is 8tb internal A\n",
      " Volume Serial Number is 7481-8BF5\n",
      "\n",
      " Directory of t:\\freely_moving_ephys\\ephys_recordings\\101420\\G6H28P6LT\\fm1\n",
      "\n",
      "11/22/2020  11:45 PM    <DIR>          .\n",
      "11/22/2020  11:45 PM    <DIR>          ..\n",
      "10/14/2020  01:54 PM    <DIR>          .phy\n",
      "10/14/2020  11:56 AM     4,091,281,408 101420_G6H28P6LT_fm1_Ephys.bin\n",
      "10/14/2020  11:56 AM         4,744,512 101420_G6H28P6LT_fm1_Ephys_BonsaiTS.csv\n",
      "10/14/2020  12:56 PM     2,045,640,704 101420_G6H28P6LT_fm1_Ephys_int16_med1_nch16.bin\n",
      "11/19/2020  09:39 PM       144,467,879 101420_G6H28P6LT_fm1_Ephys_medianTrace.mat\n",
      "11/20/2020  09:35 AM         2,501,953 101420_G6H28P6LT_fm1_ephys_merge.json\n",
      "10/14/2020  11:56 AM       575,188,626 101420_G6H28P6LT_fm1_REYE.avi\n",
      "10/14/2020  11:56 AM         1,075,571 101420_G6H28P6LT_fm1_REYE_BonsaiTS.csv\n",
      "11/22/2020  08:18 PM         2,024,560 101420_G6H28P6LT_fm1_REYE_BonsaiTSformatted.csv\n",
      "11/24/2020  12:35 PM       563,038,508 101420_G6H28P6LT_fm1_REYE_plot.avi\n",
      "11/24/2020  01:44 PM            71,876 101420_G6H28P6LT_fm1_REYE_tracking_figs.pdf\n",
      "11/22/2020  08:18 PM       293,790,100 101420_G6H28P6LT_fm1_REYEdeinter.avi\n",
      "10/21/2020  05:25 PM        28,234,975 101420_G6H28P6LT_fm1_REYEdeinterDLC_resnet50_EyeCamTestingJul7shuffle1_50000.h5\n",
      "10/21/2020  05:25 PM             1,914 101420_G6H28P6LT_fm1_REYEdeinterDLC_resnet50_EyeCamTestingJul7shuffle1_50000_meta.pickle\n",
      "11/22/2020  11:42 PM               208 101420_G6H28P6LT_fm1_REYEEYE_pupil_rotation_figs.pdf\n",
      "10/14/2020  11:56 AM     2,280,405,968 101420_G6H28P6LT_fm1_TOP1.avi\n",
      "10/14/2020  11:56 AM         2,428,458 101420_G6H28P6LT_fm1_TOP1_BonsaiTS.csv\n",
      "10/14/2020  11:56 AM         2,300,652 101420_G6H28P6LT_fm1_TOP1_FlirTS.csv\n",
      "10/21/2020  06:19 PM        34,895,451 101420_G6H28P6LT_fm1_TOP1DLC_resnet50_FreelyMovingTOP_wGearOct8shuffle1_50000.h5\n",
      "10/21/2020  06:19 PM             2,085 101420_G6H28P6LT_fm1_TOP1DLC_resnet50_FreelyMovingTOP_wGearOct8shuffle1_50000_meta.pickle\n",
      "10/14/2020  11:56 AM       664,375,470 101420_G6H28P6LT_fm1_TOP2.avi\n",
      "10/14/2020  11:56 AM         2,428,382 101420_G6H28P6LT_fm1_TOP2_BonsaiTS.csv\n",
      "10/14/2020  11:56 AM         2,428,390 101420_G6H28P6LT_fm1_TOP2_FlirTS.csv\n",
      "10/21/2020  07:00 PM        34,895,446 101420_G6H28P6LT_fm1_TOP2DLC_resnet50_FreelyMovingTOP_wGearOct8shuffle1_50000.h5\n",
      "10/21/2020  07:00 PM             2,085 101420_G6H28P6LT_fm1_TOP2DLC_resnet50_FreelyMovingTOP_wGearOct8shuffle1_50000_meta.pickle\n",
      "10/14/2020  11:56 AM     1,959,599,714 101420_G6H28P6LT_fm1_TOP3.avi\n",
      "10/14/2020  11:56 AM         2,428,363 101420_G6H28P6LT_fm1_TOP3_BonsaiTS.csv\n",
      "10/14/2020  11:56 AM         2,428,371 101420_G6H28P6LT_fm1_TOP3_FlirTS.csv\n",
      "10/21/2020  07:41 PM        34,895,452 101420_G6H28P6LT_fm1_TOP3DLC_resnet50_FreelyMovingTOP_wGearOct8shuffle1_50000.h5\n",
      "10/21/2020  07:41 PM             2,085 101420_G6H28P6LT_fm1_TOP3DLC_resnet50_FreelyMovingTOP_wGearOct8shuffle1_50000_meta.pickle\n",
      "10/14/2020  11:56 AM     1,249,629,752 101420_G6H28P6LT_fm1_WORLD.avi\n",
      "11/23/2020  12:18 AM     3,711,300,538 101420_G6H28P6LT_fm1_world.nc\n",
      "10/14/2020  11:56 AM         1,186,265 101420_G6H28P6LT_fm1_WORLD_BonsaiTS.csv\n",
      "11/22/2020  08:35 PM         1,883,722 101420_G6H28P6LT_fm1_WORLD_BonsaiTSformatted.csv\n",
      "11/22/2020  08:35 PM       644,821,912 101420_G6H28P6LT_fm1_WORLDdeinter.avi\n",
      "11/24/2020  01:04 PM     2,788,188,847 101420_G6H28P6LT_fm1Reye.nc\n",
      "10/14/2020  01:11 PM         1,423,000 amplitudes.npy\n",
      "10/14/2020  12:57 PM           644,913 CAR_fig1.fig\n",
      "10/14/2020  12:57 PM            27,143 CAR_fig2.fig\n",
      "10/14/2020  01:11 PM               144 channel_map.npy\n",
      "10/14/2020  01:11 PM               336 channel_positions.npy\n",
      "10/14/2020  01:54 PM               473 cluster_Amplitude.tsv\n",
      "10/14/2020  01:54 PM               468 cluster_ContamPct.tsv\n",
      "10/14/2020  01:54 PM               458 cluster_group.tsv\n",
      "10/14/2020  01:54 PM             3,875 cluster_info.tsv\n",
      "10/14/2020  01:54 PM               380 cluster_KSLabel.tsv\n",
      "10/14/2020  01:12 PM        17,542,577 ks_fig1.fig\n",
      "10/14/2020  01:46 PM           144,195 ks_fig2.fig\n",
      "10/14/2020  01:11 PM               148 params.py\n",
      "10/14/2020  01:11 PM             3,024 pc_feature_ind.npy\n",
      "10/14/2020  01:11 PM        34,150,160 pc_features.npy\n",
      "10/14/2020  01:54 PM            50,222 phy.log\n",
      "10/14/2020  01:11 PM        61,599,356 rez.mat\n",
      "10/14/2020  01:11 PM             8,544 similar_templates.npy\n",
      "10/14/2020  01:54 PM           711,588 spike_clusters.npy\n",
      "10/14/2020  01:11 PM           711,540 spike_templates.npy\n",
      "10/14/2020  01:11 PM         1,423,000 spike_times.npy\n",
      "10/14/2020  01:08 PM     2,048,819,200 temp_wh.dat\n",
      "10/14/2020  01:11 PM             3,024 template_feature_ind.npy\n",
      "10/14/2020  01:11 PM        11,383,440 template_features.npy\n",
      "10/14/2020  01:11 PM           241,488 templates.npy\n",
      "10/14/2020  01:11 PM             5,968 templates_ind.npy\n",
      "10/14/2020  01:11 PM             2,128 whitening_mat.npy\n",
      "10/14/2020  01:11 PM             2,128 whitening_mat_inv.npy\n",
      "              63 File(s) 23,351,493,122 bytes\n",
      "               3 Dir(s)  6,311,241,375,744 bytes free\n"
     ]
    }
   ],
   "source": [
    "ls"
   ]
  },
  {
   "cell_type": "code",
   "execution_count": 27,
   "metadata": {},
   "outputs": [
    {
     "data": {
      "text/plain": [
       "'101420_G6H28P6LT_fm1_ephys_merge'"
      ]
     },
     "execution_count": 27,
     "metadata": {},
     "output_type": "execute_result"
    }
   ],
   "source": [
    "world_file = r'092820_J524RT_fm1world.nc'\n",
    "eye_file = '092820_J524RT_fm1Reye.nc'\n",
    "ephys_file = '092820_J524RT_fm1_ephys.json'\n",
    "top_file = '092820_J524RT_fm1_TOP1.nc'\n",
    "\n",
    "eye_file =   \"101520_G6H28P6LT_fm1Reye.nc\"\n",
    "world_file = '101520_G6H28P6LT_fm1world.nc'\n",
    "ephys_file = '101520_G6H28P6LT_fm1_ephys_merge.json'\n",
    "top_file = '101520_G6H28P6LT_fm1_TOP1.nc'\n",
    "\n",
    "eye_file =   \"101420_G6H28P6LT_fm1_Reye.nc\"\n",
    "world_file = '101420_G6H28P6LT_fm1_world.nc'\n",
    "ephys_file = '101420_G6H28P6LT_fm1_ephys_merge.json'\n",
    "top_file = '101420_G6H28P6LT_fm1_TOP1.nc'\n",
    "\n",
    "name_base = ephys_file[0:-5]\n",
    "name_base"
   ]
  },
  {
   "cell_type": "code",
   "execution_count": 28,
   "metadata": {},
   "outputs": [],
   "source": [
    "from netCDF4 import Dataset\n",
    "import numpy as np\n",
    "import xarray as xr\n",
    "import pandas as pd\n",
    "import matplotlib.pyplot as plt\n",
    "import cv2\n",
    "import pickle\n",
    "import time\n",
    "from matplotlib.animation import FFMpegWriter\n",
    "import matplotlib as mpl \n",
    "import wavio\n",
    "mpl.rcParams['animation.ffmpeg_path'] = r'C:\\Program Files\\ffmpeg\\bin\\ffmpeg.exe'\n",
    "from scipy.interpolate import interp1d\n",
    "from numpy import nan\n",
    "from scipy.ndimage import shift as imshift\n",
    "\n",
    "mpl.rcParams['pdf.fonttype'] = 42\n",
    "mpl.rcParams['ps.fonttype'] = 42"
   ]
  },
  {
   "cell_type": "code",
   "execution_count": 29,
   "metadata": {},
   "outputs": [
    {
     "ename": "FileNotFoundError",
     "evalue": "[Errno 2] No such file or directory: b't:\\\\freely_moving_ephys\\\\ephys_recordings\\\\101420\\\\G6H28P6LT\\\\fm1\\\\101420_G6H28P6LT_fm1_TOP1.nc'",
     "output_type": "error",
     "traceback": [
      "\u001b[1;31m---------------------------------------------------------------------------\u001b[0m",
      "\u001b[1;31mKeyError\u001b[0m                                  Traceback (most recent call last)",
      "\u001b[1;32mC:\\ProgramData\\Anaconda3\\lib\\site-packages\\xarray\\backends\\file_manager.py\u001b[0m in \u001b[0;36m_acquire_with_cache_info\u001b[1;34m(self, needs_lock)\u001b[0m\n\u001b[0;32m    197\u001b[0m             \u001b[1;32mtry\u001b[0m\u001b[1;33m:\u001b[0m\u001b[1;33m\u001b[0m\u001b[1;33m\u001b[0m\u001b[0m\n\u001b[1;32m--> 198\u001b[1;33m                 \u001b[0mfile\u001b[0m \u001b[1;33m=\u001b[0m \u001b[0mself\u001b[0m\u001b[1;33m.\u001b[0m\u001b[0m_cache\u001b[0m\u001b[1;33m[\u001b[0m\u001b[0mself\u001b[0m\u001b[1;33m.\u001b[0m\u001b[0m_key\u001b[0m\u001b[1;33m]\u001b[0m\u001b[1;33m\u001b[0m\u001b[1;33m\u001b[0m\u001b[0m\n\u001b[0m\u001b[0;32m    199\u001b[0m             \u001b[1;32mexcept\u001b[0m \u001b[0mKeyError\u001b[0m\u001b[1;33m:\u001b[0m\u001b[1;33m\u001b[0m\u001b[1;33m\u001b[0m\u001b[0m\n",
      "\u001b[1;32mC:\\ProgramData\\Anaconda3\\lib\\site-packages\\xarray\\backends\\lru_cache.py\u001b[0m in \u001b[0;36m__getitem__\u001b[1;34m(self, key)\u001b[0m\n\u001b[0;32m     52\u001b[0m         \u001b[1;32mwith\u001b[0m \u001b[0mself\u001b[0m\u001b[1;33m.\u001b[0m\u001b[0m_lock\u001b[0m\u001b[1;33m:\u001b[0m\u001b[1;33m\u001b[0m\u001b[1;33m\u001b[0m\u001b[0m\n\u001b[1;32m---> 53\u001b[1;33m             \u001b[0mvalue\u001b[0m \u001b[1;33m=\u001b[0m \u001b[0mself\u001b[0m\u001b[1;33m.\u001b[0m\u001b[0m_cache\u001b[0m\u001b[1;33m[\u001b[0m\u001b[0mkey\u001b[0m\u001b[1;33m]\u001b[0m\u001b[1;33m\u001b[0m\u001b[1;33m\u001b[0m\u001b[0m\n\u001b[0m\u001b[0;32m     54\u001b[0m             \u001b[0mself\u001b[0m\u001b[1;33m.\u001b[0m\u001b[0m_cache\u001b[0m\u001b[1;33m.\u001b[0m\u001b[0mmove_to_end\u001b[0m\u001b[1;33m(\u001b[0m\u001b[0mkey\u001b[0m\u001b[1;33m)\u001b[0m\u001b[1;33m\u001b[0m\u001b[1;33m\u001b[0m\u001b[0m\n",
      "\u001b[1;31mKeyError\u001b[0m: [<class 'netCDF4._netCDF4.Dataset'>, ('t:\\\\freely_moving_ephys\\\\ephys_recordings\\\\101420\\\\G6H28P6LT\\\\fm1\\\\101420_G6H28P6LT_fm1_TOP1.nc',), 'r', (('clobber', True), ('diskless', False), ('format', 'NETCDF4'), ('persist', False))]",
      "\nDuring handling of the above exception, another exception occurred:\n",
      "\u001b[1;31mFileNotFoundError\u001b[0m                         Traceback (most recent call last)",
      "\u001b[1;32m<ipython-input-29-dd97cc359253>\u001b[0m in \u001b[0;36m<module>\u001b[1;34m\u001b[0m\n\u001b[1;32m----> 1\u001b[1;33m \u001b[0mtop_data\u001b[0m \u001b[1;33m=\u001b[0m \u001b[0mxr\u001b[0m\u001b[1;33m.\u001b[0m\u001b[0mopen_dataset\u001b[0m\u001b[1;33m(\u001b[0m\u001b[0mtop_file\u001b[0m\u001b[1;33m)\u001b[0m\u001b[1;33m\u001b[0m\u001b[1;33m\u001b[0m\u001b[0m\n\u001b[0m\u001b[0;32m      2\u001b[0m \u001b[0mtop_vid\u001b[0m \u001b[1;33m=\u001b[0m \u001b[0mnp\u001b[0m\u001b[1;33m.\u001b[0m\u001b[0muint8\u001b[0m\u001b[1;33m(\u001b[0m\u001b[0mtop_data\u001b[0m\u001b[1;33m[\u001b[0m\u001b[1;34m'TOP1_video'\u001b[0m\u001b[1;33m]\u001b[0m\u001b[1;33m)\u001b[0m\u001b[1;33m\u001b[0m\u001b[1;33m\u001b[0m\u001b[0m\n\u001b[0;32m      3\u001b[0m \u001b[0mtop_data\u001b[0m\u001b[1;33m\u001b[0m\u001b[1;33m\u001b[0m\u001b[0m\n",
      "\u001b[1;32mC:\\ProgramData\\Anaconda3\\lib\\site-packages\\xarray\\backends\\api.py\u001b[0m in \u001b[0;36mopen_dataset\u001b[1;34m(filename_or_obj, group, decode_cf, mask_and_scale, decode_times, autoclose, concat_characters, decode_coords, engine, chunks, lock, cache, drop_variables, backend_kwargs, use_cftime, decode_timedelta)\u001b[0m\n\u001b[0;32m    506\u001b[0m             \u001b[0mengine\u001b[0m \u001b[1;33m=\u001b[0m \u001b[0m_get_default_engine\u001b[0m\u001b[1;33m(\u001b[0m\u001b[0mfilename_or_obj\u001b[0m\u001b[1;33m,\u001b[0m \u001b[0mallow_remote\u001b[0m\u001b[1;33m=\u001b[0m\u001b[1;32mTrue\u001b[0m\u001b[1;33m)\u001b[0m\u001b[1;33m\u001b[0m\u001b[1;33m\u001b[0m\u001b[0m\n\u001b[0;32m    507\u001b[0m         \u001b[1;32mif\u001b[0m \u001b[0mengine\u001b[0m \u001b[1;33m==\u001b[0m \u001b[1;34m\"netcdf4\"\u001b[0m\u001b[1;33m:\u001b[0m\u001b[1;33m\u001b[0m\u001b[1;33m\u001b[0m\u001b[0m\n\u001b[1;32m--> 508\u001b[1;33m             store = backends.NetCDF4DataStore.open(\n\u001b[0m\u001b[0;32m    509\u001b[0m                 \u001b[0mfilename_or_obj\u001b[0m\u001b[1;33m,\u001b[0m \u001b[0mgroup\u001b[0m\u001b[1;33m=\u001b[0m\u001b[0mgroup\u001b[0m\u001b[1;33m,\u001b[0m \u001b[0mlock\u001b[0m\u001b[1;33m=\u001b[0m\u001b[0mlock\u001b[0m\u001b[1;33m,\u001b[0m \u001b[1;33m**\u001b[0m\u001b[0mbackend_kwargs\u001b[0m\u001b[1;33m\u001b[0m\u001b[1;33m\u001b[0m\u001b[0m\n\u001b[0;32m    510\u001b[0m             )\n",
      "\u001b[1;32mC:\\ProgramData\\Anaconda3\\lib\\site-packages\\xarray\\backends\\netCDF4_.py\u001b[0m in \u001b[0;36mopen\u001b[1;34m(cls, filename, mode, format, group, clobber, diskless, persist, lock, lock_maker, autoclose)\u001b[0m\n\u001b[0;32m    356\u001b[0m             \u001b[0mnetCDF4\u001b[0m\u001b[1;33m.\u001b[0m\u001b[0mDataset\u001b[0m\u001b[1;33m,\u001b[0m \u001b[0mfilename\u001b[0m\u001b[1;33m,\u001b[0m \u001b[0mmode\u001b[0m\u001b[1;33m=\u001b[0m\u001b[0mmode\u001b[0m\u001b[1;33m,\u001b[0m \u001b[0mkwargs\u001b[0m\u001b[1;33m=\u001b[0m\u001b[0mkwargs\u001b[0m\u001b[1;33m\u001b[0m\u001b[1;33m\u001b[0m\u001b[0m\n\u001b[0;32m    357\u001b[0m         )\n\u001b[1;32m--> 358\u001b[1;33m         \u001b[1;32mreturn\u001b[0m \u001b[0mcls\u001b[0m\u001b[1;33m(\u001b[0m\u001b[0mmanager\u001b[0m\u001b[1;33m,\u001b[0m \u001b[0mgroup\u001b[0m\u001b[1;33m=\u001b[0m\u001b[0mgroup\u001b[0m\u001b[1;33m,\u001b[0m \u001b[0mmode\u001b[0m\u001b[1;33m=\u001b[0m\u001b[0mmode\u001b[0m\u001b[1;33m,\u001b[0m \u001b[0mlock\u001b[0m\u001b[1;33m=\u001b[0m\u001b[0mlock\u001b[0m\u001b[1;33m,\u001b[0m \u001b[0mautoclose\u001b[0m\u001b[1;33m=\u001b[0m\u001b[0mautoclose\u001b[0m\u001b[1;33m)\u001b[0m\u001b[1;33m\u001b[0m\u001b[1;33m\u001b[0m\u001b[0m\n\u001b[0m\u001b[0;32m    359\u001b[0m \u001b[1;33m\u001b[0m\u001b[0m\n\u001b[0;32m    360\u001b[0m     \u001b[1;32mdef\u001b[0m \u001b[0m_acquire\u001b[0m\u001b[1;33m(\u001b[0m\u001b[0mself\u001b[0m\u001b[1;33m,\u001b[0m \u001b[0mneeds_lock\u001b[0m\u001b[1;33m=\u001b[0m\u001b[1;32mTrue\u001b[0m\u001b[1;33m)\u001b[0m\u001b[1;33m:\u001b[0m\u001b[1;33m\u001b[0m\u001b[1;33m\u001b[0m\u001b[0m\n",
      "\u001b[1;32mC:\\ProgramData\\Anaconda3\\lib\\site-packages\\xarray\\backends\\netCDF4_.py\u001b[0m in \u001b[0;36m__init__\u001b[1;34m(self, manager, group, mode, lock, autoclose)\u001b[0m\n\u001b[0;32m    312\u001b[0m         \u001b[0mself\u001b[0m\u001b[1;33m.\u001b[0m\u001b[0m_group\u001b[0m \u001b[1;33m=\u001b[0m \u001b[0mgroup\u001b[0m\u001b[1;33m\u001b[0m\u001b[1;33m\u001b[0m\u001b[0m\n\u001b[0;32m    313\u001b[0m         \u001b[0mself\u001b[0m\u001b[1;33m.\u001b[0m\u001b[0m_mode\u001b[0m \u001b[1;33m=\u001b[0m \u001b[0mmode\u001b[0m\u001b[1;33m\u001b[0m\u001b[1;33m\u001b[0m\u001b[0m\n\u001b[1;32m--> 314\u001b[1;33m         \u001b[0mself\u001b[0m\u001b[1;33m.\u001b[0m\u001b[0mformat\u001b[0m \u001b[1;33m=\u001b[0m \u001b[0mself\u001b[0m\u001b[1;33m.\u001b[0m\u001b[0mds\u001b[0m\u001b[1;33m.\u001b[0m\u001b[0mdata_model\u001b[0m\u001b[1;33m\u001b[0m\u001b[1;33m\u001b[0m\u001b[0m\n\u001b[0m\u001b[0;32m    315\u001b[0m         \u001b[0mself\u001b[0m\u001b[1;33m.\u001b[0m\u001b[0m_filename\u001b[0m \u001b[1;33m=\u001b[0m \u001b[0mself\u001b[0m\u001b[1;33m.\u001b[0m\u001b[0mds\u001b[0m\u001b[1;33m.\u001b[0m\u001b[0mfilepath\u001b[0m\u001b[1;33m(\u001b[0m\u001b[1;33m)\u001b[0m\u001b[1;33m\u001b[0m\u001b[1;33m\u001b[0m\u001b[0m\n\u001b[0;32m    316\u001b[0m         \u001b[0mself\u001b[0m\u001b[1;33m.\u001b[0m\u001b[0mis_remote\u001b[0m \u001b[1;33m=\u001b[0m \u001b[0mis_remote_uri\u001b[0m\u001b[1;33m(\u001b[0m\u001b[0mself\u001b[0m\u001b[1;33m.\u001b[0m\u001b[0m_filename\u001b[0m\u001b[1;33m)\u001b[0m\u001b[1;33m\u001b[0m\u001b[1;33m\u001b[0m\u001b[0m\n",
      "\u001b[1;32mC:\\ProgramData\\Anaconda3\\lib\\site-packages\\xarray\\backends\\netCDF4_.py\u001b[0m in \u001b[0;36mds\u001b[1;34m(self)\u001b[0m\n\u001b[0;32m    365\u001b[0m     \u001b[1;33m@\u001b[0m\u001b[0mproperty\u001b[0m\u001b[1;33m\u001b[0m\u001b[1;33m\u001b[0m\u001b[0m\n\u001b[0;32m    366\u001b[0m     \u001b[1;32mdef\u001b[0m \u001b[0mds\u001b[0m\u001b[1;33m(\u001b[0m\u001b[0mself\u001b[0m\u001b[1;33m)\u001b[0m\u001b[1;33m:\u001b[0m\u001b[1;33m\u001b[0m\u001b[1;33m\u001b[0m\u001b[0m\n\u001b[1;32m--> 367\u001b[1;33m         \u001b[1;32mreturn\u001b[0m \u001b[0mself\u001b[0m\u001b[1;33m.\u001b[0m\u001b[0m_acquire\u001b[0m\u001b[1;33m(\u001b[0m\u001b[1;33m)\u001b[0m\u001b[1;33m\u001b[0m\u001b[1;33m\u001b[0m\u001b[0m\n\u001b[0m\u001b[0;32m    368\u001b[0m \u001b[1;33m\u001b[0m\u001b[0m\n\u001b[0;32m    369\u001b[0m     \u001b[1;32mdef\u001b[0m \u001b[0mopen_store_variable\u001b[0m\u001b[1;33m(\u001b[0m\u001b[0mself\u001b[0m\u001b[1;33m,\u001b[0m \u001b[0mname\u001b[0m\u001b[1;33m,\u001b[0m \u001b[0mvar\u001b[0m\u001b[1;33m)\u001b[0m\u001b[1;33m:\u001b[0m\u001b[1;33m\u001b[0m\u001b[1;33m\u001b[0m\u001b[0m\n",
      "\u001b[1;32mC:\\ProgramData\\Anaconda3\\lib\\site-packages\\xarray\\backends\\netCDF4_.py\u001b[0m in \u001b[0;36m_acquire\u001b[1;34m(self, needs_lock)\u001b[0m\n\u001b[0;32m    359\u001b[0m \u001b[1;33m\u001b[0m\u001b[0m\n\u001b[0;32m    360\u001b[0m     \u001b[1;32mdef\u001b[0m \u001b[0m_acquire\u001b[0m\u001b[1;33m(\u001b[0m\u001b[0mself\u001b[0m\u001b[1;33m,\u001b[0m \u001b[0mneeds_lock\u001b[0m\u001b[1;33m=\u001b[0m\u001b[1;32mTrue\u001b[0m\u001b[1;33m)\u001b[0m\u001b[1;33m:\u001b[0m\u001b[1;33m\u001b[0m\u001b[1;33m\u001b[0m\u001b[0m\n\u001b[1;32m--> 361\u001b[1;33m         \u001b[1;32mwith\u001b[0m \u001b[0mself\u001b[0m\u001b[1;33m.\u001b[0m\u001b[0m_manager\u001b[0m\u001b[1;33m.\u001b[0m\u001b[0macquire_context\u001b[0m\u001b[1;33m(\u001b[0m\u001b[0mneeds_lock\u001b[0m\u001b[1;33m)\u001b[0m \u001b[1;32mas\u001b[0m \u001b[0mroot\u001b[0m\u001b[1;33m:\u001b[0m\u001b[1;33m\u001b[0m\u001b[1;33m\u001b[0m\u001b[0m\n\u001b[0m\u001b[0;32m    362\u001b[0m             \u001b[0mds\u001b[0m \u001b[1;33m=\u001b[0m \u001b[0m_nc4_require_group\u001b[0m\u001b[1;33m(\u001b[0m\u001b[0mroot\u001b[0m\u001b[1;33m,\u001b[0m \u001b[0mself\u001b[0m\u001b[1;33m.\u001b[0m\u001b[0m_group\u001b[0m\u001b[1;33m,\u001b[0m \u001b[0mself\u001b[0m\u001b[1;33m.\u001b[0m\u001b[0m_mode\u001b[0m\u001b[1;33m)\u001b[0m\u001b[1;33m\u001b[0m\u001b[1;33m\u001b[0m\u001b[0m\n\u001b[0;32m    363\u001b[0m         \u001b[1;32mreturn\u001b[0m \u001b[0mds\u001b[0m\u001b[1;33m\u001b[0m\u001b[1;33m\u001b[0m\u001b[0m\n",
      "\u001b[1;32mC:\\ProgramData\\Anaconda3\\lib\\contextlib.py\u001b[0m in \u001b[0;36m__enter__\u001b[1;34m(self)\u001b[0m\n\u001b[0;32m    111\u001b[0m         \u001b[1;32mdel\u001b[0m \u001b[0mself\u001b[0m\u001b[1;33m.\u001b[0m\u001b[0margs\u001b[0m\u001b[1;33m,\u001b[0m \u001b[0mself\u001b[0m\u001b[1;33m.\u001b[0m\u001b[0mkwds\u001b[0m\u001b[1;33m,\u001b[0m \u001b[0mself\u001b[0m\u001b[1;33m.\u001b[0m\u001b[0mfunc\u001b[0m\u001b[1;33m\u001b[0m\u001b[1;33m\u001b[0m\u001b[0m\n\u001b[0;32m    112\u001b[0m         \u001b[1;32mtry\u001b[0m\u001b[1;33m:\u001b[0m\u001b[1;33m\u001b[0m\u001b[1;33m\u001b[0m\u001b[0m\n\u001b[1;32m--> 113\u001b[1;33m             \u001b[1;32mreturn\u001b[0m \u001b[0mnext\u001b[0m\u001b[1;33m(\u001b[0m\u001b[0mself\u001b[0m\u001b[1;33m.\u001b[0m\u001b[0mgen\u001b[0m\u001b[1;33m)\u001b[0m\u001b[1;33m\u001b[0m\u001b[1;33m\u001b[0m\u001b[0m\n\u001b[0m\u001b[0;32m    114\u001b[0m         \u001b[1;32mexcept\u001b[0m \u001b[0mStopIteration\u001b[0m\u001b[1;33m:\u001b[0m\u001b[1;33m\u001b[0m\u001b[1;33m\u001b[0m\u001b[0m\n\u001b[0;32m    115\u001b[0m             \u001b[1;32mraise\u001b[0m \u001b[0mRuntimeError\u001b[0m\u001b[1;33m(\u001b[0m\u001b[1;34m\"generator didn't yield\"\u001b[0m\u001b[1;33m)\u001b[0m \u001b[1;32mfrom\u001b[0m \u001b[1;32mNone\u001b[0m\u001b[1;33m\u001b[0m\u001b[1;33m\u001b[0m\u001b[0m\n",
      "\u001b[1;32mC:\\ProgramData\\Anaconda3\\lib\\site-packages\\xarray\\backends\\file_manager.py\u001b[0m in \u001b[0;36macquire_context\u001b[1;34m(self, needs_lock)\u001b[0m\n\u001b[0;32m    184\u001b[0m     \u001b[1;32mdef\u001b[0m \u001b[0macquire_context\u001b[0m\u001b[1;33m(\u001b[0m\u001b[0mself\u001b[0m\u001b[1;33m,\u001b[0m \u001b[0mneeds_lock\u001b[0m\u001b[1;33m=\u001b[0m\u001b[1;32mTrue\u001b[0m\u001b[1;33m)\u001b[0m\u001b[1;33m:\u001b[0m\u001b[1;33m\u001b[0m\u001b[1;33m\u001b[0m\u001b[0m\n\u001b[0;32m    185\u001b[0m         \u001b[1;34m\"\"\"Context manager for acquiring a file.\"\"\"\u001b[0m\u001b[1;33m\u001b[0m\u001b[1;33m\u001b[0m\u001b[0m\n\u001b[1;32m--> 186\u001b[1;33m         \u001b[0mfile\u001b[0m\u001b[1;33m,\u001b[0m \u001b[0mcached\u001b[0m \u001b[1;33m=\u001b[0m \u001b[0mself\u001b[0m\u001b[1;33m.\u001b[0m\u001b[0m_acquire_with_cache_info\u001b[0m\u001b[1;33m(\u001b[0m\u001b[0mneeds_lock\u001b[0m\u001b[1;33m)\u001b[0m\u001b[1;33m\u001b[0m\u001b[1;33m\u001b[0m\u001b[0m\n\u001b[0m\u001b[0;32m    187\u001b[0m         \u001b[1;32mtry\u001b[0m\u001b[1;33m:\u001b[0m\u001b[1;33m\u001b[0m\u001b[1;33m\u001b[0m\u001b[0m\n\u001b[0;32m    188\u001b[0m             \u001b[1;32myield\u001b[0m \u001b[0mfile\u001b[0m\u001b[1;33m\u001b[0m\u001b[1;33m\u001b[0m\u001b[0m\n",
      "\u001b[1;32mC:\\ProgramData\\Anaconda3\\lib\\site-packages\\xarray\\backends\\file_manager.py\u001b[0m in \u001b[0;36m_acquire_with_cache_info\u001b[1;34m(self, needs_lock)\u001b[0m\n\u001b[0;32m    202\u001b[0m                     \u001b[0mkwargs\u001b[0m \u001b[1;33m=\u001b[0m \u001b[0mkwargs\u001b[0m\u001b[1;33m.\u001b[0m\u001b[0mcopy\u001b[0m\u001b[1;33m(\u001b[0m\u001b[1;33m)\u001b[0m\u001b[1;33m\u001b[0m\u001b[1;33m\u001b[0m\u001b[0m\n\u001b[0;32m    203\u001b[0m                     \u001b[0mkwargs\u001b[0m\u001b[1;33m[\u001b[0m\u001b[1;34m\"mode\"\u001b[0m\u001b[1;33m]\u001b[0m \u001b[1;33m=\u001b[0m \u001b[0mself\u001b[0m\u001b[1;33m.\u001b[0m\u001b[0m_mode\u001b[0m\u001b[1;33m\u001b[0m\u001b[1;33m\u001b[0m\u001b[0m\n\u001b[1;32m--> 204\u001b[1;33m                 \u001b[0mfile\u001b[0m \u001b[1;33m=\u001b[0m \u001b[0mself\u001b[0m\u001b[1;33m.\u001b[0m\u001b[0m_opener\u001b[0m\u001b[1;33m(\u001b[0m\u001b[1;33m*\u001b[0m\u001b[0mself\u001b[0m\u001b[1;33m.\u001b[0m\u001b[0m_args\u001b[0m\u001b[1;33m,\u001b[0m \u001b[1;33m**\u001b[0m\u001b[0mkwargs\u001b[0m\u001b[1;33m)\u001b[0m\u001b[1;33m\u001b[0m\u001b[1;33m\u001b[0m\u001b[0m\n\u001b[0m\u001b[0;32m    205\u001b[0m                 \u001b[1;32mif\u001b[0m \u001b[0mself\u001b[0m\u001b[1;33m.\u001b[0m\u001b[0m_mode\u001b[0m \u001b[1;33m==\u001b[0m \u001b[1;34m\"w\"\u001b[0m\u001b[1;33m:\u001b[0m\u001b[1;33m\u001b[0m\u001b[1;33m\u001b[0m\u001b[0m\n\u001b[0;32m    206\u001b[0m                     \u001b[1;31m# ensure file doesn't get overriden when opened again\u001b[0m\u001b[1;33m\u001b[0m\u001b[1;33m\u001b[0m\u001b[1;33m\u001b[0m\u001b[0m\n",
      "\u001b[1;32mnetCDF4\\_netCDF4.pyx\u001b[0m in \u001b[0;36mnetCDF4._netCDF4.Dataset.__init__\u001b[1;34m()\u001b[0m\n",
      "\u001b[1;32mnetCDF4\\_netCDF4.pyx\u001b[0m in \u001b[0;36mnetCDF4._netCDF4._ensure_nc_success\u001b[1;34m()\u001b[0m\n",
      "\u001b[1;31mFileNotFoundError\u001b[0m: [Errno 2] No such file or directory: b't:\\\\freely_moving_ephys\\\\ephys_recordings\\\\101420\\\\G6H28P6LT\\\\fm1\\\\101420_G6H28P6LT_fm1_TOP1.nc'"
     ]
    }
   ],
   "source": [
    "top_data = xr.open_dataset(top_file)\n",
    "top_vid = np.uint8(top_data['TOP1_video'])\n",
    "top_data"
   ]
  },
  {
   "cell_type": "code",
   "execution_count": null,
   "metadata": {},
   "outputs": [],
   "source": [
    "top_vid = np.uint8(top_data['TOP1_video'])\n",
    "topT = top_data['timestamps']\n",
    "topT"
   ]
  },
  {
   "cell_type": "code",
   "execution_count": null,
   "metadata": {
    "scrolled": true
   },
   "outputs": [],
   "source": [
    "# get points from top cam to calculate locomotion\n",
    "# base of spine seems most reliable\n",
    "ptNames = top_data['TOP1_pts']\n",
    "spinex = ptNames.sel(point_loc = 'spine_x').copy()\n",
    "spiney = ptNames.sel(point_loc = 'spine_y').copy()\n",
    "spinep = ptNames.sel(point_loc = 'spine_likelihood').copy()\n",
    "\n",
    "#smooth pts before calculating speed\n",
    "box = np.ones(31)/31\n",
    "spinex_sm = np.convolve(spinex, box, mode='same')\n",
    "spiney_sm = np.convolve(spiney,box,mode = 'same')\n",
    "\n",
    "#speed\n",
    "spd = np.sqrt(np.diff(spinex_sm)**2 + np.diff(spiney_sm)**2)*60/10\n",
    "spd[0:10]=0\n",
    "plt.plot(spd[0:1800])\n"
   ]
  },
  {
   "cell_type": "code",
   "execution_count": null,
   "metadata": {},
   "outputs": [],
   "source": [
    "plt.plot(spinex[100:200])\n",
    "plt.plot(spinex_sm[100:200])"
   ]
  },
  {
   "cell_type": "code",
   "execution_count": null,
   "metadata": {
    "scrolled": false
   },
   "outputs": [],
   "source": [
    "# load worldcam\n",
    "world_data = xr.open_dataset(world_file)\n",
    "world_vid_raw = np.uint8(world_data['WORLD_video'])\n",
    "\n"
   ]
  },
  {
   "cell_type": "code",
   "execution_count": null,
   "metadata": {},
   "outputs": [],
   "source": [
    "#resize worldcam to make more manageable\n",
    "sz = world_vid_raw.shape\n",
    "downsamp = 0.25\n",
    "world_vid = np.zeros((sz[0],np.int(sz[1]*downsamp),np.int(sz[2]*downsamp)), dtype = 'uint8')\n",
    "for f in range(sz[0]):\n",
    "    world_vid[f,:,:] = cv2.resize(world_vid_raw[f,:,:],(np.int(sz[2]*downsamp),np.int(sz[1]*downsamp)))\n",
    "worldT = world_data.timestamps.copy()\n",
    "world_data"
   ]
  },
  {
   "cell_type": "code",
   "execution_count": null,
   "metadata": {},
   "outputs": [],
   "source": [
    "# plot worldcam timing\n",
    "fig, axs = plt.subplots(1,2,figsize=(8,3))\n",
    "axs[0].plot(np.diff(worldT)); axs[0].set_xlabel('frame'); axs[0].set_ylabel('deltaT'); axs[0].set_title('world cam')\n",
    "axs[1].hist(np.diff(worldT),100);axs[1].set_xlabel('deltaT')"
   ]
  },
  {
   "cell_type": "code",
   "execution_count": null,
   "metadata": {
    "scrolled": true
   },
   "outputs": [],
   "source": [
    "# plot mean world image\n",
    "plt.imshow(np.mean(world_vid,axis=0),vmin=0,vmax=255); plt.title('mean worldcam')"
   ]
  },
  {
   "cell_type": "code",
   "execution_count": null,
   "metadata": {},
   "outputs": [],
   "source": [
    "# read ephys data\n",
    "ephys_data = pd.read_json(ephys_file)\n",
    "ephys_data\n"
   ]
  },
  {
   "cell_type": "code",
   "execution_count": null,
   "metadata": {},
   "outputs": [],
   "source": [
    "# get intitial ephys timepoint (t0)\n",
    "ephysT0 = ephys_data.iloc[0,12]\n",
    "ephysT0 "
   ]
  },
  {
   "cell_type": "code",
   "execution_count": null,
   "metadata": {},
   "outputs": [],
   "source": [
    "# select good cells from phy2\n",
    "goodcells = ephys_data.loc[ephys_data['group']=='good']\n",
    "goodcells.shape\n",
    "units = goodcells.index.values\n",
    "units"
   ]
  },
  {
   "cell_type": "code",
   "execution_count": null,
   "metadata": {
    "scrolled": true
   },
   "outputs": [],
   "source": [
    "#spike rasters\n",
    "fig, ax = plt.subplots(figsize=(20,8))\n",
    "ax.fontsize = 20\n",
    "for i,ind in enumerate(goodcells.index):\n",
    "   plt.vlines(goodcells.at[ind,'spikeT'],i-0.25,i+0.25)\n",
    "   plt.xlim(0, 10); plt.xlabel('secs',fontsize = 20); plt.ylabel('unit #',fontsize=20)\n",
    "ax.spines['right'].set_visible(False)\n",
    "ax.spines['top'].set_visible(False)\n",
    "plt.savefig('spikeraster.pdf')\n",
    "\n"
   ]
  },
  {
   "cell_type": "code",
   "execution_count": null,
   "metadata": {},
   "outputs": [],
   "source": [
    "# generate wave file\n",
    "spk =np.array(ephys_data.at[units[1],'spikeT'])\n",
    "\n",
    "datarate = 30000\n",
    "rate = 44100    # samples per second\n",
    "Tmax = 10           # sample duration (seconds)\n",
    "f = 440.0       # sound frequency (Hz)\n",
    "# Compute waveform samples\n",
    "t = np.linspace(0, Tmax, Tmax*datarate,endpoint=False)\n",
    "x = np.zeros(np.size(t))\n",
    "for spt in spk[spk<Tmax]:\n",
    "    x[np.int64(spt*datarate) : np.int64(spt*datarate +30)] = 1\n",
    "    x[np.int64(spt*datarate)+31 : np.int64(spt*datarate +60)] =- 1\n",
    "plt.plot(x)\n",
    "    \n",
    "\n",
    "# Write the samples to a file\n",
    "wavio.write(\"spike.wav\", x, datarate, sampwidth=1)\n"
   ]
  },
  {
   "cell_type": "code",
   "execution_count": null,
   "metadata": {},
   "outputs": [],
   "source": [
    "#load eye data\n",
    "eye_data = xr.open_dataset(eye_file)\n",
    "eye_vid = np.uint8(eye_data['REYE_video'])\n",
    "plt.imshow(eye_vid[0,:,:]); plt.title('eye cam')\n",
    "eyeT = eye_data.timestamps.copy()\n",
    "eyeT"
   ]
  },
  {
   "cell_type": "code",
   "execution_count": null,
   "metadata": {},
   "outputs": [],
   "source": [
    "# plot eye timestamps\n",
    "fig, axs = plt.subplots(1,2,figsize=(8,3))\n",
    "axs[0].plot(np.diff(eyeT)); axs[0].set_xlabel('frame'); axs[0].set_ylabel('deltaT'); axs[0].set_title('eye cam')\n",
    "axs[1].hist(np.diff(eyeT),100);"
   ]
  },
  {
   "cell_type": "code",
   "execution_count": null,
   "metadata": {},
   "outputs": [],
   "source": [
    "#plot eye postion across recording\n",
    "eye_params = eye_data['REYE_ellipse_params']\n",
    "plt.plot(eye_params.sel(ellipse_params = 'theta')*180/3.1415,eye_params.sel(ellipse_params = 'phi')*180/3.1415,'.')\n",
    "plt.xlabel('theta'); plt.ylabel('phi')"
   ]
  },
  {
   "cell_type": "code",
   "execution_count": null,
   "metadata": {},
   "outputs": [],
   "source": [
    "# adjust eye/world/top times relative to ephys\n",
    "eyeT = eye_data.timestamps  - ephysT0\n",
    "if eyeT[0]<-600:\n",
    "    eyeT = eyeT + 8*60*60 # 8hr offset for some data\n",
    "worldT = world_data.timestamps - ephysT0\n",
    "if worldT[0]<-600:\n",
    "    worldT = worldT + 8*60*60\n",
    "topT = top_data.timestamps - ephysT0\n",
    "eyeT, worldT,topT"
   ]
  },
  {
   "cell_type": "code",
   "execution_count": null,
   "metadata": {},
   "outputs": [],
   "source": [
    "#plot eye variables\n",
    "fig,axs = plt.subplots(4,1,figsize = (4,8))\n",
    "for i,val in enumerate(eye_params.ellipse_params[0:4]):\n",
    "    axs[i].plot(eyeT,eye_params.sel(ellipse_params = val))\n",
    "    axs[i].set_ylabel(val.values)\n",
    "    "
   ]
  },
  {
   "cell_type": "code",
   "execution_count": null,
   "metadata": {},
   "outputs": [],
   "source": [
    "# calculate eye veloctiy\n",
    "dEye = np.diff(eye_params.sel(ellipse_params = 'theta'))*180/3.14159\n",
    "eyeR = eye_params.sel(ellipse_params = 'longaxis').copy()\n",
    "eye_vid.shape"
   ]
  },
  {
   "cell_type": "code",
   "execution_count": null,
   "metadata": {
    "scrolled": false
   },
   "outputs": [],
   "source": [
    "# plot data figure\n",
    "\n",
    "fig = plt.figure(figsize = (6,8))\n",
    "gs = fig.add_gridspec(6,2)\n",
    "axEye = fig.add_subplot(gs[0:2,0])\n",
    "axWorld = fig.add_subplot(gs[0:2,1])\n",
    "axTheta = fig.add_subplot(gs[2,:])\n",
    "axdTheta = fig.add_subplot(gs[3,:])\n",
    "axR = fig.add_subplot(gs[4:6,:])\n",
    "#axRad = fig.add_subplot(gs[3,:])\n",
    "\n",
    "tr = [0,30] # 340-385\n",
    "fr = np.mean(tr) # time for frame\n",
    "eyeFr = np.abs(eyeT-fr).argmin(dim = \"frame\")\n",
    "worldFr = np.abs(worldT-fr).argmin(dim = \"frame\")\n",
    "\n",
    "axEye.cla(); axEye.axis('off'); \n",
    "axEye.imshow(eye_vid[eyeFr,:,:],'gray',vmin=0,vmax=255,aspect = \"equal\")\n",
    "#axEye.plot(eye_params.sel(ellipse_params = 'X0')[fr]/2,eye_params.sel(ellipse_params = 'Y0')[fr]/2,'r.')\n",
    "axEye.set_xlim(40,200); axEye.set_ylim(0,120)\n",
    "\n",
    "axWorld.cla();  axWorld.axis('off'); \n",
    "axWorld.imshow(world_vid[worldFr,:,:],'gray',vmin=0,vmax=255,aspect = \"equal\")\n",
    "   \n",
    "#plot eye position\n",
    "axTheta.cla()\n",
    "axTheta.plot(eyeT,0.5*eye_params.sel(ellipse_params = 'theta')*180/3.14159)\n",
    "axTheta.set_xlim(tr[0],tr[1]); \n",
    "axTheta.set_ylabel('theta - deg'); axTheta.set_ylim(-30,30)\n",
    "\n",
    "# plot eye velocity\n",
    "axdTheta.cla()\n",
    "axdTheta.plot(eyeT[0:-1],dEye*60/2); ax.set_ylabel('dtheta')\n",
    "#sacc = np.transpose(np.where(np.abs(dEye)>10))\n",
    "#axdTheta.plot(sacc,np.sign(dEye[sacc])*20,'.')\n",
    "axdTheta.set_xlim(tr[0],tr[1]); \n",
    "axdTheta.set_ylim(-10*60,10*60); axdTheta.set_ylabel('eye vel - deg/sec')\n",
    "\n",
    "#axRad.cla()\n",
    "#axRad.plot(eye_params.sel(ellipse_params = 'longaxis')[frameRange])\n",
    "#axRad.set_xlim(0,frameRange[-1]-frameRange[0]); \n",
    "#axRad.set_ylabel('radius'); axRad.set_xlabel('frame #'); axRad.set_ylim(0,40)\n",
    "\n",
    "# plot spikes\n",
    "axR.fontsize = 20\n",
    "for i,ind in enumerate(goodcells.index):\n",
    "    axR.vlines(goodcells.at[ind,'spikeT'],i-0.25,i+0.25,'k',linewidth=0.25)\n",
    "axR.set_xlim(tr[0],tr[1]); axR.set_xlabel('secs'); axR.set_ylabel('unit #')\n",
    "axR.spines['right'].set_visible(False)\n",
    "axR.spines['top'].set_visible(False)\n",
    "\n",
    "plt.tight_layout()\n",
    "\n",
    "plt.savefig('cams_eyes_spikes_092820_wn_0_30.pdf')"
   ]
  },
  {
   "cell_type": "code",
   "execution_count": null,
   "metadata": {},
   "outputs": [],
   "source": [
    "# normalize world movie and calculate contrast\n",
    "img_norm = (world_vid-np.mean(world_vid,axis=0))/np.std(world_vid,axis=0)\n",
    "contrast = np.empty(worldT.size)\n",
    "for i in range(worldT.size):\n",
    "    contrast[i] = np.std(img_norm[i,:,:])\n",
    "plt.plot(worldT[0:1000],contrast[0:1000])\n",
    "plt.xlabel('time')\n",
    "plt.ylabel('contrast')"
   ]
  },
  {
   "cell_type": "code",
   "execution_count": null,
   "metadata": {
    "scrolled": true
   },
   "outputs": [],
   "source": [
    "# plot another data figure (with contrast or speed)\n",
    "\n",
    "fig = plt.figure(figsize = (6,8))\n",
    "gs = fig.add_gridspec(7,3)\n",
    "axEye = fig.add_subplot(gs[0:2,1])\n",
    "axWorld = fig.add_subplot(gs[0:2,0])\n",
    "axTop = fig.add_subplot(gs[0:2,2])\n",
    "axTheta = fig.add_subplot(gs[3,:])\n",
    "axdTheta = fig.add_subplot(gs[4,:])\n",
    "axVid = fig.add_subplot(gs[2,:])\n",
    "axR = fig.add_subplot(gs[5:7,:])\n",
    "#axRad = fig.add_subplot(gs[3,:])\n",
    "\n",
    "tr = [0,30] # 340-385\n",
    "fr = np.mean(tr) # time for frame\n",
    "eyeFr = np.abs(eyeT-fr).argmin(dim = \"frame\")\n",
    "worldFr = np.abs(worldT-fr).argmin(dim = \"frame\")\n",
    "\n",
    "axEye.cla(); axEye.axis('off'); \n",
    "axEye.imshow(eye_vid[eyeFr,:,:],'gray',vmin=0,vmax=255,aspect = \"equal\")\n",
    "#axEye.plot(eye_params.sel(ellipse_params = 'X0')[fr]/2,eye_params.sel(ellipse_params = 'Y0')[fr]/2,'r.')\n",
    "axEye.set_xlim(40,200); axEye.set_ylim(0,120)\n",
    "\n",
    "axWorld.cla();  axWorld.axis('off'); \n",
    "axWorld.imshow(world_vid[worldFr,:,:],'gray',vmin=0,vmax=255,aspect = \"equal\")\n",
    "\n",
    "axTop.axis('off')\n",
    "axTop.imshow(top_vid[0,:,:],'gray',vmin=0,vmax=255,aspect = 'equal')\n",
    "   \n",
    "#plot eye position\n",
    "axTheta.cla()\n",
    "axTheta.plot(eyeT,0.5*eye_params.sel(ellipse_params = 'theta')*180/3.14159)\n",
    "axTheta.set_xlim(tr[0],tr[1]); \n",
    "axTheta.set_ylabel('theta - deg'); axTheta.set_ylim(-20,20)\n",
    "\n",
    "# grab bag plot -speed / eye vel\n",
    "\n",
    "#speed\n",
    "axdTheta.plot(topT[0:-1],spd); axdTheta.set_ylabel('speed cm/sec')\n",
    "axdTheta.set_ylim([0, 25])\n",
    "\n",
    "#eve velocity\n",
    "#axdTheta.plot(eyeT[0:-1],dEye*60/2); ax.set_ylabel('dtheta')\n",
    "#sacc = np.transpose(np.where(np.abs(dEye)>10))\n",
    "#axdTheta.plot(sacc,np.sign(dEye[sacc])*20,'.')\n",
    "#axdTheta.set_ylim(-10*60,10*60); axdTheta.set_ylabel('eye vel - deg/sec')\n",
    "\n",
    "axdTheta.set_xlim(tr[0],tr[1]); \n",
    "\n",
    "#plot contrast or radius\n",
    "#axVid.plot(worldT,contrast/2.5)\n",
    "#axVid.set_ylim([0, 1.1]); axVid.set_ylabel('contrast')\n",
    "\n",
    "axVid.plot(eyeT,0.5*(eye_params.sel(ellipse_params = 'longaxis') +eye_params.sel(ellipse_params = 'shortaxis')) )\n",
    "axVid.set_xlabel('radius'); axVid.set_ylim([0, 50])\n",
    "axVid.set_xlim(tr[0],tr[1]);\n",
    "\n",
    "\n",
    "\n",
    "# plot spikes\n",
    "axR.fontsize = 20\n",
    "for i,ind in enumerate(goodcells.index):\n",
    "    axR.vlines(goodcells.at[ind,'spikeT'],i-0.25,i+0.25,'k',linewidth=0.25)\n",
    "axR.set_xlim(tr[0],tr[1]); axR.set_xlabel('secs'); axR.set_ylabel('unit #')\n",
    "#axR.spines['right'].set_visible(False)\n",
    "#axR.spines['top'].set_visible(False)\n",
    "\n",
    "plt.tight_layout()\n",
    "\n",
    "plt.savefig('cams_eyes_R_move_spikes_092820_wn_0_30.pdf')"
   ]
  },
  {
   "cell_type": "code",
   "execution_count": null,
   "metadata": {},
   "outputs": [],
   "source": [
    "# set up interpolators for eye and world videos\n",
    "eyeInterp = interp1d(eyeT,eye_vid,axis=0)\n",
    "worldInterp = interp1d(worldT,world_vid,axis=0)"
   ]
  },
  {
   "cell_type": "code",
   "execution_count": null,
   "metadata": {
    "scrolled": false
   },
   "outputs": [],
   "source": [
    "# make movie and sound\n",
    "\n",
    "#unit to plot/record\n",
    "this_unit = 1\n",
    "\n",
    "#set up figure\n",
    "fig = plt.figure(figsize = (6,8))\n",
    "gs = fig.add_gridspec(4,2)\n",
    "axEye = fig.add_subplot(gs[0,0])\n",
    "axWorld = fig.add_subplot(gs[0,1])\n",
    "axTheta = fig.add_subplot(gs[1,:])\n",
    "axdTheta = fig.add_subplot(gs[2,:])\n",
    "axR = fig.add_subplot(gs[3,:])\n",
    "#axRad = fig.add_subplot(gs[3,:])\n",
    "\n",
    "#timerange and center frame (only)\n",
    "tr = [0, 30]\n",
    "fr = np.mean(tr) # time for frame\n",
    "eyeFr = np.abs(eyeT-fr).argmin(dim = \"frame\")\n",
    "worldFr = np.abs(worldT-fr).argmin(dim = \"frame\")\n",
    "\n",
    "axEye.cla(); axEye.axis('off'); \n",
    "axEye.imshow(eye_vid[eyeFr,:,:],'gray',vmin=0,vmax=255,aspect = \"equal\")\n",
    "#axEye.plot(eye_params.sel(ellipse_params = 'X0')[fr]/2,eye_params.sel(ellipse_params = 'Y0')[fr]/2,'r.')\n",
    "axEye.set_xlim(40,200); axEye.set_ylim(0,120)\n",
    "\n",
    "axWorld.cla();  axWorld.axis('off'); \n",
    "axWorld.imshow(world_vid[worldFr,:,:],'gray',vmin=0,vmax=255,aspect = \"equal\")\n",
    "   \n",
    "#plot eye position\n",
    "axTheta.cla()\n",
    "axTheta.plot(eyeT,eye_params.sel(ellipse_params = 'theta')*180/3.14159)\n",
    "axTheta.set_xlim(tr[0],tr[1]); \n",
    "axTheta.set_ylabel('theta - deg'); axTheta.set_ylim(-30,30)\n",
    "\n",
    "# plot eye velocity\n",
    "axdTheta.cla()\n",
    "#axdTheta.plot(eyeT[0:-1],dEye*60); ax.set_ylabel('dtheta')\n",
    "#sacc = np.transpose(np.where(np.abs(dEye)>10))\n",
    "#axdTheta.plot(sacc,np.sign(dEye[sacc])*20,'.')\n",
    "#axdTheta.set_xlim(tr[0],tr[1]); \n",
    "#axdTheta.set_ylim(-23*60,30*60); axdTheta.set_ylabel('eye vel - deg/sec')\n",
    "\n",
    "# plot speed\n",
    "axdTheta.plot(topT[0:-1],spd); axdTheta.set_ylabel('speed cm/sec')\n",
    "axdTheta.set_ylim([0, 25])\n",
    "axdTheta.set_xlim(tr[0],tr[1]); \n",
    "\n",
    "#plot radius?\n",
    "#axRad.cla()\n",
    "#axRad.plot(eye_params.sel(ellipse_params = 'longaxis')[frameRange])\n",
    "#axRad.set_xlim(0,frameRange[-1]-frameRange[0]); \n",
    "#axRad.set_ylabel('radius'); axRad.set_xlabel('frame #'); axRad.set_ylim(0,40)\n",
    "\n",
    "# plot spikes\n",
    "axR.fontsize = 20\n",
    "for i,ind in enumerate(goodcells.index):\n",
    "    axR.vlines(goodcells.at[ind,'spikeT'],i-0.25,i+0.25,'k',linewidth=0.5)\n",
    "axR.vlines(goodcells.at[units[this_unit],'spikeT'],this_unit-0.25,this_unit+0.25,'b',linewidth=0.5)\n",
    "\n",
    "axR.set_xlim(tr[0],tr[1]); axR.set_ylim(-0.5 , 4); axR.set_xlabel('secs'); axR.set_ylabel('unit #')\n",
    "axR.spines['right'].set_visible(False)\n",
    "axR.spines['top'].set_visible(False)\n",
    "\n",
    "plt.tight_layout()\n",
    "\n",
    "# now animate\n",
    "writer = FFMpegWriter(fps=30)\n",
    "with writer.saving(fig, \"eye_world_spikes_092820_wn1_1.mp4\", 100):\n",
    "    for t in np.arange(tr[0],tr[1],1/30):\n",
    "        \n",
    "        # show eye and world frames\n",
    "        axEye.cla(); axEye.axis('off'); \n",
    "        axEye.imshow(eyeInterp(t),'gray',vmin=0,vmax=255,aspect = \"equal\")\n",
    "        axEye.set_xlim(0,160); axEye.set_ylim(0,120)\n",
    "        \n",
    "        axWorld.cla(); axWorld.axis('off'); \n",
    "        axWorld.imshow(np.flipud(worldInterp(t)),'gray',vmin=0,vmax=255,aspect = \"equal\")\n",
    "        \n",
    "        #plot line for time, then remove\n",
    "        ln = axR.vlines(t,-0.5,30,'b')\n",
    "        writer.grab_frame()\n",
    "        ln.remove()\n",
    "        \n",
    "###\n",
    "\n",
    "\n",
    "\n",
    "# generate wave file\n",
    "sp =np.array(ephys_data.at[units[this_unit],'spikeT'])-tr[0]\n",
    "sp = sp[sp>0]\n",
    "datarate = 30000\n",
    "f = 440.0       # sound frequency (Hz)\n",
    "# Compute waveform samples\n",
    "tmax = tr[1]-tr[0]\n",
    "t = np.linspace(0, tr[1]-tr[0], (tr[1]-tr[0])*datarate,endpoint=False)\n",
    "x = np.zeros(np.size(t))\n",
    "for spt in sp[sp<tmax]:\n",
    "    x[np.int64(spt*datarate) : np.int64(spt*datarate +30)] = 1\n",
    "    x[np.int64(spt*datarate)+31 : np.int64(spt*datarate +60)] =- 1\n",
    "plt.plot(x)\n",
    "    \n",
    "\n",
    "# Write the samples to a file\n",
    "wavio.write(\"wn_spike1.wav\", x, datarate, sampwidth=1)"
   ]
  },
  {
   "cell_type": "code",
   "execution_count": null,
   "metadata": {},
   "outputs": [],
   "source": [
    "#https://cloudconvert.com/wav-to-mp3\n",
    "# https://www.kapwing.com/tools/add-music-to-video"
   ]
  },
  {
   "cell_type": "code",
   "execution_count": null,
   "metadata": {
    "scrolled": true
   },
   "outputs": [],
   "source": [
    "# normalize world video\n",
    "im_std = np.std(world_vid,axis=0)\n",
    "im_std = 32;\n",
    "img_norm = (world_vid-np.mean(world_vid,axis=0))/im_std\n",
    "#plt.imshow(im_std)\n",
    "#plt.colorbar()"
   ]
  },
  {
   "cell_type": "code",
   "execution_count": null,
   "metadata": {},
   "outputs": [],
   "source": []
  },
  {
   "cell_type": "code",
   "execution_count": null,
   "metadata": {},
   "outputs": [],
   "source": [
    "plt.imshow(img_norm[0,:,:],vmin=-2,vmax=2)"
   ]
  },
  {
   "cell_type": "code",
   "execution_count": null,
   "metadata": {},
   "outputs": [],
   "source": [
    "#calculate image contrast\n",
    "contrast = np.empty(worldT.size)\n",
    "for i in range(worldT.size):\n",
    "    contrast[i] = np.std(img_norm[i,:,:])\n",
    "plt.plot(worldT[0:1000],contrast[0:1000])\n",
    "plt.xlabel('time')\n",
    "plt.ylabel('contrast')\n"
   ]
  },
  {
   "cell_type": "code",
   "execution_count": null,
   "metadata": {},
   "outputs": [],
   "source": [
    "#set up timebase for subsequent analysis\n",
    "dt = 0.1\n",
    "t = np.arange(0, np.max(worldT),dt)"
   ]
  },
  {
   "cell_type": "code",
   "execution_count": null,
   "metadata": {},
   "outputs": [],
   "source": [
    "# interpolate and plot contrast\n",
    "newc =interp1d(worldT,contrast)\n",
    "contrast_interp = newc(t[0:-1])\n",
    "contrast_interp.shape\n",
    "plt.plot(contrast_interp[0:600])"
   ]
  },
  {
   "cell_type": "code",
   "execution_count": null,
   "metadata": {},
   "outputs": [],
   "source": [
    "# calculate firing rate at new timebase\n",
    "ephys_data['rate'] = nan\n",
    "ephys_data['rate'] = ephys_data['rate'].astype(object)\n",
    "for i,ind in enumerate(ephys_data.index):\n",
    "    ephys_data.at[ind,'rate'],bins = np.histogram(ephys_data.at[ind,'spikeT'],t                                             )\n",
    "ephys_data['rate']= ephys_data['rate']/dt\n",
    "goodcells = ephys_data.loc[ephys_data['group']=='good']\n",
    "goodcells"
   ]
  },
  {
   "cell_type": "code",
   "execution_count": null,
   "metadata": {},
   "outputs": [],
   "source": [
    "# plot firing rates\n",
    "for i, ind in enumerate(goodcells.index):\n",
    "    plt.subplot(7,2,i+1)\n",
    "    plt.plot(t[0:-1],goodcells.at[ind,'rate'])"
   ]
  },
  {
   "cell_type": "code",
   "execution_count": null,
   "metadata": {},
   "outputs": [],
   "source": [
    "#scatter of contrast vs rate\n",
    "plt.figure(figsize = (12,4))\n",
    "for i, ind in enumerate(goodcells.index):\n",
    "    plt.subplot(7,2,i+1)\n",
    "    plt.plot(contrast_interp,goodcells.at[ind,'rate'],'.')\n",
    "plt.xlabel('contrast')\n",
    "plt.ylabel('rate')"
   ]
  },
  {
   "cell_type": "code",
   "execution_count": null,
   "metadata": {},
   "outputs": [],
   "source": [
    "# calculate contrast - response functions\n",
    "# mean firing rate in timebins correponding to contrast ranges\n",
    "resp = np.empty((6,20))\n",
    "crange = np.arange(0,2,0.1)\n",
    "for i,ind in enumerate(goodcells.index):\n",
    "    for c,cont in enumerate(crange):\n",
    "        resp[i,c] = np.mean(goodcells.at[ind,'rate'][(contrast_interp>cont) & (contrast_interp<(cont+0.1))])\n",
    "plt.plot(crange,np.transpose(resp))\n",
    "#plt.ylim(0,10)\n",
    "plt.xlabel('contrast')\n",
    "plt.ylabel('sp/sec')\n",
    "    "
   ]
  },
  {
   "cell_type": "code",
   "execution_count": null,
   "metadata": {},
   "outputs": [],
   "source": [
    "# plot individual contrast response functions in subplots\n",
    "fig = plt.figure(figsize = (12,8))\n",
    "for i, ind in enumerate(goodcells.index):\n",
    "    plt.subplot(3,5,i+1)\n",
    "    plt.plot(crange[2:-3],resp[i,2:-3])\n",
    "    plt.ylim([0 , max(resp[i,3:-3])*1.2])\n",
    "    plt.xlabel('contrast a.u.'); plt.ylabel('sp/sec')\n",
    "plt.tight_layout()\n",
    "plt.savefig('contrast_resp_101520_fm1_merge.pdf')"
   ]
  },
  {
   "cell_type": "code",
   "execution_count": null,
   "metadata": {},
   "outputs": [],
   "source": [
    "# create interpolator for movie data so we can evaluate at same timebins are firing rate\n",
    "movInterp = interp1d(worldT,img_norm,axis=0)"
   ]
  },
  {
   "cell_type": "code",
   "execution_count": null,
   "metadata": {
    "scrolled": true
   },
   "outputs": [],
   "source": [
    "# calculate spike-triggered average\n",
    "sta = 0\n",
    "lag = -0.1\n",
    "plt.figure(figsize = (12,8))\n",
    "for c, ind in enumerate(goodcells.index):\n",
    "    sta =0\n",
    "    totalR = 0;\n",
    "    r = goodcells.at[ind,'rate']\n",
    "    for i in range(np.uint(t.size*0)+1000,np.uint(t.size*1)-1000):\n",
    "        sta = sta+r[i]*(movInterp(t[i]-lag))\n",
    "        totalR = totalR + r[i]\n",
    "    plt.subplot(3,5,c+1)\n",
    "    sta = sta/totalR\n",
    "    #sta[abs(sta)<0.1]=0\n",
    "    plt.imshow((sta - np.mean(sta)),vmin=-0.5,vmax=0.5,cmap = 'jet')\n",
    "    plt.title(totalR*dt)\n",
    "plt.tight_layout()\n",
    "plt.savefig('sta_101520_vm045_fm_merge.pdf')\n"
   ]
  },
  {
   "cell_type": "code",
   "execution_count": null,
   "metadata": {},
   "outputs": [],
   "source": [
    "# calculate spike-triggered average\n",
    "spike_corr = 1 + 0.125/1200\n",
    "sta = 0\n",
    "lag = 0.075\n",
    "lagRange = np.arange(0,0.25,0.05)\n",
    "plt.figure(figsize = (12,8))\n",
    "for c, ind in enumerate(goodcells.index):\n",
    "    sp = goodcells.at[ind,'spikeT'].copy()\n",
    "    for  lagInd, lag in enumerate(lagRange):\n",
    "        sta = 0; nsp = 0\n",
    "        for s in sp:\n",
    "            if (s-lag >5) & ((s-lag)*spike_corr <np.max(worldT)):\n",
    "                nsp = nsp+1\n",
    "                fr = movInterp((s-lag)*spike_corr)\n",
    "                sta = sta+ fr\n",
    "        plt.subplot(6,6,(c*6)+lagInd + 1)\n",
    "        sta = sta/nsp\n",
    "    #sta[abs(sta)<0.1]=0\n",
    "        plt.imshow((sta-np.mean(sta) ),vmin=-0.35,vmax=0.35,cmap = 'jet')\n",
    "plt.tight_layout()\n",
    "plt.savefig(name_base + '_sta.pdf')"
   ]
  },
  {
   "cell_type": "code",
   "execution_count": null,
   "metadata": {},
   "outputs": [],
   "source": [
    "# calculate spike-triggered variance\n",
    "sta = 0\n",
    "lag = 0.075\n",
    "plt.figure(figsize = (12,8))\n",
    "for c, ind in enumerate(goodcells.index):\n",
    "    sta = 0\n",
    "    r = goodcells.at[ind,'rate']\n",
    "    for i in range(5,t.size-10):\n",
    "        sta = sta+r[i]*(movInterp(t[i]-lag))**2\n",
    "    plt.subplot(3,5,c+1)\n",
    "    sta = sta/np.sum(r)\n",
    "    plt.imshow(sta)\n",
    "plt.tight_layout()"
   ]
  },
  {
   "cell_type": "code",
   "execution_count": null,
   "metadata": {},
   "outputs": [],
   "source": [
    "# calculate saccade-locked psth\n",
    "fig = plt.figure(figsize = (12,8))\n",
    "trange = np.arange(-5,5.1,0.1)\n",
    "sthresh = 5;\n",
    "upsacc = eyeT[np.append(dEye,0)>sthresh].copy()\n",
    "upsacc = upsacc[upsacc>5]  # buffer at beginning\n",
    "downsacc= eyeT[np.append(dEye,0)<-sthresh].copy()\n",
    "downsacc = downsacc[downsacc>5] #buffer at beginning\n",
    "upsacc_avg = np.zeros((units.size,trange.size))\n",
    "downsacc_avg = np.zeros((units.size,trange.size))\n",
    "for i, ind in enumerate(goodcells.index):\n",
    "    rateInterp = interp1d(t[0:-1],goodcells.at[ind,'rate'])\n",
    "    for s in upsacc:\n",
    "        upsacc_avg[i,:] = upsacc_avg[i,:]+ rateInterp(np.array(s)+trange)/upsacc.size\n",
    "    for s in downsacc:\n",
    "        downsacc_avg[i,:]= downsacc_avg[i,:]+ rateInterp(np.array(s)+trange)/upsacc.size\n",
    "    plt.subplot(3,5,i+1)\n",
    "    plt.plot(trange,upsacc_avg[i,:])\n",
    "    plt.plot(trange,downsacc_avg[i,:],'r')\n",
    "    plt.vlines(0,0,np.max(upsacc_avg[i,:]*0.2),'r')\n",
    "    plt.ylim([0, np.max(np.concatenate((upsacc_avg[i,:],downsacc_avg[i,:]),axis = None))*1.2])\n",
    "    plt.ylabel('sp/sec')\n",
    "plt.tight_layout()\n",
    "plt.savefig('saccade_101520_fm1_merge.pdf')\n",
    "        \n"
   ]
  },
  {
   "cell_type": "code",
   "execution_count": null,
   "metadata": {},
   "outputs": [],
   "source": [
    "fig = plt.figure(figsize = (12,8))\n",
    "ns = np.zeros((6,len(upsacc)+1))\n",
    "for i, ind in enumerate(goodcells.index):\n",
    "    sp = np.array(goodcells.at[units[i],'spikeT'])*spike_corr\n",
    "    plt.subplot(2,3,i+1)\n",
    "    n = 0\n",
    "    for s in upsacc:\n",
    "        n= n+1\n",
    "        sd = np.abs(sp-np.array(s))<1\n",
    "        sacc_sp = sp[sd]\n",
    "        ns[i,n] =len(sacc_sp)\n",
    "        plt.vlines(sacc_sp-np.array(s),n-0.25,n+0.25)\n",
    "    plt.xlim(-1,1)\n",
    "   # plt.ylim(0,25)\n",
    "plt.savefig('saccade_upraster_101520_fm1_merge.pdf')"
   ]
  },
  {
   "cell_type": "code",
   "execution_count": null,
   "metadata": {},
   "outputs": [],
   "source": [
    "np.max(t)"
   ]
  },
  {
   "cell_type": "code",
   "execution_count": null,
   "metadata": {
    "scrolled": true
   },
   "outputs": [],
   "source": [
    "fig = plt.figure(figsize = (12,8))\n",
    "for i, ind in enumerate(goodcells.index):\n",
    "    sp = np.array(goodcells.at[units[i],'spikeT'])*spike_corr\n",
    "    plt.subplot(2,3,i+1)\n",
    "    n = 0\n",
    "    for s in downsacc:\n",
    "        n= n+1\n",
    "        sd = np.abs(sp-np.array(s))<10\n",
    "        sacc_sp = sp[sd]\n",
    "        plt.vlines(sacc_sp-np.array(s),n-0.25,n+0.25)\n",
    "    plt.xlim(-1,1)"
   ]
  },
  {
   "cell_type": "code",
   "execution_count": null,
   "metadata": {},
   "outputs": [],
   "source": [
    "n_units = len(goodcells)\n",
    "sp_range = np.arange(0,25,2)\n",
    "spT = topT[0:-1].copy()\n",
    "useSpT = spT[spT<t[-2]].copy()\n",
    "useSpd = spd[spT<t[-2]].copy()\n",
    "sp_scatter = np.zeros((n_units,len(useSpd)))\n",
    "sp_tuning = np.zeros((n_units,len(sp_range)-1))\n",
    "sp_tuning_err = sp_tuning.copy()\n",
    "for i, ind in enumerate(goodcells.index):\n",
    "    rateInterp = interp1d(t[0:-1],goodcells.at[ind,'rate'])\n",
    "    sp_scatter[i,:] = rateInterp(useSpT)\n",
    "    plt.subplot(2,3,i+1)\n",
    "    plt.scatter(useSpd,sp_scatter[i,:])\n",
    "    plt.xlim([0, 50])\n",
    "    for j in range(len(sp_range)-1):\n",
    "        usePts =(useSpd>sp_range[j]) & (useSpd<sp_range[j+1])\n",
    "        sp_tuning[i,j] = np.mean(sp_scatter[i,usePts])\n",
    "        sp_tuning_err[i,j] = np.std(sp_scatter[i,usePts])/np.sqrt(np.count_nonzero(usePts))"
   ]
  },
  {
   "cell_type": "code",
   "execution_count": null,
   "metadata": {},
   "outputs": [],
   "source": [
    "plt.hist2d(useSpd,sp_scatter[0,:].T,range = [[0,10],[0,50]])"
   ]
  },
  {
   "cell_type": "code",
   "execution_count": null,
   "metadata": {},
   "outputs": [],
   "source": [
    "usePts =(useSpd>sp_range[j]) & (useSpd<sp_range[j+1])\n",
    "sp_tuning[i,j] = np.mean(sp_scatter[i,usePts])\n",
    "sp_tuning_err[i,j] = np.std(sp_scatter[i,usePts])/np.sqrt(np.count_nonzero(usePts))"
   ]
  },
  {
   "cell_type": "code",
   "execution_count": null,
   "metadata": {},
   "outputs": [],
   "source": [
    "sp_scatter[i,usePts]"
   ]
  },
  {
   "cell_type": "code",
   "execution_count": null,
   "metadata": {},
   "outputs": [],
   "source": [
    "for i in range(n_units):\n",
    "    plt.subplot(2,3,i+1)\n",
    "    plt.errorbar(sp_range[:-1],sp_tuning[i,:],yerr=sp_tuning_err[i,:])\n",
    "    plt.ylim(0,15)"
   ]
  },
  {
   "cell_type": "code",
   "execution_count": null,
   "metadata": {},
   "outputs": [],
   "source": []
  },
  {
   "cell_type": "code",
   "execution_count": null,
   "metadata": {},
   "outputs": [],
   "source": [
    "plt.plot(useSpT,sp_scatter[0,:])\n",
    "plt.plot(useSpT, useSpd*5)\n",
    "plt.xlim([300, 325])\n",
    "plt.ylim([0, 100])"
   ]
  },
  {
   "cell_type": "code",
   "execution_count": null,
   "metadata": {},
   "outputs": [],
   "source": [
    "dt"
   ]
  },
  {
   "cell_type": "code",
   "execution_count": null,
   "metadata": {},
   "outputs": [],
   "source": [
    "plt.plot(spd)\n",
    "plt.ylim(0,20)"
   ]
  },
  {
   "cell_type": "code",
   "execution_count": null,
   "metadata": {},
   "outputs": [],
   "source": [
    "Rnorm = (eyeR - np.mean(eyeR))/np.std(eyeR)\n",
    "plt.plot(eyeT,Rnorm)\n",
    "plt.xlim([0,60])\n"
   ]
  },
  {
   "cell_type": "code",
   "execution_count": null,
   "metadata": {},
   "outputs": [],
   "source": [
    "# plot rate vs pupil\n",
    "n_units = len(goodcells)\n",
    "R_range = np.arange(-4,4,0.5)\n",
    "useEyeT = eyeT[(eyeT<t[-2]) & (eyeT>t[0])].copy()\n",
    "useR = Rnorm[(eyeT<t[-2]) & (eyeT>t[0])].copy()\n",
    "R_scatter = np.zeros((n_units,len(useR)))\n",
    "R_tuning = np.zeros((n_units,len(R_range)-1))\n",
    "R_tuning_err =R_tuning.copy()\n",
    "for i, ind in enumerate(goodcells.index):\n",
    "    rateInterp = interp1d(t[0:-1],goodcells.at[ind,'rate'])\n",
    "    R_scatter[i,:] = rateInterp(useEyeT)\n",
    "    for j in range(len(R_range)-1):\n",
    "        usePts =(useR>R_range[j]) & (useR<R_range[j+1])\n",
    "        R_tuning[i,j] = np.mean(R_scatter[i,usePts])\n",
    "        R_tuning_err[i,j] = np.std(R_scatter[i,usePts])/np.sqrt(np.count_nonzero(usePts))\n",
    "\n",
    "fig = plt.figure(figsize = (3*np.ceil(n_units/2),6))\n",
    "for i in range(n_units):\n",
    "    plt.subplot(2,np.ceil(n_units/2),i+1)\n",
    "    plt.errorbar(R_range[:-1],R_tuning[i,:],yerr=R_tuning_err[i,:])\n",
    "    plt.ylim(0,np.nanmax(R_tuning[i,:]*1.2))\n",
    "    plt.xlim([-2, 3])\n",
    "    plt.xlabel('normalized pupil R'); plt. ylabel('sp/sec'); plt.title(i)\n",
    "        \n",
    "        \n",
    "plt.tight_layout()\n",
    "\n",
    "plt.savefig(name_base + '_pupil_R.pdf')"
   ]
  },
  {
   "cell_type": "code",
   "execution_count": null,
   "metadata": {},
   "outputs": [],
   "source": [
    "eyeTheta = eye_params.sel(ellipse_params = 'theta').copy()\n",
    "thetaNorm = (eyeTheta - np.mean(eyeTheta))/np.std(eyeTheta)\n",
    "plt.plot(eyeT[0:3600],thetaNorm[0:3600])\n",
    "plt.xlabel('secs'); plt.ylabel('normalized eye theta')"
   ]
  },
  {
   "cell_type": "code",
   "execution_count": null,
   "metadata": {},
   "outputs": [],
   "source": [
    "# plot rate vs pupil\n",
    "n_units = len(goodcells)\n",
    "th_range = np.arange(-2,3,0.5)\n",
    "useEyeT = eyeT[(eyeT<t[-2]) & (eyeT>t[0])].copy()\n",
    "useTh = thetaNorm[(eyeT<t[-2]) & (eyeT>t[0])].copy()\n",
    "th_scatter = np.zeros((n_units,len(useR)))\n",
    "th_tuning = np.zeros((n_units,len(th_range)-1))\n",
    "th_tuning_err =th_tuning.copy()\n",
    "for i, ind in enumerate(goodcells.index):\n",
    "    rateInterp = interp1d(t[0:-1],goodcells.at[ind,'rate'])\n",
    "    th_scatter[i,:] = rateInterp(useEyeT)\n",
    "    for j in range(len(th_range)-1):\n",
    "        usePts =(useTh>th_range[j]) & (useTh<th_range[j+1])\n",
    "        th_tuning[i,j] = np.mean(th_scatter[i,usePts])\n",
    "        th_tuning_err[i,j] = np.std(th_scatter[i,usePts])/np.sqrt(np.count_nonzero(usePts))\n",
    "\n",
    "fig = plt.figure(figsize = (3*np.ceil(n_units/2),6))\n",
    "for i in range(n_units):\n",
    "    plt.subplot(2,np.ceil(n_units/2),i+1)\n",
    "    plt.errorbar(th_range[:-1],th_tuning[i,:],yerr=th_tuning_err[i,:])\n",
    "    plt.ylim(0,np.nanmax(th_tuning[i,:]*1.2))\n",
    "    plt.xlim([-2, 2])\n",
    "    plt.xlabel('normalized pupil theta'); plt. ylabel('sp/sec'); plt.title(i)\n",
    "        \n",
    "        \n",
    "plt.tight_layout()\n",
    "plt.savefig(name_base + '_pupil_theta.pdf')"
   ]
  },
  {
   "cell_type": "code",
   "execution_count": null,
   "metadata": {},
   "outputs": [],
   "source": [
    "np.shape(img_norm)[0]"
   ]
  },
  {
   "cell_type": "code",
   "execution_count": null,
   "metadata": {},
   "outputs": [],
   "source": [
    "nf =np.shape(img_norm)[0]\n",
    "cc = np.zeros(nf-1)\n",
    "imgz = np.zeros(np.shape(img_norm))\n",
    "for f in range(nf):\n",
    "    imgz[f,:,:] = (img_norm[f,:,:] - np.mean(img_norm[f,:,:]))/np.std(img_norm[f,:,:])  \n",
    "for f in range(nf-1):\n",
    "    cc[f]= np.mean(imgz[f,:,:]*imgz[f+1,:,:])"
   ]
  },
  {
   "cell_type": "code",
   "execution_count": null,
   "metadata": {},
   "outputs": [],
   "source": [
    "eyeTh = np.array(eye_params.sel(ellipse_params = 'theta')*180/3.1415)\n",
    "eyePhi = np.array(eye_params.sel(ellipse_params = 'phi')*180/3.1415)\n",
    "eyeTh = eyeTh-np.nanmean(eyeTh)\n",
    "eyePhi = eyePhi - np.nanmean(eyePhi)\n",
    "\n",
    "thInterp= interp1d(eyeT,eyeTh,bounds_error = False, fill_value = np.nan)\n",
    "phInterp = interp1d(eyeT,eyePhi,bounds_error = False, fill_value = np.nan)\n",
    "\n",
    "\n",
    "th_cal = 0;\n",
    "phi_cal = -0.1;\n",
    "sx = thInterp(worldT)*th_cal\n",
    "sy = phInterp(worldT)*phi_cal\n",
    "movshift = np.zeros(np.shape(img_norm))\n",
    "for f in range(len(sx)):\n",
    "    movshift[f,:,:] = imshift(img_norm[f,:,:],(sy[f],sx[f]),mode = 'constant',cval = np.nan)\n",
    "    \n",
    "    "
   ]
  },
  {
   "cell_type": "code",
   "execution_count": null,
   "metadata": {},
   "outputs": [],
   "source": [
    "nf =np.shape(img_norm)[0]\n",
    "cc = np.zeros(nf-1)\n",
    "imgz = np.zeros(np.shape(img_norm))\n",
    "for f in range(nf):\n",
    "    imgz[f,:,:] = (movshift[f,:,:] - np.nanmean(movshift[f,:,:]))/np.nanstd(movshift[f,:,:])  \n",
    "for f in range(nf-1):\n",
    "    cc[f]= np.nanmean(imgz[f,:,:]*imgz[f+1,:,:])\n",
    "plt.plot(cc[0:6000])\n",
    "plt.ylim([0.8,1])\n",
    "print(np.nanmean(cc))\n",
    "print(np.nanmedian(cc))"
   ]
  },
  {
   "cell_type": "code",
   "execution_count": null,
   "metadata": {
    "scrolled": true
   },
   "outputs": [],
   "source": [
    "for f in range(8):\n",
    "    plt.subplot(2,4,f+1)\n",
    "    plt.imshow(np.flipud(movshift[f,:,:]))\n",
    "    plt.title(\"th{th: 0.1f} phi {phi:0.1f}\".format(th = sx[f],phi=sy[f]))"
   ]
  },
  {
   "cell_type": "code",
   "execution_count": null,
   "metadata": {},
   "outputs": [],
   "source": [
    "np.array(eye_params.sel(ellipse_params = 'theta'))"
   ]
  },
  {
   "cell_type": "code",
   "execution_count": null,
   "metadata": {},
   "outputs": [],
   "source": [
    "f0 = 941\n",
    "plt.figure(figsize =(12,4))\n",
    "for f in range(-2,3):\n",
    "    plt.subplot(1,5,f+3)\n",
    "    plt.imshow(np.flipud(img_norm[f+f0,:,:]))"
   ]
  },
  {
   "cell_type": "code",
   "execution_count": null,
   "metadata": {},
   "outputs": [],
   "source": [
    "np.where(cc>0.99)"
   ]
  },
  {
   "cell_type": "code",
   "execution_count": null,
   "metadata": {},
   "outputs": [],
   "source": []
  }
 ],
 "metadata": {
  "kernelspec": {
   "display_name": "Python 3",
   "language": "python",
   "name": "python3"
  },
  "language_info": {
   "codemirror_mode": {
    "name": "ipython",
    "version": 3
   },
   "file_extension": ".py",
   "mimetype": "text/x-python",
   "name": "python",
   "nbconvert_exporter": "python",
   "pygments_lexer": "ipython3",
   "version": "3.8.3"
  }
 },
 "nbformat": 4,
 "nbformat_minor": 4
}
