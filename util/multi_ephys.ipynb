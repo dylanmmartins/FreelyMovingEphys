{
 "cells": [
  {
   "cell_type": "code",
   "execution_count": 1,
   "metadata": {},
   "outputs": [],
   "source": [
    "merge_file = r'\\\\new-monster\\T\\freely_moving_ephys\\ephys_recordings\\101520\\G6H28P6LT\\fm1_hf1_ephys\\101520_fm1_hf1_merge.mat'\n"
   ]
  },
  {
   "cell_type": "code",
   "execution_count": 37,
   "metadata": {},
   "outputs": [],
   "source": [
    "# package imports\n",
    "import pandas as pd\n",
    "import numpy as np\n",
    "import xarray as xr\n",
    "import os\n",
    "\n",
    "# module imports\n",
    "#from util.read_data import open_time\n",
    "from scipy.io import loadmat\n",
    "\n",
    "merge_info = loadmat(merge_file)\n",
    "fileList = merge_info['fileList']\n",
    "pathList = merge_info['pathList']\n",
    "nSamps = merge_info['nSamps']\n",
    "\n",
    "phy_path = os.path.split(merge_file)\n",
    "allSpikeT = np.load(os.path.join(phy_path[0],'spike_times.npy'))\n",
    "clust = np.load(os.path.join(phy_path[0],'spike_clusters.npy'))\n",
    "templates = np.load(os.path.join(phy_path[0],'spike_templates.npy'))\n",
    "\n",
    "boundaries = np.concatenate((np.array([0]),np.cumsum(nSamps)))"
   ]
  },
  {
   "cell_type": "code",
   "execution_count": 55,
   "metadata": {},
   "outputs": [
    {
     "name": "stdout",
     "output_type": "stream",
     "text": [
      "0\n",
      "77104\n",
      "1\n",
      "29895\n"
     ]
    }
   ],
   "source": [
    "for s in range(len(nSamps)+1):\n",
    "    print(s) \n",
    "    use = (allSpikeT >= boundaries[s]) & (allSpikeT<boundaries[s+1] )\n",
    "    theseSpikes = allSpikeT[use]\n",
    "    theseClust = clust[use]\n",
    "    print(len(theseSpikes))"
   ]
  },
  {
   "cell_type": "code",
   "execution_count": 52,
   "metadata": {},
   "outputs": [
    {
     "data": {
      "text/plain": [
       "array([0])"
      ]
     },
     "execution_count": 52,
     "metadata": {},
     "output_type": "execute_result"
    }
   ],
   "source": [
    "np.arange(len(nSamps))"
   ]
  },
  {
   "cell_type": "code",
   "execution_count": 54,
   "metadata": {},
   "outputs": [
    {
     "name": "stdout",
     "output_type": "stream",
     "text": [
      "0\n",
      "1\n"
     ]
    }
   ],
   "source": [
    "for s in range(2):\n",
    "    print(s)"
   ]
  },
  {
   "cell_type": "code",
   "execution_count": null,
   "metadata": {},
   "outputs": [],
   "source": [
    "\n",
    "allSpikeT = np.load(spike_times_path)\n",
    "    allSpikeT = allSpikeT/config['ephys_sample_rate']  # should be a lookup table with timestamps\n",
    "    duration = np.max(allSpikeT)\n",
    "    ephys_data = pd.read_csv(cluster_info_path,sep = '\\t',index_col=0)\n",
    "    clust = np.load(spike_clusters_path)\n",
    "    ephys_data['spikeT'] = np.nan\n",
    "    ephys_data['spikeT'] = ephys_data['spikeT'].astype(object)\n",
    "    # get spiketimes for each cluster\n",
    "    for c in np.unique(clust):\n",
    "        ephys_data.at[c,'spikeT'] =allSpikeT[clust==c].flatten()\n",
    "    # get waveform templates\n",
    "    templates = np.load(templates_path)\n",
    "    ephys_data['waveform'] = np.nan\n",
    "    ephys_data['waveform'] = ephys_data['spikeT'].astype(object)\n",
    "    for i, ind in enumerate(ephys_data.index):\n",
    "        ephys_data.at[ind,'waveform'] = templates[ind,21:,ephys_data.at[ind,'ch']]\n",
    "    # first timepoint\n",
    "    ephys_data['t0'] = open_time(ephys_time_path)[0]"
   ]
  }
 ],
 "metadata": {
  "kernelspec": {
   "display_name": "Python 3",
   "language": "python",
   "name": "python3"
  },
  "language_info": {
   "codemirror_mode": {
    "name": "ipython",
    "version": 3
   },
   "file_extension": ".py",
   "mimetype": "text/x-python",
   "name": "python",
   "nbconvert_exporter": "python",
   "pygments_lexer": "ipython3",
   "version": "3.8.3"
  }
 },
 "nbformat": 4,
 "nbformat_minor": 4
}
